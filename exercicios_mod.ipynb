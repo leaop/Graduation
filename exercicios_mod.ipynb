{
  "cells": [
    {
      "cell_type": "markdown",
      "metadata": {
        "id": "view-in-github",
        "colab_type": "text"
      },
      "source": [
        "<a href=\"https://colab.research.google.com/github/leaop/Graduation/blob/main/exercicios_mod.ipynb\" target=\"_parent\"><img src=\"https://colab.research.google.com/assets/colab-badge.svg\" alt=\"Open In Colab\"/></a>"
      ]
    },
    {
      "cell_type": "code",
      "execution_count": null,
      "metadata": {
        "id": "guOJ13INYUSk"
      },
      "outputs": [],
      "source": [
        "import pandas as pd\n",
        "\n",
        "df = pd.read_csv('titanic.csv')"
      ]
    },
    {
      "cell_type": "markdown",
      "metadata": {
        "id": "AlY89r68YUSn"
      },
      "source": [
        "A base de dados Titanic representa informações sobre os passageiros do navio Titanic, que naufragou em 1912. A base contém informações como a classe em que o passageiro viajou, o sexo, a idade, o número de irmãos/cônjuges a bordo, o número de pais/filhos a bordo, a tarifa paga, o porto de embarque, se sobreviveu ou não, entre outras."
      ]
    },
    {
      "cell_type": "markdown",
      "metadata": {
        "id": "vjLfXB1jYUSo"
      },
      "source": [
        "# 1 - Qual a quantidade de passageiros que sobreviveram e que não sobreviveram?"
      ]
    },
    {
      "cell_type": "code",
      "execution_count": null,
      "metadata": {
        "colab": {
          "base_uri": "https://localhost:8080/",
          "height": 583
        },
        "id": "u_RsVC2SYUSp",
        "outputId": "7f1ac829-006e-4c3c-d27e-68cf87936c53"
      },
      "outputs": [
        {
          "output_type": "execute_result",
          "data": {
            "text/plain": [
              "  Sobreviveu    Classe                                               Nome  \\\n",
              "0        Não  Terceira                             Mr. Owen Harris Braund   \n",
              "1        Sim  Primeira  Mrs. John Bradley (Florence Briggs Thayer) Cum...   \n",
              "2        Sim  Terceira                              Miss. Laina Heikkinen   \n",
              "3        Sim  Primeira        Mrs. Jacques Heath (Lily May Peel) Futrelle   \n",
              "4        Não  Terceira                            Mr. William Henry Allen   \n",
              "\n",
              "        Sexo  Idade  Irmãos/Cônjuges a bordo  Pais/Filhos a bordo   Tarifa  \n",
              "0  Masculino   22.0                        1                    0   7.2500  \n",
              "1   Feminino   38.0                        1                    0  71.2833  \n",
              "2   Feminino   26.0                        0                    0   7.9250  \n",
              "3   Feminino   35.0                        1                    0  53.1000  \n",
              "4  Masculino   35.0                        0                    0   8.0500  "
            ],
            "text/html": [
              "\n",
              "  <div id=\"df-b59e908a-ce91-4784-9e58-1fdc3e90d7a3\">\n",
              "    <div class=\"colab-df-container\">\n",
              "      <div>\n",
              "<style scoped>\n",
              "    .dataframe tbody tr th:only-of-type {\n",
              "        vertical-align: middle;\n",
              "    }\n",
              "\n",
              "    .dataframe tbody tr th {\n",
              "        vertical-align: top;\n",
              "    }\n",
              "\n",
              "    .dataframe thead th {\n",
              "        text-align: right;\n",
              "    }\n",
              "</style>\n",
              "<table border=\"1\" class=\"dataframe\">\n",
              "  <thead>\n",
              "    <tr style=\"text-align: right;\">\n",
              "      <th></th>\n",
              "      <th>Sobreviveu</th>\n",
              "      <th>Classe</th>\n",
              "      <th>Nome</th>\n",
              "      <th>Sexo</th>\n",
              "      <th>Idade</th>\n",
              "      <th>Irmãos/Cônjuges a bordo</th>\n",
              "      <th>Pais/Filhos a bordo</th>\n",
              "      <th>Tarifa</th>\n",
              "    </tr>\n",
              "  </thead>\n",
              "  <tbody>\n",
              "    <tr>\n",
              "      <th>0</th>\n",
              "      <td>Não</td>\n",
              "      <td>Terceira</td>\n",
              "      <td>Mr. Owen Harris Braund</td>\n",
              "      <td>Masculino</td>\n",
              "      <td>22.0</td>\n",
              "      <td>1</td>\n",
              "      <td>0</td>\n",
              "      <td>7.2500</td>\n",
              "    </tr>\n",
              "    <tr>\n",
              "      <th>1</th>\n",
              "      <td>Sim</td>\n",
              "      <td>Primeira</td>\n",
              "      <td>Mrs. John Bradley (Florence Briggs Thayer) Cum...</td>\n",
              "      <td>Feminino</td>\n",
              "      <td>38.0</td>\n",
              "      <td>1</td>\n",
              "      <td>0</td>\n",
              "      <td>71.2833</td>\n",
              "    </tr>\n",
              "    <tr>\n",
              "      <th>2</th>\n",
              "      <td>Sim</td>\n",
              "      <td>Terceira</td>\n",
              "      <td>Miss. Laina Heikkinen</td>\n",
              "      <td>Feminino</td>\n",
              "      <td>26.0</td>\n",
              "      <td>0</td>\n",
              "      <td>0</td>\n",
              "      <td>7.9250</td>\n",
              "    </tr>\n",
              "    <tr>\n",
              "      <th>3</th>\n",
              "      <td>Sim</td>\n",
              "      <td>Primeira</td>\n",
              "      <td>Mrs. Jacques Heath (Lily May Peel) Futrelle</td>\n",
              "      <td>Feminino</td>\n",
              "      <td>35.0</td>\n",
              "      <td>1</td>\n",
              "      <td>0</td>\n",
              "      <td>53.1000</td>\n",
              "    </tr>\n",
              "    <tr>\n",
              "      <th>4</th>\n",
              "      <td>Não</td>\n",
              "      <td>Terceira</td>\n",
              "      <td>Mr. William Henry Allen</td>\n",
              "      <td>Masculino</td>\n",
              "      <td>35.0</td>\n",
              "      <td>0</td>\n",
              "      <td>0</td>\n",
              "      <td>8.0500</td>\n",
              "    </tr>\n",
              "  </tbody>\n",
              "</table>\n",
              "</div>\n",
              "      <button class=\"colab-df-convert\" onclick=\"convertToInteractive('df-b59e908a-ce91-4784-9e58-1fdc3e90d7a3')\"\n",
              "              title=\"Convert this dataframe to an interactive table.\"\n",
              "              style=\"display:none;\">\n",
              "        \n",
              "  <svg xmlns=\"http://www.w3.org/2000/svg\" height=\"24px\"viewBox=\"0 0 24 24\"\n",
              "       width=\"24px\">\n",
              "    <path d=\"M0 0h24v24H0V0z\" fill=\"none\"/>\n",
              "    <path d=\"M18.56 5.44l.94 2.06.94-2.06 2.06-.94-2.06-.94-.94-2.06-.94 2.06-2.06.94zm-11 1L8.5 8.5l.94-2.06 2.06-.94-2.06-.94L8.5 2.5l-.94 2.06-2.06.94zm10 10l.94 2.06.94-2.06 2.06-.94-2.06-.94-.94-2.06-.94 2.06-2.06.94z\"/><path d=\"M17.41 7.96l-1.37-1.37c-.4-.4-.92-.59-1.43-.59-.52 0-1.04.2-1.43.59L10.3 9.45l-7.72 7.72c-.78.78-.78 2.05 0 2.83L4 21.41c.39.39.9.59 1.41.59.51 0 1.02-.2 1.41-.59l7.78-7.78 2.81-2.81c.8-.78.8-2.07 0-2.86zM5.41 20L4 18.59l7.72-7.72 1.47 1.35L5.41 20z\"/>\n",
              "  </svg>\n",
              "      </button>\n",
              "      \n",
              "  <style>\n",
              "    .colab-df-container {\n",
              "      display:flex;\n",
              "      flex-wrap:wrap;\n",
              "      gap: 12px;\n",
              "    }\n",
              "\n",
              "    .colab-df-convert {\n",
              "      background-color: #E8F0FE;\n",
              "      border: none;\n",
              "      border-radius: 50%;\n",
              "      cursor: pointer;\n",
              "      display: none;\n",
              "      fill: #1967D2;\n",
              "      height: 32px;\n",
              "      padding: 0 0 0 0;\n",
              "      width: 32px;\n",
              "    }\n",
              "\n",
              "    .colab-df-convert:hover {\n",
              "      background-color: #E2EBFA;\n",
              "      box-shadow: 0px 1px 2px rgba(60, 64, 67, 0.3), 0px 1px 3px 1px rgba(60, 64, 67, 0.15);\n",
              "      fill: #174EA6;\n",
              "    }\n",
              "\n",
              "    [theme=dark] .colab-df-convert {\n",
              "      background-color: #3B4455;\n",
              "      fill: #D2E3FC;\n",
              "    }\n",
              "\n",
              "    [theme=dark] .colab-df-convert:hover {\n",
              "      background-color: #434B5C;\n",
              "      box-shadow: 0px 1px 3px 1px rgba(0, 0, 0, 0.15);\n",
              "      filter: drop-shadow(0px 1px 2px rgba(0, 0, 0, 0.3));\n",
              "      fill: #FFFFFF;\n",
              "    }\n",
              "  </style>\n",
              "\n",
              "      <script>\n",
              "        const buttonEl =\n",
              "          document.querySelector('#df-b59e908a-ce91-4784-9e58-1fdc3e90d7a3 button.colab-df-convert');\n",
              "        buttonEl.style.display =\n",
              "          google.colab.kernel.accessAllowed ? 'block' : 'none';\n",
              "\n",
              "        async function convertToInteractive(key) {\n",
              "          const element = document.querySelector('#df-b59e908a-ce91-4784-9e58-1fdc3e90d7a3');\n",
              "          const dataTable =\n",
              "            await google.colab.kernel.invokeFunction('convertToInteractive',\n",
              "                                                     [key], {});\n",
              "          if (!dataTable) return;\n",
              "\n",
              "          const docLinkHtml = 'Like what you see? Visit the ' +\n",
              "            '<a target=\"_blank\" href=https://colab.research.google.com/notebooks/data_table.ipynb>data table notebook</a>'\n",
              "            + ' to learn more about interactive tables.';\n",
              "          element.innerHTML = '';\n",
              "          dataTable['output_type'] = 'display_data';\n",
              "          await google.colab.output.renderOutput(dataTable, element);\n",
              "          const docLink = document.createElement('div');\n",
              "          docLink.innerHTML = docLinkHtml;\n",
              "          element.appendChild(docLink);\n",
              "        }\n",
              "      </script>\n",
              "    </div>\n",
              "  </div>\n",
              "  "
            ]
          },
          "metadata": {},
          "execution_count": 4
        }
      ],
      "source": [
        "#informação das primeiras linhas e colunas\n",
        "df.head()"
      ]
    },
    {
      "cell_type": "code",
      "execution_count": null,
      "metadata": {
        "colab": {
          "base_uri": "https://localhost:8080/"
        },
        "id": "Jhkw1Q66YUSp",
        "outputId": "8e93d9dd-d92a-4125-b8b2-61c41a85e3e6"
      },
      "outputs": [
        {
          "output_type": "execute_result",
          "data": {
            "text/plain": [
              "Não    545\n",
              "Sim    342\n",
              "Name: Sobreviveu, dtype: int64"
            ]
          },
          "metadata": {},
          "execution_count": 5
        }
      ],
      "source": [
        "#Contagem dos valores da coluna desejada\n",
        "df.Sobreviveu.value_counts()"
      ]
    },
    {
      "cell_type": "markdown",
      "metadata": {
        "id": "B9RzAjzgYUSq"
      },
      "source": [
        "# 2 - Qual a porcentagem de homens e a porcentagem de mulheres que sobreviveram?"
      ]
    },
    {
      "cell_type": "code",
      "execution_count": null,
      "metadata": {
        "colab": {
          "base_uri": "https://localhost:8080/"
        },
        "id": "cG4meIqAYUSq",
        "outputId": "cad0c12a-3e1e-47ea-8910-57de2e9482a9"
      },
      "outputs": [
        {
          "output_type": "execute_result",
          "data": {
            "text/plain": [
              "74.20382165605096"
            ]
          },
          "metadata": {},
          "execution_count": 9
        }
      ],
      "source": [
        "#loc - trava em determinada coluna\n",
        "#seleção da coluna e dos valores feitas parar estabelecer uma correlação\n",
        "#shape normalmente retorna a quantidade de registro[0], linhas[1] e colunas[2]\n",
        "#atribuo uma variável somente com a quantidade de registro e faço a formula depois\n",
        "total_fem_sob = df.loc[(df['Sexo'] == 'Feminino' ) & (df['Sobreviveu'] == 'Sim')].shape[0]\n",
        "total_fem =  df.loc[(df['Sexo'] == 'Feminino')].shape[0]\n",
        "\n",
        "total_fem_sob * 100 / total_fem"
      ]
    },
    {
      "cell_type": "code",
      "execution_count": null,
      "metadata": {
        "id": "VdzSGa2vYUSq",
        "colab": {
          "base_uri": "https://localhost:8080/"
        },
        "outputId": "494cabcb-8963-4379-bb17-93d2c5c2451a"
      },
      "outputs": [
        {
          "output_type": "execute_result",
          "data": {
            "text/plain": [
              "34.71337579617835"
            ]
          },
          "metadata": {},
          "execution_count": 7
        }
      ],
      "source": [
        "total_mas_sob = df.loc[(df['Sexo'] == 'Masculino') & (df['Sobreviveu'] == 'Sim')].shape[0]\n",
        "total_mas = df.loc[(df['Sexo'] == 'Masculino')].shape[0]\n",
        "\n",
        "total_mas_sob * 100 / total_fem"
      ]
    },
    {
      "cell_type": "markdown",
      "metadata": {
        "id": "hkrjpfE4YUSq"
      },
      "source": [
        "# 3 - Qual a idade média dos passageiros?"
      ]
    },
    {
      "cell_type": "code",
      "execution_count": null,
      "metadata": {
        "colab": {
          "base_uri": "https://localhost:8080/"
        },
        "id": "Vg87GwCvYUSr",
        "outputId": "36457935-f18c-4383-ca86-5e5b48778c17"
      },
      "outputs": [
        {
          "output_type": "stream",
          "name": "stdout",
          "text": [
            "29.471443066516347\n"
          ]
        }
      ],
      "source": [
        "#chamo uma variável e dou a ela a media de \n",
        "media_idade = df['Idade'].mean()\n",
        "print(media_idade)"
      ]
    },
    {
      "cell_type": "code",
      "execution_count": null,
      "metadata": {
        "id": "Eax8d66TYUSr"
      },
      "outputs": [],
      "source": []
    },
    {
      "cell_type": "markdown",
      "metadata": {
        "id": "7_q9eMzJYUSr"
      },
      "source": [
        "# 4 - Qual a tarifa média paga pelos passageiros?"
      ]
    },
    {
      "cell_type": "code",
      "execution_count": null,
      "metadata": {
        "colab": {
          "base_uri": "https://localhost:8080/"
        },
        "id": "y3eg5CBqYUSs",
        "outputId": "38633f78-f4bb-48f8-bd38-2025e1877b78"
      },
      "outputs": [
        {
          "output_type": "stream",
          "name": "stdout",
          "text": [
            "32.30542018038331\n"
          ]
        }
      ],
      "source": [
        "media_tarifa = df['Tarifa'].mean()\n",
        "print(media_tarifa)"
      ]
    },
    {
      "cell_type": "code",
      "execution_count": null,
      "metadata": {
        "id": "qdE6speJYUSs"
      },
      "outputs": [],
      "source": []
    },
    {
      "cell_type": "markdown",
      "metadata": {
        "id": "gRfQKyqMYUSs"
      },
      "source": [
        "# 5 - Qual a correlação entre a idade e a tarifa paga?"
      ]
    },
    {
      "cell_type": "code",
      "execution_count": null,
      "metadata": {
        "colab": {
          "base_uri": "https://localhost:8080/",
          "height": 175
        },
        "id": "ewmIYeMLYUSs",
        "outputId": "2806e173-5c17-4738-b644-8225598c1591"
      },
      "outputs": [
        {
          "output_type": "execute_result",
          "data": {
            "text/plain": [
              "                            Idade  Irmãos/Cônjuges a bordo  \\\n",
              "Idade                    1.000000                -0.297669   \n",
              "Irmãos/Cônjuges a bordo -0.297669                 1.000000   \n",
              "Pais/Filhos a bordo     -0.193741                 0.414244   \n",
              "Tarifa                   0.112329                 0.158839   \n",
              "\n",
              "                         Pais/Filhos a bordo    Tarifa  \n",
              "Idade                              -0.193741  0.112329  \n",
              "Irmãos/Cônjuges a bordo             0.414244  0.158839  \n",
              "Pais/Filhos a bordo                 1.000000  0.215470  \n",
              "Tarifa                              0.215470  1.000000  "
            ],
            "text/html": [
              "\n",
              "  <div id=\"df-9b76f7db-9c85-4573-b92a-32ad4b3944b8\">\n",
              "    <div class=\"colab-df-container\">\n",
              "      <div>\n",
              "<style scoped>\n",
              "    .dataframe tbody tr th:only-of-type {\n",
              "        vertical-align: middle;\n",
              "    }\n",
              "\n",
              "    .dataframe tbody tr th {\n",
              "        vertical-align: top;\n",
              "    }\n",
              "\n",
              "    .dataframe thead th {\n",
              "        text-align: right;\n",
              "    }\n",
              "</style>\n",
              "<table border=\"1\" class=\"dataframe\">\n",
              "  <thead>\n",
              "    <tr style=\"text-align: right;\">\n",
              "      <th></th>\n",
              "      <th>Idade</th>\n",
              "      <th>Irmãos/Cônjuges a bordo</th>\n",
              "      <th>Pais/Filhos a bordo</th>\n",
              "      <th>Tarifa</th>\n",
              "    </tr>\n",
              "  </thead>\n",
              "  <tbody>\n",
              "    <tr>\n",
              "      <th>Idade</th>\n",
              "      <td>1.000000</td>\n",
              "      <td>-0.297669</td>\n",
              "      <td>-0.193741</td>\n",
              "      <td>0.112329</td>\n",
              "    </tr>\n",
              "    <tr>\n",
              "      <th>Irmãos/Cônjuges a bordo</th>\n",
              "      <td>-0.297669</td>\n",
              "      <td>1.000000</td>\n",
              "      <td>0.414244</td>\n",
              "      <td>0.158839</td>\n",
              "    </tr>\n",
              "    <tr>\n",
              "      <th>Pais/Filhos a bordo</th>\n",
              "      <td>-0.193741</td>\n",
              "      <td>0.414244</td>\n",
              "      <td>1.000000</td>\n",
              "      <td>0.215470</td>\n",
              "    </tr>\n",
              "    <tr>\n",
              "      <th>Tarifa</th>\n",
              "      <td>0.112329</td>\n",
              "      <td>0.158839</td>\n",
              "      <td>0.215470</td>\n",
              "      <td>1.000000</td>\n",
              "    </tr>\n",
              "  </tbody>\n",
              "</table>\n",
              "</div>\n",
              "      <button class=\"colab-df-convert\" onclick=\"convertToInteractive('df-9b76f7db-9c85-4573-b92a-32ad4b3944b8')\"\n",
              "              title=\"Convert this dataframe to an interactive table.\"\n",
              "              style=\"display:none;\">\n",
              "        \n",
              "  <svg xmlns=\"http://www.w3.org/2000/svg\" height=\"24px\"viewBox=\"0 0 24 24\"\n",
              "       width=\"24px\">\n",
              "    <path d=\"M0 0h24v24H0V0z\" fill=\"none\"/>\n",
              "    <path d=\"M18.56 5.44l.94 2.06.94-2.06 2.06-.94-2.06-.94-.94-2.06-.94 2.06-2.06.94zm-11 1L8.5 8.5l.94-2.06 2.06-.94-2.06-.94L8.5 2.5l-.94 2.06-2.06.94zm10 10l.94 2.06.94-2.06 2.06-.94-2.06-.94-.94-2.06-.94 2.06-2.06.94z\"/><path d=\"M17.41 7.96l-1.37-1.37c-.4-.4-.92-.59-1.43-.59-.52 0-1.04.2-1.43.59L10.3 9.45l-7.72 7.72c-.78.78-.78 2.05 0 2.83L4 21.41c.39.39.9.59 1.41.59.51 0 1.02-.2 1.41-.59l7.78-7.78 2.81-2.81c.8-.78.8-2.07 0-2.86zM5.41 20L4 18.59l7.72-7.72 1.47 1.35L5.41 20z\"/>\n",
              "  </svg>\n",
              "      </button>\n",
              "      \n",
              "  <style>\n",
              "    .colab-df-container {\n",
              "      display:flex;\n",
              "      flex-wrap:wrap;\n",
              "      gap: 12px;\n",
              "    }\n",
              "\n",
              "    .colab-df-convert {\n",
              "      background-color: #E8F0FE;\n",
              "      border: none;\n",
              "      border-radius: 50%;\n",
              "      cursor: pointer;\n",
              "      display: none;\n",
              "      fill: #1967D2;\n",
              "      height: 32px;\n",
              "      padding: 0 0 0 0;\n",
              "      width: 32px;\n",
              "    }\n",
              "\n",
              "    .colab-df-convert:hover {\n",
              "      background-color: #E2EBFA;\n",
              "      box-shadow: 0px 1px 2px rgba(60, 64, 67, 0.3), 0px 1px 3px 1px rgba(60, 64, 67, 0.15);\n",
              "      fill: #174EA6;\n",
              "    }\n",
              "\n",
              "    [theme=dark] .colab-df-convert {\n",
              "      background-color: #3B4455;\n",
              "      fill: #D2E3FC;\n",
              "    }\n",
              "\n",
              "    [theme=dark] .colab-df-convert:hover {\n",
              "      background-color: #434B5C;\n",
              "      box-shadow: 0px 1px 3px 1px rgba(0, 0, 0, 0.15);\n",
              "      filter: drop-shadow(0px 1px 2px rgba(0, 0, 0, 0.3));\n",
              "      fill: #FFFFFF;\n",
              "    }\n",
              "  </style>\n",
              "\n",
              "      <script>\n",
              "        const buttonEl =\n",
              "          document.querySelector('#df-9b76f7db-9c85-4573-b92a-32ad4b3944b8 button.colab-df-convert');\n",
              "        buttonEl.style.display =\n",
              "          google.colab.kernel.accessAllowed ? 'block' : 'none';\n",
              "\n",
              "        async function convertToInteractive(key) {\n",
              "          const element = document.querySelector('#df-9b76f7db-9c85-4573-b92a-32ad4b3944b8');\n",
              "          const dataTable =\n",
              "            await google.colab.kernel.invokeFunction('convertToInteractive',\n",
              "                                                     [key], {});\n",
              "          if (!dataTable) return;\n",
              "\n",
              "          const docLinkHtml = 'Like what you see? Visit the ' +\n",
              "            '<a target=\"_blank\" href=https://colab.research.google.com/notebooks/data_table.ipynb>data table notebook</a>'\n",
              "            + ' to learn more about interactive tables.';\n",
              "          element.innerHTML = '';\n",
              "          dataTable['output_type'] = 'display_data';\n",
              "          await google.colab.output.renderOutput(dataTable, element);\n",
              "          const docLink = document.createElement('div');\n",
              "          docLink.innerHTML = docLinkHtml;\n",
              "          element.appendChild(docLink);\n",
              "        }\n",
              "      </script>\n",
              "    </div>\n",
              "  </div>\n",
              "  "
            ]
          },
          "metadata": {},
          "execution_count": 20
        }
      ],
      "source": [
        "df.corr(method = 'pearson')"
      ]
    },
    {
      "cell_type": "code",
      "execution_count": null,
      "metadata": {
        "id": "tBgZXcrRYUSs"
      },
      "outputs": [],
      "source": []
    },
    {
      "cell_type": "markdown",
      "metadata": {
        "id": "PthBZkTeYUSs"
      },
      "source": [
        "# 6 - Qual a correlação entre a classe em que o passageiro viajou e a chance de sobrevivência?"
      ]
    },
    {
      "cell_type": "code",
      "execution_count": null,
      "metadata": {
        "id": "52X9S08EYUSt"
      },
      "outputs": [],
      "source": [
        "cor = df[[\"Classe\", \"Sobreviveu\"]].corr"
      ]
    },
    {
      "cell_type": "code",
      "execution_count": null,
      "metadata": {
        "id": "0TmavmhiYUSt",
        "colab": {
          "base_uri": "https://localhost:8080/"
        },
        "outputId": "667fabcc-f6d1-4350-a971-f70dc58c546a"
      },
      "outputs": [
        {
          "output_type": "stream",
          "name": "stdout",
          "text": [
            "<bound method DataFrame.corr of        Classe Sobreviveu\n",
            "0    Terceira        Não\n",
            "1    Primeira        Sim\n",
            "2    Terceira        Sim\n",
            "3    Primeira        Sim\n",
            "4    Terceira        Não\n",
            "..        ...        ...\n",
            "882   Segunda        Não\n",
            "883  Primeira        Sim\n",
            "884  Terceira        Não\n",
            "885  Primeira        Sim\n",
            "886  Terceira        Não\n",
            "\n",
            "[887 rows x 2 columns]>\n"
          ]
        }
      ],
      "source": [
        "print(cor)"
      ]
    },
    {
      "cell_type": "markdown",
      "metadata": {
        "id": "UcFyrjbyYUSt"
      },
      "source": [
        "# 7 - Qual o número médio de irmãos/cônjuges a bordo para quem sobreviveu e para quem não sobreviveu?"
      ]
    },
    {
      "cell_type": "code",
      "execution_count": null,
      "metadata": {
        "colab": {
          "base_uri": "https://localhost:8080/"
        },
        "id": "zgPuwJSuYUSt",
        "outputId": "1b5bad2f-f515-4625-c122-223c31e669d0"
      },
      "outputs": [
        {
          "output_type": "stream",
          "name": "stdout",
          "text": [
            "irmaos\n"
          ]
        }
      ],
      "source": [
        "irmaos = df.loc[(df['Irmãos/Cônjuges a bordo']) & (df['Sobreviveu'] == 'Sim')].shape[0]\n",
        "\n",
        "print('irmaos')"
      ]
    },
    {
      "cell_type": "code",
      "execution_count": null,
      "metadata": {
        "id": "IITCa49hYUSt"
      },
      "outputs": [],
      "source": []
    },
    {
      "cell_type": "markdown",
      "metadata": {
        "id": "ZUdx22JSYUSt"
      },
      "source": [
        "# 8 - Qual o número médio de pais/filhos a bordo para quem sobreviveu e para quem não sobreviveu?"
      ]
    },
    {
      "cell_type": "code",
      "execution_count": null,
      "metadata": {
        "id": "iWIPr9I5YUSu"
      },
      "outputs": [],
      "source": []
    },
    {
      "cell_type": "code",
      "execution_count": null,
      "metadata": {
        "id": "7HGT5FOUYUSu"
      },
      "outputs": [],
      "source": []
    },
    {
      "cell_type": "markdown",
      "metadata": {
        "id": "54t4oA6JYUSu"
      },
      "source": [
        "# 9 - Qual a relação entre a tarifa paga e a chance de sobrevivência?"
      ]
    },
    {
      "cell_type": "code",
      "execution_count": null,
      "metadata": {
        "id": "V_0ERa36YUSu"
      },
      "outputs": [],
      "source": []
    },
    {
      "cell_type": "code",
      "execution_count": null,
      "metadata": {
        "id": "Tilc5kfEYUSu"
      },
      "outputs": [],
      "source": []
    },
    {
      "cell_type": "markdown",
      "metadata": {
        "id": "GX89UHxdYUSu"
      },
      "source": [
        "# 10 - Qual o porto de embarque que teve mais passageiros a bordo?"
      ]
    },
    {
      "cell_type": "code",
      "execution_count": null,
      "metadata": {
        "id": "fH3nZRPeYUSu"
      },
      "outputs": [],
      "source": []
    },
    {
      "cell_type": "code",
      "execution_count": null,
      "metadata": {
        "id": "-NnoQV2PYUSv"
      },
      "outputs": [],
      "source": []
    },
    {
      "cell_type": "markdown",
      "metadata": {
        "id": "Kv-ExnafYUSv"
      },
      "source": [
        "# 11 - Faça uma análise exploratória dos dados"
      ]
    },
    {
      "cell_type": "code",
      "execution_count": null,
      "metadata": {
        "id": "HQZr5xGSYUSv"
      },
      "outputs": [],
      "source": []
    },
    {
      "cell_type": "code",
      "execution_count": null,
      "metadata": {
        "id": "54FFC6YFYUSv"
      },
      "outputs": [],
      "source": []
    },
    {
      "cell_type": "markdown",
      "metadata": {
        "id": "1hsrmZUjYUSv"
      },
      "source": [
        "# 12 - Faça o tratamento dos dados:\n",
        "- apagar colunas que não sejam relevantes para o modelo (qual(is) seria(m) esta(s) coluna(s)?)\n",
        "\n",
        "- Converter os valores textuais em numéricos (não existe somente uma forma para isto, mas já aprendemos a usar a função loc..)\n"
      ]
    },
    {
      "cell_type": "code",
      "execution_count": null,
      "metadata": {
        "id": "n9fN2n9dYUSw"
      },
      "outputs": [],
      "source": []
    },
    {
      "cell_type": "code",
      "execution_count": null,
      "metadata": {
        "id": "NwK195i-YUSw"
      },
      "outputs": [],
      "source": []
    },
    {
      "cell_type": "markdown",
      "metadata": {
        "id": "xSuGuxISYUSx"
      },
      "source": [
        "# 13 - Separe os dados em X e y de treinamento e teste.\n",
        "\n",
        "Note que a nossa classe alvo é a primeiro coluna, que informa se o passageiro sobreviveu ou não"
      ]
    },
    {
      "cell_type": "code",
      "execution_count": null,
      "metadata": {
        "id": "7izYW22xYUSx"
      },
      "outputs": [],
      "source": []
    },
    {
      "cell_type": "code",
      "execution_count": null,
      "metadata": {
        "id": "UhZ1VLcgYUSx"
      },
      "outputs": [],
      "source": []
    },
    {
      "cell_type": "markdown",
      "metadata": {
        "id": "sH4xv4YeYUSx"
      },
      "source": [
        "# 14 - Normalize apenas os atributos (X)."
      ]
    },
    {
      "cell_type": "code",
      "execution_count": null,
      "metadata": {
        "id": "kjmF1gf0YUSx"
      },
      "outputs": [],
      "source": []
    },
    {
      "cell_type": "code",
      "execution_count": null,
      "metadata": {
        "id": "UShgh0fRYUSx"
      },
      "outputs": [],
      "source": []
    },
    {
      "cell_type": "markdown",
      "metadata": {
        "id": "jnxHnvQWYUSx"
      },
      "source": [
        "# 15 - Use algum modelo de machine learning para prever a classe alvo"
      ]
    },
    {
      "cell_type": "code",
      "execution_count": null,
      "metadata": {
        "id": "TR-m6nxyYUSx"
      },
      "outputs": [],
      "source": []
    },
    {
      "cell_type": "code",
      "execution_count": null,
      "metadata": {
        "id": "eQbOCrjvYUSx"
      },
      "outputs": [],
      "source": []
    },
    {
      "cell_type": "markdown",
      "metadata": {
        "id": "lLzIizy_YUSy"
      },
      "source": [
        "# 16 - Exiba a acurácia e a matriz de confusão"
      ]
    },
    {
      "cell_type": "code",
      "execution_count": null,
      "metadata": {
        "id": "uNQ31s8fYUSy"
      },
      "outputs": [],
      "source": []
    },
    {
      "cell_type": "code",
      "execution_count": null,
      "metadata": {
        "id": "NE-CIpccYUSy"
      },
      "outputs": [],
      "source": []
    }
  ],
  "metadata": {
    "kernelspec": {
      "display_name": "tf",
      "language": "python",
      "name": "python3"
    },
    "language_info": {
      "codemirror_mode": {
        "name": "ipython",
        "version": 3
      },
      "file_extension": ".py",
      "mimetype": "text/x-python",
      "name": "python",
      "nbconvert_exporter": "python",
      "pygments_lexer": "ipython3",
      "version": "3.9.16"
    },
    "orig_nbformat": 4,
    "colab": {
      "provenance": [],
      "include_colab_link": true
    }
  },
  "nbformat": 4,
  "nbformat_minor": 0
}