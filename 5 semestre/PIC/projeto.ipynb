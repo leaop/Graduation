{
 "cells": [
  {
   "cell_type": "markdown",
   "metadata": {},
   "source": [
    "# Código do P.I.C\n",
    "## Aprendizado de máquina\n",
    "### Predição de valores"
   ]
  },
  {
   "cell_type": "markdown",
   "metadata": {},
   "source": [
    "Quando estamos trabalhando compemrpesas de pequeno porte que adoram o simples nacional, temos que considerar os seguintes gastos operacionais:\n",
    "\n",
    "- Simples nacional \n",
    "- IPTU \n",
    "- IPVA \n",
    "- Luz \n",
    "- Água e esgoto \n",
    "- 10 Funcionários \n",
    "- Contador \n",
    "- Internet e telefone \n",
    "- Risco de perda \n",
    "- Taxa de débito \n",
    "- Taxa de crédito \n",
    "- Adubo \n",
    "\n",
    "Ao todos essas podem ser consdieradas as despesas minimas da empresa. Lógico que ainda podem existir mais, contudo, iremos trabalhar a partir destas."
   ]
  },
  {
   "cell_type": "code",
   "execution_count": 3,
   "metadata": {},
   "outputs": [
    {
     "name": "stdout",
     "output_type": "stream",
     "text": [
      "A Taxa Real do Simples Nacional para a receita bruta de R$ 1200000.0 é de 8.82%\n"
     ]
    }
   ],
   "source": [
    "def calcular_taxa_real_simples_nacional(RBT12):\n",
    "    # Defina as faixas de renda, taxas percentuais e parcelas dedutíveis\n",
    "    faixas = [\n",
    "        (180000.00, 0.04, 0),  # Faixa 1: até R$ 180.000,00 - 4%\n",
    "        (360000.00, 0.073, 5940.00), # Faixa 2: até R$ 360.000,00 - 7.3%\n",
    "        (720000.00, 0.095, 13860.00), # Faixa 3: até R$ 720.000,00 - 9.5%\n",
    "        (1800000.00, 0.1070, 22500.00), # Faixa 4: até R$ 1.800.000,00 - 10.7%\n",
    "        (3600000.00, 0.1430, 87300.00), # Faixa 5: até R$ 3.600.000,00 - 14.3%\n",
    "        (4800000.00, 0.19, 378000.00) # Faixa 6: até R$ 4.800.000,00 - 19%\n",
    "    ]\n",
    "    \n",
    "    # Calcule a taxa real com base na receita bruta total dos últimos 12 meses (RBT12)\n",
    "    taxa_real = 0\n",
    "    for limite, taxa, pd in faixas:\n",
    "        if RBT12 <= limite:\n",
    "            taxa_real = (RBT12 * taxa - pd) / RBT12\n",
    "            break\n",
    "    \n",
    "    return taxa_real\n",
    "\n",
    "# Solicite ao usuário que insira a receita bruta total dos últimos 12 meses\n",
    "RBT12_usuario = float(input(\"Por favor, insira a receita bruta total dos últimos 12 meses (RBT12): R$ \"))\n",
    "taxa_real_calculada = calcular_taxa_real_simples_nacional(RBT12_usuario)\n",
    "print(f\"A Taxa Real do Simples Nacional para a receita bruta de R$ {RBT12_usuario} é de {taxa_real_calculada:.2%}\")\n"
   ]
  },
  {
   "cell_type": "markdown",
   "metadata": {},
   "source": [
    "Como o simples nacional é uma cota unica com a junção de todos os tributos, seu percentual já engloba todos os tributos relatios a comercialização de produtos. "
   ]
  },
  {
   "cell_type": "markdown",
   "metadata": {},
   "source": [
    "O proximo tributo a ser calculado não precisa necessariamente de calculo, pois o governo já oferece o resultado dos calculos por metro quadrado. Trata-se do IPTU, que precisa ser comparado com o lucro total do mes para saber o quanto equivale da despesa"
   ]
  },
  {
   "cell_type": "code",
   "execution_count": 6,
   "metadata": {},
   "outputs": [
    {
     "name": "stdout",
     "output_type": "stream",
     "text": [
      "A porcentagem do IPTU em relação ao RBT12 é de 18.00%\n"
     ]
    }
   ],
   "source": [
    "# Solicite ao usuário que insira o IPTU\n",
    "IPTU_usuario = float(input(\"Por favor, insira o valor do seu IPTU: R$ \"))\n",
    "porcentagem_iptu = (IPTU_usuario / RBT12_usuario) * 100\n",
    "\n",
    "print(f\"A porcentagem do IPTU em relação ao RBT12 é de {porcentagem_iptu:.2f}%\")"
   ]
  },
  {
   "cell_type": "markdown",
   "metadata": {},
   "source": [
    "A mesma coisa vale para o IPVA\n"
   ]
  },
  {
   "cell_type": "code",
   "execution_count": null,
   "metadata": {},
   "outputs": [],
   "source": [
    "# Solicite ao usuário que insira o IPVA\n",
    "IPVA_usuario = float(input(\"Por favor, insira o valor do seu IPVA: R$ \"))\n",
    "porcentagem_iptu = (IPVA_usuario / RBT12_usuario) * 100\n",
    "\n",
    "print(f\"A porcentagem do IPVA em relação ao RBT12 é de {porcentagem_iptu:.2f}%\")"
   ]
  },
  {
   "cell_type": "markdown",
   "metadata": {},
   "source": [
    "Agora vamos passar para o calculo da agua e seu consumo"
   ]
  },
  {
   "cell_type": "markdown",
   "metadata": {},
   "source": [
    "Aqui está como o cálculo seria feito:\n",
    "\n",
    "- Tarifa Fixa: R$ 24,31\n",
    "- Consumo de Água:\n",
    "- Primeiros 4m³: 4m³ x R$ 7,07 = R$ 28,28\n",
    "- Próximos 3m³ (5 a 7m³): 3m³ x R$ 8,83 = R$ 26,49\n",
    "- Próximos 3m³ (8 a 10m³): 3m³ x R$ 11,39 = R$ 34,17\n",
    "- Próximos 30m³ (11 a 40m³): 30m³ x R$ 14,12 = R$ 423,60\n",
    "- Consumo acima de 40m³: 10m³ x R$ 16,66 = R$ 166,60\n",
    "- Total do Consumo de Água: R$ 28,28 + R$ 26,49 + R$ 34,17 + R$ 423,60 + R$ 166,60 = R$ 679,14\n",
    "- Total Geral da Conta de Água: Tarifa Fixa + Total do Consumo de Água = R$ 24,31 + R$ 679,14 = R$ 703,45\n",
    "\n",
    "\n",
    "Este é apenas um exemplo e o valor real dependerá do consumo exato de água."
   ]
  },
  {
   "cell_type": "code",
   "execution_count": null,
   "metadata": {},
   "outputs": [],
   "source": [
    "# Tarifas de água não residencial\n",
    "tarifa_fixa = 24.31\n",
    "faixas_consumo = [(0, 4, 7.07), (5, 7, 8.83), (8, 10, 11.39), (11, 40, 14.12), (41, float('inf'), 16.66)]\n",
    "\n",
    "# Função para calcular a conta de água\n",
    "def calcular_conta_agua(consumo):\n",
    "    total = tarifa_fixa\n",
    "    for faixa in faixas_consumo:\n",
    "        inicio, fim, preco = faixa\n",
    "        if consumo > inicio:\n",
    "            total += min(consumo, fim) - inicio * preco\n",
    "            consumo -= fim - inicio\n",
    "    return total\n",
    "\n",
    "# Solicitação de entrada do usuário\n",
    "consumo_usuario = float(input(\"Digite o consumo de água em m³: \"))\n",
    "\n",
    "# Cálculo e exibição do resultado\n",
    "total_conta = calcular_conta_agua(consumo_usuario)\n",
    "print(f\"O valor total da conta de água é: R$ {total_conta:.2f}\")"
   ]
  },
  {
   "cell_type": "markdown",
   "metadata": {},
   "source": [
    "Passando para a conta de luz, segundo as normativas da Neo Energia, do Distrito Federal, temos o seguinte calculo:"
   ]
  },
  {
   "cell_type": "code",
   "execution_count": null,
   "metadata": {},
   "outputs": [],
   "source": [
    "def calcular_custo_energia(valor_conta_luz, consumo_kwh):\n",
    "    # Constantes com as porcentagens dos impostos e taxas\n",
    "    TAXA_ILUMINACAO_PUBLICA = 0.1215\n",
    "    ICMS = 0.20\n",
    "    PIS = 0.0029\n",
    "    COFINS = 0.0135\n",
    "\n",
    "    # Calcula o valor total de taxas e impostos\n",
    "    valor_taxas_impostos = valor_conta_luz * (TAXA_ILUMINACAO_PUBLICA + ICMS + PIS + COFINS)\n",
    "\n",
    "    # Calcula o custo efetivo do kWh\n",
    "    custo_efetivo_kwh = (valor_conta_luz - valor_taxas_impostos) / consumo_kwh\n",
    "\n",
    "    # Calcula o gasto diário\n",
    "    gasto_diario = valor_conta_luz / 30\n",
    "\n",
    "    # Calcula o gasto por hora\n",
    "    gasto_por_hora = gasto_diario / 24\n",
    "\n",
    "    # Calcula o gasto por minuto\n",
    "    gasto_por_minuto = gasto_por_hora / 60\n",
    "\n",
    "    # Calcula o gasto médio por caixa, assumindo 3,23 minutos por caixa\n",
    "    gasto_por_caixa = 3.23 * gasto_por_minuto\n",
    "\n",
    "    # Calcula a porcentagem do gasto da conta de luz em relação às despesas da empresa\n",
    "    porcentagem_gasto_luz = (valor_conta_luz / RBT12_usuario) * 100\n",
    "\n",
    "    # Imprime os resultados\n",
    "    print(f\"Custo efetivo por kWh: R${custo_efetivo_kwh:.2f}\")\n",
    "    print(f\"Gasto diário: R${gasto_diario:.2f}\")\n",
    "    print(f\"Gasto por hora: R${gasto_por_hora:.2f}\")\n",
    "    print(f\"Gasto por minuto: R${gasto_por_minuto:.2f}\")\n",
    "    print(f\"Gasto por caixa: R${gasto_por_caixa:.2f}\")\n",
    "    print(f\"Porcentagem do gasto da conta de luz em relação às despesas da empresa: {porcentagem_gasto_luz:.2f}%\")\n",
    "\n",
    "# Exemplo de uso da função\n",
    "valor_conta_luz = float(input(\"Digite o valor da conta de luz: R$\"))\n",
    "consumo_kwh = float(input(\"Digite o total consumido em kWh: \"))\n",
    "\n",
    "calcular_custo_energia(valor_conta_luz, consumo_kwh)\n"
   ]
  },
  {
   "cell_type": "code",
   "execution_count": null,
   "metadata": {},
   "outputs": [],
   "source": [
    "def calcular_custo_final(salario_base, vale_transporte):\n",
    "    # Constantes\n",
    "    FGTS_SALARIO = 0.08\n",
    "    DECIMO_TERCEIRO_PROP = 1/12\n",
    "    FERIAS_PROP = 1/12\n",
    "    TERCO_FERIAS = 1/3\n",
    "    FGTS_FERIAS_PROV = 0.08 * FERIAS_PROP\n",
    "    FGTS_DECIMO_TERCEIRO_PROV = 0.08 * DECIMO_TERCEIRO_PROP\n",
    "    INSS_PATRONAL = 0.03\n",
    "    INSS_PATRONAL_PROV = 0.03 * (DECIMO_TERCEIRO_PROP + FERIAS_PROP + TERCO_FERIAS)\n",
    "    \n",
    "    # Cálculos\n",
    "    fgts_salario = salario_base * FGTS_SALARIO\n",
    "    decimo_terceiro_prop = salario_base * DECIMO_TERCEIRO_PROP\n",
    "    ferias_prop = salario_base * FERIAS_PROP\n",
    "    terco_ferias = ferias_prop * TERCO_FERIAS\n",
    "    fgts_ferias_prov = salario_base * FGTS_FERIAS_PROV\n",
    "    fgts_decimo_terceiro_prov = salario_base * FGTS_DECIMO_TERCEIRO_PROV\n",
    "    inss_patronal = salario_base * INSS_PATRONAL\n",
    "    inss_patronal_prov = salario_base * INSS_PATRONAL_PROV\n",
    "    \n",
    "    custo_total = (salario_base + fgts_salario + decimo_terceiro_prop + ferias_prop +\n",
    "                   terco_ferias + fgts_ferias_prov + fgts_decimo_terceiro_prov +\n",
    "                   inss_patronal + inss_patronal_prov)\n",
    "    \n",
    "    # Descontos\n",
    "    desconto_vale_transporte = vale_transporte\n",
    "    desconto_inss = salario_base * 0.09  # Considerando a alíquota de 9% para o exemplo\n",
    "    \n",
    "    custo_final = custo_total - desconto_vale_transporte - desconto_inss\n",
    "    \n",
    "    return custo_final\n",
    "\n",
    "# Exemplo de uso da função\n",
    "salario_base = float(input(\"Digite o salário base do funcionário: R$\"))\n",
    "vale_transporte = float(input(\"Digite o valor do vale-transporte: R$\"))\n",
    "\n",
    "custo_final = calcular_custo_final(salario_base, vale_transporte)\n",
    "print(f\"O custo final após os descontos é: R${custo_final:.2f}\")\n"
   ]
  },
  {
   "cell_type": "code",
   "execution_count": null,
   "metadata": {},
   "outputs": [],
   "source": [
    "def calcular_custo_por_minuto(custo_mensal, horas_semanais=40):\n",
    "    # Calcula o número de semanas em um mês\n",
    "    semanas_por_mes = 4.33\n",
    "    \n",
    "    # Calcula o número total de horas trabalhadas por mês\n",
    "    horas_por_mes = horas_semanais * semanas_por_mes\n",
    "    \n",
    "    # Converte horas em minutos\n",
    "    minutos_por_mes = horas_por_mes * 60\n",
    "    \n",
    "    # Calcula o custo por minuto\n",
    "    custo_por_minuto = custo_mensal / minutos_por_mes\n",
    "    \n",
    "    return custo_por_minuto\n",
    "\n",
    "# Exemplo de uso da função\n",
    "custo_mensal = float(input(\"Digite o custo mensal do funcionário: R$\"))\n",
    "custo_por_minuto = calcular_custo_por_minuto(custo_mensal)\n",
    "\n",
    "print(f\"O custo por minuto do funcionário é: R${custo_por_minuto:.2f}\")"
   ]
  }
 ],
 "metadata": {
  "kernelspec": {
   "display_name": "Python 3",
   "language": "python",
   "name": "python3"
  },
  "language_info": {
   "codemirror_mode": {
    "name": "ipython",
    "version": 3
   },
   "file_extension": ".py",
   "mimetype": "text/x-python",
   "name": "python",
   "nbconvert_exporter": "python",
   "pygments_lexer": "ipython3",
   "version": "3.11.8"
  }
 },
 "nbformat": 4,
 "nbformat_minor": 2
}
