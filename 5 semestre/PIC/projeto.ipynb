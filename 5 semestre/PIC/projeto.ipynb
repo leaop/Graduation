{
 "cells": [
  {
   "cell_type": "markdown",
   "metadata": {},
   "source": [
    "# Código do P.I.C\n",
    "## Aprendizado de máquina\n",
    "### Predição de valores"
   ]
  },
  {
   "cell_type": "markdown",
   "metadata": {},
   "source": [
    "Quando estamos trabalhando compemrpesas de pequeno porte que adoram o simples nacional, temos que considerar os seguintes gastos operacionais:\n",
    "\n",
    "- Simples nacional \n",
    "- IPTU \n",
    "- IPVA \n",
    "- Luz \n",
    "- Água e esgoto \n",
    "- 10 Funcionários \n",
    "- Contador \n",
    "- Internet e telefone \n",
    "- Risco de perda \n",
    "- Taxa de débito \n",
    "- Taxa de crédito \n",
    "- Adubo \n",
    "\n",
    "Ao todos essas podem ser consdieradas as despesas minimas da empresa. Lógico que ainda podem existir mais, contudo, iremos trabalhar a partir destas."
   ]
  },
  {
   "cell_type": "code",
   "execution_count": 3,
   "metadata": {},
   "outputs": [
    {
     "name": "stdout",
     "output_type": "stream",
     "text": [
      "A Taxa Real do Simples Nacional para a receita bruta de R$ 1200000.0 é de 8.82%\n"
     ]
    }
   ],
   "source": [
    "def calcular_taxa_real_simples_nacional(RBT12):\n",
    "    # Defina as faixas de renda, taxas percentuais e parcelas dedutíveis\n",
    "    faixas = [\n",
    "        (180000.00, 0.04, 0),  # Faixa 1: até R$ 180.000,00 - 4%\n",
    "        (360000.00, 0.073, 5940.00), # Faixa 2: até R$ 360.000,00 - 7.3%\n",
    "        (720000.00, 0.095, 13860.00), # Faixa 3: até R$ 720.000,00 - 9.5%\n",
    "        (1800000.00, 0.1070, 22500.00), # Faixa 4: até R$ 1.800.000,00 - 10.7%\n",
    "        (3600000.00, 0.1430, 87300.00), # Faixa 5: até R$ 3.600.000,00 - 14.3%\n",
    "        (4800000.00, 0.19, 378000.00) # Faixa 6: até R$ 4.800.000,00 - 19%\n",
    "    ]\n",
    "    \n",
    "    # Calcule a taxa real com base na receita bruta total dos últimos 12 meses (RBT12)\n",
    "    taxa_real = 0\n",
    "    for limite, taxa, pd in faixas:\n",
    "        if RBT12 <= limite:\n",
    "            taxa_real = (RBT12 * taxa - pd) / RBT12\n",
    "            break\n",
    "    \n",
    "    return taxa_real\n",
    "\n",
    "# Solicite ao usuário que insira a receita bruta total dos últimos 12 meses\n",
    "RBT12_usuario = float(input(\"Por favor, insira a receita bruta total dos últimos 12 meses (RBT12): R$ \"))\n",
    "taxa_real_calculada = calcular_taxa_real_simples_nacional(RBT12_usuario)\n",
    "print(f\"A Taxa Real do Simples Nacional para a receita bruta de R$ {RBT12_usuario} é de {taxa_real_calculada:.2%}\")\n"
   ]
  },
  {
   "cell_type": "markdown",
   "metadata": {},
   "source": [
    "Como o simples nacional é uma cota unica com a junção de todos os tributos, seu percentual já engloba todos os tributos relatios a comercialização de produtos. "
   ]
  },
  {
   "cell_type": "markdown",
   "metadata": {},
   "source": [
    "O proximo tributo a ser calculado não precisa necessariamente de calculo, pois o governo já oferece o resultado dos calculos por metro quadrado. Trata-se do IPTU, que precisa ser comparado com o lucro total do mes para saber o quanto equivale da despesa"
   ]
  },
  {
   "cell_type": "code",
   "execution_count": 6,
   "metadata": {},
   "outputs": [
    {
     "name": "stdout",
     "output_type": "stream",
     "text": [
      "A porcentagem do IPTU em relação ao RBT12 é de 18.00%\n"
     ]
    }
   ],
   "source": [
    "# Solicite ao usuário que insira o IPTU\n",
    "IPTU_usuario = float(input(\"Por favor, insira o valor do seu IPTU: R$ \"))\n",
    "porcentagem_iptu = (IPTU_usuario / RBT12_usuario) * 100\n",
    "\n",
    "print(f\"A porcentagem do IPTU em relação ao RBT12 é de {porcentagem_iptu:.2f}%\")"
   ]
  },
  {
   "cell_type": "markdown",
   "metadata": {},
   "source": [
    "A mesma coisa vale para o IPVA\n"
   ]
  },
  {
   "cell_type": "code",
   "execution_count": null,
   "metadata": {},
   "outputs": [],
   "source": [
    "# Solicite ao usuário que insira o IPVA\n",
    "IPVA_usuario = float(input(\"Por favor, insira o valor do seu IPVA: R$ \"))\n",
    "porcentagem_iptu = (IPVA_usuario / RBT12_usuario) * 100\n",
    "\n",
    "print(f\"A porcentagem do IPVA em relação ao RBT12 é de {porcentagem_iptu:.2f}%\")"
   ]
  },
  {
   "cell_type": "markdown",
   "metadata": {},
   "source": [
    "Agora vamos passar para o calculo da agua e seu consumo"
   ]
  },
  {
   "cell_type": "code",
   "execution_count": null,
   "metadata": {},
   "outputs": [],
   "source": [
    "def calcular_taxa_real_simples_nacional(RBT12):\n",
    "    # Defina as faixas de renda, taxas percentuais e parcelas dedutíveis\n",
    "    faixas = [\n",
    "        (180000.00, 0.04, 0),  # Faixa 1: até R$ 180.000,00 - 4%\n",
    "        (360000.00, 0.073, 5940.00), # Faixa 2: até R$ 360.000,00 - 7.3%\n",
    "        (720000.00, 0.095, 13860.00), # Faixa 3: até R$ 720.000,00 - 9.5%\n",
    "        (1800000.00, 0.1070, 22500.00), # Faixa 4: até R$ 1.800.000,00 - 10.7%\n",
    "        (3600000.00, 0.1430, 87300.00), # Faixa 5: até R$ 3.600.000,00 - 14.3%\n",
    "        (4800000.00, 0.19, 378000.00) # Faixa 6: até R$ 4.800.000,00 - 19%\n",
    "    ]\n",
    "    \n",
    "    # Calcule a taxa real com base na receita bruta total dos últimos 12 meses (RBT12)\n",
    "    taxa_real = 0\n",
    "    for limite, taxa, pd in faixas:\n",
    "        if RBT12 <= limite:\n",
    "            taxa_real = (RBT12 * taxa - pd) / RBT12\n",
    "            break\n",
    "    \n",
    "    return taxa_real\n"
   ]
  }
 ],
 "metadata": {
  "kernelspec": {
   "display_name": "Python 3",
   "language": "python",
   "name": "python3"
  },
  "language_info": {
   "codemirror_mode": {
    "name": "ipython",
    "version": 3
   },
   "file_extension": ".py",
   "mimetype": "text/x-python",
   "name": "python",
   "nbconvert_exporter": "python",
   "pygments_lexer": "ipython3",
   "version": "3.11.8"
  }
 },
 "nbformat": 4,
 "nbformat_minor": 2
}
