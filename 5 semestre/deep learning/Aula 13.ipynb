{
 "cells": [
  {
   "cell_type": "markdown",
   "metadata": {},
   "source": [
    "# Aula 12: RNNs, LSTM e GRU - Introdução às RNNs, Conceitos básicos e estrutura\n",
    "\n",
    "## Objetivo da Aula\n",
    "- Introduzir os conceitos fundamentais das Redes Neurais Recorrentes (RNNs).\n",
    "- Compreender a estrutura e o funcionamento das RNNs.\n",
    "- Abordar os principais desafios associados ao uso de RNNs."
   ]
  },
  {
   "cell_type": "markdown",
   "metadata": {},
   "source": [
    "### 1. Introdução às Redes Neurais Recorrentes (RNNs)\n",
    "\n",
    "#### Motivação para o Uso de RNNs\n",
    "Redes Neurais Recorrentes (RNNs) são uma classe de redes neurais especialmente adequadas para trabalhar com dados sequenciais. Diferente das redes neurais tradicionais, que assumem independência entre as entradas, as RNNs conseguem capturar dependências temporais ao manter um estado interno que é atualizado a cada passo temporal.\n",
    "\n",
    "#### Necessidade de Modelos que Possam Lidar com Dados Sequenciais\n",
    "- **Dados Sequenciais**: Muitos tipos de dados do mundo real são sequenciais, onde a ordem dos dados é crucial. Exemplos incluem séries temporais, texto, áudio, e vídeos.\n",
    "- **Dependências Temporais**: Em muitos casos, a predição de um determinado valor depende de valores anteriores na sequência. RNNs são projetadas para capturar e aprender essas dependências.\n",
    "\n",
    "#### Aplicações Comuns de RNNs\n",
    "- **Processamento de Linguagem Natural (PLN)**:\n",
    "  - **Tradução Automática**: Traduzir textos de um idioma para outro, onde o contexto das palavras anteriores influencia a tradução das palavras seguintes.\n",
    "  - **Análise de Sentimento**: Determinar o sentimento (positivo, negativo, neutro) de um texto, onde o significado de uma palavra pode depender de palavras anteriores.\n",
    "  - **Modelagem de Linguagem**: Prever a próxima palavra em uma sequência de palavras, útil em autocompletar e geração de texto.\n",
    "\n",
    "- **Séries Temporais**:\n",
    "  - **Previsão de Demanda**: Prever a demanda futura de produtos ou serviços com base em dados históricos.\n",
    "  - **Análise Financeira**: Analisar dados financeiros como preços de ações para prever tendências futuras.\n",
    "  - **Monitoramento de Sensores**: Analisar dados de sensores ao longo do tempo para detectar anomalias ou prever falhas.\n",
    "\n",
    "- **Reconhecimento de Fala**:\n",
    "  - **Transcrição de Áudio para Texto**: Converter fala em texto, onde o contexto temporal das palavras é essencial para a precisão da transcrição.\n",
    "  - **Comandos de Voz**: Reconhecer e interpretar comandos de voz, onde a sequência de palavras pode alterar o significado do comando.\n",
    "\n",
    "- **Gerenciamento de Diálogos**:\n",
    "  - **Chatbots e Assistentes Virtuais**: Manter o contexto de uma conversa para fornecer respostas mais coerentes e relevantes.\n",
    "\n",
    "RNNs são uma ferramenta poderosa para qualquer tarefa onde a ordem dos dados importa. Sua capacidade de manter um estado interno que é influenciado por entradas anteriores permite que capturem padrões complexos em dados sequenciais.\n"
   ]
  },
  {
   "cell_type": "code",
   "execution_count": 2,
   "metadata": {},
   "outputs": [],
   "source": [
    "import numpy as np\n",
    "import pandas as pd\n",
    "import matplotlib.pyplot as plt\n",
    "import tensorflow as tf\n",
    "from tensorflow.keras.models import Sequential\n",
    "from tensorflow.keras.layers import SimpleRNN, Dense, Dropout\n",
    "from sklearn.preprocessing import MinMaxScaler\n",
    "from sklearn.model_selection import train_test_split"
   ]
  },
  {
   "cell_type": "code",
   "execution_count": 3,
   "metadata": {},
   "outputs": [],
   "source": [
    "df = pd.read_csv('acao_apple.csv')"
   ]
  },
  {
   "cell_type": "code",
   "execution_count": 4,
   "metadata": {},
   "outputs": [
    {
     "data": {
      "text/html": [
       "<div>\n",
       "<style scoped>\n",
       "    .dataframe tbody tr th:only-of-type {\n",
       "        vertical-align: middle;\n",
       "    }\n",
       "\n",
       "    .dataframe tbody tr th {\n",
       "        vertical-align: top;\n",
       "    }\n",
       "\n",
       "    .dataframe thead th {\n",
       "        text-align: right;\n",
       "    }\n",
       "</style>\n",
       "<table border=\"1\" class=\"dataframe\">\n",
       "  <thead>\n",
       "    <tr style=\"text-align: right;\">\n",
       "      <th></th>\n",
       "      <th>data</th>\n",
       "      <th>valor</th>\n",
       "    </tr>\n",
       "  </thead>\n",
       "  <tbody>\n",
       "    <tr>\n",
       "      <th>0</th>\n",
       "      <td>1/2/2013</td>\n",
       "      <td>79.117142</td>\n",
       "    </tr>\n",
       "    <tr>\n",
       "      <th>1</th>\n",
       "      <td>1/3/2013</td>\n",
       "      <td>78.268570</td>\n",
       "    </tr>\n",
       "    <tr>\n",
       "      <th>2</th>\n",
       "      <td>1/4/2013</td>\n",
       "      <td>76.709999</td>\n",
       "    </tr>\n",
       "    <tr>\n",
       "      <th>3</th>\n",
       "      <td>1/7/2013</td>\n",
       "      <td>74.571426</td>\n",
       "    </tr>\n",
       "    <tr>\n",
       "      <th>4</th>\n",
       "      <td>1/8/2013</td>\n",
       "      <td>75.601425</td>\n",
       "    </tr>\n",
       "  </tbody>\n",
       "</table>\n",
       "</div>"
      ],
      "text/plain": [
       "       data      valor\n",
       "0  1/2/2013  79.117142\n",
       "1  1/3/2013  78.268570\n",
       "2  1/4/2013  76.709999\n",
       "3  1/7/2013  74.571426\n",
       "4  1/8/2013  75.601425"
      ]
     },
     "execution_count": 4,
     "metadata": {},
     "output_type": "execute_result"
    }
   ],
   "source": [
    "df.head()"
   ]
  },
  {
   "cell_type": "code",
   "execution_count": 5,
   "metadata": {},
   "outputs": [
    {
     "data": {
      "text/plain": [
       "array([[ 79.117142],\n",
       "       [ 78.26857 ],\n",
       "       [ 76.709999],\n",
       "       ...,\n",
       "       [170.100006],\n",
       "       [171.      ],\n",
       "       [170.520004]])"
      ]
     },
     "execution_count": 5,
     "metadata": {},
     "output_type": "execute_result"
    }
   ],
   "source": [
    "data = df['valor'].values.reshape(-1, 1)\n",
    "data"
   ]
  },
  {
   "cell_type": "code",
   "execution_count": 6,
   "metadata": {},
   "outputs": [],
   "source": [
    "# Normalizando os dados\n",
    "scaler = MinMaxScaler(feature_range=(0, 1))\n",
    "data = scaler.fit_transform(data)"
   ]
  },
  {
   "cell_type": "code",
   "execution_count": 7,
   "metadata": {},
   "outputs": [],
   "source": [
    "# Função para criar dados de treinamento e teste\n",
    "def create_dataset(data, time_step=5):\n",
    "    X, y = [], []\n",
    "    for i in range(len(data) - time_step):\n",
    "        X.append(data[i:(i + time_step), 0])\n",
    "        y.append(data[i + time_step, 0])\n",
    "    return np.array(X), np.array(y)\n",
    "\n",
    "# Criando dados de treinamento e teste\n",
    "time_step = 3  # usando uma janela de 60 dias para prever o próximo valor\n",
    "X, y = create_dataset(data, time_step)\n",
    "\n",
    "X = X.reshape((X.shape[0], X.shape[1], 1))"
   ]
  },
  {
   "cell_type": "code",
   "execution_count": 8,
   "metadata": {},
   "outputs": [
    {
     "data": {
      "text/plain": [
       "array([[0.19086893],\n",
       "       [0.17784673],\n",
       "       [0.15997849]])"
      ]
     },
     "execution_count": 8,
     "metadata": {},
     "output_type": "execute_result"
    }
   ],
   "source": [
    "X[1]"
   ]
  },
  {
   "cell_type": "code",
   "execution_count": 9,
   "metadata": {},
   "outputs": [
    {
     "data": {
      "text/plain": [
       "0.15997849033194983"
      ]
     },
     "execution_count": 9,
     "metadata": {},
     "output_type": "execute_result"
    }
   ],
   "source": [
    "y[0]"
   ]
  },
  {
   "cell_type": "code",
   "execution_count": 10,
   "metadata": {},
   "outputs": [
    {
     "data": {
      "text/plain": [
       "array([0.15997849, 0.16858435, 0.16057534, ..., 0.95814041, 0.96566005,\n",
       "       0.96164958])"
      ]
     },
     "execution_count": 10,
     "metadata": {},
     "output_type": "execute_result"
    }
   ],
   "source": [
    "y"
   ]
  },
  {
   "cell_type": "code",
   "execution_count": 11,
   "metadata": {},
   "outputs": [
    {
     "data": {
      "text/plain": [
       "array([[[0.19795893],\n",
       "        [0.19086893],\n",
       "        [0.17784673]],\n",
       "\n",
       "       [[0.19086893],\n",
       "        [0.17784673],\n",
       "        [0.15997849]],\n",
       "\n",
       "       [[0.17784673],\n",
       "        [0.15997849],\n",
       "        [0.16858435]],\n",
       "\n",
       "       ...,\n",
       "\n",
       "       [[0.99214607],\n",
       "        [0.99640719],\n",
       "        [0.96398904]],\n",
       "\n",
       "       [[0.99640719],\n",
       "        [0.96398904],\n",
       "        [0.95814041]],\n",
       "\n",
       "       [[0.96398904],\n",
       "        [0.95814041],\n",
       "        [0.96566005]]])"
      ]
     },
     "execution_count": 11,
     "metadata": {},
     "output_type": "execute_result"
    }
   ],
   "source": [
    "X"
   ]
  },
  {
   "cell_type": "code",
   "execution_count": 12,
   "metadata": {},
   "outputs": [
    {
     "data": {
      "text/plain": [
       "(1256, 3, 1)"
      ]
     },
     "execution_count": 12,
     "metadata": {},
     "output_type": "execute_result"
    }
   ],
   "source": [
    "X.shape"
   ]
  },
  {
   "cell_type": "code",
   "execution_count": 13,
   "metadata": {},
   "outputs": [
    {
     "data": {
      "text/plain": [
       "(3, 1)"
      ]
     },
     "execution_count": 13,
     "metadata": {},
     "output_type": "execute_result"
    }
   ],
   "source": [
    "X[0].shape"
   ]
  },
  {
   "cell_type": "code",
   "execution_count": 14,
   "metadata": {},
   "outputs": [],
   "source": [
    "X_train = X[:int(len(X) * 0.8)]\n",
    "X_test = X[int(len(X) * 0.8):]\n",
    "\n",
    "y_train = y[:int(len(y) * 0.8)]\n",
    "y_test = y[int(len(y) * 0.8):]"
   ]
  },
  {
   "cell_type": "code",
   "execution_count": 15,
   "metadata": {},
   "outputs": [
    {
     "name": "stderr",
     "output_type": "stream",
     "text": [
      "/Library/Frameworks/Python.framework/Versions/3.12/lib/python3.12/site-packages/keras/src/layers/rnn/rnn.py:204: UserWarning: Do not pass an `input_shape`/`input_dim` argument to a layer. When using Sequential models, prefer using an `Input(shape)` object as the first layer in the model instead.\n",
      "  super().__init__(**kwargs)\n"
     ]
    }
   ],
   "source": [
    "# Definindo a arquitetura da RNN\n",
    "model = Sequential()\n",
    "model.add(SimpleRNN(units=50, activation='tanh', input_shape=(time_step, 1)))\n",
    "model.add(Dropout(0.2))\n",
    "model.add(Dense(units=1))\n",
    "\n",
    "# Compilando o modelo\n",
    "model.compile(optimizer='adam', loss='mean_squared_error')"
   ]
  },
  {
   "cell_type": "code",
   "execution_count": 16,
   "metadata": {},
   "outputs": [
    {
     "name": "stdout",
     "output_type": "stream",
     "text": [
      "Epoch 1/100\n",
      "29/29 - 2s - 63ms/step - loss: 0.0140 - val_loss: 8.5723e-04\n",
      "Epoch 2/100\n",
      "29/29 - 0s - 3ms/step - loss: 0.0057 - val_loss: 4.1156e-04\n",
      "Epoch 3/100\n",
      "29/29 - 0s - 3ms/step - loss: 0.0029 - val_loss: 3.8307e-04\n",
      "Epoch 4/100\n",
      "29/29 - 0s - 3ms/step - loss: 0.0025 - val_loss: 2.9901e-04\n",
      "Epoch 5/100\n",
      "29/29 - 0s - 4ms/step - loss: 0.0021 - val_loss: 5.1636e-04\n",
      "Epoch 6/100\n",
      "29/29 - 0s - 3ms/step - loss: 0.0018 - val_loss: 4.4700e-04\n",
      "Epoch 7/100\n",
      "29/29 - 0s - 4ms/step - loss: 0.0016 - val_loss: 3.0632e-04\n",
      "Epoch 8/100\n",
      "29/29 - 0s - 4ms/step - loss: 0.0015 - val_loss: 2.6702e-04\n",
      "Epoch 9/100\n",
      "29/29 - 0s - 4ms/step - loss: 0.0014 - val_loss: 2.5919e-04\n",
      "Epoch 10/100\n",
      "29/29 - 0s - 3ms/step - loss: 0.0013 - val_loss: 2.5830e-04\n",
      "Epoch 11/100\n",
      "29/29 - 0s - 3ms/step - loss: 0.0013 - val_loss: 2.5338e-04\n",
      "Epoch 12/100\n",
      "29/29 - 0s - 3ms/step - loss: 0.0013 - val_loss: 2.4279e-04\n",
      "Epoch 13/100\n",
      "29/29 - 0s - 3ms/step - loss: 0.0012 - val_loss: 2.4448e-04\n",
      "Epoch 14/100\n",
      "29/29 - 0s - 3ms/step - loss: 0.0012 - val_loss: 2.5646e-04\n",
      "Epoch 15/100\n",
      "29/29 - 0s - 3ms/step - loss: 0.0011 - val_loss: 2.7735e-04\n",
      "Epoch 16/100\n",
      "29/29 - 0s - 3ms/step - loss: 0.0011 - val_loss: 2.3283e-04\n",
      "Epoch 17/100\n",
      "29/29 - 0s - 4ms/step - loss: 0.0011 - val_loss: 3.0707e-04\n",
      "Epoch 18/100\n",
      "29/29 - 0s - 4ms/step - loss: 0.0010 - val_loss: 2.1812e-04\n",
      "Epoch 19/100\n",
      "29/29 - 0s - 5ms/step - loss: 0.0011 - val_loss: 2.3760e-04\n",
      "Epoch 20/100\n",
      "29/29 - 0s - 5ms/step - loss: 9.4083e-04 - val_loss: 2.1188e-04\n",
      "Epoch 21/100\n",
      "29/29 - 0s - 3ms/step - loss: 9.6925e-04 - val_loss: 0.0010\n",
      "Epoch 22/100\n",
      "29/29 - 0s - 4ms/step - loss: 9.2408e-04 - val_loss: 4.7851e-04\n",
      "Epoch 23/100\n",
      "29/29 - 0s - 5ms/step - loss: 9.7958e-04 - val_loss: 4.9602e-04\n",
      "Epoch 24/100\n",
      "29/29 - 0s - 5ms/step - loss: 9.6519e-04 - val_loss: 2.8370e-04\n",
      "Epoch 25/100\n",
      "29/29 - 0s - 3ms/step - loss: 0.0011 - val_loss: 2.3059e-04\n",
      "Epoch 26/100\n",
      "29/29 - 0s - 3ms/step - loss: 8.5342e-04 - val_loss: 6.9006e-04\n",
      "Epoch 27/100\n",
      "29/29 - 0s - 3ms/step - loss: 0.0010 - val_loss: 2.1960e-04\n",
      "Epoch 28/100\n",
      "29/29 - 0s - 6ms/step - loss: 8.7669e-04 - val_loss: 2.7907e-04\n",
      "Epoch 29/100\n",
      "29/29 - 0s - 5ms/step - loss: 8.5517e-04 - val_loss: 2.0967e-04\n",
      "Epoch 30/100\n",
      "29/29 - 0s - 4ms/step - loss: 9.6160e-04 - val_loss: 1.9839e-04\n",
      "Epoch 31/100\n",
      "29/29 - 0s - 3ms/step - loss: 8.8495e-04 - val_loss: 1.9881e-04\n",
      "Epoch 32/100\n",
      "29/29 - 0s - 3ms/step - loss: 8.0991e-04 - val_loss: 1.8583e-04\n",
      "Epoch 33/100\n",
      "29/29 - 0s - 3ms/step - loss: 8.0701e-04 - val_loss: 4.3796e-04\n",
      "Epoch 34/100\n",
      "29/29 - 0s - 3ms/step - loss: 8.8674e-04 - val_loss: 2.1953e-04\n",
      "Epoch 35/100\n",
      "29/29 - 0s - 3ms/step - loss: 7.9834e-04 - val_loss: 1.8621e-04\n",
      "Epoch 36/100\n",
      "29/29 - 0s - 3ms/step - loss: 8.6667e-04 - val_loss: 4.2213e-04\n",
      "Epoch 37/100\n",
      "29/29 - 0s - 4ms/step - loss: 9.1626e-04 - val_loss: 2.7389e-04\n",
      "Epoch 38/100\n",
      "29/29 - 0s - 4ms/step - loss: 8.5710e-04 - val_loss: 2.2400e-04\n",
      "Epoch 39/100\n",
      "29/29 - 0s - 3ms/step - loss: 7.1464e-04 - val_loss: 3.3117e-04\n",
      "Epoch 40/100\n",
      "29/29 - 0s - 7ms/step - loss: 8.1114e-04 - val_loss: 2.1870e-04\n",
      "Epoch 41/100\n",
      "29/29 - 0s - 4ms/step - loss: 0.0010 - val_loss: 2.5167e-04\n",
      "Epoch 42/100\n",
      "29/29 - 0s - 3ms/step - loss: 7.6699e-04 - val_loss: 2.3610e-04\n",
      "Epoch 43/100\n",
      "29/29 - 0s - 3ms/step - loss: 7.4947e-04 - val_loss: 1.8887e-04\n",
      "Epoch 44/100\n",
      "29/29 - 0s - 3ms/step - loss: 8.0832e-04 - val_loss: 2.4229e-04\n",
      "Epoch 45/100\n",
      "29/29 - 0s - 3ms/step - loss: 7.3421e-04 - val_loss: 1.6829e-04\n",
      "Epoch 46/100\n",
      "29/29 - 0s - 3ms/step - loss: 6.9281e-04 - val_loss: 2.3074e-04\n",
      "Epoch 47/100\n",
      "29/29 - 0s - 3ms/step - loss: 7.5123e-04 - val_loss: 2.6543e-04\n",
      "Epoch 48/100\n",
      "29/29 - 0s - 3ms/step - loss: 8.0256e-04 - val_loss: 2.6838e-04\n",
      "Epoch 49/100\n",
      "29/29 - 0s - 4ms/step - loss: 7.9859e-04 - val_loss: 1.6126e-04\n",
      "Epoch 50/100\n",
      "29/29 - 0s - 3ms/step - loss: 6.6722e-04 - val_loss: 2.2546e-04\n",
      "Epoch 51/100\n",
      "29/29 - 0s - 4ms/step - loss: 6.7962e-04 - val_loss: 1.6441e-04\n",
      "Epoch 52/100\n",
      "29/29 - 0s - 4ms/step - loss: 5.8382e-04 - val_loss: 1.6807e-04\n",
      "Epoch 53/100\n",
      "29/29 - 0s - 3ms/step - loss: 7.0694e-04 - val_loss: 2.1796e-04\n",
      "Epoch 54/100\n",
      "29/29 - 0s - 3ms/step - loss: 6.6601e-04 - val_loss: 1.7548e-04\n",
      "Epoch 55/100\n",
      "29/29 - 0s - 3ms/step - loss: 7.3343e-04 - val_loss: 4.8816e-04\n",
      "Epoch 56/100\n",
      "29/29 - 0s - 3ms/step - loss: 7.5404e-04 - val_loss: 1.6349e-04\n",
      "Epoch 57/100\n",
      "29/29 - 0s - 3ms/step - loss: 6.3424e-04 - val_loss: 1.5681e-04\n",
      "Epoch 58/100\n",
      "29/29 - 0s - 3ms/step - loss: 6.2286e-04 - val_loss: 1.5607e-04\n",
      "Epoch 59/100\n",
      "29/29 - 0s - 3ms/step - loss: 7.5108e-04 - val_loss: 8.1266e-04\n",
      "Epoch 60/100\n",
      "29/29 - 0s - 5ms/step - loss: 6.0990e-04 - val_loss: 1.8546e-04\n",
      "Epoch 61/100\n",
      "29/29 - 0s - 3ms/step - loss: 6.4502e-04 - val_loss: 2.3282e-04\n",
      "Epoch 62/100\n",
      "29/29 - 0s - 3ms/step - loss: 5.9847e-04 - val_loss: 1.6026e-04\n",
      "Epoch 63/100\n",
      "29/29 - 0s - 3ms/step - loss: 6.3486e-04 - val_loss: 1.6305e-04\n",
      "Epoch 64/100\n",
      "29/29 - 0s - 3ms/step - loss: 6.3380e-04 - val_loss: 2.7509e-04\n",
      "Epoch 65/100\n",
      "29/29 - 0s - 3ms/step - loss: 6.9281e-04 - val_loss: 1.9052e-04\n",
      "Epoch 66/100\n",
      "29/29 - 0s - 3ms/step - loss: 6.3977e-04 - val_loss: 2.3779e-04\n",
      "Epoch 67/100\n",
      "29/29 - 0s - 3ms/step - loss: 5.9872e-04 - val_loss: 1.5696e-04\n",
      "Epoch 68/100\n",
      "29/29 - 0s - 3ms/step - loss: 7.5559e-04 - val_loss: 2.1910e-04\n",
      "Epoch 69/100\n",
      "29/29 - 0s - 3ms/step - loss: 6.1224e-04 - val_loss: 1.5049e-04\n",
      "Epoch 70/100\n",
      "29/29 - 0s - 3ms/step - loss: 6.2728e-04 - val_loss: 1.6150e-04\n",
      "Epoch 71/100\n",
      "29/29 - 0s - 3ms/step - loss: 5.5505e-04 - val_loss: 4.0879e-04\n",
      "Epoch 72/100\n",
      "29/29 - 0s - 3ms/step - loss: 5.7499e-04 - val_loss: 1.5199e-04\n",
      "Epoch 73/100\n",
      "29/29 - 0s - 3ms/step - loss: 5.9443e-04 - val_loss: 1.6234e-04\n",
      "Epoch 74/100\n",
      "29/29 - 0s - 3ms/step - loss: 5.7364e-04 - val_loss: 2.1287e-04\n",
      "Epoch 75/100\n",
      "29/29 - 0s - 3ms/step - loss: 6.2435e-04 - val_loss: 5.8824e-04\n",
      "Epoch 76/100\n",
      "29/29 - 0s - 3ms/step - loss: 6.3468e-04 - val_loss: 1.6919e-04\n",
      "Epoch 77/100\n",
      "29/29 - 0s - 3ms/step - loss: 5.8983e-04 - val_loss: 1.4687e-04\n",
      "Epoch 78/100\n",
      "29/29 - 0s - 3ms/step - loss: 5.6284e-04 - val_loss: 2.2216e-04\n",
      "Epoch 79/100\n",
      "29/29 - 0s - 3ms/step - loss: 5.5042e-04 - val_loss: 2.7939e-04\n",
      "Epoch 80/100\n",
      "29/29 - 0s - 3ms/step - loss: 5.5218e-04 - val_loss: 1.6319e-04\n",
      "Epoch 81/100\n",
      "29/29 - 0s - 3ms/step - loss: 5.8603e-04 - val_loss: 1.5965e-04\n",
      "Epoch 82/100\n",
      "29/29 - 0s - 3ms/step - loss: 5.9598e-04 - val_loss: 2.4392e-04\n",
      "Epoch 83/100\n",
      "29/29 - 0s - 3ms/step - loss: 5.4993e-04 - val_loss: 2.4908e-04\n",
      "Epoch 84/100\n",
      "29/29 - 0s - 3ms/step - loss: 5.7085e-04 - val_loss: 1.6186e-04\n",
      "Epoch 85/100\n",
      "29/29 - 0s - 3ms/step - loss: 6.1214e-04 - val_loss: 2.1044e-04\n",
      "Epoch 86/100\n",
      "29/29 - 0s - 3ms/step - loss: 5.8596e-04 - val_loss: 3.6097e-04\n",
      "Epoch 87/100\n",
      "29/29 - 0s - 3ms/step - loss: 5.3374e-04 - val_loss: 1.4166e-04\n",
      "Epoch 88/100\n",
      "29/29 - 0s - 3ms/step - loss: 5.4999e-04 - val_loss: 1.7112e-04\n",
      "Epoch 89/100\n",
      "29/29 - 0s - 3ms/step - loss: 5.1780e-04 - val_loss: 1.5676e-04\n",
      "Epoch 90/100\n",
      "29/29 - 0s - 3ms/step - loss: 6.3129e-04 - val_loss: 4.6102e-04\n",
      "Epoch 91/100\n",
      "29/29 - 0s - 3ms/step - loss: 5.2066e-04 - val_loss: 1.4467e-04\n",
      "Epoch 92/100\n",
      "29/29 - 0s - 3ms/step - loss: 5.0542e-04 - val_loss: 1.9169e-04\n",
      "Epoch 93/100\n",
      "29/29 - 0s - 3ms/step - loss: 5.2939e-04 - val_loss: 1.4048e-04\n",
      "Epoch 94/100\n",
      "29/29 - 0s - 3ms/step - loss: 5.3188e-04 - val_loss: 2.0746e-04\n",
      "Epoch 95/100\n",
      "29/29 - 0s - 3ms/step - loss: 5.1698e-04 - val_loss: 1.8973e-04\n",
      "Epoch 96/100\n",
      "29/29 - 0s - 3ms/step - loss: 5.2464e-04 - val_loss: 3.3328e-04\n",
      "Epoch 97/100\n",
      "29/29 - 0s - 3ms/step - loss: 4.9971e-04 - val_loss: 1.3899e-04\n",
      "Epoch 98/100\n",
      "29/29 - 0s - 3ms/step - loss: 4.9786e-04 - val_loss: 1.9147e-04\n",
      "Epoch 99/100\n",
      "29/29 - 0s - 3ms/step - loss: 4.7103e-04 - val_loss: 1.7980e-04\n",
      "Epoch 100/100\n",
      "29/29 - 0s - 3ms/step - loss: 4.4375e-04 - val_loss: 5.9681e-04\n"
     ]
    }
   ],
   "source": [
    "# Treinando a RNN\n",
    "history = model.fit(X_train, y_train, epochs=100, batch_size=32, validation_split=0.1, verbose=2)"
   ]
  },
  {
   "cell_type": "code",
   "execution_count": 17,
   "metadata": {},
   "outputs": [
    {
     "data": {
      "image/png": "[encoded data removed]",
      "text/plain": [
       "<Figure size 1200x600 with 1 Axes>"
      ]
     },
     "metadata": {},
     "output_type": "display_data"
    }
   ],
   "source": [
    "# Importando as bibliotecas necessárias\n",
    "import matplotlib.pyplot as plt\n",
    "\n",
    "# Supondo que você já tenha o objeto 'history' do treinamento do modelo\n",
    "\n",
    "# Plotando o gráfico do histórico de treinamento\n",
    "plt.figure(figsize=(12, 6))\n",
    "\n",
    "# Plotando a perda de treinamento\n",
    "plt.plot(history.history['loss'], label='Perda de Treinamento')\n",
    "\n",
    "# Plotando a perda de validação\n",
    "plt.plot(history.history['val_loss'], label='Perda de Validação')\n",
    "\n",
    "# Adicionando título e legendas\n",
    "plt.title('Histórico de Treinamento e Validação')\n",
    "plt.xlabel('Épocas')\n",
    "plt.ylabel('Perda')\n",
    "plt.legend()\n",
    "\n",
    "# Exibindo o gráfico\n",
    "plt.show()"
   ]
  },
  {
   "cell_type": "code",
   "execution_count": 18,
   "metadata": {},
   "outputs": [
    {
     "name": "stdout",
     "output_type": "stream",
     "text": [
      "\u001b[1m32/32\u001b[0m \u001b[32m━━━━━━━━━━━━━━━━━━━━\u001b[0m\u001b[37m\u001b[0m \u001b[1m0s\u001b[0m 5ms/step\n",
      "\u001b[1m8/8\u001b[0m \u001b[32m━━━━━━━━━━━━━━━━━━━━\u001b[0m\u001b[37m\u001b[0m \u001b[1m0s\u001b[0m 1ms/step \n"
     ]
    }
   ],
   "source": [
    "# Fazendo previsões\n",
    "train_predict = model.predict(X_train)\n",
    "test_predict = model.predict(X_test)"
   ]
  },
  {
   "cell_type": "code",
   "execution_count": 19,
   "metadata": {},
   "outputs": [],
   "source": [
    "# Invertendo a normalização para obter os valores reais\n",
    "train_predict = scaler.inverse_transform(train_predict)\n",
    "test_predict = scaler.inverse_transform(test_predict)\n",
    "y_train = scaler.inverse_transform(y_train.reshape(-1, 1))\n",
    "y_test = scaler.inverse_transform(y_test.reshape(-1, 1))"
   ]
  },
  {
   "cell_type": "code",
   "execution_count": 20,
   "metadata": {},
   "outputs": [
    {
     "data": {
      "image/png": "[encoded data removed]",
      "text/plain": [
       "<Figure size 1200x600 with 1 Axes>"
      ]
     },
     "metadata": {},
     "output_type": "display_data"
    }
   ],
   "source": [
    "# Plotando os resultados\n",
    "plt.figure(figsize=(12, 6))\n",
    "plt.plot(df['valor'], label='Dados reais')\n",
    "train_range = range(time_step, time_step + len(train_predict))\n",
    "test_range = range(time_step + len(train_predict), time_step + len(train_predict) + len(test_predict))\n",
    "plt.plot(train_range, train_predict, label='Previsões de treino')\n",
    "plt.plot(test_range, test_predict, label='Previsões de teste')\n",
    "plt.xlabel('Dias')\n",
    "plt.ylabel('Preço de Fechamento Normalizado')\n",
    "plt.legend()\n",
    "plt.show()"
   ]
  },
  {
   "cell_type": "code",
   "execution_count": 21,
   "metadata": {},
   "outputs": [],
   "source": [
    "from sklearn.metrics import mean_absolute_error, mean_squared_error, r2_score\n",
    "\n",
    "def regression_metrics(y_test, test_predict):\n",
    "    # Calculando MAE\n",
    "    mae = mean_absolute_error(y_test, test_predict)\n",
    "    \n",
    "    # Calculando MSE\n",
    "    mse = mean_squared_error(y_test, test_predict)\n",
    "    \n",
    "    # Calculando RMSE\n",
    "    rmse = np.sqrt(mse)\n",
    "    \n",
    "    # Calculando R²\n",
    "    r2 = r2_score(y_test, test_predict)\n",
    "    \n",
    "    # Exibindo os resultados\n",
    "    print(f'Mean Absolute Error (MAE): {mae}')\n",
    "    print(f'Mean Squared Error (MSE): {mse}')\n",
    "    print(f'Root Mean Squared Error (RMSE): {rmse}')\n",
    "    print(f'Coefficient of Determination (R²): {r2}')"
   ]
  },
  {
   "cell_type": "code",
   "execution_count": 22,
   "metadata": {},
   "outputs": [
    {
     "name": "stdout",
     "output_type": "stream",
     "text": [
      "Mean Absolute Error (MAE): 5.211506356057788\n",
      "Mean Squared Error (MSE): 30.744536922790317\n",
      "Root Mean Squared Error (RMSE): 5.5447756422411105\n",
      "Coefficient of Determination (R²): 0.8603774125423598\n"
     ]
    }
   ],
   "source": [
    "regression_metrics(y_test, test_predict)"
   ]
  },
  {
   "cell_type": "code",
   "execution_count": 23,
   "metadata": {},
   "outputs": [
    {
     "name": "stdout",
     "output_type": "stream",
     "text": [
      "Mean Absolute Error (MAE): 2.1028077270984413\n",
      "Mean Squared Error (MSE): 6.934925680575704\n",
      "Root Mean Squared Error (RMSE): 2.6334247056970708\n",
      "Coefficient of Determination (R²): 0.984721281445752\n"
     ]
    }
   ],
   "source": [
    "regression_metrics(y_train, train_predict)"
   ]
  },
  {
   "cell_type": "markdown",
   "metadata": {},
   "source": [
    "### Explicação das Métricas de Regressão\n",
    "\n",
    "#### 1. Erro Absoluto Médio (MAE)\n",
    "- **Definição**: O Erro Absoluto Médio (MAE) mede a média dos erros absolutos entre as previsões e os valores reais. Ele é a média da diferença absoluta entre as previsões e os valores reais.\n",
    "- **Fórmula**: \\(\\text{MAE} = \\frac{1}{n} \\sum_{i=1}^{n} |y_i - \\hat{y}_i|\\)\n",
    "- **Interpretação**:\n",
    "  - **Bom Valor**: Um valor de MAE próximo de 0 indica que as previsões estão muito próximas dos valores reais.\n",
    "  - **Valor Ruim**: Um valor de MAE alto indica que há uma grande diferença entre as previsões e os valores reais.\n",
    "\n",
    "#### 2. Erro Quadrático Médio (MSE)\n",
    "- **Definição**: O Erro Quadrático Médio (MSE) mede a média dos quadrados dos erros entre as previsões e os valores reais. Ele penaliza mais os grandes erros do que os pequenos erros.\n",
    "- **Fórmula**: \\(\\text{MSE} = \\frac{1}{n} \\sum_{i=1}^{n} (y_i - \\hat{y}_i)^2\\)\n",
    "- **Interpretação**:\n",
    "  - **Bom Valor**: Um valor de MSE próximo de 0 indica que as previsões estão muito próximas dos valores reais.\n",
    "  - **Valor Ruim**: Um valor de MSE alto indica que há uma grande diferença entre as previsões e os valores reais.\n",
    "\n",
    "#### 3. Raiz do Erro Quadrático Médio (RMSE)\n",
    "- **Definição**: A Raiz do Erro Quadrático Médio (RMSE) é a raiz quadrada do MSE. Ele fornece uma medida do erro em unidades comparáveis aos valores reais.\n",
    "- **Fórmula**: \\(\\text{RMSE} = \\sqrt{\\text{MSE}}\\)\n",
    "- **Interpretação**:\n",
    "  - **Bom Valor**: Um valor de RMSE próximo de 0 indica que as previsões estão muito próximas dos valores reais.\n",
    "  - **Valor Ruim**: Um valor de RMSE alto indica que há uma grande diferença entre as previsões e os valores reais.\n",
    "\n",
    "#### 4. Coeficiente de Determinação (R²)\n",
    "- **Definição**: O Coeficiente de Determinação (R²) mede a proporção da variância dos valores reais que é explicada pelas previsões do modelo. Ele varia de 0 a 1, onde 1 indica um modelo perfeito.\n",
    "- **Fórmula**: \\(R^2 = 1 - \\frac{\\sum_{i=1}^{n} (y_i - \\hat{y}_i)^2}{\\sum_{i=1}^{n} (y_i - \\bar{y})^2}\\)\n",
    "- **Interpretação**:\n",
    "  - **Bom Valor**: Um valor de R² próximo de 1 indica que as previsões explicam bem a variância dos valores reais.\n",
    "  - **Valor Ruim**: Um valor de R² próximo de 0 indica que as previsões não explicam bem a variância dos valores reais.\n",
    "\n",
    "### Considerações Gerais:\n",
    "- Para todas as métricas (MAE, MSE, RMSE), valores mais baixos são desejáveis, indicando previsões mais precisas.\n",
    "- Para o coeficiente de determinação (R²), valores mais próximos de 1 são desejáveis, indicando que o modelo explica bem a variância dos dados.\n",
    "\n",
    "Um bom modelo de regressão deve ter valores baixos para MAE, MSE e RMSE, e um valor alto para R².\n"
   ]
  },
  {
   "cell_type": "markdown",
   "metadata": {},
   "source": [
    "### 2. Conceitos Básicos de RNNs\n",
    "\n",
    "#### Definição e Características das RNNs\n",
    "Redes Neurais Recorrentes (RNNs) são um tipo de rede neural projetada para processar sequências de dados, como séries temporais e texto. Diferente das redes neurais tradicionais (feedforward), as RNNs possuem conexões recorrentes que permitem a propagação de informações ao longo da sequência.\n",
    "\n",
    "- **Diferenciação entre RNNs e Redes Neurais Tradicionais (Feedforward)**\n",
    "  - **Redes Neurais Tradicionais**: Processam dados de forma independente, sem considerar a ordem ou dependências temporais.\n",
    "  - **RNNs**: Mantêm um estado interno (memória) que é atualizado a cada passo temporal, permitindo que informações de estados anteriores influenciem a saída atual. Isso é crucial para capturar dependências temporais em dados sequenciais.\n",
    "\n",
    "- **Capacidade das RNNs de Manter Informações sobre Estados Anteriores através de Laços de Realimentação**\n",
    "  - As RNNs têm laços de realimentação que conectam os estados ocultos de diferentes passos temporais.\n",
    "  - Cada estado oculto (\\(h_t\\)) é influenciado pela entrada atual (\\(x_t\\)) e pelo estado oculto do passo anterior (\\(h_{t-1}\\)), permitindo que a rede capture e utilize dependências temporais.\n",
    "\n",
    "#### Equações Matemáticas Fundamentais\n",
    "\n",
    "As equações matemáticas fundamentais das RNNs descrevem como os estados ocultos e as saídas são atualizados a cada passo temporal.\n",
    "\n",
    "- **Equação de Ativação das RNNs**\n",
    "  \\[\n",
    "  h_t = \\sigma(W_{xh}x_t + W_{hh}h_{t-1} + b_h)\n",
    "  \\]\n",
    "  Onde:\n",
    "  - \\(h_t\\) é o estado oculto no tempo \\(t\\).\n",
    "  - \\(x_t\\) é a entrada no tempo \\(t\\).\n",
    "  - \\(W_{xh}\\) é a matriz de pesos entre a entrada e o estado oculto.\n",
    "  - \\(W_{hh}\\) é a matriz de pesos entre o estado oculto anterior e o estado oculto atual.\n",
    "  - \\(b_h\\) é o vetor de bias para o estado oculto.\n",
    "  - \\(\\sigma\\) é a função de ativação, geralmente uma função não linear como tanh ou ReLU.\n",
    "\n",
    "- **Equação de Saída das RNNs**\n",
    "  \\[\n",
    "  y_t = \\sigma(W_{hy}h_t + b_y)\n",
    "  \\]\n",
    "  Onde:\n",
    "  - \\(y_t\\) é a saída no tempo \\(t\\).\n",
    "  - \\(h_t\\) é o estado oculto no tempo \\(t\\).\n",
    "  - \\(W_{hy}\\) é a matriz de pesos entre o estado oculto e a saída.\n",
    "  - \\(b_y\\) é o vetor de bias para a saída.\n",
    "  - \\(\\sigma\\) é a função de ativação aplicada à saída.\n",
    "\n",
    "Essas equações mostram como as RNNs processam sequências de dados, atualizando os estados ocultos a cada passo temporal e gerando saídas que dependem tanto das entradas atuais quanto dos estados ocultos anteriores. Essa capacidade de capturar dependências temporais faz das RNNs uma ferramenta poderosa para tarefas que envolvem dados sequenciais.\n"
   ]
  },
  {
   "cell_type": "code",
   "execution_count": 24,
   "metadata": {},
   "outputs": [],
   "source": [
    "import numpy as np\n",
    "import pandas as pd\n",
    "from sklearn.preprocessing import MinMaxScaler\n",
    "from sklearn.model_selection import train_test_split"
   ]
  },
  {
   "cell_type": "code",
   "execution_count": 25,
   "metadata": {},
   "outputs": [],
   "source": [
    "# Carregando os dados do arquivo CSV\n",
    "df = pd.read_csv('acao_google.csv')"
   ]
  },
  {
   "cell_type": "code",
   "execution_count": 26,
   "metadata": {},
   "outputs": [],
   "source": [
    "df = df[['Date', 'Open', 'High', 'Low', 'Volume', 'Close']]"
   ]
  },
  {
   "cell_type": "code",
   "execution_count": 27,
   "metadata": {},
   "outputs": [
    {
     "name": "stdout",
     "output_type": "stream",
     "text": [
      "<class 'pandas.core.frame.DataFrame'>\n",
      "RangeIndex: 1258 entries, 0 to 1257\n",
      "Data columns (total 6 columns):\n",
      " #   Column  Non-Null Count  Dtype  \n",
      "---  ------  --------------  -----  \n",
      " 0   Date    1258 non-null   object \n",
      " 1   Open    1258 non-null   float64\n",
      " 2   High    1258 non-null   float64\n",
      " 3   Low     1258 non-null   float64\n",
      " 4   Volume  1258 non-null   object \n",
      " 5   Close   1258 non-null   object \n",
      "dtypes: float64(3), object(3)\n",
      "memory usage: 59.1+ KB\n"
     ]
    }
   ],
   "source": [
    "df.info()"
   ]
  },
  {
   "cell_type": "code",
   "execution_count": 28,
   "metadata": {},
   "outputs": [
    {
     "data": {
      "text/html": [
       "<div>\n",
       "<style scoped>\n",
       "    .dataframe tbody tr th:only-of-type {\n",
       "        vertical-align: middle;\n",
       "    }\n",
       "\n",
       "    .dataframe tbody tr th {\n",
       "        vertical-align: top;\n",
       "    }\n",
       "\n",
       "    .dataframe thead th {\n",
       "        text-align: right;\n",
       "    }\n",
       "</style>\n",
       "<table border=\"1\" class=\"dataframe\">\n",
       "  <thead>\n",
       "    <tr style=\"text-align: right;\">\n",
       "      <th></th>\n",
       "      <th>Date</th>\n",
       "      <th>Open</th>\n",
       "      <th>High</th>\n",
       "      <th>Low</th>\n",
       "      <th>Volume</th>\n",
       "      <th>Close</th>\n",
       "    </tr>\n",
       "  </thead>\n",
       "  <tbody>\n",
       "    <tr>\n",
       "      <th>0</th>\n",
       "      <td>1/3/2012</td>\n",
       "      <td>325.25</td>\n",
       "      <td>332.83</td>\n",
       "      <td>324.97</td>\n",
       "      <td>7,380,500</td>\n",
       "      <td>663.59</td>\n",
       "    </tr>\n",
       "    <tr>\n",
       "      <th>1</th>\n",
       "      <td>1/4/2012</td>\n",
       "      <td>331.27</td>\n",
       "      <td>333.87</td>\n",
       "      <td>329.08</td>\n",
       "      <td>5,749,400</td>\n",
       "      <td>666.45</td>\n",
       "    </tr>\n",
       "    <tr>\n",
       "      <th>2</th>\n",
       "      <td>1/5/2012</td>\n",
       "      <td>329.83</td>\n",
       "      <td>330.75</td>\n",
       "      <td>326.89</td>\n",
       "      <td>6,590,300</td>\n",
       "      <td>657.21</td>\n",
       "    </tr>\n",
       "    <tr>\n",
       "      <th>3</th>\n",
       "      <td>1/6/2012</td>\n",
       "      <td>328.34</td>\n",
       "      <td>328.77</td>\n",
       "      <td>323.68</td>\n",
       "      <td>5,405,900</td>\n",
       "      <td>648.24</td>\n",
       "    </tr>\n",
       "    <tr>\n",
       "      <th>4</th>\n",
       "      <td>1/9/2012</td>\n",
       "      <td>322.04</td>\n",
       "      <td>322.29</td>\n",
       "      <td>309.46</td>\n",
       "      <td>11,688,800</td>\n",
       "      <td>620.76</td>\n",
       "    </tr>\n",
       "  </tbody>\n",
       "</table>\n",
       "</div>"
      ],
      "text/plain": [
       "       Date    Open    High     Low      Volume   Close\n",
       "0  1/3/2012  325.25  332.83  324.97   7,380,500  663.59\n",
       "1  1/4/2012  331.27  333.87  329.08   5,749,400  666.45\n",
       "2  1/5/2012  329.83  330.75  326.89   6,590,300  657.21\n",
       "3  1/6/2012  328.34  328.77  323.68   5,405,900  648.24\n",
       "4  1/9/2012  322.04  322.29  309.46  11,688,800  620.76"
      ]
     },
     "execution_count": 28,
     "metadata": {},
     "output_type": "execute_result"
    }
   ],
   "source": [
    "df.head()"
   ]
  },
  {
   "cell_type": "code",
   "execution_count": 29,
   "metadata": {},
   "outputs": [],
   "source": [
    "# Removendo a vírgula como separador de milhar na coluna 'Volume' e convertendo para float\n",
    "df['Volume'] = df['Volume'].str.replace(',', '').astype(int)\n",
    "\n",
    "# Removendo a vírgula como separador de milhar na coluna 'Close' e convertendo para float\n",
    "df['Close'] = df['Close'].str.replace(',', '').astype(float)"
   ]
  },
  {
   "cell_type": "code",
   "execution_count": 30,
   "metadata": {},
   "outputs": [
    {
     "data": {
      "text/plain": [
       "Date      0\n",
       "Open      0\n",
       "High      0\n",
       "Low       0\n",
       "Volume    0\n",
       "Close     0\n",
       "dtype: int64"
      ]
     },
     "execution_count": 30,
     "metadata": {},
     "output_type": "execute_result"
    }
   ],
   "source": [
    "df.isna().sum()"
   ]
  },
  {
   "cell_type": "code",
   "execution_count": 31,
   "metadata": {},
   "outputs": [
    {
     "data": {
      "text/html": [
       "<div>\n",
       "<style scoped>\n",
       "    .dataframe tbody tr th:only-of-type {\n",
       "        vertical-align: middle;\n",
       "    }\n",
       "\n",
       "    .dataframe tbody tr th {\n",
       "        vertical-align: top;\n",
       "    }\n",
       "\n",
       "    .dataframe thead th {\n",
       "        text-align: right;\n",
       "    }\n",
       "</style>\n",
       "<table border=\"1\" class=\"dataframe\">\n",
       "  <thead>\n",
       "    <tr style=\"text-align: right;\">\n",
       "      <th></th>\n",
       "      <th>Open</th>\n",
       "      <th>High</th>\n",
       "      <th>Low</th>\n",
       "      <th>Volume</th>\n",
       "      <th>Close</th>\n",
       "    </tr>\n",
       "  </thead>\n",
       "  <tbody>\n",
       "    <tr>\n",
       "      <th>count</th>\n",
       "      <td>1258.000000</td>\n",
       "      <td>1258.000000</td>\n",
       "      <td>1258.000000</td>\n",
       "      <td>1.258000e+03</td>\n",
       "      <td>1258.000000</td>\n",
       "    </tr>\n",
       "    <tr>\n",
       "      <th>mean</th>\n",
       "      <td>533.709833</td>\n",
       "      <td>537.880223</td>\n",
       "      <td>529.007409</td>\n",
       "      <td>3.158107e+06</td>\n",
       "      <td>712.669666</td>\n",
       "    </tr>\n",
       "    <tr>\n",
       "      <th>std</th>\n",
       "      <td>151.904442</td>\n",
       "      <td>153.008811</td>\n",
       "      <td>150.552807</td>\n",
       "      <td>2.273726e+06</td>\n",
       "      <td>164.752591</td>\n",
       "    </tr>\n",
       "    <tr>\n",
       "      <th>min</th>\n",
       "      <td>279.120000</td>\n",
       "      <td>281.210000</td>\n",
       "      <td>277.220000</td>\n",
       "      <td>7.900000e+03</td>\n",
       "      <td>491.200000</td>\n",
       "    </tr>\n",
       "    <tr>\n",
       "      <th>25%</th>\n",
       "      <td>404.115000</td>\n",
       "      <td>406.765000</td>\n",
       "      <td>401.765000</td>\n",
       "      <td>1.621700e+06</td>\n",
       "      <td>576.740000</td>\n",
       "    </tr>\n",
       "    <tr>\n",
       "      <th>50%</th>\n",
       "      <td>537.470000</td>\n",
       "      <td>540.750000</td>\n",
       "      <td>532.990000</td>\n",
       "      <td>2.566150e+06</td>\n",
       "      <td>695.675000</td>\n",
       "    </tr>\n",
       "    <tr>\n",
       "      <th>75%</th>\n",
       "      <td>654.922500</td>\n",
       "      <td>662.587500</td>\n",
       "      <td>644.800000</td>\n",
       "      <td>4.122500e+06</td>\n",
       "      <td>782.105000</td>\n",
       "    </tr>\n",
       "    <tr>\n",
       "      <th>max</th>\n",
       "      <td>816.680000</td>\n",
       "      <td>816.680000</td>\n",
       "      <td>805.140000</td>\n",
       "      <td>2.497790e+07</td>\n",
       "      <td>1216.830000</td>\n",
       "    </tr>\n",
       "  </tbody>\n",
       "</table>\n",
       "</div>"
      ],
      "text/plain": [
       "              Open         High          Low        Volume        Close\n",
       "count  1258.000000  1258.000000  1258.000000  1.258000e+03  1258.000000\n",
       "mean    533.709833   537.880223   529.007409  3.158107e+06   712.669666\n",
       "std     151.904442   153.008811   150.552807  2.273726e+06   164.752591\n",
       "min     279.120000   281.210000   277.220000  7.900000e+03   491.200000\n",
       "25%     404.115000   406.765000   401.765000  1.621700e+06   576.740000\n",
       "50%     537.470000   540.750000   532.990000  2.566150e+06   695.675000\n",
       "75%     654.922500   662.587500   644.800000  4.122500e+06   782.105000\n",
       "max     816.680000   816.680000   805.140000  2.497790e+07  1216.830000"
      ]
     },
     "execution_count": 31,
     "metadata": {},
     "output_type": "execute_result"
    }
   ],
   "source": [
    "df.describe()"
   ]
  },
  {
   "cell_type": "code",
   "execution_count": 32,
   "metadata": {},
   "outputs": [],
   "source": [
    "data = df.drop('Date', axis = 1).values"
   ]
  },
  {
   "cell_type": "code",
   "execution_count": 33,
   "metadata": {},
   "outputs": [],
   "source": [
    "# Função para criar dados históricos de lookback\n",
    "def create_dataset(data, time_step=60):\n",
    "    \"\"\"\n",
    "    Cria dados históricos para previsão, considerando uma janela de tempo.\n",
    "\n",
    "    Args:\n",
    "        data (np.array): O conjunto de dados de entrada, contendo as colunas 'Open', 'High', 'Low' e 'Close'.\n",
    "        time_step (int): O número de passos de tempo (dias) para a janela de lookback.\n",
    "\n",
    "    Returns:\n",
    "        np.array: Os dados de entrada (X) com forma (n_amostras, time_step, n_features).\n",
    "        np.array: Os dados de saída (Y) com forma (n_amostras,).\n",
    "    \"\"\"\n",
    "    # Inicializando as listas para armazenar as sequências de entrada (X) e os valores alvo (Y)\n",
    "    X, y = [], []\n",
    "\n",
    "    # Loop para criar sequências de entrada e os valores alvo correspondentes\n",
    "    for i in range(len(data) - time_step):\n",
    "        # Adicionando a sequência de 'time_step' valores à lista X\n",
    "        X.append(data[i:(i + time_step)])\n",
    "        # Adicionando o valor de 'Close' após a sequência à lista Y\n",
    "        y.append(data[i + time_step, -1])  # Usando 'Close' como o valor alvo\n",
    "\n",
    "    # Convertendo as listas X e Y para arrays numpy\n",
    "    return np.array(X), np.array(y)\n"
   ]
  },
  {
   "cell_type": "markdown",
   "metadata": {},
   "source": [
    "## Explicação da Função `create_dataset`\n",
    "\n",
    "### Por que esta função é necessária?\n",
    "\n",
    "Em problemas de séries temporais, como a previsão de preços de ações, é importante capturar a dependência temporal dos dados. Isso significa que a previsão de um valor futuro depende de uma sequência de valores passados. A função `create_dataset` é usada para preparar os dados de entrada de modo a incluir essas sequências históricas (lookback) para treinar modelos de aprendizado de máquina ou deep learning.\n",
    "\n",
    "### Como a função `create_dataset` funciona?\n",
    "\n",
    "A função `create_dataset` recebe um conjunto de dados e um parâmetro `time_step` que define o tamanho da janela de tempo (lookback) usada para criar as sequências históricas. A função retorna duas arrays: uma contendo as sequências de entrada (`X`) e outra contendo os valores alvo correspondentes (`Y`).\n",
    "\n",
    "### Passo a Passo da Função\n",
    "\n",
    "1. **Inicialização**:\n",
    "    - A função inicializa duas listas vazias, `X` e `Y`, para armazenar as sequências de entrada e os valores alvo, respectivamente.\n",
    "\n",
    "2. **Loop sobre os dados**:\n",
    "    - A função percorre o conjunto de dados usando um loop. Para cada posição no conjunto de dados:\n",
    "        - **Sequência de entrada (`X`)**: A função coleta uma sequência de `time_step` valores e a adiciona à lista `X`.\n",
    "        - **Valor alvo (`Y`)**: O valor de `Close` imediatamente após a sequência é adicionado à lista `Y`. Este é o valor que o modelo tentará prever.\n",
    "\n",
    "3. **Conversão para arrays NumPy**:\n",
    "    - Após a coleta de todas as sequências e valores alvo, as listas `X` e `Y` são convertidas para arrays NumPy para facilitar o uso em modelos de aprendizado de máquina.\n",
    "\n",
    "### Exemplo Prático\n",
    "\n",
    "Suponha que temos dados de preços de ações com colunas `Open`, `High`, `Low` e `Close`, e queremos prever o preço de fechamento (`Close`) usando os últimos 60 dias de dados. A função `create_dataset` será usada da seguinte maneira:\n",
    "\n",
    "```python\n",
    "data = df[['Open', 'High', 'Low', 'Close']].values  # Conjunto de dados de entrada\n",
    "time_step = 60  # Tamanho da janela de lookback\n",
    "X, Y = create_dataset(data, time_step)  # Criando as sequências de entrada e valores alvo\n"
   ]
  },
  {
   "cell_type": "code",
   "execution_count": 34,
   "metadata": {},
   "outputs": [],
   "source": [
    "# Criando os dados históricos com lookback de 60 dias\n",
    "time_step = 14\n",
    "X, y = create_dataset(data, time_step)"
   ]
  },
  {
   "cell_type": "code",
   "execution_count": 35,
   "metadata": {},
   "outputs": [
    {
     "data": {
      "text/plain": [
       "array([[[3.25250e+02, 3.32830e+02, 3.24970e+02, 7.38050e+06,\n",
       "         6.63590e+02],\n",
       "        [3.31270e+02, 3.33870e+02, 3.29080e+02, 5.74940e+06,\n",
       "         6.66450e+02],\n",
       "        [3.29830e+02, 3.30750e+02, 3.26890e+02, 6.59030e+06,\n",
       "         6.57210e+02],\n",
       "        ...,\n",
       "        [3.19300e+02, 3.19300e+02, 3.14550e+02, 1.26578e+07,\n",
       "         6.37820e+02],\n",
       "        [2.94160e+02, 2.94400e+02, 2.89760e+02, 2.12318e+07,\n",
       "         5.84390e+02],\n",
       "        [2.91910e+02, 2.93230e+02, 2.90490e+02, 6.85130e+06,\n",
       "         5.83920e+02]],\n",
       "\n",
       "       [[3.31270e+02, 3.33870e+02, 3.29080e+02, 5.74940e+06,\n",
       "         6.66450e+02],\n",
       "        [3.29830e+02, 3.30750e+02, 3.26890e+02, 6.59030e+06,\n",
       "         6.57210e+02],\n",
       "        [3.28340e+02, 3.28770e+02, 3.23680e+02, 5.40590e+06,\n",
       "         6.48240e+02],\n",
       "        ...,\n",
       "        [2.94160e+02, 2.94400e+02, 2.89760e+02, 2.12318e+07,\n",
       "         5.84390e+02],\n",
       "        [2.91910e+02, 2.93230e+02, 2.90490e+02, 6.85130e+06,\n",
       "         5.83920e+02],\n",
       "        [2.92070e+02, 2.92740e+02, 2.87920e+02, 6.13440e+06,\n",
       "         5.79340e+02]],\n",
       "\n",
       "       [[3.29830e+02, 3.30750e+02, 3.26890e+02, 6.59030e+06,\n",
       "         6.57210e+02],\n",
       "        [3.28340e+02, 3.28770e+02, 3.23680e+02, 5.40590e+06,\n",
       "         6.48240e+02],\n",
       "        [3.22040e+02, 3.22290e+02, 3.09460e+02, 1.16888e+07,\n",
       "         6.20760e+02],\n",
       "        ...,\n",
       "        [2.91910e+02, 2.93230e+02, 2.90490e+02, 6.85130e+06,\n",
       "         5.83920e+02],\n",
       "        [2.92070e+02, 2.92740e+02, 2.87920e+02, 6.13440e+06,\n",
       "         5.79340e+02],\n",
       "        [2.87680e+02, 2.88270e+02, 2.82130e+02, 1.00127e+07,\n",
       "         5.67930e+02]],\n",
       "\n",
       "       ...,\n",
       "\n",
       "       [[7.61000e+02, 7.71360e+02, 7.55800e+02, 1.76100e+06,\n",
       "         7.71190e+02],\n",
       "        [7.72480e+02, 7.78180e+02, 7.67230e+02, 1.48810e+06,\n",
       "         7.76420e+02],\n",
       "        [7.80000e+02, 7.89430e+02, 7.79020e+02, 1.82190e+06,\n",
       "         7.89290e+02],\n",
       "        ...,\n",
       "        [7.92360e+02, 7.93320e+02, 7.88580e+02, 9.72200e+05,\n",
       "         7.91260e+02],\n",
       "        [7.90900e+02, 7.92740e+02, 7.87280e+02, 6.23400e+05,\n",
       "         7.89910e+02],\n",
       "        [7.90680e+02, 7.97860e+02, 7.87660e+02, 7.89100e+05,\n",
       "         7.91550e+02]],\n",
       "\n",
       "       [[7.72480e+02, 7.78180e+02, 7.67230e+02, 1.48810e+06,\n",
       "         7.76420e+02],\n",
       "        [7.80000e+02, 7.89430e+02, 7.79020e+02, 1.82190e+06,\n",
       "         7.89290e+02],\n",
       "        [7.85040e+02, 7.91250e+02, 7.84350e+02, 2.10410e+06,\n",
       "         7.89270e+02],\n",
       "        ...,\n",
       "        [7.90900e+02, 7.92740e+02, 7.87280e+02, 6.23400e+05,\n",
       "         7.89910e+02],\n",
       "        [7.90680e+02, 7.97860e+02, 7.87660e+02, 7.89100e+05,\n",
       "         7.91550e+02],\n",
       "        [7.93700e+02, 7.94230e+02, 7.83200e+02, 1.15380e+06,\n",
       "         7.85050e+02]],\n",
       "\n",
       "       [[7.80000e+02, 7.89430e+02, 7.79020e+02, 1.82190e+06,\n",
       "         7.89290e+02],\n",
       "        [7.85040e+02, 7.91250e+02, 7.84350e+02, 2.10410e+06,\n",
       "         7.89270e+02],\n",
       "        [7.93900e+02, 8.04380e+02, 7.93340e+02, 2.14520e+06,\n",
       "         7.96100e+02],\n",
       "        ...,\n",
       "        [7.90680e+02, 7.97860e+02, 7.87660e+02, 7.89100e+05,\n",
       "         7.91550e+02],\n",
       "        [7.93700e+02, 7.94230e+02, 7.83200e+02, 1.15380e+06,\n",
       "         7.85050e+02],\n",
       "        [7.83330e+02, 7.85930e+02, 7.78920e+02, 7.44300e+05,\n",
       "         7.82790e+02]]])"
      ]
     },
     "execution_count": 35,
     "metadata": {},
     "output_type": "execute_result"
    }
   ],
   "source": [
    "X"
   ]
  },
  {
   "cell_type": "code",
   "execution_count": 36,
   "metadata": {},
   "outputs": [
    {
     "data": {
      "text/plain": [
       "array([[3.25250e+02, 3.32830e+02, 3.24970e+02, 7.38050e+06, 6.63590e+02],\n",
       "       [3.31270e+02, 3.33870e+02, 3.29080e+02, 5.74940e+06, 6.66450e+02],\n",
       "       [3.29830e+02, 3.30750e+02, 3.26890e+02, 6.59030e+06, 6.57210e+02],\n",
       "       [3.28340e+02, 3.28770e+02, 3.23680e+02, 5.40590e+06, 6.48240e+02],\n",
       "       [3.22040e+02, 3.22290e+02, 3.09460e+02, 1.16888e+07, 6.20760e+02],\n",
       "       [3.13700e+02, 3.15720e+02, 3.07300e+02, 8.82400e+06, 6.21430e+02],\n",
       "       [3.10590e+02, 3.13520e+02, 3.09400e+02, 4.81780e+06, 6.24250e+02],\n",
       "       [3.14430e+02, 3.15260e+02, 3.12080e+02, 3.76440e+06, 6.27920e+02],\n",
       "       [3.11960e+02, 3.12300e+02, 3.09370e+02, 4.63180e+06, 6.23280e+02],\n",
       "       [3.14810e+02, 3.14810e+02, 3.11670e+02, 3.83280e+06, 6.26860e+02],\n",
       "       [3.12140e+02, 3.15820e+02, 3.09900e+02, 5.54400e+06, 6.31180e+02],\n",
       "       [3.19300e+02, 3.19300e+02, 3.14550e+02, 1.26578e+07, 6.37820e+02],\n",
       "       [2.94160e+02, 2.94400e+02, 2.89760e+02, 2.12318e+07, 5.84390e+02],\n",
       "       [2.91910e+02, 2.93230e+02, 2.90490e+02, 6.85130e+06, 5.83920e+02]])"
      ]
     },
     "execution_count": 36,
     "metadata": {},
     "output_type": "execute_result"
    }
   ],
   "source": [
    "X[0]"
   ]
  },
  {
   "cell_type": "code",
   "execution_count": 37,
   "metadata": {},
   "outputs": [],
   "source": [
    "# Dividindo os dados em conjuntos de treino e teste \n",
    "X_train = X[:int(len(X) * 0.8)]\n",
    "X_test = X[int(len(X) * 0.8):]\n",
    "\n",
    "y_train = y[:int(len(y) * 0.8)]\n",
    "y_test = y[int(len(y) * 0.8):]"
   ]
  },
  {
   "cell_type": "code",
   "execution_count": 38,
   "metadata": {},
   "outputs": [],
   "source": [
    "# Normalizando os dados de treinamento\n",
    "scaler_X = MinMaxScaler(feature_range=(0, 1))\n",
    "scaler_y = MinMaxScaler(feature_range=(0, 1))\n",
    "\n",
    "X_train = scaler_X.fit_transform(X_train.reshape(-1, X_train.shape[-1])).reshape(X_train.shape)\n",
    "y_train = scaler_y.fit_transform(y_train.reshape(-1, 1))"
   ]
  },
  {
   "cell_type": "code",
   "execution_count": 39,
   "metadata": {},
   "outputs": [],
   "source": [
    "# Normalizando os dados de teste\n",
    "X_test = scaler_X.transform(X_test.reshape(-1, X_test.shape[-1])).reshape(X_test.shape)\n",
    "y_test = scaler_y.transform(y_test.reshape(-1, 1))"
   ]
  },
  {
   "cell_type": "code",
   "execution_count": 40,
   "metadata": {},
   "outputs": [
    {
     "name": "stdout",
     "output_type": "stream",
     "text": [
      "X_train shape: (995, 14, 5)\n",
      "y_train shape: (995, 1)\n",
      "X_test shape: (249, 14, 5)\n",
      "y_test shape: (249, 1)\n"
     ]
    }
   ],
   "source": [
    "# Verificando as formas dos conjuntos de dados\n",
    "print(\"X_train shape:\", X_train.shape)\n",
    "print(\"y_train shape:\", y_train.shape)\n",
    "print(\"X_test shape:\", X_test.shape)\n",
    "print(\"y_test shape:\", y_test.shape)"
   ]
  },
  {
   "cell_type": "code",
   "execution_count": 41,
   "metadata": {},
   "outputs": [
    {
     "data": {
      "text/plain": [
       "5"
      ]
     },
     "execution_count": 41,
     "metadata": {},
     "output_type": "execute_result"
    }
   ],
   "source": [
    "X_train.shape[2]"
   ]
  },
  {
   "cell_type": "code",
   "execution_count": 42,
   "metadata": {},
   "outputs": [
    {
     "data": {
      "text/plain": [
       "(995, 14, 5)"
      ]
     },
     "execution_count": 42,
     "metadata": {},
     "output_type": "execute_result"
    }
   ],
   "source": [
    "X_train.shape"
   ]
  },
  {
   "cell_type": "code",
   "execution_count": 43,
   "metadata": {},
   "outputs": [
    {
     "name": "stderr",
     "output_type": "stream",
     "text": [
      "/Library/Frameworks/Python.framework/Versions/3.12/lib/python3.12/site-packages/keras/src/layers/rnn/rnn.py:204: UserWarning: Do not pass an `input_shape`/`input_dim` argument to a layer. When using Sequential models, prefer using an `Input(shape)` object as the first layer in the model instead.\n",
      "  super().__init__(**kwargs)\n"
     ]
    },
    {
     "data": {
      "text/html": [
       "<pre style=\"white-space:pre;overflow-x:auto;line-height:normal;font-family:Menlo,'DejaVu Sans Mono',consolas,'Courier New',monospace\"><span style=\"font-weight: bold\">Model: \"sequential_1\"</span>\n",
       "</pre>\n"
      ],
      "text/plain": [
       "\u001b[1mModel: \"sequential_1\"\u001b[0m\n"
      ]
     },
     "metadata": {},
     "output_type": "display_data"
    },
    {
     "data": {
      "text/html": [
       "<pre style=\"white-space:pre;overflow-x:auto;line-height:normal;font-family:Menlo,'DejaVu Sans Mono',consolas,'Courier New',monospace\">┏━━━━━━━━━━━━━━━━━━━━━━━━━━━━━━━━━┳━━━━━━━━━━━━━━━━━━━━━━━━┳━━━━━━━━━━━━━━━┓\n",
       "┃<span style=\"font-weight: bold\"> Layer (type)                    </span>┃<span style=\"font-weight: bold\"> Output Shape           </span>┃<span style=\"font-weight: bold\">       Param # </span>┃\n",
       "┡━━━━━━━━━━━━━━━━━━━━━━━━━━━━━━━━━╇━━━━━━━━━━━━━━━━━━━━━━━━╇━━━━━━━━━━━━━━━┩\n",
       "│ simple_rnn_1 (<span style=\"color: #0087ff; text-decoration-color: #0087ff\">SimpleRNN</span>)        │ (<span style=\"color: #00d7ff; text-decoration-color: #00d7ff\">None</span>, <span style=\"color: #00af00; text-decoration-color: #00af00\">14</span>, <span style=\"color: #00af00; text-decoration-color: #00af00\">50</span>)         │         <span style=\"color: #00af00; text-decoration-color: #00af00\">2,800</span> │\n",
       "├─────────────────────────────────┼────────────────────────┼───────────────┤\n",
       "│ dropout_1 (<span style=\"color: #0087ff; text-decoration-color: #0087ff\">Dropout</span>)             │ (<span style=\"color: #00d7ff; text-decoration-color: #00d7ff\">None</span>, <span style=\"color: #00af00; text-decoration-color: #00af00\">14</span>, <span style=\"color: #00af00; text-decoration-color: #00af00\">50</span>)         │             <span style=\"color: #00af00; text-decoration-color: #00af00\">0</span> │\n",
       "├─────────────────────────────────┼────────────────────────┼───────────────┤\n",
       "│ simple_rnn_2 (<span style=\"color: #0087ff; text-decoration-color: #0087ff\">SimpleRNN</span>)        │ (<span style=\"color: #00d7ff; text-decoration-color: #00d7ff\">None</span>, <span style=\"color: #00af00; text-decoration-color: #00af00\">50</span>)             │         <span style=\"color: #00af00; text-decoration-color: #00af00\">5,050</span> │\n",
       "├─────────────────────────────────┼────────────────────────┼───────────────┤\n",
       "│ dropout_2 (<span style=\"color: #0087ff; text-decoration-color: #0087ff\">Dropout</span>)             │ (<span style=\"color: #00d7ff; text-decoration-color: #00d7ff\">None</span>, <span style=\"color: #00af00; text-decoration-color: #00af00\">50</span>)             │             <span style=\"color: #00af00; text-decoration-color: #00af00\">0</span> │\n",
       "├─────────────────────────────────┼────────────────────────┼───────────────┤\n",
       "│ dense_1 (<span style=\"color: #0087ff; text-decoration-color: #0087ff\">Dense</span>)                 │ (<span style=\"color: #00d7ff; text-decoration-color: #00d7ff\">None</span>, <span style=\"color: #00af00; text-decoration-color: #00af00\">1</span>)              │            <span style=\"color: #00af00; text-decoration-color: #00af00\">51</span> │\n",
       "└─────────────────────────────────┴────────────────────────┴───────────────┘\n",
       "</pre>\n"
      ],
      "text/plain": [
       "┏━━━━━━━━━━━━━━━━━━━━━━━━━━━━━━━━━┳━━━━━━━━━━━━━━━━━━━━━━━━┳━━━━━━━━━━━━━━━┓\n",
       "┃\u001b[1m \u001b[0m\u001b[1mLayer (type)                   \u001b[0m\u001b[1m \u001b[0m┃\u001b[1m \u001b[0m\u001b[1mOutput Shape          \u001b[0m\u001b[1m \u001b[0m┃\u001b[1m \u001b[0m\u001b[1m      Param #\u001b[0m\u001b[1m \u001b[0m┃\n",
       "┡━━━━━━━━━━━━━━━━━━━━━━━━━━━━━━━━━╇━━━━━━━━━━━━━━━━━━━━━━━━╇━━━━━━━━━━━━━━━┩\n",
       "│ simple_rnn_1 (\u001b[38;5;33mSimpleRNN\u001b[0m)        │ (\u001b[38;5;45mNone\u001b[0m, \u001b[38;5;34m14\u001b[0m, \u001b[38;5;34m50\u001b[0m)         │         \u001b[38;5;34m2,800\u001b[0m │\n",
       "├─────────────────────────────────┼────────────────────────┼───────────────┤\n",
       "│ dropout_1 (\u001b[38;5;33mDropout\u001b[0m)             │ (\u001b[38;5;45mNone\u001b[0m, \u001b[38;5;34m14\u001b[0m, \u001b[38;5;34m50\u001b[0m)         │             \u001b[38;5;34m0\u001b[0m │\n",
       "├─────────────────────────────────┼────────────────────────┼───────────────┤\n",
       "│ simple_rnn_2 (\u001b[38;5;33mSimpleRNN\u001b[0m)        │ (\u001b[38;5;45mNone\u001b[0m, \u001b[38;5;34m50\u001b[0m)             │         \u001b[38;5;34m5,050\u001b[0m │\n",
       "├─────────────────────────────────┼────────────────────────┼───────────────┤\n",
       "│ dropout_2 (\u001b[38;5;33mDropout\u001b[0m)             │ (\u001b[38;5;45mNone\u001b[0m, \u001b[38;5;34m50\u001b[0m)             │             \u001b[38;5;34m0\u001b[0m │\n",
       "├─────────────────────────────────┼────────────────────────┼───────────────┤\n",
       "│ dense_1 (\u001b[38;5;33mDense\u001b[0m)                 │ (\u001b[38;5;45mNone\u001b[0m, \u001b[38;5;34m1\u001b[0m)              │            \u001b[38;5;34m51\u001b[0m │\n",
       "└─────────────────────────────────┴────────────────────────┴───────────────┘\n"
      ]
     },
     "metadata": {},
     "output_type": "display_data"
    },
    {
     "data": {
      "text/html": [
       "<pre style=\"white-space:pre;overflow-x:auto;line-height:normal;font-family:Menlo,'DejaVu Sans Mono',consolas,'Courier New',monospace\"><span style=\"font-weight: bold\"> Total params: </span><span style=\"color: #00af00; text-decoration-color: #00af00\">7,901</span> (30.86 KB)\n",
       "</pre>\n"
      ],
      "text/plain": [
       "\u001b[1m Total params: \u001b[0m\u001b[38;5;34m7,901\u001b[0m (30.86 KB)\n"
      ]
     },
     "metadata": {},
     "output_type": "display_data"
    },
    {
     "data": {
      "text/html": [
       "<pre style=\"white-space:pre;overflow-x:auto;line-height:normal;font-family:Menlo,'DejaVu Sans Mono',consolas,'Courier New',monospace\"><span style=\"font-weight: bold\"> Trainable params: </span><span style=\"color: #00af00; text-decoration-color: #00af00\">7,901</span> (30.86 KB)\n",
       "</pre>\n"
      ],
      "text/plain": [
       "\u001b[1m Trainable params: \u001b[0m\u001b[38;5;34m7,901\u001b[0m (30.86 KB)\n"
      ]
     },
     "metadata": {},
     "output_type": "display_data"
    },
    {
     "data": {
      "text/html": [
       "<pre style=\"white-space:pre;overflow-x:auto;line-height:normal;font-family:Menlo,'DejaVu Sans Mono',consolas,'Courier New',monospace\"><span style=\"font-weight: bold\"> Non-trainable params: </span><span style=\"color: #00af00; text-decoration-color: #00af00\">0</span> (0.00 B)\n",
       "</pre>\n"
      ],
      "text/plain": [
       "\u001b[1m Non-trainable params: \u001b[0m\u001b[38;5;34m0\u001b[0m (0.00 B)\n"
      ]
     },
     "metadata": {},
     "output_type": "display_data"
    }
   ],
   "source": [
    "# Definindo a arquitetura do modelo RNN\n",
    "model = Sequential()\n",
    "\n",
    "# Adicionando uma camada RNN com 50 unidades e ativação tanh\n",
    "# Esta camada processa a sequência de entrada e mantém um estado interno para capturar dependências temporais\n",
    "# return_sequences=True garante que todas as saídas da sequência sejam retornadas, não apenas o último estado\n",
    "model.add(SimpleRNN(units=50, activation='tanh', return_sequences=True, input_shape=(X_train.shape[1], X_train.shape[2])))\n",
    "\n",
    "# Adicionando uma camada Dropout com taxa de 0.2 para evitar overfitting\n",
    "# Dropout ajuda a regularizar o modelo desligando aleatoriamente uma fração das unidades durante o treinamento\n",
    "model.add(Dropout(0.2))\n",
    "\n",
    "# Adicionando uma segunda camada RNN com 50 unidades e ativação tanh\n",
    "# Adiciona capacidade extra ao modelo para aprender padrões mais complexos nas sequências de entrada\n",
    "# Esta camada não precisa de return_sequences=True, pois é a última camada RNN antes da camada densa\n",
    "model.add(SimpleRNN(units=50, activation='tanh'))\n",
    "\n",
    "# Adicionando uma segunda camada Dropout com taxa de 0.2 para regularização adicional\n",
    "model.add(Dropout(0.2))\n",
    "\n",
    "# Adicionando uma camada densa (fully connected) com 1 unidade\n",
    "# Esta camada gera a previsão final do modelo\n",
    "model.add(Dense(units=1))\n",
    "\n",
    "# Compilando o modelo com otimizador adam e função de perda mean_squared_error\n",
    "model.compile(optimizer='adam', loss='mean_squared_error')\n",
    "\n",
    "# Exibindo a arquitetura do modelo\n",
    "model.summary()\n"
   ]
  },
  {
   "cell_type": "markdown",
   "metadata": {},
   "source": [
    "### 3. Estrutura e Funcionamento das RNNs\n",
    "\n",
    "#### Arquitetura de uma RNN\n",
    "\n",
    "A arquitetura de uma Rede Neural Recorrente (RNN) é composta por várias camadas que trabalham juntas para processar dados sequenciais. Essas camadas incluem:\n",
    "\n",
    "- **Camada de Entrada**: Recebe os dados de entrada em uma sequência temporal. Cada elemento da sequência é processado um a um pela RNN.\n",
    "- **Camadas Ocultas Recorrentes**: Estas camadas são responsáveis por manter e atualizar o estado oculto da RNN. Cada unidade recorrente dentro dessas camadas utiliza os dados de entrada atuais e o estado oculto anterior para calcular o novo estado oculto.\n",
    "- **Camada de Saída**: Gera a saída da RNN a partir do estado oculto atual. A saída pode ser usada diretamente ou passar por camadas adicionais dependendo da aplicação.\n",
    "\n",
    "\n",
    "\n",
    "\n",
    "#### Propagação da Informação em RNNs\n",
    "\n",
    "**Propagação Direta (Forward Propagation)**\n",
    "A propagação direta em uma RNN envolve o cálculo do estado oculto e da saída para cada elemento da sequência de entrada. O processo é realizado da seguinte forma:\n",
    "\n",
    "1. **Estado Oculto Atual (\\(h_t\\))**: Calculado utilizando a entrada atual (\\(x_t\\)) e o estado oculto anterior (\\(h_{t-1}\\)):\n",
    "   \\[   h_t = \\sigma(W_{xh}x_t + W_{hh}h_{t-1} + b_h)   \\]\n",
    "   Onde:\n",
    "   - \\(W_{xh}\\) é a matriz de pesos entre a entrada e o estado oculto.\n",
    "   - \\(W_{hh}\\) é a matriz de pesos entre o estado oculto anterior e o estado oculto atual.\n",
    "   - \\(b_h\\) é o vetor de bias para o estado oculto.\n",
    "   - \\(\\sigma\\) é a função de ativação (e.g., tanh ou ReLU).\n",
    "\n",
    "2. **Saída Atual (\\(y_t\\))**: Calculada a partir do estado oculto atual:\n",
    "   \\[   y_t = \\sigma(W_{hy}h_t + b_y)   \\]\n",
    "   Onde:\n",
    "   - \\(W_{hy}\\) é a matriz de pesos entre o estado oculto e a saída.\n",
    "   - \\(b_y\\) é o vetor de bias para a saída.\n",
    "   - \\(\\sigma\\) é a função de ativação aplicada à saída.\n",
    "\n",
    "**Propagação Retroativa (Backpropagation Through Time - BPTT)**\n",
    "A propagação retroativa em RNNs, conhecida como Backpropagation Through Time (BPTT), é o método utilizado para treinar a rede ajustando os pesos com base nos erros de predição. O processo envolve:\n",
    "\n",
    "1. **Cálculo do Erro**: O erro é calculado comparando a saída da RNN com o valor esperado (ground truth).\n",
    "\n",
    "2. **Propagação do Erro Através do Tempo**: O erro é propagado para trás através do tempo, atualizando os pesos não apenas com base no estado atual, mas também considerando como os estados anteriores influenciaram o estado atual.\n",
    "\n",
    "3. **Atualização dos Pesos**: Os pesos da RNN são ajustados para minimizar o erro de predição utilizando gradientes calculados durante a propagação retroativa.\n",
    "\n",
    "Este processo permite que a RNN aprenda a ajustar seus parâmetros para capturar melhor as dependências temporais nos dados sequenciais, melhorando sua capacidade de fazer previsões precisas.\n"
   ]
  },
  {
   "cell_type": "code",
   "execution_count": 44,
   "metadata": {},
   "outputs": [
    {
     "name": "stdout",
     "output_type": "stream",
     "text": [
      "Epoch 1/100\n",
      "28/28 - 3s - 107ms/step - loss: 0.3721 - val_loss: 0.0018\n",
      "Epoch 2/100\n",
      "28/28 - 0s - 6ms/step - loss: 0.1252 - val_loss: 0.0167\n",
      "Epoch 3/100\n",
      "28/28 - 0s - 6ms/step - loss: 0.0780 - val_loss: 0.0086\n",
      "Epoch 4/100\n",
      "28/28 - 0s - 6ms/step - loss: 0.0506 - val_loss: 0.0046\n",
      "Epoch 5/100\n",
      "28/28 - 0s - 6ms/step - loss: 0.0430 - val_loss: 0.0301\n",
      "Epoch 6/100\n",
      "28/28 - 0s - 6ms/step - loss: 0.0339 - val_loss: 0.0012\n",
      "Epoch 7/100\n",
      "28/28 - 0s - 6ms/step - loss: 0.0287 - val_loss: 0.0127\n",
      "Epoch 8/100\n",
      "28/28 - 0s - 6ms/step - loss: 0.0286 - val_loss: 0.0108\n",
      "Epoch 9/100\n",
      "28/28 - 0s - 6ms/step - loss: 0.0204 - val_loss: 0.0057\n",
      "Epoch 10/100\n",
      "28/28 - 0s - 6ms/step - loss: 0.0207 - val_loss: 0.0034\n",
      "Epoch 11/100\n",
      "28/28 - 0s - 6ms/step - loss: 0.0185 - val_loss: 0.0036\n",
      "Epoch 12/100\n",
      "28/28 - 0s - 6ms/step - loss: 0.0160 - val_loss: 0.0024\n",
      "Epoch 13/100\n",
      "28/28 - 0s - 6ms/step - loss: 0.0173 - val_loss: 9.7074e-04\n",
      "Epoch 14/100\n",
      "28/28 - 0s - 6ms/step - loss: 0.0139 - val_loss: 0.0035\n",
      "Epoch 15/100\n",
      "28/28 - 0s - 6ms/step - loss: 0.0139 - val_loss: 0.0015\n",
      "Epoch 16/100\n",
      "28/28 - 0s - 6ms/step - loss: 0.0128 - val_loss: 0.0038\n",
      "Epoch 17/100\n",
      "28/28 - 0s - 6ms/step - loss: 0.0125 - val_loss: 0.0034\n",
      "Epoch 18/100\n",
      "28/28 - 0s - 6ms/step - loss: 0.0116 - val_loss: 0.0023\n",
      "Epoch 19/100\n",
      "28/28 - 0s - 6ms/step - loss: 0.0118 - val_loss: 7.3674e-04\n",
      "Epoch 20/100\n",
      "28/28 - 0s - 6ms/step - loss: 0.0108 - val_loss: 0.0041\n",
      "Epoch 21/100\n",
      "28/28 - 0s - 6ms/step - loss: 0.0093 - val_loss: 7.3072e-04\n",
      "Epoch 22/100\n",
      "28/28 - 0s - 6ms/step - loss: 0.0112 - val_loss: 0.0040\n",
      "Epoch 23/100\n",
      "28/28 - 0s - 6ms/step - loss: 0.0099 - val_loss: 0.0030\n",
      "Epoch 24/100\n",
      "28/28 - 0s - 6ms/step - loss: 0.0087 - val_loss: 0.0015\n",
      "Epoch 25/100\n",
      "28/28 - 0s - 7ms/step - loss: 0.0091 - val_loss: 0.0016\n",
      "Epoch 26/100\n",
      "28/28 - 0s - 8ms/step - loss: 0.0086 - val_loss: 9.5972e-04\n",
      "Epoch 27/100\n",
      "28/28 - 0s - 7ms/step - loss: 0.0084 - val_loss: 9.7126e-04\n",
      "Epoch 28/100\n",
      "28/28 - 0s - 6ms/step - loss: 0.0073 - val_loss: 7.3699e-04\n",
      "Epoch 29/100\n",
      "28/28 - 0s - 6ms/step - loss: 0.0078 - val_loss: 7.7386e-04\n",
      "Epoch 30/100\n",
      "28/28 - 0s - 6ms/step - loss: 0.0080 - val_loss: 0.0011\n",
      "Epoch 31/100\n",
      "28/28 - 0s - 6ms/step - loss: 0.0075 - val_loss: 0.0015\n",
      "Epoch 32/100\n",
      "28/28 - 0s - 6ms/step - loss: 0.0069 - val_loss: 0.0058\n",
      "Epoch 33/100\n",
      "28/28 - 0s - 6ms/step - loss: 0.0071 - val_loss: 6.0644e-04\n",
      "Epoch 34/100\n",
      "28/28 - 0s - 6ms/step - loss: 0.0064 - val_loss: 0.0017\n",
      "Epoch 35/100\n",
      "28/28 - 0s - 6ms/step - loss: 0.0066 - val_loss: 6.3127e-04\n",
      "Epoch 36/100\n",
      "28/28 - 0s - 6ms/step - loss: 0.0056 - val_loss: 5.9640e-04\n",
      "Epoch 37/100\n",
      "28/28 - 0s - 6ms/step - loss: 0.0060 - val_loss: 0.0016\n",
      "Epoch 38/100\n",
      "28/28 - 0s - 6ms/step - loss: 0.0056 - val_loss: 4.5241e-04\n",
      "Epoch 39/100\n",
      "28/28 - 0s - 6ms/step - loss: 0.0060 - val_loss: 5.7208e-04\n",
      "Epoch 40/100\n",
      "28/28 - 0s - 6ms/step - loss: 0.0054 - val_loss: 4.6888e-04\n",
      "Epoch 41/100\n",
      "28/28 - 0s - 6ms/step - loss: 0.0054 - val_loss: 0.0010\n",
      "Epoch 42/100\n",
      "28/28 - 0s - 6ms/step - loss: 0.0052 - val_loss: 4.9540e-04\n",
      "Epoch 43/100\n",
      "28/28 - 0s - 6ms/step - loss: 0.0052 - val_loss: 5.5838e-04\n",
      "Epoch 44/100\n",
      "28/28 - 0s - 6ms/step - loss: 0.0050 - val_loss: 0.0010\n",
      "Epoch 45/100\n",
      "28/28 - 0s - 6ms/step - loss: 0.0053 - val_loss: 4.7797e-04\n",
      "Epoch 46/100\n",
      "28/28 - 0s - 6ms/step - loss: 0.0049 - val_loss: 4.7671e-04\n",
      "Epoch 47/100\n",
      "28/28 - 0s - 6ms/step - loss: 0.0051 - val_loss: 4.8352e-04\n",
      "Epoch 48/100\n",
      "28/28 - 0s - 6ms/step - loss: 0.0041 - val_loss: 4.5862e-04\n",
      "Epoch 49/100\n",
      "28/28 - 0s - 8ms/step - loss: 0.0047 - val_loss: 7.8624e-04\n",
      "Epoch 50/100\n",
      "28/28 - 0s - 6ms/step - loss: 0.0045 - val_loss: 5.0032e-04\n",
      "Epoch 51/100\n",
      "28/28 - 0s - 6ms/step - loss: 0.0046 - val_loss: 4.7632e-04\n",
      "Epoch 52/100\n",
      "28/28 - 0s - 6ms/step - loss: 0.0043 - val_loss: 5.4750e-04\n",
      "Epoch 53/100\n",
      "28/28 - 0s - 6ms/step - loss: 0.0048 - val_loss: 6.1110e-04\n",
      "Epoch 54/100\n",
      "28/28 - 0s - 6ms/step - loss: 0.0044 - val_loss: 0.0011\n",
      "Epoch 55/100\n",
      "28/28 - 0s - 6ms/step - loss: 0.0045 - val_loss: 5.0270e-04\n",
      "Epoch 56/100\n",
      "28/28 - 0s - 6ms/step - loss: 0.0037 - val_loss: 4.1263e-04\n",
      "Epoch 57/100\n",
      "28/28 - 0s - 6ms/step - loss: 0.0044 - val_loss: 5.1869e-04\n",
      "Epoch 58/100\n",
      "28/28 - 0s - 6ms/step - loss: 0.0045 - val_loss: 0.0012\n",
      "Epoch 59/100\n",
      "28/28 - 0s - 6ms/step - loss: 0.0040 - val_loss: 4.8297e-04\n",
      "Epoch 60/100\n",
      "28/28 - 0s - 6ms/step - loss: 0.0033 - val_loss: 0.0011\n",
      "Epoch 61/100\n",
      "28/28 - 0s - 6ms/step - loss: 0.0037 - val_loss: 0.0014\n",
      "Epoch 62/100\n",
      "28/28 - 0s - 6ms/step - loss: 0.0042 - val_loss: 5.4266e-04\n",
      "Epoch 63/100\n",
      "28/28 - 0s - 6ms/step - loss: 0.0039 - val_loss: 0.0011\n",
      "Epoch 64/100\n",
      "28/28 - 0s - 6ms/step - loss: 0.0035 - val_loss: 5.5590e-04\n",
      "Epoch 65/100\n",
      "28/28 - 0s - 6ms/step - loss: 0.0038 - val_loss: 7.9240e-04\n",
      "Epoch 66/100\n",
      "28/28 - 0s - 6ms/step - loss: 0.0035 - val_loss: 7.3847e-04\n",
      "Epoch 67/100\n",
      "28/28 - 0s - 6ms/step - loss: 0.0039 - val_loss: 6.8379e-04\n",
      "Epoch 68/100\n",
      "28/28 - 0s - 6ms/step - loss: 0.0033 - val_loss: 4.8178e-04\n",
      "Epoch 69/100\n",
      "28/28 - 0s - 6ms/step - loss: 0.0042 - val_loss: 4.4664e-04\n",
      "Epoch 70/100\n",
      "28/28 - 0s - 6ms/step - loss: 0.0042 - val_loss: 4.1954e-04\n",
      "Epoch 71/100\n",
      "28/28 - 0s - 6ms/step - loss: 0.0035 - val_loss: 4.1261e-04\n",
      "Epoch 72/100\n",
      "28/28 - 0s - 6ms/step - loss: 0.0033 - val_loss: 8.7801e-04\n",
      "Epoch 73/100\n",
      "28/28 - 0s - 6ms/step - loss: 0.0034 - val_loss: 4.1860e-04\n",
      "Epoch 74/100\n",
      "28/28 - 0s - 6ms/step - loss: 0.0032 - val_loss: 4.7415e-04\n",
      "Epoch 75/100\n",
      "28/28 - 0s - 6ms/step - loss: 0.0035 - val_loss: 7.5615e-04\n",
      "Epoch 76/100\n",
      "28/28 - 0s - 6ms/step - loss: 0.0034 - val_loss: 7.1168e-04\n",
      "Epoch 77/100\n",
      "28/28 - 0s - 6ms/step - loss: 0.0036 - val_loss: 5.7718e-04\n",
      "Epoch 78/100\n",
      "28/28 - 0s - 6ms/step - loss: 0.0031 - val_loss: 9.8465e-04\n",
      "Epoch 79/100\n",
      "28/28 - 0s - 6ms/step - loss: 0.0036 - val_loss: 8.2328e-04\n",
      "Epoch 80/100\n",
      "28/28 - 0s - 6ms/step - loss: 0.0033 - val_loss: 0.0011\n",
      "Epoch 81/100\n",
      "28/28 - 0s - 6ms/step - loss: 0.0036 - val_loss: 8.7026e-04\n",
      "Epoch 82/100\n",
      "28/28 - 0s - 6ms/step - loss: 0.0033 - val_loss: 5.0030e-04\n",
      "Epoch 83/100\n",
      "28/28 - 0s - 6ms/step - loss: 0.0033 - val_loss: 4.0482e-04\n",
      "Epoch 84/100\n",
      "28/28 - 0s - 6ms/step - loss: 0.0032 - val_loss: 6.9911e-04\n",
      "Epoch 85/100\n",
      "28/28 - 0s - 6ms/step - loss: 0.0032 - val_loss: 5.5849e-04\n",
      "Epoch 86/100\n",
      "28/28 - 0s - 6ms/step - loss: 0.0031 - val_loss: 4.1160e-04\n",
      "Epoch 87/100\n",
      "28/28 - 0s - 6ms/step - loss: 0.0033 - val_loss: 4.0175e-04\n",
      "Epoch 88/100\n",
      "28/28 - 0s - 6ms/step - loss: 0.0027 - val_loss: 4.2033e-04\n",
      "Epoch 89/100\n",
      "28/28 - 0s - 6ms/step - loss: 0.0031 - val_loss: 4.1064e-04\n",
      "Epoch 90/100\n",
      "28/28 - 0s - 6ms/step - loss: 0.0027 - val_loss: 3.8255e-04\n",
      "Epoch 91/100\n",
      "28/28 - 0s - 6ms/step - loss: 0.0026 - val_loss: 3.7710e-04\n",
      "Epoch 92/100\n",
      "28/28 - 0s - 6ms/step - loss: 0.0027 - val_loss: 3.8608e-04\n",
      "Epoch 93/100\n",
      "28/28 - 0s - 6ms/step - loss: 0.0029 - val_loss: 4.3041e-04\n",
      "Epoch 94/100\n",
      "28/28 - 0s - 6ms/step - loss: 0.0027 - val_loss: 3.5843e-04\n",
      "Epoch 95/100\n",
      "28/28 - 0s - 6ms/step - loss: 0.0027 - val_loss: 7.2087e-04\n",
      "Epoch 96/100\n",
      "28/28 - 0s - 6ms/step - loss: 0.0027 - val_loss: 4.4355e-04\n",
      "Epoch 97/100\n",
      "28/28 - 0s - 6ms/step - loss: 0.0027 - val_loss: 5.3803e-04\n",
      "Epoch 98/100\n",
      "28/28 - 0s - 6ms/step - loss: 0.0026 - val_loss: 5.8428e-04\n",
      "Epoch 99/100\n",
      "28/28 - 0s - 6ms/step - loss: 0.0033 - val_loss: 4.7334e-04\n",
      "Epoch 100/100\n",
      "28/28 - 0s - 6ms/step - loss: 0.0026 - val_loss: 3.8877e-04\n"
     ]
    }
   ],
   "source": [
    "# Treinando a RNN\n",
    "history = model.fit(X_train, y_train, epochs=100, batch_size=32, validation_split=0.1, verbose=2)"
   ]
  },
  {
   "cell_type": "code",
   "execution_count": 45,
   "metadata": {},
   "outputs": [
    {
     "data": {
      "image/png": "[encoded data removed]",
      "text/plain": [
       "<Figure size 1200x600 with 1 Axes>"
      ]
     },
     "metadata": {},
     "output_type": "display_data"
    }
   ],
   "source": [
    "plt.figure(figsize=(12, 6))\n",
    "\n",
    "# Plotando a perda de treinamento\n",
    "plt.plot(history.history['loss'], label='Perda de Treinamento')\n",
    "\n",
    "# Plotando a perda de validação\n",
    "plt.plot(history.history['val_loss'], label='Perda de Validação')\n",
    "\n",
    "# Adicionando título e legendas\n",
    "plt.title('Histórico de Treinamento e Validação')\n",
    "plt.xlabel('Épocas')\n",
    "plt.ylabel('Perda')\n",
    "plt.legend()\n",
    "\n",
    "# Exibindo o gráfico\n",
    "plt.show()"
   ]
  },
  {
   "cell_type": "code",
   "execution_count": 46,
   "metadata": {},
   "outputs": [
    {
     "name": "stdout",
     "output_type": "stream",
     "text": [
      "\u001b[1m32/32\u001b[0m \u001b[32m━━━━━━━━━━━━━━━━━━━━\u001b[0m\u001b[37m\u001b[0m \u001b[1m1s\u001b[0m 9ms/step\n",
      "\u001b[1m8/8\u001b[0m \u001b[32m━━━━━━━━━━━━━━━━━━━━\u001b[0m\u001b[37m\u001b[0m \u001b[1m0s\u001b[0m 2ms/step \n"
     ]
    }
   ],
   "source": [
    "# Fazendo previsões\n",
    "train_predict = model.predict(X_train)\n",
    "test_predict = model.predict(X_test)\n",
    "\n",
    "# Invertendo a normalização para obter os valores reais\n",
    "train_predict = scaler.inverse_transform(train_predict)\n",
    "test_predict = scaler.inverse_transform(test_predict)\n",
    "y_train = scaler.inverse_transform(y_train.reshape(-1, 1))\n",
    "y_test = scaler.inverse_transform(y_test.reshape(-1, 1))"
   ]
  },
  {
   "cell_type": "markdown",
   "metadata": {},
   "source": [
    "### 4. Problemas de RNNs: Desvanecimento e Explosão de Gradientes\n",
    "\n",
    "#### Desafios com Gradientes em RNNs\n",
    "\n",
    "As Redes Neurais Recorrentes (RNNs) enfrentam dois problemas principais durante o treinamento: desvanecimento de gradientes e explosão de gradientes. Ambos os problemas ocorrem devido à maneira como os gradientes são propagados através do tempo na rede.\n",
    "\n",
    "- **Problemas de Desvanecimento de Gradientes**\n",
    "  - **Descrição**: Ocorre quando os gradientes dos erros em relação aos pesos tornam-se extremamente pequenos durante a propagação retroativa (backpropagation through time - BPTT).\n",
    "  - **Causa**: Quando a função de ativação utilizada tem derivadas pequenas (como a tanh e a sigmoid), os gradientes podem diminuir exponencialmente à medida que são propagados para trás ao longo de muitos passos temporais.\n",
    "  - **Impacto**: Pesos nas camadas iniciais da rede são ajustados muito pouco, resultando em uma aprendizagem lenta ou estagnada para essas camadas. A rede tem dificuldade em aprender dependências de longo prazo.\n",
    "\n",
    "- **Problemas de Explosão de Gradientes**\n",
    "  - **Descrição**: Ocorre quando os gradientes dos erros em relação aos pesos tornam-se extremamente grandes durante a BPTT.\n",
    "  - **Causa**: Quando os pesos da rede são grandes ou quando a função de ativação tem derivadas grandes, os gradientes podem aumentar exponencialmente à medida que são propagados para trás ao longo de muitos passos temporais.\n",
    "  - **Impacto**: Pesos nas camadas iniciais da rede são ajustados excessivamente, resultando em atualizações instáveis dos pesos e em possíveis falhas no treinamento.\n",
    "\n",
    "#### Técnicas para Mitigar Desafios\n",
    "\n",
    "Para lidar com os problemas de desvanecimento e explosão de gradientes em RNNs, várias técnicas podem ser aplicadas:\n",
    "\n",
    "- **Métodos de Regularização**\n",
    "  - **Dropout**: Uma técnica que consiste em desligar (definir como zero) aleatoriamente algumas unidades na rede durante o treinamento. Isso ajuda a prevenir o overfitting e pode estabilizar a atualização dos pesos.\n",
    "  - **Regularização L2**: Adiciona uma penalidade ao custo total da rede baseada na magnitude dos pesos. Isso ajuda a manter os pesos pequenos e estabiliza a propagação dos gradientes.\n",
    "\n",
    "- **Uso de Funções de Ativação Apropriadas**\n",
    "  - **ReLU (Rectified Linear Unit)**: Funciona bem para evitar desvanecimento de gradientes, mas pode levar à explosão de gradientes se não for combinado com outras técnicas de normalização.\n",
    "  - **Leaky ReLU**: Uma variação do ReLU que permite pequenos valores negativos, ajudando a manter um fluxo de gradientes mesmo para neurônios que, de outra forma, estariam inativos.\n",
    "\n",
    "- **Normalização de Gradientes**\n",
    "  - **Clipping de Gradientes**: Limita o valor máximo dos gradientes durante a BPTT. Quando os gradientes excedem um determinado limiar, eles são ajustados para esse valor limite. Isso ajuda a prevenir a explosão de gradientes.\n",
    "  - **Batch Normalization**: Normaliza a entrada de cada camada com base nas estatísticas de mini-batches durante o treinamento. Isso ajuda a estabilizar e acelerar a convergência.\n",
    "\n",
    "\n",
    "\n",
    "\n",
    "## Referências\n",
    "- Goodfellow, I., Bengio, Y., & Courville, A. (2016). Deep Learning. MIT Press.\n",
    "- Olah, C. (2015). Understanding LSTM Networks. [Link para o artigo](http://colah.github.io/posts/2015-08-Understanding-LSTMs/)."
   ]
  },
  {
   "cell_type": "code",
   "execution_count": 47,
   "metadata": {},
   "outputs": [
    {
     "data": {
      "image/png": "[encoded data removed]",
      "text/plain": [
       "<Figure size 1200x600 with 1 Axes>"
      ]
     },
     "metadata": {},
     "output_type": "display_data"
    }
   ],
   "source": [
    "# Plotando os resultados\n",
    "plt.figure(figsize=(12, 6))\n",
    "train_range = range(time_step, time_step + len(train_predict))\n",
    "test_range = range(time_step + len(train_predict), time_step + len(train_predict) + len(test_predict))\n",
    "plt.plot(train_range, y_train, label='Real de treino', color='green')\n",
    "plt.plot(test_range, y_test, label='Real de teste', color='green')\n",
    "plt.plot(train_range, train_predict, label='Previsões de treino')\n",
    "plt.plot(test_range, test_predict, label='Previsões de teste')\n",
    "plt.xlabel('Dias')\n",
    "plt.ylabel('Preço de Fechamento Normalizado')\n",
    "plt.legend()\n",
    "plt.show()"
   ]
  },
  {
   "cell_type": "code",
   "execution_count": 48,
   "metadata": {},
   "outputs": [
    {
     "name": "stdout",
     "output_type": "stream",
     "text": [
      "Mean Absolute Error (MAE): 1.3097103956821439\n",
      "Mean Squared Error (MSE): 3.004114903318992\n",
      "Root Mean Squared Error (RMSE): 1.7332382707865044\n",
      "Coefficient of Determination (R²): 0.9077280793926554\n"
     ]
    }
   ],
   "source": [
    "regression_metrics(y_test, test_predict)"
   ]
  },
  {
   "cell_type": "code",
   "execution_count": 49,
   "metadata": {},
   "outputs": [
    {
     "name": "stdout",
     "output_type": "stream",
     "text": [
      "Mean Absolute Error (MAE): 1.5153781312351222\n",
      "Mean Squared Error (MSE): 13.132581222857764\n",
      "Root Mean Squared Error (RMSE): 3.6238903436580094\n",
      "Coefficient of Determination (R²): 0.9856358159230021\n"
     ]
    }
   ],
   "source": [
    "regression_metrics(y_train, train_predict)"
   ]
  },
  {
   "cell_type": "markdown",
   "metadata": {},
   "source": [
    "## Exercícios de Análise de Séries Temporais com Ethereum (ETH)\n",
    "\n",
    "1. **Leitura dos Dados**\n",
    "   - Leia a base de dados de preço da moeda Ethereum (ETH).\n",
    "\n",
    "2. **Seleção dos Dados**\n",
    "   - Use todos os dados exceto a coluna de data.\n",
    "\n",
    "3. **Definição de X e Y**\n",
    "   - Defina `X` e `y` considerando o valor dos últimos 10 dias para previsão.\n",
    "\n",
    "4. **Separação em Treinamento e Teste**\n",
    "   - Separe os dados em conjuntos de treinamento e teste, utilizando 20% das datas mais recentes para o conjunto de teste.\n",
    "\n",
    "5. **Normalização dos Dados de Treinamento**\n",
    "   - Normalize `X` e `y` de treinamento usando `fit_transform`.\n",
    "\n",
    "6. **Normalização dos Dados de Teste**\n",
    "   - Normalize `X` e `y` de teste usando `transform`.\n",
    "\n",
    "7. **Definição do Modelo**\n",
    "   - Defina uma estrutura de Rede Neural Recorrente para o tratamento dos dados.\n",
    "\n",
    "8. **Treinamento do Modelo**\n",
    "   - Treine o modelo utilizando 5% dos dados de treinamento para validação.\n",
    "\n",
    "9. **Visualização do Histórico de Treinamento**\n",
    "   - Exiba o gráfico de perda (`loss`) de treinamento e validação.\n",
    "\n",
    "10. **Previsão com Dados de Teste**\n",
    "    - Faça previsões utilizando os dados de teste.\n",
    "\n",
    "11. **Desnormalização das Previsões**\n",
    "    - Desnormalize as previsões de teste e o `y` de teste para obter valores em escala real.\n",
    "\n",
    "12. **Exibição de Métricas de Regressão**\n",
    "    - Exiba as métricas de regressão para avaliar o desempenho do modelo nas previsões."
   ]
  },
  {
   "cell_type": "code",
   "execution_count": 50,
   "metadata": {},
   "outputs": [],
   "source": [
    "df = pd.read_csv('preco_eth.csv')"
   ]
  },
  {
   "cell_type": "code",
   "execution_count": 51,
   "metadata": {},
   "outputs": [
    {
     "data": {
      "text/html": [
       "<div>\n",
       "<style scoped>\n",
       "    .dataframe tbody tr th:only-of-type {\n",
       "        vertical-align: middle;\n",
       "    }\n",
       "\n",
       "    .dataframe tbody tr th {\n",
       "        vertical-align: top;\n",
       "    }\n",
       "\n",
       "    .dataframe thead th {\n",
       "        text-align: right;\n",
       "    }\n",
       "</style>\n",
       "<table border=\"1\" class=\"dataframe\">\n",
       "  <thead>\n",
       "    <tr style=\"text-align: right;\">\n",
       "      <th></th>\n",
       "      <th>Date</th>\n",
       "      <th>Open</th>\n",
       "      <th>High</th>\n",
       "      <th>Low</th>\n",
       "      <th>Close</th>\n",
       "      <th>Volume</th>\n",
       "    </tr>\n",
       "  </thead>\n",
       "  <tbody>\n",
       "    <tr>\n",
       "      <th>0</th>\n",
       "      <td>2/23/2022</td>\n",
       "      <td>2639.447021</td>\n",
       "      <td>2741.368408</td>\n",
       "      <td>2587.412842</td>\n",
       "      <td>2590.359619</td>\n",
       "      <td>13382637240</td>\n",
       "    </tr>\n",
       "    <tr>\n",
       "      <th>1</th>\n",
       "      <td>2/22/2022</td>\n",
       "      <td>2572.898682</td>\n",
       "      <td>2648.916748</td>\n",
       "      <td>2510.678711</td>\n",
       "      <td>2639.299316</td>\n",
       "      <td>16360200507</td>\n",
       "    </tr>\n",
       "    <tr>\n",
       "      <th>2</th>\n",
       "      <td>2/21/2022</td>\n",
       "      <td>2627.665527</td>\n",
       "      <td>2752.458496</td>\n",
       "      <td>2568.254395</td>\n",
       "      <td>2573.816162</td>\n",
       "      <td>18646392740</td>\n",
       "    </tr>\n",
       "    <tr>\n",
       "      <th>3</th>\n",
       "      <td>2/20/2022</td>\n",
       "      <td>2763.756592</td>\n",
       "      <td>2763.756592</td>\n",
       "      <td>2585.946289</td>\n",
       "      <td>2628.648438</td>\n",
       "      <td>11641437834</td>\n",
       "    </tr>\n",
       "    <tr>\n",
       "      <th>4</th>\n",
       "      <td>2/19/2022</td>\n",
       "      <td>2784.872803</td>\n",
       "      <td>2826.347900</td>\n",
       "      <td>2707.378418</td>\n",
       "      <td>2763.701172</td>\n",
       "      <td>9774183169</td>\n",
       "    </tr>\n",
       "    <tr>\n",
       "      <th>...</th>\n",
       "      <td>...</td>\n",
       "      <td>...</td>\n",
       "      <td>...</td>\n",
       "      <td>...</td>\n",
       "      <td>...</td>\n",
       "      <td>...</td>\n",
       "    </tr>\n",
       "    <tr>\n",
       "      <th>1563</th>\n",
       "      <td>11/13/2017</td>\n",
       "      <td>307.024994</td>\n",
       "      <td>328.415009</td>\n",
       "      <td>307.024994</td>\n",
       "      <td>316.716003</td>\n",
       "      <td>1041889984</td>\n",
       "    </tr>\n",
       "    <tr>\n",
       "      <th>1564</th>\n",
       "      <td>11/12/2017</td>\n",
       "      <td>314.690002</td>\n",
       "      <td>319.153015</td>\n",
       "      <td>298.513000</td>\n",
       "      <td>307.907990</td>\n",
       "      <td>1613479936</td>\n",
       "    </tr>\n",
       "    <tr>\n",
       "      <th>1565</th>\n",
       "      <td>11/11/2017</td>\n",
       "      <td>298.585999</td>\n",
       "      <td>319.453003</td>\n",
       "      <td>298.191986</td>\n",
       "      <td>314.681000</td>\n",
       "      <td>842300992</td>\n",
       "    </tr>\n",
       "    <tr>\n",
       "      <th>1566</th>\n",
       "      <td>11/10/2017</td>\n",
       "      <td>320.670990</td>\n",
       "      <td>324.717987</td>\n",
       "      <td>294.541992</td>\n",
       "      <td>299.252991</td>\n",
       "      <td>885985984</td>\n",
       "    </tr>\n",
       "    <tr>\n",
       "      <th>1567</th>\n",
       "      <td>11/9/2017</td>\n",
       "      <td>308.644989</td>\n",
       "      <td>329.451996</td>\n",
       "      <td>307.056000</td>\n",
       "      <td>320.884003</td>\n",
       "      <td>893249984</td>\n",
       "    </tr>\n",
       "  </tbody>\n",
       "</table>\n",
       "<p>1568 rows × 6 columns</p>\n",
       "</div>"
      ],
      "text/plain": [
       "            Date         Open         High          Low        Close  \\\n",
       "0      2/23/2022  2639.447021  2741.368408  2587.412842  2590.359619   \n",
       "1      2/22/2022  2572.898682  2648.916748  2510.678711  2639.299316   \n",
       "2      2/21/2022  2627.665527  2752.458496  2568.254395  2573.816162   \n",
       "3      2/20/2022  2763.756592  2763.756592  2585.946289  2628.648438   \n",
       "4      2/19/2022  2784.872803  2826.347900  2707.378418  2763.701172   \n",
       "...          ...          ...          ...          ...          ...   \n",
       "1563  11/13/2017   307.024994   328.415009   307.024994   316.716003   \n",
       "1564  11/12/2017   314.690002   319.153015   298.513000   307.907990   \n",
       "1565  11/11/2017   298.585999   319.453003   298.191986   314.681000   \n",
       "1566  11/10/2017   320.670990   324.717987   294.541992   299.252991   \n",
       "1567   11/9/2017   308.644989   329.451996   307.056000   320.884003   \n",
       "\n",
       "           Volume  \n",
       "0     13382637240  \n",
       "1     16360200507  \n",
       "2     18646392740  \n",
       "3     11641437834  \n",
       "4      9774183169  \n",
       "...           ...  \n",
       "1563   1041889984  \n",
       "1564   1613479936  \n",
       "1565    842300992  \n",
       "1566    885985984  \n",
       "1567    893249984  \n",
       "\n",
       "[1568 rows x 6 columns]"
      ]
     },
     "execution_count": 51,
     "metadata": {},
     "output_type": "execute_result"
    }
   ],
   "source": [
    "df"
   ]
  },
  {
   "cell_type": "code",
   "execution_count": 52,
   "metadata": {},
   "outputs": [],
   "source": [
    "df.drop(columns='Date', axis=1, inplace=True)\n"
   ]
  },
  {
   "cell_type": "code",
   "execution_count": 53,
   "metadata": {},
   "outputs": [],
   "source": [
    "# Criando os dados históricos com lookback de 60 dias\n",
    "time_step = 10\n",
    "X, y = create_dataset(data, time_step)"
   ]
  },
  {
   "cell_type": "code",
   "execution_count": 54,
   "metadata": {},
   "outputs": [],
   "source": [
    "# Dividindo os dados em conjuntos de treino e teste \n",
    "X_train = X[:int(len(X) * 0.8)]\n",
    "X_test = X[int(len(X) * 0.8):]\n",
    "\n",
    "y_train = y[:int(len(y) * 0.8)]\n",
    "y_test = y[int(len(y) * 0.8):]"
   ]
  },
  {
   "cell_type": "code",
   "execution_count": 55,
   "metadata": {},
   "outputs": [],
   "source": [
    "# Normalizando os dados de treinamento\n",
    "scaler_X = MinMaxScaler(feature_range=(0, 1))\n",
    "scaler_y = MinMaxScaler(feature_range=(0, 1))\n",
    "\n",
    "X_train = scaler_X.fit_transform(X_train.reshape(-1, X_train.shape[-1])).reshape(X_train.shape)\n",
    "y_train = scaler_y.fit_transform(y_train.reshape(-1, 1))"
   ]
  },
  {
   "cell_type": "code",
   "execution_count": 56,
   "metadata": {},
   "outputs": [],
   "source": [
    "# Normalizando os dados de teste\n",
    "X_test = scaler_X.transform(X_test.reshape(-1, X_test.shape[-1])).reshape(X_test.shape)\n",
    "y_test = scaler_y.transform(y_test.reshape(-1, 1))"
   ]
  },
  {
   "cell_type": "code",
   "execution_count": null,
   "metadata": {},
   "outputs": [],
   "source": [
    "# Definindo a arquitetura do modelo RNN\n",
    "model = Sequential()\n",
    "\n",
    "# Adicionando uma camada RNN com 50 unidades e ativação tanh\n",
    "# Esta camada processa a sequência de entrada e mantém um estado interno para capturar dependências temporais\n",
    "# return_sequences=True garante que todas as saídas da sequência sejam retornadas, não apenas o último estado\n",
    "model.add(SimpleRNN(units=50, activation='tanh', return_sequences=True, input_shape=(X_train.shape[1], X_train.shape[2])))\n",
    "\n",
    "# Adicionando uma camada Dropout com taxa de 0.2 para evitar overfitting\n",
    "# Dropout ajuda a regularizar o modelo desligando aleatoriamente uma fração das unidades durante o treinamento\n",
    "model.add(Dropout(0.2))\n",
    "\n",
    "# Adicionando uma segunda camada RNN com 50 unidades e ativação tanh\n",
    "# Adiciona capacidade extra ao modelo para aprender padrões mais complexos nas sequências de entrada\n",
    "# Esta camada não precisa de return_sequences=True, pois é a última camada RNN antes da camada densa\n",
    "model.add(SimpleRNN(units=50, activation='tanh'))\n",
    "\n",
    "# Adicionando uma segunda camada Dropout com taxa de 0.2 para regularização adicional\n",
    "model.add(Dropout(0.2))\n",
    "\n",
    "# Adicionando uma camada densa (fully connected) com 1 unidade\n",
    "# Esta camada gera a previsão final do modelo\n",
    "model.add(Dense(units=1))\n",
    "\n",
    "# Compilando o modelo com otimizador adam e função de perda mean_squared_error\n",
    "model.compile(optimizer='adam', loss='mean_squared_error')\n",
    "\n",
    "# Exibindo a arquitetura do modelo\n",
    "model.summary()\n"
   ]
  },
  {
   "cell_type": "code",
   "execution_count": 57,
   "metadata": {},
   "outputs": [
    {
     "name": "stdout",
     "output_type": "stream",
     "text": [
      "Epoch 1/100\n",
      "30/30 - 3s - 103ms/step - loss: 0.0036 - val_loss: 4.3140e-04\n",
      "Epoch 2/100\n",
      "30/30 - 0s - 9ms/step - loss: 0.0032 - val_loss: 7.7610e-04\n",
      "Epoch 3/100\n",
      "30/30 - 0s - 9ms/step - loss: 0.0029 - val_loss: 3.2421e-04\n",
      "Epoch 4/100\n",
      "30/30 - 0s - 8ms/step - loss: 0.0025 - val_loss: 3.7996e-04\n",
      "Epoch 5/100\n",
      "30/30 - 0s - 5ms/step - loss: 0.0033 - val_loss: 2.8949e-04\n",
      "Epoch 6/100\n",
      "30/30 - 0s - 7ms/step - loss: 0.0027 - val_loss: 3.2063e-04\n",
      "Epoch 7/100\n",
      "30/30 - 0s - 9ms/step - loss: 0.0022 - val_loss: 3.4931e-04\n",
      "Epoch 8/100\n",
      "30/30 - 0s - 9ms/step - loss: 0.0025 - val_loss: 4.6509e-04\n",
      "Epoch 9/100\n",
      "30/30 - 0s - 11ms/step - loss: 0.0024 - val_loss: 3.0730e-04\n",
      "Epoch 10/100\n",
      "30/30 - 0s - 8ms/step - loss: 0.0027 - val_loss: 3.2918e-04\n",
      "Epoch 11/100\n",
      "30/30 - 0s - 5ms/step - loss: 0.0027 - val_loss: 4.0134e-04\n",
      "Epoch 12/100\n",
      "30/30 - 0s - 6ms/step - loss: 0.0024 - val_loss: 3.6409e-04\n",
      "Epoch 13/100\n",
      "30/30 - 0s - 5ms/step - loss: 0.0024 - val_loss: 6.8205e-04\n",
      "Epoch 14/100\n",
      "30/30 - 0s - 5ms/step - loss: 0.0023 - val_loss: 3.3819e-04\n",
      "Epoch 15/100\n",
      "30/30 - 0s - 5ms/step - loss: 0.0023 - val_loss: 3.0247e-04\n",
      "Epoch 16/100\n",
      "30/30 - 0s - 5ms/step - loss: 0.0021 - val_loss: 5.2958e-04\n",
      "Epoch 17/100\n",
      "30/30 - 0s - 5ms/step - loss: 0.0023 - val_loss: 3.3267e-04\n",
      "Epoch 18/100\n",
      "30/30 - 0s - 6ms/step - loss: 0.0022 - val_loss: 4.8579e-04\n",
      "Epoch 19/100\n",
      "30/30 - 0s - 9ms/step - loss: 0.0025 - val_loss: 3.5922e-04\n",
      "Epoch 20/100\n",
      "30/30 - 0s - 5ms/step - loss: 0.0021 - val_loss: 3.7362e-04\n",
      "Epoch 21/100\n",
      "30/30 - 0s - 5ms/step - loss: 0.0024 - val_loss: 2.9206e-04\n",
      "Epoch 22/100\n",
      "30/30 - 0s - 5ms/step - loss: 0.0022 - val_loss: 3.1604e-04\n",
      "Epoch 23/100\n",
      "30/30 - 0s - 5ms/step - loss: 0.0022 - val_loss: 6.3691e-04\n",
      "Epoch 24/100\n",
      "30/30 - 0s - 7ms/step - loss: 0.0025 - val_loss: 5.2467e-04\n",
      "Epoch 25/100\n",
      "30/30 - 0s - 11ms/step - loss: 0.0023 - val_loss: 9.2537e-04\n",
      "Epoch 26/100\n",
      "30/30 - 0s - 9ms/step - loss: 0.0021 - val_loss: 4.4028e-04\n",
      "Epoch 27/100\n",
      "30/30 - 0s - 10ms/step - loss: 0.0023 - val_loss: 4.8524e-04\n",
      "Epoch 28/100\n",
      "30/30 - 0s - 10ms/step - loss: 0.0023 - val_loss: 3.9378e-04\n",
      "Epoch 29/100\n",
      "30/30 - 0s - 10ms/step - loss: 0.0018 - val_loss: 3.8888e-04\n",
      "Epoch 30/100\n",
      "30/30 - 0s - 10ms/step - loss: 0.0018 - val_loss: 3.1727e-04\n",
      "Epoch 31/100\n",
      "30/30 - 0s - 9ms/step - loss: 0.0019 - val_loss: 3.4230e-04\n",
      "Epoch 32/100\n",
      "30/30 - 0s - 8ms/step - loss: 0.0021 - val_loss: 2.8952e-04\n",
      "Epoch 33/100\n",
      "30/30 - 0s - 8ms/step - loss: 0.0022 - val_loss: 4.2765e-04\n",
      "Epoch 34/100\n",
      "30/30 - 0s - 9ms/step - loss: 0.0019 - val_loss: 3.1917e-04\n",
      "Epoch 35/100\n",
      "30/30 - 0s - 9ms/step - loss: 0.0025 - val_loss: 0.0010\n",
      "Epoch 36/100\n",
      "30/30 - 0s - 9ms/step - loss: 0.0024 - val_loss: 0.0024\n",
      "Epoch 37/100\n",
      "30/30 - 0s - 10ms/step - loss: 0.0021 - val_loss: 2.8999e-04\n",
      "Epoch 38/100\n",
      "30/30 - 0s - 10ms/step - loss: 0.0022 - val_loss: 3.3983e-04\n",
      "Epoch 39/100\n",
      "30/30 - 0s - 5ms/step - loss: 0.0023 - val_loss: 4.2960e-04\n",
      "Epoch 40/100\n",
      "30/30 - 0s - 6ms/step - loss: 0.0020 - val_loss: 3.2941e-04\n",
      "Epoch 41/100\n",
      "30/30 - 0s - 7ms/step - loss: 0.0020 - val_loss: 5.9856e-04\n",
      "Epoch 42/100\n",
      "30/30 - 0s - 5ms/step - loss: 0.0020 - val_loss: 2.8784e-04\n",
      "Epoch 43/100\n",
      "30/30 - 0s - 5ms/step - loss: 0.0021 - val_loss: 4.4402e-04\n",
      "Epoch 44/100\n",
      "30/30 - 0s - 5ms/step - loss: 0.0021 - val_loss: 3.4698e-04\n",
      "Epoch 45/100\n",
      "30/30 - 0s - 5ms/step - loss: 0.0020 - val_loss: 3.7900e-04\n",
      "Epoch 46/100\n",
      "30/30 - 0s - 5ms/step - loss: 0.0020 - val_loss: 3.9438e-04\n",
      "Epoch 47/100\n",
      "30/30 - 0s - 5ms/step - loss: 0.0019 - val_loss: 4.7882e-04\n",
      "Epoch 48/100\n",
      "30/30 - 0s - 5ms/step - loss: 0.0023 - val_loss: 3.3366e-04\n",
      "Epoch 49/100\n",
      "30/30 - 0s - 5ms/step - loss: 0.0021 - val_loss: 2.8064e-04\n",
      "Epoch 50/100\n",
      "30/30 - 0s - 5ms/step - loss: 0.0018 - val_loss: 6.2787e-04\n",
      "Epoch 51/100\n",
      "30/30 - 0s - 5ms/step - loss: 0.0020 - val_loss: 2.9659e-04\n",
      "Epoch 52/100\n",
      "30/30 - 0s - 6ms/step - loss: 0.0017 - val_loss: 4.1623e-04\n",
      "Epoch 53/100\n",
      "30/30 - 0s - 5ms/step - loss: 0.0020 - val_loss: 3.4369e-04\n",
      "Epoch 54/100\n",
      "30/30 - 0s - 5ms/step - loss: 0.0021 - val_loss: 5.0427e-04\n",
      "Epoch 55/100\n",
      "30/30 - 0s - 5ms/step - loss: 0.0020 - val_loss: 3.8458e-04\n",
      "Epoch 56/100\n",
      "30/30 - 0s - 5ms/step - loss: 0.0017 - val_loss: 0.0013\n",
      "Epoch 57/100\n",
      "30/30 - 0s - 5ms/step - loss: 0.0016 - val_loss: 3.2157e-04\n",
      "Epoch 58/100\n",
      "30/30 - 0s - 9ms/step - loss: 0.0019 - val_loss: 3.3318e-04\n",
      "Epoch 59/100\n",
      "30/30 - 0s - 5ms/step - loss: 0.0019 - val_loss: 2.9232e-04\n",
      "Epoch 60/100\n",
      "30/30 - 0s - 5ms/step - loss: 0.0021 - val_loss: 3.5135e-04\n",
      "Epoch 61/100\n",
      "30/30 - 0s - 6ms/step - loss: 0.0018 - val_loss: 5.1162e-04\n",
      "Epoch 62/100\n",
      "30/30 - 0s - 9ms/step - loss: 0.0021 - val_loss: 6.8849e-04\n",
      "Epoch 63/100\n",
      "30/30 - 0s - 9ms/step - loss: 0.0019 - val_loss: 3.2391e-04\n",
      "Epoch 64/100\n",
      "30/30 - 0s - 10ms/step - loss: 0.0020 - val_loss: 6.4623e-04\n",
      "Epoch 65/100\n",
      "30/30 - 0s - 8ms/step - loss: 0.0021 - val_loss: 3.9770e-04\n",
      "Epoch 66/100\n",
      "30/30 - 0s - 12ms/step - loss: 0.0018 - val_loss: 4.1498e-04\n",
      "Epoch 67/100\n",
      "30/30 - 0s - 10ms/step - loss: 0.0021 - val_loss: 5.4308e-04\n",
      "Epoch 68/100\n",
      "30/30 - 0s - 13ms/step - loss: 0.0018 - val_loss: 7.2634e-04\n",
      "Epoch 69/100\n",
      "30/30 - 0s - 11ms/step - loss: 0.0019 - val_loss: 3.4433e-04\n",
      "Epoch 70/100\n",
      "30/30 - 0s - 8ms/step - loss: 0.0019 - val_loss: 2.7453e-04\n",
      "Epoch 71/100\n",
      "30/30 - 0s - 8ms/step - loss: 0.0020 - val_loss: 3.8367e-04\n",
      "Epoch 72/100\n",
      "30/30 - 0s - 5ms/step - loss: 0.0021 - val_loss: 4.2476e-04\n",
      "Epoch 73/100\n",
      "30/30 - 0s - 6ms/step - loss: 0.0020 - val_loss: 3.1186e-04\n",
      "Epoch 74/100\n",
      "30/30 - 0s - 6ms/step - loss: 0.0018 - val_loss: 4.5869e-04\n",
      "Epoch 75/100\n",
      "30/30 - 0s - 6ms/step - loss: 0.0016 - val_loss: 3.1739e-04\n",
      "Epoch 76/100\n",
      "30/30 - 0s - 6ms/step - loss: 0.0018 - val_loss: 0.0011\n",
      "Epoch 77/100\n",
      "30/30 - 0s - 6ms/step - loss: 0.0021 - val_loss: 3.1801e-04\n",
      "Epoch 78/100\n",
      "30/30 - 0s - 5ms/step - loss: 0.0015 - val_loss: 3.2098e-04\n",
      "Epoch 79/100\n",
      "30/30 - 0s - 6ms/step - loss: 0.0017 - val_loss: 3.9743e-04\n",
      "Epoch 80/100\n",
      "30/30 - 0s - 5ms/step - loss: 0.0016 - val_loss: 2.8416e-04\n",
      "Epoch 81/100\n",
      "30/30 - 0s - 5ms/step - loss: 0.0015 - val_loss: 3.1491e-04\n",
      "Epoch 82/100\n",
      "30/30 - 0s - 6ms/step - loss: 0.0016 - val_loss: 2.9764e-04\n",
      "Epoch 83/100\n",
      "30/30 - 0s - 6ms/step - loss: 0.0018 - val_loss: 3.7227e-04\n",
      "Epoch 84/100\n",
      "30/30 - 0s - 5ms/step - loss: 0.0016 - val_loss: 4.1698e-04\n",
      "Epoch 85/100\n",
      "30/30 - 0s - 8ms/step - loss: 0.0018 - val_loss: 2.7465e-04\n",
      "Epoch 86/100\n",
      "30/30 - 0s - 6ms/step - loss: 0.0017 - val_loss: 3.3704e-04\n",
      "Epoch 87/100\n",
      "30/30 - 0s - 7ms/step - loss: 0.0020 - val_loss: 5.0800e-04\n",
      "Epoch 88/100\n",
      "30/30 - 0s - 6ms/step - loss: 0.0019 - val_loss: 5.3512e-04\n",
      "Epoch 89/100\n",
      "30/30 - 0s - 6ms/step - loss: 0.0016 - val_loss: 0.0013\n",
      "Epoch 90/100\n",
      "30/30 - 0s - 6ms/step - loss: 0.0017 - val_loss: 9.8242e-04\n",
      "Epoch 91/100\n",
      "30/30 - 0s - 6ms/step - loss: 0.0019 - val_loss: 4.5036e-04\n",
      "Epoch 92/100\n",
      "30/30 - 0s - 11ms/step - loss: 0.0016 - val_loss: 4.2881e-04\n",
      "Epoch 93/100\n",
      "30/30 - 0s - 10ms/step - loss: 0.0016 - val_loss: 6.5121e-04\n",
      "Epoch 94/100\n",
      "30/30 - 0s - 14ms/step - loss: 0.0018 - val_loss: 3.2331e-04\n",
      "Epoch 95/100\n",
      "30/30 - 0s - 12ms/step - loss: 0.0014 - val_loss: 2.8095e-04\n",
      "Epoch 96/100\n",
      "30/30 - 0s - 12ms/step - loss: 0.0017 - val_loss: 4.2885e-04\n",
      "Epoch 97/100\n",
      "30/30 - 0s - 10ms/step - loss: 0.0019 - val_loss: 6.7234e-04\n",
      "Epoch 98/100\n",
      "30/30 - 0s - 10ms/step - loss: 0.0021 - val_loss: 2.6352e-04\n",
      "Epoch 99/100\n",
      "30/30 - 0s - 9ms/step - loss: 0.0017 - val_loss: 6.1459e-04\n",
      "Epoch 100/100\n",
      "30/30 - 0s - 13ms/step - loss: 0.0022 - val_loss: 3.9440e-04\n"
     ]
    }
   ],
   "source": [
    "history = model.fit(X_train, y_train, epochs=100, batch_size=32, validation_split=0.05, verbose=2)"
   ]
  },
  {
   "cell_type": "code",
   "execution_count": 58,
   "metadata": {},
   "outputs": [
    {
     "data": {
      "image/png": "[encoded data removed]",
      "text/plain": [
       "<Figure size 1200x600 with 1 Axes>"
      ]
     },
     "metadata": {},
     "output_type": "display_data"
    }
   ],
   "source": [
    "plt.figure(figsize=(12, 6))\n",
    "\n",
    "# Plotando a perda de treinamento\n",
    "plt.plot(history.history['loss'], label='Perda de Treinamento')\n",
    "\n",
    "# Plotando a perda de validação\n",
    "plt.plot(history.history['val_loss'], label='Perda de Validação')\n",
    "\n",
    "# Adicionando título e legendas\n",
    "plt.title('Histórico de Treinamento e Validação')\n",
    "plt.xlabel('Épocas')\n",
    "plt.ylabel('Perda')\n",
    "plt.legend()\n",
    "\n",
    "# Exibindo o gráfico\n",
    "plt.show()"
   ]
  },
  {
   "cell_type": "code",
   "execution_count": 59,
   "metadata": {},
   "outputs": [
    {
     "name": "stdout",
     "output_type": "stream",
     "text": [
      "\u001b[1m32/32\u001b[0m \u001b[32m━━━━━━━━━━━━━━━━━━━━\u001b[0m\u001b[37m\u001b[0m \u001b[1m0s\u001b[0m 3ms/step\n",
      "\u001b[1m8/8\u001b[0m \u001b[32m━━━━━━━━━━━━━━━━━━━━\u001b[0m\u001b[37m\u001b[0m \u001b[1m0s\u001b[0m 2ms/step \n"
     ]
    }
   ],
   "source": [
    "# Fazendo previsões\n",
    "train_predict = model.predict(X_train)\n",
    "test_predict = model.predict(X_test)\n",
    "\n",
    "# Invertendo a normalização para obter os valores reais\n",
    "train_predict = scaler.inverse_transform(train_predict)\n",
    "test_predict = scaler.inverse_transform(test_predict)\n",
    "y_train = scaler.inverse_transform(y_train.reshape(-1, 1))\n",
    "y_test = scaler.inverse_transform(y_test.reshape(-1, 1))"
   ]
  },
  {
   "cell_type": "code",
   "execution_count": 60,
   "metadata": {},
   "outputs": [
    {
     "name": "stdout",
     "output_type": "stream",
     "text": [
      "Mean Absolute Error (MAE): 1.7843550795079701\n",
      "Mean Squared Error (MSE): 4.861326761302141\n",
      "Root Mean Squared Error (RMSE): 2.204841663544605\n",
      "Coefficient of Determination (R²): 0.8500838316287799\n"
     ]
    }
   ],
   "source": [
    "regression_metrics(y_test, test_predict)"
   ]
  },
  {
   "cell_type": "code",
   "execution_count": 61,
   "metadata": {},
   "outputs": [
    {
     "name": "stdout",
     "output_type": "stream",
     "text": [
      "Mean Absolute Error (MAE): 1.5746124640180648\n",
      "Mean Squared Error (MSE): 12.77397242724012\n",
      "Root Mean Squared Error (RMSE): 3.574069449134994\n",
      "Coefficient of Determination (R²): 0.986002023893535\n"
     ]
    }
   ],
   "source": [
    "regression_metrics(y_train, train_predict)"
   ]
  },
  {
   "cell_type": "code",
   "execution_count": null,
   "metadata": {},
   "outputs": [],
   "source": []
  }
 ],
 "metadata": {
  "kernelspec": {
   "display_name": "base",
   "language": "python",
   "name": "python3"
  },
  "language_info": {
   "codemirror_mode": {
    "name": "ipython",
    "version": 3
   },
   "file_extension": ".py",
   "mimetype": "text/x-python",
   "name": "python",
   "nbconvert_exporter": "python",
   "pygments_lexer": "ipython3",
   "version": "3.12.3"
  }
 },
 "nbformat": 4,
 "nbformat_minor": 2
}
