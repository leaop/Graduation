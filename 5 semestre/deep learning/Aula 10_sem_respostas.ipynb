{
 "cells": [
  {
   "cell_type": "markdown",
   "metadata": {},
   "source": [
    "# Aula 9: Aplicações de Redes Neurais Convolucionais (CNNs) em Reconhecimento de Imagem\n",
    "\n",
    "## Objetivos da Aula\n",
    "Focaremos em como as Redes Neurais Convolucionais (CNNs) são aplicadas no campo do reconhecimento de imagem. Exploraremos os princípios por trás do uso das CNNs para identificar características faciais distintas sob diversas condições de iluminação e ângulos."
   ]
  },
  {
   "cell_type": "markdown",
   "metadata": {},
   "source": [
    "## 1: Aplicações em Reconhecimento de Imagem"
   ]
  },
  {
   "cell_type": "markdown",
   "metadata": {},
   "source": [
    "### 1.1: Reconhecimento Facial\n",
    "\n",
    "#### Definição e Uso\n",
    "O reconhecimento facial é uma das aplicações mais populares e úteis de redes neurais convolucionais. As CNNs são treinadas para identificar e diferenciar características faciais únicas que distinguem um indivíduo de outro. Esta capacidade de reconhecimento é robusta sob variadas condições de iluminação e diferentes ângulos de visualização, o que é fundamental para aplicações em ambientes reais onde tais condições podem variar significativamente.\n",
    "\n",
    "- **Como Funciona**: As CNNs processam imagens faciais através de múltiplas camadas de filtragem para detectar e aprender características faciais específicas como bordas, formas e texturas. Cada camada da rede se concentra em características cada vez mais complexas, culminando na habilidade de reconhecer um rosto completo.\n",
    "\n",
    "#### Casos de Uso Prático\n",
    "O reconhecimento facial baseado em CNN tem uma vasta gama de aplicações práticas que melhoram a segurança e a conveniência em muitos aspectos de nossas vidas.\n",
    "\n",
    "- **Sistemas de Segurança**: Instalações comerciais e residenciais utilizam essa tecnologia para controlar o acesso e monitorar atividades suspeitas, identificando pessoas contra bases de dados conhecidas.\n",
    "- **Desbloqueio de Smartphones**: Uma das aplicações mais comuns do reconhecimento facial é no desbloqueio de dispositivos móveis, onde a CNN permite uma verificação segura e rápida da identidade do usuário.\n",
    "- **Identificação em Eventos**: Grandes eventos, como conferências e concertos, podem utilizar o reconhecimento facial para a gestão de acessos e para melhorar a segurança ao verificar rapidamente a identidade dos participantes.\n",
    "\n",
    "#### Importância Estratégica\n",
    "O desenvolvimento e a implementação de tecnologias de reconhecimento facial têm implicações significativas para a privacidade e a ética. É crucial que discussões sobre regulamentações e limites éticos acompanhem o avanço dessas tecnologias para assegurar que seu uso seja responsável e respeite os direitos individuais.\n",
    "\n",
    "- **Considerações Éticas**: O uso de reconhecimento facial levanta questões sobre privacidade e consentimento, exigindo políticas claras que regulem seu uso.\n",
    "- **Desafios Técnicos**: Além das implicações éticas, o reconhecimento facial também enfrenta desafios técnicos como a necessidade de precisão sob diversas condições e o risco de viés em seus algoritmos.\n",
    "\n",
    "Esta parte da aula visa não apenas entender como as CNNs são aplicadas ao reconhecimento facial, mas também refletir sobre as responsabilidades sociais e éticas que acompanham esta poderosa ferramenta tecnológica.\n"
   ]
  },
  {
   "cell_type": "code",
   "execution_count": 1,
   "metadata": {},
   "outputs": [],
   "source": [
    "import os\n",
    "import pandas as pd\n",
    "import itertools\n",
    "import random\n",
    "\n",
    "# Caminho base para as imagens\n",
    "base_path = 'dados/imagens/'\n",
    "\n",
    "# Lista de pastas que contêm mais de uma imagem\n",
    "mais_1_imagem = [f'{base_path}{x}' for x in os.listdir(base_path) if len(os.listdir(f'{base_path}{x}')) > 1]"
   ]
  },
  {
   "cell_type": "code",
   "execution_count": 2,
   "metadata": {},
   "outputs": [
    {
     "data": {
      "text/plain": [
       "5749"
      ]
     },
     "execution_count": 2,
     "metadata": {},
     "output_type": "execute_result"
    }
   ],
   "source": [
    "# Exibe o total de pastas\n",
    "len(os.listdir(base_path))"
   ]
  },
  {
   "cell_type": "code",
   "execution_count": 3,
   "metadata": {},
   "outputs": [
    {
     "data": {
      "text/plain": [
       "1680"
      ]
     },
     "execution_count": 3,
     "metadata": {},
     "output_type": "execute_result"
    }
   ],
   "source": [
    "# Exibe o total de pastas com mais de 1 imagem\n",
    "len(mais_1_imagem)"
   ]
  },
  {
   "cell_type": "code",
   "execution_count": 4,
   "metadata": {},
   "outputs": [],
   "source": [
    "# Lista para armazenar os dados\n",
    "data = []\n",
    "\n",
    "# Processa cada pasta para pares da mesma pessoa (classe 1)\n",
    "for folder in mais_1_imagem:\n",
    "    files = os.listdir(folder)\n",
    "    for (img1, img2) in itertools.combinations(files, 2):\n",
    "        path_img1 = os.path.join(folder, img1)\n",
    "        path_img2 = os.path.join(folder, img2)\n",
    "        data.append([path_img1, path_img2, 1])  # mesma pessoa"
   ]
  },
  {
   "cell_type": "code",
   "execution_count": 5,
   "metadata": {},
   "outputs": [],
   "source": [
    "# Processa para pares de pessoas diferentes (classe 0)\n",
    "# Para cada pasta, escolhe uma imagem e combina com uma imagem de uma pasta diferente\n",
    "cont = 0\n",
    "total = len(data)\n",
    "for current_folder in mais_1_imagem:\n",
    "    other_folders = [f for f in mais_1_imagem if f != current_folder]\n",
    "    current_files = os.listdir(current_folder)\n",
    "    if not current_files or not other_folders:\n",
    "        continue\n",
    "    for other_folder in other_folders:\n",
    "        other_files = os.listdir(other_folder)\n",
    "        if not other_files:\n",
    "            continue\n",
    "        # Escolhe uma imagem aleatória de cada pasta\n",
    "        img1 = random.choice(current_files)\n",
    "        img2 = random.choice(other_files)\n",
    "        path_img1 = os.path.join(current_folder, img1)\n",
    "        path_img2 = os.path.join(other_folder, img2)\n",
    "        data.append([path_img1, path_img2, 0])  # pessoas diferentes\n",
    "        cont += 1\n",
    "        if cont >= total:\n",
    "            break\n",
    "# Cria um DataFrame do pandas\n",
    "df = pd.DataFrame(data, columns=['rota_imagem_1', 'rota_imagem_2', 'classe'])\n",
    "\n",
    "# Embaralha o DataFrame para misturar os pares de classes\n",
    "df = df.sample(frac=1).reset_index(drop=True)"
   ]
  },
  {
   "cell_type": "code",
   "execution_count": 6,
   "metadata": {},
   "outputs": [],
   "source": [
    "df_reduzido = pd.concat([df[df['classe'] == 1][:200], df[df['classe'] == 0][:200]])\n",
    "df_reduzido = df_reduzido.sample(frac=1).reset_index(drop=True)"
   ]
  },
  {
   "cell_type": "code",
   "execution_count": 7,
   "metadata": {},
   "outputs": [
    {
     "data": {
      "text/html": [
       "<div>\n",
       "<style scoped>\n",
       "    .dataframe tbody tr th:only-of-type {\n",
       "        vertical-align: middle;\n",
       "    }\n",
       "\n",
       "    .dataframe tbody tr th {\n",
       "        vertical-align: top;\n",
       "    }\n",
       "\n",
       "    .dataframe thead th {\n",
       "        text-align: right;\n",
       "    }\n",
       "</style>\n",
       "<table border=\"1\" class=\"dataframe\">\n",
       "  <thead>\n",
       "    <tr style=\"text-align: right;\">\n",
       "      <th></th>\n",
       "      <th>rota_imagem_1</th>\n",
       "      <th>rota_imagem_2</th>\n",
       "      <th>classe</th>\n",
       "    </tr>\n",
       "  </thead>\n",
       "  <tbody>\n",
       "    <tr>\n",
       "      <th>0</th>\n",
       "      <td>dados/imagens/Scott_Wolf/Scott_Wolf_0002.jpg</td>\n",
       "      <td>dados/imagens/Raymond_Odierno/Raymond_Odierno_...</td>\n",
       "      <td>0</td>\n",
       "    </tr>\n",
       "    <tr>\n",
       "      <th>1</th>\n",
       "      <td>dados/imagens/Hugo_Chavez/Hugo_Chavez_0013.jpg</td>\n",
       "      <td>dados/imagens/Hugo_Chavez/Hugo_Chavez_0070.jpg</td>\n",
       "      <td>1</td>\n",
       "    </tr>\n",
       "    <tr>\n",
       "      <th>2</th>\n",
       "      <td>dados/imagens/George_W_Bush/George_W_Bush_0149...</td>\n",
       "      <td>dados/imagens/George_W_Bush/George_W_Bush_0282...</td>\n",
       "      <td>1</td>\n",
       "    </tr>\n",
       "    <tr>\n",
       "      <th>3</th>\n",
       "      <td>dados/imagens/George_W_Bush/George_W_Bush_0145...</td>\n",
       "      <td>dados/imagens/George_W_Bush/George_W_Bush_0511...</td>\n",
       "      <td>1</td>\n",
       "    </tr>\n",
       "    <tr>\n",
       "      <th>4</th>\n",
       "      <td>dados/imagens/Heath_Ledger/Heath_Ledger_0001.jpg</td>\n",
       "      <td>dados/imagens/Mack_Brown/Mack_Brown_0002.jpg</td>\n",
       "      <td>0</td>\n",
       "    </tr>\n",
       "    <tr>\n",
       "      <th>...</th>\n",
       "      <td>...</td>\n",
       "      <td>...</td>\n",
       "      <td>...</td>\n",
       "    </tr>\n",
       "    <tr>\n",
       "      <th>395</th>\n",
       "      <td>dados/imagens/Shannon_OBrien/Shannon_OBrien_00...</td>\n",
       "      <td>dados/imagens/Bill_Callahan/Bill_Callahan_0001...</td>\n",
       "      <td>0</td>\n",
       "    </tr>\n",
       "    <tr>\n",
       "      <th>396</th>\n",
       "      <td>dados/imagens/Herta_Daeubler-Gmelin/Herta_Daeu...</td>\n",
       "      <td>dados/imagens/JJ_Redick/JJ_Redick_0001.jpg</td>\n",
       "      <td>0</td>\n",
       "    </tr>\n",
       "    <tr>\n",
       "      <th>397</th>\n",
       "      <td>dados/imagens/Hillary_Clinton/Hillary_Clinton_...</td>\n",
       "      <td>dados/imagens/Jeb_Bush/Jeb_Bush_0004.jpg</td>\n",
       "      <td>0</td>\n",
       "    </tr>\n",
       "    <tr>\n",
       "      <th>398</th>\n",
       "      <td>dados/imagens/Kate_Winslet/Kate_Winslet_0004.jpg</td>\n",
       "      <td>dados/imagens/Gro_Harlem_Brundtland/Gro_Harlem...</td>\n",
       "      <td>0</td>\n",
       "    </tr>\n",
       "    <tr>\n",
       "      <th>399</th>\n",
       "      <td>dados/imagens/Bob_Graham/Bob_Graham_0001.jpg</td>\n",
       "      <td>dados/imagens/Rita_Moreno/Rita_Moreno_0001.jpg</td>\n",
       "      <td>0</td>\n",
       "    </tr>\n",
       "  </tbody>\n",
       "</table>\n",
       "<p>400 rows × 3 columns</p>\n",
       "</div>"
      ],
      "text/plain": [
       "                                         rota_imagem_1  \\\n",
       "0         dados/imagens/Scott_Wolf/Scott_Wolf_0002.jpg   \n",
       "1       dados/imagens/Hugo_Chavez/Hugo_Chavez_0013.jpg   \n",
       "2    dados/imagens/George_W_Bush/George_W_Bush_0149...   \n",
       "3    dados/imagens/George_W_Bush/George_W_Bush_0145...   \n",
       "4     dados/imagens/Heath_Ledger/Heath_Ledger_0001.jpg   \n",
       "..                                                 ...   \n",
       "395  dados/imagens/Shannon_OBrien/Shannon_OBrien_00...   \n",
       "396  dados/imagens/Herta_Daeubler-Gmelin/Herta_Daeu...   \n",
       "397  dados/imagens/Hillary_Clinton/Hillary_Clinton_...   \n",
       "398   dados/imagens/Kate_Winslet/Kate_Winslet_0004.jpg   \n",
       "399       dados/imagens/Bob_Graham/Bob_Graham_0001.jpg   \n",
       "\n",
       "                                         rota_imagem_2  classe  \n",
       "0    dados/imagens/Raymond_Odierno/Raymond_Odierno_...       0  \n",
       "1       dados/imagens/Hugo_Chavez/Hugo_Chavez_0070.jpg       1  \n",
       "2    dados/imagens/George_W_Bush/George_W_Bush_0282...       1  \n",
       "3    dados/imagens/George_W_Bush/George_W_Bush_0511...       1  \n",
       "4         dados/imagens/Mack_Brown/Mack_Brown_0002.jpg       0  \n",
       "..                                                 ...     ...  \n",
       "395  dados/imagens/Bill_Callahan/Bill_Callahan_0001...       0  \n",
       "396         dados/imagens/JJ_Redick/JJ_Redick_0001.jpg       0  \n",
       "397           dados/imagens/Jeb_Bush/Jeb_Bush_0004.jpg       0  \n",
       "398  dados/imagens/Gro_Harlem_Brundtland/Gro_Harlem...       0  \n",
       "399     dados/imagens/Rita_Moreno/Rita_Moreno_0001.jpg       0  \n",
       "\n",
       "[400 rows x 3 columns]"
      ]
     },
     "execution_count": 7,
     "metadata": {},
     "output_type": "execute_result"
    }
   ],
   "source": [
    "df_reduzido"
   ]
  },
  {
   "cell_type": "code",
   "execution_count": 8,
   "metadata": {},
   "outputs": [
    {
     "data": {
      "text/plain": [
       "classe\n",
       "0    200\n",
       "1    200\n",
       "Name: count, dtype: int64"
      ]
     },
     "execution_count": 8,
     "metadata": {},
     "output_type": "execute_result"
    }
   ],
   "source": [
    "df_reduzido.classe.value_counts()"
   ]
  },
  {
   "cell_type": "code",
   "execution_count": 9,
   "metadata": {},
   "outputs": [],
   "source": [
    "#sudo apt-get update\n",
    "#sudo apt-get install cmake\n",
    "#sudo apt-get install build-essential\n",
    "#sudo apt-get install python3-dev\n",
    "#sudo apt-get install libx11-dev\n",
    "#sudo apt-get install libgtk-3-dev\n",
    "#sudo apt-get install libopenblas-dev\n",
    "#pip install dlib\n",
    "#pip install face_recognition Pillow"
   ]
  },
  {
   "cell_type": "code",
   "execution_count": 10,
   "metadata": {},
   "outputs": [],
   "source": [
    "import face_recognition\n",
    "from PIL import Image\n",
    "from IPython.display import clear_output"
   ]
  },
  {
   "cell_type": "code",
   "execution_count": 11,
   "metadata": {},
   "outputs": [],
   "source": [
    "def compare_faces(file1, file2):\n",
    "    # Carrega as imagens para o sistema\n",
    "    image1 = face_recognition.load_image_file(file1)\n",
    "    image2 = face_recognition.load_image_file(file2)\n",
    "\n",
    "    # Detecta as faces nas imagens\n",
    "    face1_encoding = face_recognition.face_encodings(image1)\n",
    "    face2_encoding = face_recognition.face_encodings(image2)\n",
    "\n",
    "    # Verifica se encontrou alguma face nas imagens\n",
    "    if not face1_encoding or not face2_encoding:\n",
    "        print(\"Não foi possível encontrar uma face em uma das imagens.\")\n",
    "        return 0\n",
    "\n",
    "    # Supõe que cada imagem contém apenas uma face\n",
    "    # Compara as primeiras faces encontradas nas duas imagens\n",
    "    results = face_recognition.compare_faces([face1_encoding[0]], face2_encoding[0])\n",
    "    return 1 if results[0] else 0"
   ]
  },
  {
   "cell_type": "code",
   "execution_count": 12,
   "metadata": {},
   "outputs": [
    {
     "data": {
      "text/plain": [
       "0"
      ]
     },
     "execution_count": 12,
     "metadata": {},
     "output_type": "execute_result"
    }
   ],
   "source": [
    "img_1, img_2 = df_reduzido.iloc[0][['rota_imagem_1','rota_imagem_2']]\n",
    "resultado = compare_faces(img_1, img_2)\n",
    "resultado"
   ]
  },
  {
   "cell_type": "code",
   "execution_count": 13,
   "metadata": {},
   "outputs": [
    {
     "name": "stdout",
     "output_type": "stream",
     "text": [
      "99.75 %\n"
     ]
    }
   ],
   "source": [
    "# Inicializa uma lista vazia para armazenar os resultados das previsões\n",
    "previsao = []\n",
    "\n",
    "# Loop através de cada linha do DataFrame 'df_reduzido'\n",
    "for cont in range(len(df_reduzido)):\n",
    "    # Extrai as rotas (caminhos dos arquivos) para as duas imagens da linha atual\n",
    "    img_1, img_2 = df_reduzido.iloc[cont][['rota_imagem_1','rota_imagem_2']]\n",
    "    \n",
    "    # Chama a função 'compare_faces' que compara as duas imagens\n",
    "    resultado = compare_faces(img_1, img_2)\n",
    "    \n",
    "    # Adiciona o resultado da comparação à lista 'previsao'\n",
    "    previsao.append(resultado)\n",
    "    \n",
    "    # Limpa a saída do display para evitar desordem no console/jupyter notebook\n",
    "    clear_output()\n",
    "    \n",
    "    # Imprime o progresso atual do loop como uma porcentagem\n",
    "    print(round(cont/len(df_reduzido) * 100, 2), '%')\n",
    "    \n",
    "# Adiciona a coluna 'previsao' ao DataFrame 'df_reduzido', contendo os resultados das comparações\n",
    "df_reduzido['previsao'] = previsao"
   ]
  },
  {
   "cell_type": "code",
   "execution_count": 14,
   "metadata": {},
   "outputs": [
    {
     "data": {
      "text/html": [
       "<div>\n",
       "<style scoped>\n",
       "    .dataframe tbody tr th:only-of-type {\n",
       "        vertical-align: middle;\n",
       "    }\n",
       "\n",
       "    .dataframe tbody tr th {\n",
       "        vertical-align: top;\n",
       "    }\n",
       "\n",
       "    .dataframe thead th {\n",
       "        text-align: right;\n",
       "    }\n",
       "</style>\n",
       "<table border=\"1\" class=\"dataframe\">\n",
       "  <thead>\n",
       "    <tr style=\"text-align: right;\">\n",
       "      <th></th>\n",
       "      <th>rota_imagem_1</th>\n",
       "      <th>rota_imagem_2</th>\n",
       "      <th>classe</th>\n",
       "      <th>previsao</th>\n",
       "    </tr>\n",
       "  </thead>\n",
       "  <tbody>\n",
       "    <tr>\n",
       "      <th>0</th>\n",
       "      <td>dados/imagens/Scott_Wolf/Scott_Wolf_0002.jpg</td>\n",
       "      <td>dados/imagens/Raymond_Odierno/Raymond_Odierno_...</td>\n",
       "      <td>0</td>\n",
       "      <td>0</td>\n",
       "    </tr>\n",
       "    <tr>\n",
       "      <th>1</th>\n",
       "      <td>dados/imagens/Hugo_Chavez/Hugo_Chavez_0013.jpg</td>\n",
       "      <td>dados/imagens/Hugo_Chavez/Hugo_Chavez_0070.jpg</td>\n",
       "      <td>1</td>\n",
       "      <td>1</td>\n",
       "    </tr>\n",
       "    <tr>\n",
       "      <th>2</th>\n",
       "      <td>dados/imagens/George_W_Bush/George_W_Bush_0149...</td>\n",
       "      <td>dados/imagens/George_W_Bush/George_W_Bush_0282...</td>\n",
       "      <td>1</td>\n",
       "      <td>1</td>\n",
       "    </tr>\n",
       "    <tr>\n",
       "      <th>3</th>\n",
       "      <td>dados/imagens/George_W_Bush/George_W_Bush_0145...</td>\n",
       "      <td>dados/imagens/George_W_Bush/George_W_Bush_0511...</td>\n",
       "      <td>1</td>\n",
       "      <td>1</td>\n",
       "    </tr>\n",
       "    <tr>\n",
       "      <th>4</th>\n",
       "      <td>dados/imagens/Heath_Ledger/Heath_Ledger_0001.jpg</td>\n",
       "      <td>dados/imagens/Mack_Brown/Mack_Brown_0002.jpg</td>\n",
       "      <td>0</td>\n",
       "      <td>0</td>\n",
       "    </tr>\n",
       "    <tr>\n",
       "      <th>...</th>\n",
       "      <td>...</td>\n",
       "      <td>...</td>\n",
       "      <td>...</td>\n",
       "      <td>...</td>\n",
       "    </tr>\n",
       "    <tr>\n",
       "      <th>395</th>\n",
       "      <td>dados/imagens/Shannon_OBrien/Shannon_OBrien_00...</td>\n",
       "      <td>dados/imagens/Bill_Callahan/Bill_Callahan_0001...</td>\n",
       "      <td>0</td>\n",
       "      <td>0</td>\n",
       "    </tr>\n",
       "    <tr>\n",
       "      <th>396</th>\n",
       "      <td>dados/imagens/Herta_Daeubler-Gmelin/Herta_Daeu...</td>\n",
       "      <td>dados/imagens/JJ_Redick/JJ_Redick_0001.jpg</td>\n",
       "      <td>0</td>\n",
       "      <td>0</td>\n",
       "    </tr>\n",
       "    <tr>\n",
       "      <th>397</th>\n",
       "      <td>dados/imagens/Hillary_Clinton/Hillary_Clinton_...</td>\n",
       "      <td>dados/imagens/Jeb_Bush/Jeb_Bush_0004.jpg</td>\n",
       "      <td>0</td>\n",
       "      <td>0</td>\n",
       "    </tr>\n",
       "    <tr>\n",
       "      <th>398</th>\n",
       "      <td>dados/imagens/Kate_Winslet/Kate_Winslet_0004.jpg</td>\n",
       "      <td>dados/imagens/Gro_Harlem_Brundtland/Gro_Harlem...</td>\n",
       "      <td>0</td>\n",
       "      <td>0</td>\n",
       "    </tr>\n",
       "    <tr>\n",
       "      <th>399</th>\n",
       "      <td>dados/imagens/Bob_Graham/Bob_Graham_0001.jpg</td>\n",
       "      <td>dados/imagens/Rita_Moreno/Rita_Moreno_0001.jpg</td>\n",
       "      <td>0</td>\n",
       "      <td>0</td>\n",
       "    </tr>\n",
       "  </tbody>\n",
       "</table>\n",
       "<p>400 rows × 4 columns</p>\n",
       "</div>"
      ],
      "text/plain": [
       "                                         rota_imagem_1  \\\n",
       "0         dados/imagens/Scott_Wolf/Scott_Wolf_0002.jpg   \n",
       "1       dados/imagens/Hugo_Chavez/Hugo_Chavez_0013.jpg   \n",
       "2    dados/imagens/George_W_Bush/George_W_Bush_0149...   \n",
       "3    dados/imagens/George_W_Bush/George_W_Bush_0145...   \n",
       "4     dados/imagens/Heath_Ledger/Heath_Ledger_0001.jpg   \n",
       "..                                                 ...   \n",
       "395  dados/imagens/Shannon_OBrien/Shannon_OBrien_00...   \n",
       "396  dados/imagens/Herta_Daeubler-Gmelin/Herta_Daeu...   \n",
       "397  dados/imagens/Hillary_Clinton/Hillary_Clinton_...   \n",
       "398   dados/imagens/Kate_Winslet/Kate_Winslet_0004.jpg   \n",
       "399       dados/imagens/Bob_Graham/Bob_Graham_0001.jpg   \n",
       "\n",
       "                                         rota_imagem_2  classe  previsao  \n",
       "0    dados/imagens/Raymond_Odierno/Raymond_Odierno_...       0         0  \n",
       "1       dados/imagens/Hugo_Chavez/Hugo_Chavez_0070.jpg       1         1  \n",
       "2    dados/imagens/George_W_Bush/George_W_Bush_0282...       1         1  \n",
       "3    dados/imagens/George_W_Bush/George_W_Bush_0511...       1         1  \n",
       "4         dados/imagens/Mack_Brown/Mack_Brown_0002.jpg       0         0  \n",
       "..                                                 ...     ...       ...  \n",
       "395  dados/imagens/Bill_Callahan/Bill_Callahan_0001...       0         0  \n",
       "396         dados/imagens/JJ_Redick/JJ_Redick_0001.jpg       0         0  \n",
       "397           dados/imagens/Jeb_Bush/Jeb_Bush_0004.jpg       0         0  \n",
       "398  dados/imagens/Gro_Harlem_Brundtland/Gro_Harlem...       0         0  \n",
       "399     dados/imagens/Rita_Moreno/Rita_Moreno_0001.jpg       0         0  \n",
       "\n",
       "[400 rows x 4 columns]"
      ]
     },
     "execution_count": 14,
     "metadata": {},
     "output_type": "execute_result"
    }
   ],
   "source": [
    "df_reduzido"
   ]
  },
  {
   "cell_type": "code",
   "execution_count": 15,
   "metadata": {},
   "outputs": [
    {
     "data": {
      "text/plain": [
       "previsao\n",
       "0    202\n",
       "1    198\n",
       "Name: count, dtype: int64"
      ]
     },
     "execution_count": 15,
     "metadata": {},
     "output_type": "execute_result"
    }
   ],
   "source": [
    "df_reduzido.previsao.value_counts()"
   ]
  },
  {
   "cell_type": "code",
   "execution_count": 16,
   "metadata": {},
   "outputs": [],
   "source": [
    "from sklearn.metrics import classification_report, confusion_matrix, accuracy_score\n",
    "import seaborn as sns\n",
    "import matplotlib.pyplot as plt"
   ]
  },
  {
   "cell_type": "code",
   "execution_count": 17,
   "metadata": {},
   "outputs": [
    {
     "name": "stdout",
     "output_type": "stream",
     "text": [
      "Relatório de Classificação:\n",
      "               precision    recall  f1-score   support\n",
      "\n",
      "           0       0.99      1.00      1.00       200\n",
      "           1       1.00      0.99      0.99       200\n",
      "\n",
      "    accuracy                           0.99       400\n",
      "   macro avg       1.00      0.99      0.99       400\n",
      "weighted avg       1.00      0.99      0.99       400\n",
      "\n",
      "Acurácia: 0.995\n"
     ]
    },
    {
     "data": {
      "text/plain": [
       "array([[200,   0],\n",
       "       [  2, 198]])"
      ]
     },
     "execution_count": 17,
     "metadata": {},
     "output_type": "execute_result"
    }
   ],
   "source": [
    "# Calculando métricas de classificação binária\n",
    "report = classification_report(df_reduzido['classe'], df_reduzido['previsao'])\n",
    "accuracy = accuracy_score(df_reduzido['classe'], df_reduzido['previsao'])\n",
    "\n",
    "# Imprimindo o relatório de classificação e a acurácia\n",
    "print(\"Relatório de Classificação:\\n\", report)\n",
    "print(\"Acurácia:\", accuracy)\n",
    "\n",
    "# Calculando a matriz de confusão\n",
    "conf_matrix = confusion_matrix(df_reduzido['classe'], df_reduzido['previsao'])\n",
    "conf_matrix\n"
   ]
  },
  {
   "cell_type": "markdown",
   "metadata": {},
   "source": [
    "### 1.2: Classificação de Imagens\n",
    "\n",
    "#### Funcionalidade\n",
    "A classificação de imagens envolve o uso de CNNs para identificar e categorizar imagens dentro de um conjunto definido de categorias com base em seu conteúdo visual. Este processo é fundamental para muitas aplicações que dependem de uma compreensão visual automatizada para funcionar eficientemente.\n",
    "\n",
    "- **Como Funciona**: Através de múltiplas camadas de processamento, as CNNs aprendem a distinguir entre diferentes objetos e cenários em imagens. Começando por identificar características simples como bordas e cores em camadas inferiores, elas progridem para identificar formas e padrões mais complexos nas camadas superiores. O resultado é uma capacidade de reconhecer e classificar a imagem como pertencente a uma categoria específica.\n",
    "\n",
    "#### Exemplos de Implementação\n",
    "A classificação de imagens tem uma vasta gama de implementações práticas que têm transformado muitos setores, proporcionando automação e insights que não eram possíveis anteriormente.\n",
    "\n",
    "- **Organização Automática de Fotos em Mídias Sociais**: Plataformas de mídia social usam CNNs para categorizar e organizar automaticamente as fotos que os usuários carregam por tema, localização ou pessoas presentes, melhorando a experiência do usuário.\n",
    "- **Filtros de Conteúdo Digital**: Empresas de tecnologia implementam modelos de CNN para monitorar e filtrar conteúdo visual, identificando imagens inapropriadas ou que não cumprem com as diretrizes de conteúdo automaticamente.\n",
    "\n",
    "#### Impacto e Potencial\n",
    "A eficácia com que as CNNs podem ser treinadas para classificar imagens corretamente tem implicações significativas para a automação e a inteligência artificial.\n",
    "\n",
    "- **Benefícios Práticos**: Automatização de tarefas que anteriormente requeriam intervenção humana, como a triagem de conteúdo visual para moderação ou a organização de grandes bancos de dados de imagens.\n",
    "- **Desafios**: Apesar de sua utilidade, a classificação de imagens ainda enfrenta desafios como a necessidade de grandes volumes de dados de treinamento etiquetados e o risco de viés nos dados que podem afetar a precisão da classificação."
   ]
  },
  {
   "cell_type": "code",
   "execution_count": 18,
   "metadata": {},
   "outputs": [
    {
     "name": "stderr",
     "output_type": "stream",
     "text": [
      "2024-04-22 22:30:02.641209: I tensorflow/core/util/port.cc:113] oneDNN custom operations are on. You may see slightly different numerical results due to floating-point round-off errors from different computation orders. To turn them off, set the environment variable `TF_ENABLE_ONEDNN_OPTS=0`.\n",
      "2024-04-22 22:30:02.641585: I external/local_tsl/tsl/cuda/cudart_stub.cc:32] Could not find cuda drivers on your machine, GPU will not be used.\n",
      "2024-04-22 22:30:02.644914: I external/local_tsl/tsl/cuda/cudart_stub.cc:32] Could not find cuda drivers on your machine, GPU will not be used.\n",
      "2024-04-22 22:30:02.687277: I tensorflow/core/platform/cpu_feature_guard.cc:210] This TensorFlow binary is optimized to use available CPU instructions in performance-critical operations.\n",
      "To enable the following instructions: AVX2 AVX_VNNI FMA, in other operations, rebuild TensorFlow with the appropriate compiler flags.\n",
      "2024-04-22 22:30:03.356086: W tensorflow/compiler/tf2tensorrt/utils/py_utils.cc:38] TF-TRT Warning: Could not find TensorRT\n"
     ]
    }
   ],
   "source": [
    "import os\n",
    "import numpy as np\n",
    "import matplotlib.pyplot as plt\n",
    "import seaborn as sns\n",
    "from tensorflow.keras.preprocessing.image import ImageDataGenerator\n",
    "from tensorflow.keras.models import Sequential\n",
    "from tensorflow.keras.layers import Conv2D, MaxPooling2D, Flatten, Dense, Dropout\n",
    "from tensorflow.keras.utils import to_categorical\n",
    "from sklearn.model_selection import train_test_split\n",
    "from sklearn.metrics import classification_report, confusion_matrix\n",
    "from keras.preprocessing import image"
   ]
  },
  {
   "cell_type": "code",
   "execution_count": 19,
   "metadata": {},
   "outputs": [],
   "source": [
    "def load_images_and_labels(base_dir):\n",
    "    \"\"\"\n",
    "    Carrega imagens e seus rótulos a partir de um diretório base, converte as imagens\n",
    "    para o formato adequado e divide em conjuntos de treinamento, teste e validação.\n",
    "    \n",
    "    Args:\n",
    "    base_dir (str): Caminho para o diretório que contém subdiretórios para cada classe.\n",
    "                    Cada subdiretório contém imagens dessa classe.\n",
    "\n",
    "    Returns:\n",
    "    tuple: Quatro arrays numpy contendo dados de treino, dados de teste, rótulos de treino e rótulos de teste.\n",
    "    \"\"\"\n",
    "    images = []  # Lista para armazenar as imagens após serem processadas.\n",
    "    labels = []  # Lista para armazenar os rótulos das imagens.\n",
    "    class_labels = {}  # Dicionário para mapear cada classe a um índice numérico.\n",
    "\n",
    "    # Lê as imagens dos diretórios e atribui rótulos.\n",
    "    for folder in os.listdir(base_dir):\n",
    "        # Cria um índice numérico para cada classe.\n",
    "        class_labels[folder] = len(class_labels)\n",
    "        folder_path = os.path.join(base_dir, folder)  # Caminho para o subdiretório da classe.\n",
    "        \n",
    "        # Itera sobre todos os arquivos dentro do subdiretório da classe.\n",
    "        for file in os.listdir(folder_path):\n",
    "            img_path = os.path.join(folder_path, file)  # Caminho completo para a imagem.\n",
    "            img = image.load_img(img_path, target_size=(150, 150))  # Carrega a imagem e redimensiona para 150x150.\n",
    "            img_array = image.img_to_array(img)  # Converte a imagem para um array numpy.\n",
    "            images.append(img_array)  # Adiciona o array da imagem à lista de imagens.\n",
    "            labels.append(class_labels[folder])  # Adiciona o índice da classe à lista de rótulos.\n",
    "\n",
    "    # Converte as listas de imagens e rótulos para arrays numpy.\n",
    "    images = np.array(images)\n",
    "    labels = to_categorical(np.array(labels))  # Converte os rótulos para formato one-hot.\n",
    "\n",
    "    # Divide os dados em conjuntos de treinamento (70%) e teste (30%) com a função train_test_split.\n",
    "    return train_test_split(images, labels, test_size=0.3, random_state=42)\n"
   ]
  },
  {
   "cell_type": "code",
   "execution_count": 20,
   "metadata": {},
   "outputs": [],
   "source": [
    "# Definindo o diretório base que contém as pastas de classes\n",
    "base_dir = 'dados/animais'\n",
    "\n",
    "X_train, X_test, y_train, y_test = load_images_and_labels(base_dir)\n",
    "X_train, X_val, y_train, y_val = train_test_split(X_train, y_train, test_size=0.1, random_state=42)\n",
    "\n",
    "# Normalizando os dados\n",
    "X_train = X_train / 255.\n",
    "X_val = X_val / 255.\n",
    "X_test = X_test / 255."
   ]
  },
  {
   "cell_type": "code",
   "execution_count": 21,
   "metadata": {},
   "outputs": [
    {
     "name": "stderr",
     "output_type": "stream",
     "text": [
      "/home/arthur/anaconda3/lib/python3.11/site-packages/keras/src/layers/convolutional/base_conv.py:107: UserWarning: Do not pass an `input_shape`/`input_dim` argument to a layer. When using Sequential models, prefer using an `Input(shape)` object as the first layer in the model instead.\n",
      "  super().__init__(activity_regularizer=activity_regularizer, **kwargs)\n"
     ]
    }
   ],
   "source": [
    "from tensorflow.keras.models import Sequential\n",
    "from tensorflow.keras.layers import Conv2D, MaxPooling2D, Flatten, Dense, Dropout\n",
    "\n",
    "# Inicializando o modelo sequencial\n",
    "model = Sequential([\n",
    "    # Adicionando uma camada convolucional:\n",
    "    # 32 é o número de filtros (kernels) que a camada vai usar para extrair características.\n",
    "    # (3, 3) é o tamanho de cada filtro (3x3 pixels).\n",
    "    # 'activation='relu'' especifica que a função de ativação ReLU será usada para adicionar não-linearidade ao modelo.\n",
    "    # 'input_shape=(150, 150, 3)' define o formato da imagem de entrada como 150x150 pixels com 3 canais de cor (RGB).\n",
    "    Conv2D(32, (3, 3), activation='relu', input_shape=(150, 150, 3)),\n",
    "    \n",
    "    # Adicionando uma camada de Max Pooling para reduzir a dimensionalidade espacial da saída da camada anterior,\n",
    "    # ajudando a prevenir overfitting e reduzindo o número de parâmetros.\n",
    "    # (2, 2) é o tamanho da janela de pooling para reduzir a amostra da entrada.\n",
    "    MaxPooling2D(2, 2),\n",
    "    \n",
    "    # Segunda camada convolucional com mais filtros para capturar mais características.\n",
    "    # Aumentar o número de filtros em camadas mais profundas é uma prática comum para capturar a complexidade.\n",
    "    Conv2D(64, (3, 3), activation='relu'),\n",
    "    \n",
    "    # Segunda camada de Max Pooling.\n",
    "    MaxPooling2D(2, 2),\n",
    "    \n",
    "    # Terceira camada convolucional com ainda mais filtros.\n",
    "    Conv2D(128, (3, 3), activation='relu'),\n",
    "    \n",
    "    # Terceira camada de Max Pooling.\n",
    "    MaxPooling2D(2, 2),\n",
    "    \n",
    "    # Camada Flatten para converter as matrizes 3D de dados em 1D,\n",
    "    # permitindo que os dados sejam processados por camadas densas padrão.\n",
    "    Flatten(),\n",
    "    \n",
    "    # Camada densa (fully connected) com muitas unidades para aprender características de alto nível.\n",
    "    Dense(512, activation='relu'),\n",
    "    \n",
    "    # Camada de Dropout para regularização, ajuda a prevenir o overfitting.\n",
    "    # '0.5' significa que metade das entradas será zerada aleatoriamente em cada atualização durante o treinamento.\n",
    "    Dropout(0.5),\n",
    "    \n",
    "    # Camada de saída com um número de unidades igual ao número de classes (determinado pelo tamanho de 'y_train[0]').\n",
    "    # 'activation='softmax'' é usada para a classificação multiclasse, retorna probabilidades das classes.\n",
    "    Dense(len(y_train[0]), activation='softmax')\n",
    "])\n",
    "\n",
    "# Compilando o modelo:\n",
    "# 'optimizer='adam'' é um método de otimização que ajusta os pesos da rede de forma eficiente.\n",
    "# 'loss='categorical_crossentropy'' é a função de perda usada para problemas de classificação multiclasse.\n",
    "# 'metrics=['accuracy']' indica que a acurácia do modelo será avaliada durante o treinamento e testes.\n",
    "model.compile(optimizer='adam', loss='categorical_crossentropy', metrics=['accuracy'])\n"
   ]
  },
  {
   "cell_type": "code",
   "execution_count": 22,
   "metadata": {},
   "outputs": [
    {
     "name": "stdout",
     "output_type": "stream",
     "text": [
      "Epoch 1/10\n",
      "\u001b[1m39/39\u001b[0m \u001b[32m━━━━━━━━━━━━━━━━━━━━\u001b[0m\u001b[37m\u001b[0m \u001b[1m17s\u001b[0m 402ms/step - accuracy: 0.0772 - loss: 2.8957 - val_accuracy: 0.1691 - val_loss: 2.4742\n",
      "Epoch 2/10\n",
      "\u001b[1m39/39\u001b[0m \u001b[32m━━━━━━━━━━━━━━━━━━━━\u001b[0m\u001b[37m\u001b[0m \u001b[1m16s\u001b[0m 400ms/step - accuracy: 0.2526 - loss: 2.3469 - val_accuracy: 0.2574 - val_loss: 2.2877\n",
      "Epoch 3/10\n",
      "\u001b[1m39/39\u001b[0m \u001b[32m━━━━━━━━━━━━━━━━━━━━\u001b[0m\u001b[37m\u001b[0m \u001b[1m15s\u001b[0m 395ms/step - accuracy: 0.3744 - loss: 2.0152 - val_accuracy: 0.4044 - val_loss: 1.9872\n",
      "Epoch 4/10\n",
      "\u001b[1m39/39\u001b[0m \u001b[32m━━━━━━━━━━━━━━━━━━━━\u001b[0m\u001b[37m\u001b[0m \u001b[1m17s\u001b[0m 439ms/step - accuracy: 0.5056 - loss: 1.6126 - val_accuracy: 0.4926 - val_loss: 1.8143\n",
      "Epoch 5/10\n",
      "\u001b[1m39/39\u001b[0m \u001b[32m━━━━━━━━━━━━━━━━━━━━\u001b[0m\u001b[37m\u001b[0m \u001b[1m17s\u001b[0m 423ms/step - accuracy: 0.6750 - loss: 1.1009 - val_accuracy: 0.5515 - val_loss: 1.5942\n",
      "Epoch 6/10\n",
      "\u001b[1m39/39\u001b[0m \u001b[32m━━━━━━━━━━━━━━━━━━━━\u001b[0m\u001b[37m\u001b[0m \u001b[1m17s\u001b[0m 433ms/step - accuracy: 0.7891 - loss: 0.7465 - val_accuracy: 0.6176 - val_loss: 1.7020\n",
      "Epoch 7/10\n",
      "\u001b[1m39/39\u001b[0m \u001b[32m━━━━━━━━━━━━━━━━━━━━\u001b[0m\u001b[37m\u001b[0m \u001b[1m17s\u001b[0m 437ms/step - accuracy: 0.8626 - loss: 0.4900 - val_accuracy: 0.6397 - val_loss: 1.7188\n",
      "Epoch 8/10\n",
      "\u001b[1m39/39\u001b[0m \u001b[32m━━━━━━━━━━━━━━━━━━━━\u001b[0m\u001b[37m\u001b[0m \u001b[1m18s\u001b[0m 465ms/step - accuracy: 0.9054 - loss: 0.3454 - val_accuracy: 0.6838 - val_loss: 1.8927\n",
      "Epoch 9/10\n",
      "\u001b[1m39/39\u001b[0m \u001b[32m━━━━━━━━━━━━━━━━━━━━\u001b[0m\u001b[37m\u001b[0m \u001b[1m18s\u001b[0m 454ms/step - accuracy: 0.9264 - loss: 0.2817 - val_accuracy: 0.6544 - val_loss: 1.9356\n",
      "Epoch 10/10\n",
      "\u001b[1m39/39\u001b[0m \u001b[32m━━━━━━━━━━━━━━━━━━━━\u001b[0m\u001b[37m\u001b[0m \u001b[1m17s\u001b[0m 443ms/step - accuracy: 0.9429 - loss: 0.2513 - val_accuracy: 0.6691 - val_loss: 2.0595\n"
     ]
    }
   ],
   "source": [
    "# Treinamento do modelo\n",
    "history = model.fit(X_train, y_train, epochs=10, validation_data=(X_val, y_val))"
   ]
  },
  {
   "cell_type": "code",
   "execution_count": 23,
   "metadata": {},
   "outputs": [
    {
     "data": {
      "image/png": "[encoded data removed]",
      "text/plain": [
       "<Figure size 1000x500 with 1 Axes>"
      ]
     },
     "metadata": {},
     "output_type": "display_data"
    }
   ],
   "source": [
    "# Avaliação do modelo e plotagem\n",
    "plt.figure(figsize=(10, 5))\n",
    "plt.plot(history.history['accuracy'], label='Train Accuracy')\n",
    "plt.plot(history.history['val_accuracy'], label='Validation Accuracy')\n",
    "plt.plot(history.history['loss'], label='Train Loss')\n",
    "plt.plot(history.history['val_loss'], label='Validation Loss')\n",
    "plt.title('Model Performance')\n",
    "plt.ylabel('Accuracy / Loss')\n",
    "plt.xlabel('Epoch')\n",
    "plt.legend(loc='upper right')\n",
    "plt.show()"
   ]
  },
  {
   "cell_type": "code",
   "execution_count": 24,
   "metadata": {},
   "outputs": [
    {
     "name": "stdout",
     "output_type": "stream",
     "text": [
      "\u001b[1m19/19\u001b[0m \u001b[32m━━━━━━━━━━━━━━━━━━━━\u001b[0m\u001b[37m\u001b[0m \u001b[1m2s\u001b[0m 97ms/step\n",
      "              precision    recall  f1-score   support\n",
      "\n",
      "           0       0.81      0.52      0.63        33\n",
      "           1       0.69      0.76      0.72        38\n",
      "           2       0.75      0.55      0.63        44\n",
      "           3       0.41      0.79      0.54        39\n",
      "           4       0.67      0.73      0.70        48\n",
      "           5       0.71      0.50      0.59        30\n",
      "           6       0.83      0.97      0.89        35\n",
      "           7       0.88      0.57      0.70        40\n",
      "           8       0.72      0.66      0.69        32\n",
      "           9       0.82      0.46      0.59        39\n",
      "          10       0.74      0.55      0.63        42\n",
      "          11       0.70      0.57      0.63        37\n",
      "          12       0.75      0.85      0.80        48\n",
      "          13       0.49      0.88      0.63        33\n",
      "          14       0.85      0.87      0.86        46\n",
      "\n",
      "    accuracy                           0.69       584\n",
      "   macro avg       0.72      0.68      0.68       584\n",
      "weighted avg       0.72      0.69      0.69       584\n",
      "\n"
     ]
    }
   ],
   "source": [
    "# Métricas de classificação\n",
    "predictions = np.argmax(model.predict(X_test), axis=1)\n",
    "true_classes = np.argmax(y_test, axis=1)\n",
    "print(classification_report(true_classes, predictions))"
   ]
  },
  {
   "cell_type": "code",
   "execution_count": 25,
   "metadata": {},
   "outputs": [
    {
     "data": {
      "image/png": "[encoded data removed]",
      "text/plain": [
       "<Figure size 800x600 with 2 Axes>"
      ]
     },
     "metadata": {},
     "output_type": "display_data"
    },
    {
     "data": {
      "text/plain": [
       "array([[17,  1,  3,  3,  0,  0,  0,  1,  0,  1,  0,  3,  0,  4,  0],\n",
       "       [ 0, 29,  1,  2,  0,  1,  1,  0,  0,  0,  1,  0,  0,  1,  2],\n",
       "       [ 0,  0, 24,  7,  3,  1,  1,  0,  1,  0,  4,  0,  0,  2,  1],\n",
       "       [ 0,  0,  0, 31,  1,  0,  0,  0,  0,  1,  2,  0,  2,  1,  1],\n",
       "       [ 0,  0,  0,  5, 35,  0,  2,  0,  0,  0,  0,  0,  1,  5,  0],\n",
       "       [ 1,  1,  2,  4,  0, 15,  0,  0,  1,  0,  0,  1,  5,  0,  0],\n",
       "       [ 0,  0,  0,  1,  0,  0, 34,  0,  0,  0,  0,  0,  0,  0,  0],\n",
       "       [ 0,  2,  0,  2,  0,  0,  0, 23,  1,  0,  0,  4,  1,  6,  1],\n",
       "       [ 0,  3,  0,  1,  1,  0,  2,  0, 21,  0,  0,  0,  1,  3,  0],\n",
       "       [ 0,  4,  0,  8,  3,  0,  0,  1,  0, 18,  0,  1,  1,  3,  0],\n",
       "       [ 0,  1,  1,  6,  3,  2,  1,  0,  1,  1, 23,  0,  0,  2,  1],\n",
       "       [ 0,  0,  0,  6,  4,  1,  0,  0,  0,  0,  1, 21,  3,  1,  0],\n",
       "       [ 1,  1,  1,  0,  1,  1,  0,  1,  0,  1,  0,  0, 41,  0,  0],\n",
       "       [ 1,  0,  0,  0,  1,  0,  0,  0,  1,  0,  0,  0,  0, 29,  1],\n",
       "       [ 1,  0,  0,  0,  0,  0,  0,  0,  3,  0,  0,  0,  0,  2, 40]])"
      ]
     },
     "execution_count": 25,
     "metadata": {},
     "output_type": "execute_result"
    }
   ],
   "source": [
    "# Matriz de confusão\n",
    "cm = confusion_matrix(true_classes, predictions)\n",
    "plt.figure(figsize=(8, 6))\n",
    "sns.heatmap(cm, annot=True, fmt='d', cmap='Blues')\n",
    "plt.title('Confusion Matrix')\n",
    "plt.ylabel('Actual')\n",
    "plt.xlabel('Predicted')\n",
    "plt.show()\n",
    "cm"
   ]
  },
  {
   "cell_type": "markdown",
   "metadata": {},
   "source": [
    "### 1.3: Detecção de Objetos\n",
    "\n",
    "#### Mecanismo de Ação\n",
    "A detecção de objetos é um processo pelo qual uma CNN não só reconhece a presença de objetos dentro de uma imagem mas também localiza precisamente esses objetos, identificando suas bordas. Este é um avanço significativo em relação à simples classificação de imagens, pois permite uma interação mais complexa e funcional com o ambiente visual.\n",
    "\n",
    "- **Processo Técnico**: As CNNs utilizadas para detecção de objetos são geralmente treinadas para reconhecer arranjos específicos de características que formam objetos. Após a detecção das características, a rede é capaz de prever a localização do objeto na imagem, geralmente indicada por um \"bounding box\".\n",
    "\n",
    "#### Aplicabilidade\n",
    "A capacidade de detectar e localizar objetos em imagens tem vastas aplicações em muitos setores industriais e tecnológicos, facilitando uma variedade de tarefas automatizadas e melhorando a segurança e eficiência.\n",
    "\n",
    "- **Automação Industrial**: Em fábricas e linhas de montagem, as CNNs podem identificar peças defeituosas, monitorar a progressão dos objetos através de uma linha de montagem e realizar controle de qualidade visual.\n",
    "- **Veículos Autônomos**: Um dos usos mais críticos da detecção de objetos é em sistemas de condução autônoma, onde a capacidade de identificar e localizar precisamente outros veículos, pedestres, sinais de trânsito, e obstáculos é fundamental para a segurança.\n",
    "- **Monitoramento de Vídeo**: A detecção de objetos é também amplamente utilizada em sistemas de segurança para monitorar áreas públicas ou privadas, detectando atividades suspeitas e rastreando movimentos de pessoas ou objetos importantes.\n",
    "\n",
    "#### Desafios e Considerações\n",
    "Enquanto a detecção de objetos oferece muitas oportunidades para a melhoria de processos e produtos, ela também vem com desafios específicos que precisam ser gerenciados para maximizar sua eficácia.\n",
    "\n",
    "- **Desafios de Performance**: A precisão da detecção de objetos pode ser afetada por vários fatores, incluindo a qualidade da imagem, condições de iluminação e obstruções visuais.\n",
    "- **Considerações Éticas**: Como com muitas tecnologias de vigilância, a detecção de objetos levanta questões importantes sobre privacidade e a ética do monitoramento constante."
   ]
  },
  {
   "cell_type": "markdown",
   "metadata": {},
   "source": [
    "## 2: Aplicações em Visão Computacional"
   ]
  },
  {
   "cell_type": "markdown",
   "metadata": {},
   "source": [
    "### 2.1: Análise de Vídeo em Tempo Real\n",
    "\n",
    "#### Tecnologia Envolvida\n",
    "A análise de vídeo em tempo real é uma das aplicações mais exigentes e tecnologicamente avançadas das redes neurais convolucionais. As CNNs são ideais para esta tarefa devido à sua habilidade em processar e interpretar grandes volumes de dados visuais rapidamente e com alta precisão.\n",
    "\n",
    "- **Processamento de Vídeo**: Utilizando diversas camadas de filtragem e reconhecimento de padrões, as CNNs podem detectar e interpretar atividades, movimentos e interações em vídeos, tudo em tempo real. Esta capacidade é crucial para aplicações que requerem respostas imediatas baseadas em informações visuais.\n",
    "\n",
    "#### Utilização Prática\n",
    "As implicações práticas da análise de vídeo em tempo real são vastas e impactam diretamente a segurança e a qualidade de vida nas áreas urbanas, além de melhorar significativamente a análise esportiva.\n",
    "\n",
    "- **Monitoramento de Segurança Urbana**:\n",
    "  - As CNNs são usadas para monitorar espaços públicos, detectando comportamentos suspeitos ou perigosos e alertando as autoridades instantaneamente.\n",
    "  - Exemplos incluem a detecção de aglomerações que podem indicar uma emergência ou a identificação de indivíduos em listas de observação.\n",
    "  \n",
    "- **Análise de Desempenho Esportivo**:\n",
    "  - No esporte, estas redes ajudam na análise de movimentos dos atletas, proporcionando feedback instantâneo que pode ser usado para melhorar o desempenho ou a estratégia durante uma partida ou treinamento.\n",
    "  - A tecnologia permite uma análise detalhada das ações dos jogadores, ajudando técnicos e jogadores a refinar técnicas e táticas em tempo real.\n",
    "\n",
    "#### Desafios e Avanços\n",
    "A aplicação de CNNs em análise de vídeo em tempo real não está livre de desafios, no entanto, os avanços continuam a superar essas barreiras, melhorando constantemente a eficácia e eficiência da tecnologia.\n",
    "\n",
    "- **Desafios Técnicos**:\n",
    "  - Lidar com a vasta quantidade de dados em tempo real exige uma infraestrutura computacional robusta e eficiente.\n",
    "  - A qualidade do vídeo pode significativamente impactar a precisão do reconhecimento e análise.\n",
    "  \n",
    "- **Inovações Tecnológicas**:\n",
    "  - Desenvolvimentos em hardware, como GPUs mais poderosas e especializadas, continuam a diminuir as barreiras de processamento.\n",
    "  - Algoritmos mais avançados de compressão e processamento de vídeo ajudam a gerenciar melhor os recursos necessários para análise em tempo real.\n",
    "\n",
    "Este tópico não só aumenta nossa compreensão das capacidades das CNNs mas também destaca a importância de inovações contínuas na tecnologia de visão computacional para enfrentar desafios emergentes.\n"
   ]
  },
  {
   "cell_type": "markdown",
   "metadata": {},
   "source": [
    "### 2.2: Navegação e Mapeamento Autônomos\n",
    "\n",
    "#### Fundamentos\n",
    "Navegação e mapeamento autônomos representam áreas críticas de aplicação para redes neurais convolucionais, onde elas contribuem significativamente para a autonomia de máquinas em ambientes não estruturados.\n",
    "\n",
    "- **Tecnologia Envolvida**: As CNNs, ao processarem dados visuais, são capazes de identificar e categorizar objetos e características do ambiente. Este reconhecimento é fundamental para que robôs e veículos possam tomar decisões informadas sobre movimento e posicionamento.\n",
    "\n",
    "#### Casos de Uso\n",
    "A capacidade de navegar e mapear autonomamente usando CNNs tem vastas aplicações práticas que estão revolucionando indústrias e serviços pelo uso de robótica avançada e veículos autônomos.\n",
    "\n",
    "- **Robôs de Limpeza Doméstica**:\n",
    "  - Utilizam CNNs para mapear a configuração da casa, identificar obstáculos e otimizar rotas de limpeza, garantindo uma cobertura eficiente do espaço.\n",
    "  \n",
    "- **Drones para Entrega de Produtos**:\n",
    "  - Empregam tecnologias de visão computacional para navegar até locais de entrega, evitando obstáculos e otimizando rotas em tempo real para garantir entregas rápidas e seguras.\n",
    "\n",
    "#### Impacto e Inovação\n",
    "O uso de CNNs para navegação e mapeamento autônomos não apenas melhora a eficiência operacional mas também abre novos caminhos para a exploração de ambientes que seriam inacessíveis ou perigosos para humanos.\n",
    "\n",
    "- **Eficiência e Segurança**:\n",
    "  - A automatização de tarefas de navegação reduz erros humanos e aumenta a eficiência operacional.\n",
    "  - Veículos autônomos equipados com visão computacional podem operar em ambientes hostis ou perigosos sem risco para humanos.\n",
    "\n",
    "- **Desafios Tecnológicos**:\n",
    "  - A navegação autônoma requer uma integração complexa de hardware e software, e as CNNs devem ser extremamente robustas e precisas para serem eficazes.\n",
    "  - As condições variáveis do ambiente, como iluminação e clima, podem afetar a precisão do mapeamento e da navegação."
   ]
  },
  {
   "cell_type": "markdown",
   "metadata": {},
   "source": [
    "### 3.1: Definição de Data Augmentation\n",
    "\n",
    "#### O que é Data Augmentation?\n",
    "Data Augmentation é uma técnica crucial na aprendizagem de máquina, especialmente em tarefas de visão computacional. Esta técnica envolve a modificação de imagens do dataset de treinamento para criar uma biblioteca de imagens mais diversificada e extensa. O objetivo principal é simular diferentes condições de visualização que podem não estar presentes no dataset original, mas que o modelo pode encontrar na prática.\n",
    "\n",
    "- **Objetivos Principais**:\n",
    "  - **Aumentar a Diversidade do Dataset**: Ao modificar as imagens (por rotação, escala, iluminação, etc.), criamos variações das imagens que ajudam o modelo a aprender e reconhecer padrões sob diferentes condições.\n",
    "  - **Prevenir Overfitting**: Ao treinar com um conjunto de dados mais variado, o modelo tem menos chances de aprender ruídos específicos das imagens de treinamento e, consequentemente, tem melhor performance quando exposto a novos dados.\n",
    "\n",
    "#### Como Funciona?\n",
    "Data Augmentation pode ser aplicada de várias formas, dependendo das necessidades específicas do projeto e do tipo de dados com que se está trabalhando. No contexto de CNNs e visão computacional, comummente se utiliza:\n",
    "\n",
    "- **Rotações e Translações**: Girar as imagens em diferentes ângulos e mover a imagem horizontal ou verticalmente para simular diferentes perspectivas.\n",
    "- **Escala e Corte**: Ajustar o tamanho das imagens e cortar seções das mesmas para simular diferentes distâncias e focos.\n",
    "- **Alterações na Iluminação**: Modificar o brilho e o contraste para simular diferentes condições de iluminação.\n",
    "\n",
    "### Importância da Data Augmentation\n",
    "A inclusão de Data Augmentation no pipeline de treinamento de modelos de CNN é considerada uma prática padrão, pois ajuda significativamente na construção de modelos mais generalizáveis e robustos.\n",
    "\n",
    "- **Impacto no Aprendizado de Máquina**:\n",
    "  - A técnica de Data Augmentation permite que os modelos generalizem melhor a partir de um conjunto de treinamento limitado, simulando um mundo visual mais complexo e variado.\n",
    "  - É especialmente útil em cenários onde a coleta de dados é difícil ou cara, pois maximiza a eficácia dos dados disponíveis."
   ]
  },
  {
   "cell_type": "markdown",
   "metadata": {},
   "source": [
    "### 3.2: Implementação de Data Augmentation\n",
    "\n",
    "#### Procedimentos de Data Augmentation\n",
    "Data Augmentation envolve uma série de técnicas que ajustam as imagens de treino para criar novas versões que ajudam o modelo a aprender a generalizar a partir de diferentes perspectivas. Essas técnicas são implementadas usando várias funções disponíveis no TensorFlow, que permitem simular uma ampla gama de variações visuais que um modelo pode encontrar no mundo real.\n",
    "\n",
    "- **Técnicas Comuns de Data Augmentation**:\n",
    "  - **Rotações**: Girar imagens por vários graus para simular a mudança de orientação do objeto visualizado.\n",
    "  - **Mudanças de Escala**: Ajustar o tamanho das imagens para simular objetos sendo vistos de diferentes distâncias.\n",
    "  - **Cortes**: Recortar partes das imagens para focar em certos detalhes ou para simular obstruções parciais no campo de visão.\n",
    "  - **Alterações na Iluminação**: Modificar o brilho e o contraste para replicar diferentes condições de iluminação ambiental.\n",
    "\n",
    "#### Implementação Prática no TensorFlow\n",
    "Implementar Data Augmentation no TensorFlow é facilitado pelo uso de `ImageDataGenerator`, uma ferramenta que automatiza a aplicação de transformações de imagem. Este método é altamente eficiente para preparar dados antes de alimentá-los em uma rede neural.\n",
    "\n",
    "- **Exemplos de Configuração**:\n",
    "  - Configurar o `ImageDataGenerator` para incluir rotações de até 40 graus, mudanças de escala de até 20%, e ajustes de brilho.\n",
    "  - Utilizar o método `flow_from_directory()` para aplicar estas transformações automaticamente às imagens carregadas de um diretório especificado.\n",
    "\n",
    "### Importância das Técnicas de Data Augmentation\n",
    "A implementação cuidadosa de Data Augmentation pode significativamente aumentar a eficácia de um modelo de CNN, especialmente em ambientes onde os dados de treino são limitados ou onde o modelo precisa operar sob uma grande variedade de condições visuais.\n",
    "\n",
    "- **Benefícios**:\n",
    "  - Aumento da diversidade de dados sem necessidade de coleta de dados adicional.\n",
    "  - Melhora na generalização do modelo, reduzindo o risco de overfitting.\n",
    "\n",
    "- **Considerações Estratégicas**:\n",
    "  - É crucial escolher transformações que representem variações realistas que os objetos podem apresentar no mundo real.\n",
    "  - Deve-se evitar a aplicação de transformações extremas que possam distorcer a integridade dos dados, o que poderia levar a aprendizado inadequado.\n"
   ]
  },
  {
   "cell_type": "code",
   "execution_count": 26,
   "metadata": {},
   "outputs": [],
   "source": [
    "import os\n",
    "from sklearn.model_selection import train_test_split\n",
    "\n",
    "# Definindo o diretório base onde estão as imagens\n",
    "base_dir = 'dados/animais'\n",
    "\n",
    "# Lendo as classes e organizando os caminhos\n",
    "classes = os.listdir(base_dir)\n",
    "dados = {}\n",
    "\n",
    "# Estrutura para manter os dados organizados\n",
    "data_split = {'train': {}, 'validation': {}, 'test': {}}\n",
    "\n",
    "for classe in classes:\n",
    "    class_path = os.path.join(base_dir, classe)\n",
    "    if os.path.isdir(class_path):  # Certifique-se de que é um diretório\n",
    "        image_files = [os.path.join(class_path, f) for f in os.listdir(class_path) if f.endswith(('.png', '.jpg', '.jpeg'))]\n",
    "        \n",
    "        # Divisão dos dados em treino, validação e teste\n",
    "        train_val, test_imgs = train_test_split(image_files, test_size=0.2, random_state=42)\n",
    "        train_imgs, val_imgs = train_test_split(train_val, test_size=0.125, random_state=42)  # 0.125 x 0.8 = 0.1\n",
    "        \n",
    "        # Salvando os caminhos nas estruturas correspondentes\n",
    "        data_split['train'][classe] = train_imgs\n",
    "        data_split['validation'][classe] = val_imgs\n",
    "        data_split['test'][classe] = test_imgs"
   ]
  },
  {
   "cell_type": "code",
   "execution_count": 27,
   "metadata": {},
   "outputs": [],
   "source": [
    "# Função para criar um DataFrame a partir do dicionário de dados\n",
    "def create_dataframe(data_dict):\n",
    "    # Inicializar listas vazias para dados\n",
    "    paths = []\n",
    "    classes = []\n",
    "    \n",
    "    # Iterar através do dicionário para preencher as listas\n",
    "    for cls, imgs in data_dict.items():\n",
    "        for img in imgs:\n",
    "            paths.append(img)\n",
    "            classes.append(cls)\n",
    "    \n",
    "    # Criar DataFrame\n",
    "    df = pd.DataFrame({\n",
    "        'classe': classes,\n",
    "        'rota': paths\n",
    "    })\n",
    "    \n",
    "    return df\n",
    "\n",
    "# Criando DataFrames para cada conjunto de dados\n",
    "train_df = create_dataframe(data_split['train'])\n",
    "validation_df = create_dataframe(data_split['validation'])\n",
    "test_df = create_dataframe(data_split['test'])"
   ]
  },
  {
   "cell_type": "code",
   "execution_count": 28,
   "metadata": {},
   "outputs": [
    {
     "data": {
      "text/html": [
       "<div>\n",
       "<style scoped>\n",
       "    .dataframe tbody tr th:only-of-type {\n",
       "        vertical-align: middle;\n",
       "    }\n",
       "\n",
       "    .dataframe tbody tr th {\n",
       "        vertical-align: top;\n",
       "    }\n",
       "\n",
       "    .dataframe thead th {\n",
       "        text-align: right;\n",
       "    }\n",
       "</style>\n",
       "<table border=\"1\" class=\"dataframe\">\n",
       "  <thead>\n",
       "    <tr style=\"text-align: right;\">\n",
       "      <th></th>\n",
       "      <th>classe</th>\n",
       "      <th>rota</th>\n",
       "    </tr>\n",
       "  </thead>\n",
       "  <tbody>\n",
       "    <tr>\n",
       "      <th>0</th>\n",
       "      <td>Bear</td>\n",
       "      <td>dados/animais/Bear/Bear_18.jpeg</td>\n",
       "    </tr>\n",
       "    <tr>\n",
       "      <th>1</th>\n",
       "      <td>Bear</td>\n",
       "      <td>dados/animais/Bear/Bear_28_2.jpg</td>\n",
       "    </tr>\n",
       "    <tr>\n",
       "      <th>2</th>\n",
       "      <td>Bear</td>\n",
       "      <td>dados/animais/Bear/Bear_6.jpg</td>\n",
       "    </tr>\n",
       "    <tr>\n",
       "      <th>3</th>\n",
       "      <td>Bear</td>\n",
       "      <td>dados/animais/Bear/Bear_18_3.jpg</td>\n",
       "    </tr>\n",
       "    <tr>\n",
       "      <th>4</th>\n",
       "      <td>Bear</td>\n",
       "      <td>dados/animais/Bear/Bear_16_3.jpg</td>\n",
       "    </tr>\n",
       "    <tr>\n",
       "      <th>...</th>\n",
       "      <td>...</td>\n",
       "      <td>...</td>\n",
       "    </tr>\n",
       "    <tr>\n",
       "      <th>1345</th>\n",
       "      <td>Zebra</td>\n",
       "      <td>dados/animais/Zebra/Zebra_4_3.jpg</td>\n",
       "    </tr>\n",
       "    <tr>\n",
       "      <th>1346</th>\n",
       "      <td>Zebra</td>\n",
       "      <td>dados/animais/Zebra/Zebra_21_4.jpg</td>\n",
       "    </tr>\n",
       "    <tr>\n",
       "      <th>1347</th>\n",
       "      <td>Zebra</td>\n",
       "      <td>dados/animais/Zebra/Zebra_14_2.jpg</td>\n",
       "    </tr>\n",
       "    <tr>\n",
       "      <th>1348</th>\n",
       "      <td>Zebra</td>\n",
       "      <td>dados/animais/Zebra/Zebra_11_2.jpg</td>\n",
       "    </tr>\n",
       "    <tr>\n",
       "      <th>1349</th>\n",
       "      <td>Zebra</td>\n",
       "      <td>dados/animais/Zebra/Zebra_9_4.jpg</td>\n",
       "    </tr>\n",
       "  </tbody>\n",
       "</table>\n",
       "<p>1350 rows × 2 columns</p>\n",
       "</div>"
      ],
      "text/plain": [
       "     classe                                rota\n",
       "0      Bear     dados/animais/Bear/Bear_18.jpeg\n",
       "1      Bear    dados/animais/Bear/Bear_28_2.jpg\n",
       "2      Bear       dados/animais/Bear/Bear_6.jpg\n",
       "3      Bear    dados/animais/Bear/Bear_18_3.jpg\n",
       "4      Bear    dados/animais/Bear/Bear_16_3.jpg\n",
       "...     ...                                 ...\n",
       "1345  Zebra   dados/animais/Zebra/Zebra_4_3.jpg\n",
       "1346  Zebra  dados/animais/Zebra/Zebra_21_4.jpg\n",
       "1347  Zebra  dados/animais/Zebra/Zebra_14_2.jpg\n",
       "1348  Zebra  dados/animais/Zebra/Zebra_11_2.jpg\n",
       "1349  Zebra   dados/animais/Zebra/Zebra_9_4.jpg\n",
       "\n",
       "[1350 rows x 2 columns]"
      ]
     },
     "execution_count": 28,
     "metadata": {},
     "output_type": "execute_result"
    }
   ],
   "source": [
    "train_df"
   ]
  },
  {
   "cell_type": "code",
   "execution_count": 29,
   "metadata": {},
   "outputs": [
    {
     "data": {
      "text/html": [
       "<div>\n",
       "<style scoped>\n",
       "    .dataframe tbody tr th:only-of-type {\n",
       "        vertical-align: middle;\n",
       "    }\n",
       "\n",
       "    .dataframe tbody tr th {\n",
       "        vertical-align: top;\n",
       "    }\n",
       "\n",
       "    .dataframe thead th {\n",
       "        text-align: right;\n",
       "    }\n",
       "</style>\n",
       "<table border=\"1\" class=\"dataframe\">\n",
       "  <thead>\n",
       "    <tr style=\"text-align: right;\">\n",
       "      <th></th>\n",
       "      <th>classe</th>\n",
       "      <th>rota</th>\n",
       "    </tr>\n",
       "  </thead>\n",
       "  <tbody>\n",
       "    <tr>\n",
       "      <th>0</th>\n",
       "      <td>Bear</td>\n",
       "      <td>dados/animais/Bear/Bear_15_1.jpg</td>\n",
       "    </tr>\n",
       "    <tr>\n",
       "      <th>1</th>\n",
       "      <td>Bear</td>\n",
       "      <td>dados/animais/Bear/Bear_6_2.jpg</td>\n",
       "    </tr>\n",
       "    <tr>\n",
       "      <th>2</th>\n",
       "      <td>Bear</td>\n",
       "      <td>dados/animais/Bear/Bear_26_3.jpg</td>\n",
       "    </tr>\n",
       "    <tr>\n",
       "      <th>3</th>\n",
       "      <td>Bear</td>\n",
       "      <td>dados/animais/Bear/Bear_10_2.jpg</td>\n",
       "    </tr>\n",
       "    <tr>\n",
       "      <th>4</th>\n",
       "      <td>Bear</td>\n",
       "      <td>dados/animais/Bear/Bear_6_1.jpg</td>\n",
       "    </tr>\n",
       "    <tr>\n",
       "      <th>...</th>\n",
       "      <td>...</td>\n",
       "      <td>...</td>\n",
       "    </tr>\n",
       "    <tr>\n",
       "      <th>194</th>\n",
       "      <td>Zebra</td>\n",
       "      <td>dados/animais/Zebra/Zebra_22_1.jpg</td>\n",
       "    </tr>\n",
       "    <tr>\n",
       "      <th>195</th>\n",
       "      <td>Zebra</td>\n",
       "      <td>dados/animais/Zebra/Zebra_21_1.jpg</td>\n",
       "    </tr>\n",
       "    <tr>\n",
       "      <th>196</th>\n",
       "      <td>Zebra</td>\n",
       "      <td>dados/animais/Zebra/Zebra_25.jpeg</td>\n",
       "    </tr>\n",
       "    <tr>\n",
       "      <th>197</th>\n",
       "      <td>Zebra</td>\n",
       "      <td>dados/animais/Zebra/Zebra_12.jpg</td>\n",
       "    </tr>\n",
       "    <tr>\n",
       "      <th>198</th>\n",
       "      <td>Zebra</td>\n",
       "      <td>dados/animais/Zebra/Zebra_16_3.jpg</td>\n",
       "    </tr>\n",
       "  </tbody>\n",
       "</table>\n",
       "<p>199 rows × 2 columns</p>\n",
       "</div>"
      ],
      "text/plain": [
       "    classe                                rota\n",
       "0     Bear    dados/animais/Bear/Bear_15_1.jpg\n",
       "1     Bear     dados/animais/Bear/Bear_6_2.jpg\n",
       "2     Bear    dados/animais/Bear/Bear_26_3.jpg\n",
       "3     Bear    dados/animais/Bear/Bear_10_2.jpg\n",
       "4     Bear     dados/animais/Bear/Bear_6_1.jpg\n",
       "..     ...                                 ...\n",
       "194  Zebra  dados/animais/Zebra/Zebra_22_1.jpg\n",
       "195  Zebra  dados/animais/Zebra/Zebra_21_1.jpg\n",
       "196  Zebra   dados/animais/Zebra/Zebra_25.jpeg\n",
       "197  Zebra    dados/animais/Zebra/Zebra_12.jpg\n",
       "198  Zebra  dados/animais/Zebra/Zebra_16_3.jpg\n",
       "\n",
       "[199 rows x 2 columns]"
      ]
     },
     "execution_count": 29,
     "metadata": {},
     "output_type": "execute_result"
    }
   ],
   "source": [
    "validation_df"
   ]
  },
  {
   "cell_type": "code",
   "execution_count": 30,
   "metadata": {},
   "outputs": [
    {
     "data": {
      "text/html": [
       "<div>\n",
       "<style scoped>\n",
       "    .dataframe tbody tr th:only-of-type {\n",
       "        vertical-align: middle;\n",
       "    }\n",
       "\n",
       "    .dataframe tbody tr th {\n",
       "        vertical-align: top;\n",
       "    }\n",
       "\n",
       "    .dataframe thead th {\n",
       "        text-align: right;\n",
       "    }\n",
       "</style>\n",
       "<table border=\"1\" class=\"dataframe\">\n",
       "  <thead>\n",
       "    <tr style=\"text-align: right;\">\n",
       "      <th></th>\n",
       "      <th>classe</th>\n",
       "      <th>rota</th>\n",
       "    </tr>\n",
       "  </thead>\n",
       "  <tbody>\n",
       "    <tr>\n",
       "      <th>0</th>\n",
       "      <td>Bear</td>\n",
       "      <td>dados/animais/Bear/Bear_14.jpeg</td>\n",
       "    </tr>\n",
       "    <tr>\n",
       "      <th>1</th>\n",
       "      <td>Bear</td>\n",
       "      <td>dados/animais/Bear/Bear_19_3.jpg</td>\n",
       "    </tr>\n",
       "    <tr>\n",
       "      <th>2</th>\n",
       "      <td>Bear</td>\n",
       "      <td>dados/animais/Bear/Bear_18_2.jpg</td>\n",
       "    </tr>\n",
       "    <tr>\n",
       "      <th>3</th>\n",
       "      <td>Bear</td>\n",
       "      <td>dados/animais/Bear/Bear_27.jpeg</td>\n",
       "    </tr>\n",
       "    <tr>\n",
       "      <th>4</th>\n",
       "      <td>Bear</td>\n",
       "      <td>dados/animais/Bear/Bear_21.jpeg</td>\n",
       "    </tr>\n",
       "    <tr>\n",
       "      <th>...</th>\n",
       "      <td>...</td>\n",
       "      <td>...</td>\n",
       "    </tr>\n",
       "    <tr>\n",
       "      <th>390</th>\n",
       "      <td>Zebra</td>\n",
       "      <td>dados/animais/Zebra/Zebra_17_3.jpg</td>\n",
       "    </tr>\n",
       "    <tr>\n",
       "      <th>391</th>\n",
       "      <td>Zebra</td>\n",
       "      <td>dados/animais/Zebra/Zebra_28_1.jpg</td>\n",
       "    </tr>\n",
       "    <tr>\n",
       "      <th>392</th>\n",
       "      <td>Zebra</td>\n",
       "      <td>dados/animais/Zebra/Zebra_3.jpeg</td>\n",
       "    </tr>\n",
       "    <tr>\n",
       "      <th>393</th>\n",
       "      <td>Zebra</td>\n",
       "      <td>dados/animais/Zebra/Zebra_13_2.jpg</td>\n",
       "    </tr>\n",
       "    <tr>\n",
       "      <th>394</th>\n",
       "      <td>Zebra</td>\n",
       "      <td>dados/animais/Zebra/Zebra_13_4.jpg</td>\n",
       "    </tr>\n",
       "  </tbody>\n",
       "</table>\n",
       "<p>395 rows × 2 columns</p>\n",
       "</div>"
      ],
      "text/plain": [
       "    classe                                rota\n",
       "0     Bear     dados/animais/Bear/Bear_14.jpeg\n",
       "1     Bear    dados/animais/Bear/Bear_19_3.jpg\n",
       "2     Bear    dados/animais/Bear/Bear_18_2.jpg\n",
       "3     Bear     dados/animais/Bear/Bear_27.jpeg\n",
       "4     Bear     dados/animais/Bear/Bear_21.jpeg\n",
       "..     ...                                 ...\n",
       "390  Zebra  dados/animais/Zebra/Zebra_17_3.jpg\n",
       "391  Zebra  dados/animais/Zebra/Zebra_28_1.jpg\n",
       "392  Zebra    dados/animais/Zebra/Zebra_3.jpeg\n",
       "393  Zebra  dados/animais/Zebra/Zebra_13_2.jpg\n",
       "394  Zebra  dados/animais/Zebra/Zebra_13_4.jpg\n",
       "\n",
       "[395 rows x 2 columns]"
      ]
     },
     "execution_count": 30,
     "metadata": {},
     "output_type": "execute_result"
    }
   ],
   "source": [
    "test_df"
   ]
  },
  {
   "cell_type": "code",
   "execution_count": 31,
   "metadata": {},
   "outputs": [],
   "source": [
    "import pandas as pd\n",
    "import numpy as np\n",
    "import tensorflow as tf\n",
    "from tensorflow.keras.models import Sequential\n",
    "from tensorflow.keras.layers import Conv2D, MaxPooling2D, Flatten, Dense, Dropout\n",
    "from tensorflow.keras.preprocessing.image import ImageDataGenerator\n",
    "from sklearn.model_selection import train_test_split\n",
    "from tensorflow.keras.optimizers import Adam\n",
    "import matplotlib.pyplot as plt\n",
    "from tensorflow.keras.preprocessing import image"
   ]
  },
  {
   "cell_type": "code",
   "execution_count": 32,
   "metadata": {},
   "outputs": [],
   "source": [
    "def load_images(image_paths, size=(150, 150)):\n",
    "    \"\"\"Esta função lê imagens dos caminhos especificados e retorna como um array numpy.\"\"\"\n",
    "    images = []\n",
    "    for img_path in image_paths:\n",
    "        img = image.load_img(img_path, target_size=size)\n",
    "        img_array = image.img_to_array(img)\n",
    "        images.append(img_array)\n",
    "    return np.array(images)\n"
   ]
  },
  {
   "cell_type": "code",
   "execution_count": 33,
   "metadata": {},
   "outputs": [],
   "source": [
    "# Carregar imagens para cada conjunto de dados\n",
    "X_train = load_images(train_df['rota'].values)\n",
    "X_val = load_images(validation_df['rota'].values)\n",
    "X_test = load_images(test_df['rota'].values)\n",
    "\n",
    "# Normalização dos dados de imagem\n",
    "X_train /= 255.\n",
    "X_val /= 255.\n",
    "X_test /= 255.\n",
    "\n",
    "# Convertendo rótulos em categorias\n",
    "y_train = pd.get_dummies(train_df['classe']).values\n",
    "y_val = pd.get_dummies(validation_df['classe']).values\n",
    "y_test = pd.get_dummies(test_df['classe']).values"
   ]
  },
  {
   "cell_type": "code",
   "execution_count": 34,
   "metadata": {},
   "outputs": [],
   "source": [
    "# Configuração do gerador de imagens com Data Augmentation para o conjunto de treinamento.\n",
    "# O Data Augmentation é usado para aumentar artificialmente o tamanho do conjunto de treinamento\n",
    "# por meio da geração de imagens modificadas durante o treinamento. Isso ajuda a evitar overfitting\n",
    "# e melhorar a generalização do modelo em novos dados não vistos.\n",
    "train_datagen = ImageDataGenerator(\n",
    "    rescale=1./255,         # Normaliza os pixels da imagem para o intervalo [0, 1], ajudando na convergência mais rápida durante o treino.\n",
    "    rotation_range=40,      # Intervalo de graus para rotações aleatórias da imagem. Aqui, a imagem pode ser rotacionada em até 40 graus para a esquerda ou direita.\n",
    "    width_shift_range=0.2,  # Fração da largura total (aqui 20%) para a qual a imagem pode ser horizontalmente transladada, i.e., movida para a esquerda ou direita.\n",
    "    height_shift_range=0.2, # Fração da altura total (aqui 20%) para a qual a imagem pode ser verticalmente transladada, i.e., movida para cima ou para baixo.\n",
    "    shear_range=0.2,        # Intensidade da distorção de cisalhamento (em graus). Permite inclinar a imagem para simular uma perspectiva de ângulo.\n",
    "    zoom_range=0.2,         # Intervalo para zoom aleatório. Aqui, as imagens podem ser aumentadas ou diminuídas em até 20%.\n",
    "    horizontal_flip=True,   # Permite inverter aleatoriamente as imagens horizontalmente. Isso significa refletir a imagem ao longo do eixo vertical.\n",
    "    fill_mode='nearest'     # Método usado para preencher os pixels novos que podem aparecer após uma rotação ou um deslocamento de largura/altura.\n",
    "                            # 'nearest' preenche com o pixel mais próximo.\n",
    ")\n",
    "\n",
    "# Configuração do gerador de imagens para os conjuntos de validação e teste.\n",
    "# Aqui não aplicamos Data Augmentation; apenas realizamos a normalização das imagens.\n",
    "test_val_datagen = ImageDataGenerator(\n",
    "    rescale=1./255  # Normaliza os pixels da imagem para o intervalo [0, 1] como no gerador de treinamento.\n",
    ")"
   ]
  },
  {
   "cell_type": "code",
   "execution_count": 35,
   "metadata": {},
   "outputs": [
    {
     "name": "stdout",
     "output_type": "stream",
     "text": [
      "Found 1350 validated image filenames belonging to 15 classes.\n",
      "Found 199 validated image filenames belonging to 15 classes.\n",
      "Found 395 validated image filenames belonging to 15 classes.\n"
     ]
    }
   ],
   "source": [
    "# Definição de uma função para criar um gerador de dados de imagens a partir de um dataframe.\n",
    "# Esta função simplifica a criação de geradores de imagens que são usados para treinar ou avaliar o modelo.\n",
    "def create_datagen_flow_from_dataframe(df, datagen, target_size=(150, 150), batch_size=32, class_mode='categorical'):\n",
    "    \"\"\"\n",
    "    Cria e retorna um gerador que será usado para ler imagens em batches diretamente do dataframe.\n",
    "    \n",
    "    Args:\n",
    "    df (DataFrame): Dataframe contendo as rotas das imagens e suas respectivas classes.\n",
    "    datagen (ImageDataGenerator): Instância do ImageDataGenerator configurada para especificar como as imagens devem ser pré-processadas.\n",
    "    target_size (tuple): O tamanho para o qual as imagens serão redimensionadas. É importante que o tamanho de entrada seja consistente na rede neural.\n",
    "    batch_size (int): Número de imagens a serem geradas por lote. Ajustar este número pode impactar a memória utilizada e a velocidade do treinamento.\n",
    "    class_mode (str): Define o tipo de rótulo de saída que será gerado. Opções comuns incluem:\n",
    "                      'categorical' - para classificação multiclasse, retorna rótulos de classe one-hot,\n",
    "                      'binary' - para classificação binária, retorna rótulos binários,\n",
    "                      'sparse' - para classificação multiclasse, retorna rótulos como inteiros.\n",
    "\n",
    "    Returns:\n",
    "    DirectoryIterator: Retorna um gerador que produz pares de entrada (imagem) e saída (rótulo) em batches ao treinar o modelo.\n",
    "    \"\"\"\n",
    "    return datagen.flow_from_dataframe(\n",
    "        dataframe=df,        # Dataframe de entrada que contém as informações das imagens\n",
    "        x_col='rota',        # Coluna no dataframe que contém o caminho para o arquivo de imagem\n",
    "        y_col='classe',      # Coluna no dataframe que contém os rótulos de classe das imagens\n",
    "        target_size=target_size,  # As dimensões para as quais as imagens serão redimensionadas; importante para a entrada da CNN\n",
    "        batch_size=batch_size,    # Número de imagens a serem processadas em um único lote\n",
    "        class_mode=class_mode     # O tipo de dados de saída que será gerado (categórico, binário, etc.)\n",
    "    )\n",
    "\n",
    "# Criando os geradores de dados para treinamento, validação e teste utilizando a função definida acima.\n",
    "# Estes geradores lerão as imagens e suas etiquetas diretamente do dataframe e aplicarão as transformações especificadas\n",
    "# pelo ImageDataGenerator correspondente.\n",
    "\n",
    "# Gerador para treinamento\n",
    "train_generator = create_datagen_flow_from_dataframe(train_df, train_datagen)\n",
    "\n",
    "# Gerador para validação\n",
    "validation_generator = create_datagen_flow_from_dataframe(validation_df, test_val_datagen)\n",
    "\n",
    "# Gerador para teste\n",
    "test_generator = create_datagen_flow_from_dataframe(test_df, test_val_datagen)"
   ]
  },
  {
   "cell_type": "code",
   "execution_count": 36,
   "metadata": {},
   "outputs": [
    {
     "data": {
      "text/html": [
       "<div>\n",
       "<style scoped>\n",
       "    .dataframe tbody tr th:only-of-type {\n",
       "        vertical-align: middle;\n",
       "    }\n",
       "\n",
       "    .dataframe tbody tr th {\n",
       "        vertical-align: top;\n",
       "    }\n",
       "\n",
       "    .dataframe thead th {\n",
       "        text-align: right;\n",
       "    }\n",
       "</style>\n",
       "<table border=\"1\" class=\"dataframe\">\n",
       "  <thead>\n",
       "    <tr style=\"text-align: right;\">\n",
       "      <th></th>\n",
       "      <th>classe</th>\n",
       "      <th>rota</th>\n",
       "    </tr>\n",
       "  </thead>\n",
       "  <tbody>\n",
       "    <tr>\n",
       "      <th>0</th>\n",
       "      <td>Bear</td>\n",
       "      <td>dados/animais/Bear/Bear_18.jpeg</td>\n",
       "    </tr>\n",
       "    <tr>\n",
       "      <th>1</th>\n",
       "      <td>Bear</td>\n",
       "      <td>dados/animais/Bear/Bear_28_2.jpg</td>\n",
       "    </tr>\n",
       "    <tr>\n",
       "      <th>2</th>\n",
       "      <td>Bear</td>\n",
       "      <td>dados/animais/Bear/Bear_6.jpg</td>\n",
       "    </tr>\n",
       "    <tr>\n",
       "      <th>3</th>\n",
       "      <td>Bear</td>\n",
       "      <td>dados/animais/Bear/Bear_18_3.jpg</td>\n",
       "    </tr>\n",
       "    <tr>\n",
       "      <th>4</th>\n",
       "      <td>Bear</td>\n",
       "      <td>dados/animais/Bear/Bear_16_3.jpg</td>\n",
       "    </tr>\n",
       "    <tr>\n",
       "      <th>...</th>\n",
       "      <td>...</td>\n",
       "      <td>...</td>\n",
       "    </tr>\n",
       "    <tr>\n",
       "      <th>1345</th>\n",
       "      <td>Zebra</td>\n",
       "      <td>dados/animais/Zebra/Zebra_4_3.jpg</td>\n",
       "    </tr>\n",
       "    <tr>\n",
       "      <th>1346</th>\n",
       "      <td>Zebra</td>\n",
       "      <td>dados/animais/Zebra/Zebra_21_4.jpg</td>\n",
       "    </tr>\n",
       "    <tr>\n",
       "      <th>1347</th>\n",
       "      <td>Zebra</td>\n",
       "      <td>dados/animais/Zebra/Zebra_14_2.jpg</td>\n",
       "    </tr>\n",
       "    <tr>\n",
       "      <th>1348</th>\n",
       "      <td>Zebra</td>\n",
       "      <td>dados/animais/Zebra/Zebra_11_2.jpg</td>\n",
       "    </tr>\n",
       "    <tr>\n",
       "      <th>1349</th>\n",
       "      <td>Zebra</td>\n",
       "      <td>dados/animais/Zebra/Zebra_9_4.jpg</td>\n",
       "    </tr>\n",
       "  </tbody>\n",
       "</table>\n",
       "<p>1350 rows × 2 columns</p>\n",
       "</div>"
      ],
      "text/plain": [
       "     classe                                rota\n",
       "0      Bear     dados/animais/Bear/Bear_18.jpeg\n",
       "1      Bear    dados/animais/Bear/Bear_28_2.jpg\n",
       "2      Bear       dados/animais/Bear/Bear_6.jpg\n",
       "3      Bear    dados/animais/Bear/Bear_18_3.jpg\n",
       "4      Bear    dados/animais/Bear/Bear_16_3.jpg\n",
       "...     ...                                 ...\n",
       "1345  Zebra   dados/animais/Zebra/Zebra_4_3.jpg\n",
       "1346  Zebra  dados/animais/Zebra/Zebra_21_4.jpg\n",
       "1347  Zebra  dados/animais/Zebra/Zebra_14_2.jpg\n",
       "1348  Zebra  dados/animais/Zebra/Zebra_11_2.jpg\n",
       "1349  Zebra   dados/animais/Zebra/Zebra_9_4.jpg\n",
       "\n",
       "[1350 rows x 2 columns]"
      ]
     },
     "execution_count": 36,
     "metadata": {},
     "output_type": "execute_result"
    }
   ],
   "source": [
    "train_df"
   ]
  },
  {
   "cell_type": "code",
   "execution_count": 37,
   "metadata": {},
   "outputs": [
    {
     "name": "stderr",
     "output_type": "stream",
     "text": [
      "/home/arthur/anaconda3/lib/python3.11/site-packages/keras/src/layers/convolutional/base_conv.py:107: UserWarning: Do not pass an `input_shape`/`input_dim` argument to a layer. When using Sequential models, prefer using an `Input(shape)` object as the first layer in the model instead.\n",
      "  super().__init__(activity_regularizer=activity_regularizer, **kwargs)\n"
     ]
    },
    {
     "name": "stdout",
     "output_type": "stream",
     "text": [
      "Epoch 1/10\n"
     ]
    },
    {
     "name": "stderr",
     "output_type": "stream",
     "text": [
      "/home/arthur/anaconda3/lib/python3.11/site-packages/keras/src/trainers/data_adapters/py_dataset_adapter.py:120: UserWarning: Your `PyDataset` class should call `super().__init__(**kwargs)` in its constructor. `**kwargs` can include `workers`, `use_multiprocessing`, `max_queue_size`. Do not pass these arguments to `fit()`, as they will be ignored.\n",
      "  self._warn_if_super_not_called()\n"
     ]
    },
    {
     "name": "stdout",
     "output_type": "stream",
     "text": [
      "\u001b[1m 43/100\u001b[0m \u001b[32m━━━━━━━━\u001b[0m\u001b[37m━━━━━━━━━━━━\u001b[0m \u001b[1m24s\u001b[0m 430ms/step - accuracy: 0.1023 - loss: 2.7293"
     ]
    },
    {
     "name": "stderr",
     "output_type": "stream",
     "text": [
      "2024-04-22 22:33:19.346459: W tensorflow/core/framework/local_rendezvous.cc:404] Local rendezvous is aborting with status: OUT_OF_RANGE: End of sequence\n",
      "\t [[{{node IteratorGetNext}}]]\n",
      "/home/arthur/anaconda3/lib/python3.11/contextlib.py:158: UserWarning: Your input ran out of data; interrupting training. Make sure that your dataset or generator can generate at least `steps_per_epoch * epochs` batches. You may need to use the `.repeat()` function when building your dataset.\n",
      "  self.gen.throw(typ, value, traceback)\n"
     ]
    },
    {
     "name": "stdout",
     "output_type": "stream",
     "text": [
      "\u001b[1m100/100\u001b[0m \u001b[32m━━━━━━━━━━━━━━━━━━━━\u001b[0m\u001b[37m\u001b[0m \u001b[1m22s\u001b[0m 198ms/step - accuracy: 0.1145 - loss: 2.6849 - val_accuracy: 0.1508 - val_loss: 2.5338\n",
      "Epoch 2/10\n"
     ]
    },
    {
     "name": "stderr",
     "output_type": "stream",
     "text": [
      "2024-04-22 22:33:20.837211: W tensorflow/core/framework/local_rendezvous.cc:404] Local rendezvous is aborting with status: OUT_OF_RANGE: End of sequence\n",
      "\t [[{{node IteratorGetNext}}]]\n"
     ]
    },
    {
     "name": "stdout",
     "output_type": "stream",
     "text": [
      "\u001b[1m 43/100\u001b[0m \u001b[32m━━━━━━━━\u001b[0m\u001b[37m━━━━━━━━━━━━\u001b[0m \u001b[1m24s\u001b[0m 428ms/step - accuracy: 0.1647 - loss: 2.5133"
     ]
    },
    {
     "name": "stderr",
     "output_type": "stream",
     "text": [
      "2024-04-22 22:33:40.530560: W tensorflow/core/framework/local_rendezvous.cc:404] Local rendezvous is aborting with status: OUT_OF_RANGE: End of sequence\n",
      "\t [[{{node IteratorGetNext}}]]\n"
     ]
    },
    {
     "name": "stdout",
     "output_type": "stream",
     "text": [
      "\u001b[1m100/100\u001b[0m \u001b[32m━━━━━━━━━━━━━━━━━━━━\u001b[0m\u001b[37m\u001b[0m \u001b[1m21s\u001b[0m 194ms/step - accuracy: 0.1797 - loss: 2.4913 - val_accuracy: 0.3116 - val_loss: 2.2482\n",
      "Epoch 3/10\n"
     ]
    },
    {
     "name": "stderr",
     "output_type": "stream",
     "text": [
      "2024-04-22 22:33:41.788329: W tensorflow/core/framework/local_rendezvous.cc:404] Local rendezvous is aborting with status: OUT_OF_RANGE: End of sequence\n",
      "\t [[{{node IteratorGetNext}}]]\n"
     ]
    },
    {
     "name": "stdout",
     "output_type": "stream",
     "text": [
      "\u001b[1m 43/100\u001b[0m \u001b[32m━━━━━━━━\u001b[0m\u001b[37m━━━━━━━━━━━━\u001b[0m \u001b[1m24s\u001b[0m 427ms/step - accuracy: 0.2377 - loss: 2.3381"
     ]
    },
    {
     "name": "stderr",
     "output_type": "stream",
     "text": [
      "2024-04-22 22:34:01.423797: W tensorflow/core/framework/local_rendezvous.cc:404] Local rendezvous is aborting with status: OUT_OF_RANGE: End of sequence\n",
      "\t [[{{node IteratorGetNext}}]]\n"
     ]
    },
    {
     "name": "stdout",
     "output_type": "stream",
     "text": [
      "\u001b[1m100/100\u001b[0m \u001b[32m━━━━━━━━━━━━━━━━━━━━\u001b[0m\u001b[37m\u001b[0m \u001b[1m21s\u001b[0m 194ms/step - accuracy: 0.2394 - loss: 2.3217 - val_accuracy: 0.2864 - val_loss: 2.2251\n",
      "Epoch 4/10\n"
     ]
    },
    {
     "name": "stderr",
     "output_type": "stream",
     "text": [
      "2024-04-22 22:34:02.634598: W tensorflow/core/framework/local_rendezvous.cc:404] Local rendezvous is aborting with status: OUT_OF_RANGE: End of sequence\n",
      "\t [[{{node IteratorGetNext}}]]\n"
     ]
    },
    {
     "name": "stdout",
     "output_type": "stream",
     "text": [
      "\u001b[1m 43/100\u001b[0m \u001b[32m━━━━━━━━\u001b[0m\u001b[37m━━━━━━━━━━━━\u001b[0m \u001b[1m23s\u001b[0m 407ms/step - accuracy: 0.2845 - loss: 2.2101"
     ]
    },
    {
     "name": "stderr",
     "output_type": "stream",
     "text": [
      "2024-04-22 22:34:21.672044: W tensorflow/core/framework/local_rendezvous.cc:404] Local rendezvous is aborting with status: OUT_OF_RANGE: End of sequence\n",
      "\t [[{{node IteratorGetNext}}]]\n"
     ]
    },
    {
     "name": "stdout",
     "output_type": "stream",
     "text": [
      "\u001b[1m100/100\u001b[0m \u001b[32m━━━━━━━━━━━━━━━━━━━━\u001b[0m\u001b[37m\u001b[0m \u001b[1m20s\u001b[0m 184ms/step - accuracy: 0.2878 - loss: 2.1925 - val_accuracy: 0.3216 - val_loss: 2.0459\n",
      "Epoch 5/10\n"
     ]
    },
    {
     "name": "stderr",
     "output_type": "stream",
     "text": [
      "2024-04-22 22:34:22.821164: W tensorflow/core/framework/local_rendezvous.cc:404] Local rendezvous is aborting with status: OUT_OF_RANGE: End of sequence\n",
      "\t [[{{node IteratorGetNext}}]]\n"
     ]
    },
    {
     "name": "stdout",
     "output_type": "stream",
     "text": [
      "\u001b[1m 43/100\u001b[0m \u001b[32m━━━━━━━━\u001b[0m\u001b[37m━━━━━━━━━━━━\u001b[0m \u001b[1m24s\u001b[0m 437ms/step - accuracy: 0.3135 - loss: 2.1105"
     ]
    },
    {
     "name": "stderr",
     "output_type": "stream",
     "text": [
      "2024-04-22 22:34:42.875185: W tensorflow/core/framework/local_rendezvous.cc:404] Local rendezvous is aborting with status: OUT_OF_RANGE: End of sequence\n",
      "\t [[{{node IteratorGetNext}}]]\n"
     ]
    },
    {
     "name": "stdout",
     "output_type": "stream",
     "text": [
      "\u001b[1m100/100\u001b[0m \u001b[32m━━━━━━━━━━━━━━━━━━━━\u001b[0m\u001b[37m\u001b[0m \u001b[1m21s\u001b[0m 197ms/step - accuracy: 0.3117 - loss: 2.1232 - val_accuracy: 0.3367 - val_loss: 2.1325\n",
      "Epoch 6/10\n"
     ]
    },
    {
     "name": "stderr",
     "output_type": "stream",
     "text": [
      "2024-04-22 22:34:43.965496: W tensorflow/core/framework/local_rendezvous.cc:404] Local rendezvous is aborting with status: OUT_OF_RANGE: End of sequence\n",
      "\t [[{{node IteratorGetNext}}]]\n"
     ]
    },
    {
     "name": "stdout",
     "output_type": "stream",
     "text": [
      "\u001b[1m 43/100\u001b[0m \u001b[32m━━━━━━━━\u001b[0m\u001b[37m━━━━━━━━━━━━\u001b[0m \u001b[1m25s\u001b[0m 440ms/step - accuracy: 0.3779 - loss: 1.9432"
     ]
    },
    {
     "name": "stderr",
     "output_type": "stream",
     "text": [
      "2024-04-22 22:35:04.260083: W tensorflow/core/framework/local_rendezvous.cc:404] Local rendezvous is aborting with status: OUT_OF_RANGE: End of sequence\n",
      "\t [[{{node IteratorGetNext}}]]\n"
     ]
    },
    {
     "name": "stdout",
     "output_type": "stream",
     "text": [
      "\u001b[1m100/100\u001b[0m \u001b[32m━━━━━━━━━━━━━━━━━━━━\u001b[0m\u001b[37m\u001b[0m \u001b[1m22s\u001b[0m 199ms/step - accuracy: 0.3664 - loss: 1.9679 - val_accuracy: 0.3769 - val_loss: 1.9838\n",
      "Epoch 7/10\n"
     ]
    },
    {
     "name": "stderr",
     "output_type": "stream",
     "text": [
      "2024-04-22 22:35:05.501585: W tensorflow/core/framework/local_rendezvous.cc:404] Local rendezvous is aborting with status: OUT_OF_RANGE: End of sequence\n",
      "\t [[{{node IteratorGetNext}}]]\n"
     ]
    },
    {
     "name": "stdout",
     "output_type": "stream",
     "text": [
      "\u001b[1m 43/100\u001b[0m \u001b[32m━━━━━━━━\u001b[0m\u001b[37m━━━━━━━━━━━━\u001b[0m \u001b[1m24s\u001b[0m 427ms/step - accuracy: 0.3794 - loss: 1.9108"
     ]
    },
    {
     "name": "stderr",
     "output_type": "stream",
     "text": [
      "2024-04-22 22:35:25.308207: W tensorflow/core/framework/local_rendezvous.cc:404] Local rendezvous is aborting with status: OUT_OF_RANGE: End of sequence\n",
      "\t [[{{node IteratorGetNext}}]]\n"
     ]
    },
    {
     "name": "stdout",
     "output_type": "stream",
     "text": [
      "\u001b[1m100/100\u001b[0m \u001b[32m━━━━━━━━━━━━━━━━━━━━\u001b[0m\u001b[37m\u001b[0m \u001b[1m21s\u001b[0m 192ms/step - accuracy: 0.3700 - loss: 1.9375 - val_accuracy: 0.4121 - val_loss: 1.8467\n",
      "Epoch 8/10\n"
     ]
    },
    {
     "name": "stderr",
     "output_type": "stream",
     "text": [
      "2024-04-22 22:35:26.433451: W tensorflow/core/framework/local_rendezvous.cc:404] Local rendezvous is aborting with status: OUT_OF_RANGE: End of sequence\n",
      "\t [[{{node IteratorGetNext}}]]\n"
     ]
    },
    {
     "name": "stdout",
     "output_type": "stream",
     "text": [
      "\u001b[1m 43/100\u001b[0m \u001b[32m━━━━━━━━\u001b[0m\u001b[37m━━━━━━━━━━━━\u001b[0m \u001b[1m22s\u001b[0m 399ms/step - accuracy: 0.3883 - loss: 1.8622"
     ]
    },
    {
     "name": "stderr",
     "output_type": "stream",
     "text": [
      "2024-04-22 22:35:44.944254: W tensorflow/core/framework/local_rendezvous.cc:404] Local rendezvous is aborting with status: OUT_OF_RANGE: End of sequence\n",
      "\t [[{{node IteratorGetNext}}]]\n"
     ]
    },
    {
     "name": "stdout",
     "output_type": "stream",
     "text": [
      "\u001b[1m100/100\u001b[0m \u001b[32m━━━━━━━━━━━━━━━━━━━━\u001b[0m\u001b[37m\u001b[0m \u001b[1m20s\u001b[0m 180ms/step - accuracy: 0.3815 - loss: 1.8780 - val_accuracy: 0.4322 - val_loss: 1.8906\n",
      "Epoch 9/10\n"
     ]
    },
    {
     "name": "stderr",
     "output_type": "stream",
     "text": [
      "2024-04-22 22:35:46.021687: W tensorflow/core/framework/local_rendezvous.cc:404] Local rendezvous is aborting with status: OUT_OF_RANGE: End of sequence\n",
      "\t [[{{node IteratorGetNext}}]]\n"
     ]
    },
    {
     "name": "stdout",
     "output_type": "stream",
     "text": [
      "\u001b[1m 43/100\u001b[0m \u001b[32m━━━━━━━━\u001b[0m\u001b[37m━━━━━━━━━━━━\u001b[0m \u001b[1m23s\u001b[0m 420ms/step - accuracy: 0.4105 - loss: 1.7831"
     ]
    },
    {
     "name": "stderr",
     "output_type": "stream",
     "text": [
      "2024-04-22 22:36:05.446364: W tensorflow/core/framework/local_rendezvous.cc:404] Local rendezvous is aborting with status: OUT_OF_RANGE: End of sequence\n",
      "\t [[{{node IteratorGetNext}}]]\n"
     ]
    },
    {
     "name": "stdout",
     "output_type": "stream",
     "text": [
      "\u001b[1m100/100\u001b[0m \u001b[32m━━━━━━━━━━━━━━━━━━━━\u001b[0m\u001b[37m\u001b[0m \u001b[1m21s\u001b[0m 190ms/step - accuracy: 0.4037 - loss: 1.7985 - val_accuracy: 0.4774 - val_loss: 1.7265\n",
      "Epoch 10/10\n"
     ]
    },
    {
     "name": "stderr",
     "output_type": "stream",
     "text": [
      "2024-04-22 22:36:06.664130: W tensorflow/core/framework/local_rendezvous.cc:404] Local rendezvous is aborting with status: OUT_OF_RANGE: End of sequence\n",
      "\t [[{{node IteratorGetNext}}]]\n"
     ]
    },
    {
     "name": "stdout",
     "output_type": "stream",
     "text": [
      "\u001b[1m 43/100\u001b[0m \u001b[32m━━━━━━━━\u001b[0m\u001b[37m━━━━━━━━━━━━\u001b[0m \u001b[1m25s\u001b[0m 444ms/step - accuracy: 0.4205 - loss: 1.7675"
     ]
    },
    {
     "name": "stderr",
     "output_type": "stream",
     "text": [
      "2024-04-22 22:36:27.147549: W tensorflow/core/framework/local_rendezvous.cc:404] Local rendezvous is aborting with status: OUT_OF_RANGE: End of sequence\n",
      "\t [[{{node IteratorGetNext}}]]\n"
     ]
    },
    {
     "name": "stdout",
     "output_type": "stream",
     "text": [
      "\u001b[1m100/100\u001b[0m \u001b[32m━━━━━━━━━━━━━━━━━━━━\u001b[0m\u001b[37m\u001b[0m \u001b[1m22s\u001b[0m 201ms/step - accuracy: 0.4215 - loss: 1.7763 - val_accuracy: 0.4673 - val_loss: 1.6905\n"
     ]
    },
    {
     "name": "stderr",
     "output_type": "stream",
     "text": [
      "2024-04-22 22:36:28.339873: W tensorflow/core/framework/local_rendezvous.cc:404] Local rendezvous is aborting with status: OUT_OF_RANGE: End of sequence\n",
      "\t [[{{node IteratorGetNext}}]]\n"
     ]
    }
   ],
   "source": [
    "# Modelo CNN: Construção do modelo usando o Keras Sequential API, que permite a criação de modelos camada por camada para classificação de imagens.\n",
    "model = Sequential([\n",
    "    # Primeira camada convolucional com 32 filtros de tamanho 3x3,\n",
    "    # 'relu' (Rectified Linear Unit) é usado como função de ativação, que é a mais comum em modelos CNN devido à sua eficiência.\n",
    "    # 'input_shape' define o formato da entrada esperada, aqui 150x150 pixels com 3 canais de cor (RGB).\n",
    "    Conv2D(32, (3, 3), activation='relu', input_shape=(150, 150, 3)),\n",
    "    \n",
    "    # Primeira camada de pooling para reduzir a dimensão espacial da saída da camada anterior,\n",
    "    # ajudando a tornar o modelo mais geral (menos sensível à posição exata de características na imagem).\n",
    "    MaxPooling2D(2, 2),\n",
    "    \n",
    "    # Segunda camada convolucional com 64 filtros de tamanho 3x3,\n",
    "    # usando também a função de ativação 'relu'.\n",
    "    Conv2D(64, (3, 3), activation='relu'),\n",
    "    \n",
    "    # Segunda camada de pooling.\n",
    "    MaxPooling2D(2, 2),\n",
    "    \n",
    "    # Terceira camada convolucional com 128 filtros de tamanho 3x3.\n",
    "    Conv2D(128, (3, 3), activation='relu'),\n",
    "    \n",
    "    # Terceira camada de pooling.\n",
    "    MaxPooling2D(2, 2),\n",
    "    \n",
    "    # Camada de flattening para converter a matriz 3D resultante em um vetor 1D,\n",
    "    # permitindo que ele seja processado por camadas densas (fully connected).\n",
    "    Flatten(),\n",
    "    \n",
    "    # Camada densa (fully connected) com 512 unidades/neurônios,\n",
    "    # usa 'relu' como função de ativação.\n",
    "    Dense(512, activation='relu'),\n",
    "    \n",
    "    # Camada de Dropout para reduzir o overfitting durante o treinamento,\n",
    "    # descartando aleatoriamente 50% das unidades na camada durante a atualização de treinamento.\n",
    "    Dropout(0.5),\n",
    "    \n",
    "    # Camada de saída com número de unidades igual ao número de classes do problema (determinado dinamicamente),\n",
    "    # usando 'softmax' para calcular uma distribuição de probabilidade sobre diferentes classes.\n",
    "    Dense(len(y_train[0]), activation='softmax')\n",
    "])\n",
    "\n",
    "# Compilação do modelo: configuração do processo de aprendizagem do modelo.\n",
    "model.compile(\n",
    "    optimizer='adam',  # 'adam' é um otimizador popular que ajusta os pesos usando o método de descida de gradiente estocástico adaptativo.\n",
    "    loss='categorical_crossentropy',  # Função de perda usada para problemas de classificação multiclasse.\n",
    "    metrics=['accuracy']  # Lista de métricas para serem avaliadas pelo modelo durante o treinamento e testes. Aqui, apenas 'accuracy'.\n",
    ")\n",
    "\n",
    "# Treinamento do modelo usando os geradores de dados configurados anteriormente.\n",
    "history = model.fit(\n",
    "    train_generator,               # Gerador que produz batches de dados de treinamento e rótulos.\n",
    "    steps_per_epoch=100,           # Número de batches de dados que o gerador deve retornar em cada época de treinamento.\n",
    "    epochs=10,                      # Número total de épocas (iterações sobre o conjunto completo de dados).\n",
    "    validation_data=validation_generator,  # Dados de validação usados para avaliar a perda e quaisquer métricas do modelo no final de cada época.\n",
    "    validation_steps=50            # Número de batches de dados de validação que o gerador de validação deve retornar após cada época.\n",
    ")"
   ]
  },
  {
   "cell_type": "code",
   "execution_count": 38,
   "metadata": {},
   "outputs": [
    {
     "name": "stdout",
     "output_type": "stream",
     "text": [
      "\u001b[1m50/50\u001b[0m \u001b[32m━━━━━━━━━━━━━━━━━━━━\u001b[0m\u001b[37m\u001b[0m \u001b[1m2s\u001b[0m 43ms/step - accuracy: 0.4406 - loss: 1.6601 \n",
      "Test Accuracy: 0.4481012523174286\n"
     ]
    },
    {
     "name": "stderr",
     "output_type": "stream",
     "text": [
      "2024-04-22 22:36:30.873834: W tensorflow/core/framework/local_rendezvous.cc:404] Local rendezvous is aborting with status: OUT_OF_RANGE: End of sequence\n",
      "\t [[{{node IteratorGetNext}}]]\n"
     ]
    },
    {
     "data": {
      "image/png": "[encoded data removed]",
      "text/plain": [
       "<Figure size 1000x500 with 1 Axes>"
      ]
     },
     "metadata": {},
     "output_type": "display_data"
    }
   ],
   "source": [
    "import matplotlib.pyplot as plt\n",
    "\n",
    "# Avaliação usando o gerador de teste\n",
    "test_loss, test_acc = model.evaluate(test_generator, steps=50)\n",
    "print(\"Test Accuracy:\", test_acc)\n",
    "\n",
    "# Plot da acurácia e perda (loss) no mesmo gráfico\n",
    "plt.figure(figsize=(10, 5))\n",
    "plt.plot(history.history['accuracy'], label='Train Accuracy')\n",
    "plt.plot(history.history['val_accuracy'], label='Validation Accuracy')\n",
    "plt.plot(history.history['loss'], label='Train Loss')\n",
    "plt.plot(history.history['val_loss'], label='Validation Loss')\n",
    "plt.title('Model Performance')\n",
    "plt.ylabel('Accuracy / Loss')\n",
    "plt.xlabel('Epoch')\n",
    "plt.legend(loc='upper right')\n",
    "plt.show()\n"
   ]
  },
  {
   "cell_type": "code",
   "execution_count": 39,
   "metadata": {},
   "outputs": [
    {
     "name": "stdout",
     "output_type": "stream",
     "text": [
      "\u001b[1m50/50\u001b[0m \u001b[32m━━━━━━━━━━━━━━━━━━━━\u001b[0m\u001b[37m\u001b[0m \u001b[1m2s\u001b[0m 44ms/step \n",
      "              precision    recall  f1-score   support\n",
      "\n",
      "        Bear       0.18      0.12      0.14        25\n",
      "        Bird       0.19      0.11      0.14        28\n",
      "         Cat       0.25      0.08      0.12        25\n",
      "         Cow       0.12      0.04      0.06        27\n",
      "        Deer       0.04      0.08      0.05        26\n",
      "         Dog       0.09      0.08      0.08        25\n",
      "     Dolphin       0.09      0.08      0.08        26\n",
      "    Elephant       0.07      0.11      0.09        27\n",
      "     Giraffe       0.04      0.04      0.04        26\n",
      "       Horse       0.05      0.04      0.04        26\n",
      "    Kangaroo       0.00      0.00      0.00        26\n",
      "        Lion       0.11      0.15      0.12        27\n",
      "       Panda       0.08      0.15      0.10        27\n",
      "       Tiger       0.10      0.15      0.12        26\n",
      "       Zebra       0.06      0.07      0.06        28\n",
      "\n",
      "    accuracy                           0.09       395\n",
      "   macro avg       0.10      0.09      0.08       395\n",
      "weighted avg       0.10      0.09      0.08       395\n",
      "\n"
     ]
    },
    {
     "name": "stderr",
     "output_type": "stream",
     "text": [
      "2024-04-22 22:36:33.616904: W tensorflow/core/framework/local_rendezvous.cc:404] Local rendezvous is aborting with status: OUT_OF_RANGE: End of sequence\n"
     ]
    }
   ],
   "source": [
    "from sklearn.metrics import classification_report, confusion_matrix\n",
    "import numpy as np\n",
    "import seaborn as sns\n",
    "\n",
    "# Gerar previsões para o conjunto de teste\n",
    "test_generator.reset()\n",
    "pred_indices = np.argmax(model.predict(test_generator, steps=50), axis=1)\n",
    "\n",
    "# Obter rótulos reais e nomes das classes\n",
    "true_classes = test_generator.classes\n",
    "class_labels = list(test_generator.class_indices.keys())  # Nomes das classes\n",
    "\n",
    "# Métricas de classificação\n",
    "print(classification_report(true_classes, pred_indices, target_names=class_labels))\n"
   ]
  },
  {
   "cell_type": "code",
   "execution_count": 40,
   "metadata": {},
   "outputs": [
    {
     "data": {
      "image/png": "[encoded data removed]",
      "text/plain": [
       "<Figure size 800x600 with 2 Axes>"
      ]
     },
     "metadata": {},
     "output_type": "display_data"
    },
    {
     "data": {
      "text/plain": [
       "array([[3, 0, 0, 2, 2, 1, 1, 3, 3, 2, 0, 1, 6, 1, 0],\n",
       "       [1, 3, 1, 1, 3, 1, 2, 3, 1, 0, 0, 3, 3, 5, 1],\n",
       "       [1, 0, 2, 0, 2, 3, 0, 1, 0, 2, 1, 5, 2, 3, 3],\n",
       "       [3, 1, 1, 1, 7, 1, 3, 2, 0, 1, 1, 0, 2, 2, 2],\n",
       "       [0, 1, 1, 0, 2, 2, 2, 4, 1, 1, 0, 3, 5, 2, 2],\n",
       "       [2, 1, 0, 1, 2, 2, 3, 2, 2, 1, 0, 3, 3, 1, 2],\n",
       "       [1, 3, 0, 0, 6, 1, 2, 0, 2, 3, 0, 1, 2, 1, 4],\n",
       "       [0, 0, 1, 0, 5, 0, 1, 3, 4, 2, 0, 2, 4, 3, 2],\n",
       "       [0, 0, 0, 1, 2, 1, 2, 5, 1, 0, 0, 5, 3, 3, 3],\n",
       "       [0, 0, 0, 0, 3, 2, 1, 6, 3, 1, 0, 0, 3, 4, 3],\n",
       "       [2, 1, 1, 0, 3, 1, 0, 4, 2, 0, 0, 1, 6, 3, 2],\n",
       "       [0, 1, 0, 1, 2, 2, 4, 3, 2, 4, 0, 4, 1, 0, 3],\n",
       "       [2, 0, 1, 0, 4, 2, 1, 3, 1, 1, 0, 4, 4, 3, 1],\n",
       "       [1, 3, 0, 0, 1, 3, 1, 0, 2, 1, 0, 2, 4, 4, 4],\n",
       "       [1, 2, 0, 1, 4, 1, 0, 2, 1, 2, 0, 3, 5, 4, 2]])"
      ]
     },
     "execution_count": 40,
     "metadata": {},
     "output_type": "execute_result"
    }
   ],
   "source": [
    "# Matriz de confusão\n",
    "cm = confusion_matrix(true_classes, pred_indices)\n",
    "plt.figure(figsize=(8, 6))\n",
    "sns.heatmap(cm, annot=True, fmt='d', cmap='Blues', xticklabels=class_labels, yticklabels=class_labels)\n",
    "plt.title('Confusion Matrix')\n",
    "plt.ylabel('Actual Class')\n",
    "plt.xlabel('Predicted Class')\n",
    "plt.show()\n",
    "cm"
   ]
  },
  {
   "cell_type": "markdown",
   "metadata": {},
   "source": [
    "## Exercício de Classificação de Formas Geométricas Usando CNN"
   ]
  },
  {
   "cell_type": "markdown",
   "metadata": {},
   "source": [
    "\n",
    "### Objetivo Geral\n",
    "Desenvolver um modelo de Rede Neural Convolucional (CNN) para classificar imagens de formas geométricas baseado no número de lados indicado na imagem. O modelo deverá ser capaz de processar imagens e usar os dados de treinamento para aprender a identificar várias formas geométricas.\n",
    "\n",
    "### Dados\n",
    "Os dados para este exercício estão organizados em uma pasta chamada `dados`, subpasta `formas_geometricas`, contendo:\n",
    "- Uma pasta `imagens` com arquivos de imagens das formas.\n",
    "- Um arquivo `targets.csv` com duas colunas: `filename` e `sides`, onde `filename` é o nome do arquivo da imagem e `sides` indica o número de lados da forma geométrica na imagem.\n",
    "### Requisitos Técnicos\n",
    "- A implementação pode ser feita em Python utilizando bibliotecas como TensorFlow/Keras.\n",
    "- Devido a limitações de poder computacional, inicialmente, pode-se testar o modelo em um subset de até 4000 imagens.\n"
   ]
  },
  {
   "cell_type": "markdown",
   "metadata": {},
   "source": [
    "\n",
    "#### Preparação dos Dados\n",
    "1. **Leitura dos Dados:**\n",
    "   - Carregar o arquivo `targets.csv`.\n",
    "   - Carregar as imagens de acordo com os nomes dos arquivos listados no arquivo CSV.\n"
   ]
  },
  {
   "cell_type": "markdown",
   "metadata": {},
   "source": [
    "\n",
    "2. **Preprocessamento:**\n",
    "   - Normalizar as imagens (dividir os valores dos pixels por 255 para transformar em valores de 0 a 1).\n",
    "   - Converter os rótulos (`y`) para formato categórico (one-hot encoding) para classificação multiclasse.\n"
   ]
  },
  {
   "cell_type": "markdown",
   "metadata": {},
   "source": [
    "\n",
    "3. **Divisão dos Dados:**\n",
    "   - Dividir os dados em conjuntos de treinamento (70%), validação (15%) e teste (15%).\n"
   ]
  },
  {
   "cell_type": "code",
   "execution_count": null,
   "metadata": {},
   "outputs": [
    {
     "name": "stderr",
     "output_type": "stream",
     "text": [
      "2024-04-22 22:58:31.113210: I tensorflow/core/util/port.cc:113] oneDNN custom operations are on. You may see slightly different numerical results due to floating-point round-off errors from different computation orders. To turn them off, set the environment variable `TF_ENABLE_ONEDNN_OPTS=0`.\n",
      "2024-04-22 22:58:31.114021: I external/local_tsl/tsl/cuda/cudart_stub.cc:32] Could not find cuda drivers on your machine, GPU will not be used.\n",
      "2024-04-22 22:58:31.145423: I external/local_tsl/tsl/cuda/cudart_stub.cc:32] Could not find cuda drivers on your machine, GPU will not be used.\n",
      "2024-04-22 22:58:31.281192: I tensorflow/core/platform/cpu_feature_guard.cc:210] This TensorFlow binary is optimized to use available CPU instructions in performance-critical operations.\n",
      "To enable the following instructions: AVX2 AVX_VNNI FMA, in other operations, rebuild TensorFlow with the appropriate compiler flags.\n",
      "2024-04-22 22:58:31.994913: W tensorflow/compiler/tf2tensorrt/utils/py_utils.cc:38] TF-TRT Warning: Could not find TensorRT\n"
     ]
    }
   ],
   "source": []
  },
  {
   "cell_type": "markdown",
   "metadata": {},
   "source": [
    "\n",
    "#### Configuração do Modelo\n",
    "4. **Definição da Rede Convolucional:**\n",
    "   - Criar uma arquitetura de CNN adequada para o problema, incluindo camadas convolucionais, max pooling, dropout (opcional) e fully connected (dense).\n"
   ]
  },
  {
   "cell_type": "code",
   "execution_count": 2,
   "metadata": {},
   "outputs": [
    {
     "name": "stderr",
     "output_type": "stream",
     "text": [
      "/home/arthur/anaconda3/lib/python3.11/site-packages/keras/src/layers/convolutional/base_conv.py:107: UserWarning: Do not pass an `input_shape`/`input_dim` argument to a layer. When using Sequential models, prefer using an `Input(shape)` object as the first layer in the model instead.\n",
      "  super().__init__(activity_regularizer=activity_regularizer, **kwargs)\n"
     ]
    }
   ],
   "source": []
  },
  {
   "cell_type": "markdown",
   "metadata": {},
   "source": [
    "\n",
    "#### Treinamento do Modelo\n",
    "5. **Treinamento:**\n",
    "   - Treinar o modelo utilizando os dados de treinamento e validar usando o conjunto de validação.\n",
    "   - Acompanhar a evolução da loss (perda) e da acurácia tanto no treinamento quanto na validação.\n"
   ]
  },
  {
   "cell_type": "markdown",
   "metadata": {},
   "source": [
    "#### Avaliação do Modelo\n",
    "6. **Exibir de Resultados:**\n",
    "   - Plotar gráficos mostrando a loss e acurácia durante o treinamento e a validação para visualizar o desempenho do modelo ao longo das épocas.\n",
    "   - Após o treinamento, usar o conjunto de teste para fazer a avaliação final do modelo e exibir as métricas de classificação (precisão, recall, F1-score).\n",
    "   - Gerar e exibir a matriz de confusão para ajudar na visualização do desempenho do modelo nas diferentes classes."
   ]
  },
  {
   "cell_type": "code",
   "execution_count": null,
   "metadata": {},
   "outputs": [],
   "source": []
  }
 ],
 "metadata": {
  "kernelspec": {
   "display_name": "base",
   "language": "python",
   "name": "python3"
  },
  "language_info": {
   "codemirror_mode": {
    "name": "ipython",
    "version": 3
   },
   "file_extension": ".py",
   "mimetype": "text/x-python",
   "name": "python",
   "nbconvert_exporter": "python",
   "pygments_lexer": "ipython3",
   "version": "3.11.9"
  }
 },
 "nbformat": 4,
 "nbformat_minor": 2
}
