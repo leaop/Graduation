{
 "cells": [
  {
   "cell_type": "markdown",
   "metadata": {},
   "source": [
    "# Aula 14 - LSTM - Estrutura, Funcionamento e Aplicações"
   ]
  },
  {
   "cell_type": "markdown",
   "metadata": {},
   "source": [
    "- **Motivação para LSTM:**\n",
    "  - Limitações das RNNs tradicionais\n",
    "  - Problema de desvanecimento e explosão de gradientes\n",
    "  - Necessidade de capturar dependências de longo prazo"
   ]
  },
  {
   "cell_type": "markdown",
   "metadata": {},
   "source": [
    "## Antes de Falar Sobre as Redes LSTM\n",
    "\n",
    "## Problema de Gradiente de Desvanecimento e Explosão\n",
    "\n",
    "### O Que é o Problema de Gradiente de Desvanecimento?\n",
    "\n",
    "- **Definição:**\n",
    "  - O problema de gradiente de desvanecimento ocorre durante o treinamento de redes neurais profundas, especialmente em Redes Neurais Recorrentes (RNNs). Isso acontece quando os gradientes das funções de perda em relação aos pesos se tornam muito pequenos, resultando em ajustes insignificantes nos pesos da rede.\n",
    "\n",
    "- **Causa:**\n",
    "  - Durante a retropropagação, os gradientes são multiplicados repetidamente pela derivada das funções de ativação ao longo de várias camadas ou passos de tempo. Se essas derivadas forem menores que 1, os gradientes diminuem exponencialmente, tornando-se quase nulos.\n",
    "  - Isso é comum em funções de ativação como a sigmoide ou a tangente hiperbólica, cujas derivadas estão entre 0 e 1.\n",
    "\n",
    "- **Efeito:**\n",
    "  - Quando os gradientes se tornam muito pequenos, a rede neural para de aprender porque as atualizações dos pesos são insignificantes.\n",
    "  - Como resultado, a rede tem dificuldade em capturar dependências de longo prazo nos dados, afetando negativamente o desempenho em tarefas que requerem memorização de informações antigas.\n",
    "\n",
    "### O Que é o Problema de Explosão de Gradiente?\n",
    "\n",
    "- **Definição:**\n",
    "  - O problema de explosão de gradiente ocorre quando os gradientes das funções de perda em relação aos pesos se tornam muito grandes durante a retropropagação. Isso resulta em grandes atualizações nos pesos, que podem levar à instabilidade do modelo.\n",
    "\n",
    "- **Causa:**\n",
    "  - Assim como no problema de desvanecimento, durante a retropropagação, os gradientes são multiplicados repetidamente pela derivada das funções de ativação. Se essas derivadas forem maiores que 1, os gradientes aumentam exponencialmente.\n",
    "  - Redes neurais profundas ou RNNs que usam funções de ativação não saturadas, como ReLU, são particularmente suscetíveis a esse problema.\n",
    "\n",
    "- **Efeito:**\n",
    "  - Quando os gradientes se tornam muito grandes, as atualizações dos pesos são descontroladas, levando a oscilações na função de perda e instabilidade no treinamento.\n",
    "  - O modelo pode não convergir e, em vez disso, divergir, resultando em desempenho pobre ou falha completa do treinamento.\n",
    "\n",
    "### Como Esses Problemas Afetam o Treinamento?\n",
    "\n",
    "- **Gradiente de Desvanecimento:**\n",
    "  - Dificulta a aprendizagem de dependências de longo prazo.\n",
    "  - Redes neurais podem parar de aprender após algumas iterações de treinamento.\n",
    "  - Afeta a capacidade de a rede capturar padrões importantes em dados sequenciais.\n",
    "\n",
    "- **Explosão de Gradiente:**\n",
    "  - Pode levar a atualizações de pesos extremamente grandes, fazendo com que o modelo se torne instável.\n",
    "  - Resulta em flutuações significativas na função de perda, tornando difícil a convergência.\n",
    "  - Pode causar a saturação dos neurônios, onde os pesos assumem valores extremos, levando à perda de capacidade de generalização do modelo.\n",
    "\n",
    "### Métodos para Mitigar os Problemas de Gradiente\n",
    "\n",
    "- **Para Gradiente de Desvanecimento:**\n",
    "  - **LSTMs e GRUs:** Estas arquiteturas de RNNs foram projetadas para lidar com o problema de desvanecimento de gradientes, graças às suas estruturas de portas que regulam o fluxo de informações.\n",
    "  - **Inicialização Adequada de Pesos:** Utilizar métodos como inicialização de Xavier ou He para manter os gradientes em uma faixa adequada.\n",
    "  - **Funções de Ativação Alternativas:** Utilizar funções de ativação que não sofram tanto com o desvanecimento de gradientes, como ReLU.\n",
    "\n",
    "- **Para Explosão de Gradiente:**\n",
    "  - **Clipping de Gradiente:** Técnica que limita o valor dos gradientes a um intervalo predefinido durante a retropropagação, prevenindo atualizações excessivamente grandes.\n",
    "  - **Regularização:** Métodos como dropout e regularização L2 podem ajudar a controlar o crescimento dos pesos.\n",
    "  - **Uso de Otimizadores Adaptativos:** Otimizadores como Adam, RMSprop e AdaGrad ajustam a taxa de aprendizado com base nos gradientes, ajudando a prevenir a explosão de gradientes."
   ]
  },
  {
   "cell_type": "markdown",
   "metadata": {},
   "source": [
    "## Estrutura das LSTM\n",
    "- **Componentes Principais:**\n",
    "  - **Célula de Memória:** \n",
    "    - Função: Mantém informações ao longo do tempo.\n",
    "    - Papel: Atua como um meio para armazenar informações relevantes para longas sequências de dados, possibilitando a captura de dependências de longo prazo.\n",
    "  \n",
    "  - **Porta de Entrada (Input Gate):** \n",
    "    - Função: Decide quais informações da entrada atual atualizar na célula de memória.\n",
    "    - Detalhamento:\n",
    "      - Calcula uma função sigmoide que determina quais valores da entrada atual devem ser armazenados na célula de memória.\n",
    "      - Equação: \\( i_t = \\sigma(W_i \\cdot [h_{t-1}, x_t] + b_i) \\)\n",
    "      - \\( \\sigma \\) representa a função sigmoide que gera valores entre 0 e 1, indicando a importância da atualização.\n",
    "\n",
    "  - **Porta de Esquecimento (Forget Gate):**\n",
    "    - Função: Decide quais informações antigas na célula de memória descartar.\n",
    "    - Detalhamento:\n",
    "      - Calcula uma função sigmoide que determina quais valores da célula de memória devem ser esquecidos.\n",
    "      - Equação: \\( f_t = \\sigma(W_f \\cdot [h_{t-1}, x_t] + b_f) \\)\n",
    "      - \\( \\sigma \\) representa a função sigmoide que gera valores entre 0 e 1, indicando a importância da manutenção das informações.\n",
    "\n",
    "  - **Porta de Saída (Output Gate):**\n",
    "    - Função: Decide quais informações da célula de memória usar na saída atual.\n",
    "    - Detalhamento:\n",
    "      - Calcula uma função sigmoide que determina quais valores da célula de memória devem ser usados para a saída.\n",
    "      - Equação: \\( o_t = \\sigma(W_o \\cdot [h_{t-1}, x_t] + b_o) \\)\n",
    "      - \\( \\sigma \\) representa a função sigmoide que gera valores entre 0 e 1, indicando a importância das informações para a saída.\n"
   ]
  },
  {
   "cell_type": "code",
   "execution_count": 1,
   "metadata": {},
   "outputs": [
    {
     "name": "stderr",
     "output_type": "stream",
     "text": [
      "2024-05-21 08:29:26.500811: I tensorflow/core/platform/cpu_feature_guard.cc:210] This TensorFlow binary is optimized to use available CPU instructions in performance-critical operations.\n",
      "To enable the following instructions: AVX2 FMA, in other operations, rebuild TensorFlow with the appropriate compiler flags.\n",
      "/Library/Frameworks/Python.framework/Versions/3.12/lib/python3.12/site-packages/keras/src/layers/rnn/rnn.py:204: UserWarning: Do not pass an `input_shape`/`input_dim` argument to a layer. When using Sequential models, prefer using an `Input(shape)` object as the first layer in the model instead.\n",
      "  super().__init__(**kwargs)\n"
     ]
    },
    {
     "data": {
      "text/html": [
       "<pre style=\"white-space:pre;overflow-x:auto;line-height:normal;font-family:Menlo,'DejaVu Sans Mono',consolas,'Courier New',monospace\"><span style=\"font-weight: bold\">Model: \"sequential\"</span>\n",
       "</pre>\n"
      ],
      "text/plain": [
       "\u001b[1mModel: \"sequential\"\u001b[0m\n"
      ]
     },
     "metadata": {},
     "output_type": "display_data"
    },
    {
     "data": {
      "text/html": [
       "<pre style=\"white-space:pre;overflow-x:auto;line-height:normal;font-family:Menlo,'DejaVu Sans Mono',consolas,'Courier New',monospace\">┏━━━━━━━━━━━━━━━━━━━━━━━━━━━━━━━━━┳━━━━━━━━━━━━━━━━━━━━━━━━┳━━━━━━━━━━━━━━━┓\n",
       "┃<span style=\"font-weight: bold\"> Layer (type)                    </span>┃<span style=\"font-weight: bold\"> Output Shape           </span>┃<span style=\"font-weight: bold\">       Param # </span>┃\n",
       "┡━━━━━━━━━━━━━━━━━━━━━━━━━━━━━━━━━╇━━━━━━━━━━━━━━━━━━━━━━━━╇━━━━━━━━━━━━━━━┩\n",
       "│ lstm (<span style=\"color: #0087ff; text-decoration-color: #0087ff\">LSTM</span>)                     │ (<span style=\"color: #00d7ff; text-decoration-color: #00d7ff\">None</span>, <span style=\"color: #00af00; text-decoration-color: #00af00\">10</span>, <span style=\"color: #00af00; text-decoration-color: #00af00\">50</span>)         │        <span style=\"color: #00af00; text-decoration-color: #00af00\">10,400</span> │\n",
       "├─────────────────────────────────┼────────────────────────┼───────────────┤\n",
       "│ lstm_1 (<span style=\"color: #0087ff; text-decoration-color: #0087ff\">LSTM</span>)                   │ (<span style=\"color: #00d7ff; text-decoration-color: #00d7ff\">None</span>, <span style=\"color: #00af00; text-decoration-color: #00af00\">50</span>)             │        <span style=\"color: #00af00; text-decoration-color: #00af00\">20,200</span> │\n",
       "├─────────────────────────────────┼────────────────────────┼───────────────┤\n",
       "│ dense (<span style=\"color: #0087ff; text-decoration-color: #0087ff\">Dense</span>)                   │ (<span style=\"color: #00d7ff; text-decoration-color: #00d7ff\">None</span>, <span style=\"color: #00af00; text-decoration-color: #00af00\">1</span>)              │            <span style=\"color: #00af00; text-decoration-color: #00af00\">51</span> │\n",
       "└─────────────────────────────────┴────────────────────────┴───────────────┘\n",
       "</pre>\n"
      ],
      "text/plain": [
       "┏━━━━━━━━━━━━━━━━━━━━━━━━━━━━━━━━━┳━━━━━━━━━━━━━━━━━━━━━━━━┳━━━━━━━━━━━━━━━┓\n",
       "┃\u001b[1m \u001b[0m\u001b[1mLayer (type)                   \u001b[0m\u001b[1m \u001b[0m┃\u001b[1m \u001b[0m\u001b[1mOutput Shape          \u001b[0m\u001b[1m \u001b[0m┃\u001b[1m \u001b[0m\u001b[1m      Param #\u001b[0m\u001b[1m \u001b[0m┃\n",
       "┡━━━━━━━━━━━━━━━━━━━━━━━━━━━━━━━━━╇━━━━━━━━━━━━━━━━━━━━━━━━╇━━━━━━━━━━━━━━━┩\n",
       "│ lstm (\u001b[38;5;33mLSTM\u001b[0m)                     │ (\u001b[38;5;45mNone\u001b[0m, \u001b[38;5;34m10\u001b[0m, \u001b[38;5;34m50\u001b[0m)         │        \u001b[38;5;34m10,400\u001b[0m │\n",
       "├─────────────────────────────────┼────────────────────────┼───────────────┤\n",
       "│ lstm_1 (\u001b[38;5;33mLSTM\u001b[0m)                   │ (\u001b[38;5;45mNone\u001b[0m, \u001b[38;5;34m50\u001b[0m)             │        \u001b[38;5;34m20,200\u001b[0m │\n",
       "├─────────────────────────────────┼────────────────────────┼───────────────┤\n",
       "│ dense (\u001b[38;5;33mDense\u001b[0m)                   │ (\u001b[38;5;45mNone\u001b[0m, \u001b[38;5;34m1\u001b[0m)              │            \u001b[38;5;34m51\u001b[0m │\n",
       "└─────────────────────────────────┴────────────────────────┴───────────────┘\n"
      ]
     },
     "metadata": {},
     "output_type": "display_data"
    },
    {
     "data": {
      "text/html": [
       "<pre style=\"white-space:pre;overflow-x:auto;line-height:normal;font-family:Menlo,'DejaVu Sans Mono',consolas,'Courier New',monospace\"><span style=\"font-weight: bold\"> Total params: </span><span style=\"color: #00af00; text-decoration-color: #00af00\">30,651</span> (119.73 KB)\n",
       "</pre>\n"
      ],
      "text/plain": [
       "\u001b[1m Total params: \u001b[0m\u001b[38;5;34m30,651\u001b[0m (119.73 KB)\n"
      ]
     },
     "metadata": {},
     "output_type": "display_data"
    },
    {
     "data": {
      "text/html": [
       "<pre style=\"white-space:pre;overflow-x:auto;line-height:normal;font-family:Menlo,'DejaVu Sans Mono',consolas,'Courier New',monospace\"><span style=\"font-weight: bold\"> Trainable params: </span><span style=\"color: #00af00; text-decoration-color: #00af00\">30,651</span> (119.73 KB)\n",
       "</pre>\n"
      ],
      "text/plain": [
       "\u001b[1m Trainable params: \u001b[0m\u001b[38;5;34m30,651\u001b[0m (119.73 KB)\n"
      ]
     },
     "metadata": {},
     "output_type": "display_data"
    },
    {
     "data": {
      "text/html": [
       "<pre style=\"white-space:pre;overflow-x:auto;line-height:normal;font-family:Menlo,'DejaVu Sans Mono',consolas,'Courier New',monospace\"><span style=\"font-weight: bold\"> Non-trainable params: </span><span style=\"color: #00af00; text-decoration-color: #00af00\">0</span> (0.00 B)\n",
       "</pre>\n"
      ],
      "text/plain": [
       "\u001b[1m Non-trainable params: \u001b[0m\u001b[38;5;34m0\u001b[0m (0.00 B)\n"
      ]
     },
     "metadata": {},
     "output_type": "display_data"
    }
   ],
   "source": [
    "import tensorflow as tf\n",
    "from tensorflow.keras.models import Sequential\n",
    "from tensorflow.keras.layers import LSTM, Dense\n",
    "\n",
    "# Definição do modelo sequencial\n",
    "model = Sequential()\n",
    "\n",
    "# Adicionando a primeira camada LSTM\n",
    "# Units: número de neurônios na camada LSTM\n",
    "# Input_shape: formato dos dados de entrada (timesteps, features)\n",
    "model.add(LSTM(units=50, input_shape=(10, 1), return_sequences=True))\n",
    "\n",
    "\n",
    "# Adicionando uma segunda camada LSTM para maior profundidade\n",
    "model.add(LSTM(units=50, return_sequences=False))\n",
    "\n",
    "# - A segunda camada LSTM recebe como entrada as saídas da primeira camada LSTM.\n",
    "# - Assim como a primeira camada, ela possui Célula de Memória, Porta de Entrada, \n",
    "# Porta de Esquecimento e Porta de Saída, realizando o mesmo tipo de processamento.\n",
    "\n",
    "# Adicionando uma camada densa (fully connected) após as LSTMs\n",
    "model.add(Dense(units=1))\n",
    "\n",
    "# - A camada Dense é uma camada totalmente conectada que recebe as saídas da última camada LSTM.\n",
    "# - Ela é usada para mapear a saída final da LSTM para a dimensão de saída desejada, que neste caso é 1.\n",
    "\n",
    "# Estrutura do modelo (sem compilar e treinar)\n",
    "model.summary()"
   ]
  },
  {
   "cell_type": "markdown",
   "metadata": {},
   "source": [
    "## Funcionamento das LSTM\n",
    "\n",
    "- **Fluxo de Dados:**\n",
    "  - **Entrada:** Vetor de características \\( x_t \\)\n",
    "    - Cada \\( x_t \\) representa a entrada em um determinado passo de tempo t.\n",
    "  - **Estado Oculto:** \\( h_t \\)\n",
    "    - O estado oculto \\( h_t \\) transmite informações ao longo das iterações, carregando o contexto necessário para processar sequências de dados.\n",
    "  - **Célula de Memória:** \\( C_t \\)\n",
    "    - A célula de memória \\( C_t \\) armazena informações relevantes ao longo do tempo, permitindo que o modelo mantenha dependências de longo prazo.\n",
    "  - **Saída:** \\( h_t \\)\n",
    "    - A saída \\( h_t \\) pode ser usada para a próxima unidade de tempo ou como saída final da rede.\n"
   ]
  },
  {
   "cell_type": "markdown",
   "metadata": {},
   "source": [
    "### Fluxo de Dados em LSTM\n",
    "\n",
    "- No início de cada passo de tempo, a LSTM recebe a entrada \\( x_t \\) e o estado oculto anterior \\( h_{t-1} \\).\n",
    "- As portas de entrada, esquecimento e saída processam essas informações para atualizar a célula de memória e o estado oculto.\n",
    "- Este processo contínuo permite que a LSTM capture e mantenha dependências de longo prazo, essencial para o processamento eficaz de sequências de dados.\n"
   ]
  },
  {
   "cell_type": "markdown",
   "metadata": {},
   "source": [
    "## Vantagens das LSTM sobre RNNs Tradicionais\n",
    "\n",
    "- **Captura de Dependências de Longo Prazo:**\n",
    "  - As LSTMs são projetadas para lidar com dependências de longo prazo em sequências de dados.\n",
    "  - As portas de entrada, esquecimento e saída permitem que as LSTMs mantenham informações relevantes por longos períodos, mitigando a limitação das RNNs tradicionais em capturar relações de longo alcance.\n",
    "  - O uso das portas ajuda a gerenciar quais informações são armazenadas, esquecidas ou utilizadas, permitindo um controle mais eficaz sobre o fluxo de informações.\n",
    "\n",
    "- **Redução do Problema de Gradiente:**\n",
    "  - As LSTMs foram desenvolvidas para mitigar o problema de desvanecimento e explosão de gradientes, comum em RNNs tradicionais.\n",
    "  - O desvanecimento de gradientes ocorre quando os gradientes de erro diminuem exponencialmente durante a retropropagação, dificultando o treinamento de modelos que precisam capturar dependências de longo prazo.\n",
    "  - A estrutura interna das LSTMs, com suas portas e célula de memória, ajuda a preservar gradientes importantes durante a retropropagação, permitindo que o modelo aprenda padrões mais profundos e complexos em dados sequenciais.\n",
    "  - A mitigação do problema de gradientes melhora a estabilidade e eficiência do treinamento, resultando em um desempenho superior em tarefas que envolvem dados sequenciais de longa duração.\n"
   ]
  },
  {
   "cell_type": "markdown",
   "metadata": {},
   "source": [
    "## Aplicações das LSTM em Processamento de Sequências\n",
    "\n",
    "- **Processamento de Linguagem Natural (PLN):**\n",
    "  - **Análise de Sentimento:**\n",
    "    - **Descrição:**\n",
    "      - A análise de sentimento envolve a identificação e extração de informações subjetivas de textos, como opiniões, emoções e sentimentos expressos.\n",
    "      - As LSTMs são particularmente eficazes para esta tarefa devido à sua capacidade de capturar dependências de longo prazo nas sequências de palavras.\n",
    "    - **Exemplo de Implementação:**\n",
    "      - Utilização de um dataset de reviews, onde cada review é rotulado com uma categoria de sentimento (positivo, negativo, neutro).\n",
    "      - Treinamento de uma LSTM para classificar os sentimentos expressos nas reviews com base nas sequências de palavras.\n",
    "\n",
    "  - **Tradução Automática:**\n",
    "    - **Descrição:**\n",
    "      - A tradução automática é o processo de converter texto de um idioma para outro.\n",
    "      - As LSTMs são usadas em arquiteturas seq2seq (sequence-to-sequence) para esta tarefa, onde uma LSTM é usada como codificador e outra como decodificador.\n",
    "    - **Arquitetura seq2seq com LSTM:**\n",
    "      - **Codificador (Encoder):**\n",
    "        - A LSTM do codificador processa a sequência de palavras na língua de origem e mapeia para um vetor de contexto que representa a informação semântica da frase completa.\n",
    "        - O vetor de contexto é o estado oculto final do codificador.\n",
    "      - **Decodificador (Decoder):**\n",
    "        - A LSTM do decodificador recebe o vetor de contexto do codificador e gera a sequência traduzida palavra por palavra na língua alvo.\n",
    "        - A cada passo de tempo, a LSTM do decodificador prediz a próxima palavra na sequência traduzida.\n",
    "\n",
    "- **Séries Temporais:**\n",
    "  - **Previsão de Demanda:**\n",
    "    - **Descrição:**\n",
    "      - A previsão de demanda envolve a estimativa de valores futuros com base em dados históricos, como a previsão de consumo de energia ou demanda de produtos.\n",
    "      - As LSTMs são adequadas para capturar padrões temporais complexos e dependências de longo prazo em séries temporais.\n",
    "    - **Aplicação:**\n",
    "      - Treinamento de uma LSTM para prever o consumo de energia com base em dados históricos de consumo.\n",
    "      - Uso das previsões para melhorar a gestão de recursos e planejamento estratégico.\n",
    "\n",
    "  - **Análise de Séries Temporais Financeiras:**\n",
    "    - **Descrição:**\n",
    "      - A análise de séries temporais financeiras envolve a previsão de valores futuros de ativos financeiros, como preços de ações, índices econômicos, etc.\n",
    "      - As LSTMs podem capturar as complexas relações temporais e dependências em dados financeiros.\n",
    "    - **Aplicação:**\n",
    "      - Treinamento de uma LSTM para prever preços de ações com base em dados históricos de preços.\n",
    "      - Análise de tendências e padrões de mercado para tomar decisões de investimento informadas.\n",
    "\n",
    "\n",
    "- **LSTMs** são ferramentas poderosas para previsão de séries temporais devido à sua capacidade de capturar dependências de longo prazo e padrões complexos nos dados.\n",
    "- **Previsão de Demanda** e **Análise de Séries Temporais Financeiras** são duas das principais aplicações, beneficiando-se da habilidade das LSTMs em lidar com a variabilidade e a dinâmica temporal dos dados."
   ]
  },
  {
   "cell_type": "code",
   "execution_count": 2,
   "metadata": {},
   "outputs": [],
   "source": [
    "import numpy as np\n",
    "import pandas as pd\n",
    "from sklearn.preprocessing import MinMaxScaler\n",
    "from sklearn.model_selection import train_test_split"
   ]
  },
  {
   "cell_type": "code",
   "execution_count": 3,
   "metadata": {},
   "outputs": [],
   "source": [
    "# Carregando os dados do arquivo CSV\n",
    "df = pd.read_csv('acao_google.csv')"
   ]
  },
  {
   "cell_type": "code",
   "execution_count": 4,
   "metadata": {},
   "outputs": [
    {
     "data": {
      "text/html": [
       "<div>\n",
       "<style scoped>\n",
       "    .dataframe tbody tr th:only-of-type {\n",
       "        vertical-align: middle;\n",
       "    }\n",
       "\n",
       "    .dataframe tbody tr th {\n",
       "        vertical-align: top;\n",
       "    }\n",
       "\n",
       "    .dataframe thead th {\n",
       "        text-align: right;\n",
       "    }\n",
       "</style>\n",
       "<table border=\"1\" class=\"dataframe\">\n",
       "  <thead>\n",
       "    <tr style=\"text-align: right;\">\n",
       "      <th></th>\n",
       "      <th>Date</th>\n",
       "      <th>Open</th>\n",
       "      <th>High</th>\n",
       "      <th>Low</th>\n",
       "      <th>Close</th>\n",
       "      <th>Volume</th>\n",
       "    </tr>\n",
       "  </thead>\n",
       "  <tbody>\n",
       "    <tr>\n",
       "      <th>0</th>\n",
       "      <td>1/3/2012</td>\n",
       "      <td>325.25</td>\n",
       "      <td>332.83</td>\n",
       "      <td>324.97</td>\n",
       "      <td>663.59</td>\n",
       "      <td>7,380,500</td>\n",
       "    </tr>\n",
       "    <tr>\n",
       "      <th>1</th>\n",
       "      <td>1/4/2012</td>\n",
       "      <td>331.27</td>\n",
       "      <td>333.87</td>\n",
       "      <td>329.08</td>\n",
       "      <td>666.45</td>\n",
       "      <td>5,749,400</td>\n",
       "    </tr>\n",
       "    <tr>\n",
       "      <th>2</th>\n",
       "      <td>1/5/2012</td>\n",
       "      <td>329.83</td>\n",
       "      <td>330.75</td>\n",
       "      <td>326.89</td>\n",
       "      <td>657.21</td>\n",
       "      <td>6,590,300</td>\n",
       "    </tr>\n",
       "    <tr>\n",
       "      <th>3</th>\n",
       "      <td>1/6/2012</td>\n",
       "      <td>328.34</td>\n",
       "      <td>328.77</td>\n",
       "      <td>323.68</td>\n",
       "      <td>648.24</td>\n",
       "      <td>5,405,900</td>\n",
       "    </tr>\n",
       "    <tr>\n",
       "      <th>4</th>\n",
       "      <td>1/9/2012</td>\n",
       "      <td>322.04</td>\n",
       "      <td>322.29</td>\n",
       "      <td>309.46</td>\n",
       "      <td>620.76</td>\n",
       "      <td>11,688,800</td>\n",
       "    </tr>\n",
       "  </tbody>\n",
       "</table>\n",
       "</div>"
      ],
      "text/plain": [
       "       Date    Open    High     Low   Close      Volume\n",
       "0  1/3/2012  325.25  332.83  324.97  663.59   7,380,500\n",
       "1  1/4/2012  331.27  333.87  329.08  666.45   5,749,400\n",
       "2  1/5/2012  329.83  330.75  326.89  657.21   6,590,300\n",
       "3  1/6/2012  328.34  328.77  323.68  648.24   5,405,900\n",
       "4  1/9/2012  322.04  322.29  309.46  620.76  11,688,800"
      ]
     },
     "execution_count": 4,
     "metadata": {},
     "output_type": "execute_result"
    }
   ],
   "source": [
    "df.head()"
   ]
  },
  {
   "cell_type": "code",
   "execution_count": 5,
   "metadata": {},
   "outputs": [],
   "source": [
    "# Converte a coluna Date para o Tipo de Dados DateTime\n",
    "df['Date'] = pd.to_datetime(df['Date'])"
   ]
  },
  {
   "cell_type": "code",
   "execution_count": 6,
   "metadata": {},
   "outputs": [],
   "source": [
    "# Coloca os valores em ordem crescente (caso não estivesse)\n",
    "df = df.sort_values(by = 'Date')"
   ]
  },
  {
   "cell_type": "code",
   "execution_count": 7,
   "metadata": {},
   "outputs": [],
   "source": [
    "# Coloca a Classe Alvo como sendo a última coluna\n",
    "# Remove a coluna de Data, deixa apenas as de valores\n",
    "df = df[['Open', 'High', 'Low', 'Volume', 'Close']]"
   ]
  },
  {
   "cell_type": "code",
   "execution_count": 8,
   "metadata": {},
   "outputs": [
    {
     "name": "stdout",
     "output_type": "stream",
     "text": [
      "<class 'pandas.core.frame.DataFrame'>\n",
      "RangeIndex: 1258 entries, 0 to 1257\n",
      "Data columns (total 5 columns):\n",
      " #   Column  Non-Null Count  Dtype  \n",
      "---  ------  --------------  -----  \n",
      " 0   Open    1258 non-null   float64\n",
      " 1   High    1258 non-null   float64\n",
      " 2   Low     1258 non-null   float64\n",
      " 3   Volume  1258 non-null   object \n",
      " 4   Close   1258 non-null   object \n",
      "dtypes: float64(3), object(2)\n",
      "memory usage: 49.3+ KB\n"
     ]
    }
   ],
   "source": [
    "df.info()"
   ]
  },
  {
   "cell_type": "code",
   "execution_count": 9,
   "metadata": {},
   "outputs": [],
   "source": [
    "# Removendo a vírgula como separador de milhar na coluna 'Volume' e convertendo para float\n",
    "df['Volume'] = df['Volume'].str.replace(',', '').astype(int)\n",
    "\n",
    "# Removendo a vírgula como separador de milhar na coluna 'Close' e convertendo para float\n",
    "df['Close'] = df['Close'].str.replace(',', '').astype(float)"
   ]
  },
  {
   "cell_type": "code",
   "execution_count": 10,
   "metadata": {},
   "outputs": [
    {
     "name": "stdout",
     "output_type": "stream",
     "text": [
      "<class 'pandas.core.frame.DataFrame'>\n",
      "RangeIndex: 1258 entries, 0 to 1257\n",
      "Data columns (total 5 columns):\n",
      " #   Column  Non-Null Count  Dtype  \n",
      "---  ------  --------------  -----  \n",
      " 0   Open    1258 non-null   float64\n",
      " 1   High    1258 non-null   float64\n",
      " 2   Low     1258 non-null   float64\n",
      " 3   Volume  1258 non-null   int64  \n",
      " 4   Close   1258 non-null   float64\n",
      "dtypes: float64(4), int64(1)\n",
      "memory usage: 49.3 KB\n"
     ]
    }
   ],
   "source": [
    "df.info()"
   ]
  },
  {
   "cell_type": "code",
   "execution_count": 11,
   "metadata": {},
   "outputs": [],
   "source": [
    "import numpy as np\n",
    "\n",
    "def create_lookback_data(df, lookback):\n",
    "    \"\"\"\n",
    "    Função para criar dados de entrada e saída para uma LSTM usando uma janela de lookback.\n",
    "    \n",
    "    Parâmetros:\n",
    "    df (DataFrame): DataFrame contendo os dados. A última coluna é a coluna alvo.\n",
    "    lookback (int): Número de dias para a janela de lookback.\n",
    "    \n",
    "    Retorna:\n",
    "    X (numpy array): Dados de entrada para a LSTM, de formato (n_amostras, lookback, n_features).\n",
    "    y (numpy array): Dados de saída/targets, de formato (n_amostras,).\n",
    "    \"\"\"\n",
    "    data = df.values\n",
    "    X, y = [], []\n",
    "    \n",
    "    for i in range(lookback, len(data)):\n",
    "        X.append(data[i - lookback:i, :])  # Todas as colunas exceto a última (características)\n",
    "        y.append(data[i, -1])               # Apenas a última coluna (alvo)\n",
    "    \n",
    "    return np.array(X), np.array(y)"
   ]
  },
  {
   "cell_type": "code",
   "execution_count": 12,
   "metadata": {},
   "outputs": [
    {
     "data": {
      "text/plain": [
       "10"
      ]
     },
     "execution_count": 12,
     "metadata": {},
     "output_type": "execute_result"
    }
   ],
   "source": [
    "array_exemplo = np.array([[1,1,1,1,'a'],\n",
    " [2,2,2,2,'b'],\n",
    " [3,3,3,3,'c'],\n",
    " [4,4,4,4,'d'],\n",
    " [5,5,5,5,'e'],\n",
    " [6,6,6,6,'f'],\n",
    " [7,7,7,7,'g'],\n",
    " [8,8,8,8,'h'],\n",
    " [9,9,9,9,'i'],\n",
    " [10,10,10,10,'j'],])\n",
    "len(array_exemplo)"
   ]
  },
  {
   "cell_type": "code",
   "execution_count": 13,
   "metadata": {},
   "outputs": [],
   "source": [
    "lookback = 3\n",
    "X_exemplo, y_exemplo = [], []\n",
    "    \n",
    "for i in range(lookback, len(array_exemplo)):\n",
    "        X_exemplo.append(array_exemplo[i - lookback:i, :])  # Todas as colunas exceto a última (características)\n",
    "        y_exemplo.append(array_exemplo[i, -1])     "
   ]
  },
  {
   "cell_type": "code",
   "execution_count": 14,
   "metadata": {},
   "outputs": [
    {
     "data": {
      "text/plain": [
       "7"
      ]
     },
     "execution_count": 14,
     "metadata": {},
     "output_type": "execute_result"
    }
   ],
   "source": [
    "len(X_exemplo)"
   ]
  },
  {
   "cell_type": "code",
   "execution_count": 15,
   "metadata": {},
   "outputs": [
    {
     "data": {
      "text/plain": [
       "7"
      ]
     },
     "execution_count": 15,
     "metadata": {},
     "output_type": "execute_result"
    }
   ],
   "source": [
    "len(y_exemplo)"
   ]
  },
  {
   "cell_type": "code",
   "execution_count": 16,
   "metadata": {},
   "outputs": [
    {
     "data": {
      "text/plain": [
       "array([['1', '1', '1', '1', 'a'],\n",
       "       ['2', '2', '2', '2', 'b'],\n",
       "       ['3', '3', '3', '3', 'c']], dtype='<U21')"
      ]
     },
     "execution_count": 16,
     "metadata": {},
     "output_type": "execute_result"
    }
   ],
   "source": [
    "# Tem os registros de a, b, c para prever o alvo d\n",
    "X_exemplo[0]"
   ]
  },
  {
   "cell_type": "code",
   "execution_count": 17,
   "metadata": {},
   "outputs": [
    {
     "data": {
      "text/plain": [
       "'d'"
      ]
     },
     "execution_count": 17,
     "metadata": {},
     "output_type": "execute_result"
    }
   ],
   "source": [
    "y_exemplo[0]"
   ]
  },
  {
   "cell_type": "code",
   "execution_count": 18,
   "metadata": {},
   "outputs": [
    {
     "data": {
      "text/plain": [
       "array([['2', '2', '2', '2', 'b'],\n",
       "       ['3', '3', '3', '3', 'c'],\n",
       "       ['4', '4', '4', '4', 'd']], dtype='<U21')"
      ]
     },
     "execution_count": 18,
     "metadata": {},
     "output_type": "execute_result"
    }
   ],
   "source": [
    "# Tem os registros de b, c, d para prever o dia e\n",
    "X_exemplo[1]"
   ]
  },
  {
   "cell_type": "code",
   "execution_count": 19,
   "metadata": {},
   "outputs": [
    {
     "data": {
      "text/plain": [
       "'e'"
      ]
     },
     "execution_count": 19,
     "metadata": {},
     "output_type": "execute_result"
    }
   ],
   "source": [
    "y_exemplo[1]"
   ]
  },
  {
   "cell_type": "code",
   "execution_count": 20,
   "metadata": {},
   "outputs": [
    {
     "data": {
      "text/plain": [
       "array([['1', '1', '1', '1', 'a'],\n",
       "       ['2', '2', '2', '2', 'b'],\n",
       "       ['3', '3', '3', '3', 'c'],\n",
       "       ['4', '4', '4', '4', 'd'],\n",
       "       ['5', '5', '5', '5', 'e'],\n",
       "       ['6', '6', '6', '6', 'f'],\n",
       "       ['7', '7', '7', '7', 'g'],\n",
       "       ['8', '8', '8', '8', 'h'],\n",
       "       ['9', '9', '9', '9', 'i'],\n",
       "       ['10', '10', '10', '10', 'j']], dtype='<U21')"
      ]
     },
     "execution_count": 20,
     "metadata": {},
     "output_type": "execute_result"
    }
   ],
   "source": [
    "array_exemplo"
   ]
  },
  {
   "cell_type": "code",
   "execution_count": 21,
   "metadata": {},
   "outputs": [
    {
     "name": "stdout",
     "output_type": "stream",
     "text": [
      "Formato de X: (1198, 60, 5)\n",
      "Formato de y: (1198,)\n"
     ]
    }
   ],
   "source": [
    "lookback = 60\n",
    "X, y = create_lookback_data(df, lookback)\n",
    "\n",
    "print(f\"Formato de X: {X.shape}\")\n",
    "print(f\"Formato de y: {y.shape}\")\n"
   ]
  },
  {
   "cell_type": "code",
   "execution_count": 22,
   "metadata": {},
   "outputs": [],
   "source": [
    "X_train = X[:int(len(X) * 0.8)]\n",
    "X_test = X[int(len(X) * 0.8):]\n",
    "\n",
    "y_train = y[:int(len(y) * 0.8)]\n",
    "y_test = y[int(len(y) * 0.8):]"
   ]
  },
  {
   "cell_type": "code",
   "execution_count": 23,
   "metadata": {},
   "outputs": [],
   "source": [
    "# Normalizando os dados de treinamento\n",
    "scaler_X = MinMaxScaler(feature_range=(0, 1))\n",
    "scaler_y = MinMaxScaler(feature_range=(0, 1))\n",
    "\n",
    "X_train = scaler_X.fit_transform(X_train.reshape(-1, X_train.shape[-1])).reshape(X_train.shape)\n",
    "y_train = scaler_y.fit_transform(y_train.reshape(-1, 1))"
   ]
  },
  {
   "cell_type": "code",
   "execution_count": 24,
   "metadata": {},
   "outputs": [],
   "source": [
    "# Normalizando os dados de teste\n",
    "X_test = scaler_X.transform(X_test.reshape(-1, X_test.shape[-1])).reshape(X_test.shape)\n",
    "y_test = scaler_y.transform(y_test.reshape(-1, 1))"
   ]
  },
  {
   "cell_type": "code",
   "execution_count": 25,
   "metadata": {},
   "outputs": [
    {
     "name": "stdout",
     "output_type": "stream",
     "text": [
      "X_train shape: (958, 60, 5)\n",
      "y_train shape: (958, 1)\n",
      "X_test shape: (240, 60, 5)\n",
      "y_test shape: (240, 1)\n"
     ]
    }
   ],
   "source": [
    "# Verificando as formas dos conjuntos de dados\n",
    "print(\"X_train shape:\", X_train.shape)\n",
    "print(\"y_train shape:\", y_train.shape)\n",
    "print(\"X_test shape:\", X_test.shape)\n",
    "print(\"y_test shape:\", y_test.shape)"
   ]
  },
  {
   "cell_type": "code",
   "execution_count": 26,
   "metadata": {},
   "outputs": [
    {
     "name": "stderr",
     "output_type": "stream",
     "text": [
      "/Library/Frameworks/Python.framework/Versions/3.12/lib/python3.12/site-packages/keras/src/layers/rnn/rnn.py:204: UserWarning: Do not pass an `input_shape`/`input_dim` argument to a layer. When using Sequential models, prefer using an `Input(shape)` object as the first layer in the model instead.\n",
      "  super().__init__(**kwargs)\n"
     ]
    },
    {
     "data": {
      "text/html": [
       "<pre style=\"white-space:pre;overflow-x:auto;line-height:normal;font-family:Menlo,'DejaVu Sans Mono',consolas,'Courier New',monospace\"><span style=\"font-weight: bold\">Model: \"sequential_1\"</span>\n",
       "</pre>\n"
      ],
      "text/plain": [
       "\u001b[1mModel: \"sequential_1\"\u001b[0m\n"
      ]
     },
     "metadata": {},
     "output_type": "display_data"
    },
    {
     "data": {
      "text/html": [
       "<pre style=\"white-space:pre;overflow-x:auto;line-height:normal;font-family:Menlo,'DejaVu Sans Mono',consolas,'Courier New',monospace\">┏━━━━━━━━━━━━━━━━━━━━━━━━━━━━━━━━━┳━━━━━━━━━━━━━━━━━━━━━━━━┳━━━━━━━━━━━━━━━┓\n",
       "┃<span style=\"font-weight: bold\"> Layer (type)                    </span>┃<span style=\"font-weight: bold\"> Output Shape           </span>┃<span style=\"font-weight: bold\">       Param # </span>┃\n",
       "┡━━━━━━━━━━━━━━━━━━━━━━━━━━━━━━━━━╇━━━━━━━━━━━━━━━━━━━━━━━━╇━━━━━━━━━━━━━━━┩\n",
       "│ lstm_2 (<span style=\"color: #0087ff; text-decoration-color: #0087ff\">LSTM</span>)                   │ (<span style=\"color: #00d7ff; text-decoration-color: #00d7ff\">None</span>, <span style=\"color: #00af00; text-decoration-color: #00af00\">60</span>, <span style=\"color: #00af00; text-decoration-color: #00af00\">50</span>)         │        <span style=\"color: #00af00; text-decoration-color: #00af00\">11,200</span> │\n",
       "├─────────────────────────────────┼────────────────────────┼───────────────┤\n",
       "│ dropout (<span style=\"color: #0087ff; text-decoration-color: #0087ff\">Dropout</span>)               │ (<span style=\"color: #00d7ff; text-decoration-color: #00d7ff\">None</span>, <span style=\"color: #00af00; text-decoration-color: #00af00\">60</span>, <span style=\"color: #00af00; text-decoration-color: #00af00\">50</span>)         │             <span style=\"color: #00af00; text-decoration-color: #00af00\">0</span> │\n",
       "├─────────────────────────────────┼────────────────────────┼───────────────┤\n",
       "│ lstm_3 (<span style=\"color: #0087ff; text-decoration-color: #0087ff\">LSTM</span>)                   │ (<span style=\"color: #00d7ff; text-decoration-color: #00d7ff\">None</span>, <span style=\"color: #00af00; text-decoration-color: #00af00\">50</span>)             │        <span style=\"color: #00af00; text-decoration-color: #00af00\">20,200</span> │\n",
       "├─────────────────────────────────┼────────────────────────┼───────────────┤\n",
       "│ dropout_1 (<span style=\"color: #0087ff; text-decoration-color: #0087ff\">Dropout</span>)             │ (<span style=\"color: #00d7ff; text-decoration-color: #00d7ff\">None</span>, <span style=\"color: #00af00; text-decoration-color: #00af00\">50</span>)             │             <span style=\"color: #00af00; text-decoration-color: #00af00\">0</span> │\n",
       "├─────────────────────────────────┼────────────────────────┼───────────────┤\n",
       "│ dense_1 (<span style=\"color: #0087ff; text-decoration-color: #0087ff\">Dense</span>)                 │ (<span style=\"color: #00d7ff; text-decoration-color: #00d7ff\">None</span>, <span style=\"color: #00af00; text-decoration-color: #00af00\">1</span>)              │            <span style=\"color: #00af00; text-decoration-color: #00af00\">51</span> │\n",
       "└─────────────────────────────────┴────────────────────────┴───────────────┘\n",
       "</pre>\n"
      ],
      "text/plain": [
       "┏━━━━━━━━━━━━━━━━━━━━━━━━━━━━━━━━━┳━━━━━━━━━━━━━━━━━━━━━━━━┳━━━━━━━━━━━━━━━┓\n",
       "┃\u001b[1m \u001b[0m\u001b[1mLayer (type)                   \u001b[0m\u001b[1m \u001b[0m┃\u001b[1m \u001b[0m\u001b[1mOutput Shape          \u001b[0m\u001b[1m \u001b[0m┃\u001b[1m \u001b[0m\u001b[1m      Param #\u001b[0m\u001b[1m \u001b[0m┃\n",
       "┡━━━━━━━━━━━━━━━━━━━━━━━━━━━━━━━━━╇━━━━━━━━━━━━━━━━━━━━━━━━╇━━━━━━━━━━━━━━━┩\n",
       "│ lstm_2 (\u001b[38;5;33mLSTM\u001b[0m)                   │ (\u001b[38;5;45mNone\u001b[0m, \u001b[38;5;34m60\u001b[0m, \u001b[38;5;34m50\u001b[0m)         │        \u001b[38;5;34m11,200\u001b[0m │\n",
       "├─────────────────────────────────┼────────────────────────┼───────────────┤\n",
       "│ dropout (\u001b[38;5;33mDropout\u001b[0m)               │ (\u001b[38;5;45mNone\u001b[0m, \u001b[38;5;34m60\u001b[0m, \u001b[38;5;34m50\u001b[0m)         │             \u001b[38;5;34m0\u001b[0m │\n",
       "├─────────────────────────────────┼────────────────────────┼───────────────┤\n",
       "│ lstm_3 (\u001b[38;5;33mLSTM\u001b[0m)                   │ (\u001b[38;5;45mNone\u001b[0m, \u001b[38;5;34m50\u001b[0m)             │        \u001b[38;5;34m20,200\u001b[0m │\n",
       "├─────────────────────────────────┼────────────────────────┼───────────────┤\n",
       "│ dropout_1 (\u001b[38;5;33mDropout\u001b[0m)             │ (\u001b[38;5;45mNone\u001b[0m, \u001b[38;5;34m50\u001b[0m)             │             \u001b[38;5;34m0\u001b[0m │\n",
       "├─────────────────────────────────┼────────────────────────┼───────────────┤\n",
       "│ dense_1 (\u001b[38;5;33mDense\u001b[0m)                 │ (\u001b[38;5;45mNone\u001b[0m, \u001b[38;5;34m1\u001b[0m)              │            \u001b[38;5;34m51\u001b[0m │\n",
       "└─────────────────────────────────┴────────────────────────┴───────────────┘\n"
      ]
     },
     "metadata": {},
     "output_type": "display_data"
    },
    {
     "data": {
      "text/html": [
       "<pre style=\"white-space:pre;overflow-x:auto;line-height:normal;font-family:Menlo,'DejaVu Sans Mono',consolas,'Courier New',monospace\"><span style=\"font-weight: bold\"> Total params: </span><span style=\"color: #00af00; text-decoration-color: #00af00\">31,451</span> (122.86 KB)\n",
       "</pre>\n"
      ],
      "text/plain": [
       "\u001b[1m Total params: \u001b[0m\u001b[38;5;34m31,451\u001b[0m (122.86 KB)\n"
      ]
     },
     "metadata": {},
     "output_type": "display_data"
    },
    {
     "data": {
      "text/html": [
       "<pre style=\"white-space:pre;overflow-x:auto;line-height:normal;font-family:Menlo,'DejaVu Sans Mono',consolas,'Courier New',monospace\"><span style=\"font-weight: bold\"> Trainable params: </span><span style=\"color: #00af00; text-decoration-color: #00af00\">31,451</span> (122.86 KB)\n",
       "</pre>\n"
      ],
      "text/plain": [
       "\u001b[1m Trainable params: \u001b[0m\u001b[38;5;34m31,451\u001b[0m (122.86 KB)\n"
      ]
     },
     "metadata": {},
     "output_type": "display_data"
    },
    {
     "data": {
      "text/html": [
       "<pre style=\"white-space:pre;overflow-x:auto;line-height:normal;font-family:Menlo,'DejaVu Sans Mono',consolas,'Courier New',monospace\"><span style=\"font-weight: bold\"> Non-trainable params: </span><span style=\"color: #00af00; text-decoration-color: #00af00\">0</span> (0.00 B)\n",
       "</pre>\n"
      ],
      "text/plain": [
       "\u001b[1m Non-trainable params: \u001b[0m\u001b[38;5;34m0\u001b[0m (0.00 B)\n"
      ]
     },
     "metadata": {},
     "output_type": "display_data"
    }
   ],
   "source": [
    "import tensorflow as tf\n",
    "from tensorflow.keras.models import Sequential\n",
    "from tensorflow.keras.layers import LSTM, Dense, Dropout\n",
    "from tensorflow.keras.regularizers import l2\n",
    "\n",
    "# Definindo a arquitetura do modelo LSTM\n",
    "model = Sequential()\n",
    "\n",
    "# Adicionando a primeira camada LSTM\n",
    "# 50 unidades, ativação tanh, com return_sequences=True para retornar todas as saídas da sequência\n",
    "# Aplicando regularização de kernel l2 para evitar overfitting\n",
    "# input_shape=(timesteps, features) - use a forma dos seus dados de entrada\n",
    "model.add(LSTM(units=50, activation='tanh', return_sequences=True, \n",
    "               kernel_regularizer=l2(0.01), input_shape=(X_train.shape[1], X_train.shape[2])))\n",
    "\n",
    "# Adicionando uma camada Dropout com taxa de 0.2 para evitar overfitting\n",
    "model.add(Dropout(0.2))\n",
    "\n",
    "# Adicionando a segunda camada LSTM\n",
    "# 50 unidades, ativação tanh, sem return_sequences porque é a última camada LSTM antes da camada densa\n",
    "# Aplicando regularização de kernel l2\n",
    "model.add(LSTM(units=50, activation='tanh', kernel_regularizer=l2(0.01)))\n",
    "\n",
    "# Adicionando uma segunda camada Dropout com taxa de 0.2 para regularização adicional\n",
    "model.add(Dropout(0.2))\n",
    "\n",
    "# Adicionando uma camada densa (fully connected) com 1 unidade para gerar a previsão final do modelo\n",
    "model.add(Dense(units=1))\n",
    "\n",
    "# Compilando o modelo com otimizador adam e função de perda mean_squared_error\n",
    "model.compile(optimizer='adam', loss='mean_squared_error')\n",
    "\n",
    "# Exibindo a arquitetura do modelo\n",
    "model.summary()\n"
   ]
  },
  {
   "cell_type": "code",
   "execution_count": 27,
   "metadata": {},
   "outputs": [
    {
     "name": "stdout",
     "output_type": "stream",
     "text": [
      "Epoch 1/100\n",
      "27/27 - 4s - 162ms/step - loss: 0.7703 - val_loss: 0.5729\n",
      "Epoch 2/100\n",
      "27/27 - 1s - 29ms/step - loss: 0.4575 - val_loss: 0.3494\n",
      "Epoch 3/100\n",
      "27/27 - 1s - 30ms/step - loss: 0.2810 - val_loss: 0.2089\n",
      "Epoch 4/100\n",
      "27/27 - 1s - 29ms/step - loss: 0.1729 - val_loss: 0.1334\n",
      "Epoch 5/100\n",
      "27/27 - 1s - 32ms/step - loss: 0.1088 - val_loss: 0.0842\n",
      "Epoch 6/100\n",
      "27/27 - 1s - 36ms/step - loss: 0.0729 - val_loss: 0.0543\n",
      "Epoch 7/100\n",
      "27/27 - 1s - 33ms/step - loss: 0.0497 - val_loss: 0.0436\n",
      "Epoch 8/100\n",
      "27/27 - 1s - 37ms/step - loss: 0.0365 - val_loss: 0.0312\n",
      "Epoch 9/100\n",
      "27/27 - 1s - 36ms/step - loss: 0.0292 - val_loss: 0.0294\n",
      "Epoch 10/100\n",
      "27/27 - 1s - 31ms/step - loss: 0.0251 - val_loss: 0.0232\n",
      "Epoch 11/100\n",
      "27/27 - 1s - 31ms/step - loss: 0.0204 - val_loss: 0.0240\n",
      "Epoch 12/100\n",
      "27/27 - 1s - 31ms/step - loss: 0.0185 - val_loss: 0.0133\n",
      "Epoch 13/100\n",
      "27/27 - 1s - 31ms/step - loss: 0.0163 - val_loss: 0.0193\n",
      "Epoch 14/100\n",
      "27/27 - 1s - 37ms/step - loss: 0.0176 - val_loss: 0.0161\n",
      "Epoch 15/100\n",
      "27/27 - 1s - 32ms/step - loss: 0.0153 - val_loss: 0.0110\n",
      "Epoch 16/100\n",
      "27/27 - 1s - 32ms/step - loss: 0.0131 - val_loss: 0.0087\n",
      "Epoch 17/100\n",
      "27/27 - 1s - 32ms/step - loss: 0.0132 - val_loss: 0.0111\n",
      "Epoch 18/100\n",
      "27/27 - 1s - 34ms/step - loss: 0.0125 - val_loss: 0.0085\n",
      "Epoch 19/100\n",
      "27/27 - 1s - 30ms/step - loss: 0.0106 - val_loss: 0.0113\n",
      "Epoch 20/100\n",
      "27/27 - 1s - 31ms/step - loss: 0.0108 - val_loss: 0.0076\n",
      "Epoch 21/100\n",
      "27/27 - 1s - 32ms/step - loss: 0.0122 - val_loss: 0.0106\n",
      "Epoch 22/100\n",
      "27/27 - 1s - 30ms/step - loss: 0.0102 - val_loss: 0.0068\n",
      "Epoch 23/100\n",
      "27/27 - 1s - 31ms/step - loss: 0.0110 - val_loss: 0.0144\n",
      "Epoch 24/100\n",
      "27/27 - 1s - 31ms/step - loss: 0.0107 - val_loss: 0.0053\n",
      "Epoch 25/100\n",
      "27/27 - 1s - 31ms/step - loss: 0.0097 - val_loss: 0.0122\n",
      "Epoch 26/100\n",
      "27/27 - 1s - 30ms/step - loss: 0.0089 - val_loss: 0.0103\n",
      "Epoch 27/100\n",
      "27/27 - 1s - 31ms/step - loss: 0.0089 - val_loss: 0.0052\n",
      "Epoch 28/100\n",
      "27/27 - 1s - 30ms/step - loss: 0.0101 - val_loss: 0.0064\n",
      "Epoch 29/100\n",
      "27/27 - 1s - 30ms/step - loss: 0.0111 - val_loss: 0.0047\n",
      "Epoch 30/100\n",
      "27/27 - 1s - 31ms/step - loss: 0.0092 - val_loss: 0.0049\n",
      "Epoch 31/100\n",
      "27/27 - 1s - 32ms/step - loss: 0.0086 - val_loss: 0.0039\n",
      "Epoch 32/100\n",
      "27/27 - 1s - 35ms/step - loss: 0.0086 - val_loss: 0.0099\n",
      "Epoch 33/100\n",
      "27/27 - 1s - 37ms/step - loss: 0.0075 - val_loss: 0.0047\n",
      "Epoch 34/100\n",
      "27/27 - 1s - 31ms/step - loss: 0.0096 - val_loss: 0.0053\n",
      "Epoch 35/100\n",
      "27/27 - 1s - 34ms/step - loss: 0.0083 - val_loss: 0.0083\n",
      "Epoch 36/100\n",
      "27/27 - 1s - 34ms/step - loss: 0.0094 - val_loss: 0.0154\n",
      "Epoch 37/100\n",
      "27/27 - 1s - 31ms/step - loss: 0.0114 - val_loss: 0.0042\n",
      "Epoch 38/100\n",
      "27/27 - 1s - 30ms/step - loss: 0.0087 - val_loss: 0.0041\n",
      "Epoch 39/100\n",
      "27/27 - 1s - 33ms/step - loss: 0.0074 - val_loss: 0.0043\n",
      "Epoch 40/100\n",
      "27/27 - 1s - 31ms/step - loss: 0.0097 - val_loss: 0.0061\n",
      "Epoch 41/100\n",
      "27/27 - 1s - 30ms/step - loss: 0.0091 - val_loss: 0.0081\n",
      "Epoch 42/100\n",
      "27/27 - 1s - 32ms/step - loss: 0.0085 - val_loss: 0.0040\n",
      "Epoch 43/100\n",
      "27/27 - 1s - 33ms/step - loss: 0.0077 - val_loss: 0.0057\n",
      "Epoch 44/100\n",
      "27/27 - 1s - 35ms/step - loss: 0.0091 - val_loss: 0.0078\n",
      "Epoch 45/100\n",
      "27/27 - 1s - 31ms/step - loss: 0.0092 - val_loss: 0.0042\n",
      "Epoch 46/100\n",
      "27/27 - 1s - 31ms/step - loss: 0.0077 - val_loss: 0.0084\n",
      "Epoch 47/100\n",
      "27/27 - 1s - 30ms/step - loss: 0.0074 - val_loss: 0.0034\n",
      "Epoch 48/100\n",
      "27/27 - 1s - 30ms/step - loss: 0.0071 - val_loss: 0.0090\n",
      "Epoch 49/100\n",
      "27/27 - 1s - 30ms/step - loss: 0.0094 - val_loss: 0.0076\n",
      "Epoch 50/100\n",
      "27/27 - 1s - 30ms/step - loss: 0.0077 - val_loss: 0.0043\n",
      "Epoch 51/100\n",
      "27/27 - 1s - 30ms/step - loss: 0.0076 - val_loss: 0.0038\n",
      "Epoch 52/100\n",
      "27/27 - 1s - 30ms/step - loss: 0.0082 - val_loss: 0.0040\n",
      "Epoch 53/100\n",
      "27/27 - 1s - 32ms/step - loss: 0.0071 - val_loss: 0.0033\n",
      "Epoch 54/100\n",
      "27/27 - 1s - 30ms/step - loss: 0.0086 - val_loss: 0.0057\n",
      "Epoch 55/100\n",
      "27/27 - 1s - 31ms/step - loss: 0.0082 - val_loss: 0.0060\n",
      "Epoch 56/100\n",
      "27/27 - 1s - 31ms/step - loss: 0.0096 - val_loss: 0.0098\n",
      "Epoch 57/100\n",
      "27/27 - 1s - 30ms/step - loss: 0.0087 - val_loss: 0.0042\n",
      "Epoch 58/100\n",
      "27/27 - 1s - 30ms/step - loss: 0.0083 - val_loss: 0.0058\n",
      "Epoch 59/100\n",
      "27/27 - 1s - 30ms/step - loss: 0.0078 - val_loss: 0.0033\n",
      "Epoch 60/100\n",
      "27/27 - 1s - 30ms/step - loss: 0.0079 - val_loss: 0.0071\n",
      "Epoch 61/100\n",
      "27/27 - 1s - 30ms/step - loss: 0.0080 - val_loss: 0.0078\n",
      "Epoch 62/100\n",
      "27/27 - 1s - 30ms/step - loss: 0.0100 - val_loss: 0.0119\n",
      "Epoch 63/100\n",
      "27/27 - 1s - 30ms/step - loss: 0.0087 - val_loss: 0.0039\n",
      "Epoch 64/100\n",
      "27/27 - 1s - 30ms/step - loss: 0.0082 - val_loss: 0.0032\n",
      "Epoch 65/100\n",
      "27/27 - 1s - 30ms/step - loss: 0.0074 - val_loss: 0.0034\n",
      "Epoch 66/100\n",
      "27/27 - 1s - 30ms/step - loss: 0.0072 - val_loss: 0.0044\n",
      "Epoch 67/100\n",
      "27/27 - 1s - 30ms/step - loss: 0.0097 - val_loss: 0.0031\n",
      "Epoch 68/100\n",
      "27/27 - 1s - 30ms/step - loss: 0.0082 - val_loss: 0.0076\n",
      "Epoch 69/100\n",
      "27/27 - 1s - 30ms/step - loss: 0.0074 - val_loss: 0.0033\n",
      "Epoch 70/100\n",
      "27/27 - 1s - 30ms/step - loss: 0.0077 - val_loss: 0.0092\n",
      "Epoch 71/100\n",
      "27/27 - 1s - 29ms/step - loss: 0.0074 - val_loss: 0.0035\n",
      "Epoch 72/100\n",
      "27/27 - 1s - 30ms/step - loss: 0.0065 - val_loss: 0.0047\n",
      "Epoch 73/100\n",
      "27/27 - 1s - 30ms/step - loss: 0.0062 - val_loss: 0.0055\n",
      "Epoch 74/100\n",
      "27/27 - 1s - 30ms/step - loss: 0.0071 - val_loss: 0.0041\n",
      "Epoch 75/100\n",
      "27/27 - 1s - 30ms/step - loss: 0.0068 - val_loss: 0.0058\n",
      "Epoch 76/100\n",
      "27/27 - 1s - 30ms/step - loss: 0.0074 - val_loss: 0.0034\n",
      "Epoch 77/100\n",
      "27/27 - 2s - 63ms/step - loss: 0.0072 - val_loss: 0.0072\n",
      "Epoch 78/100\n",
      "27/27 - 1s - 32ms/step - loss: 0.0086 - val_loss: 0.0032\n",
      "Epoch 79/100\n",
      "27/27 - 1s - 39ms/step - loss: 0.0088 - val_loss: 0.0059\n",
      "Epoch 80/100\n",
      "27/27 - 1s - 33ms/step - loss: 0.0075 - val_loss: 0.0058\n",
      "Epoch 81/100\n",
      "27/27 - 1s - 32ms/step - loss: 0.0078 - val_loss: 0.0096\n",
      "Epoch 82/100\n",
      "27/27 - 1s - 31ms/step - loss: 0.0120 - val_loss: 0.0137\n",
      "Epoch 83/100\n",
      "27/27 - 1s - 30ms/step - loss: 0.0087 - val_loss: 0.0042\n",
      "Epoch 84/100\n",
      "27/27 - 1s - 31ms/step - loss: 0.0085 - val_loss: 0.0038\n",
      "Epoch 85/100\n",
      "27/27 - 1s - 31ms/step - loss: 0.0081 - val_loss: 0.0050\n",
      "Epoch 86/100\n",
      "27/27 - 1s - 30ms/step - loss: 0.0086 - val_loss: 0.0056\n",
      "Epoch 87/100\n",
      "27/27 - 1s - 34ms/step - loss: 0.0084 - val_loss: 0.0076\n",
      "Epoch 88/100\n",
      "27/27 - 1s - 31ms/step - loss: 0.0078 - val_loss: 0.0073\n",
      "Epoch 89/100\n",
      "27/27 - 1s - 31ms/step - loss: 0.0087 - val_loss: 0.0045\n",
      "Epoch 90/100\n",
      "27/27 - 1s - 31ms/step - loss: 0.0083 - val_loss: 0.0074\n",
      "Epoch 91/100\n",
      "27/27 - 1s - 30ms/step - loss: 0.0072 - val_loss: 0.0054\n",
      "Epoch 92/100\n",
      "27/27 - 1s - 30ms/step - loss: 0.0072 - val_loss: 0.0038\n",
      "Epoch 93/100\n",
      "27/27 - 1s - 30ms/step - loss: 0.0081 - val_loss: 0.0030\n",
      "Epoch 94/100\n",
      "27/27 - 1s - 30ms/step - loss: 0.0072 - val_loss: 0.0041\n",
      "Epoch 95/100\n",
      "27/27 - 1s - 30ms/step - loss: 0.0070 - val_loss: 0.0053\n",
      "Epoch 96/100\n",
      "27/27 - 1s - 30ms/step - loss: 0.0088 - val_loss: 0.0027\n",
      "Epoch 97/100\n",
      "27/27 - 1s - 35ms/step - loss: 0.0076 - val_loss: 0.0085\n",
      "Epoch 98/100\n",
      "27/27 - 1s - 31ms/step - loss: 0.0078 - val_loss: 0.0041\n",
      "Epoch 99/100\n",
      "27/27 - 1s - 31ms/step - loss: 0.0073 - val_loss: 0.0069\n",
      "Epoch 100/100\n",
      "27/27 - 1s - 30ms/step - loss: 0.0072 - val_loss: 0.0039\n"
     ]
    }
   ],
   "source": [
    "history = model.fit(X_train, y_train, epochs=100, batch_size=32, validation_split=0.1, verbose=2)"
   ]
  },
  {
   "cell_type": "code",
   "execution_count": 28,
   "metadata": {},
   "outputs": [
    {
     "data": {
      "image/png": "[encoded data removed]",
      "text/plain": [
       "<Figure size 1200x600 with 1 Axes>"
      ]
     },
     "metadata": {},
     "output_type": "display_data"
    }
   ],
   "source": [
    "import matplotlib.pyplot as plt\n",
    "plt.figure(figsize=(12, 6))\n",
    "\n",
    "# Plotando a perda de treinamento\n",
    "plt.plot(history.history['loss'], label='Perda de Treinamento')\n",
    "\n",
    "# Plotando a perda de validação\n",
    "plt.plot(history.history['val_loss'], label='Perda de Validação')\n",
    "\n",
    "# Adicionando título e legendas\n",
    "plt.title('Histórico de Treinamento e Validação')\n",
    "plt.xlabel('Épocas')\n",
    "plt.ylabel('Perda')\n",
    "plt.legend()\n",
    "\n",
    "# Exibindo o gráfico\n",
    "plt.show()"
   ]
  },
  {
   "cell_type": "code",
   "execution_count": 29,
   "metadata": {},
   "outputs": [
    {
     "name": "stdout",
     "output_type": "stream",
     "text": [
      "\u001b[1m30/30\u001b[0m \u001b[32m━━━━━━━━━━━━━━━━━━━━\u001b[0m\u001b[37m\u001b[0m \u001b[1m1s\u001b[0m 20ms/step\n",
      "\u001b[1m8/8\u001b[0m \u001b[32m━━━━━━━━━━━━━━━━━━━━\u001b[0m\u001b[37m\u001b[0m \u001b[1m0s\u001b[0m 9ms/step\n"
     ]
    }
   ],
   "source": [
    "# Fazendo previsões\n",
    "train_predict = model.predict(X_train)\n",
    "test_predict = model.predict(X_test)\n",
    "\n",
    "# Invertendo a normalização para obter os valores reais\n",
    "train_predict = scaler_y.inverse_transform(train_predict)\n",
    "test_predict = scaler_y.inverse_transform(test_predict)\n",
    "y_train = scaler_y.inverse_transform(y_train.reshape(-1, 1))\n",
    "y_test = scaler_y.inverse_transform(y_test.reshape(-1, 1))"
   ]
  },
  {
   "cell_type": "code",
   "execution_count": 30,
   "metadata": {},
   "outputs": [
    {
     "data": {
      "image/png": "[encoded data removed]",
      "text/plain": [
       "<Figure size 1200x600 with 1 Axes>"
      ]
     },
     "metadata": {},
     "output_type": "display_data"
    }
   ],
   "source": [
    "# Plotando os resultados\n",
    "plt.figure(figsize=(12, 6))\n",
    "train_range = range(lookback, lookback + len(train_predict))\n",
    "test_range = range(lookback + len(train_predict), lookback + len(train_predict) + len(test_predict))\n",
    "plt.plot(train_range, y_train, label='Real de treino', color='green')\n",
    "plt.plot(test_range, y_test, label='Real de teste', color='green')\n",
    "plt.plot(train_range, train_predict, label='Previsões de treino')\n",
    "plt.plot(test_range, test_predict, label='Previsões de teste')\n",
    "plt.xlabel('Dias')\n",
    "plt.ylabel('Preço de Fechamento Normalizado')\n",
    "plt.legend()\n",
    "plt.show()"
   ]
  },
  {
   "cell_type": "code",
   "execution_count": 31,
   "metadata": {},
   "outputs": [],
   "source": [
    "from sklearn.metrics import mean_absolute_error, mean_squared_error, r2_score\n",
    "\n",
    "def regression_metrics(y_test, test_predict):\n",
    "    # Calculando MAE\n",
    "    mae = mean_absolute_error(y_test, test_predict)\n",
    "    \n",
    "    # Calculando MSE\n",
    "    mse = mean_squared_error(y_test, test_predict)\n",
    "    \n",
    "    # Calculando RMSE\n",
    "    rmse = np.sqrt(mse)\n",
    "    \n",
    "    # Calculando R²\n",
    "    r2 = r2_score(y_test, test_predict)\n",
    "    \n",
    "    # Exibindo os resultados\n",
    "    print(f'Mean Absolute Error (MAE): {mae}')\n",
    "    print(f'Mean Squared Error (MSE): {mse}')\n",
    "    print(f'Root Mean Squared Error (RMSE): {rmse}')\n",
    "    print(f'Coefficient of Determination (R²): {r2}')"
   ]
  },
  {
   "cell_type": "code",
   "execution_count": 32,
   "metadata": {},
   "outputs": [
    {
     "name": "stdout",
     "output_type": "stream",
     "text": [
      "Mean Absolute Error (MAE): 31.4720046895345\n",
      "Mean Squared Error (MSE): 1209.7000841176382\n",
      "Root Mean Squared Error (RMSE): 34.78074300698072\n",
      "Coefficient of Determination (R²): -0.013102927511079887\n"
     ]
    }
   ],
   "source": [
    "regression_metrics(y_test, test_predict)"
   ]
  },
  {
   "cell_type": "code",
   "execution_count": 33,
   "metadata": {},
   "outputs": [
    {
     "name": "stdout",
     "output_type": "stream",
     "text": [
      "Mean Absolute Error (MAE): 26.752941043352035\n",
      "Mean Squared Error (MSE): 2716.5441625730427\n",
      "Root Mean Squared Error (RMSE): 52.12047738243619\n",
      "Coefficient of Determination (R²): 0.9210556017272604\n"
     ]
    }
   ],
   "source": [
    "regression_metrics(y_train, train_predict)"
   ]
  },
  {
   "cell_type": "code",
   "execution_count": 34,
   "metadata": {},
   "outputs": [
    {
     "ename": "FileNotFoundError",
     "evalue": "[Errno 2] No such file or directory: 'clima_tempo.csv'",
     "output_type": "error",
     "traceback": [
      "\u001b[0;31m---------------------------------------------------------------------------\u001b[0m",
      "\u001b[0;31mFileNotFoundError\u001b[0m                         Traceback (most recent call last)",
      "Cell \u001b[0;32mIn[34], line 1\u001b[0m\n\u001b[0;32m----> 1\u001b[0m df \u001b[38;5;241m=\u001b[39m \u001b[43mpd\u001b[49m\u001b[38;5;241;43m.\u001b[39;49m\u001b[43mread_csv\u001b[49m\u001b[43m(\u001b[49m\u001b[38;5;124;43m'\u001b[39;49m\u001b[38;5;124;43mclima_tempo.csv\u001b[39;49m\u001b[38;5;124;43m'\u001b[39;49m\u001b[43m)\u001b[49m\n",
      "File \u001b[0;32m/Library/Frameworks/Python.framework/Versions/3.12/lib/python3.12/site-packages/pandas/io/parsers/readers.py:1026\u001b[0m, in \u001b[0;36mread_csv\u001b[0;34m(filepath_or_buffer, sep, delimiter, header, names, index_col, usecols, dtype, engine, converters, true_values, false_values, skipinitialspace, skiprows, skipfooter, nrows, na_values, keep_default_na, na_filter, verbose, skip_blank_lines, parse_dates, infer_datetime_format, keep_date_col, date_parser, date_format, dayfirst, cache_dates, iterator, chunksize, compression, thousands, decimal, lineterminator, quotechar, quoting, doublequote, escapechar, comment, encoding, encoding_errors, dialect, on_bad_lines, delim_whitespace, low_memory, memory_map, float_precision, storage_options, dtype_backend)\u001b[0m\n\u001b[1;32m   1013\u001b[0m kwds_defaults \u001b[38;5;241m=\u001b[39m _refine_defaults_read(\n\u001b[1;32m   1014\u001b[0m     dialect,\n\u001b[1;32m   1015\u001b[0m     delimiter,\n\u001b[0;32m   (...)\u001b[0m\n\u001b[1;32m   1022\u001b[0m     dtype_backend\u001b[38;5;241m=\u001b[39mdtype_backend,\n\u001b[1;32m   1023\u001b[0m )\n\u001b[1;32m   1024\u001b[0m kwds\u001b[38;5;241m.\u001b[39mupdate(kwds_defaults)\n\u001b[0;32m-> 1026\u001b[0m \u001b[38;5;28;01mreturn\u001b[39;00m \u001b[43m_read\u001b[49m\u001b[43m(\u001b[49m\u001b[43mfilepath_or_buffer\u001b[49m\u001b[43m,\u001b[49m\u001b[43m \u001b[49m\u001b[43mkwds\u001b[49m\u001b[43m)\u001b[49m\n",
      "File \u001b[0;32m/Library/Frameworks/Python.framework/Versions/3.12/lib/python3.12/site-packages/pandas/io/parsers/readers.py:620\u001b[0m, in \u001b[0;36m_read\u001b[0;34m(filepath_or_buffer, kwds)\u001b[0m\n\u001b[1;32m    617\u001b[0m _validate_names(kwds\u001b[38;5;241m.\u001b[39mget(\u001b[38;5;124m\"\u001b[39m\u001b[38;5;124mnames\u001b[39m\u001b[38;5;124m\"\u001b[39m, \u001b[38;5;28;01mNone\u001b[39;00m))\n\u001b[1;32m    619\u001b[0m \u001b[38;5;66;03m# Create the parser.\u001b[39;00m\n\u001b[0;32m--> 620\u001b[0m parser \u001b[38;5;241m=\u001b[39m \u001b[43mTextFileReader\u001b[49m\u001b[43m(\u001b[49m\u001b[43mfilepath_or_buffer\u001b[49m\u001b[43m,\u001b[49m\u001b[43m \u001b[49m\u001b[38;5;241;43m*\u001b[39;49m\u001b[38;5;241;43m*\u001b[39;49m\u001b[43mkwds\u001b[49m\u001b[43m)\u001b[49m\n\u001b[1;32m    622\u001b[0m \u001b[38;5;28;01mif\u001b[39;00m chunksize \u001b[38;5;129;01mor\u001b[39;00m iterator:\n\u001b[1;32m    623\u001b[0m     \u001b[38;5;28;01mreturn\u001b[39;00m parser\n",
      "File \u001b[0;32m/Library/Frameworks/Python.framework/Versions/3.12/lib/python3.12/site-packages/pandas/io/parsers/readers.py:1620\u001b[0m, in \u001b[0;36mTextFileReader.__init__\u001b[0;34m(self, f, engine, **kwds)\u001b[0m\n\u001b[1;32m   1617\u001b[0m     \u001b[38;5;28mself\u001b[39m\u001b[38;5;241m.\u001b[39moptions[\u001b[38;5;124m\"\u001b[39m\u001b[38;5;124mhas_index_names\u001b[39m\u001b[38;5;124m\"\u001b[39m] \u001b[38;5;241m=\u001b[39m kwds[\u001b[38;5;124m\"\u001b[39m\u001b[38;5;124mhas_index_names\u001b[39m\u001b[38;5;124m\"\u001b[39m]\n\u001b[1;32m   1619\u001b[0m \u001b[38;5;28mself\u001b[39m\u001b[38;5;241m.\u001b[39mhandles: IOHandles \u001b[38;5;241m|\u001b[39m \u001b[38;5;28;01mNone\u001b[39;00m \u001b[38;5;241m=\u001b[39m \u001b[38;5;28;01mNone\u001b[39;00m\n\u001b[0;32m-> 1620\u001b[0m \u001b[38;5;28mself\u001b[39m\u001b[38;5;241m.\u001b[39m_engine \u001b[38;5;241m=\u001b[39m \u001b[38;5;28;43mself\u001b[39;49m\u001b[38;5;241;43m.\u001b[39;49m\u001b[43m_make_engine\u001b[49m\u001b[43m(\u001b[49m\u001b[43mf\u001b[49m\u001b[43m,\u001b[49m\u001b[43m \u001b[49m\u001b[38;5;28;43mself\u001b[39;49m\u001b[38;5;241;43m.\u001b[39;49m\u001b[43mengine\u001b[49m\u001b[43m)\u001b[49m\n",
      "File \u001b[0;32m/Library/Frameworks/Python.framework/Versions/3.12/lib/python3.12/site-packages/pandas/io/parsers/readers.py:1880\u001b[0m, in \u001b[0;36mTextFileReader._make_engine\u001b[0;34m(self, f, engine)\u001b[0m\n\u001b[1;32m   1878\u001b[0m     \u001b[38;5;28;01mif\u001b[39;00m \u001b[38;5;124m\"\u001b[39m\u001b[38;5;124mb\u001b[39m\u001b[38;5;124m\"\u001b[39m \u001b[38;5;129;01mnot\u001b[39;00m \u001b[38;5;129;01min\u001b[39;00m mode:\n\u001b[1;32m   1879\u001b[0m         mode \u001b[38;5;241m+\u001b[39m\u001b[38;5;241m=\u001b[39m \u001b[38;5;124m\"\u001b[39m\u001b[38;5;124mb\u001b[39m\u001b[38;5;124m\"\u001b[39m\n\u001b[0;32m-> 1880\u001b[0m \u001b[38;5;28mself\u001b[39m\u001b[38;5;241m.\u001b[39mhandles \u001b[38;5;241m=\u001b[39m \u001b[43mget_handle\u001b[49m\u001b[43m(\u001b[49m\n\u001b[1;32m   1881\u001b[0m \u001b[43m    \u001b[49m\u001b[43mf\u001b[49m\u001b[43m,\u001b[49m\n\u001b[1;32m   1882\u001b[0m \u001b[43m    \u001b[49m\u001b[43mmode\u001b[49m\u001b[43m,\u001b[49m\n\u001b[1;32m   1883\u001b[0m \u001b[43m    \u001b[49m\u001b[43mencoding\u001b[49m\u001b[38;5;241;43m=\u001b[39;49m\u001b[38;5;28;43mself\u001b[39;49m\u001b[38;5;241;43m.\u001b[39;49m\u001b[43moptions\u001b[49m\u001b[38;5;241;43m.\u001b[39;49m\u001b[43mget\u001b[49m\u001b[43m(\u001b[49m\u001b[38;5;124;43m\"\u001b[39;49m\u001b[38;5;124;43mencoding\u001b[39;49m\u001b[38;5;124;43m\"\u001b[39;49m\u001b[43m,\u001b[49m\u001b[43m \u001b[49m\u001b[38;5;28;43;01mNone\u001b[39;49;00m\u001b[43m)\u001b[49m\u001b[43m,\u001b[49m\n\u001b[1;32m   1884\u001b[0m \u001b[43m    \u001b[49m\u001b[43mcompression\u001b[49m\u001b[38;5;241;43m=\u001b[39;49m\u001b[38;5;28;43mself\u001b[39;49m\u001b[38;5;241;43m.\u001b[39;49m\u001b[43moptions\u001b[49m\u001b[38;5;241;43m.\u001b[39;49m\u001b[43mget\u001b[49m\u001b[43m(\u001b[49m\u001b[38;5;124;43m\"\u001b[39;49m\u001b[38;5;124;43mcompression\u001b[39;49m\u001b[38;5;124;43m\"\u001b[39;49m\u001b[43m,\u001b[49m\u001b[43m \u001b[49m\u001b[38;5;28;43;01mNone\u001b[39;49;00m\u001b[43m)\u001b[49m\u001b[43m,\u001b[49m\n\u001b[1;32m   1885\u001b[0m \u001b[43m    \u001b[49m\u001b[43mmemory_map\u001b[49m\u001b[38;5;241;43m=\u001b[39;49m\u001b[38;5;28;43mself\u001b[39;49m\u001b[38;5;241;43m.\u001b[39;49m\u001b[43moptions\u001b[49m\u001b[38;5;241;43m.\u001b[39;49m\u001b[43mget\u001b[49m\u001b[43m(\u001b[49m\u001b[38;5;124;43m\"\u001b[39;49m\u001b[38;5;124;43mmemory_map\u001b[39;49m\u001b[38;5;124;43m\"\u001b[39;49m\u001b[43m,\u001b[49m\u001b[43m \u001b[49m\u001b[38;5;28;43;01mFalse\u001b[39;49;00m\u001b[43m)\u001b[49m\u001b[43m,\u001b[49m\n\u001b[1;32m   1886\u001b[0m \u001b[43m    \u001b[49m\u001b[43mis_text\u001b[49m\u001b[38;5;241;43m=\u001b[39;49m\u001b[43mis_text\u001b[49m\u001b[43m,\u001b[49m\n\u001b[1;32m   1887\u001b[0m \u001b[43m    \u001b[49m\u001b[43merrors\u001b[49m\u001b[38;5;241;43m=\u001b[39;49m\u001b[38;5;28;43mself\u001b[39;49m\u001b[38;5;241;43m.\u001b[39;49m\u001b[43moptions\u001b[49m\u001b[38;5;241;43m.\u001b[39;49m\u001b[43mget\u001b[49m\u001b[43m(\u001b[49m\u001b[38;5;124;43m\"\u001b[39;49m\u001b[38;5;124;43mencoding_errors\u001b[39;49m\u001b[38;5;124;43m\"\u001b[39;49m\u001b[43m,\u001b[49m\u001b[43m \u001b[49m\u001b[38;5;124;43m\"\u001b[39;49m\u001b[38;5;124;43mstrict\u001b[39;49m\u001b[38;5;124;43m\"\u001b[39;49m\u001b[43m)\u001b[49m\u001b[43m,\u001b[49m\n\u001b[1;32m   1888\u001b[0m \u001b[43m    \u001b[49m\u001b[43mstorage_options\u001b[49m\u001b[38;5;241;43m=\u001b[39;49m\u001b[38;5;28;43mself\u001b[39;49m\u001b[38;5;241;43m.\u001b[39;49m\u001b[43moptions\u001b[49m\u001b[38;5;241;43m.\u001b[39;49m\u001b[43mget\u001b[49m\u001b[43m(\u001b[49m\u001b[38;5;124;43m\"\u001b[39;49m\u001b[38;5;124;43mstorage_options\u001b[39;49m\u001b[38;5;124;43m\"\u001b[39;49m\u001b[43m,\u001b[49m\u001b[43m \u001b[49m\u001b[38;5;28;43;01mNone\u001b[39;49;00m\u001b[43m)\u001b[49m\u001b[43m,\u001b[49m\n\u001b[1;32m   1889\u001b[0m \u001b[43m\u001b[49m\u001b[43m)\u001b[49m\n\u001b[1;32m   1890\u001b[0m \u001b[38;5;28;01massert\u001b[39;00m \u001b[38;5;28mself\u001b[39m\u001b[38;5;241m.\u001b[39mhandles \u001b[38;5;129;01mis\u001b[39;00m \u001b[38;5;129;01mnot\u001b[39;00m \u001b[38;5;28;01mNone\u001b[39;00m\n\u001b[1;32m   1891\u001b[0m f \u001b[38;5;241m=\u001b[39m \u001b[38;5;28mself\u001b[39m\u001b[38;5;241m.\u001b[39mhandles\u001b[38;5;241m.\u001b[39mhandle\n",
      "File \u001b[0;32m/Library/Frameworks/Python.framework/Versions/3.12/lib/python3.12/site-packages/pandas/io/common.py:873\u001b[0m, in \u001b[0;36mget_handle\u001b[0;34m(path_or_buf, mode, encoding, compression, memory_map, is_text, errors, storage_options)\u001b[0m\n\u001b[1;32m    868\u001b[0m \u001b[38;5;28;01melif\u001b[39;00m \u001b[38;5;28misinstance\u001b[39m(handle, \u001b[38;5;28mstr\u001b[39m):\n\u001b[1;32m    869\u001b[0m     \u001b[38;5;66;03m# Check whether the filename is to be opened in binary mode.\u001b[39;00m\n\u001b[1;32m    870\u001b[0m     \u001b[38;5;66;03m# Binary mode does not support 'encoding' and 'newline'.\u001b[39;00m\n\u001b[1;32m    871\u001b[0m     \u001b[38;5;28;01mif\u001b[39;00m ioargs\u001b[38;5;241m.\u001b[39mencoding \u001b[38;5;129;01mand\u001b[39;00m \u001b[38;5;124m\"\u001b[39m\u001b[38;5;124mb\u001b[39m\u001b[38;5;124m\"\u001b[39m \u001b[38;5;129;01mnot\u001b[39;00m \u001b[38;5;129;01min\u001b[39;00m ioargs\u001b[38;5;241m.\u001b[39mmode:\n\u001b[1;32m    872\u001b[0m         \u001b[38;5;66;03m# Encoding\u001b[39;00m\n\u001b[0;32m--> 873\u001b[0m         handle \u001b[38;5;241m=\u001b[39m \u001b[38;5;28;43mopen\u001b[39;49m\u001b[43m(\u001b[49m\n\u001b[1;32m    874\u001b[0m \u001b[43m            \u001b[49m\u001b[43mhandle\u001b[49m\u001b[43m,\u001b[49m\n\u001b[1;32m    875\u001b[0m \u001b[43m            \u001b[49m\u001b[43mioargs\u001b[49m\u001b[38;5;241;43m.\u001b[39;49m\u001b[43mmode\u001b[49m\u001b[43m,\u001b[49m\n\u001b[1;32m    876\u001b[0m \u001b[43m            \u001b[49m\u001b[43mencoding\u001b[49m\u001b[38;5;241;43m=\u001b[39;49m\u001b[43mioargs\u001b[49m\u001b[38;5;241;43m.\u001b[39;49m\u001b[43mencoding\u001b[49m\u001b[43m,\u001b[49m\n\u001b[1;32m    877\u001b[0m \u001b[43m            \u001b[49m\u001b[43merrors\u001b[49m\u001b[38;5;241;43m=\u001b[39;49m\u001b[43merrors\u001b[49m\u001b[43m,\u001b[49m\n\u001b[1;32m    878\u001b[0m \u001b[43m            \u001b[49m\u001b[43mnewline\u001b[49m\u001b[38;5;241;43m=\u001b[39;49m\u001b[38;5;124;43m\"\u001b[39;49m\u001b[38;5;124;43m\"\u001b[39;49m\u001b[43m,\u001b[49m\n\u001b[1;32m    879\u001b[0m \u001b[43m        \u001b[49m\u001b[43m)\u001b[49m\n\u001b[1;32m    880\u001b[0m     \u001b[38;5;28;01melse\u001b[39;00m:\n\u001b[1;32m    881\u001b[0m         \u001b[38;5;66;03m# Binary mode\u001b[39;00m\n\u001b[1;32m    882\u001b[0m         handle \u001b[38;5;241m=\u001b[39m \u001b[38;5;28mopen\u001b[39m(handle, ioargs\u001b[38;5;241m.\u001b[39mmode)\n",
      "\u001b[0;31mFileNotFoundError\u001b[0m: [Errno 2] No such file or directory: 'clima_tempo.csv'"
     ]
    }
   ],
   "source": [
    "df = pd.read_csv('clima_tempo.csv')"
   ]
  },
  {
   "cell_type": "markdown",
   "metadata": {},
   "source": [
    "## Exercícios de Análise de Séries Temporais da temperatura da Índia\n",
    "\n",
    "1. **Leitura dos Dados**\n",
    "   - Leia a base de dados clima_tempo.csv.\n",
    "\n",
    "2. **Seleção dos Dados**\n",
    "   - Use todos os dados exceto a coluna de data (Mas antes coloque os dados em ordem crescente de data).\n",
    "\n",
    "3. **Definição de X e Y**\n",
    "   - Defina `X` e `y` considerando o valor dos últimos 10 dias para previsão.\n",
    "\n",
    "4. **Separação em Treinamento e Teste**\n",
    "   - Separe os dados em conjuntos de treinamento e teste, utilizando 15% das datas mais recentes para o conjunto de teste.\n",
    "\n",
    "5. **Normalização dos Dados de Treinamento**\n",
    "   - Normalize `X` e `y` de treinamento usando `fit_transform`.\n",
    "\n",
    "6. **Normalização dos Dados de Teste**\n",
    "   - Normalize `X` e `y` de teste usando `transform`.\n",
    "\n",
    "7. **Definição do Modelo**\n",
    "   - Defina uma estrutura de LSTM para o tratamento dos dados.\n",
    "\n",
    "8. **Treinamento do Modelo**\n",
    "   - Treine o modelo utilizando 5% dos dados de treinamento para validação.\n",
    "\n",
    "9. **Visualização do Histórico de Treinamento**\n",
    "   - Exiba o gráfico de perda (`loss`) de treinamento e validação.\n",
    "\n",
    "10. **Previsão com Dados de Teste**\n",
    "    - Faça previsões utilizando os dados de teste.\n",
    "\n",
    "11. **Desnormalização das Previsões**\n",
    "    - Desnormalize as previsões de teste e o `y` de teste para obter valores em escala real.\n",
    "\n",
    "12. **Exibir as Métricas de Regressão**\n",
    "    - Exiba as métricas de regressão para avaliar o desempenho do modelo nas previsões."
   ]
  },
  {
   "cell_type": "code",
   "execution_count": null,
   "metadata": {},
   "outputs": [],
   "source": [
    "df['date'] = pd.to_datetime(df['date'])"
   ]
  },
  {
   "cell_type": "code",
   "execution_count": null,
   "metadata": {},
   "outputs": [],
   "source": [
    "df = df.sort_values(by= 'date')"
   ]
  },
  {
   "cell_type": "code",
   "execution_count": null,
   "metadata": {},
   "outputs": [],
   "source": [
    "import numpy as np\n",
    "from sklearn.model_selection import train_test_split\n",
    "\n",
    "def create_lookback_data(df, lookback):\n",
    "    \"\"\"\n",
    "    Função para criar dados de entrada e saída para uma LSTM usando uma janela de lookback.\n",
    "    \n",
    "    Parâmetros:\n",
    "    df (DataFrame): DataFrame contendo os dados. A última coluna é a coluna alvo.\n",
    "    lookback (int): Número de dias para a janela de lookback.\n",
    "    \n",
    "    Retorna:\n",
    "    X (numpy array): Dados de entrada para a LSTM, de formato (n_amostras, lookback, n_features).\n",
    "    y (numpy array): Dados de saída/targets, de formato (n_amostras,).\n",
    "    \"\"\"\n",
    "    data = df.values\n",
    "    X, y = [], []\n",
    "    \n",
    "    for i in range(lookback, len(data)):\n",
    "        X.append(data[i - lookback:i, :-1])  # Todas as colunas exceto a última (características)\n",
    "        y.append(data[i, -1])                # Apenas a última coluna (alvo)\n",
    "    \n",
    "    return np.array(X), np.array(y)\n",
    "\n",
    "# Supondo que 'df' é o seu DataFrame já carregado e pré-processado\n",
    "lookback = 10  # Definindo a janela de lookback para 10 dias\n",
    "X, y = create_lookback_data(df, lookback)\n",
    "\n",
    "# Separando os conjuntos de treinamento e teste (15% para teste)\n",
    "test_size = 0.15\n",
    "X_train, X_test, y_train, y_test = train_test_split(X, y, test_size=test_size, shuffle=False)\n",
    "\n",
    "# Agora X_train, y_train, X_test e y_test estão prontos para serem usados no treinamento e teste do modelo.\n",
    "\n"
   ]
  },
  {
   "cell_type": "code",
   "execution_count": null,
   "metadata": {},
   "outputs": [],
   "source": [
    "# Supondo que 'df' é o seu DataFrame já carregado e pré-processado\n",
    "lookback = 10  # Definindo a janela de lookback para 10 dias\n",
    "X, y = create_lookback_data(df, lookback)\n"
   ]
  },
  {
   "cell_type": "code",
   "execution_count": null,
   "metadata": {},
   "outputs": [],
   "source": [
    "from sklearn.preprocessing import MinMaxScaler\n",
    "\n",
    "# Criando o objeto MinMaxScaler\n",
    "scaler = MinMaxScaler()\n",
    "\n",
    "# Normalizando os dados de treinamento\n",
    "# É importante ajustar o scaler apenas com os dados de treinamento para evitar vazamento de dados\n",
    "X_train_scaled = scaler.fit_transform(X_train.reshape(-1, X_train.shape[-1])).reshape(X_train.shape)\n",
    "y_train_scaled = scaler.fit_transform(y_train.reshape(-1, 1)).reshape(-1)\n",
    "\n",
    "# Agora X_train_scaled e y_train_scaled estão normalizados e prontos para serem usados no treinamento do modelo.\n"
   ]
  },
  {
   "cell_type": "code",
   "execution_count": null,
   "metadata": {},
   "outputs": [],
   "source": [
    "import tensorflow as tf\n",
    "from tensorflow.keras.models import Sequential\n",
    "from tensorflow.keras.layers import LSTM, Dense, Dropout\n",
    "from tensorflow.keras.regularizers import l2\n",
    "\n",
    "# Definindo a arquitetura do modelo LSTM\n",
    "model = Sequential()\n",
    "\n",
    "# Adicionando a primeira camada LSTM\n",
    "# 50 unidades, ativação tanh, com return_sequences=True para retornar todas as saídas da sequência\n",
    "# Aplicando regularização de kernel l2 para evitar overfitting\n",
    "# input_shape=(timesteps, features) - use a forma dos seus dados de entrada\n",
    "model.add(LSTM(units=50, activation='tanh', return_sequences=True, \n",
    "               kernel_regularizer=l2(0.01), input_shape=(X_train.shape[1], X_train.shape[2])))\n",
    "\n",
    "# Adicionando uma camada Dropout com taxa de 0.2 para evitar overfitting\n",
    "model.add(Dropout(0.2))\n",
    "\n",
    "# Adicionando a segunda camada LSTM\n",
    "# 50 unidades, ativação tanh, sem return_sequences porque é a última camada LSTM antes da camada densa\n",
    "# Aplicando regularização de kernel l2\n",
    "model.add(LSTM(units=50, activation='tanh', kernel_regularizer=l2(0.01)))\n",
    "\n",
    "# Adicionando uma segunda camada Dropout com taxa de 0.2 para regularização adicional\n",
    "model.add(Dropout(0.2))\n",
    "\n",
    "# Adicionando uma camada densa (fully connected) com 1 unidade para gerar a previsão final do modelo\n",
    "model.add(Dense(units=1))\n",
    "\n",
    "# Compilando o modelo com otimizador adam e função de perda mean_squared_error\n",
    "model.compile(optimizer='adam', loss='mean_squared_error')\n",
    "\n",
    "# Exibindo a arquitetura do modelo\n",
    "model.summary()"
   ]
  }
 ],
 "metadata": {
  "kernelspec": {
   "display_name": "base",
   "language": "python",
   "name": "python3"
  },
  "language_info": {
   "codemirror_mode": {
    "name": "ipython",
    "version": 3
   },
   "file_extension": ".py",
   "mimetype": "text/x-python",
   "name": "python",
   "nbconvert_exporter": "python",
   "pygments_lexer": "ipython3",
   "version": "3.12.3"
  }
 },
 "nbformat": 4,
 "nbformat_minor": 2
}
