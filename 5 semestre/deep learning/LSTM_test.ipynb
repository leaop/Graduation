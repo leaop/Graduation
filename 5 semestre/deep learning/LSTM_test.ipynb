{
 "cells": [
  {
   "cell_type": "code",
   "execution_count": 1,
   "metadata": {},
   "outputs": [],
   "source": [
    "import pandas as pd"
   ]
  },
  {
   "cell_type": "code",
   "execution_count": 3,
   "metadata": {},
   "outputs": [],
   "source": [
    "f = pd.read_excel('dados.xls')"
   ]
  },
  {
   "cell_type": "code",
   "execution_count": null,
   "metadata": {},
   "outputs": [],
   "source": [
    "num_dados_treino = floor(0.9*numel(f));\n",
    "num_dados_teste = numel(f) - num_dado_treino;\n",
    "\n",
    "%normalizando dados\n",
    "mu = mean(dados_treino);\n",
    "sig =  std(dados_treino);\n",
    "\n",
    "dados_treino_normalizado = (dados_treino - mu)/sig;\n",
    "\n",
    "%prepara as previsões\n",
    "X_treino = dados_treino_normalizados(1:end-1);\n",
    "Y_treino = dados_treino_normalizado(2:end);\n",
    "\n",
    "%LSTM\n",
    "\n",
    "numFeature = 1;\n",
    "numResponses = 1;\n",
    "numHiddenUnits = 200;\n",
    "\n",
    "layers [...\n",
    "        sequenceInputLayer(numFeatures)\n",
    "        lstmLayer(numHiddenUnits)\n",
    "        fullyConnectedLayer(numResponses)\n",
    "        regressionLayer];\n",
    "\n",
    "options = trainingOptions('rmsprop', ...\n",
    "    'MaxExpochs', 1000, ...\n",
    "    'GradientThreshold', 1, ...\n",
    "    'InitialLearnRate', 0.01, ...\n",
    "    'LearRateSchedule', 'piecewise', ...\n",
    "    'LearnRateDropPeriod', 125, ...\n",
    "    'LearnRateDropFactor', 0.2, ...\n",
    "    'Plots', 'Training-progress', ...\n",
    "    'Verbose', 0);\n",
    "\n",
    "net = trainNetwork(X_treino', Y_treino', layers.options);\n",
    "[net,Modelo] = predictAndUpdateState(net, X_treino');\n"
   ]
  }
 ],
 "metadata": {
  "kernelspec": {
   "display_name": "Python 3",
   "language": "python",
   "name": "python3"
  },
  "language_info": {
   "codemirror_mode": {
    "name": "ipython",
    "version": 3
   },
   "file_extension": ".py",
   "mimetype": "text/x-python",
   "name": "python",
   "nbconvert_exporter": "python",
   "pygments_lexer": "ipython3",
   "version": "3.11.8"
  }
 },
 "nbformat": 4,
 "nbformat_minor": 2
}
