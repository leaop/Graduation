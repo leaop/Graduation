{
 "cells": [
  {
   "cell_type": "code",
   "execution_count": 1,
   "metadata": {},
   "outputs": [],
   "source": [
    "# Nome aluno 1: Leão Pereira\n",
    "# RA aluno 1: 22200115\n",
    "\n",
    "# Nome aluno 2: João Gustavo\n",
    "# RA aluno 2: 22205171\n",
    "\n",
    "# Nome aluno 3: Hezio Silva\n",
    "# RA aluno 3: 22204407"
   ]
  },
  {
   "cell_type": "markdown",
   "metadata": {},
   "source": [
    "# **Instruções para a Prova**\n",
    "\n",
    "**Antes de iniciar, preencha o Nome e RA no bloco de código acima.**\n",
    "\n",
    "### **Envio da Prova por apenas 1 integrante do grupo no formulário** https://forms.gle/TM3Lb9Cia2tk64Gy6\n",
    "\n",
    "A prova deve ser realizada e enviada seguindo estas diretrizes:\n",
    "\n",
    "**Não renomei o arquivo. Deve ser enviado com o nome \"``Prova 1.ipynb``\"**\n",
    "\n",
    "1. **Composição do Grupo:**\n",
    "   - A prova pode ser realizada individualmente ou em grupos de até 3 integrantes.\n",
    "\n",
    "2. **Consultas:**\n",
    "   - É permitido consultar materiais das aulas anteriores e anotações próprias.\n",
    "\n",
    "3. **Integridade Acadêmica:**\n",
    "   - Será atribuída nota zero à prova de alunos que forem flagrados compartilhando código com outros grupos, utilizando o Google ou Chat GPT durante a prova.\n",
    "   - Alunos que enviarem prova de fraude acadêmica por outros grupos, mediante prova fotográfica enviada por e-mail, receberão nota máxima (SS). A identidade do informante será mantida em sigilo.\n",
    "\n",
    "4. **Intervalo:**\n",
    "   - Não haverá intervalos. Após a finalização da prova, o aluno estará livre para sair.\n",
    "\n",
    "5. **Entrega da Prova:**\n",
    "   - A prova deve ser entregue mantendo todos os blocos de markdown e de código originais, sem adicionar blocos adicionais. Blocos de código extras podem ser usados durante o desenvolvimento, mas a versão final deve conter apenas os blocos fornecidos inicialmente.\n",
    "   - Todas as saídas dos blocos de código devem ser mantidas no envio (Ex: As métricas e o Gráfico)\n",
    "\n",
    "6. **Atenção:**\n",
    "   - Respostas corretas colocadas nas seções erradas não serão consideradas. É essencial colocar cada resposta na seção correspondente à sua questão.\n",
    "\n",
    "**Boa sorte!**\n"
   ]
  },
  {
   "cell_type": "markdown",
   "metadata": {},
   "source": [
    "# Importe todas as bibliotecas no bloco de código abaixo\n",
    "- Cada bibliotecas importada e não utilizada irá reduzir meio ponto da nota.\n",
    "- Cada bibliotecas importada mais de uma vez irá reduzir meio ponto da nota.\n",
    "- Cada bibliotecas importada fora do bloco de código abaixo irá reduzir meio ponto da nota."
   ]
  },
  {
   "cell_type": "code",
   "execution_count": 73,
   "metadata": {},
   "outputs": [
    {
     "ename": "ImportError",
     "evalue": "cannot import name 'root_mean_squared_error' from 'sklearn.metrics' (C:\\Users\\LeaoN\\AppData\\Local\\Packages\\PythonSoftwareFoundation.Python.3.11_qbz5n2kfra8p0\\LocalCache\\local-packages\\Python311\\site-packages\\sklearn\\metrics\\__init__.py)",
     "output_type": "error",
     "traceback": [
      "\u001b[1;31m---------------------------------------------------------------------------\u001b[0m",
      "\u001b[1;31mImportError\u001b[0m                               Traceback (most recent call last)",
      "Cell \u001b[1;32mIn[73], line 11\u001b[0m\n\u001b[0;32m      9\u001b[0m \u001b[38;5;28;01mfrom\u001b[39;00m \u001b[38;5;21;01mtensorflow\u001b[39;00m\u001b[38;5;21;01m.\u001b[39;00m\u001b[38;5;21;01mkeras\u001b[39;00m\u001b[38;5;21;01m.\u001b[39;00m\u001b[38;5;21;01mcallbacks\u001b[39;00m \u001b[38;5;28;01mimport\u001b[39;00m EarlyStopping, ReduceLROnPlateau\n\u001b[0;32m     10\u001b[0m \u001b[38;5;28;01mimport\u001b[39;00m \u001b[38;5;21;01mmatplotlib\u001b[39;00m\u001b[38;5;21;01m.\u001b[39;00m\u001b[38;5;21;01mpyplot\u001b[39;00m \u001b[38;5;28;01mas\u001b[39;00m \u001b[38;5;21;01mplt\u001b[39;00m\n\u001b[1;32m---> 11\u001b[0m \u001b[38;5;28;01mfrom\u001b[39;00m \u001b[38;5;21;01msklearn\u001b[39;00m\u001b[38;5;21;01m.\u001b[39;00m\u001b[38;5;21;01mmetrics\u001b[39;00m \u001b[38;5;28;01mimport\u001b[39;00m mean_squared_error, mean_absolute_error, root_mean_squared_error\n\u001b[0;32m     12\u001b[0m \u001b[38;5;28;01mfrom\u001b[39;00m \u001b[38;5;21;01msklearn\u001b[39;00m\u001b[38;5;21;01m.\u001b[39;00m\u001b[38;5;21;01mpreprocessing\u001b[39;00m \u001b[38;5;28;01mimport\u001b[39;00m LabelEncoder\n\u001b[0;32m     13\u001b[0m \u001b[38;5;28;01mfrom\u001b[39;00m \u001b[38;5;21;01mtensorflow\u001b[39;00m\u001b[38;5;21;01m.\u001b[39;00m\u001b[38;5;21;01mkeras\u001b[39;00m\u001b[38;5;21;01m.\u001b[39;00m\u001b[38;5;21;01mutils\u001b[39;00m \u001b[38;5;28;01mimport\u001b[39;00m to_categorical\n",
      "\u001b[1;31mImportError\u001b[0m: cannot import name 'root_mean_squared_error' from 'sklearn.metrics' (C:\\Users\\LeaoN\\AppData\\Local\\Packages\\PythonSoftwareFoundation.Python.3.11_qbz5n2kfra8p0\\LocalCache\\local-packages\\Python311\\site-packages\\sklearn\\metrics\\__init__.py)"
     ]
    }
   ],
   "source": [
    "# Importe as bibliotecas neste bloco de código\n",
    "import pandas as pd\n",
    "import numpy as np\n",
    "from sklearn.model_selection import train_test_split\n",
    "from sklearn.preprocessing import StandardScaler, MinMaxScaler\n",
    "from tensorflow.keras.models import Sequential\n",
    "from tensorflow.keras.layers import Dense\n",
    "from tensorflow.keras.optimizers import RMSprop\n",
    "from tensorflow.keras.callbacks import EarlyStopping, ReduceLROnPlateau\n",
    "import matplotlib.pyplot as plt\n",
    "from sklearn.metrics import mean_squared_error, mean_absolute_error\n",
    "from sklearn.preprocessing import LabelEncoder\n",
    "from tensorflow.keras.utils import to_categorical\n",
    "from tensorflow.keras.optimizers import Adam"
   ]
  },
  {
   "cell_type": "markdown",
   "metadata": {},
   "source": [
    "# 1 - Leia a base 'dados_corretor_imoveis.csv' e faça o tratamento de dados descrito abaixo:"
   ]
  },
  {
   "cell_type": "code",
   "execution_count": 17,
   "metadata": {},
   "outputs": [],
   "source": [
    "# 1 - Desenvolva o Código aqui!\n",
    "imoveis = pd.read_csv('dados_corretor_imoveis.csv')"
   ]
  },
  {
   "cell_type": "code",
   "execution_count": 18,
   "metadata": {},
   "outputs": [
    {
     "data": {
      "text/plain": [
       "status        object\n",
       "quartos      float64\n",
       "banheiros    float64\n",
       "area_lote    float64\n",
       "estado        object\n",
       "area_casa    float64\n",
       "valor        float64\n",
       "dtype: object"
      ]
     },
     "execution_count": 18,
     "metadata": {},
     "output_type": "execute_result"
    }
   ],
   "source": [
    "imoveis.dtypes"
   ]
  },
  {
   "cell_type": "markdown",
   "metadata": {},
   "source": [
    "- A - Crie uma coluna chamada \"vendido\" com valor `0` se o valor de status for `for_sale` e `1` se for `sold`. (apague a coluna status)\n",
    "\n"
   ]
  },
  {
   "cell_type": "code",
   "execution_count": 19,
   "metadata": {},
   "outputs": [
    {
     "data": {
      "text/plain": [
       "2"
      ]
     },
     "execution_count": 19,
     "metadata": {},
     "output_type": "execute_result"
    }
   ],
   "source": [
    "# A - Desenvolva o Código aqui!\n",
    "imoveis['status'].nunique()"
   ]
  },
  {
   "cell_type": "code",
   "execution_count": 20,
   "metadata": {},
   "outputs": [],
   "source": [
    "imoveis['vendido']=imoveis.loc[imoveis['status'] == 'for_sale', 'status'] = 0\n",
    "imoveis['vendido']=imoveis.loc[imoveis['status'] == 'sold', 'status'] = 1"
   ]
  },
  {
   "cell_type": "code",
   "execution_count": 21,
   "metadata": {},
   "outputs": [],
   "source": [
    "imoveis = imoveis.drop(['status'], axis = 1)"
   ]
  },
  {
   "cell_type": "markdown",
   "metadata": {},
   "source": [
    "- B - Tire todas as casas decimais das colunas numéricas\n",
    "\n"
   ]
  },
  {
   "cell_type": "code",
   "execution_count": 22,
   "metadata": {},
   "outputs": [
    {
     "name": "stdout",
     "output_type": "stream",
     "text": [
      "   quartos  banheiros  area_lote       estado  area_casa   valor  vendido\n",
      "0        3          2        485  Puerto Rico         85  105000        1\n",
      "1        4          2        323  Puerto Rico        141   80000        1\n",
      "2        2          1        607  Puerto Rico         69   67000        1\n",
      "3        4          2        404  Puerto Rico        167  145000        1\n",
      "4        4          3       1861  Puerto Rico        234  179000        1\n"
     ]
    }
   ],
   "source": [
    "# B - Desenvolva o Código aqui!\n",
    "# B - Desenvolva o Código aqui!\n",
    "colunas_numericas = imoveis.select_dtypes(include=['float64', 'float32']).columns\n",
    "\n",
    "# Agora, vamos converter essas colunas para inteiros, removendo as casas decimais\n",
    "for coluna in colunas_numericas:\n",
    "    imoveis[coluna] = imoveis[coluna].astype(int)\n",
    "\n",
    "# Verifique o resultado\n",
    "print(imoveis.head())"
   ]
  },
  {
   "cell_type": "markdown",
   "metadata": {},
   "source": [
    "- C - Crie uma coluna binária (0 ou 1) para cada um dos 10 estados mais frequentes na \"coluna \", identifique primeiramente os 10 estados com maior número de ocorrências. Em seguida, para cada um desses estados, crie uma nova coluna no DataFrame, nomeando-a com o nome do estado, e atribua o valor 1 se a casa estiver nesse estado e 0 caso contrário. Casas localizadas fora desses 10 estados devem ter o valor 0 em todas essas novas colunas. Finalize removendo a coluna \"estado\" do DataFrame."
   ]
  },
  {
   "cell_type": "code",
   "execution_count": 23,
   "metadata": {},
   "outputs": [
    {
     "name": "stdout",
     "output_type": "stream",
     "text": [
      "   quartos  banheiros  area_lote  area_casa   valor  vendido  California  \\\n",
      "0        3          2        485         85  105000        1           0   \n",
      "1        4          2        323        141   80000        1           0   \n",
      "2        2          1        607         69   67000        1           0   \n",
      "3        4          2        404        167  145000        1           0   \n",
      "4        4          3       1861        234  179000        1           0   \n",
      "\n",
      "   Texas  Florida  Arizona  Pennsylvania  New York  Georgia  Illinois  \\\n",
      "0      0        0        0             0         0        0         0   \n",
      "1      0        0        0             0         0        0         0   \n",
      "2      0        0        0             0         0        0         0   \n",
      "3      0        0        0             0         0        0         0   \n",
      "4      0        0        0             0         0        0         0   \n",
      "\n",
      "   Washington  Virginia  \n",
      "0           0         0  \n",
      "1           0         0  \n",
      "2           0         0  \n",
      "3           0         0  \n",
      "4           0         0  \n"
     ]
    }
   ],
   "source": [
    "# C - Desenvolva o Código aqui!\n",
    "# Identificar os 10 estados mais frequentes\n",
    "estados_mais_frequentes = imoveis['estado'].value_counts().head(10).index\n",
    "\n",
    "# Colunas binárias para cada um dos 10 estados mais frequentes\n",
    "for estado in estados_mais_frequentes:\n",
    "    imoveis[estado] = imoveis['estado'].apply(lambda x: 1 if x == estado else 0)\n",
    "\n",
    "# Remover a coluna 'estado'\n",
    "imoveis.drop('estado', axis=1, inplace=True)\n",
    "\n",
    "print(imoveis.head())"
   ]
  },
  {
   "cell_type": "markdown",
   "metadata": {},
   "source": [
    "- D - Separe os dados em X (os atributos) e y (a coluna valor)\n",
    "\n"
   ]
  },
  {
   "cell_type": "code",
   "execution_count": 24,
   "metadata": {},
   "outputs": [],
   "source": [
    "# D - Desenvolva o Código aqui!\n",
    "X = imoveis.drop(['valor'], axis = 1)\n",
    "y = imoveis[['valor']]\n"
   ]
  },
  {
   "cell_type": "markdown",
   "metadata": {},
   "source": [
    "- E - Separe os dados em treinamento (30%), validação (20%) e teste (50%)."
   ]
  },
  {
   "cell_type": "code",
   "execution_count": 25,
   "metadata": {},
   "outputs": [],
   "source": [
    "# E - Desenvolva o Código aqui!\n",
    "X_train, X_temp, Y_train, Y_temp = train_test_split(X, y, test_size=0.5, random_state=42)\n",
    "X_val, X_test, Y_val, Y_test = train_test_split(X_temp, Y_temp, test_size=0.4, random_state=42)\n"
   ]
  },
  {
   "cell_type": "markdown",
   "metadata": {},
   "source": [
    "- F - Normalize  os dados com Standard Scale"
   ]
  },
  {
   "cell_type": "code",
   "execution_count": 26,
   "metadata": {},
   "outputs": [],
   "source": [
    "# F - Desenvolva o Código aqui!\n",
    "scaler_features = StandardScaler()\n",
    "\n",
    "# Fit no conjunto de treinamento\n",
    "scaler_features.fit(X_train)\n",
    "\n",
    "# Transformar os conjuntos de dados\n",
    "X_train_scaled = scaler_features.transform(X_train)\n",
    "X_val_scaled = scaler_features.transform(X_val)\n",
    "X_test_scaled = scaler_features.transform(X_test)\n",
    "\n",
    "# Normalização dos dados de saída (y) para Regressão\n",
    "scaler_reg = StandardScaler()\n",
    "y_train_scaled = scaler_reg.fit_transform(Y_train)\n",
    "y_val_scaled = scaler_reg.transform(Y_val)\n",
    "y_test_scaled = scaler_reg.transform(Y_test)"
   ]
  },
  {
   "cell_type": "markdown",
   "metadata": {},
   "source": [
    "# 2 Defina e compile um modelo para prever o valor com as seguintes caracterìsticas:\n",
    "- Para o modelo:\n",
    "    - Tenha 5 camadas ocultas, respectivamente com 128, 64, 32, 16 e 8 neurônios;\n",
    "    - Use a função de ativaçao Tangente Hiperbólica nas camadas ocultas;\n",
    "- Para a compilação do modelo:\n",
    "    - O Otimizador rmsprop;\n",
    "    - O loss adequado para o tipo de previsão;\n",
    "    - A métrica de erro médio absoluto;\n",
    "- Chame o modelo de \"`model_1`\";"
   ]
  },
  {
   "cell_type": "code",
   "execution_count": 27,
   "metadata": {},
   "outputs": [
    {
     "name": "stdout",
     "output_type": "stream",
     "text": [
      "Model: \"sequential_1\"\n",
      "_________________________________________________________________\n",
      " Layer (type)                Output Shape              Param #   \n",
      "=================================================================\n",
      " dense_6 (Dense)             (None, 128)               2048      \n",
      "                                                                 \n",
      " dense_7 (Dense)             (None, 64)                8256      \n",
      "                                                                 \n",
      " dense_8 (Dense)             (None, 32)                2080      \n",
      "                                                                 \n",
      " dense_9 (Dense)             (None, 16)                528       \n",
      "                                                                 \n",
      " dense_10 (Dense)            (None, 8)                 136       \n",
      "                                                                 \n",
      " dense_11 (Dense)            (None, 1)                 9         \n",
      "                                                                 \n",
      "=================================================================\n",
      "Total params: 13057 (51.00 KB)\n",
      "Trainable params: 13057 (51.00 KB)\n",
      "Non-trainable params: 0 (0.00 Byte)\n",
      "_________________________________________________________________\n"
     ]
    }
   ],
   "source": [
    "# 2 - Desenvolva o Código aqui!from tensorflow.keras.models import Sequential\n",
    "\n",
    "# Modelo sequencial\n",
    "model_1 = Sequential()\n",
    "\n",
    "# Camadas ocultas com a função de ativação Tangente Hiperbólica\n",
    "model_1.add(Dense(128, activation='tanh', input_shape=(X_train_scaled.shape[1],)))\n",
    "model_1.add(Dense(64, activation='tanh'))\n",
    "model_1.add(Dense(32, activation='tanh'))\n",
    "model_1.add(Dense(16, activation='tanh'))\n",
    "model_1.add(Dense(8, activation='tanh'))\n",
    "# Camada de saída\n",
    "model_1.add(Dense(1))\n",
    "\n",
    "# Compilação o modelo com o otimizador RMSprop\n",
    "model_1.compile(optimizer=RMSprop(), loss='mean_squared_error', metrics=['mean_absolute_error'])\n",
    "\n",
    "# Resumo do modelo\n",
    "model_1.summary()"
   ]
  },
  {
   "cell_type": "markdown",
   "metadata": {},
   "source": [
    "# 3 - Treinamento do modelo:\n",
    "- Defina os callbacks:\n",
    "    - para reduzir a taxa de aprendizado com fator de 0.3, paciência de 3 e valor mínimo para 0.000001, monitorando o loss de validação;\n",
    "    - Parada antecipada do modelo se ficar 10 épocas sem melhorar o loss de validação\n",
    "- Treine o modelo por 20 épocas;\n",
    "- Passe 256 amostras por vez na rede;\n",
    "- Use os dados de validação;\n",
    "- Use os calbacks definidos;\n",
    "- Coloque para mostrar as épocas dutante o treinamento;\n",
    "- Salve os dados históricos do treinamento para posterior análise."
   ]
  },
  {
   "cell_type": "code",
   "execution_count": 28,
   "metadata": {},
   "outputs": [
    {
     "name": "stdout",
     "output_type": "stream",
     "text": [
      "Epoch 1/20\n",
      "2658/2658 [==============================] - 6s 2ms/step - loss: 0.9438 - mean_absolute_error: 0.0963 - val_loss: 0.0916 - val_mean_absolute_error: 0.0932 - lr: 0.0010\n",
      "Epoch 2/20\n",
      "2658/2658 [==============================] - 6s 2ms/step - loss: 0.9380 - mean_absolute_error: 0.0919 - val_loss: 0.0874 - val_mean_absolute_error: 0.0860 - lr: 0.0010\n",
      "Epoch 3/20\n",
      "2658/2658 [==============================] - 6s 2ms/step - loss: 0.9360 - mean_absolute_error: 0.0914 - val_loss: 0.0898 - val_mean_absolute_error: 0.1039 - lr: 0.0010\n",
      "Epoch 4/20\n",
      "2658/2658 [==============================] - 6s 2ms/step - loss: 0.9352 - mean_absolute_error: 0.0918 - val_loss: 0.0868 - val_mean_absolute_error: 0.0907 - lr: 0.0010\n",
      "Epoch 5/20\n",
      "2658/2658 [==============================] - 6s 2ms/step - loss: 0.9344 - mean_absolute_error: 0.0917 - val_loss: 0.0868 - val_mean_absolute_error: 0.0860 - lr: 0.0010\n",
      "Epoch 6/20\n",
      "2658/2658 [==============================] - 6s 2ms/step - loss: 0.9338 - mean_absolute_error: 0.0914 - val_loss: 0.0884 - val_mean_absolute_error: 0.0913 - lr: 0.0010\n",
      "Epoch 7/20\n",
      "2649/2658 [============================>.] - ETA: 0s - loss: 0.9370 - mean_absolute_error: 0.0909\n",
      "Epoch 7: ReduceLROnPlateau reducing learning rate to 0.0003000000142492354.\n",
      "2658/2658 [==============================] - 7s 3ms/step - loss: 0.9341 - mean_absolute_error: 0.0909 - val_loss: 0.0879 - val_mean_absolute_error: 0.0924 - lr: 0.0010\n",
      "Epoch 8/20\n",
      "2658/2658 [==============================] - 7s 2ms/step - loss: 0.9303 - mean_absolute_error: 0.0869 - val_loss: 0.0830 - val_mean_absolute_error: 0.0864 - lr: 3.0000e-04\n",
      "Epoch 9/20\n",
      "2658/2658 [==============================] - 6s 2ms/step - loss: 0.9296 - mean_absolute_error: 0.0870 - val_loss: 0.0840 - val_mean_absolute_error: 0.0863 - lr: 3.0000e-04\n",
      "Epoch 10/20\n",
      "2658/2658 [==============================] - 7s 3ms/step - loss: 0.9295 - mean_absolute_error: 0.0871 - val_loss: 0.0830 - val_mean_absolute_error: 0.0871 - lr: 3.0000e-04\n",
      "Epoch 11/20\n",
      "2646/2658 [============================>.] - ETA: 0s - loss: 0.9335 - mean_absolute_error: 0.0871\n",
      "Epoch 11: ReduceLROnPlateau reducing learning rate to 9.000000427477062e-05.\n",
      "2658/2658 [==============================] - 6s 2ms/step - loss: 0.9296 - mean_absolute_error: 0.0871 - val_loss: 0.0836 - val_mean_absolute_error: 0.0899 - lr: 3.0000e-04\n",
      "Epoch 12/20\n",
      "2658/2658 [==============================] - 7s 3ms/step - loss: 0.9285 - mean_absolute_error: 0.0858 - val_loss: 0.0817 - val_mean_absolute_error: 0.0854 - lr: 9.0000e-05\n",
      "Epoch 13/20\n",
      "2658/2658 [==============================] - 6s 2ms/step - loss: 0.9281 - mean_absolute_error: 0.0858 - val_loss: 0.0818 - val_mean_absolute_error: 0.0854 - lr: 9.0000e-05\n",
      "Epoch 14/20\n",
      "2658/2658 [==============================] - 7s 3ms/step - loss: 0.9281 - mean_absolute_error: 0.0858 - val_loss: 0.0829 - val_mean_absolute_error: 0.0849 - lr: 9.0000e-05\n",
      "Epoch 15/20\n",
      "2645/2658 [============================>.] - ETA: 0s - loss: 0.9322 - mean_absolute_error: 0.0858\n",
      "Epoch 15: ReduceLROnPlateau reducing learning rate to 2.700000040931627e-05.\n",
      "2658/2658 [==============================] - 7s 3ms/step - loss: 0.9280 - mean_absolute_error: 0.0858 - val_loss: 0.0823 - val_mean_absolute_error: 0.0856 - lr: 9.0000e-05\n",
      "Epoch 16/20\n",
      "2658/2658 [==============================] - 7s 2ms/step - loss: 0.9278 - mean_absolute_error: 0.0853 - val_loss: 0.0818 - val_mean_absolute_error: 0.0842 - lr: 2.7000e-05\n",
      "Epoch 17/20\n",
      "2658/2658 [==============================] - 7s 3ms/step - loss: 0.9276 - mean_absolute_error: 0.0853 - val_loss: 0.0816 - val_mean_absolute_error: 0.0847 - lr: 2.7000e-05\n",
      "Epoch 18/20\n",
      "2658/2658 [==============================] - 7s 3ms/step - loss: 0.9275 - mean_absolute_error: 0.0853 - val_loss: 0.0816 - val_mean_absolute_error: 0.0842 - lr: 2.7000e-05\n",
      "Epoch 19/20\n",
      "2658/2658 [==============================] - 7s 3ms/step - loss: 0.9276 - mean_absolute_error: 0.0853 - val_loss: 0.0816 - val_mean_absolute_error: 0.0843 - lr: 2.7000e-05\n",
      "Epoch 20/20\n",
      "2635/2658 [============================>.] - ETA: 0s - loss: 0.9350 - mean_absolute_error: 0.0854\n",
      "Epoch 20: ReduceLROnPlateau reducing learning rate to 8.100000013655517e-06.\n",
      "2658/2658 [==============================] - 7s 3ms/step - loss: 0.9275 - mean_absolute_error: 0.0853 - val_loss: 0.0816 - val_mean_absolute_error: 0.0843 - lr: 2.7000e-05\n"
     ]
    }
   ],
   "source": [
    "# 3 - Desenvolva o Código aqui!\n",
    "# Callback para reduzir a taxa de aprendizado\n",
    "reduce_lr = ReduceLROnPlateau(monitor='val_loss', factor=0.3, patience=3, min_lr=0.000001, verbose=1)\n",
    "\n",
    "# Callback para parada antecipada\n",
    "early_stopping = EarlyStopping(monitor='val_loss', patience=10, verbose=1)\n",
    "\n",
    "# Definir os callbacks na lista\n",
    "callbacks_list = [reduce_lr, early_stopping]\n",
    "\n",
    "# Treinar o modelo\n",
    "history = model_1.fit(\n",
    "    X_train_scaled, y_train_scaled,\n",
    "    epochs=20,\n",
    "    batch_size=256,\n",
    "    validation_data=(X_val_scaled, y_val_scaled),\n",
    "    callbacks=callbacks_list,\n",
    "    verbose=1\n",
    ")"
   ]
  },
  {
   "cell_type": "markdown",
   "metadata": {},
   "source": [
    "# 4 - Exiba os valores de loss e erro médio absoluto de validação e treinamento ao longo das épocas."
   ]
  },
  {
   "cell_type": "code",
   "execution_count": 29,
   "metadata": {},
   "outputs": [
    {
     "data": {
      "image/png": "[encoded data removed]",
      "text/plain": [
       "<Figure size 1400x500 with 2 Axes>"
      ]
     },
     "metadata": {},
     "output_type": "display_data"
    }
   ],
   "source": [
    "# 4 - Desenvolva o Código aqui!\n",
    "# Plotar o loss de treinamento e validação\n",
    "plt.figure(figsize=(14, 5))\n",
    "\n",
    "# Loss de treinamento\n",
    "plt.subplot(1, 2, 1)\n",
    "plt.plot(history.history['loss'], label='Loss de Treinamento')\n",
    "plt.plot(history.history['val_loss'], label='Loss de Validação')\n",
    "plt.title('Loss ao Longo das Épocas')\n",
    "plt.xlabel('Épocas')\n",
    "plt.ylabel('Loss')\n",
    "plt.legend()\n",
    "\n",
    "# Erro médio absoluto (MAE) de treinamento e validação\n",
    "plt.subplot(1, 2, 2)\n",
    "plt.plot(history.history['mean_absolute_error'], label='MAE de Treinamento')\n",
    "plt.plot(history.history['val_mean_absolute_error'], label='MAE de Validação')\n",
    "plt.title('Erro Médio Absoluto (MAE) ao Longo das Épocas')\n",
    "plt.xlabel('Épocas')\n",
    "plt.ylabel('MAE')\n",
    "plt.legend()\n",
    "\n",
    "plt.show()\n"
   ]
  },
  {
   "cell_type": "markdown",
   "metadata": {},
   "source": [
    "# 5 - Calcule o MSE, RMSE e MAE para os dados de teste. \n",
    "- Adeque os valores para que as métricas sejam geradas com os valores reais. "
   ]
  },
  {
   "cell_type": "code",
   "execution_count": 75,
   "metadata": {},
   "outputs": [
    {
     "name": "stdout",
     "output_type": "stream",
     "text": [
      "8505/8505 [==============================] - 8s 987us/step\n",
      "MSE: 693245979291.2477\n",
      "MAE: 244450.11040107216\n",
      "RMSE: 832613.9437285733\n"
     ]
    }
   ],
   "source": [
    "# Avaliando o modelo no conjunto de teste\n",
    "y_pred = model_1.predict(X_test_scaled)\n",
    "\n",
    "# Desnormalizando as previsões e os valores de y_test\n",
    "y_pred_desnorm = scaler_reg.inverse_transform(y_pred)\n",
    "y_test_desnorm = scaler_reg.inverse_transform(y_test_scaled)\n",
    "\n",
    "# Calculando métricas de regressão com os dados desnormalizados\n",
    "mse = mean_squared_error(y_test_desnorm, y_pred_desnorm)\n",
    "mae = mean_absolute_error(y_test_desnorm, y_pred_desnorm)\n",
    "rmse = np.sqrt(mse)\n",
    "\n",
    "print(f'MSE: {mse}')\n",
    "print(f'MAE: {mae}')\n",
    "print(f'RMSE: {rmse}')\n"
   ]
  },
  {
   "cell_type": "markdown",
   "metadata": {},
   "source": [
    "# Extra Valendo 1 ponto:\n",
    "- Crie um gráfico comparando os valores reais e valores preditos;\n",
    "- Para o gráfico ficar viável, utilize apenas as primeiras 200 amostras;\n",
    "- Para melhorar a visualização do gráfico, coloque os dados em ordem crescente pelo valor real."
   ]
  },
  {
   "cell_type": "code",
   "execution_count": 77,
   "metadata": {},
   "outputs": [
    {
     "data": {
      "image/png": "[encoded data removed]",
      "text/plain": [
       "<Figure size 1000x600 with 1 Axes>"
      ]
     },
     "metadata": {},
     "output_type": "display_data"
    }
   ],
   "source": [
    "# Desenvolva o Código aqui!\n",
    "\n",
    "# Criando um DataFrame com os valores preditos e reais\n",
    "df_results = pd.DataFrame({'Valores Reais': y_test_desnorm.flatten(), 'Valores Preditos': y_pred_desnorm.flatten()})\n",
    "df_results = df_results.sample(frac=1, random_state=70)\n",
    "df_results = df_results[:500]\n",
    "# Ordenando o DataFrame pelos valores reais\n",
    "df_results_sorted = df_results.sort_values('Valores Reais').reset_index(drop=True)\n",
    "\n",
    "# Plotando os valores reais e os preditos\n",
    "plt.figure(figsize=(10, 6))\n",
    "plt.plot(df_results_sorted.index, df_results_sorted['Valores Reais'], label='Valores Reais', color='blue')\n",
    "plt.plot(df_results_sorted.index, df_results_sorted['Valores Preditos'], label='Valores Preditos', color='red', linestyle='--')\n",
    "plt.title('Comparação entre Valores Reais e Preditos')\n",
    "plt.ylabel('Valor')\n",
    "plt.legend()\n",
    "plt.show()"
   ]
  },
  {
   "cell_type": "markdown",
   "metadata": {},
   "source": [
    "# 6 - Leia a base de dados metaverse_transactions_dataset.csv e faça o tratamento de dados abaixo:\n"
   ]
  },
  {
   "cell_type": "code",
   "execution_count": 57,
   "metadata": {},
   "outputs": [
    {
     "data": {
      "text/html": [
       "<div>\n",
       "<style scoped>\n",
       "    .dataframe tbody tr th:only-of-type {\n",
       "        vertical-align: middle;\n",
       "    }\n",
       "\n",
       "    .dataframe tbody tr th {\n",
       "        vertical-align: top;\n",
       "    }\n",
       "\n",
       "    .dataframe thead th {\n",
       "        text-align: right;\n",
       "    }\n",
       "</style>\n",
       "<table border=\"1\" class=\"dataframe\">\n",
       "  <thead>\n",
       "    <tr style=\"text-align: right;\">\n",
       "      <th></th>\n",
       "      <th>timestamp</th>\n",
       "      <th>hour_of_day</th>\n",
       "      <th>sending_address</th>\n",
       "      <th>receiving_address</th>\n",
       "      <th>amount</th>\n",
       "      <th>transaction_type</th>\n",
       "      <th>location_region</th>\n",
       "      <th>ip_prefix</th>\n",
       "      <th>login_frequency</th>\n",
       "      <th>session_duration</th>\n",
       "      <th>purchase_pattern</th>\n",
       "      <th>age_group</th>\n",
       "      <th>risk_score</th>\n",
       "      <th>anomaly</th>\n",
       "    </tr>\n",
       "  </thead>\n",
       "  <tbody>\n",
       "    <tr>\n",
       "      <th>0</th>\n",
       "      <td>2022-04-11 12:47:27</td>\n",
       "      <td>12</td>\n",
       "      <td>0x9d32d0bf2c00f41ce7ca01b66e174cc4dcb0c1da</td>\n",
       "      <td>0x39f82e1c09bc6d7baccc1e79e5621ff812f50572</td>\n",
       "      <td>796.949206</td>\n",
       "      <td>transfer</td>\n",
       "      <td>Europe</td>\n",
       "      <td>192.000</td>\n",
       "      <td>3</td>\n",
       "      <td>48</td>\n",
       "      <td>focused</td>\n",
       "      <td>established</td>\n",
       "      <td>18.75</td>\n",
       "      <td>low_risk</td>\n",
       "    </tr>\n",
       "    <tr>\n",
       "      <th>1</th>\n",
       "      <td>2022-06-14 19:12:46</td>\n",
       "      <td>19</td>\n",
       "      <td>0xd6e251c23cbf52dbd472f079147873e655d8096f</td>\n",
       "      <td>0x51e8fbe24f124e0e30a614e14401b9bbfed5384c</td>\n",
       "      <td>0.010000</td>\n",
       "      <td>purchase</td>\n",
       "      <td>South America</td>\n",
       "      <td>172.000</td>\n",
       "      <td>5</td>\n",
       "      <td>61</td>\n",
       "      <td>focused</td>\n",
       "      <td>established</td>\n",
       "      <td>25.00</td>\n",
       "      <td>low_risk</td>\n",
       "    </tr>\n",
       "    <tr>\n",
       "      <th>2</th>\n",
       "      <td>2022-01-18 16:26:59</td>\n",
       "      <td>16</td>\n",
       "      <td>0x2e0925b922fed01f6a85d213ae2718f54b8ca305</td>\n",
       "      <td>0x52c7911879f783d590af45bda0c0ef2b8536706f</td>\n",
       "      <td>778.197390</td>\n",
       "      <td>purchase</td>\n",
       "      <td>Asia</td>\n",
       "      <td>192.168</td>\n",
       "      <td>3</td>\n",
       "      <td>74</td>\n",
       "      <td>focused</td>\n",
       "      <td>established</td>\n",
       "      <td>31.25</td>\n",
       "      <td>low_risk</td>\n",
       "    </tr>\n",
       "    <tr>\n",
       "      <th>3</th>\n",
       "      <td>2022-06-15 09:20:04</td>\n",
       "      <td>9</td>\n",
       "      <td>0x93efefc25fcaf31d7695f28018d7a11ece55457f</td>\n",
       "      <td>0x8ac3b7bd531b3a833032f07d4e47c7af6ea7bace</td>\n",
       "      <td>300.838358</td>\n",
       "      <td>transfer</td>\n",
       "      <td>South America</td>\n",
       "      <td>172.000</td>\n",
       "      <td>8</td>\n",
       "      <td>111</td>\n",
       "      <td>high_value</td>\n",
       "      <td>veteran</td>\n",
       "      <td>36.75</td>\n",
       "      <td>low_risk</td>\n",
       "    </tr>\n",
       "    <tr>\n",
       "      <th>4</th>\n",
       "      <td>2022-02-18 14:35:30</td>\n",
       "      <td>14</td>\n",
       "      <td>0xad3b8de45d63f5cce28aef9a82cf30c397c6ceb9</td>\n",
       "      <td>0x6fdc047c2391615b3facd79b4588c7e9106e49f2</td>\n",
       "      <td>775.569344</td>\n",
       "      <td>sale</td>\n",
       "      <td>Africa</td>\n",
       "      <td>172.160</td>\n",
       "      <td>6</td>\n",
       "      <td>100</td>\n",
       "      <td>high_value</td>\n",
       "      <td>veteran</td>\n",
       "      <td>62.50</td>\n",
       "      <td>moderate_risk</td>\n",
       "    </tr>\n",
       "  </tbody>\n",
       "</table>\n",
       "</div>"
      ],
      "text/plain": [
       "             timestamp  hour_of_day  \\\n",
       "0  2022-04-11 12:47:27           12   \n",
       "1  2022-06-14 19:12:46           19   \n",
       "2  2022-01-18 16:26:59           16   \n",
       "3  2022-06-15 09:20:04            9   \n",
       "4  2022-02-18 14:35:30           14   \n",
       "\n",
       "                              sending_address  \\\n",
       "0  0x9d32d0bf2c00f41ce7ca01b66e174cc4dcb0c1da   \n",
       "1  0xd6e251c23cbf52dbd472f079147873e655d8096f   \n",
       "2  0x2e0925b922fed01f6a85d213ae2718f54b8ca305   \n",
       "3  0x93efefc25fcaf31d7695f28018d7a11ece55457f   \n",
       "4  0xad3b8de45d63f5cce28aef9a82cf30c397c6ceb9   \n",
       "\n",
       "                            receiving_address      amount transaction_type  \\\n",
       "0  0x39f82e1c09bc6d7baccc1e79e5621ff812f50572  796.949206         transfer   \n",
       "1  0x51e8fbe24f124e0e30a614e14401b9bbfed5384c    0.010000         purchase   \n",
       "2  0x52c7911879f783d590af45bda0c0ef2b8536706f  778.197390         purchase   \n",
       "3  0x8ac3b7bd531b3a833032f07d4e47c7af6ea7bace  300.838358         transfer   \n",
       "4  0x6fdc047c2391615b3facd79b4588c7e9106e49f2  775.569344             sale   \n",
       "\n",
       "  location_region  ip_prefix  login_frequency  session_duration  \\\n",
       "0          Europe    192.000                3                48   \n",
       "1   South America    172.000                5                61   \n",
       "2            Asia    192.168                3                74   \n",
       "3   South America    172.000                8               111   \n",
       "4          Africa    172.160                6               100   \n",
       "\n",
       "  purchase_pattern    age_group  risk_score        anomaly  \n",
       "0          focused  established       18.75       low_risk  \n",
       "1          focused  established       25.00       low_risk  \n",
       "2          focused  established       31.25       low_risk  \n",
       "3       high_value      veteran       36.75       low_risk  \n",
       "4       high_value      veteran       62.50  moderate_risk  "
      ]
     },
     "execution_count": 57,
     "metadata": {},
     "output_type": "execute_result"
    }
   ],
   "source": [
    "# 6 - Desenvolva o Código aqui!\n",
    "dfMetaverse = pd.read_csv('metaverse_transactions_dataset.csv')\n",
    "\n",
    "dfMetaverse.head() "
   ]
  },
  {
   "cell_type": "markdown",
   "metadata": {},
   "source": [
    "- A - Apague as colunas timestamp, sending_address, receiving_address e purchase_pattern\n"
   ]
  },
  {
   "cell_type": "code",
   "execution_count": 58,
   "metadata": {},
   "outputs": [],
   "source": [
    "# A - Desenvolva o Código aqui!\n",
    "dfMetaverse.drop(['timestamp','sending_address', 'receiving_address', 'purchase_pattern'], axis = 1, inplace = True)"
   ]
  },
  {
   "cell_type": "markdown",
   "metadata": {},
   "source": [
    "- B - Transforme as colunas location_region e ip_prefix, com get dummies ou one_hot _encoder (ou com o loc) de forma a criar uma coluna binária para cada possível valor. Por fim apague as colunas originais (se ainda existirem)\n"
   ]
  },
  {
   "cell_type": "code",
   "execution_count": 59,
   "metadata": {},
   "outputs": [],
   "source": [
    "# B - Desenvolva o Código aqui!\n",
    "dfMetaverse = pd.get_dummies(dfMetaverse, columns=['location_region', 'ip_prefix'])\n",
    "\n",
    "# fazendo dessa forma já foi apagado as originais, por isso n fiz um drop"
   ]
  },
  {
   "cell_type": "markdown",
   "metadata": {},
   "source": [
    "- C - Transforme a coluna age_group em numérica transformando os valores new para 0, established para 1 e veteran 22\n"
   ]
  },
  {
   "cell_type": "code",
   "execution_count": 60,
   "metadata": {},
   "outputs": [],
   "source": [
    "# C - Desenvolva o Código aqui!\n",
    "\n",
    "mapping = {'new': 0, 'established': 1, 'veteran': 2}\n",
    "dfMetaverse['age_group'] = dfMetaverse['age_group'].map(mapping)"
   ]
  },
  {
   "cell_type": "markdown",
   "metadata": {},
   "source": [
    "- D - Transforme a coluna anomaly em numérica transformando os valores low_risk para 0, moderate_risk para 1 e high_risk 2"
   ]
  },
  {
   "cell_type": "code",
   "execution_count": 61,
   "metadata": {},
   "outputs": [],
   "source": [
    "# D - Desenvolva o Código aqui!\n",
    "\n",
    "mapping = {'low_risk': 0, 'moderate_risk': 1, 'high_risk': 2}\n",
    "dfMetaverse['anomaly'] = dfMetaverse['anomaly'].map(mapping)\n"
   ]
  },
  {
   "cell_type": "markdown",
   "metadata": {},
   "source": [
    "- E - Separe os dados em X e y (transaction_type)"
   ]
  },
  {
   "cell_type": "code",
   "execution_count": 62,
   "metadata": {},
   "outputs": [],
   "source": [
    "# E - Desenvolva o Código aqui!\n",
    "\n",
    "X = dfMetaverse.drop(columns=['transaction_type'])\n",
    "y = dfMetaverse['transaction_type']"
   ]
  },
  {
   "cell_type": "markdown",
   "metadata": {},
   "source": [
    "- F - Separe os dados em treinamento (70%), validação (15%) e teste (15%)"
   ]
  },
  {
   "cell_type": "code",
   "execution_count": 63,
   "metadata": {},
   "outputs": [],
   "source": [
    "# F - Desenvolva o Código aqui!\n",
    "from sklearn.model_selection import train_test_split\n",
    "\n",
    "X_train, X_temp, y_train, y_temp = train_test_split(X, y, test_size=0.3, random_state=42)\n",
    "\n",
    "X_val, X_test, y_val, y_test = train_test_split(X_temp, y_temp, test_size=0.5, random_state=42)"
   ]
  },
  {
   "cell_type": "markdown",
   "metadata": {},
   "source": [
    "- G - Normalize os dados com MinMaxScaler"
   ]
  },
  {
   "cell_type": "code",
   "execution_count": 64,
   "metadata": {},
   "outputs": [],
   "source": [
    "# G - Desenvolva o Código aqui!\n",
    "\n",
    "# Normaliza os dados de X\n",
    "scaler_x = MinMaxScaler()\n",
    "X_train = scaler_x.fit_transform(X_train)\n",
    "X_val = scaler_x.transform(X_val)\n",
    "X_test = scaler_x.transform(X_test)\n"
   ]
  },
  {
   "cell_type": "markdown",
   "metadata": {},
   "source": [
    "- H - Transforme os dados de y para se adequar a uma classificação multiclasse "
   ]
  },
  {
   "cell_type": "code",
   "execution_count": 65,
   "metadata": {},
   "outputs": [],
   "source": [
    "# H - Desenvolva o Código aqui!\n",
    "\n",
    "# Converter rótulos de classe para inteiros\n",
    "label_encoder = LabelEncoder()\n",
    "y_train_encoded = label_encoder.fit_transform(y_train)\n",
    "y_val_encoded = label_encoder.transform(y_val)\n",
    "y_test_encoded = label_encoder.transform(y_test)\n",
    "\n",
    "num_classes = len(label_encoder.classes_)\n",
    "y_train_one_hot = to_categorical(y_train_encoded, num_classes=num_classes)\n",
    "y_val_one_hot = to_categorical(y_val_encoded, num_classes=num_classes)\n",
    "y_test_one_hot = to_categorical(y_test_encoded, num_classes=num_classes)"
   ]
  },
  {
   "cell_type": "markdown",
   "metadata": {},
   "source": [
    "# 7 Defina e compile um modelo para prever o tipo da transação com as seguintes características:\n",
    "- Para o modelo:\n",
    "    - Tenha 6 camadas ocultas, respectivamente com 64, 64, 64, 32, 16 e 8 neurônios;\n",
    "    - Use a função de ativaçao relu nas camadas ocultas;\n",
    "- Para a compilação do modelo:\n",
    "    - O Otimizador adam;\n",
    "    - O loss adequado para o tipo de previsão;\n",
    "    - A métrica de acurácia;\n",
    "- Chame o modelo de \"`model_2`\";"
   ]
  },
  {
   "cell_type": "code",
   "execution_count": 66,
   "metadata": {},
   "outputs": [],
   "source": [
    "# 7 - Desenvolva o Código aqui!\n",
    "\n",
    "input_dim = X_train.shape[1]\n",
    "\n",
    "model_2 = Sequential()\n",
    "\n",
    "model_2.add(Dense(64, activation='relu', input_shape=(input_dim,)))\n",
    "model_2.add(Dense(64, activation='relu'))\n",
    "model_2.add(Dense(64, activation='relu'))\n",
    "model_2.add(Dense(32, activation='relu'))\n",
    "model_2.add(Dense(16, activation='relu'))\n",
    "model_2.add(Dense(8, activation='relu'))\n",
    "model_2.add(Dense(5, activation='softmax'))\n",
    "\n",
    "model_2.compile(optimizer=Adam(), loss='categorical_crossentropy', metrics=['accuracy'])\n"
   ]
  },
  {
   "cell_type": "markdown",
   "metadata": {},
   "source": [
    "# 8 - Treinamento do modelo:\n",
    "- Defina os callbacks:\n",
    "    - para reduzir a taxa de aprendizado com fator de 0.35, paciência de 4 e valor mínimo para 0.00001, monitorando a acurácia de validação;\n",
    "    - Parada antecipada do modelo se ficar 15 épocas sem melhorar o loss de validação\n",
    "- Treine o modelo por 150 épocas;\n",
    "- Passe 128 amostras por vez na rede;\n",
    "- Use os dados de validação;\n",
    "- Use os calbacks definidos;\n",
    "- Coloque para mostrar as épocas dutante o treinamento;\n",
    "- Salve os dados históricos do treinamento para posterior análise."
   ]
  },
  {
   "cell_type": "code",
   "execution_count": 67,
   "metadata": {},
   "outputs": [
    {
     "name": "stdout",
     "output_type": "stream",
     "text": [
      "Epoch 1/150\n",
      "430/430 [==============================] - 2s 2ms/step - loss: 0.4796 - accuracy: 0.7899 - val_loss: 0.1730 - val_accuracy: 0.9163 - lr: 0.0010\n",
      "Epoch 2/150\n",
      "430/430 [==============================] - 1s 2ms/step - loss: 0.1583 - accuracy: 0.9242 - val_loss: 0.1434 - val_accuracy: 0.9304 - lr: 0.0010\n",
      "Epoch 3/150\n",
      "430/430 [==============================] - 1s 2ms/step - loss: 0.1385 - accuracy: 0.9330 - val_loss: 0.1345 - val_accuracy: 0.9334 - lr: 0.0010\n",
      "Epoch 4/150\n",
      "430/430 [==============================] - 1s 2ms/step - loss: 0.1286 - accuracy: 0.9380 - val_loss: 0.1304 - val_accuracy: 0.9313 - lr: 0.0010\n",
      "Epoch 5/150\n",
      "430/430 [==============================] - 1s 2ms/step - loss: 0.1192 - accuracy: 0.9433 - val_loss: 0.1278 - val_accuracy: 0.9355 - lr: 0.0010\n",
      "Epoch 6/150\n",
      "430/430 [==============================] - 1s 2ms/step - loss: 0.1160 - accuracy: 0.9444 - val_loss: 0.1148 - val_accuracy: 0.9461 - lr: 0.0010\n",
      "Epoch 7/150\n",
      "430/430 [==============================] - 1s 2ms/step - loss: 0.1048 - accuracy: 0.9505 - val_loss: 0.1337 - val_accuracy: 0.9282 - lr: 0.0010\n",
      "Epoch 8/150\n",
      "430/430 [==============================] - 1s 2ms/step - loss: 0.1039 - accuracy: 0.9510 - val_loss: 0.1026 - val_accuracy: 0.9478 - lr: 0.0010\n",
      "Epoch 9/150\n",
      "430/430 [==============================] - 1s 2ms/step - loss: 0.1005 - accuracy: 0.9519 - val_loss: 0.0893 - val_accuracy: 0.9567 - lr: 0.0010\n",
      "Epoch 10/150\n",
      "430/430 [==============================] - 1s 2ms/step - loss: 0.0943 - accuracy: 0.9549 - val_loss: 0.0829 - val_accuracy: 0.9574 - lr: 0.0010\n",
      "Epoch 11/150\n",
      "430/430 [==============================] - 1s 2ms/step - loss: 0.0873 - accuracy: 0.9600 - val_loss: 0.0786 - val_accuracy: 0.9648 - lr: 0.0010\n",
      "Epoch 12/150\n",
      "430/430 [==============================] - 1s 2ms/step - loss: 0.0773 - accuracy: 0.9638 - val_loss: 0.0770 - val_accuracy: 0.9642 - lr: 0.0010\n",
      "Epoch 13/150\n",
      "430/430 [==============================] - 1s 2ms/step - loss: 0.0736 - accuracy: 0.9665 - val_loss: 0.0606 - val_accuracy: 0.9701 - lr: 0.0010\n",
      "Epoch 14/150\n",
      "430/430 [==============================] - 1s 2ms/step - loss: 0.0735 - accuracy: 0.9653 - val_loss: 0.0714 - val_accuracy: 0.9652 - lr: 0.0010\n",
      "Epoch 15/150\n",
      "430/430 [==============================] - 1s 2ms/step - loss: 0.0659 - accuracy: 0.9681 - val_loss: 0.0593 - val_accuracy: 0.9716 - lr: 0.0010\n",
      "Epoch 16/150\n",
      "430/430 [==============================] - 1s 2ms/step - loss: 0.0666 - accuracy: 0.9681 - val_loss: 0.0650 - val_accuracy: 0.9691 - lr: 0.0010\n",
      "Epoch 17/150\n",
      "430/430 [==============================] - 1s 2ms/step - loss: 0.0578 - accuracy: 0.9713 - val_loss: 0.0600 - val_accuracy: 0.9723 - lr: 0.0010\n",
      "Epoch 18/150\n",
      "430/430 [==============================] - 1s 2ms/step - loss: 0.0594 - accuracy: 0.9712 - val_loss: 0.0557 - val_accuracy: 0.9706 - lr: 0.0010\n",
      "Epoch 19/150\n",
      "430/430 [==============================] - 1s 2ms/step - loss: 0.0548 - accuracy: 0.9722 - val_loss: 0.0544 - val_accuracy: 0.9707 - lr: 0.0010\n",
      "Epoch 20/150\n",
      "430/430 [==============================] - 1s 2ms/step - loss: 0.0595 - accuracy: 0.9716 - val_loss: 0.0661 - val_accuracy: 0.9697 - lr: 0.0010\n",
      "Epoch 21/150\n",
      "430/430 [==============================] - 1s 2ms/step - loss: 0.0541 - accuracy: 0.9734 - val_loss: 0.0476 - val_accuracy: 0.9743 - lr: 0.0010\n",
      "Epoch 22/150\n",
      "430/430 [==============================] - 1s 2ms/step - loss: 0.0524 - accuracy: 0.9740 - val_loss: 0.0511 - val_accuracy: 0.9729 - lr: 0.0010\n",
      "Epoch 23/150\n",
      "430/430 [==============================] - 1s 2ms/step - loss: 0.0546 - accuracy: 0.9738 - val_loss: 0.0504 - val_accuracy: 0.9749 - lr: 0.0010\n",
      "Epoch 24/150\n",
      "430/430 [==============================] - 1s 2ms/step - loss: 0.0479 - accuracy: 0.9759 - val_loss: 0.0433 - val_accuracy: 0.9768 - lr: 0.0010\n",
      "Epoch 25/150\n",
      "430/430 [==============================] - 1s 2ms/step - loss: 0.0480 - accuracy: 0.9757 - val_loss: 0.0485 - val_accuracy: 0.9767 - lr: 0.0010\n",
      "Epoch 26/150\n",
      "430/430 [==============================] - 1s 2ms/step - loss: 0.0467 - accuracy: 0.9763 - val_loss: 0.0430 - val_accuracy: 0.9769 - lr: 0.0010\n",
      "Epoch 27/150\n",
      "430/430 [==============================] - 1s 2ms/step - loss: 0.0444 - accuracy: 0.9771 - val_loss: 0.0399 - val_accuracy: 0.9810 - lr: 0.0010\n",
      "Epoch 28/150\n",
      "430/430 [==============================] - 1s 2ms/step - loss: 0.0392 - accuracy: 0.9793 - val_loss: 0.0397 - val_accuracy: 0.9804 - lr: 0.0010\n",
      "Epoch 29/150\n",
      "430/430 [==============================] - 1s 2ms/step - loss: 0.0422 - accuracy: 0.9790 - val_loss: 0.0437 - val_accuracy: 0.9783 - lr: 0.0010\n",
      "Epoch 30/150\n",
      "430/430 [==============================] - 1s 2ms/step - loss: 0.0421 - accuracy: 0.9788 - val_loss: 0.0499 - val_accuracy: 0.9780 - lr: 0.0010\n",
      "Epoch 31/150\n",
      "430/430 [==============================] - 1s 2ms/step - loss: 0.0389 - accuracy: 0.9798 - val_loss: 0.0368 - val_accuracy: 0.9794 - lr: 0.0010\n",
      "Epoch 32/150\n",
      "430/430 [==============================] - 1s 2ms/step - loss: 0.0382 - accuracy: 0.9800 - val_loss: 0.0412 - val_accuracy: 0.9802 - lr: 0.0010\n",
      "Epoch 33/150\n",
      "430/430 [==============================] - 1s 2ms/step - loss: 0.0368 - accuracy: 0.9804 - val_loss: 0.0365 - val_accuracy: 0.9822 - lr: 0.0010\n",
      "Epoch 34/150\n",
      "430/430 [==============================] - 1s 2ms/step - loss: 0.0375 - accuracy: 0.9804 - val_loss: 0.0337 - val_accuracy: 0.9817 - lr: 0.0010\n",
      "Epoch 35/150\n",
      "430/430 [==============================] - 1s 2ms/step - loss: 0.0333 - accuracy: 0.9819 - val_loss: 0.0322 - val_accuracy: 0.9816 - lr: 0.0010\n",
      "Epoch 36/150\n",
      "430/430 [==============================] - 1s 2ms/step - loss: 0.0370 - accuracy: 0.9814 - val_loss: 0.0311 - val_accuracy: 0.9833 - lr: 0.0010\n",
      "Epoch 37/150\n",
      "430/430 [==============================] - 1s 2ms/step - loss: 0.0311 - accuracy: 0.9826 - val_loss: 0.0302 - val_accuracy: 0.9834 - lr: 0.0010\n",
      "Epoch 38/150\n",
      "430/430 [==============================] - 1s 2ms/step - loss: 0.0336 - accuracy: 0.9821 - val_loss: 0.0320 - val_accuracy: 0.9828 - lr: 0.0010\n",
      "Epoch 39/150\n",
      "430/430 [==============================] - 1s 2ms/step - loss: 0.0333 - accuracy: 0.9820 - val_loss: 0.0287 - val_accuracy: 0.9833 - lr: 0.0010\n",
      "Epoch 40/150\n",
      "430/430 [==============================] - 1s 2ms/step - loss: 0.0311 - accuracy: 0.9830 - val_loss: 0.0368 - val_accuracy: 0.9824 - lr: 0.0010\n",
      "Epoch 41/150\n",
      "430/430 [==============================] - 1s 2ms/step - loss: 0.0323 - accuracy: 0.9824 - val_loss: 0.0321 - val_accuracy: 0.9823 - lr: 0.0010\n",
      "Epoch 42/150\n",
      "430/430 [==============================] - 1s 3ms/step - loss: 0.0359 - accuracy: 0.9810 - val_loss: 0.0351 - val_accuracy: 0.9822 - lr: 0.0010\n",
      "Epoch 43/150\n",
      "430/430 [==============================] - 1s 2ms/step - loss: 0.0326 - accuracy: 0.9824 - val_loss: 0.0285 - val_accuracy: 0.9845 - lr: 0.0010\n",
      "Epoch 44/150\n",
      "430/430 [==============================] - 1s 2ms/step - loss: 0.0320 - accuracy: 0.9829 - val_loss: 0.0322 - val_accuracy: 0.9813 - lr: 0.0010\n",
      "Epoch 45/150\n",
      "430/430 [==============================] - 1s 2ms/step - loss: 0.0290 - accuracy: 0.9835 - val_loss: 0.0286 - val_accuracy: 0.9842 - lr: 0.0010\n",
      "Epoch 46/150\n",
      "430/430 [==============================] - 1s 2ms/step - loss: 0.0337 - accuracy: 0.9824 - val_loss: 0.0306 - val_accuracy: 0.9841 - lr: 0.0010\n",
      "Epoch 47/150\n",
      "430/430 [==============================] - 1s 2ms/step - loss: 0.0306 - accuracy: 0.9828 - val_loss: 0.0323 - val_accuracy: 0.9828 - lr: 0.0010\n",
      "Epoch 48/150\n",
      "430/430 [==============================] - 1s 2ms/step - loss: 0.0293 - accuracy: 0.9842 - val_loss: 0.0288 - val_accuracy: 0.9800 - lr: 0.0010\n",
      "Epoch 49/150\n",
      "430/430 [==============================] - 1s 2ms/step - loss: 0.0325 - accuracy: 0.9826 - val_loss: 0.0705 - val_accuracy: 0.9753 - lr: 0.0010\n",
      "Epoch 50/150\n",
      "430/430 [==============================] - 1s 2ms/step - loss: 0.0353 - accuracy: 0.9821 - val_loss: 0.0272 - val_accuracy: 0.9852 - lr: 0.0010\n",
      "Epoch 51/150\n",
      "430/430 [==============================] - 1s 3ms/step - loss: 0.0289 - accuracy: 0.9841 - val_loss: 0.0425 - val_accuracy: 0.9797 - lr: 0.0010\n",
      "Epoch 52/150\n",
      "430/430 [==============================] - 1s 3ms/step - loss: 0.0277 - accuracy: 0.9843 - val_loss: 0.0288 - val_accuracy: 0.9830 - lr: 0.0010\n",
      "Epoch 53/150\n",
      "430/430 [==============================] - 1s 3ms/step - loss: 0.0290 - accuracy: 0.9842 - val_loss: 0.0473 - val_accuracy: 0.9780 - lr: 0.0010\n",
      "Epoch 54/150\n",
      "430/430 [==============================] - 1s 2ms/step - loss: 0.0321 - accuracy: 0.9828 - val_loss: 0.0290 - val_accuracy: 0.9846 - lr: 0.0010\n",
      "Epoch 55/150\n",
      "430/430 [==============================] - 1s 2ms/step - loss: 0.0281 - accuracy: 0.9845 - val_loss: 0.0442 - val_accuracy: 0.9808 - lr: 0.0010\n",
      "Epoch 56/150\n",
      "430/430 [==============================] - 1s 3ms/step - loss: 0.0341 - accuracy: 0.9832 - val_loss: 0.0284 - val_accuracy: 0.9841 - lr: 0.0010\n",
      "Epoch 57/150\n",
      "430/430 [==============================] - 2s 4ms/step - loss: 0.0270 - accuracy: 0.9848 - val_loss: 0.0267 - val_accuracy: 0.9850 - lr: 0.0010\n",
      "Epoch 58/150\n",
      "430/430 [==============================] - 2s 5ms/step - loss: 0.0345 - accuracy: 0.9828 - val_loss: 0.0262 - val_accuracy: 0.9846 - lr: 0.0010\n",
      "Epoch 59/150\n",
      "430/430 [==============================] - 2s 5ms/step - loss: 0.0263 - accuracy: 0.9852 - val_loss: 0.0272 - val_accuracy: 0.9851 - lr: 0.0010\n",
      "Epoch 60/150\n",
      "430/430 [==============================] - 2s 4ms/step - loss: 0.0354 - accuracy: 0.9829 - val_loss: 0.0265 - val_accuracy: 0.9835 - lr: 0.0010\n",
      "Epoch 61/150\n",
      "430/430 [==============================] - 1s 3ms/step - loss: 0.0251 - accuracy: 0.9858 - val_loss: 0.0252 - val_accuracy: 0.9859 - lr: 3.5000e-04\n",
      "Epoch 62/150\n",
      "430/430 [==============================] - 1s 3ms/step - loss: 0.0249 - accuracy: 0.9857 - val_loss: 0.0253 - val_accuracy: 0.9862 - lr: 3.5000e-04\n",
      "Epoch 63/150\n",
      "430/430 [==============================] - 1s 3ms/step - loss: 0.0248 - accuracy: 0.9859 - val_loss: 0.0252 - val_accuracy: 0.9858 - lr: 3.5000e-04\n",
      "Epoch 64/150\n",
      "430/430 [==============================] - 1s 3ms/step - loss: 0.0248 - accuracy: 0.9858 - val_loss: 0.0250 - val_accuracy: 0.9857 - lr: 3.5000e-04\n",
      "Epoch 65/150\n",
      "430/430 [==============================] - 1s 2ms/step - loss: 0.0251 - accuracy: 0.9859 - val_loss: 0.0253 - val_accuracy: 0.9856 - lr: 3.5000e-04\n",
      "Epoch 66/150\n",
      "430/430 [==============================] - 1s 3ms/step - loss: 0.0249 - accuracy: 0.9859 - val_loss: 0.0256 - val_accuracy: 0.9851 - lr: 3.5000e-04\n",
      "Epoch 67/150\n",
      "430/430 [==============================] - 1s 2ms/step - loss: 0.0249 - accuracy: 0.9859 - val_loss: 0.0253 - val_accuracy: 0.9858 - lr: 3.5000e-04\n",
      "Epoch 68/150\n",
      "430/430 [==============================] - 1s 2ms/step - loss: 0.0262 - accuracy: 0.9854 - val_loss: 0.0254 - val_accuracy: 0.9858 - lr: 3.5000e-04\n",
      "Epoch 69/150\n",
      "430/430 [==============================] - 1s 3ms/step - loss: 0.0250 - accuracy: 0.9858 - val_loss: 0.0248 - val_accuracy: 0.9861 - lr: 3.5000e-04\n",
      "Epoch 70/150\n",
      "430/430 [==============================] - 1s 2ms/step - loss: 0.0246 - accuracy: 0.9863 - val_loss: 0.0289 - val_accuracy: 0.9841 - lr: 3.5000e-04\n",
      "Epoch 71/150\n",
      "430/430 [==============================] - 1s 2ms/step - loss: 0.0269 - accuracy: 0.9855 - val_loss: 0.0254 - val_accuracy: 0.9859 - lr: 3.5000e-04\n",
      "Epoch 72/150\n",
      "430/430 [==============================] - 1s 2ms/step - loss: 0.0244 - accuracy: 0.9860 - val_loss: 0.0249 - val_accuracy: 0.9862 - lr: 3.5000e-04\n",
      "Epoch 73/150\n",
      "430/430 [==============================] - 1s 3ms/step - loss: 0.0241 - accuracy: 0.9863 - val_loss: 0.0249 - val_accuracy: 0.9862 - lr: 1.2250e-04\n",
      "Epoch 74/150\n",
      "430/430 [==============================] - 1s 3ms/step - loss: 0.0239 - accuracy: 0.9866 - val_loss: 0.0252 - val_accuracy: 0.9860 - lr: 1.2250e-04\n",
      "Epoch 75/150\n",
      "430/430 [==============================] - 1s 2ms/step - loss: 0.0239 - accuracy: 0.9863 - val_loss: 0.0248 - val_accuracy: 0.9858 - lr: 1.2250e-04\n",
      "Epoch 76/150\n",
      "430/430 [==============================] - 1s 3ms/step - loss: 0.0239 - accuracy: 0.9864 - val_loss: 0.0254 - val_accuracy: 0.9855 - lr: 1.2250e-04\n",
      "Epoch 77/150\n",
      "430/430 [==============================] - 1s 3ms/step - loss: 0.0239 - accuracy: 0.9864 - val_loss: 0.0257 - val_accuracy: 0.9853 - lr: 1.2250e-04\n",
      "Epoch 78/150\n",
      "430/430 [==============================] - 1s 3ms/step - loss: 0.0239 - accuracy: 0.9864 - val_loss: 0.0253 - val_accuracy: 0.9856 - lr: 1.2250e-04\n",
      "Epoch 79/150\n",
      "430/430 [==============================] - 1s 2ms/step - loss: 0.0238 - accuracy: 0.9863 - val_loss: 0.0255 - val_accuracy: 0.9857 - lr: 1.2250e-04\n",
      "Epoch 80/150\n",
      "430/430 [==============================] - 1s 2ms/step - loss: 0.0239 - accuracy: 0.9864 - val_loss: 0.0259 - val_accuracy: 0.9854 - lr: 1.2250e-04\n",
      "Epoch 81/150\n",
      "430/430 [==============================] - 1s 3ms/step - loss: 0.0237 - accuracy: 0.9865 - val_loss: 0.0250 - val_accuracy: 0.9863 - lr: 1.2250e-04\n",
      "Epoch 82/150\n",
      "430/430 [==============================] - 1s 2ms/step - loss: 0.0239 - accuracy: 0.9864 - val_loss: 0.0254 - val_accuracy: 0.9859 - lr: 1.2250e-04\n",
      "Epoch 83/150\n",
      "430/430 [==============================] - 1s 2ms/step - loss: 0.0238 - accuracy: 0.9862 - val_loss: 0.0253 - val_accuracy: 0.9858 - lr: 1.2250e-04\n",
      "Epoch 84/150\n",
      "430/430 [==============================] - 1s 2ms/step - loss: 0.0237 - accuracy: 0.9864 - val_loss: 0.0254 - val_accuracy: 0.9853 - lr: 1.2250e-04\n"
     ]
    }
   ],
   "source": [
    "# 8 - Desenvolva o Código aqui!\n",
    "early_stop = EarlyStopping(patience=15, monitor='val_loss')\n",
    "reduce_lr = ReduceLROnPlateau(monitor='val_accuracy', factor=0.35, min_lr=0.00001)\n",
    "\n",
    "history_class = model_2.fit(X_train, y_train_one_hot, batch_size=128,\n",
    "                            epochs=150, validation_data=[X_val, y_val_one_hot],\n",
    "                            callbacks=[early_stop, reduce_lr],\n",
    "                            verbose=1)\n"
   ]
  },
  {
   "cell_type": "markdown",
   "metadata": {},
   "source": [
    "# 9 - Exiba os valores de loss e acurácia de validação e treinamento ao longo das épocas."
   ]
  },
  {
   "cell_type": "code",
   "execution_count": 68,
   "metadata": {},
   "outputs": [
    {
     "data": {
      "image/png": "[encoded data removed]",
      "text/plain": [
       "<Figure size 1000x600 with 1 Axes>"
      ]
     },
     "metadata": {},
     "output_type": "display_data"
    }
   ],
   "source": [
    "# 9 - Desenvolva o Código aqui!\n",
    "loss = history_class.history['loss']\n",
    "val_loss = history_class.history['val_loss']\n",
    "\n",
    "epochs = range(1, len(loss) + 1)\n",
    "\n",
    "plt.figure(figsize=(10, 6))\n",
    "\n",
    "plt.plot(epochs, loss, 'bo', label='Training loss')\n",
    "plt.plot(epochs, val_loss, 'b', label='Validation loss')\n",
    "plt.title('Training and Validation Loss')\n",
    "plt.xlabel('Epochs')\n",
    "plt.ylabel('Loss')\n",
    "plt.legend()\n",
    "\n",
    "plt.show()\n"
   ]
  },
  {
   "cell_type": "markdown",
   "metadata": {},
   "source": [
    "# 10 - Exiba as métricas de validaçao do modelo abaixo:"
   ]
  },
  {
   "cell_type": "code",
   "execution_count": 69,
   "metadata": {},
   "outputs": [],
   "source": [
    "# Faça a previsão neste bloco de código\n"
   ]
  },
  {
   "cell_type": "markdown",
   "metadata": {},
   "source": [
    "- A - Relatório de Classificação\n"
   ]
  },
  {
   "cell_type": "code",
   "execution_count": 70,
   "metadata": {},
   "outputs": [],
   "source": [
    "# A - Desenvolva o Código aqui!\n"
   ]
  },
  {
   "cell_type": "markdown",
   "metadata": {},
   "source": [
    "- B - F1 Score\n"
   ]
  },
  {
   "cell_type": "code",
   "execution_count": 71,
   "metadata": {},
   "outputs": [],
   "source": [
    "# B - Desenvolva o Código aqui!\n"
   ]
  },
  {
   "cell_type": "markdown",
   "metadata": {},
   "source": [
    "- C - Matriz de confusão com gráfico de calor"
   ]
  },
  {
   "cell_type": "code",
   "execution_count": 72,
   "metadata": {},
   "outputs": [],
   "source": [
    "# C - Desenvolva o Código aqui!\n"
   ]
  }
 ],
 "metadata": {
  "kernelspec": {
   "display_name": "tf",
   "language": "python",
   "name": "python3"
  },
  "language_info": {
   "codemirror_mode": {
    "name": "ipython",
    "version": 3
   },
   "file_extension": ".py",
   "mimetype": "text/x-python",
   "name": "python",
   "nbconvert_exporter": "python",
   "pygments_lexer": "ipython3",
   "version": "3.11.8"
  }
 },
 "nbformat": 4,
 "nbformat_minor": 2
}
