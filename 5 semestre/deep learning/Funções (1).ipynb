{
 "cells": [
  {
   "cell_type": "markdown",
   "metadata": {},
   "source": [
    "# Parte 1: Introdução às Funções\n",
    "\n",
    "## 1. Definição e Uso de Funções\n",
    "\n",
    "### Objetivos:\n",
    "- Explicar o que são funções em Python.\n",
    "- Discutir por que as funções são úteis na programação.\n",
    "- Apresentar a estrutura básica de uma função.\n",
    "\n",
    "### Conteúdo:\n",
    "\n",
    "#### A. O que são Funções?\n",
    "- Funções são blocos de código reutilizáveis que são usados para realizar uma tarefa específica.\n",
    "- Elas ajudam a tornar o código mais organizado, legível e permitem a reutilização de código.\n",
    "- Funções podem ser chamadas várias vezes dentro de um programa, potencialmente com diferentes argumentos.\n",
    "\n",
    "#### B. Estrutura Básica de uma Função\n",
    "- **Definição da Função**: Usa-se a palavra-chave `def` seguida pelo nome da função e parênteses `()`.\n",
    "- **Parâmetros da Função**: Variáveis listadas dentro dos parênteses. São os inputs da função.\n",
    "- **Corpo da Função**: Bloco de código onde a tarefa da função é realizada.\n",
    "- **Retorno da Função**: Opcionalmente, funções podem retornar valores usando a palavra-chave `return`.\n",
    "\n",
    "### Exemplo de Código:\n",
    "\n",
    "\n"
   ]
  },
  {
   "cell_type": "code",
   "execution_count": 1,
   "metadata": {},
   "outputs": [
    {
     "name": "stdout",
     "output_type": "stream",
     "text": [
      "Olá, Alice!\n"
     ]
    }
   ],
   "source": [
    "# Exemplo de função em Python\n",
    "\n",
    "# Definindo uma função\n",
    "def saudar(nome):\n",
    "    \"\"\"\n",
    "    Função para saudar uma pessoa.\n",
    "    Parâmetros:\n",
    "    nome (str): Nome da pessoa a ser saudada.\n",
    "    \"\"\"\n",
    "    # Criando uma mensagem de saudação\n",
    "    mensagem = f\"Olá, {nome}!\"\n",
    "    # Retornando a mensagem\n",
    "    return mensagem\n",
    "\n",
    "# Chamando a função e passando um argumento\n",
    "resultado = saudar(\"Alice\")\n",
    "print(resultado)  # Saída esperada: \"Olá, Alice!\""
   ]
  },
  {
   "cell_type": "code",
   "execution_count": 2,
   "metadata": {},
   "outputs": [
    {
     "name": "stdout",
     "output_type": "stream",
     "text": [
      "Olá, Pedro!\n"
     ]
    }
   ],
   "source": [
    "# Chamando a função e passando um argumento\n",
    "resultado = saudar(\"Pedro\")\n",
    "print(resultado)  # Saída esperada: \"Olá, Pedro!\""
   ]
  },
  {
   "cell_type": "code",
   "execution_count": 3,
   "metadata": {},
   "outputs": [
    {
     "name": "stdout",
     "output_type": "stream",
     "text": [
      "Olá, Roberta!\n"
     ]
    }
   ],
   "source": [
    "# Chamando a função e passando um argumento\n",
    "resultado = saudar(\"Roberta\")\n",
    "print(resultado)  # Saída esperada: \"Olá, Roberta!\""
   ]
  },
  {
   "cell_type": "code",
   "execution_count": 4,
   "metadata": {},
   "outputs": [
    {
     "ename": "TypeError",
     "evalue": "saudar() missing 1 required positional argument: 'nome'",
     "output_type": "error",
     "traceback": [
      "\u001b[1;31m---------------------------------------------------------------------------\u001b[0m",
      "\u001b[1;31mTypeError\u001b[0m                                 Traceback (most recent call last)",
      "\u001b[1;32m~\\AppData\\Local\\Temp\\ipykernel_23964\\201181699.py\u001b[0m in \u001b[0;36m<module>\u001b[1;34m\u001b[0m\n\u001b[0;32m      1\u001b[0m \u001b[1;31m# Chamando a função sem passar um argumento\u001b[0m\u001b[1;33m\u001b[0m\u001b[1;33m\u001b[0m\u001b[0m\n\u001b[1;32m----> 2\u001b[1;33m \u001b[0mresultado\u001b[0m \u001b[1;33m=\u001b[0m \u001b[0msaudar\u001b[0m\u001b[1;33m(\u001b[0m\u001b[1;33m)\u001b[0m\u001b[1;33m\u001b[0m\u001b[1;33m\u001b[0m\u001b[0m\n\u001b[0m",
      "\u001b[1;31mTypeError\u001b[0m: saudar() missing 1 required positional argument: 'nome'"
     ]
    }
   ],
   "source": [
    "# Chamando a função sem passar um argumento\n",
    "resultado = saudar()"
   ]
  },
  {
   "cell_type": "code",
   "execution_count": 5,
   "metadata": {},
   "outputs": [
    {
     "name": "stdout",
     "output_type": "stream",
     "text": [
      "8\n"
     ]
    }
   ],
   "source": [
    "# Exemplo de função para somar dois números\n",
    "\n",
    "# Definindo a função\n",
    "def somar(num1, num2):\n",
    "    \"\"\"\n",
    "    Função para somar dois números.\n",
    "    Parâmetros:\n",
    "    num1 (int, float): Primeiro número a ser somado.\n",
    "    num2 (int, float): Segundo número a ser somado.\n",
    "    \"\"\"\n",
    "    # Realizando a soma\n",
    "    resultado = num1 + num2\n",
    "    # Retornando o resultado\n",
    "    return resultado\n",
    "\n",
    "# Chamando a função e passando dois números\n",
    "soma = somar(5, 3)\n",
    "print(soma)  # Saída esperada: 8"
   ]
  },
  {
   "cell_type": "code",
   "execution_count": 6,
   "metadata": {},
   "outputs": [
    {
     "name": "stdout",
     "output_type": "stream",
     "text": [
      "35\n"
     ]
    }
   ],
   "source": [
    "soma = somar(5, 30)\n",
    "print(soma)  # Saída esperada: 35"
   ]
  },
  {
   "cell_type": "code",
   "execution_count": 7,
   "metadata": {},
   "outputs": [
    {
     "ename": "TypeError",
     "evalue": "somar() missing 1 required positional argument: 'num2'",
     "output_type": "error",
     "traceback": [
      "\u001b[1;31m---------------------------------------------------------------------------\u001b[0m",
      "\u001b[1;31mTypeError\u001b[0m                                 Traceback (most recent call last)",
      "\u001b[1;32m~\\AppData\\Local\\Temp\\ipykernel_23964\\1747771620.py\u001b[0m in \u001b[0;36m<module>\u001b[1;34m\u001b[0m\n\u001b[0;32m      1\u001b[0m \u001b[1;31m# Chamar a função sem os parâmetros definidos\u001b[0m\u001b[1;33m\u001b[0m\u001b[1;33m\u001b[0m\u001b[0m\n\u001b[1;32m----> 2\u001b[1;33m \u001b[0msoma\u001b[0m \u001b[1;33m=\u001b[0m \u001b[0msomar\u001b[0m\u001b[1;33m(\u001b[0m\u001b[1;36m5\u001b[0m\u001b[1;33m,\u001b[0m \u001b[1;33m)\u001b[0m\u001b[1;33m\u001b[0m\u001b[1;33m\u001b[0m\u001b[0m\n\u001b[0m\u001b[0;32m      3\u001b[0m \u001b[0mprint\u001b[0m\u001b[1;33m(\u001b[0m\u001b[0msoma\u001b[0m\u001b[1;33m)\u001b[0m  \u001b[1;31m# Saída esperada: 35\u001b[0m\u001b[1;33m\u001b[0m\u001b[1;33m\u001b[0m\u001b[0m\n",
      "\u001b[1;31mTypeError\u001b[0m: somar() missing 1 required positional argument: 'num2'"
     ]
    }
   ],
   "source": [
    "# Chamar a função sem os parâmetros definidos\n",
    "soma = somar(5, )\n",
    "print(soma)  # Saída esperada: 35"
   ]
  },
  {
   "cell_type": "markdown",
   "metadata": {},
   "source": [
    "## 3. Parâmetros e Argumentos\n",
    "\n",
    "### Objetivos:\n",
    "- Explicar os tipos de parâmetros em funções: obrigatórios e opcionais.\n",
    "- Clarificar a diferença entre parâmetros e argumentos.\n",
    "\n",
    "### Conteúdo:\n",
    "\n",
    "#### A. Tipos de Parâmetros\n",
    "- **Parâmetros Obrigatórios**: São aqueles que a função espera receber e sem os quais não pode operar corretamente.\n",
    "- **Parâmetros Opcionais**: Frequentemente definidos com valores padrão, que a função usará caso não sejam fornecidos argumentos para eles.\n",
    "\n",
    "#### B. Diferença entre Parâmetros e Argumentos\n",
    "- **Parâmetros** são as variáveis listadas na definição de uma função.\n",
    "- **Argumentos** são os valores reais fornecidos à função quando ela é chamada.\n",
    "\n",
    "### Exemplo de Código:"
   ]
  },
  {
   "cell_type": "code",
   "execution_count": 8,
   "metadata": {},
   "outputs": [
    {
     "name": "stdout",
     "output_type": "stream",
     "text": [
      "Meu nome é Alice e tenho 25 anos.\n",
      "Meu nome é Bob e tenho 30 anos.\n"
     ]
    }
   ],
   "source": [
    "# Exemplo de função com parâmetros obrigatórios e opcionais\n",
    "\n",
    "def introduzir(nome, idade=30):\n",
    "    \"\"\"\n",
    "    Função para introduzir uma pessoa, mostrando seu nome e idade.\n",
    "    Parâmetros:\n",
    "    nome (str): Nome da pessoa (obrigatório).\n",
    "    idade (int): Idade da pessoa (opcional, padrão 30).\n",
    "    \"\"\"\n",
    "    # Construindo a mensagem de introdução\n",
    "    mensagem = f\"Meu nome é {nome} e tenho {idade} anos.\"\n",
    "    return mensagem\n",
    "\n",
    "# Chamando a função com ambos os parâmetros\n",
    "print(introduzir(\"Alice\", 25))  # Saída: Meu nome é Alice e tenho 25 anos.\n",
    "\n",
    "# Chamando a função apenas com o parâmetro obrigatório\n",
    "print(introduzir(\"Bob\"))  # Saída: Meu nome é Bob e tenho 30 anos."
   ]
  },
  {
   "cell_type": "code",
   "execution_count": 9,
   "metadata": {},
   "outputs": [
    {
     "ename": "TypeError",
     "evalue": "introduzir() missing 1 required positional argument: 'nome'",
     "output_type": "error",
     "traceback": [
      "\u001b[1;31m---------------------------------------------------------------------------\u001b[0m",
      "\u001b[1;31mTypeError\u001b[0m                                 Traceback (most recent call last)",
      "\u001b[1;32m~\\AppData\\Local\\Temp\\ipykernel_23964\\3422608497.py\u001b[0m in \u001b[0;36m<module>\u001b[1;34m\u001b[0m\n\u001b[0;32m      1\u001b[0m \u001b[1;31m# Chamando a função sem parâmetros obrigatório\u001b[0m\u001b[1;33m\u001b[0m\u001b[1;33m\u001b[0m\u001b[0m\n\u001b[1;32m----> 2\u001b[1;33m \u001b[0mintroduzir\u001b[0m\u001b[1;33m(\u001b[0m\u001b[1;33m)\u001b[0m\u001b[1;33m\u001b[0m\u001b[1;33m\u001b[0m\u001b[0m\n\u001b[0m",
      "\u001b[1;31mTypeError\u001b[0m: introduzir() missing 1 required positional argument: 'nome'"
     ]
    }
   ],
   "source": [
    "# Chamando a função sem parâmetros obrigatório\n",
    "introduzir()"
   ]
  },
  {
   "cell_type": "code",
   "execution_count": null,
   "metadata": {},
   "outputs": [],
   "source": []
  },
  {
   "cell_type": "markdown",
   "metadata": {},
   "source": [
    "# Parte 2: Aprofundamento em Funções\n",
    "\n",
    "## 1. Escopo de Variáveis\n",
    "\n",
    "### Objetivos:\n",
    "- Ensinar o conceito de escopo de variáveis em Python.\n",
    "- Diferenciar entre variáveis locais e globais.\n",
    "- Discutir boas práticas no uso de variáveis em funções.\n",
    "\n",
    "### Conteúdo:\n",
    "\n",
    "#### A. Variáveis Locais e Globais\n",
    "- **Variáveis Locais**: Variáveis definidas dentro de uma função, acessíveis apenas dentro dessa função.\n",
    "- **Variáveis Globais**: Variáveis definidas fora de qualquer função, acessíveis em qualquer parte do código.\n",
    "\n",
    "#### B. Boas Práticas no Uso de Variáveis\n",
    "- Evitar o uso excessivo de variáveis globais, pois podem levar a erros difíceis de rastrear.\n",
    "- Preferir variáveis locais para manter o código mais claro e modular.\n",
    "\n",
    "### Exemplo de Código:"
   ]
  },
  {
   "cell_type": "code",
   "execution_count": 12,
   "metadata": {},
   "outputs": [
    {
     "name": "stdout",
     "output_type": "stream",
     "text": [
      "50\n"
     ]
    }
   ],
   "source": [
    "# Exemplo demonstrando escopo local e global de variáveis\n",
    "\n",
    "# Variável global\n",
    "numero = 10  # Esta variável é global e pode ser acessada em qualquer parte do código\n",
    "\n",
    "def multiplicar(valor):\n",
    "    # Variável local\n",
    "    result = numero * valor  # 'result' é uma variável local, acessível apenas dentro desta função\n",
    "    return result\n",
    "\n",
    "# Chamando a função e imprimindo o resultado\n",
    "print(multiplicar(5))  # Saída esperada: 50"
   ]
  },
  {
   "cell_type": "code",
   "execution_count": 16,
   "metadata": {},
   "outputs": [
    {
     "data": {
      "text/plain": [
       "10"
      ]
     },
     "execution_count": 16,
     "metadata": {},
     "output_type": "execute_result"
    }
   ],
   "source": [
    "numero"
   ]
  },
  {
   "cell_type": "code",
   "execution_count": 18,
   "metadata": {},
   "outputs": [
    {
     "ename": "NameError",
     "evalue": "name 'result' is not defined",
     "output_type": "error",
     "traceback": [
      "\u001b[1;31m---------------------------------------------------------------------------\u001b[0m",
      "\u001b[1;31mNameError\u001b[0m                                 Traceback (most recent call last)",
      "\u001b[1;32m~\\AppData\\Local\\Temp\\ipykernel_23964\\721210826.py\u001b[0m in \u001b[0;36m<module>\u001b[1;34m\u001b[0m\n\u001b[0;32m      1\u001b[0m \u001b[1;31m# Tentativa de acessar a variável local fora da função resultará em erro\u001b[0m\u001b[1;33m\u001b[0m\u001b[1;33m\u001b[0m\u001b[0m\n\u001b[1;32m----> 2\u001b[1;33m \u001b[0mprint\u001b[0m\u001b[1;33m(\u001b[0m\u001b[0mresult\u001b[0m\u001b[1;33m)\u001b[0m  \u001b[1;31m# Isso causará um erro porque 'resultado' é local para a função multiplicar\u001b[0m\u001b[1;33m\u001b[0m\u001b[1;33m\u001b[0m\u001b[0m\n\u001b[0m",
      "\u001b[1;31mNameError\u001b[0m: name 'result' is not defined"
     ]
    }
   ],
   "source": [
    "# Tentativa de acessar a variável local fora da função resultará em erro\n",
    "print(result)  # Isso causará um erro porque 'resultado' é local para a função multiplicar"
   ]
  },
  {
   "cell_type": "markdown",
   "metadata": {},
   "source": [
    "# Parte 2: Aprofundamento em Funções\n",
    "\n",
    "## 2. Valores de Retorno\n",
    "\n",
    "### Objetivos:\n",
    "- Ensinar como as funções podem retornar valores.\n",
    "- Explicar o uso de `return` para retornar valores simples e múltiplos.\n",
    "- Discutir como `return` também pode ser usado para encerrar a execução de uma função.\n",
    "\n",
    "### Conteúdo:\n",
    "\n",
    "#### A. Retorno de Valores Simples\n",
    "- Uma função pode retornar um único valor usando a palavra-chave `return`.\n",
    "\n",
    "#### B. Retorno de Múltiplos Valores\n",
    "- Uma função pode retornar vários valores, geralmente na forma de uma tupla.\n",
    "\n",
    "#### C. Uso de `return` para Encerrar a Função\n",
    "- A palavra-chave `return` também pode ser usada para sair de uma função, encerrando sua execução.\n",
    "\n",
    "### Exemplo de Código:"
   ]
  },
  {
   "cell_type": "code",
   "execution_count": 19,
   "metadata": {},
   "outputs": [
    {
     "name": "stdout",
     "output_type": "stream",
     "text": [
      "Soma: 15, Multiplicação: 50\n"
     ]
    }
   ],
   "source": [
    "# Exemplo de função com valores de retorno simples e múltiplos\n",
    "\n",
    "def calcular_operacoes(a, b):\n",
    "    \"\"\"\n",
    "    Função para calcular a soma e multiplicação de dois números.\n",
    "    Parâmetros:\n",
    "    a (int, float): Primeiro número.\n",
    "    b (int, float): Segundo número.\n",
    "    \n",
    "    Retorna:\n",
    "    soma (int, float): Soma de a e b.\n",
    "    multiplicacao (int, float): Multiplicação de a e b.\n",
    "    \"\"\"\n",
    "    soma = a + b\n",
    "    multiplicacao = a * b\n",
    "    # Retornando múltiplos valores\n",
    "    return soma, multiplicacao\n",
    "\n",
    "# Chamando a função e desempacotando os valores retornados\n",
    "soma_resultado, multiplicacao_resultado = calcular_operacoes(10, 5)\n",
    "print(f\"Soma: {soma_resultado}, Multiplicação: {multiplicacao_resultado}\")\n",
    "# Saída esperada: Soma: 15, Multiplicação: 50"
   ]
  },
  {
   "cell_type": "markdown",
   "metadata": {},
   "source": [
    "# Parte 2: Aprofundamento em Funções\n",
    "\n",
    "## 3. Funções como Objetos de Primeira Classe\n",
    "\n",
    "### Objetivos:\n",
    "- Ensinar como funções podem ser tratadas como objetos de primeira classe em Python.\n",
    "- Mostrar como atribuir funções a variáveis.\n",
    "- Explicar como passar funções como argumentos para outras funções.\n",
    "\n",
    "### Conteúdo:\n",
    "\n",
    "#### A. Atribuição de Funções a Variáveis\n",
    "- Em Python, funções são objetos e podem ser atribuídas a variáveis.\n",
    "\n",
    "#### B. Passagem de Funções como Argumentos\n",
    "- Funções podem ser passadas como argumentos para outras funções.\n",
    "\n",
    "### Exemplo de Código:"
   ]
  },
  {
   "cell_type": "code",
   "execution_count": null,
   "metadata": {},
   "outputs": [],
   "source": [
    "# Exemplo de funções como objetos de primeira classe\n",
    "\n",
    "# Definindo uma função simples\n",
    "def saudar(nome):\n",
    "    return f\"Olá, {nome}!\"\n",
    "\n",
    "# Atribuindo a função a uma variável\n",
    "funcao_saudar = saudar\n",
    "# Chamando a função através da variável\n",
    "print(funcao_saudar(\"Alice\"))  # Saída: Olá, Alice!"
   ]
  },
  {
   "cell_type": "code",
   "execution_count": null,
   "metadata": {},
   "outputs": [],
   "source": [
    "funcao_saudar(\"Alice\")"
   ]
  },
  {
   "cell_type": "code",
   "execution_count": null,
   "metadata": {},
   "outputs": [],
   "source": [
    "print(funcao_saudar(\"Alice\"))"
   ]
  },
  {
   "cell_type": "code",
   "execution_count": null,
   "metadata": {},
   "outputs": [],
   "source": [
    "# Definindo uma função que aceita outra função como argumento\n",
    "def executar_funcao(funcao, argumento):\n",
    "    return funcao(argumento)\n",
    "\n",
    "# Passando a função 'saudar' como argumento\n",
    "resultado = executar_funcao(saudar, \"Bob\")\n",
    "print(resultado)  # Saída: Olá, Bob!"
   ]
  },
  {
   "cell_type": "markdown",
   "metadata": {},
   "source": [
    "# Exercícios de Python - Funções e Exceções\n"
   ]
  },
  {
   "cell_type": "markdown",
   "metadata": {},
   "source": [
    "\n",
    "## Definição e Uso de Funções\n",
    "1. Escreva uma função `greet` que imprima \"Olá, Mundo!\".\n",
    "2. Crie uma função `add` que some dois números e retorne o resultado.\n"
   ]
  },
  {
   "cell_type": "code",
   "execution_count": null,
   "metadata": {},
   "outputs": [],
   "source": []
  },
  {
   "cell_type": "code",
   "execution_count": null,
   "metadata": {},
   "outputs": [],
   "source": []
  },
  {
   "cell_type": "markdown",
   "metadata": {},
   "source": [
    "\n",
    "## Exemplos Básicos\n",
    "3. Desenvolva uma função `subtract` que subtraia dois números.\n",
    "4. Implemente uma função `multiply` que multiplique dois números e imprima o resultado.\n"
   ]
  },
  {
   "cell_type": "code",
   "execution_count": null,
   "metadata": {},
   "outputs": [],
   "source": []
  },
  {
   "cell_type": "code",
   "execution_count": null,
   "metadata": {},
   "outputs": [],
   "source": []
  },
  {
   "cell_type": "markdown",
   "metadata": {},
   "source": [
    "\n",
    "## Parâmetros e Argumentos\n",
    "5. Crie uma função `power` que aceite um número e seu expoente como parâmetros.\n",
    "6. Escreva uma função `greet_person` que aceite um nome como parâmetro e imprima uma saudação.\n"
   ]
  },
  {
   "cell_type": "code",
   "execution_count": null,
   "metadata": {},
   "outputs": [],
   "source": []
  },
  {
   "cell_type": "code",
   "execution_count": null,
   "metadata": {},
   "outputs": [],
   "source": []
  },
  {
   "cell_type": "markdown",
   "metadata": {},
   "source": [
    "\n",
    "## Escopo de Variáveis\n",
    "7. Demonstre uma função que modifique uma variável global.\n",
    "8. Crie uma função com uma variável local e imprima seu valor.\n"
   ]
  },
  {
   "cell_type": "code",
   "execution_count": null,
   "metadata": {},
   "outputs": [],
   "source": []
  },
  {
   "cell_type": "code",
   "execution_count": null,
   "metadata": {},
   "outputs": [],
   "source": []
  },
  {
   "cell_type": "markdown",
   "metadata": {},
   "source": [
    "\n",
    "## Valores de Retorno\n",
    "9. Escreva uma função `divide` que divida dois números e retorne o resultado.\n",
    "10. Implemente uma função `stats` que retorne a soma, média, e o produto de uma lista de números.\n"
   ]
  },
  {
   "cell_type": "code",
   "execution_count": null,
   "metadata": {},
   "outputs": [],
   "source": []
  },
  {
   "cell_type": "code",
   "execution_count": null,
   "metadata": {},
   "outputs": [],
   "source": []
  },
  {
   "cell_type": "markdown",
   "metadata": {},
   "source": [
    "\n",
    "## Funções como Objetos de Primeira Classe\n",
    "11. Atribua a função `add` a uma variável e chame-a através dessa variável.\n",
    "12. Escreva uma função `apply` que receba uma função e um valor, e aplique a função ao valor.\n"
   ]
  },
  {
   "cell_type": "code",
   "execution_count": null,
   "metadata": {},
   "outputs": [],
   "source": []
  },
  {
   "cell_type": "code",
   "execution_count": null,
   "metadata": {},
   "outputs": [],
   "source": []
  },
  {
   "cell_type": "markdown",
   "metadata": {},
   "source": [
    "\n",
    "## Exceções\n",
    "13. Crie uma função que lance uma exceção `ValueError` e a capture.\n",
    "14. Desenvolva uma função que lance e capture uma exceção `TypeError`.\n"
   ]
  },
  {
   "cell_type": "code",
   "execution_count": null,
   "metadata": {},
   "outputs": [],
   "source": []
  },
  {
   "cell_type": "code",
   "execution_count": null,
   "metadata": {},
   "outputs": [],
   "source": []
  },
  {
   "cell_type": "markdown",
   "metadata": {},
   "source": [
    "\n",
    "## Exercícios Adicionais\n",
    "15. Escreva uma função que aceite um número variável de argumentos e retorne a soma.\n",
    "16. Implemente uma função `is_positive` que verifique se um número é positivo.\n",
    "17. Crie uma função `print_args` que imprima todos os argumentos recebidos.\n",
    "18. Desenvolva uma função `make_full_name` que aceite nome e sobrenome e retorne o nome completo.\n",
    "19. Escreva uma função que use `return` para terminar prematuramente se receber um número negativo.\n",
    "20. Crie uma função `apply_discount` que aplique um desconto a um preço e retorne o preço com desconto.\n"
   ]
  },
  {
   "cell_type": "code",
   "execution_count": null,
   "metadata": {},
   "outputs": [],
   "source": []
  },
  {
   "cell_type": "code",
   "execution_count": null,
   "metadata": {},
   "outputs": [],
   "source": []
  },
  {
   "cell_type": "code",
   "execution_count": null,
   "metadata": {},
   "outputs": [],
   "source": []
  },
  {
   "cell_type": "code",
   "execution_count": null,
   "metadata": {},
   "outputs": [],
   "source": []
  }
 ],
 "metadata": {
  "kernelspec": {
   "display_name": "base",
   "language": "python",
   "name": "python3"
  },
  "language_info": {
   "codemirror_mode": {
    "name": "ipython",
    "version": 3
   },
   "file_extension": ".py",
   "mimetype": "text/x-python",
   "name": "python",
   "nbconvert_exporter": "python",
   "pygments_lexer": "ipython3",
   "version": "3.9.13"
  }
 },
 "nbformat": 4,
 "nbformat_minor": 2
}
