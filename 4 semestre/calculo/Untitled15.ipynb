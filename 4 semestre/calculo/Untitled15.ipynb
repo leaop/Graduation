{
  "nbformat": 4,
  "nbformat_minor": 0,
  "metadata": {
    "colab": {
      "provenance": []
    },
    "kernelspec": {
      "name": "python3",
      "display_name": "Python 3"
    },
    "language_info": {
      "name": "python"
    }
  },
  "cells": [
    {
      "cell_type": "code",
      "execution_count": 14,
      "metadata": {
        "id": "i6u0cgLqkb4i"
      },
      "outputs": [],
      "source": [
        "#Lista Cayan\n",
        "import pandas as pd\n",
        "import numpy as np\n",
        "from numpy.linalg import inv\n",
        "from sklearn.linear_model import LinearRegression\n",
        "from sklearn.preprocessing import LabelEncoder\n",
        "import numpy as np\n",
        "from numpy import linalg"
      ]
    },
    {
      "cell_type": "markdown",
      "source": [
        "##Exercício 1"
      ],
      "metadata": {
        "id": "T1ORCUafkeAo"
      }
    },
    {
      "cell_type": "markdown",
      "source": [
        "###B"
      ],
      "metadata": {
        "id": "0kMUmtsPkliA"
      }
    },
    {
      "cell_type": "markdown",
      "source": [
        "####Solução analítica da Regressão Linear -> $\\beta = (X'X)^{-1} X'Y$"
      ],
      "metadata": {
        "id": "7PDqZVyulU9c"
      }
    },
    {
      "cell_type": "code",
      "source": [
        "df_treino = pd.read_csv('https://raw.githubusercontent.com/Cayan-Portela/ceub/main/dados/insurance_treino.csv', sep=';', decimal=',')\n",
        "\n",
        "colunas_textuais = df_treino.select_dtypes(include='object').columns.tolist()\n",
        "\n",
        "le = LabelEncoder()\n",
        "for col in colunas_textuais:\n",
        "    df_treino[col] = le.fit_transform(df_treino[col])"
      ],
      "metadata": {
        "id": "vIqXzB41kkCK"
      },
      "execution_count": 2,
      "outputs": []
    },
    {
      "cell_type": "code",
      "source": [
        "def matriz_x(coluna, dados):\n",
        "    n_ = dados.shape[0]\n",
        "\n",
        "    col_1 = np.ones(n_)\n",
        "    col_var = dados[coluna]\n",
        "\n",
        "    X_mat = np.c_[col_1, np.array(col_var)]\n",
        "\n",
        "    return X_mat"
      ],
      "metadata": {
        "id": "KsZWsnPvlAah"
      },
      "execution_count": 3,
      "outputs": []
    },
    {
      "cell_type": "code",
      "source": [
        "Y = df_treino['charges']\n",
        "X = matriz_x(['age', 'sex','children','smoker'], df_treino)\n",
        "Xlx = X.T @ X\n",
        "inv_xlx = inv(Xlx)\n",
        "B = inv_xlx @ X.T @ Y\n",
        "B"
      ],
      "metadata": {
        "colab": {
          "base_uri": "https://localhost:8080/",
          "height": 0
        },
        "id": "Q4x2x4SZlCF_",
        "outputId": "456b573b-a8e1-48d4-c8be-bb0fe08c0de7"
      },
      "execution_count": 4,
      "outputs": [
        {
          "output_type": "execute_result",
          "data": {
            "text/plain": [
              "array([-3017.92453292,   272.20653435,   -57.34384981,   556.55795561,\n",
              "       23799.89105225])"
            ]
          },
          "metadata": {},
          "execution_count": 4
        }
      ]
    },
    {
      "cell_type": "markdown",
      "source": [
        "###C"
      ],
      "metadata": {
        "id": "6J_4lAWOqAXh"
      }
    },
    {
      "cell_type": "code",
      "source": [
        "df_teste = pd.read_csv('https://raw.githubusercontent.com/Cayan-Portela/ceub/main/dados/insurance_teste.csv', sep=';', decimal=',')\n",
        "colunas_textuais = df_teste.select_dtypes(include='object').columns.tolist()\n",
        "colunas_textuais\n",
        "\n",
        "le = LabelEncoder()\n",
        "for col in colunas_textuais:\n",
        "    df_teste[col] = le.fit_transform(df_teste[col])\n",
        "\n",
        "X_teste = matriz_x(['age', 'sex','children','smoker'], df_teste)\n",
        "B = [-3017.924532924948, 272.20653435, -57.34384981, 556.55795561, 23799.89105225]\n",
        "\n",
        "Y_predito = X_teste @ B\n",
        "\n",
        "erro = df_teste['charges'] - Y_predito\n",
        "print(\"MSE: \",np.mean(erro**2))"
      ],
      "metadata": {
        "colab": {
          "base_uri": "https://localhost:8080/",
          "height": 0
        },
        "id": "3ao5G0reqH5z",
        "outputId": "097cb2d4-e6ef-40db-c5be-374281d6f048"
      },
      "execution_count": 13,
      "outputs": [
        {
          "output_type": "stream",
          "name": "stdout",
          "text": [
            "MSE:  48343255.08762763\n"
          ]
        }
      ]
    },
    {
      "cell_type": "markdown",
      "source": [
        "##Exercício 2"
      ],
      "metadata": {
        "id": "cqtqnkAVqrKz"
      }
    },
    {
      "cell_type": "markdown",
      "source": [
        "###Newton-Raphson"
      ],
      "metadata": {
        "id": "Uaqy6fUVqxZN"
      }
    },
    {
      "cell_type": "code",
      "source": [
        "df = pd.read_csv('https://raw.githubusercontent.com/Cayan-Portela/ceub/main/dados/bank_customer_treino.csv')\n",
        "\n",
        "df = df[['gender', 'age', 'credit_card', \"estimated_salary\", 'churn']]\n",
        "\n",
        "df.gender = np.where(df.gender == \"Male\", 1, 0)\n",
        "\n",
        "y = df['churn']\n",
        "\n",
        "def calcula_p(X,B):\n",
        "   return np.exp(X @ B) / (1+np.exp(X @ B))\n",
        "\n",
        "def matriz_x(coluna, dados):\n",
        "    n_ = dados.shape[0]\n",
        "\n",
        "    col_1 = np.ones(n_)\n",
        "    col_var = dados[coluna]\n",
        "\n",
        "    X_mat = np.c_[col_1, np.array(col_var)]\n",
        "\n",
        "    return X_mat\n",
        "\n",
        "def beta_update(X, W, y, p):\n",
        "    return inv(X.T @ W @ X) @ X.T @ (y-p)\n",
        "\n",
        "X_mat = matriz_x(coluna=[\"gender\", \"age\", \"credit_card\", \"estimated_salary\"], dados=df)\n",
        "\n",
        "n_col_X = X_mat.shape[1]\n",
        "betas = np.zeros(n_col_X)\n",
        "\n",
        "p = calcula_p(X_mat, betas)\n",
        "\n",
        "W = np.diag(p)\n"
      ],
      "metadata": {
        "id": "V6TLbGjBreUX"
      },
      "execution_count": 16,
      "outputs": []
    },
    {
      "cell_type": "code",
      "source": [
        "# Beta inicial\n",
        "betas = np.zeros(n_col_X)\n",
        "\n",
        "for i in range(30):\n",
        "    p = calcula_p(X_mat, betas)\n",
        "    W = np.diag(p)\n",
        "    beta_k1 = beta_update(X_mat, W, y, p)\n",
        "    betas = betas + beta_k1\n",
        "\n",
        "np.round(betas,3)"
      ],
      "metadata": {
        "colab": {
          "base_uri": "https://localhost:8080/",
          "height": 0
        },
        "id": "RPK-P_UDsZJY",
        "outputId": "12e83a9c-fba7-4446-97eb-f70b4979ca7d"
      },
      "execution_count": 17,
      "outputs": [
        {
          "output_type": "execute_result",
          "data": {
            "text/plain": [
              "array([-3.715, -0.487,  0.064, -0.047,  0.   ])"
            ]
          },
          "metadata": {},
          "execution_count": 17
        }
      ]
    },
    {
      "cell_type": "markdown",
      "source": [
        "##Exercício 3"
      ],
      "metadata": {
        "id": "eKCz78X6wrTL"
      }
    },
    {
      "cell_type": "markdown",
      "source": [
        "###Newton-Raphson para funções -> $X = X - \\frac{F(x)}{F'(x)}$"
      ],
      "metadata": {
        "id": "cEZ4rHbxw11q"
      }
    },
    {
      "cell_type": "markdown",
      "source": [
        "####$x = \\sqrt10$ => $x^2 = 10$ => $x^2 - 10 = 0$"
      ],
      "metadata": {
        "id": "rRGc2CKHxU6o"
      }
    },
    {
      "cell_type": "markdown",
      "source": [
        "####Logo: $F(x) = x^2 - 10$ e $F'(x) = 2x$"
      ],
      "metadata": {
        "id": "jKG-YNOdyAFs"
      }
    },
    {
      "cell_type": "markdown",
      "source": [
        "####Aplicando na fórmula => $x = x - \\frac{(x^2 - 10)}{2x}$"
      ],
      "metadata": {
        "id": "40n3tDMxyfW6"
      }
    },
    {
      "cell_type": "markdown",
      "source": [
        "####$x = x - \\frac{(x^2 - 10)}{2x}$ => $x = x -\\frac{x^2}{2x} + \\frac{10}{2x}$\n",
        "<br/>\n",
        "$x = x - \\frac{x}{2} +\\frac{10}{2x}$\n",
        "<br/>\n",
        "<br/>\n",
        "$x = \\frac{x}{2} + \\frac{10}{2x}$\n",
        "<br/>\n",
        "<br/>\n",
        "Finally: $ x = \\frac{1}{2}(x + \\frac{10}{x}) $"
      ],
      "metadata": {
        "id": "rammbegjzYkw"
      }
    },
    {
      "cell_type": "code",
      "source": [
        "def x_update(x):\n",
        "    return 1/2 * (x + 10/x)\n",
        "\n",
        "x_ = 3 #X inicial\n",
        "\n",
        "for i in range(20):\n",
        "    x_ = x_update(x_)\n",
        "\n",
        "print(\"Valor estimado da raiz de 10 com 10 casas de precisão: \", round(x_,10))"
      ],
      "metadata": {
        "colab": {
          "base_uri": "https://localhost:8080/"
        },
        "id": "e6MRjspb1QW6",
        "outputId": "4305aebe-94c9-4dc7-f922-ffa739c147e0"
      },
      "execution_count": 39,
      "outputs": [
        {
          "output_type": "stream",
          "name": "stdout",
          "text": [
            "Valor estimado da raiz de 10 com 10 casas de precisão:  3.1622776602\n"
          ]
        }
      ]
    },
    {
      "cell_type": "markdown",
      "source": [
        "##Exercício 4"
      ],
      "metadata": {
        "id": "af2WMLEjwuK1"
      }
    },
    {
      "cell_type": "markdown",
      "source": [
        "###Newton-Raphson para funções -> $X = X - \\frac{F(x)}{F'(x)}$"
      ],
      "metadata": {
        "id": "7FLY7vwM15KT"
      }
    },
    {
      "cell_type": "markdown",
      "source": [
        "####$F(x) = x^4 - 2x^3 +2x - 2$ <br/>\n",
        "$F'(x) = 4x^3 - 6x^2 + 2$"
      ],
      "metadata": {
        "id": "TCxXChrM17gJ"
      }
    },
    {
      "cell_type": "code",
      "source": [
        "def updatex(x):\n",
        "    return (x**4 - 2*x**3 + 2*x - 2) / (4*x**3 - 6*x**2 + 2)"
      ],
      "metadata": {
        "id": "qBhkBhkY2iq_"
      },
      "execution_count": 40,
      "outputs": []
    },
    {
      "cell_type": "code",
      "source": [
        "x_ = 3 # x inicial\n",
        "\n",
        "for x in range(10):\n",
        "    x_ = x_ - updatex(x_)\n",
        "    print(x+1, x_)"
      ],
      "metadata": {
        "colab": {
          "base_uri": "https://localhost:8080/"
        },
        "id": "yG5SMPZR2kBJ",
        "outputId": "549c80cc-f1bb-427a-a58f-46ec47532812"
      },
      "execution_count": 44,
      "outputs": [
        {
          "output_type": "stream",
          "name": "stdout",
          "text": [
            "1 2.446428571428571\n",
            "2 2.064013324670046\n",
            "3 1.8322618172598713\n",
            "4 1.7343447388659876\n",
            "5 1.7171622778064046\n",
            "6 1.716673137346497\n",
            "7 1.7166727492825309\n",
            "8 1.7166727492822869\n",
            "9 1.7166727492822864\n",
            "10 1.716672749282287\n"
          ]
        }
      ]
    },
    {
      "cell_type": "markdown",
      "source": [
        "##Exercício 5"
      ],
      "metadata": {
        "id": "Er2UL-Pywwgm"
      }
    },
    {
      "cell_type": "code",
      "source": [
        "def updatex(x):\n",
        "    return (3*(x**(1/3))) / (x**(-2/3))\n",
        "\n",
        "x_ = 0.1 # x inicial\n",
        "\n",
        "for x in range(10):\n",
        "    x_ = x_ - updatex(x_)\n",
        "    print(x+1, x_)"
      ],
      "metadata": {
        "colab": {
          "base_uri": "https://localhost:8080/"
        },
        "id": "NubdBzJP3Rfd",
        "outputId": "2fe27981-ba77-481e-b492-121e9e74eec9"
      },
      "execution_count": 45,
      "outputs": [
        {
          "output_type": "stream",
          "name": "stdout",
          "text": [
            "1 -0.20000000000000004\n",
            "2 (0.40000000000000013-1.9729319640436202e-16j)\n",
            "3 (-0.8000000000000003+3.945863928087242e-16j)\n",
            "4 (1.600000000000001-2.091152118700269e-15j)\n",
            "5 (-3.2000000000000015+4.182304237400537e-15j)\n",
            "6 (6.400000000000004-1.1685656090201085e-14j)\n",
            "7 (-12.800000000000006+2.337131218040216e-14j)\n",
            "8 (25.60000000000001-6.712050057039862e-14j)\n",
            "9 (-51.19999999999999+1.3424100114079714e-13j)\n",
            "10 (102.39999999999995-3.2180915777071954e-13j)\n"
          ]
        }
      ]
    },
    {
      "cell_type": "markdown",
      "source": [
        "Ou simplificando a equação:"
      ],
      "metadata": {
        "id": "Wsg9EMTU3wla"
      }
    },
    {
      "cell_type": "markdown",
      "source": [
        "Aplicando na fórmula $$X_{n+1} = X_n - 3 * \\frac{x^{1/3}}{x^-{2/3}}$$\n",
        "Como $$\\frac{x^{1/3}}{x^-{2/3}} = x^{\\frac{1}{3}+\\frac{2}{3}} = x^1$$\n",
        "Então $$X_{n+1} = X_n - 3x^1$$\n",
        "Finalmente $$X_{n+1} = -2x$$"
      ],
      "metadata": {
        "id": "OPA_yyPg3_3L"
      }
    },
    {
      "cell_type": "code",
      "source": [
        "def updatex(x):\n",
        "    return -2*x\n",
        "\n",
        "x_ = 0.1 # x inicial\n",
        "\n",
        "for x in range(10):\n",
        "    x_ = updatex(x_)\n",
        "    print(x+1, x_)"
      ],
      "metadata": {
        "colab": {
          "base_uri": "https://localhost:8080/"
        },
        "id": "4xUzYOwL30Hq",
        "outputId": "7b18946f-5fd9-4816-e397-8e15f4027c0d"
      },
      "execution_count": 46,
      "outputs": [
        {
          "output_type": "stream",
          "name": "stdout",
          "text": [
            "1 -0.2\n",
            "2 0.4\n",
            "3 -0.8\n",
            "4 1.6\n",
            "5 -3.2\n",
            "6 6.4\n",
            "7 -12.8\n",
            "8 25.6\n",
            "9 -51.2\n",
            "10 102.4\n"
          ]
        }
      ]
    },
    {
      "cell_type": "markdown",
      "source": [
        "##Exercício 6"
      ],
      "metadata": {
        "id": "5wwQQKtGwyOi"
      }
    },
    {
      "cell_type": "markdown",
      "source": [
        "###Newton-Raphson para funções -> $X = X - \\frac{F(x)}{F'(x)}$"
      ],
      "metadata": {
        "id": "6VoyI98e4cjh"
      }
    },
    {
      "cell_type": "markdown",
      "source": [
        "####$F(x) = x^4 - 5x^3 + 9x + 3$ <br/>\n",
        "Então: $F'(x) = 4x^3 - 15x^2 + 9$"
      ],
      "metadata": {
        "id": "qZ4H8SWc4ewa"
      }
    },
    {
      "cell_type": "code",
      "source": [
        "def x_update(x):\n",
        "    return (x**4 - 5*x**3 + 9*x + 3) / (4*x**3 - 15*x**2 + 9)\n",
        "\n",
        "x_ = 4\n",
        "\n",
        "for i in range(10):\n",
        "    x_ = x_ - x_update(x_)\n",
        "    print(i+1,x_)"
      ],
      "metadata": {
        "colab": {
          "base_uri": "https://localhost:8080/"
        },
        "id": "zGWMRRT348NT",
        "outputId": "57b96c8d-741a-4fec-9151-3e6a4cf86c17"
      },
      "execution_count": 49,
      "outputs": [
        {
          "output_type": "stream",
          "name": "stdout",
          "text": [
            "1 5.0\n",
            "2 4.641791044776119\n",
            "3 4.5375439592074756\n",
            "4 4.528973727325634\n",
            "5 4.528917959646293\n",
            "6 4.528917957294362\n",
            "7 4.528917957294362\n",
            "8 4.528917957294362\n",
            "9 4.528917957294362\n",
            "10 4.528917957294362\n"
          ]
        }
      ]
    },
    {
      "cell_type": "markdown",
      "source": [
        "#Anotações Extras"
      ],
      "metadata": {
        "id": "ILadq3sb5gTS"
      }
    },
    {
      "cell_type": "markdown",
      "source": [
        "##Regressão Linear"
      ],
      "metadata": {
        "id": "KGSDF14j5kpb"
      }
    },
    {
      "cell_type": "markdown",
      "source": [
        "###Solução Analítica => $\\beta = (X'X)^{-1} X'Y$"
      ],
      "metadata": {
        "id": "g5zg-I8H5p7c"
      }
    },
    {
      "cell_type": "markdown",
      "source": [
        "###Gradiente => $\\beta = \\beta - \\alpha 2X'(X\\beta-Y)$"
      ],
      "metadata": {
        "id": "pLXO5tIY53-k"
      }
    },
    {
      "cell_type": "markdown",
      "source": [
        "###Newton-Raphson => $\\beta = \\beta - X'(X\\beta-Y)(\\beta'X')^{-1}$"
      ],
      "metadata": {
        "id": "4r21f5wW60S-"
      }
    },
    {
      "cell_type": "markdown",
      "source": [
        "##Regressão Logística"
      ],
      "metadata": {
        "id": "yR4i3irs7Qdw"
      }
    },
    {
      "cell_type": "markdown",
      "source": [
        "###Solução Analítica => Não tem"
      ],
      "metadata": {
        "id": "BSkegPrr7V1O"
      }
    },
    {
      "cell_type": "markdown",
      "source": [
        "###Gradiente => $\\beta = \\beta - \\alpha [\\frac{-1}{n} X'(y-p)]$"
      ],
      "metadata": {
        "id": "N5-_LvBr7gP9"
      }
    },
    {
      "cell_type": "markdown",
      "source": [
        "###Newton-Raphson => $\\beta = \\beta + (X'WX)^{-1} X'(y-p)$"
      ],
      "metadata": {
        "id": "5wA6TLQO7bae"
      }
    },
    {
      "cell_type": "markdown",
      "source": [
        "##Raíz/Mínimo de Função"
      ],
      "metadata": {
        "id": "_9Un2PCH8K9n"
      }
    },
    {
      "cell_type": "markdown",
      "source": [
        "###Gradiente => $X = X - \\alpha * F(X) $"
      ],
      "metadata": {
        "id": "jhmBTAB48Yp4"
      }
    },
    {
      "cell_type": "markdown",
      "source": [
        "###Newton-Raphson => $X = X - \\frac{F(X)}{F'(X)}$"
      ],
      "metadata": {
        "id": "ttO4TuNP8OFl"
      }
    }
  ]
}