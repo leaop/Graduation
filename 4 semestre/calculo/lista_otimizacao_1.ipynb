{
 "cells": [
  {
   "cell_type": "code",
   "execution_count": 1,
   "metadata": {},
   "outputs": [],
   "source": [
    "import numpy as np\n",
    "import pandas as pd\n",
    "from numpy.linalg import inv\n",
    "from sklearn.preprocessing import StandardScaler"
   ]
  },
  {
   "attachments": {},
   "cell_type": "markdown",
   "metadata": {},
   "source": [
    "# 1 regressão linear"
   ]
  },
  {
   "cell_type": "code",
   "execution_count": 2,
   "metadata": {},
   "outputs": [],
   "source": [
    "df_treino = pd.read_csv('https://raw.githubusercontent.com/Cayan-Portela/ceub/main/dados/insurance_treino.csv', sep = ';', decimal = ',')"
   ]
  },
  {
   "cell_type": "code",
   "execution_count": 3,
   "metadata": {},
   "outputs": [
    {
     "data": {
      "text/html": [
       "<div>\n",
       "<style scoped>\n",
       "    .dataframe tbody tr th:only-of-type {\n",
       "        vertical-align: middle;\n",
       "    }\n",
       "\n",
       "    .dataframe tbody tr th {\n",
       "        vertical-align: top;\n",
       "    }\n",
       "\n",
       "    .dataframe thead th {\n",
       "        text-align: right;\n",
       "    }\n",
       "</style>\n",
       "<table border=\"1\" class=\"dataframe\">\n",
       "  <thead>\n",
       "    <tr style=\"text-align: right;\">\n",
       "      <th></th>\n",
       "      <th>age</th>\n",
       "      <th>sex</th>\n",
       "      <th>bmi</th>\n",
       "      <th>children</th>\n",
       "      <th>smoker</th>\n",
       "      <th>region</th>\n",
       "      <th>charges</th>\n",
       "    </tr>\n",
       "  </thead>\n",
       "  <tbody>\n",
       "    <tr>\n",
       "      <th>0</th>\n",
       "      <td>34</td>\n",
       "      <td>female</td>\n",
       "      <td>23.56</td>\n",
       "      <td>0</td>\n",
       "      <td>no</td>\n",
       "      <td>northeast</td>\n",
       "      <td>4992.3764</td>\n",
       "    </tr>\n",
       "    <tr>\n",
       "      <th>1</th>\n",
       "      <td>45</td>\n",
       "      <td>female</td>\n",
       "      <td>33.10</td>\n",
       "      <td>0</td>\n",
       "      <td>no</td>\n",
       "      <td>southwest</td>\n",
       "      <td>7345.0840</td>\n",
       "    </tr>\n",
       "    <tr>\n",
       "      <th>2</th>\n",
       "      <td>23</td>\n",
       "      <td>male</td>\n",
       "      <td>32.70</td>\n",
       "      <td>3</td>\n",
       "      <td>no</td>\n",
       "      <td>southwest</td>\n",
       "      <td>3591.4800</td>\n",
       "    </tr>\n",
       "  </tbody>\n",
       "</table>\n",
       "</div>"
      ],
      "text/plain": [
       "   age     sex    bmi  children smoker     region    charges\n",
       "0   34  female  23.56         0     no  northeast  4992.3764\n",
       "1   45  female  33.10         0     no  southwest  7345.0840\n",
       "2   23    male  32.70         3     no  southwest  3591.4800"
      ]
     },
     "execution_count": 3,
     "metadata": {},
     "output_type": "execute_result"
    }
   ],
   "source": [
    "df_treino.head(3)"
   ]
  },
  {
   "cell_type": "code",
   "execution_count": 4,
   "metadata": {},
   "outputs": [],
   "source": [
    "df_treino.drop(['region', 'bmi'], axis = 1, inplace = True)"
   ]
  },
  {
   "cell_type": "code",
   "execution_count": 5,
   "metadata": {},
   "outputs": [
    {
     "name": "stdout",
     "output_type": "stream",
     "text": [
      "<class 'pandas.core.frame.DataFrame'>\n",
      "RangeIndex: 1000 entries, 0 to 999\n",
      "Data columns (total 5 columns):\n",
      " #   Column    Non-Null Count  Dtype  \n",
      "---  ------    --------------  -----  \n",
      " 0   age       1000 non-null   int64  \n",
      " 1   sex       1000 non-null   object \n",
      " 2   children  1000 non-null   int64  \n",
      " 3   smoker    1000 non-null   object \n",
      " 4   charges   1000 non-null   float64\n",
      "dtypes: float64(1), int64(2), object(2)\n",
      "memory usage: 39.2+ KB\n"
     ]
    }
   ],
   "source": [
    "df_treino.info()"
   ]
  },
  {
   "cell_type": "code",
   "execution_count": 6,
   "metadata": {},
   "outputs": [],
   "source": [
    "df_treino.loc[df_treino['smoker'] == 'no', 'smoker'] = 0\n",
    "df_treino.loc[df_treino['smoker'] == 'yes', 'smoker'] = 1\n",
    "df_treino.loc[df_treino['sex'] == 'male', 'sex'] = 0\n",
    "df_treino.loc[df_treino['sex'] == 'female', 'sex'] = 1"
   ]
  },
  {
   "cell_type": "code",
   "execution_count": 7,
   "metadata": {},
   "outputs": [],
   "source": [
    "df_treino['smoker'] = df_treino['smoker'].astype(int)\n",
    "df_treino['sex'] = df_treino['sex'].astype(int)"
   ]
  },
  {
   "attachments": {},
   "cell_type": "markdown",
   "metadata": {},
   "source": [
    "## (a) Qual o objetivo em estimar o vetor de parâmetros $\\^{\\beta}$?"
   ]
  },
  {
   "cell_type": "code",
   "execution_count": 8,
   "metadata": {},
   "outputs": [
    {
     "name": "stdout",
     "output_type": "stream",
     "text": [
      "prever valores futuros\n"
     ]
    }
   ],
   "source": [
    "print('prever valores futuros')"
   ]
  },
  {
   "attachments": {},
   "cell_type": "markdown",
   "metadata": {},
   "source": [
    "## (b) Encontre o vetor de parâmetros $\\^{\\beta}$, utilizando as seguintes abordagens (indique os cálculos/pseudo-códigos utilizados partindo da equação 2):"
   ]
  },
  {
   "attachments": {},
   "cell_type": "markdown",
   "metadata": {},
   "source": [
    "### $i$. Solução analítica matricial."
   ]
  },
  {
   "cell_type": "code",
   "execution_count": 9,
   "metadata": {},
   "outputs": [],
   "source": [
    "def matriz_x(coluna, dados):\n",
    "    \n",
    "    n_ = dados.shape[0]\n",
    "    col_1 = np.ones(n_)\n",
    "    col_var = dados[coluna]\n",
    "    X_mat = np.c_[col_1, np.array(col_var)]\n",
    "\n",
    "    return X_mat"
   ]
  },
  {
   "cell_type": "code",
   "execution_count": 10,
   "metadata": {},
   "outputs": [
    {
     "data": {
      "text/plain": [
       "array([[ 1., 34.,  1.,  0.,  0.],\n",
       "       [ 1., 45.,  1.,  0.,  0.],\n",
       "       [ 1., 23.,  0.,  3.,  0.]])"
      ]
     },
     "execution_count": 10,
     "metadata": {},
     "output_type": "execute_result"
    }
   ],
   "source": [
    "X_mat = matriz_x(coluna = ['age', 'sex', 'children', 'smoker'], dados = df_treino)\n",
    "X_mat[:3]"
   ]
  },
  {
   "cell_type": "code",
   "execution_count": 11,
   "metadata": {},
   "outputs": [
    {
     "data": {
      "text/plain": [
       "0    4992.3764\n",
       "1    7345.0840\n",
       "2    3591.4800\n",
       "Name: charges, dtype: float64"
      ]
     },
     "execution_count": 11,
     "metadata": {},
     "output_type": "execute_result"
    }
   ],
   "source": [
    "y = df_treino['charges']\n",
    "y[:3]"
   ]
  },
  {
   "cell_type": "code",
   "execution_count": 12,
   "metadata": {},
   "outputs": [
    {
     "data": {
      "text/plain": [
       "array([[1.000000e+03, 3.920900e+04, 4.820000e+02, 1.096000e+03,\n",
       "        2.020000e+02],\n",
       "       [3.920900e+04, 1.735719e+06, 1.904800e+04, 4.364900e+04,\n",
       "        7.721000e+03],\n",
       "       [4.820000e+02, 1.904800e+04, 4.820000e+02, 5.250000e+02,\n",
       "        8.200000e+01],\n",
       "       [1.096000e+03, 4.364900e+04, 5.250000e+02, 2.622000e+03,\n",
       "        2.280000e+02],\n",
       "       [2.020000e+02, 7.721000e+03, 8.200000e+01, 2.280000e+02,\n",
       "        2.020000e+02]])"
      ]
     },
     "execution_count": 12,
     "metadata": {},
     "output_type": "execute_result"
    }
   ],
   "source": [
    "Xlx = X_mat.T @ X_mat\n",
    "Xlx"
   ]
  },
  {
   "cell_type": "code",
   "execution_count": 13,
   "metadata": {},
   "outputs": [],
   "source": [
    "inv_xlx = inv(Xlx)"
   ]
  },
  {
   "cell_type": "code",
   "execution_count": 14,
   "metadata": {},
   "outputs": [
    {
     "data": {
      "text/plain": [
       "array([-3075.26838274,   272.20653435,    57.34384981,   556.55795561,\n",
       "       23799.89105225])"
      ]
     },
     "execution_count": 14,
     "metadata": {},
     "output_type": "execute_result"
    }
   ],
   "source": [
    "betas = inv_xlx @ (X_mat.T) @ y\n",
    "betas"
   ]
  },
  {
   "attachments": {},
   "cell_type": "markdown",
   "metadata": {},
   "source": [
    "### $ii$. Decomposição QR."
   ]
  },
  {
   "cell_type": "code",
   "execution_count": 15,
   "metadata": {},
   "outputs": [],
   "source": [
    "# nao vai cair na prova"
   ]
  },
  {
   "attachments": {},
   "cell_type": "markdown",
   "metadata": {},
   "source": [
    "### $iii$. Gradiente descendente."
   ]
  },
  {
   "cell_type": "code",
   "execution_count": 16,
   "metadata": {},
   "outputs": [],
   "source": [
    "# eu nao sei pq essa nao funciona. boa sorte"
   ]
  },
  {
   "cell_type": "code",
   "execution_count": 17,
   "metadata": {},
   "outputs": [
    {
     "data": {
      "text/plain": [
       "array([[ 1., 34.,  1.,  0.,  0.],\n",
       "       [ 1., 45.,  1.,  0.,  0.],\n",
       "       [ 1., 23.,  0.,  3.,  0.]])"
      ]
     },
     "execution_count": 17,
     "metadata": {},
     "output_type": "execute_result"
    }
   ],
   "source": [
    "X_mat = matriz_x(coluna=['age', 'sex', 'children', 'smoker'], dados=df_treino)\n",
    "X_mat[:3]"
   ]
  },
  {
   "cell_type": "code",
   "execution_count": 18,
   "metadata": {},
   "outputs": [
    {
     "data": {
      "text/plain": [
       "0    4992.3764\n",
       "1    7345.0840\n",
       "2    3591.4800\n",
       "Name: charges, dtype: float64"
      ]
     },
     "execution_count": 18,
     "metadata": {},
     "output_type": "execute_result"
    }
   ],
   "source": [
    "y = df_treino['charges']\n",
    "\n",
    "y[:3]"
   ]
  },
  {
   "cell_type": "code",
   "execution_count": 19,
   "metadata": {},
   "outputs": [],
   "source": [
    "def grad_(X, B, Y):\n",
    "    \n",
    "    n_ = len(Y)\n",
    "    grad = X.T @ (X @ B - Y) / n_\n",
    "\n",
    "    return grad"
   ]
  },
  {
   "cell_type": "code",
   "execution_count": 20,
   "metadata": {},
   "outputs": [
    {
     "data": {
      "text/plain": [
       "array([0., 0., 0., 0., 0.])"
      ]
     },
     "execution_count": 20,
     "metadata": {},
     "output_type": "execute_result"
    }
   ],
   "source": [
    "betas = np.zeros(5)\n",
    "betas"
   ]
  },
  {
   "cell_type": "code",
   "execution_count": 21,
   "metadata": {},
   "outputs": [
    {
     "name": "stderr",
     "output_type": "stream",
     "text": [
      "C:\\Users\\xx\\AppData\\Local\\Temp\\ipykernel_9704\\799805565.py:8: RuntimeWarning: invalid value encountered in subtract\n",
      "  betas = betas - alpha * gradiente\n"
     ]
    }
   ],
   "source": [
    "n_iter = 500\n",
    "alpha = 0.01\n",
    "betas_list = list()\n",
    "\n",
    "for i in range(1, n_iter + 1):\n",
    "    gradiente = grad_(X=X_mat, B=betas, Y=y)\n",
    "\n",
    "    betas = betas - alpha * gradiente\n",
    "\n",
    "    betas_list.append(betas)"
   ]
  },
  {
   "cell_type": "code",
   "execution_count": 22,
   "metadata": {},
   "outputs": [
    {
     "data": {
      "text/plain": [
       "array([nan, nan, nan, nan, nan])"
      ]
     },
     "execution_count": 22,
     "metadata": {},
     "output_type": "execute_result"
    }
   ],
   "source": [
    "betas"
   ]
  },
  {
   "cell_type": "code",
   "execution_count": 23,
   "metadata": {},
   "outputs": [
    {
     "data": {
      "text/plain": [
       "500"
      ]
     },
     "execution_count": 23,
     "metadata": {},
     "output_type": "execute_result"
    }
   ],
   "source": [
    "len(betas_list)"
   ]
  },
  {
   "cell_type": "code",
   "execution_count": 24,
   "metadata": {},
   "outputs": [
    {
     "name": "stdout",
     "output_type": "stream",
     "text": [
      "[nan nan nan nan nan]\n",
      "[-3.78413571e+61 -1.67491793e+63 -1.83858790e+61 -4.21600095e+61\n",
      " -7.45265006e+60]\n",
      "[-1.96317481e+122 -8.68932021e+123 -9.53842499e+121 -2.18722253e+122\n",
      " -3.86636633e+121]\n",
      "[-1.01847704e+183 -4.50793943e+184 -4.94844718e+182 -1.13471094e+183\n",
      " -2.00583530e+182]\n",
      "[-5.28376526e+243 -2.33867753e+245 -2.56720890e+243 -5.88677601e+243\n",
      " -1.04060891e+243]\n",
      "[nan nan nan nan nan]\n",
      "[nan nan nan nan nan]\n",
      "[nan nan nan nan nan]\n",
      "[nan nan nan nan nan]\n",
      "[nan nan nan nan nan]\n",
      "[nan nan nan nan nan]\n",
      "[nan nan nan nan nan]\n"
     ]
    }
   ],
   "source": [
    "for i in range(0, len(betas_list)+1):\n",
    "    if i % 50 == 0:\n",
    "        print(betas_list[i-1])\n",
    "print(betas_list[-1])"
   ]
  },
  {
   "attachments": {},
   "cell_type": "markdown",
   "metadata": {},
   "source": [
    "## (c) Calcule o Erro quadrático Médio na base de teste."
   ]
  },
  {
   "cell_type": "code",
   "execution_count": 25,
   "metadata": {},
   "outputs": [],
   "source": [
    "df_teste = pd.read_csv('https://raw.githubusercontent.com/Cayan-Portela/ceub/main/dados/insurance_teste.csv', sep = ';', decimal = ',')"
   ]
  },
  {
   "cell_type": "code",
   "execution_count": 26,
   "metadata": {},
   "outputs": [],
   "source": [
    "df_teste.loc[df_teste['smoker'] == 'no', 'smoker'] = 0\n",
    "df_teste.loc[df_teste['smoker'] == 'yes', 'smoker'] = 1\n",
    "df_teste.loc[df_teste['sex'] == 'male', 'sex'] = 0\n",
    "df_teste.loc[df_teste['sex'] == 'female', 'sex'] = 1\n",
    "\n",
    "df_teste['smoker'] = df_teste['smoker'].astype(int)\n",
    "df_teste['sex'] = df_teste['sex'].astype(int)"
   ]
  },
  {
   "cell_type": "code",
   "execution_count": 27,
   "metadata": {},
   "outputs": [
    {
     "data": {
      "text/plain": [
       "48343255.08763409"
      ]
     },
     "execution_count": 27,
     "metadata": {},
     "output_type": "execute_result"
    }
   ],
   "source": [
    "X_teste = matriz_x(coluna = ['age', 'sex', 'children', 'smoker'], dados = df_teste)\n",
    "\n",
    "betas = [-3075.26838274, 272.20653435, 57.34384981, 556.55795561, 23799.89105225]\n",
    "\n",
    "preditos = X_teste @ betas\n",
    "\n",
    "erro = df_teste['charges'] - preditos\n",
    "\n",
    "np.mean(erro ** 2)"
   ]
  },
  {
   "attachments": {},
   "cell_type": "markdown",
   "metadata": {},
   "source": [
    "# 2 regressão logística"
   ]
  },
  {
   "cell_type": "code",
   "execution_count": 28,
   "metadata": {},
   "outputs": [],
   "source": [
    "df = pd.read_csv(\n",
    "    'https://raw.githubusercontent.com/Cayan-Portela/ceub/main/dados/bank_customer_treino.csv',\n",
    "    usecols=['gender', 'age', 'credit_card', 'credit_score', 'churn']\n",
    "    )"
   ]
  },
  {
   "cell_type": "code",
   "execution_count": 29,
   "metadata": {},
   "outputs": [
    {
     "data": {
      "text/html": [
       "<div>\n",
       "<style scoped>\n",
       "    .dataframe tbody tr th:only-of-type {\n",
       "        vertical-align: middle;\n",
       "    }\n",
       "\n",
       "    .dataframe tbody tr th {\n",
       "        vertical-align: top;\n",
       "    }\n",
       "\n",
       "    .dataframe thead th {\n",
       "        text-align: right;\n",
       "    }\n",
       "</style>\n",
       "<table border=\"1\" class=\"dataframe\">\n",
       "  <thead>\n",
       "    <tr style=\"text-align: right;\">\n",
       "      <th></th>\n",
       "      <th>credit_score</th>\n",
       "      <th>gender</th>\n",
       "      <th>age</th>\n",
       "      <th>credit_card</th>\n",
       "      <th>churn</th>\n",
       "    </tr>\n",
       "  </thead>\n",
       "  <tbody>\n",
       "    <tr>\n",
       "      <th>0</th>\n",
       "      <td>564</td>\n",
       "      <td>Male</td>\n",
       "      <td>26</td>\n",
       "      <td>0</td>\n",
       "      <td>0</td>\n",
       "    </tr>\n",
       "    <tr>\n",
       "      <th>1</th>\n",
       "      <td>688</td>\n",
       "      <td>Male</td>\n",
       "      <td>45</td>\n",
       "      <td>0</td>\n",
       "      <td>0</td>\n",
       "    </tr>\n",
       "    <tr>\n",
       "      <th>2</th>\n",
       "      <td>784</td>\n",
       "      <td>Female</td>\n",
       "      <td>42</td>\n",
       "      <td>1</td>\n",
       "      <td>0</td>\n",
       "    </tr>\n",
       "  </tbody>\n",
       "</table>\n",
       "</div>"
      ],
      "text/plain": [
       "   credit_score  gender  age  credit_card  churn\n",
       "0           564    Male   26            0      0\n",
       "1           688    Male   45            0      0\n",
       "2           784  Female   42            1      0"
      ]
     },
     "execution_count": 29,
     "metadata": {},
     "output_type": "execute_result"
    }
   ],
   "source": [
    "df.head(3)"
   ]
  },
  {
   "cell_type": "code",
   "execution_count": 30,
   "metadata": {},
   "outputs": [],
   "source": [
    "df.loc[df['gender'] == 'Male', 'gender'] = 0\n",
    "df.loc[df['gender'] == 'Female', 'gender'] = 1\n",
    "\n",
    "df['gender'] = df['gender'].astype(int)"
   ]
  },
  {
   "attachments": {},
   "cell_type": "markdown",
   "metadata": {},
   "source": [
    "## Newton-Raphson"
   ]
  },
  {
   "cell_type": "code",
   "execution_count": 31,
   "metadata": {},
   "outputs": [],
   "source": [
    "def matriz_x(colunas, dados):\n",
    "    \n",
    "    n_ = dados.shape[0]\n",
    "    col_1 = np.ones(n_)\n",
    "    col_var = dados[colunas]\n",
    "\n",
    "    X_mat = np.c_[col_1, np.array(col_var)]\n",
    "\n",
    "    return X_mat"
   ]
  },
  {
   "cell_type": "code",
   "execution_count": 32,
   "metadata": {},
   "outputs": [
    {
     "data": {
      "text/plain": [
       "array([[  1., 564.,   0.,  26.,   0.],\n",
       "       [  1., 688.,   0.,  45.,   0.],\n",
       "       [  1., 784.,   1.,  42.,   1.]])"
      ]
     },
     "execution_count": 32,
     "metadata": {},
     "output_type": "execute_result"
    }
   ],
   "source": [
    "col_x = ['credit_score', 'gender', 'age', 'credit_card']\n",
    "\n",
    "X_mat = matriz_x(col_x, df)\n",
    "X_mat[:3]"
   ]
  },
  {
   "cell_type": "code",
   "execution_count": 33,
   "metadata": {},
   "outputs": [
    {
     "data": {
      "text/plain": [
       "0    0\n",
       "1    0\n",
       "2    0\n",
       "Name: churn, dtype: int64"
      ]
     },
     "execution_count": 33,
     "metadata": {},
     "output_type": "execute_result"
    }
   ],
   "source": [
    "y = df['churn']\n",
    "y[:3]"
   ]
  },
  {
   "cell_type": "code",
   "execution_count": 34,
   "metadata": {},
   "outputs": [],
   "source": [
    "def beta_inicial(X):\n",
    "\n",
    "    return np.zeros(X.shape[1])"
   ]
  },
  {
   "cell_type": "code",
   "execution_count": 35,
   "metadata": {},
   "outputs": [],
   "source": [
    "def calcula_p(X, B):\n",
    "\n",
    "    return np.exp(X @ B) / (1 + np.exp(X @ B))"
   ]
  },
  {
   "cell_type": "code",
   "execution_count": 36,
   "metadata": {},
   "outputs": [],
   "source": [
    "def beta_update(X, W, y, p):\n",
    "\n",
    "    return inv(X.T @ W @ X) @ X.T @ (y - p)"
   ]
  },
  {
   "cell_type": "code",
   "execution_count": 37,
   "metadata": {},
   "outputs": [
    {
     "name": "stdout",
     "output_type": "stream",
     "text": [
      "Iteração 0: [-1.38614810e+00 -1.94814661e-04  1.47000394e-01  2.22232554e-02\n",
      " -1.21993081e-02]\n",
      "Iteração 5: [-3.72955933e+00 -6.56375942e-04  4.87529214e-01  6.36438720e-02\n",
      " -4.92364054e-02]\n",
      "Iteração 10: [-3.74527484e+00 -6.58073974e-04  4.89129824e-01  6.40429438e-02\n",
      " -4.90863632e-02]\n",
      "Iteração 15: [-3.74574819e+00 -6.58123979e-04  4.89178253e-01  6.40560056e-02\n",
      " -4.90817729e-02]\n",
      "Iteração 20: [-3.74576586e+00 -6.58125886e-04  4.89180083e-01  6.40564940e-02\n",
      " -4.90816108e-02]\n",
      "Iteração 25: [-3.74576652e+00 -6.58125958e-04  4.89180152e-01  6.40565123e-02\n",
      " -4.90816047e-02]\n",
      "Iteração 30: [-3.74576655e+00 -6.58125961e-04  4.89180154e-01  6.40565130e-02\n",
      " -4.90816045e-02]\n",
      "Iteração 35: [-3.74576655e+00 -6.58125961e-04  4.89180154e-01  6.40565130e-02\n",
      " -4.90816045e-02]\n",
      "Iteração 40: [-3.74576655e+00 -6.58125961e-04  4.89180154e-01  6.40565130e-02\n",
      " -4.90816045e-02]\n",
      "Iteração 45: [-3.74576655e+00 -6.58125961e-04  4.89180154e-01  6.40565130e-02\n",
      " -4.90816045e-02]\n",
      "Iteração 50: [-3.74576655e+00 -6.58125961e-04  4.89180154e-01  6.40565130e-02\n",
      " -4.90816045e-02]\n"
     ]
    }
   ],
   "source": [
    "betas = beta_inicial(X_mat)\n",
    "p = calcula_p(X_mat, betas)\n",
    "W = np.diag(p)\n",
    "\n",
    "for i in range(51):\n",
    "    p = calcula_p(X_mat, betas)\n",
    "    W = np.diag(p)\n",
    "    beta_k1 = beta_update(X_mat, W, y, p)\n",
    "    betas = betas + beta_k1\n",
    "\n",
    "    if i % 5 == 0:\n",
    "        print(f'Iteração {i}: {betas}')"
   ]
  },
  {
   "attachments": {},
   "cell_type": "markdown",
   "metadata": {},
   "source": [
    "## Gradiente descendente"
   ]
  },
  {
   "cell_type": "code",
   "execution_count": 38,
   "metadata": {},
   "outputs": [],
   "source": [
    "scaler = StandardScaler()"
   ]
  },
  {
   "cell_type": "code",
   "execution_count": 39,
   "metadata": {},
   "outputs": [],
   "source": [
    "credit_score = df['credit_score'].to_numpy()\n",
    "age = df['age'].to_numpy()\n",
    "\n",
    "credit_score = credit_score.reshape(-1, 1)\n",
    "age = age.reshape(-1, 1)\n",
    "\n",
    "age = scaler.fit_transform(age)\n",
    "credit_score = scaler.fit_transform(credit_score)"
   ]
  },
  {
   "cell_type": "code",
   "execution_count": 40,
   "metadata": {},
   "outputs": [],
   "source": [
    "df['age'] = age\n",
    "df['credit_score'] = credit_score"
   ]
  },
  {
   "cell_type": "code",
   "execution_count": 41,
   "metadata": {},
   "outputs": [
    {
     "data": {
      "text/html": [
       "<div>\n",
       "<style scoped>\n",
       "    .dataframe tbody tr th:only-of-type {\n",
       "        vertical-align: middle;\n",
       "    }\n",
       "\n",
       "    .dataframe tbody tr th {\n",
       "        vertical-align: top;\n",
       "    }\n",
       "\n",
       "    .dataframe thead th {\n",
       "        text-align: right;\n",
       "    }\n",
       "</style>\n",
       "<table border=\"1\" class=\"dataframe\">\n",
       "  <thead>\n",
       "    <tr style=\"text-align: right;\">\n",
       "      <th></th>\n",
       "      <th>credit_score</th>\n",
       "      <th>gender</th>\n",
       "      <th>age</th>\n",
       "      <th>credit_card</th>\n",
       "      <th>churn</th>\n",
       "    </tr>\n",
       "  </thead>\n",
       "  <tbody>\n",
       "    <tr>\n",
       "      <th>0</th>\n",
       "      <td>-0.884431</td>\n",
       "      <td>0</td>\n",
       "      <td>-1.231208</td>\n",
       "      <td>0</td>\n",
       "      <td>0</td>\n",
       "    </tr>\n",
       "    <tr>\n",
       "      <th>1</th>\n",
       "      <td>0.395807</td>\n",
       "      <td>0</td>\n",
       "      <td>0.555991</td>\n",
       "      <td>0</td>\n",
       "      <td>0</td>\n",
       "    </tr>\n",
       "    <tr>\n",
       "      <th>2</th>\n",
       "      <td>1.386959</td>\n",
       "      <td>1</td>\n",
       "      <td>0.273802</td>\n",
       "      <td>1</td>\n",
       "      <td>0</td>\n",
       "    </tr>\n",
       "  </tbody>\n",
       "</table>\n",
       "</div>"
      ],
      "text/plain": [
       "   credit_score  gender       age  credit_card  churn\n",
       "0     -0.884431       0 -1.231208            0      0\n",
       "1      0.395807       0  0.555991            0      0\n",
       "2      1.386959       1  0.273802            1      0"
      ]
     },
     "execution_count": 41,
     "metadata": {},
     "output_type": "execute_result"
    }
   ],
   "source": [
    "df.head(3)"
   ]
  },
  {
   "cell_type": "code",
   "execution_count": 42,
   "metadata": {},
   "outputs": [
    {
     "data": {
      "text/plain": [
       "array([[ 1.        , -0.88443118,  0.        , -1.23120783,  0.        ],\n",
       "       [ 1.        ,  0.39580696,  0.        ,  0.55599141,  0.        ],\n",
       "       [ 1.        ,  1.38695906,  1.        ,  0.27380206,  1.        ]])"
      ]
     },
     "execution_count": 42,
     "metadata": {},
     "output_type": "execute_result"
    }
   ],
   "source": [
    "col_x = ['credit_score', 'gender', 'age', 'credit_card']\n",
    "\n",
    "X_mat = matriz_x(col_x, df)\n",
    "X_mat[:3]"
   ]
  },
  {
   "cell_type": "code",
   "execution_count": 43,
   "metadata": {},
   "outputs": [
    {
     "data": {
      "text/plain": [
       "0    0\n",
       "1    0\n",
       "2    0\n",
       "Name: churn, dtype: int64"
      ]
     },
     "execution_count": 43,
     "metadata": {},
     "output_type": "execute_result"
    }
   ],
   "source": [
    "y = df['churn']\n",
    "y[:3]"
   ]
  },
  {
   "cell_type": "code",
   "execution_count": 44,
   "metadata": {},
   "outputs": [],
   "source": [
    "def beta_update(X, y, p):\n",
    "\n",
    "    return -(1 / X.shape[0]) * (X.T) @ (y - p)"
   ]
  },
  {
   "cell_type": "code",
   "execution_count": 45,
   "metadata": {},
   "outputs": [
    {
     "name": "stdout",
     "output_type": "stream",
     "text": [
      "Iteração 0: [-2.93000000e-03 -8.64136651e-05 -1.13583333e-03  1.18821393e-03\n",
      " -2.09833333e-03]\n",
      "Iteração 5000: [-1.31846769 -0.06206294  0.25067299  0.66543523 -0.31585159]\n",
      "Iteração 10000: [-1.52706723 -0.06320515  0.4090582   0.67410066 -0.16733653]\n",
      "Iteração 15000: [-1.61043298 -0.06354396  0.45887172  0.67805773 -0.09990511]\n",
      "Iteração 20000: [-1.64474054 -0.06366476  0.47701636  0.67975458 -0.07067197]\n",
      "Iteração 25000: [-1.65904893 -0.06371158  0.48416337  0.6804721  -0.0582099 ]\n",
      "Iteração 30000: [-1.66505115 -0.06373056  0.48708591  0.68077466 -0.05293323]\n",
      "Iteração 35000: [-1.66757528 -0.06373842  0.48830132  0.68090217 -0.05070537]\n",
      "Iteração 40000: [-1.66863787 -0.06374171  0.48881052  0.68095589 -0.04976589]\n",
      "Iteração 45000: [-1.66908539 -0.06374309  0.48902454  0.68097852 -0.04936993]\n",
      "Iteração 50000: [-1.66927391 -0.06374367  0.48911461  0.68098806 -0.04920308]\n"
     ]
    }
   ],
   "source": [
    "betas = beta_inicial(X_mat)\n",
    "p = calcula_p(X_mat, betas)\n",
    "alpha = .01\n",
    "\n",
    "for i in range(50001):\n",
    "    p = calcula_p(X_mat, betas)\n",
    "    beta_k1 = beta_update(X_mat, y, p)\n",
    "    betas = betas - alpha * beta_k1\n",
    "\n",
    "    if i % 5000 == 0:\n",
    "        print(f'Iteração {i}: {betas}')"
   ]
  },
  {
   "attachments": {},
   "cell_type": "markdown",
   "metadata": {},
   "source": [
    "# 3 raízes"
   ]
  },
  {
   "attachments": {},
   "cell_type": "markdown",
   "metadata": {},
   "source": [
    "$x = \\sqrt10 \\\\\n",
    "x^2 = 10 \\\\\n",
    "x^2-10=0 \\\\\n",
    "f(x)=x^2-10 \\\\ \n",
    "f'(x)=2x$"
   ]
  },
  {
   "attachments": {},
   "cell_type": "markdown",
   "metadata": {},
   "source": [
    "$x_1=x_0-\\frac{f(x_0)}{f'(x_0)} \\\\\n",
    "x_1=x_0-\\frac{x_0^2-10}{2x_0} \\\\\n",
    "x_1=x_0-\\frac{x_0^2}{2x_0}+\\frac{10}{2x_0} \\\\\n",
    "x_1=x_0-\\frac{x_0}{2}+\\frac{10}{2x_0} \\\\\n",
    "x_1=\\frac{x_0}{2}+\\frac{10}{2x_0} \\\\\n",
    "x_1=\\frac{1}{2}(x_0+\\frac{10}{x_0})$"
   ]
  },
  {
   "cell_type": "code",
   "execution_count": 46,
   "metadata": {},
   "outputs": [],
   "source": [
    "def x_update(x):\n",
    "    # return x - ((x**2-10) / (2*x))\n",
    "    return (1/2) * (x + 10/x)"
   ]
  },
  {
   "cell_type": "code",
   "execution_count": 47,
   "metadata": {},
   "outputs": [
    {
     "name": "stdout",
     "output_type": "stream",
     "text": [
      "3.1622776602\n",
      "True\n"
     ]
    }
   ],
   "source": [
    "x_ = 1\n",
    "for i in range(10):\n",
    "    x_ = x_update(x_)\n",
    "\n",
    "print(round(x_, 10))\n",
    "print(round(x_, 10) == round(np.sqrt(10), 10))"
   ]
  },
  {
   "attachments": {},
   "cell_type": "markdown",
   "metadata": {},
   "source": [
    "## 4"
   ]
  },
  {
   "attachments": {},
   "cell_type": "markdown",
   "metadata": {},
   "source": [
    "$f(x)=x^4-2x^3+2x-2 \\\\\n",
    "f'(x)=4x^3-6x^2+2$"
   ]
  },
  {
   "cell_type": "code",
   "execution_count": 48,
   "metadata": {},
   "outputs": [],
   "source": [
    "def x_update(x):\n",
    "    return (x**4 - 2*x**3 + 2*x - 2) / (4*x**3 - 6*x**2 + 2)"
   ]
  },
  {
   "cell_type": "code",
   "execution_count": 49,
   "metadata": {},
   "outputs": [
    {
     "name": "stdout",
     "output_type": "stream",
     "text": [
      "1.83144651\n",
      "25\n"
     ]
    }
   ],
   "source": [
    "x_ = 1000\n",
    "count = 1\n",
    "\n",
    "while x_ < 1 or x_ > 2:\n",
    "    x_ -= x_update(x_)\n",
    "    count += 1\n",
    "\n",
    "print(round(x_, 8))\n",
    "print(count)"
   ]
  },
  {
   "attachments": {},
   "cell_type": "markdown",
   "metadata": {},
   "source": [
    "## 5"
   ]
  },
  {
   "attachments": {},
   "cell_type": "markdown",
   "metadata": {},
   "source": [
    "$f(x)=3x^{1/3}=0 \\\\\n",
    "f'(x)=x^{-2/3} \\\\\n",
    "x_{n+1}=x_n-\\frac{3x_n^{1/3}}{x_n^{-2/3}} \\\\\n",
    "x_{n+1}=x_n-3x_n^{1/3+2/3} \\\\\n",
    "x_{n+1}=x_n-3x_n \\\\\n",
    "x_{n+1}=-2x_n$"
   ]
  },
  {
   "cell_type": "code",
   "execution_count": 50,
   "metadata": {},
   "outputs": [],
   "source": [
    "def x_update(x):\n",
    "    # return (3*x**(1/3)) / (x**(-2/3))\n",
    "    return -2*x"
   ]
  },
  {
   "cell_type": "code",
   "execution_count": 51,
   "metadata": {},
   "outputs": [
    {
     "name": "stdout",
     "output_type": "stream",
     "text": [
      "Passo 1: -0.20\n",
      "Passo 2: 0.40\n",
      "Passo 3: -0.80\n",
      "Passo 4: 1.60\n",
      "Passo 5: -3.20\n",
      "Passo 6: 6.40\n",
      "Passo 7: -12.80\n",
      "Passo 8: 25.60\n",
      "Passo 9: -51.20\n",
      "Passo 10: 102.40\n"
     ]
    }
   ],
   "source": [
    "x_ = .1\n",
    "\n",
    "for i in range(10):\n",
    "    x_ = x_update(x_)\n",
    "    print(f'Passo {i+1}: {x_:.2f}')"
   ]
  },
  {
   "attachments": {},
   "cell_type": "markdown",
   "metadata": {},
   "source": [
    "## 6"
   ]
  },
  {
   "attachments": {},
   "cell_type": "markdown",
   "metadata": {},
   "source": [
    "$f(x)=x^4-5x^3+9x+3 \\\\\n",
    "f'(x)=4x^3-15x^2+9=0$"
   ]
  },
  {
   "cell_type": "code",
   "execution_count": 52,
   "metadata": {},
   "outputs": [],
   "source": [
    "def x_update(x):\n",
    "    return (x**4 - 5*x**3 + 9*x + 3) / (4*x**3 - 15*x**2 + 9)"
   ]
  },
  {
   "cell_type": "code",
   "execution_count": 53,
   "metadata": {},
   "outputs": [
    {
     "name": "stdout",
     "output_type": "stream",
     "text": [
      "5.50101535\n",
      "38\n"
     ]
    }
   ],
   "source": [
    "x_ = 150000\n",
    "count = 1\n",
    "\n",
    "while x_ <= 4 or x_ >= 6:\n",
    "    x_ -= x_update(x_)\n",
    "    count += 1\n",
    "\n",
    "print(round(x_, 8))\n",
    "print(count)"
   ]
  },
  {
   "cell_type": "markdown",
   "metadata": {},
   "source": [
    "# Anotações extras"
   ]
  },
  {
   "cell_type": "markdown",
   "metadata": {},
   "source": [
    "## Regressão linear"
   ]
  },
  {
   "cell_type": "markdown",
   "metadata": {},
   "source": [
    "### Solução Analítica &rarr; $\\beta = (X'X)^{-1} X'Y$\n",
    "### Gradiente &rarr; $\\beta = \\beta - \\alpha 2X'(X\\beta-Y)$\n",
    "### Newton-Raphson &rarr; $\\beta = \\beta - X'(X\\beta-Y)(\\beta'X')^{-1}$"
   ]
  },
  {
   "cell_type": "markdown",
   "metadata": {},
   "source": [
    "## Regressão logística"
   ]
  },
  {
   "cell_type": "markdown",
   "metadata": {},
   "source": [
    "### Solução Analítica &rarr; Não tem\n",
    "### Gradiente &rarr; $\\beta = \\beta - \\alpha [\\frac{-1}{n} X'(y-p)]$\n",
    "### Newton-Raphson &rarr; $\\beta = \\beta + (X'WX)^{-1} X'(y-p)$"
   ]
  },
  {
   "cell_type": "markdown",
   "metadata": {},
   "source": [
    "## Raíz/Mínimo de Função"
   ]
  },
  {
   "cell_type": "markdown",
   "metadata": {},
   "source": [
    "### Gradiente &rarr; $X = X - \\alpha \\cdot F(X) $\n",
    "### Newton-Raphson &rarr; $X = X - \\frac{F(X)}{F'(X)}$"
   ]
  }
 ],
 "metadata": {
  "kernelspec": {
   "display_name": "Python 3",
   "language": "python",
   "name": "python3"
  },
  "language_info": {
   "codemirror_mode": {
    "name": "ipython",
    "version": 3
   },
   "file_extension": ".py",
   "mimetype": "text/x-python",
   "name": "python",
   "nbconvert_exporter": "python",
   "pygments_lexer": "ipython3",
   "version": "3.11.3"
  },
  "orig_nbformat": 4,
  "vscode": {
   "interpreter": {
    "hash": "26de051ba29f2982a8de78e945f0abaf191376122a1563185a90213a26c5da77"
   }
  }
 },
 "nbformat": 4,
 "nbformat_minor": 2
}
