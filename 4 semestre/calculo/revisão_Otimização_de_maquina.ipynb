{
  "nbformat": 4,
  "nbformat_minor": 0,
  "metadata": {
    "colab": {
      "provenance": []
    },
    "kernelspec": {
      "name": "python3",
      "display_name": "Python 3"
    },
    "language_info": {
      "name": "python"
    }
  },
  "cells": [
    {
      "cell_type": "code",
      "execution_count": 1,
      "metadata": {
        "id": "xUmdQWr4GpD2"
      },
      "outputs": [],
      "source": [
        "import pandas as pd\n",
        "import numpy as np\n",
        "from scipy.linalg import qr\n",
        "from IPython.core.interactiveshell import InteractiveShell\n",
        "InteractiveShell.ast_node_interactivity = \"all\"\n",
        "from sklearn.linear_model import LogisticRegression\n",
        "from sklearn.preprocessing import LabelEncoder\n",
        "from sklearn.linear_model import LinearRegression\n",
        "from sklearn.metrics import mean_squared_error\n",
        "from sklearn.metrics import accuracy_score, classification_report\n",
        "from scipy.optimize import minimize"
      ]
    },
    {
      "cell_type": "markdown",
      "source": [
        "## Qual o objetivo de estimar o vetor de parametros β^?\n",
        " O objetivo da análise de regressão é estimar o vetor β^, que é uma aproximação dos parâmetros populacionais verdadeiros β. β^ é calculado para que o modelo de regressão ajuste-se melhor aos seus dados observados. A relação entre os dois pode ser representada pela equação do modelo de regressão:\n",
        "\n",
        "Y = Xβ + E\n",
        "\n",
        "Y: Variável dependente observada.\n",
        "X: Matriz de variáveis independentes observadas.\n",
        "β^: Vetor de coeficientes estimados com base nos dados.\n",
        "E: Vetor de erros."
      ],
      "metadata": {
        "id": "5pFzgyiB9Ayk"
      }
    },
    {
      "cell_type": "markdown",
      "source": [
        "#Tratamento da base de dados"
      ],
      "metadata": {
        "id": "Exfu67nHK0ld"
      }
    },
    {
      "cell_type": "code",
      "source": [
        "df = pd.read_csv(\"insurance_treino.csv\", sep=';', decimal=',')"
      ],
      "metadata": {
        "id": "QdgABUZUK5g-"
      },
      "execution_count": null,
      "outputs": []
    },
    {
      "cell_type": "code",
      "source": [
        "df.head()"
      ],
      "metadata": {
        "colab": {
          "base_uri": "https://localhost:8080/",
          "height": 206
        },
        "id": "qm5JpNAj26Sl",
        "outputId": "f5eea397-c77e-4bd8-da42-31cc61f45350"
      },
      "execution_count": null,
      "outputs": [
        {
          "output_type": "execute_result",
          "data": {
            "text/plain": [
              "   age     sex    bmi  children smoker     region    charges\n",
              "0   34  female  23.56         0     no  northeast  4992.3764\n",
              "1   45  female  33.10         0     no  southwest  7345.0840\n",
              "2   23    male  32.70         3     no  southwest  3591.4800\n",
              "3   38  female  19.95         2     no  northeast  7133.9025\n",
              "4   32  female  29.80         2     no  southwest  5152.1340"
            ],
            "text/html": [
              "\n",
              "  <div id=\"df-2ce7499a-45e1-4bcb-a47b-41397dfb77e0\" class=\"colab-df-container\">\n",
              "    <div>\n",
              "<style scoped>\n",
              "    .dataframe tbody tr th:only-of-type {\n",
              "        vertical-align: middle;\n",
              "    }\n",
              "\n",
              "    .dataframe tbody tr th {\n",
              "        vertical-align: top;\n",
              "    }\n",
              "\n",
              "    .dataframe thead th {\n",
              "        text-align: right;\n",
              "    }\n",
              "</style>\n",
              "<table border=\"1\" class=\"dataframe\">\n",
              "  <thead>\n",
              "    <tr style=\"text-align: right;\">\n",
              "      <th></th>\n",
              "      <th>age</th>\n",
              "      <th>sex</th>\n",
              "      <th>bmi</th>\n",
              "      <th>children</th>\n",
              "      <th>smoker</th>\n",
              "      <th>region</th>\n",
              "      <th>charges</th>\n",
              "    </tr>\n",
              "  </thead>\n",
              "  <tbody>\n",
              "    <tr>\n",
              "      <th>0</th>\n",
              "      <td>34</td>\n",
              "      <td>female</td>\n",
              "      <td>23.56</td>\n",
              "      <td>0</td>\n",
              "      <td>no</td>\n",
              "      <td>northeast</td>\n",
              "      <td>4992.3764</td>\n",
              "    </tr>\n",
              "    <tr>\n",
              "      <th>1</th>\n",
              "      <td>45</td>\n",
              "      <td>female</td>\n",
              "      <td>33.10</td>\n",
              "      <td>0</td>\n",
              "      <td>no</td>\n",
              "      <td>southwest</td>\n",
              "      <td>7345.0840</td>\n",
              "    </tr>\n",
              "    <tr>\n",
              "      <th>2</th>\n",
              "      <td>23</td>\n",
              "      <td>male</td>\n",
              "      <td>32.70</td>\n",
              "      <td>3</td>\n",
              "      <td>no</td>\n",
              "      <td>southwest</td>\n",
              "      <td>3591.4800</td>\n",
              "    </tr>\n",
              "    <tr>\n",
              "      <th>3</th>\n",
              "      <td>38</td>\n",
              "      <td>female</td>\n",
              "      <td>19.95</td>\n",
              "      <td>2</td>\n",
              "      <td>no</td>\n",
              "      <td>northeast</td>\n",
              "      <td>7133.9025</td>\n",
              "    </tr>\n",
              "    <tr>\n",
              "      <th>4</th>\n",
              "      <td>32</td>\n",
              "      <td>female</td>\n",
              "      <td>29.80</td>\n",
              "      <td>2</td>\n",
              "      <td>no</td>\n",
              "      <td>southwest</td>\n",
              "      <td>5152.1340</td>\n",
              "    </tr>\n",
              "  </tbody>\n",
              "</table>\n",
              "</div>\n",
              "    <div class=\"colab-df-buttons\">\n",
              "\n",
              "  <div class=\"colab-df-container\">\n",
              "    <button class=\"colab-df-convert\" onclick=\"convertToInteractive('df-2ce7499a-45e1-4bcb-a47b-41397dfb77e0')\"\n",
              "            title=\"Convert this dataframe to an interactive table.\"\n",
              "            style=\"display:none;\">\n",
              "\n",
              "  <svg xmlns=\"http://www.w3.org/2000/svg\" height=\"24px\" viewBox=\"0 -960 960 960\">\n",
              "    <path d=\"M120-120v-720h720v720H120Zm60-500h600v-160H180v160Zm220 220h160v-160H400v160Zm0 220h160v-160H400v160ZM180-400h160v-160H180v160Zm440 0h160v-160H620v160ZM180-180h160v-160H180v160Zm440 0h160v-160H620v160Z\"/>\n",
              "  </svg>\n",
              "    </button>\n",
              "\n",
              "  <style>\n",
              "    .colab-df-container {\n",
              "      display:flex;\n",
              "      gap: 12px;\n",
              "    }\n",
              "\n",
              "    .colab-df-convert {\n",
              "      background-color: #E8F0FE;\n",
              "      border: none;\n",
              "      border-radius: 50%;\n",
              "      cursor: pointer;\n",
              "      display: none;\n",
              "      fill: #1967D2;\n",
              "      height: 32px;\n",
              "      padding: 0 0 0 0;\n",
              "      width: 32px;\n",
              "    }\n",
              "\n",
              "    .colab-df-convert:hover {\n",
              "      background-color: #E2EBFA;\n",
              "      box-shadow: 0px 1px 2px rgba(60, 64, 67, 0.3), 0px 1px 3px 1px rgba(60, 64, 67, 0.15);\n",
              "      fill: #174EA6;\n",
              "    }\n",
              "\n",
              "    .colab-df-buttons div {\n",
              "      margin-bottom: 4px;\n",
              "    }\n",
              "\n",
              "    [theme=dark] .colab-df-convert {\n",
              "      background-color: #3B4455;\n",
              "      fill: #D2E3FC;\n",
              "    }\n",
              "\n",
              "    [theme=dark] .colab-df-convert:hover {\n",
              "      background-color: #434B5C;\n",
              "      box-shadow: 0px 1px 3px 1px rgba(0, 0, 0, 0.15);\n",
              "      filter: drop-shadow(0px 1px 2px rgba(0, 0, 0, 0.3));\n",
              "      fill: #FFFFFF;\n",
              "    }\n",
              "  </style>\n",
              "\n",
              "    <script>\n",
              "      const buttonEl =\n",
              "        document.querySelector('#df-2ce7499a-45e1-4bcb-a47b-41397dfb77e0 button.colab-df-convert');\n",
              "      buttonEl.style.display =\n",
              "        google.colab.kernel.accessAllowed ? 'block' : 'none';\n",
              "\n",
              "      async function convertToInteractive(key) {\n",
              "        const element = document.querySelector('#df-2ce7499a-45e1-4bcb-a47b-41397dfb77e0');\n",
              "        const dataTable =\n",
              "          await google.colab.kernel.invokeFunction('convertToInteractive',\n",
              "                                                    [key], {});\n",
              "        if (!dataTable) return;\n",
              "\n",
              "        const docLinkHtml = 'Like what you see? Visit the ' +\n",
              "          '<a target=\"_blank\" href=https://colab.research.google.com/notebooks/data_table.ipynb>data table notebook</a>'\n",
              "          + ' to learn more about interactive tables.';\n",
              "        element.innerHTML = '';\n",
              "        dataTable['output_type'] = 'display_data';\n",
              "        await google.colab.output.renderOutput(dataTable, element);\n",
              "        const docLink = document.createElement('div');\n",
              "        docLink.innerHTML = docLinkHtml;\n",
              "        element.appendChild(docLink);\n",
              "      }\n",
              "    </script>\n",
              "  </div>\n",
              "\n",
              "\n",
              "<div id=\"df-44f7f50c-e911-49e4-b0d6-69956159059b\">\n",
              "  <button class=\"colab-df-quickchart\" onclick=\"quickchart('df-44f7f50c-e911-49e4-b0d6-69956159059b')\"\n",
              "            title=\"Suggest charts.\"\n",
              "            style=\"display:none;\">\n",
              "\n",
              "<svg xmlns=\"http://www.w3.org/2000/svg\" height=\"24px\"viewBox=\"0 0 24 24\"\n",
              "     width=\"24px\">\n",
              "    <g>\n",
              "        <path d=\"M19 3H5c-1.1 0-2 .9-2 2v14c0 1.1.9 2 2 2h14c1.1 0 2-.9 2-2V5c0-1.1-.9-2-2-2zM9 17H7v-7h2v7zm4 0h-2V7h2v10zm4 0h-2v-4h2v4z\"/>\n",
              "    </g>\n",
              "</svg>\n",
              "  </button>\n",
              "\n",
              "<style>\n",
              "  .colab-df-quickchart {\n",
              "      --bg-color: #E8F0FE;\n",
              "      --fill-color: #1967D2;\n",
              "      --hover-bg-color: #E2EBFA;\n",
              "      --hover-fill-color: #174EA6;\n",
              "      --disabled-fill-color: #AAA;\n",
              "      --disabled-bg-color: #DDD;\n",
              "  }\n",
              "\n",
              "  [theme=dark] .colab-df-quickchart {\n",
              "      --bg-color: #3B4455;\n",
              "      --fill-color: #D2E3FC;\n",
              "      --hover-bg-color: #434B5C;\n",
              "      --hover-fill-color: #FFFFFF;\n",
              "      --disabled-bg-color: #3B4455;\n",
              "      --disabled-fill-color: #666;\n",
              "  }\n",
              "\n",
              "  .colab-df-quickchart {\n",
              "    background-color: var(--bg-color);\n",
              "    border: none;\n",
              "    border-radius: 50%;\n",
              "    cursor: pointer;\n",
              "    display: none;\n",
              "    fill: var(--fill-color);\n",
              "    height: 32px;\n",
              "    padding: 0;\n",
              "    width: 32px;\n",
              "  }\n",
              "\n",
              "  .colab-df-quickchart:hover {\n",
              "    background-color: var(--hover-bg-color);\n",
              "    box-shadow: 0 1px 2px rgba(60, 64, 67, 0.3), 0 1px 3px 1px rgba(60, 64, 67, 0.15);\n",
              "    fill: var(--button-hover-fill-color);\n",
              "  }\n",
              "\n",
              "  .colab-df-quickchart-complete:disabled,\n",
              "  .colab-df-quickchart-complete:disabled:hover {\n",
              "    background-color: var(--disabled-bg-color);\n",
              "    fill: var(--disabled-fill-color);\n",
              "    box-shadow: none;\n",
              "  }\n",
              "\n",
              "  .colab-df-spinner {\n",
              "    border: 2px solid var(--fill-color);\n",
              "    border-color: transparent;\n",
              "    border-bottom-color: var(--fill-color);\n",
              "    animation:\n",
              "      spin 1s steps(1) infinite;\n",
              "  }\n",
              "\n",
              "  @keyframes spin {\n",
              "    0% {\n",
              "      border-color: transparent;\n",
              "      border-bottom-color: var(--fill-color);\n",
              "      border-left-color: var(--fill-color);\n",
              "    }\n",
              "    20% {\n",
              "      border-color: transparent;\n",
              "      border-left-color: var(--fill-color);\n",
              "      border-top-color: var(--fill-color);\n",
              "    }\n",
              "    30% {\n",
              "      border-color: transparent;\n",
              "      border-left-color: var(--fill-color);\n",
              "      border-top-color: var(--fill-color);\n",
              "      border-right-color: var(--fill-color);\n",
              "    }\n",
              "    40% {\n",
              "      border-color: transparent;\n",
              "      border-right-color: var(--fill-color);\n",
              "      border-top-color: var(--fill-color);\n",
              "    }\n",
              "    60% {\n",
              "      border-color: transparent;\n",
              "      border-right-color: var(--fill-color);\n",
              "    }\n",
              "    80% {\n",
              "      border-color: transparent;\n",
              "      border-right-color: var(--fill-color);\n",
              "      border-bottom-color: var(--fill-color);\n",
              "    }\n",
              "    90% {\n",
              "      border-color: transparent;\n",
              "      border-bottom-color: var(--fill-color);\n",
              "    }\n",
              "  }\n",
              "</style>\n",
              "\n",
              "  <script>\n",
              "    async function quickchart(key) {\n",
              "      const quickchartButtonEl =\n",
              "        document.querySelector('#' + key + ' button');\n",
              "      quickchartButtonEl.disabled = true;  // To prevent multiple clicks.\n",
              "      quickchartButtonEl.classList.add('colab-df-spinner');\n",
              "      try {\n",
              "        const charts = await google.colab.kernel.invokeFunction(\n",
              "            'suggestCharts', [key], {});\n",
              "      } catch (error) {\n",
              "        console.error('Error during call to suggestCharts:', error);\n",
              "      }\n",
              "      quickchartButtonEl.classList.remove('colab-df-spinner');\n",
              "      quickchartButtonEl.classList.add('colab-df-quickchart-complete');\n",
              "    }\n",
              "    (() => {\n",
              "      let quickchartButtonEl =\n",
              "        document.querySelector('#df-44f7f50c-e911-49e4-b0d6-69956159059b button');\n",
              "      quickchartButtonEl.style.display =\n",
              "        google.colab.kernel.accessAllowed ? 'block' : 'none';\n",
              "    })();\n",
              "  </script>\n",
              "</div>\n",
              "    </div>\n",
              "  </div>\n"
            ]
          },
          "metadata": {},
          "execution_count": 3
        }
      ]
    },
    {
      "cell_type": "code",
      "source": [
        "df.info()"
      ],
      "metadata": {
        "colab": {
          "base_uri": "https://localhost:8080/"
        },
        "id": "EpfRtpvJ3SyB",
        "outputId": "b91225e5-f6cc-47e6-b90f-cb4604f9169d"
      },
      "execution_count": null,
      "outputs": [
        {
          "output_type": "stream",
          "name": "stdout",
          "text": [
            "<class 'pandas.core.frame.DataFrame'>\n",
            "RangeIndex: 1000 entries, 0 to 999\n",
            "Data columns (total 7 columns):\n",
            " #   Column    Non-Null Count  Dtype  \n",
            "---  ------    --------------  -----  \n",
            " 0   age       1000 non-null   int64  \n",
            " 1   sex       1000 non-null   object \n",
            " 2   bmi       1000 non-null   float64\n",
            " 3   children  1000 non-null   int64  \n",
            " 4   smoker    1000 non-null   object \n",
            " 5   region    1000 non-null   object \n",
            " 6   charges   1000 non-null   float64\n",
            "dtypes: float64(2), int64(2), object(3)\n",
            "memory usage: 54.8+ KB\n"
          ]
        }
      ]
    },
    {
      "cell_type": "code",
      "source": [
        "# Convertendo categorias em variáveis numéricas\n",
        "for col in df.columns:\n",
        "    # Verifica se o tipo da coluna é object (textual)\n",
        "    if df[col].dtype == 'object':\n",
        "        le = LabelEncoder()\n",
        "        df[col] = le.fit_transform(df[col])"
      ],
      "metadata": {
        "id": "HQOJypji6XEF"
      },
      "execution_count": null,
      "outputs": []
    },
    {
      "cell_type": "code",
      "source": [
        "df.info()"
      ],
      "metadata": {
        "colab": {
          "base_uri": "https://localhost:8080/"
        },
        "id": "x_-SjTS46YJa",
        "outputId": "7acfcc31-8176-44a1-a6fe-126215e21347"
      },
      "execution_count": null,
      "outputs": [
        {
          "output_type": "stream",
          "name": "stdout",
          "text": [
            "<class 'pandas.core.frame.DataFrame'>\n",
            "RangeIndex: 1000 entries, 0 to 999\n",
            "Data columns (total 7 columns):\n",
            " #   Column    Non-Null Count  Dtype  \n",
            "---  ------    --------------  -----  \n",
            " 0   age       1000 non-null   int64  \n",
            " 1   sex       1000 non-null   int64  \n",
            " 2   bmi       1000 non-null   float64\n",
            " 3   children  1000 non-null   int64  \n",
            " 4   smoker    1000 non-null   int64  \n",
            " 5   region    1000 non-null   int64  \n",
            " 6   charges   1000 non-null   float64\n",
            "dtypes: float64(2), int64(5)\n",
            "memory usage: 54.8 KB\n"
          ]
        }
      ]
    },
    {
      "cell_type": "markdown",
      "source": [
        "##Solução analitica matricial"
      ],
      "metadata": {
        "id": "cS4SDxTxFKV1"
      }
    },
    {
      "cell_type": "markdown",
      "source": [
        "B=(X′X)−1X′Y\n",
        "\n",
        "- B é um vetor que contém os coeficientes estimados do modelo de regressão linear.\n",
        "- X é a matriz de design, que contém as covariáveis (variáveis independentes).\n",
        "- X' é a matriz transposta de X.\n",
        "- Y é o vetor da variável dependente.\n",
        "- (X'X)^(-1) é a inversa da matriz resultante da multiplicação de X' por X.\n",
        "\n",
        "Essa equação é derivada usando a técnica de mínimos quadrados. O objetivo da regressão linear é encontrar os melhores coeficientes (B) que minimizam a soma dos quadrados das diferenças entre as previsões do modelo (X * B) e os valores reais (Y). O processo de minimização leva à equação acima."
      ],
      "metadata": {
        "id": "_XoEGbWnbC-l"
      }
    },
    {
      "cell_type": "code",
      "source": [
        "# Separar os dados de treinamento em matriz X (variáveis independentes) e vetor y (variável dependente)\n",
        "X = df[[\"age\", \"bmi\", \"children\"]].values  # Seleciona as variáveis preditoras\n",
        "X = np.column_stack([X, np.ones(X.shape[0])])  # Adiciona uma coluna de 1s para representar o intercepto\n",
        "y = df[\"charges\"].values  # Variável de resposta\n",
        "\n",
        "# Encontre β^ usando a solução analítica\n",
        "beta_hat = np.linalg.inv(X.T @ X) @ (X.T @ y)\n",
        "# X.T = matriz transposta de X.\n",
        "# X.T @ X: Aqui, está multiplicando a matriz transposta X.T pela matriz original X\n",
        "# Essa multiplicação é essencial para encontrar β^\n",
        "\n",
        "#Segunda opção\n",
        "'''\n",
        "Y = df_treino['charges']\n",
        "X = matriz_x(['age', 'sex','children','smoker'], df_treino)\n",
        "Xlx = X.T @ X\n",
        "inv_xlx = inv(Xlx)\n",
        "B = inv_xlx @ X.T @ Y\n",
        "B\n",
        "'''\n",
        "print(\"Vetor de coeficientes β^:\", beta_hat)\n",
        "\n",
        "\n"
      ],
      "metadata": {
        "colab": {
          "base_uri": "https://localhost:8080/"
        },
        "id": "5cQiesotKyjs",
        "outputId": "735c3332-2783-489a-8af9-628c0469ee4e"
      },
      "execution_count": null,
      "outputs": [
        {
          "output_type": "stream",
          "name": "stdout",
          "text": [
            "Vetor de coeficientes β^: [  229.88443472   318.96053775   675.87312731 -6516.51019257]\n"
          ]
        }
      ]
    },
    {
      "cell_type": "code",
      "source": [
        "# Terceira opção\n",
        "# Separe os dados de treinamento em matriz X (variáveis independentes) e vetor y (variável dependente)\n",
        "X = df.drop(\"charges\", axis=1).values  # Seleciona todas as colunas, exceto \"charges\"\n",
        "X = np.column_stack([X, np.ones(X.shape[0])])  # Adiciona uma coluna de 1s para representar o intercepto\n",
        "y = df[\"charges\"].values  # Variável de resposta\n",
        "\n",
        "# Encontre β^ usando a solução analítica\n",
        "beta_hat = np.linalg.inv(X.T @ X) @ (X.T @ y)\n",
        "\n",
        "print(\"Vetor de coeficientes β^:\", beta_hat)"
      ],
      "metadata": {
        "colab": {
          "base_uri": "https://localhost:8080/"
        },
        "id": "ofpEgkRH7f2t",
        "outputId": "fe415cd1-ea1a-42fe-bf0d-2ff1aa59aac6"
      },
      "execution_count": null,
      "outputs": [
        {
          "output_type": "stream",
          "name": "stdout",
          "text": [
            "Vetor de coeficientes β^: [   252.79693433   -242.43596534    353.61900763    564.6409944\n",
            "  23886.00650328   -456.84884383 -12375.26385411]\n"
          ]
        }
      ]
    },
    {
      "cell_type": "markdown",
      "source": [
        "##Decomposição QR"
      ],
      "metadata": {
        "id": "kFUSxI_7FdnB"
      }
    },
    {
      "cell_type": "markdown",
      "source": [
        "A utilização da Decomposição é destinada a reduzir o custo computacional, principalmente qunado a matriz cresce em dimenções.\n",
        "\n",
        "A decomposição QR é uma técnica que descompõe uma matriz em duas matrizes, uma matriz ortogonal (Q) e uma matriz triangular superior (R)\n",
        "\n",
        "Martriz ortogonal - sua tranposta é igual a inversa; o que significa que Q.T @ Q é uma matriz identidade.\n",
        "\n",
        "Matriz triangular superior -  todos os elementos abaixo da diagonal são zero"
      ],
      "metadata": {
        "id": "iv7SyTZvMqSK"
      }
    },
    {
      "cell_type": "code",
      "source": [
        "#  3 colunas de X para a decomposição QR\n",
        "X_subset = df[['age', 'sex', 'smoker']].values\n",
        "\n",
        "# Realize a decomposição QR da matriz de design X_subset\n",
        "Q, R = qr(X_subset)\n",
        "\n",
        "# Agora, você pode usar R para resolver o sistema linear e encontrar β^\n",
        "beta_hat = np.linalg.solve(R, Q.T @ y)\n",
        "# Q.T @ y - Multiplica a transposta de Q pela variável de resposta y.\n",
        "# np.linalg.solve(R, Q.T @ y) - Resolve o sistema linear usando a matriz triangular superior R e o resultado da etapa anterior\n",
        "print(\"Vetor de coeficientes β^:\", beta_hat)"
      ],
      "metadata": {
        "colab": {
          "base_uri": "https://localhost:8080/",
          "height": 464
        },
        "id": "L5B8up_z90_r",
        "outputId": "94d14cf1-8840-48d4-9a0d-21f151cc86c9"
      },
      "execution_count": null,
      "outputs": [
        {
          "output_type": "error",
          "ename": "LinAlgError",
          "evalue": "ignored",
          "traceback": [
            "\u001b[0;31m---------------------------------------------------------------------------\u001b[0m",
            "\u001b[0;31mLinAlgError\u001b[0m                               Traceback (most recent call last)",
            "\u001b[0;32m<ipython-input-49-c66cf2977f20>\u001b[0m in \u001b[0;36m<cell line: 8>\u001b[0;34m()\u001b[0m\n\u001b[1;32m      6\u001b[0m \u001b[0;34m\u001b[0m\u001b[0m\n\u001b[1;32m      7\u001b[0m \u001b[0;31m# Agora, você pode usar R para resolver o sistema linear e encontrar β^\u001b[0m\u001b[0;34m\u001b[0m\u001b[0;34m\u001b[0m\u001b[0m\n\u001b[0;32m----> 8\u001b[0;31m \u001b[0mbeta_hat\u001b[0m \u001b[0;34m=\u001b[0m \u001b[0mnp\u001b[0m\u001b[0;34m.\u001b[0m\u001b[0mlinalg\u001b[0m\u001b[0;34m.\u001b[0m\u001b[0msolve\u001b[0m\u001b[0;34m(\u001b[0m\u001b[0mR\u001b[0m\u001b[0;34m,\u001b[0m \u001b[0mQ\u001b[0m\u001b[0;34m.\u001b[0m\u001b[0mT\u001b[0m \u001b[0;34m@\u001b[0m \u001b[0my\u001b[0m\u001b[0;34m)\u001b[0m\u001b[0;34m\u001b[0m\u001b[0;34m\u001b[0m\u001b[0m\n\u001b[0m\u001b[1;32m      9\u001b[0m \u001b[0;31m# Q.T @ y - Multiplica a transposta de Q pela variável de resposta y.\u001b[0m\u001b[0;34m\u001b[0m\u001b[0;34m\u001b[0m\u001b[0m\n\u001b[1;32m     10\u001b[0m \u001b[0;31m# np.linalg.solve(R, Q.T @ y) - Resolve o sistema linear usando a matriz triangular superior R e o resultado da etapa anterior\u001b[0m\u001b[0;34m\u001b[0m\u001b[0;34m\u001b[0m\u001b[0m\n",
            "\u001b[0;32m/usr/local/lib/python3.10/dist-packages/numpy/core/overrides.py\u001b[0m in \u001b[0;36msolve\u001b[0;34m(*args, **kwargs)\u001b[0m\n",
            "\u001b[0;32m/usr/local/lib/python3.10/dist-packages/numpy/linalg/linalg.py\u001b[0m in \u001b[0;36msolve\u001b[0;34m(a, b)\u001b[0m\n\u001b[1;32m    385\u001b[0m     \u001b[0ma\u001b[0m\u001b[0;34m,\u001b[0m \u001b[0m_\u001b[0m \u001b[0;34m=\u001b[0m \u001b[0m_makearray\u001b[0m\u001b[0;34m(\u001b[0m\u001b[0ma\u001b[0m\u001b[0;34m)\u001b[0m\u001b[0;34m\u001b[0m\u001b[0;34m\u001b[0m\u001b[0m\n\u001b[1;32m    386\u001b[0m     \u001b[0m_assert_stacked_2d\u001b[0m\u001b[0;34m(\u001b[0m\u001b[0ma\u001b[0m\u001b[0;34m)\u001b[0m\u001b[0;34m\u001b[0m\u001b[0;34m\u001b[0m\u001b[0m\n\u001b[0;32m--> 387\u001b[0;31m     \u001b[0m_assert_stacked_square\u001b[0m\u001b[0;34m(\u001b[0m\u001b[0ma\u001b[0m\u001b[0;34m)\u001b[0m\u001b[0;34m\u001b[0m\u001b[0;34m\u001b[0m\u001b[0m\n\u001b[0m\u001b[1;32m    388\u001b[0m     \u001b[0mb\u001b[0m\u001b[0;34m,\u001b[0m \u001b[0mwrap\u001b[0m \u001b[0;34m=\u001b[0m \u001b[0m_makearray\u001b[0m\u001b[0;34m(\u001b[0m\u001b[0mb\u001b[0m\u001b[0;34m)\u001b[0m\u001b[0;34m\u001b[0m\u001b[0;34m\u001b[0m\u001b[0m\n\u001b[1;32m    389\u001b[0m     \u001b[0mt\u001b[0m\u001b[0;34m,\u001b[0m \u001b[0mresult_t\u001b[0m \u001b[0;34m=\u001b[0m \u001b[0m_commonType\u001b[0m\u001b[0;34m(\u001b[0m\u001b[0ma\u001b[0m\u001b[0;34m,\u001b[0m \u001b[0mb\u001b[0m\u001b[0;34m)\u001b[0m\u001b[0;34m\u001b[0m\u001b[0;34m\u001b[0m\u001b[0m\n",
            "\u001b[0;32m/usr/local/lib/python3.10/dist-packages/numpy/linalg/linalg.py\u001b[0m in \u001b[0;36m_assert_stacked_square\u001b[0;34m(*arrays)\u001b[0m\n\u001b[1;32m    202\u001b[0m         \u001b[0mm\u001b[0m\u001b[0;34m,\u001b[0m \u001b[0mn\u001b[0m \u001b[0;34m=\u001b[0m \u001b[0ma\u001b[0m\u001b[0;34m.\u001b[0m\u001b[0mshape\u001b[0m\u001b[0;34m[\u001b[0m\u001b[0;34m-\u001b[0m\u001b[0;36m2\u001b[0m\u001b[0;34m:\u001b[0m\u001b[0;34m]\u001b[0m\u001b[0;34m\u001b[0m\u001b[0;34m\u001b[0m\u001b[0m\n\u001b[1;32m    203\u001b[0m         \u001b[0;32mif\u001b[0m \u001b[0mm\u001b[0m \u001b[0;34m!=\u001b[0m \u001b[0mn\u001b[0m\u001b[0;34m:\u001b[0m\u001b[0;34m\u001b[0m\u001b[0;34m\u001b[0m\u001b[0m\n\u001b[0;32m--> 204\u001b[0;31m             \u001b[0;32mraise\u001b[0m \u001b[0mLinAlgError\u001b[0m\u001b[0;34m(\u001b[0m\u001b[0;34m'Last 2 dimensions of the array must be square'\u001b[0m\u001b[0;34m)\u001b[0m\u001b[0;34m\u001b[0m\u001b[0;34m\u001b[0m\u001b[0m\n\u001b[0m\u001b[1;32m    205\u001b[0m \u001b[0;34m\u001b[0m\u001b[0m\n\u001b[1;32m    206\u001b[0m \u001b[0;32mdef\u001b[0m \u001b[0m_assert_finite\u001b[0m\u001b[0;34m(\u001b[0m\u001b[0;34m*\u001b[0m\u001b[0marrays\u001b[0m\u001b[0;34m)\u001b[0m\u001b[0;34m:\u001b[0m\u001b[0;34m\u001b[0m\u001b[0;34m\u001b[0m\u001b[0m\n",
            "\u001b[0;31mLinAlgError\u001b[0m: Last 2 dimensions of the array must be square"
          ]
        }
      ]
    },
    {
      "cell_type": "markdown",
      "source": [
        "##Gradiente descendente\n"
      ],
      "metadata": {
        "id": "4glrrzVcFYF1"
      }
    },
    {
      "cell_type": "markdown",
      "source": [
        "O Gradiente Descendente é uma técnica de otimização usada para ajustar os parâmetros de um modelo de regressão linear (ou outros modelos) de forma a minimizar a função de custo, que geralmente é a função de mínimos quadrados.\n",
        "\n",
        "O modelo de regressão linear foi ajustado usando a função LinearRegression da biblioteca scikit-learn, que já implementa um método de otimização para encontrar os coeficientes do modelo. No entanto, você pode aplicar o Gradiente Descendente manualmente se desejar ter mais controle sobre o processo de otimização."
      ],
      "metadata": {
        "id": "HyQKx5-kPqm_"
      }
    },
    {
      "cell_type": "code",
      "source": [
        "# Crie um modelo de regressão linear\n",
        "model = LinearRegression()\n",
        "\n",
        "# Ajuste o modelo aos dados de treinamento\n",
        "model.fit(X, y)\n",
        "\n",
        "# Obtenha o vetor de coeficientes β^\n",
        "beta_hat = np.append(model.coef_, model.intercept_)\n",
        "\n",
        "print(\"Vetor de coeficientes β^:\", beta_hat)"
      ],
      "metadata": {
        "colab": {
          "base_uri": "https://localhost:8080/",
          "height": 109
        },
        "id": "JmWBhA50-DFL",
        "outputId": "5249bbb0-99b3-49c1-fd79-a086af0c097e"
      },
      "execution_count": null,
      "outputs": [
        {
          "output_type": "execute_result",
          "data": {
            "text/plain": [
              "LinearRegression()"
            ],
            "text/html": [
              "<style>#sk-container-id-1 {color: black;background-color: white;}#sk-container-id-1 pre{padding: 0;}#sk-container-id-1 div.sk-toggleable {background-color: white;}#sk-container-id-1 label.sk-toggleable__label {cursor: pointer;display: block;width: 100%;margin-bottom: 0;padding: 0.3em;box-sizing: border-box;text-align: center;}#sk-container-id-1 label.sk-toggleable__label-arrow:before {content: \"▸\";float: left;margin-right: 0.25em;color: #696969;}#sk-container-id-1 label.sk-toggleable__label-arrow:hover:before {color: black;}#sk-container-id-1 div.sk-estimator:hover label.sk-toggleable__label-arrow:before {color: black;}#sk-container-id-1 div.sk-toggleable__content {max-height: 0;max-width: 0;overflow: hidden;text-align: left;background-color: #f0f8ff;}#sk-container-id-1 div.sk-toggleable__content pre {margin: 0.2em;color: black;border-radius: 0.25em;background-color: #f0f8ff;}#sk-container-id-1 input.sk-toggleable__control:checked~div.sk-toggleable__content {max-height: 200px;max-width: 100%;overflow: auto;}#sk-container-id-1 input.sk-toggleable__control:checked~label.sk-toggleable__label-arrow:before {content: \"▾\";}#sk-container-id-1 div.sk-estimator input.sk-toggleable__control:checked~label.sk-toggleable__label {background-color: #d4ebff;}#sk-container-id-1 div.sk-label input.sk-toggleable__control:checked~label.sk-toggleable__label {background-color: #d4ebff;}#sk-container-id-1 input.sk-hidden--visually {border: 0;clip: rect(1px 1px 1px 1px);clip: rect(1px, 1px, 1px, 1px);height: 1px;margin: -1px;overflow: hidden;padding: 0;position: absolute;width: 1px;}#sk-container-id-1 div.sk-estimator {font-family: monospace;background-color: #f0f8ff;border: 1px dotted black;border-radius: 0.25em;box-sizing: border-box;margin-bottom: 0.5em;}#sk-container-id-1 div.sk-estimator:hover {background-color: #d4ebff;}#sk-container-id-1 div.sk-parallel-item::after {content: \"\";width: 100%;border-bottom: 1px solid gray;flex-grow: 1;}#sk-container-id-1 div.sk-label:hover label.sk-toggleable__label {background-color: #d4ebff;}#sk-container-id-1 div.sk-serial::before {content: \"\";position: absolute;border-left: 1px solid gray;box-sizing: border-box;top: 0;bottom: 0;left: 50%;z-index: 0;}#sk-container-id-1 div.sk-serial {display: flex;flex-direction: column;align-items: center;background-color: white;padding-right: 0.2em;padding-left: 0.2em;position: relative;}#sk-container-id-1 div.sk-item {position: relative;z-index: 1;}#sk-container-id-1 div.sk-parallel {display: flex;align-items: stretch;justify-content: center;background-color: white;position: relative;}#sk-container-id-1 div.sk-item::before, #sk-container-id-1 div.sk-parallel-item::before {content: \"\";position: absolute;border-left: 1px solid gray;box-sizing: border-box;top: 0;bottom: 0;left: 50%;z-index: -1;}#sk-container-id-1 div.sk-parallel-item {display: flex;flex-direction: column;z-index: 1;position: relative;background-color: white;}#sk-container-id-1 div.sk-parallel-item:first-child::after {align-self: flex-end;width: 50%;}#sk-container-id-1 div.sk-parallel-item:last-child::after {align-self: flex-start;width: 50%;}#sk-container-id-1 div.sk-parallel-item:only-child::after {width: 0;}#sk-container-id-1 div.sk-dashed-wrapped {border: 1px dashed gray;margin: 0 0.4em 0.5em 0.4em;box-sizing: border-box;padding-bottom: 0.4em;background-color: white;}#sk-container-id-1 div.sk-label label {font-family: monospace;font-weight: bold;display: inline-block;line-height: 1.2em;}#sk-container-id-1 div.sk-label-container {text-align: center;}#sk-container-id-1 div.sk-container {/* jupyter's `normalize.less` sets `[hidden] { display: none; }` but bootstrap.min.css set `[hidden] { display: none !important; }` so we also need the `!important` here to be able to override the default hidden behavior on the sphinx rendered scikit-learn.org. See: https://github.com/scikit-learn/scikit-learn/issues/21755 */display: inline-block !important;position: relative;}#sk-container-id-1 div.sk-text-repr-fallback {display: none;}</style><div id=\"sk-container-id-1\" class=\"sk-top-container\"><div class=\"sk-text-repr-fallback\"><pre>LinearRegression()</pre><b>In a Jupyter environment, please rerun this cell to show the HTML representation or trust the notebook. <br />On GitHub, the HTML representation is unable to render, please try loading this page with nbviewer.org.</b></div><div class=\"sk-container\" hidden><div class=\"sk-item\"><div class=\"sk-estimator sk-toggleable\"><input class=\"sk-toggleable__control sk-hidden--visually\" id=\"sk-estimator-id-1\" type=\"checkbox\" checked><label for=\"sk-estimator-id-1\" class=\"sk-toggleable__label sk-toggleable__label-arrow\">LinearRegression</label><div class=\"sk-toggleable__content\"><pre>LinearRegression()</pre></div></div></div></div></div>"
            ]
          },
          "metadata": {},
          "execution_count": 9
        },
        {
          "output_type": "stream",
          "name": "stdout",
          "text": [
            "Vetor de coeficientes β^: [   252.79693433   -242.43596534    353.61900763    564.6409944\n",
            "  23886.00650328   -456.84884383      0.         -12375.26385411]\n"
          ]
        }
      ]
    },
    {
      "cell_type": "markdown",
      "source": [
        "LinearRegression do scikit-learn, já realiza a otimização internamente. Se você quiser implementar o Gradiente Descendente manualmente para um modelo de regressão linear, precisaria definir explicitamente a função de custo e implementar o loop iterativo de otimização.\n",
        "\n",
        "No entanto, para a maioria dos casos, a implementação fornecida pelo scikit-learn é suficiente e eficaz"
      ],
      "metadata": {
        "id": "SBWHa5G5egWf"
      }
    },
    {
      "cell_type": "code",
      "source": [
        "# Carregue os dados em um DataFrame de teste\n",
        "df_test = pd.read_csv('insurance_teste.csv', sep=';', decimal=',')\n",
        "\n",
        "# Variáveis categóricas (gênero e status de fumante) transformadas em variáveis binárias\n",
        "df['gender'] = pd.get_dummies(df['sex'], drop_first=True)  # Codificação do gênero\n",
        "df['smoker'] = pd.get_dummies(df['smoker'], drop_first=True)  # Codificação do status de fumante\n",
        "\n",
        "# Split dos dados em conjuntos de treinamento e teste\n",
        "X = df[['age', 'gender', 'children', 'smoker']]  # Variáveis independentes\n",
        "y = df['charges']  # Variável dependente\n",
        "y_pred = df_test['charges']\n",
        "\n",
        "# Ajuste o modelo de regressão linear aos dados de treinamento\n",
        "model = LinearRegression()\n",
        "model.fit(X, y)\n",
        "\n",
        "# Previsões no conjunto de teste\n",
        "y_pred = model.predict(X)\n",
        "\n",
        "# Avaliação o modelo\n",
        "mse = mean_squared_error(y, y_pred)\n",
        "print(f\"Erro Quadrático Médio (MSE): {mse:.2f}\")\n",
        "\n",
        "#Segunda opção\n",
        "'''\n",
        "le = LabelEncoder()\n",
        "for col in colunas_textuais:\n",
        "    df_test[col] = le.fit_transform(df_test[col])\n",
        "\n",
        "X_teste = matriz_x(['age', 'sex','children','smoker'], df_test)\n",
        "Vetor de coeficientes β^ = (copiar e colar do resultado do codigo anterior)\n",
        "\n",
        "Y_predito = X_teste @ B\n",
        "\n",
        "erro = df_test['charges'] - Y_pred\n",
        "print(\"MSE: \",np.mean(erro**2))\n",
        "'''"
      ],
      "metadata": {
        "colab": {
          "base_uri": "https://localhost:8080/",
          "height": 92
        },
        "id": "n8JVTEKTCcgw",
        "outputId": "b1f0679f-bdf5-4fc3-e15c-3706a7978473"
      },
      "execution_count": null,
      "outputs": [
        {
          "output_type": "execute_result",
          "data": {
            "text/plain": [
              "LinearRegression()"
            ],
            "text/html": [
              "<style>#sk-container-id-2 {color: black;background-color: white;}#sk-container-id-2 pre{padding: 0;}#sk-container-id-2 div.sk-toggleable {background-color: white;}#sk-container-id-2 label.sk-toggleable__label {cursor: pointer;display: block;width: 100%;margin-bottom: 0;padding: 0.3em;box-sizing: border-box;text-align: center;}#sk-container-id-2 label.sk-toggleable__label-arrow:before {content: \"▸\";float: left;margin-right: 0.25em;color: #696969;}#sk-container-id-2 label.sk-toggleable__label-arrow:hover:before {color: black;}#sk-container-id-2 div.sk-estimator:hover label.sk-toggleable__label-arrow:before {color: black;}#sk-container-id-2 div.sk-toggleable__content {max-height: 0;max-width: 0;overflow: hidden;text-align: left;background-color: #f0f8ff;}#sk-container-id-2 div.sk-toggleable__content pre {margin: 0.2em;color: black;border-radius: 0.25em;background-color: #f0f8ff;}#sk-container-id-2 input.sk-toggleable__control:checked~div.sk-toggleable__content {max-height: 200px;max-width: 100%;overflow: auto;}#sk-container-id-2 input.sk-toggleable__control:checked~label.sk-toggleable__label-arrow:before {content: \"▾\";}#sk-container-id-2 div.sk-estimator input.sk-toggleable__control:checked~label.sk-toggleable__label {background-color: #d4ebff;}#sk-container-id-2 div.sk-label input.sk-toggleable__control:checked~label.sk-toggleable__label {background-color: #d4ebff;}#sk-container-id-2 input.sk-hidden--visually {border: 0;clip: rect(1px 1px 1px 1px);clip: rect(1px, 1px, 1px, 1px);height: 1px;margin: -1px;overflow: hidden;padding: 0;position: absolute;width: 1px;}#sk-container-id-2 div.sk-estimator {font-family: monospace;background-color: #f0f8ff;border: 1px dotted black;border-radius: 0.25em;box-sizing: border-box;margin-bottom: 0.5em;}#sk-container-id-2 div.sk-estimator:hover {background-color: #d4ebff;}#sk-container-id-2 div.sk-parallel-item::after {content: \"\";width: 100%;border-bottom: 1px solid gray;flex-grow: 1;}#sk-container-id-2 div.sk-label:hover label.sk-toggleable__label {background-color: #d4ebff;}#sk-container-id-2 div.sk-serial::before {content: \"\";position: absolute;border-left: 1px solid gray;box-sizing: border-box;top: 0;bottom: 0;left: 50%;z-index: 0;}#sk-container-id-2 div.sk-serial {display: flex;flex-direction: column;align-items: center;background-color: white;padding-right: 0.2em;padding-left: 0.2em;position: relative;}#sk-container-id-2 div.sk-item {position: relative;z-index: 1;}#sk-container-id-2 div.sk-parallel {display: flex;align-items: stretch;justify-content: center;background-color: white;position: relative;}#sk-container-id-2 div.sk-item::before, #sk-container-id-2 div.sk-parallel-item::before {content: \"\";position: absolute;border-left: 1px solid gray;box-sizing: border-box;top: 0;bottom: 0;left: 50%;z-index: -1;}#sk-container-id-2 div.sk-parallel-item {display: flex;flex-direction: column;z-index: 1;position: relative;background-color: white;}#sk-container-id-2 div.sk-parallel-item:first-child::after {align-self: flex-end;width: 50%;}#sk-container-id-2 div.sk-parallel-item:last-child::after {align-self: flex-start;width: 50%;}#sk-container-id-2 div.sk-parallel-item:only-child::after {width: 0;}#sk-container-id-2 div.sk-dashed-wrapped {border: 1px dashed gray;margin: 0 0.4em 0.5em 0.4em;box-sizing: border-box;padding-bottom: 0.4em;background-color: white;}#sk-container-id-2 div.sk-label label {font-family: monospace;font-weight: bold;display: inline-block;line-height: 1.2em;}#sk-container-id-2 div.sk-label-container {text-align: center;}#sk-container-id-2 div.sk-container {/* jupyter's `normalize.less` sets `[hidden] { display: none; }` but bootstrap.min.css set `[hidden] { display: none !important; }` so we also need the `!important` here to be able to override the default hidden behavior on the sphinx rendered scikit-learn.org. See: https://github.com/scikit-learn/scikit-learn/issues/21755 */display: inline-block !important;position: relative;}#sk-container-id-2 div.sk-text-repr-fallback {display: none;}</style><div id=\"sk-container-id-2\" class=\"sk-top-container\"><div class=\"sk-text-repr-fallback\"><pre>LinearRegression()</pre><b>In a Jupyter environment, please rerun this cell to show the HTML representation or trust the notebook. <br />On GitHub, the HTML representation is unable to render, please try loading this page with nbviewer.org.</b></div><div class=\"sk-container\" hidden><div class=\"sk-item\"><div class=\"sk-estimator sk-toggleable\"><input class=\"sk-toggleable__control sk-hidden--visually\" id=\"sk-estimator-id-2\" type=\"checkbox\" checked><label for=\"sk-estimator-id-2\" class=\"sk-toggleable__label sk-toggleable__label-arrow\">LinearRegression</label><div class=\"sk-toggleable__content\"><pre>LinearRegression()</pre></div></div></div></div></div>"
            ]
          },
          "metadata": {},
          "execution_count": 10
        },
        {
          "output_type": "stream",
          "name": "stdout",
          "text": [
            "Erro Quadrático Médio (MSE): 37875141.04\n"
          ]
        }
      ]
    },
    {
      "cell_type": "markdown",
      "source": [
        "#Regressão Logistica"
      ],
      "metadata": {
        "id": "tmPFXqJ5E9L6"
      }
    },
    {
      "cell_type": "code",
      "source": [
        "fd = pd.read_csv(\"bank_customer_treino.csv\")\n",
        "fd_test = pd.read_csv(\"bank_custoter_teste.csv\")"
      ],
      "metadata": {
        "id": "KNFVLjC3HGpC"
      },
      "execution_count": 11,
      "outputs": []
    },
    {
      "cell_type": "code",
      "source": [
        "# Convertendo categorias em variáveis numéricas\n",
        "for col in fd.columns:\n",
        "    # Verifica se o tipo da coluna é object (textual)\n",
        "    if fd[col].dtype == 'object':\n",
        "        le = LabelEncoder()\n",
        "        fd[col] = le.fit_transform(fd[col])"
      ],
      "metadata": {
        "id": "f4Z8B7DIICYf"
      },
      "execution_count": 12,
      "outputs": []
    },
    {
      "cell_type": "code",
      "source": [
        "# Convertendo categorias em variáveis numéricas\n",
        "for col in fd_test.columns:\n",
        "    # Verifica se o tipo da coluna é object (textual)\n",
        "    if fd_test[col].dtype == 'object':\n",
        "        le = LabelEncoder()\n",
        "        fd_test[col] = le.fit_transform(fd_test[col])"
      ],
      "metadata": {
        "id": "whwP3XBBIK0k"
      },
      "execution_count": 13,
      "outputs": []
    },
    {
      "cell_type": "code",
      "source": [
        "# Selecionar as covariáveis (variáveis independentes)\n",
        "X_train = fd[['gender', 'age', 'credit_card', 'credit_score']]\n",
        "X_test = fd_test[['gender', 'age', 'credit_card', 'credit_score']]\n",
        "# Variável dependente (classe-alvo)\n",
        "y_train = fd['churn']\n",
        "y_test = fd_test['churn']\n",
        "# Inicializar e ajustar o modelo de regressão logística\n",
        "model = LogisticRegression()\n",
        "model.fit(X_train, y_train)\n",
        "\n",
        "# Fazer previsões no conjunto de teste\n",
        "y_pred = model.predict(X_test)\n",
        "\n",
        "# Avaliar o desempenho do modelo\n",
        "accuracy = accuracy_score(y_test, y_pred)\n",
        "report = classification_report(y_test, y_pred)\n",
        "\n",
        "print(f\"Acurácia: {accuracy:.2f}\")\n",
        "print(\"Relatório de Classificação:\\n\", report)\n"
      ],
      "metadata": {
        "colab": {
          "base_uri": "https://localhost:8080/",
          "height": 278
        },
        "id": "adFhd0RJE0SZ",
        "outputId": "291e43af-f3b7-45e3-f622-0d45a5713f5b"
      },
      "execution_count": 14,
      "outputs": [
        {
          "output_type": "execute_result",
          "data": {
            "text/plain": [
              "LogisticRegression()"
            ],
            "text/html": [
              "<style>#sk-container-id-2 {color: black;background-color: white;}#sk-container-id-2 pre{padding: 0;}#sk-container-id-2 div.sk-toggleable {background-color: white;}#sk-container-id-2 label.sk-toggleable__label {cursor: pointer;display: block;width: 100%;margin-bottom: 0;padding: 0.3em;box-sizing: border-box;text-align: center;}#sk-container-id-2 label.sk-toggleable__label-arrow:before {content: \"▸\";float: left;margin-right: 0.25em;color: #696969;}#sk-container-id-2 label.sk-toggleable__label-arrow:hover:before {color: black;}#sk-container-id-2 div.sk-estimator:hover label.sk-toggleable__label-arrow:before {color: black;}#sk-container-id-2 div.sk-toggleable__content {max-height: 0;max-width: 0;overflow: hidden;text-align: left;background-color: #f0f8ff;}#sk-container-id-2 div.sk-toggleable__content pre {margin: 0.2em;color: black;border-radius: 0.25em;background-color: #f0f8ff;}#sk-container-id-2 input.sk-toggleable__control:checked~div.sk-toggleable__content {max-height: 200px;max-width: 100%;overflow: auto;}#sk-container-id-2 input.sk-toggleable__control:checked~label.sk-toggleable__label-arrow:before {content: \"▾\";}#sk-container-id-2 div.sk-estimator input.sk-toggleable__control:checked~label.sk-toggleable__label {background-color: #d4ebff;}#sk-container-id-2 div.sk-label input.sk-toggleable__control:checked~label.sk-toggleable__label {background-color: #d4ebff;}#sk-container-id-2 input.sk-hidden--visually {border: 0;clip: rect(1px 1px 1px 1px);clip: rect(1px, 1px, 1px, 1px);height: 1px;margin: -1px;overflow: hidden;padding: 0;position: absolute;width: 1px;}#sk-container-id-2 div.sk-estimator {font-family: monospace;background-color: #f0f8ff;border: 1px dotted black;border-radius: 0.25em;box-sizing: border-box;margin-bottom: 0.5em;}#sk-container-id-2 div.sk-estimator:hover {background-color: #d4ebff;}#sk-container-id-2 div.sk-parallel-item::after {content: \"\";width: 100%;border-bottom: 1px solid gray;flex-grow: 1;}#sk-container-id-2 div.sk-label:hover label.sk-toggleable__label {background-color: #d4ebff;}#sk-container-id-2 div.sk-serial::before {content: \"\";position: absolute;border-left: 1px solid gray;box-sizing: border-box;top: 0;bottom: 0;left: 50%;z-index: 0;}#sk-container-id-2 div.sk-serial {display: flex;flex-direction: column;align-items: center;background-color: white;padding-right: 0.2em;padding-left: 0.2em;position: relative;}#sk-container-id-2 div.sk-item {position: relative;z-index: 1;}#sk-container-id-2 div.sk-parallel {display: flex;align-items: stretch;justify-content: center;background-color: white;position: relative;}#sk-container-id-2 div.sk-item::before, #sk-container-id-2 div.sk-parallel-item::before {content: \"\";position: absolute;border-left: 1px solid gray;box-sizing: border-box;top: 0;bottom: 0;left: 50%;z-index: -1;}#sk-container-id-2 div.sk-parallel-item {display: flex;flex-direction: column;z-index: 1;position: relative;background-color: white;}#sk-container-id-2 div.sk-parallel-item:first-child::after {align-self: flex-end;width: 50%;}#sk-container-id-2 div.sk-parallel-item:last-child::after {align-self: flex-start;width: 50%;}#sk-container-id-2 div.sk-parallel-item:only-child::after {width: 0;}#sk-container-id-2 div.sk-dashed-wrapped {border: 1px dashed gray;margin: 0 0.4em 0.5em 0.4em;box-sizing: border-box;padding-bottom: 0.4em;background-color: white;}#sk-container-id-2 div.sk-label label {font-family: monospace;font-weight: bold;display: inline-block;line-height: 1.2em;}#sk-container-id-2 div.sk-label-container {text-align: center;}#sk-container-id-2 div.sk-container {/* jupyter's `normalize.less` sets `[hidden] { display: none; }` but bootstrap.min.css set `[hidden] { display: none !important; }` so we also need the `!important` here to be able to override the default hidden behavior on the sphinx rendered scikit-learn.org. See: https://github.com/scikit-learn/scikit-learn/issues/21755 */display: inline-block !important;position: relative;}#sk-container-id-2 div.sk-text-repr-fallback {display: none;}</style><div id=\"sk-container-id-2\" class=\"sk-top-container\"><div class=\"sk-text-repr-fallback\"><pre>LogisticRegression()</pre><b>In a Jupyter environment, please rerun this cell to show the HTML representation or trust the notebook. <br />On GitHub, the HTML representation is unable to render, please try loading this page with nbviewer.org.</b></div><div class=\"sk-container\" hidden><div class=\"sk-item\"><div class=\"sk-estimator sk-toggleable\"><input class=\"sk-toggleable__control sk-hidden--visually\" id=\"sk-estimator-id-2\" type=\"checkbox\" checked><label for=\"sk-estimator-id-2\" class=\"sk-toggleable__label sk-toggleable__label-arrow\">LogisticRegression</label><div class=\"sk-toggleable__content\"><pre>LogisticRegression()</pre></div></div></div></div></div>"
            ]
          },
          "metadata": {},
          "execution_count": 14
        },
        {
          "output_type": "stream",
          "name": "stdout",
          "text": [
            "Acurácia: 0.78\n",
            "Relatório de Classificação:\n",
            "               precision    recall  f1-score   support\n",
            "\n",
            "           0       0.80      0.96      0.88      3205\n",
            "           1       0.27      0.05      0.09       795\n",
            "\n",
            "    accuracy                           0.78      4000\n",
            "   macro avg       0.54      0.51      0.48      4000\n",
            "weighted avg       0.70      0.78      0.72      4000\n",
            "\n"
          ]
        }
      ]
    },
    {
      "cell_type": "code",
      "source": [
        "# Defina a função de verossimilhança negativa\n",
        "def negative_log_likelihood(beta, X, y):\n",
        "    p = 1 / (1 + np.exp(-X @ beta))\n",
        "    return -np.sum(y * np.log(p) + (1 - y) * np.log(1 - p))\n",
        "\n",
        "# Defina a função para calcular o Jacobiano\n",
        "def jacobian(beta, X, y):\n",
        "    p = 1 / (1 + np.exp(-X @ beta))\n",
        "    return X.T @ (p - y)\n",
        "\n",
        "# Inicialize os coeficientes β\n",
        "initial_beta = np.zeros(X_train.shape[1])\n",
        "\n",
        "# Minimize a função de verossimilhança negativa usando o método de Newton-CG e o Jacobiano\n",
        "result = minimize(negative_log_likelihood, initial_beta, args=(X_train, y_train), method='Newton-CG', jac=jacobian)\n",
        "\n",
        "# Os coeficientes estimados β^ estão em result.x\n",
        "beta_hat_newton = result.x\n",
        "\n",
        "# Imprima os coeficientes estimados\n",
        "print(\"Coeficientes estimados β^:\", beta_hat_newton)"
      ],
      "metadata": {
        "colab": {
          "base_uri": "https://localhost:8080/"
        },
        "id": "VveEeUPEJfy1",
        "outputId": "9e6e2868-f82d-4584-ee4f-b482a84ad86a"
      },
      "execution_count": 16,
      "outputs": [
        {
          "output_type": "stream",
          "name": "stdout",
          "text": [
            "Coeficientes estimados β^: [-0.00060578  0.02675856 -0.00015732 -0.00369965]\n"
          ]
        }
      ]
    },
    {
      "cell_type": "code",
      "source": [
        "#Segunda opção\n",
        "'''\n",
        "def calcula_p(X,B):\n",
        "   return np.exp(X @ B) / (1+np.exp(X @ B))\n",
        "\n",
        "def matriz_x(coluna, dados):\n",
        "    n_ = dados.shape[0]\n",
        "\n",
        "    col_1 = np.ones(n_)\n",
        "    col_var = dados[coluna]\n",
        "\n",
        "    X_mat = np.c_[col_1, np.array(col_var)]\n",
        "\n",
        "    return X_mat\n",
        "\n",
        "def beta_update(X, W, y, p):\n",
        "    return inv(X.T @ W @ X) @ X.T @ (y-p)\n",
        "\n",
        "X_mat = matriz_x(coluna=[\"gender\", \"age\", \"credit_card\", \"estimated_salary\"], dados=df)\n",
        "\n",
        "n_col_X = X_mat.shape[1]\n",
        "betas = np.zeros(n_col_X)\n",
        "\n",
        "p = calcula_p(X_mat, betas)\n",
        "\n",
        "W = np.diag(p)\n",
        "\n",
        "# Beta inicial\n",
        "betas = np.zeros(n_col_X)\n",
        "\n",
        "for i in range(30):\n",
        "    p = calcula_p(X_mat, betas)\n",
        "    W = np.diag(p)\n",
        "    beta_k1 = beta_update(X_mat, W, y, p)\n",
        "    betas = betas + beta_k1\n",
        "\n",
        "np.round(betas,3)\n",
        "'''\n"
      ],
      "metadata": {
        "id": "sJpJLMvCljBY"
      },
      "execution_count": null,
      "outputs": []
    },
    {
      "cell_type": "code",
      "source": [
        "import numpy as np\n",
        "\n",
        "# Defina a função de verossimilhança negativa e seu gradiente\n",
        "def negative_log_likelihood(beta, X, y):\n",
        "    p = 1 / (1 + np.exp(-X @ beta))\n",
        "    return -np.sum(y * np.log(p) + (1 - y) * np.log(1 - p))\n",
        "\n",
        "def gradient(beta, X, y):\n",
        "    p = 1 / (1 + np.exp(-X @ beta))\n",
        "    return X.T @ (p - y)\n",
        "\n",
        "# Inicialize os coeficientes β\n",
        "initial_beta = np.zeros(X_train.shape[1])\n",
        "\n",
        "# Defina a taxa de aprendizado e o número máximo de iterações\n",
        "learning_rate = 0.01\n",
        "max_iterations = 1000\n",
        "\n",
        "# Execute o Gradiente Descendente\n",
        "beta_hat_gradient = initial_beta\n",
        "for iteration in range(max_iterations):\n",
        "    gradient_beta = gradient(beta_hat_gradient, X_train, y_train)\n",
        "    beta_hat_gradient -= learning_rate * gradient_beta\n",
        "\n",
        "\n",
        "# Coeficientes estimados após as iterações\n",
        "print(\"Coeficientes estimados finais:\", beta_hat_gradient)\n"
      ],
      "metadata": {
        "colab": {
          "base_uri": "https://localhost:8080/"
        },
        "id": "opKcCHigJfnJ",
        "outputId": "c03f428a-554e-4d4e-8c7d-f8bf3d4464cd"
      },
      "execution_count": 22,
      "outputs": [
        {
          "output_type": "stream",
          "name": "stdout",
          "text": [
            "Coeficientes estimados finais: gender          -1151.034788\n",
            "age             66329.671727\n",
            "credit_card      -144.530053\n",
            "credit_score   -15063.592167\n",
            "dtype: float64\n"
          ]
        }
      ]
    },
    {
      "cell_type": "code",
      "source": [
        "# Se quiser ver todos as interações: adcionar essa parte ao for:\n",
        "#exibir todos os resultados\n",
        "    '''if (iteration + 1) % 10 == 0:  # Imprimir a cada 10 iterações ou ajuste conforme necessário\n",
        "        negative_log_likelihood_value = negative_log_likelihood(beta_hat_gradient, X_train, y_train)\n",
        "        print(f\"Iteração {iteration + 1}: Coeficientes estimados: {beta_hat_gradient}, Valor da Função de Verossimilhança Negativa: {negative_log_likelihood_value}\")\n",
        "'''"
      ],
      "metadata": {
        "id": "ZkvypaPLoF96"
      },
      "execution_count": null,
      "outputs": []
    },
    {
      "cell_type": "markdown",
      "source": [
        "#Exercicio 4\n"
      ],
      "metadata": {
        "id": "PZPqbezpqUg5"
      }
    },
    {
      "cell_type": "markdown",
      "source": [
        "###Newton-Raphson para funções -> $X = X - \\frac{F(x)}{F'(x)}$\n",
        "\n",
        "####$x = \\sqrt10$ => $x^2 = 10$ => $x^2 - 10 = 0$\n",
        "\n",
        "####Logo: $F(x) = x^2 - 10$ e $F'(x) = 2x$\n",
        "\n",
        "####Aplicando na fórmula => $x = x - \\frac{(x^2 - 10)}{2x}$\n",
        "\n",
        "\n",
        "####$x = x - \\frac{(x^2 - 10)}{2x}$ => $x = x -\\frac{x^2}{2x} + \\frac{10}{2x}$\n",
        "<br/>\n",
        "$x = x - \\frac{x}{2} +\\frac{10}{2x}$\n",
        "<br/>\n",
        "<br/>\n",
        "$x = \\frac{x}{2} + \\frac{10}{2x}$\n",
        "<br/>\n",
        "<br/>\n",
        "Finally: $ x = \\frac{1}{2}(x + \\frac{10}{x}) $"
      ],
      "metadata": {
        "id": "IgFalrHWpD4O"
      }
    },
    {
      "cell_type": "code",
      "source": [
        "def x_update(x):\n",
        "    return 1/2 * (x + 10/x)\n",
        "\n",
        "x_ = 3 #X inicial\n",
        "\n",
        "for i in range(20):\n",
        "    x_ = x_update(x_)\n",
        "\n",
        "print(\"Valor estimado da raiz de 10 com 10 casas de precisão: \", round(x_,10))"
      ],
      "metadata": {
        "colab": {
          "base_uri": "https://localhost:8080/"
        },
        "id": "XjkZ7_zipyBQ",
        "outputId": "5611795e-96db-4952-908d-ffcd154659c6"
      },
      "execution_count": 23,
      "outputs": [
        {
          "output_type": "stream",
          "name": "stdout",
          "text": [
            "Valor estimado da raiz de 10 com 10 casas de precisão:  3.1622776602\n"
          ]
        }
      ]
    },
    {
      "cell_type": "markdown",
      "source": [
        "#Exercicio 5"
      ],
      "metadata": {
        "id": "DJ0A0z7KqYyY"
      }
    },
    {
      "cell_type": "markdown",
      "source": [
        "$f(x)=3x^{1/3}=0 \\\\\n",
        "f'(x)=x^{-2/3} \\\\\n",
        "x_{n+1}=x_n-\\frac{3x_n^{1/3}}{x_n^{-2/3}} \\\\\n",
        "x_{n+1}=x_n-3x_n^{1/3+2/3} \\\\\n",
        "x_{n+1}=x_n-3x_n \\\\\n",
        "x_{n+1}=-2x_n$"
      ],
      "metadata": {
        "id": "L8lzgLipqd8d"
      }
    },
    {
      "cell_type": "code",
      "source": [
        "def x_update(x):\n",
        "    # return (3*x**(1/3)) / (x**(-2/3))\n",
        "    return -2*x"
      ],
      "metadata": {
        "id": "f-bzf8vDqYPY"
      },
      "execution_count": 24,
      "outputs": []
    },
    {
      "cell_type": "code",
      "source": [
        "x_ = .1\n",
        "\n",
        "for i in range(10):\n",
        "    x_ = x_update(x_)\n",
        "    print(f'Passo {i+1}: {x_:.2f}')"
      ],
      "metadata": {
        "colab": {
          "base_uri": "https://localhost:8080/"
        },
        "id": "onMjMYmLqtup",
        "outputId": "a6d77d02-0e91-46bc-89e6-40563504afa8"
      },
      "execution_count": 25,
      "outputs": [
        {
          "output_type": "stream",
          "name": "stdout",
          "text": [
            "Passo 1: -0.20\n",
            "Passo 2: 0.40\n",
            "Passo 3: -0.80\n",
            "Passo 4: 1.60\n",
            "Passo 5: -3.20\n",
            "Passo 6: 6.40\n",
            "Passo 7: -12.80\n",
            "Passo 8: 25.60\n",
            "Passo 9: -51.20\n",
            "Passo 10: 102.40\n"
          ]
        }
      ]
    },
    {
      "cell_type": "markdown",
      "source": [
        "#Exercio 6"
      ],
      "metadata": {
        "id": "Ncx2VlILqxAx"
      }
    },
    {
      "cell_type": "markdown",
      "source": [
        "$f(x)=x^4-5x^3+9x+3 \\\\\n",
        "f'(x)=4x^3-15x^2+9=0$"
      ],
      "metadata": {
        "id": "VNksGE1Eq1ii"
      }
    },
    {
      "cell_type": "code",
      "source": [
        "def x_update(x):\n",
        "    return (x**4 - 5*x**3 + 9*x + 3) / (4*x**3 - 15*x**2 + 9)"
      ],
      "metadata": {
        "id": "qao2NJZ8q2WR"
      },
      "execution_count": 26,
      "outputs": []
    },
    {
      "cell_type": "code",
      "source": [
        "def x_update(x):\n",
        "    return (x**4 - 5*x**3 + 9*x + 3) / (4*x**3 - 15*x**2 + 9)\n",
        "\n",
        "x_ = 4\n",
        "\n",
        "for i in range(10):\n",
        "    x_ = x_ - x_update(x_)\n",
        "    print(i+1,x_)"
      ],
      "metadata": {
        "colab": {
          "base_uri": "https://localhost:8080/"
        },
        "id": "dSF3_QQAq5jY",
        "outputId": "b0dcf8ab-ef21-462c-a7cd-ff4e69876884"
      },
      "execution_count": 28,
      "outputs": [
        {
          "output_type": "stream",
          "name": "stdout",
          "text": [
            "1 5.0\n",
            "2 4.641791044776119\n",
            "3 4.5375439592074756\n",
            "4 4.528973727325634\n",
            "5 4.528917959646293\n",
            "6 4.528917957294362\n",
            "7 4.528917957294362\n",
            "8 4.528917957294362\n",
            "9 4.528917957294362\n",
            "10 4.528917957294362\n"
          ]
        }
      ]
    },
    {
      "cell_type": "markdown",
      "source": [
        "##Regressão Linear\n",
        "\n",
        "### Solução Analítica &rarr; $\\beta = (X'X)^{-1} X'Y$\n",
        "### Gradiente &rarr; $\\beta = \\beta - \\alpha 2X'(X\\beta-Y)$\n",
        "### Newton-Raphson &rarr; $\\beta = \\beta - X'(X\\beta-Y)(\\beta'X')^{-1}$"
      ],
      "metadata": {
        "id": "SymmDzICq_8n"
      }
    },
    {
      "cell_type": "markdown",
      "source": [
        "##Regressão Logistica\n",
        "\n",
        "### Solução Analítica &rarr; Não tem\n",
        "### Gradiente &rarr; $\\beta = \\beta - \\alpha [\\frac{-1}{n} X'(y-p)]$\n",
        "### Newton-Raphson &rarr; $\\beta = \\beta + (X'WX)^{-1} X'(y-p)$"
      ],
      "metadata": {
        "id": "49UajQ9NrPk_"
      }
    },
    {
      "cell_type": "markdown",
      "source": [
        "##Raiz/Minimo de função\n",
        "\n",
        "### Gradiente &rarr; $X = X - \\alpha \\cdot F(X) $\n",
        "### Newton-Raphson &rarr; $X = X - \\frac{F(X)}{F'(X)}$"
      ],
      "metadata": {
        "id": "XFx0HqterTBm"
      }
    }
  ]
}