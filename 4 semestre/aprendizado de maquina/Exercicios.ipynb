{
 "cells": [
  {
   "cell_type": "code",
   "execution_count": 1,
   "metadata": {},
   "outputs": [],
   "source": [
    "import pandas as pd"
   ]
  },
  {
   "cell_type": "code",
   "execution_count": 2,
   "metadata": {},
   "outputs": [],
   "source": [
    "df = pd.read_csv('notebooks.csv')"
   ]
  },
  {
   "cell_type": "code",
   "execution_count": 4,
   "metadata": {},
   "outputs": [
    {
     "data": {
      "text/plain": [
       "marca                0\n",
       "ano                  0\n",
       "qtd_nucleos          0\n",
       "qtd_threads          0\n",
       "ram                  0\n",
       "gpu_dedicada         0\n",
       "ram_gpu              0\n",
       "entradas_usb         0\n",
       "duracao_bateria      0\n",
       "resolucao_tela       0\n",
       "tipo_tela            0\n",
       "tela_touch           0\n",
       "armazenamento_hdd    0\n",
       "armazenamento_ssd    0\n",
       "segmento             0\n",
       "valor                0\n",
       "dtype: int64"
      ]
     },
     "execution_count": 4,
     "metadata": {},
     "output_type": "execute_result"
    }
   ],
   "source": [
    "#Nenhum valor nulo\n",
    "df.isna().sum()"
   ]
  },
  {
   "cell_type": "code",
   "execution_count": 7,
   "metadata": {},
   "outputs": [],
   "source": [
    "# Converter valores textuas para numéricos\n",
    "from sklearn.preprocessing import LabelEncoder\n",
    "\n",
    "for col in df.columns:\n",
    "    # Verifica se o tipo da coluna é object (textual)\n",
    "    if df[col].dtype == 'object':\n",
    "        le = LabelEncoder()\n",
    "        df[col] = le.fit_transform(df[col])"
   ]
  },
  {
   "cell_type": "code",
   "execution_count": 8,
   "metadata": {},
   "outputs": [
    {
     "name": "stdout",
     "output_type": "stream",
     "text": [
      "<class 'pandas.core.frame.DataFrame'>\n",
      "RangeIndex: 10000 entries, 0 to 9999\n",
      "Data columns (total 16 columns):\n",
      " #   Column             Non-Null Count  Dtype\n",
      "---  ------             --------------  -----\n",
      " 0   marca              10000 non-null  int32\n",
      " 1   ano                10000 non-null  int64\n",
      " 2   qtd_nucleos        10000 non-null  int64\n",
      " 3   qtd_threads        10000 non-null  int64\n",
      " 4   ram                10000 non-null  int64\n",
      " 5   gpu_dedicada       10000 non-null  int32\n",
      " 6   ram_gpu            10000 non-null  int64\n",
      " 7   entradas_usb       10000 non-null  int64\n",
      " 8   duracao_bateria    10000 non-null  int64\n",
      " 9   resolucao_tela     10000 non-null  int32\n",
      " 10  tipo_tela          10000 non-null  int32\n",
      " 11  tela_touch         10000 non-null  int32\n",
      " 12  armazenamento_hdd  10000 non-null  int64\n",
      " 13  armazenamento_ssd  10000 non-null  int64\n",
      " 14  segmento           10000 non-null  int32\n",
      " 15  valor              10000 non-null  int64\n",
      "dtypes: int32(6), int64(10)\n",
      "memory usage: 1015.8 KB\n"
     ]
    }
   ],
   "source": [
    "df.info()"
   ]
  },
  {
   "cell_type": "code",
   "execution_count": 9,
   "metadata": {},
   "outputs": [
    {
     "data": {
      "text/plain": [
       "'valor'"
      ]
     },
     "execution_count": 9,
     "metadata": {},
     "output_type": "execute_result"
    }
   ],
   "source": [
    "df.columns[-1]"
   ]
  },
  {
   "cell_type": "code",
   "execution_count": 13,
   "metadata": {},
   "outputs": [],
   "source": [
    "# Normalizar e Separar dados em Treinamento (70%), Validação (15%) e Teste (15%)\n",
    "from sklearn.model_selection import train_test_split\n",
    "from sklearn.preprocessing import MinMaxScaler\n",
    "\n",
    "X = df[df.columns[:-1]]\n",
    "y = df[[df.columns[-1]]]\n",
    "\n",
    "scaler_X = MinMaxScaler()\n",
    "X = scaler_X.fit_transform(X)\n",
    "\n",
    "scaler_y = MinMaxScaler()\n",
    "y = scaler_y.fit_transform(y)\n",
    "\n",
    "X_train, X_temp, y_train, y_temp = train_test_split(X, y, test_size=0.3, random_state=42)\n",
    "X_val, X_test, y_val, y_test = train_test_split(X_temp, y_temp, test_size=0.5, random_state=42)"
   ]
  },
  {
   "cell_type": "markdown",
   "metadata": {},
   "source": [
    "# GridSearch"
   ]
  },
  {
   "cell_type": "markdown",
   "metadata": {},
   "source": [
    "1. Modelo Básico:\n",
    "\n",
    "• Crie um modelo sequencial simples com uma camada oculta e compile-o usando\n",
    "MSE (Erro Quadrático Médio) como função de perda. Use o GridSearchCV para\n",
    "encontrar a melhor função de ativação para essa camada oculta entre ['relu',\n",
    "'tanh', 'sigmoid']."
   ]
  },
  {
   "cell_type": "code",
   "execution_count": null,
   "metadata": {},
   "outputs": [],
   "source": []
  },
  {
   "cell_type": "markdown",
   "metadata": {},
   "source": [
    "2. Otimizando a Arquitetura:\n",
    "\n",
    "• Use o GridSearchCV para encontrar a melhor combinação de neurônios em duas\n",
    "camadas ocultas. Teste combinações entre [32, 64, 128] neurônios para cada\n",
    "camada."
   ]
  },
  {
   "cell_type": "code",
   "execution_count": null,
   "metadata": {},
   "outputs": [],
   "source": []
  },
  {
   "cell_type": "markdown",
   "metadata": {},
   "source": [
    "3. Otimizando o Otimizador:\n",
    "\n",
    "• Mantendo a arquitetura do modelo fixa, utilize o GridSearchCV para encontrar o\n",
    "melhor otimizador entre ['adam', 'sgd', 'rmsprop']."
   ]
  },
  {
   "cell_type": "code",
   "execution_count": null,
   "metadata": {},
   "outputs": [],
   "source": []
  },
  {
   "cell_type": "markdown",
   "metadata": {},
   "source": [
    "4. Batch Size e Epochs:\n",
    "\n",
    "• Determine o melhor batch_size e número de epochs usando o GridSearchCV.\n",
    "Teste para batch_size em [32, 64, 128] e epochs em [10, 20, 30]."
   ]
  },
  {
   "cell_type": "code",
   "execution_count": null,
   "metadata": {},
   "outputs": [],
   "source": []
  },
  {
   "cell_type": "markdown",
   "metadata": {},
   "source": [
    "5. Regularização:\n",
    "\n",
    "• Use o GridSearchCV para encontrar o melhor valor para a regularização L2 (use\n",
    "keras.regularizers.l2) para uma camada oculta. Teste valores como [0.01, 0.001,\n",
    "0.0001]."
   ]
  },
  {
   "cell_type": "code",
   "execution_count": null,
   "metadata": {},
   "outputs": [],
   "source": []
  },
  {
   "cell_type": "markdown",
   "metadata": {},
   "source": [
    "# RandomizedSearch"
   ]
  },
  {
   "cell_type": "markdown",
   "metadata": {},
   "source": [
    "6. Função de Ativação Aleatória:\n",
    "\n",
    "• Semelhante ao exercício 1, mas agora usando RandomizedSearchCV para\n",
    "selecionar aleatoriamente a melhor função de ativação."
   ]
  },
  {
   "cell_type": "code",
   "execution_count": null,
   "metadata": {},
   "outputs": [],
   "source": []
  },
  {
   "cell_type": "markdown",
   "metadata": {},
   "source": [
    "7. Arquitetura Aleatória:\n",
    "\n",
    "• Use o RandomizedSearchCV para encontrar uma combinação ótima de neurônios\n",
    "em três camadas ocultas. Permita que qualquer valor entre 10 e 150 neurônios\n",
    "seja testado para cada camada."
   ]
  },
  {
   "cell_type": "code",
   "execution_count": null,
   "metadata": {},
   "outputs": [],
   "source": []
  },
  {
   "cell_type": "markdown",
   "metadata": {},
   "source": [
    "8. Otimizador Aleatório:\n",
    "\n",
    "• Similar ao exercício 3, mas agora usando RandomizedSearchCV."
   ]
  },
  {
   "cell_type": "code",
   "execution_count": null,
   "metadata": {},
   "outputs": [],
   "source": []
  },
  {
   "cell_type": "markdown",
   "metadata": {},
   "source": [
    "9. Iniciação de Pesos:\n",
    "\n",
    "• Use o RandomizedSearchCV para testar diferentes inicializações de peso\n",
    "['uniform', 'normal', 'zero'] em sua camada oculta."
   ]
  },
  {
   "cell_type": "code",
   "execution_count": null,
   "metadata": {},
   "outputs": [],
   "source": []
  },
  {
   "cell_type": "markdown",
   "metadata": {},
   "source": [
    "10. Taxa de Aprendizado:\n",
    "\n",
    "• Se usar o otimizador 'adam', teste diferentes taxas de aprendizado entre 0.001 e 0.1\n",
    "usando RandomizedSearchCV."
   ]
  },
  {
   "cell_type": "code",
   "execution_count": null,
   "metadata": {},
   "outputs": [],
   "source": []
  },
  {
   "cell_type": "markdown",
   "metadata": {},
   "source": [
    "# Otimização Bayesiana"
   ]
  },
  {
   "cell_type": "markdown",
   "metadata": {},
   "source": [
    "11. Função de Ativação Bayesiana:\n",
    "\n",
    "• Implemente uma função objetivo para otimizar a função de ativação da camada oculta e\n",
    "use a Otimização Bayesiana para encontrar a melhor."
   ]
  },
  {
   "cell_type": "code",
   "execution_count": null,
   "metadata": {},
   "outputs": [],
   "source": []
  },
  {
   "cell_type": "markdown",
   "metadata": {},
   "source": [
    "12. Otimização da Arquitetura:\n",
    "\n",
    "• Use a Otimização Bayesiana para encontrar a melhor combinação de neurônios em duas\n",
    "camadas ocultas. Defina os limites entre 10 e 150 neurônios."
   ]
  },
  {
   "cell_type": "code",
   "execution_count": null,
   "metadata": {},
   "outputs": [],
   "source": []
  },
  {
   "cell_type": "markdown",
   "metadata": {},
   "source": [
    "13. Otimizador Bayesiano:\n",
    "\n",
    "• Determine o melhor otimizador, transformando seus índices em um espaço contínuo e\n",
    "usando Otimização Bayesiana."
   ]
  },
  {
   "cell_type": "code",
   "execution_count": null,
   "metadata": {},
   "outputs": [],
   "source": []
  },
  {
   "cell_type": "markdown",
   "metadata": {},
   "source": [
    "14. Dropout:\n",
    "\n",
    "• Use a Otimização Bayesiana para encontrar a melhor taxa de dropout após cada camada\n",
    "oculta. Teste valores entre 0 e 0.5."
   ]
  },
  {
   "cell_type": "code",
   "execution_count": null,
   "metadata": {},
   "outputs": [],
   "source": []
  },
  {
   "cell_type": "markdown",
   "metadata": {},
   "source": [
    "15. Taxa de Aprendizado Bayesiana:\n",
    "\n",
    "• Optimize a taxa de aprendizado do otimizador 'adam' usando Otimização Bayesiana. Teste\n",
    "valores entre 0.0001 e 0.1"
   ]
  },
  {
   "cell_type": "code",
   "execution_count": null,
   "metadata": {},
   "outputs": [],
   "source": []
  },
  {
   "cell_type": "code",
   "execution_count": null,
   "metadata": {},
   "outputs": [],
   "source": []
  }
 ],
 "metadata": {
  "kernelspec": {
   "display_name": "tf",
   "language": "python",
   "name": "python3"
  },
  "language_info": {
   "codemirror_mode": {
    "name": "ipython",
    "version": 3
   },
   "file_extension": ".py",
   "mimetype": "text/x-python",
   "name": "python",
   "nbconvert_exporter": "python",
   "pygments_lexer": "ipython3",
   "version": "3.9.16"
  },
  "orig_nbformat": 4
 },
 "nbformat": 4,
 "nbformat_minor": 2
}
