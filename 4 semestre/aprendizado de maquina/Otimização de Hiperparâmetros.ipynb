{
 "cells": [
  {
   "attachments": {},
   "cell_type": "markdown",
   "metadata": {},
   "source": [
    "# Introdução à Otimização de Hiperparâmetros"
   ]
  },
  {
   "attachments": {},
   "cell_type": "markdown",
   "metadata": {},
   "source": [
    "## Modelos em Aprendizado de Máquina\n",
    "No mundo do aprendizado de máquina, um modelo é uma representação de um sistema. Ele é treinado usando um conjunto de dados e, com base nesse treinamento, faz previsões ou toma decisões sem ser explicitamente programado para realizar uma determinada tarefa."
   ]
  },
  {
   "cell_type": "code",
   "execution_count": 1,
   "metadata": {},
   "outputs": [],
   "source": [
    "from sklearn.linear_model import LogisticRegression\n",
    "\n",
    "# Criando um modelo de Regressão Logística\n",
    "modelo = LogisticRegression()"
   ]
  },
  {
   "attachments": {},
   "cell_type": "markdown",
   "metadata": {},
   "source": [
    "## Parâmetros vs Hiperparâmetros em Aprendizado de Máquina\n",
    "Em aprendizado de máquina, o processo de treinamento envolve ajustar os parâmetros do modelo para melhor se adequar aos dados. \n",
    "\n",
    "Em contraste, os hiperparâmetros são configurações que influenciam como esse treinamento é realizado."
   ]
  },
  {
   "attachments": {},
   "cell_type": "markdown",
   "metadata": {},
   "source": [
    "### Parâmetros:\n",
    "O que são? São componentes do modelo que são aprendidos diretamente dos dados durante o treinamento.\n",
    "\n",
    "Exemplo: Nos modelos de redes neurais, os parâmetros são os pesos e biases (viés, um termo que adiciona um valor constante para ajudar o modelo a melhor se ajustar aos dados) que são ajustados através do treinamento."
   ]
  },
  {
   "cell_type": "code",
   "execution_count": 2,
   "metadata": {},
   "outputs": [],
   "source": [
    "# Carregando dataset do sklearn\n",
    "from sklearn.datasets import load_digits\n",
    "from sklearn.model_selection import train_test_split\n",
    "from keras.models import Sequential\n",
    "from keras.layers import Dense\n",
    "import numpy as np\n",
    "\n",
    "# Carregando o dataset de dígitos\n",
    "data = load_digits()\n",
    "X = data.data\n",
    "y = data.target"
   ]
  },
  {
   "cell_type": "code",
   "execution_count": 3,
   "metadata": {},
   "outputs": [
    {
     "data": {
      "text/plain": [
       "(1797, 64)"
      ]
     },
     "execution_count": 3,
     "metadata": {},
     "output_type": "execute_result"
    }
   ],
   "source": [
    "X.shape"
   ]
  },
  {
   "cell_type": "code",
   "execution_count": 4,
   "metadata": {},
   "outputs": [
    {
     "data": {
      "text/plain": [
       "(1797,)"
      ]
     },
     "execution_count": 4,
     "metadata": {},
     "output_type": "execute_result"
    }
   ],
   "source": [
    "y.shape"
   ]
  },
  {
   "cell_type": "code",
   "execution_count": 5,
   "metadata": {},
   "outputs": [
    {
     "data": {
      "text/plain": [
       "array([0, 1, 2, 3, 4, 5, 6, 7, 8, 9])"
      ]
     },
     "execution_count": 5,
     "metadata": {},
     "output_type": "execute_result"
    }
   ],
   "source": [
    "np.unique(y)"
   ]
  },
  {
   "cell_type": "code",
   "execution_count": 6,
   "metadata": {},
   "outputs": [
    {
     "data": {
      "text/plain": [
       "<keras.callbacks.History at 0x18ec3911990>"
      ]
     },
     "execution_count": 6,
     "metadata": {},
     "output_type": "execute_result"
    }
   ],
   "source": [
    "# Dividindo em conjuntos de treinamento e teste\n",
    "X_train, X_test, y_train, y_test = train_test_split(X, y, test_size=0.2, random_state=42)\n",
    "\n",
    "# Criando uma rede neural simples\n",
    "model = Sequential()\n",
    "model.add(Dense(4, input_dim=X_train.shape[1], activation='relu'))\n",
    "model.add(Dense(2, activation='relu'))\n",
    "model.add(Dense(64, activation='relu'))\n",
    "model.add(Dense(10, activation='softmax'))\n",
    "\n",
    "# Compilando e treinando o modelo\n",
    "model.compile(loss='sparse_categorical_crossentropy', optimizer='adam', metrics=['accuracy'])\n",
    "model.fit(X_train, y_train, epochs=10, batch_size=32, verbose=0)"
   ]
  },
  {
   "cell_type": "code",
   "execution_count": 7,
   "metadata": {},
   "outputs": [
    {
     "name": "stdout",
     "output_type": "stream",
     "text": [
      "Pesos da primeira camada:\n",
      " [[-0.16057912  0.02454808 -0.11131157 -0.17258233]\n",
      " [-0.16137795  0.25865427 -0.02449736 -0.09264661]\n",
      " [-0.04494302 -0.10240892 -0.10039603 -0.00079198]\n",
      " [ 0.0192206   0.3303808   0.17554003  0.19058096]\n",
      " [ 0.2178754  -0.22448872 -0.02378447  0.2230431 ]\n",
      " [ 0.08693727 -0.0244666  -0.19474138  0.22462773]\n",
      " [-0.04933892  0.08130708  0.1142305   0.25108552]\n",
      " [ 0.07461306 -0.0515631  -0.02345793  0.2453607 ]\n",
      " [-0.08426176  0.28490832 -0.04470127 -0.21831715]\n",
      " [ 0.0509194   0.21812695  0.20668599  0.01462329]\n",
      " [-0.24281858  0.08915081 -0.21961792  0.07073421]\n",
      " [ 0.26395437  0.0428807  -0.1265999   0.14326102]\n",
      " [-0.18381104  0.0311495   0.26282874 -0.2534998 ]\n",
      " [ 0.08738904  0.3010773   0.12824626 -0.24069051]\n",
      " [ 0.13338959  0.30897355  0.0613963   0.01021276]\n",
      " [-0.2544828  -0.08106738 -0.06234331 -0.15031917]\n",
      " [ 0.24216598 -0.15679546  0.23011161  0.17326947]\n",
      " [-0.26025486  0.36287338  0.24520251  0.12379906]\n",
      " [-0.22498856  0.28565285  0.08471644 -0.11663449]\n",
      " [ 0.2404588  -0.06227373 -0.27370948  0.1499146 ]\n",
      " [ 0.12502626 -0.13484943  0.04248119  0.04087437]\n",
      " [-0.4038627   0.38492137  0.20881304  0.04930297]\n",
      " [ 0.09695034  0.41249114  0.04386457  0.02123007]\n",
      " [-0.24774519  0.10767769 -0.22591062  0.15796526]\n",
      " [-0.182177    0.25265828 -0.00405386  0.24362296]\n",
      " [-0.09527545  0.17761181 -0.3450048   0.12235776]\n",
      " [-0.15850478  0.20210223 -0.13543366 -0.22444779]\n",
      " [ 0.0395534   0.16988206  0.08950066 -0.19177106]\n",
      " [-0.21756525  0.02205259  0.05632412  0.0832993 ]\n",
      " [-0.330416   -0.02830859 -0.22882757  0.04383066]\n",
      " [-0.30781573  0.19656374 -0.24025723  0.02205859]\n",
      " [ 0.27620184 -0.12138395  0.2891547  -0.06898138]\n",
      " [-0.06289177 -0.12197621  0.19170079  0.00209239]\n",
      " [ 0.04478348 -0.16503233 -0.3395586   0.224971  ]\n",
      " [ 0.3439657   0.0329944  -0.23213272 -0.13954599]\n",
      " [ 0.05415028 -0.12611455 -0.09745623 -0.18153231]\n",
      " [ 0.18786223 -0.14154114  0.26427084  0.08816089]\n",
      " [ 0.24608003 -0.27604806 -0.24030219  0.16152345]\n",
      " [-0.04864516 -0.14274304 -0.38211048 -0.11906896]\n",
      " [-0.27167007  0.10328373  0.15137559 -0.12634239]\n",
      " [-0.0781947  -0.28144634 -0.18737978  0.24535848]\n",
      " [-0.11735147  0.14767505 -0.16228925 -0.09844377]\n",
      " [ 0.10760409  0.31220937 -0.11146727 -0.03104013]\n",
      " [ 0.09048913 -0.06847009 -0.14638288 -0.18544887]\n",
      " [-0.05252201  0.07545598 -0.1654851   0.15416816]\n",
      " [ 0.2652616   0.2507622   0.01870796 -0.25091243]\n",
      " [ 0.14754425 -0.09141598  0.06992944 -0.2667122 ]\n",
      " [ 0.23881249 -0.04115709  0.18250377  0.09386501]\n",
      " [-0.03670566 -0.09579641 -0.0231923   0.20948946]\n",
      " [-0.2382838  -0.14754331  0.21516992  0.1149122 ]\n",
      " [-0.08636604  0.21808784  0.09091595 -0.05921352]\n",
      " [-0.01540357  0.20103563  0.13754304 -0.2686502 ]\n",
      " [ 0.14081886 -0.03174909  0.30968472 -0.28370792]\n",
      " [ 0.00493804  0.1289358   0.10638119 -0.08775685]\n",
      " [ 0.30734658 -0.05529609  0.06036452 -0.1923549 ]\n",
      " [ 0.20603111 -0.11615233 -0.00899848 -0.18124779]\n",
      " [ 0.08795393 -0.24518864 -0.07803167  0.1385721 ]\n",
      " [-0.11332121  0.17025775  0.23816313 -0.10928775]\n",
      " [-0.26067728 -0.18519004  0.10068303  0.15196456]\n",
      " [-0.23829967 -0.08316039  0.20747374  0.06189938]\n",
      " [ 0.18317956 -0.00573503 -0.07591875 -0.22522937]\n",
      " [ 0.21631977 -0.21094815  0.2944472   0.15862665]\n",
      " [ 0.16431889  0.07656613  0.27578226  0.09478264]\n",
      " [-0.04220216 -0.15753503 -0.08794708 -0.22408119]]\n"
     ]
    }
   ],
   "source": [
    "# Mostrando alguns parâmetros (pesos) da primeira camada\n",
    "weights_first_layer = model.layers[0].get_weights()[0]\n",
    "print(\"Pesos da primeira camada:\\n\", weights_first_layer)"
   ]
  },
  {
   "cell_type": "code",
   "execution_count": 8,
   "metadata": {},
   "outputs": [
    {
     "data": {
      "text/plain": [
       "(64, 4)"
      ]
     },
     "execution_count": 8,
     "metadata": {},
     "output_type": "execute_result"
    }
   ],
   "source": [
    "weights_first_layer.shape"
   ]
  },
  {
   "attachments": {},
   "cell_type": "markdown",
   "metadata": {},
   "source": [
    "### Hiperparâmetros:\n",
    "O que são? São configurações que definem aspectos do treinamento e da estrutura do modelo. Não são aprendidos nos dados, mas são configurados antes do treinamento.\n",
    "\n",
    "Exemplo: Em redes neurais, a taxa de aprendizado, o número de camadas, o número de neurônios em uma camada, e a função de ativação são todos hiperparâmetros."
   ]
  },
  {
   "cell_type": "code",
   "execution_count": 9,
   "metadata": {},
   "outputs": [
    {
     "data": {
      "text/plain": [
       "<keras.callbacks.History at 0x18ec48ea410>"
      ]
     },
     "execution_count": 9,
     "metadata": {},
     "output_type": "execute_result"
    }
   ],
   "source": [
    "# Definindo hiperparâmetros para uma rede neural\n",
    "learning_rate = 0.001\n",
    "batch_size = 32\n",
    "epochs = 50\n",
    "number_of_neurons_layer1 = 128\n",
    "number_of_neurons_layer2 = 64\n",
    "number_of_neurons_layer3 = 128\n",
    "activation_function = 'relu'\n",
    "\n",
    "# Criando um modelo usando os hiperparâmetros\n",
    "model = Sequential()\n",
    "model.add(Dense(number_of_neurons_layer1, input_dim=X_train.shape[1], activation=activation_function))\n",
    "model.add(Dense(number_of_neurons_layer2, activation=activation_function))\n",
    "model.add(Dense(number_of_neurons_layer3, activation=activation_function))\n",
    "model.add(Dense(10, activation='softmax'))\n",
    "\n",
    "# Treinando o modelo usando os hiperparâmetros\n",
    "model.compile(loss='sparse_categorical_crossentropy', optimizer='adam', metrics=['accuracy'])\n",
    "model.fit(X_train, y_train, epochs=epochs, batch_size=batch_size, verbose=0)\n"
   ]
  },
  {
   "attachments": {},
   "cell_type": "markdown",
   "metadata": {},
   "source": [
    "`learning_rate` = 0.001: Taxa de aprendizado é um hiperparâmetro que define o tamanho do passo que será usado no ajuste dos pesos durante o treinamento. Embora seja definido aqui, note que ele não está sendo usado diretamente no código fornecido, pois o otimizador 'adam' tem sua própria taxa de aprendizado adaptativa.\n",
    "\n",
    "`batch_size` = 32: Tamanho do lote (ou batch) é a quantidade de amostras de dados que serão usadas para atualizar os pesos de uma única vez. Esse é um hiperparâmetro importante quando você está usando um método de otimização estocástico ou mini-batch.\n",
    "\n",
    "`epochs` = 50: Número de épocas indica quantas vezes o algoritmo verá o conjunto de treinamento completo. Se você tem, digamos, 1000 amostras de treinamento e o batch_size é 100, então uma época terá 10 atualizações (passos) para o modelo.\n",
    "\n",
    "`number_of_neurons_layer1` = 128 e `number_of_neurons_layer2` = 64 e `number_of_neurons_layer3` = 128: Estes definem o número de neurônios nas camadas ocultas da rede neural. A arquitetura e a profundidade da rede (número de camadas e neurônios em cada camada) são hiperparâmetros.\n",
    "\n",
    "`activation_function` = 'relu': Função de ativação que é usada nos neurônios da rede. Dependendo da função escolhida, a rede pode aprender diferentes tipos de representações. O 'relu' (Rectified Linear Unit) é um dos mais populares atualmente.\n",
    "\n",
    "`loss` = 'sparse_categorical_crossentropy': Define a função de perda, que é a métrica que a rede tentará minimizar durante o treinamento.\n",
    "\n",
    "`optimizer` = 'adam': Define o otimizador usado, que é o algoritmo de otimização. Existem vários otimizadores e cada um tem seus próprios hiperparâmetros internos."
   ]
  },
  {
   "attachments": {},
   "cell_type": "markdown",
   "metadata": {},
   "source": [
    "## Conclusão:\n",
    "\n",
    "``Parâmetros`` são intrínsecos ao modelo e são ajustados durante o treinamento.\n",
    "\n",
    "``Hiperparâmetros`` definem como o treinamento é realizado e a estrutura do modelo, sendo definidos externamente e não ajustados automaticamente pelo modelo durante o treinamento."
   ]
  },
  {
   "attachments": {},
   "cell_type": "markdown",
   "metadata": {},
   "source": [
    "## A Crucialidade da Otimização de Hiperparâmetros\n",
    "Hiperparâmetros adequados podem fazer a diferença entre um modelo médio e um modelo altamente eficiente. A otimização de hiperparâmetros:\n",
    "\n",
    "- Melhora o desempenho do modelo no conjunto de dados.\n",
    "- Pode ajudar a prevenir overfitting ou underfitting.\n",
    "- Pode acelerar o treinamento do modelo ou torná-lo mais eficaz.\n",
    "\n",
    "Encontrar os hiperparâmetros ideais muitas vezes é um desafio. Se pegarmos, por exemplo, uma rede neural, a taxa de aprendizado, o tamanho do batch, a quantidade de camadas e unidades em cada camada, entre outros, são hiperparâmetros que precisamos definir antes do treinamento. A combinação certa desses hiperparâmetros pode variar amplamente de um conjunto de dados para outro, e a otimização automática desses hiperparâmetros é onde podemos extrair o máximo do potencial de um modelo."
   ]
  },
  {
   "attachments": {},
   "cell_type": "markdown",
   "metadata": {},
   "source": [
    "# Métodos de Otimização de Hiperparâmetros\n",
    "Após a introdução sobre a importância dos hiperparâmetros, agora nos deparamos com um questionamento: \"Como podemos encontrar o melhor conjunto de hiperparâmetros para nosso modelo?\". Existem diversos métodos que auxiliam nessa busca, e hoje, iremos explorar três dos mais populares."
   ]
  },
  {
   "attachments": {},
   "cell_type": "markdown",
   "metadata": {},
   "source": [
    "## Grid Search\n",
    "O Grid Search, ou Pesquisa em Grade, é um dos métodos mais simples e amplamente utilizados para otimização de hiperparâmetros.\n",
    "\n",
    "O método Grid Search, ou busca em grade, consiste em testar manualmente cada combinação possível de hiperparâmetros. Por exemplo, se tivermos dois hiperparâmetros e quisermos testar 5 valores diferentes para cada um, realizaríamos um total de 25 treinamentos (5x5).\n",
    "\n",
    "``Vantagens``:\n",
    "\n",
    "É determinístico; você sabe exatamente quais combinações serão testadas.\n",
    "Pode ser paralelizado facilmente.\n",
    "\n",
    "``Desvantagens``:\n",
    "\n",
    "Pode ser muito demorado, especialmente quando o espaço de busca é grande.\n",
    "Não é eficiente, pois testa combinações que podem ser consideradas subótimas com base em resultados anteriores."
   ]
  },
  {
   "cell_type": "code",
   "execution_count": 10,
   "metadata": {},
   "outputs": [],
   "source": [
    "from sklearn.metrics import accuracy_score, precision_score, recall_score, f1_score, confusion_matrix\n",
    "import seaborn as sns\n",
    "import matplotlib.pyplot as plt\n",
    "\n",
    "def metricas_classificacao(y_real, y_pred):\n",
    "    # Calcular métricas\n",
    "    metrics = {\n",
    "        \"Acurácia\": accuracy_score(y_real, y_pred),\n",
    "        \"Precisão (macro)\": precision_score(y_real, y_pred, average='macro'),\n",
    "        \"Recall (macro)\": recall_score(y_real, y_pred, average='macro'),\n",
    "        \"F1-Score (macro)\": f1_score(y_real, y_pred, average='macro')\n",
    "    }\n",
    "    \n",
    "    # Printar métricas\n",
    "    for key, value in metrics.items():\n",
    "        print(f\"{key}: {value}\")\n",
    "\n",
    "    # Calcular a Matriz de Confusão\n",
    "    confusion_mat = confusion_matrix(y_real, y_pred)\n",
    "\n",
    "    # Printar Matriz de Confusão\n",
    "    print(\"Matriz de Confusão:\")\n",
    "    sns.heatmap(confusion_mat, annot=True, cmap='YlGnBu', fmt='g')\n",
    "    plt.xlabel('Previsto')\n",
    "    plt.ylabel('Real')\n",
    "    plt.show()\n",
    "\n",
    "    return metrics\n"
   ]
  },
  {
   "cell_type": "code",
   "execution_count": 12,
   "metadata": {},
   "outputs": [],
   "source": [
    "# Importando as bibliotecas necessárias para construir o modelo da rede neural\n",
    "from keras.models import Sequential\n",
    "from keras.layers import Dense\n",
    "\n",
    "# Função que cria e retorna um modelo de rede neural\n",
    "def create_model(neurons1=128, neurons2=64, activation_function='relu'):\n",
    "    \n",
    "    # Inicializando o modelo sequencial\n",
    "    model = Sequential()\n",
    "    \n",
    "    # Adicionando a primeira camada oculta com o número de neurônios especificado (neurons1)\n",
    "    # 'input_dim' especifica o número de características de entrada\n",
    "    model.add(Dense(neurons1, input_dim=X_train.shape[1], activation=activation_function))\n",
    "    \n",
    "    # Adicionando a segunda camada oculta com o número de neurônios especificado (neurons2)\n",
    "    model.add(Dense(neurons2, activation=activation_function))\n",
    "    \n",
    "    # Adicionando a terceira camada oculta com 128 neurônios\n",
    "    model.add(Dense(128, activation=activation_function))\n",
    "    \n",
    "    # Adicionando a camada de saída com 10 neurônios (para um problema de classificação de 10 classes)\n",
    "    model.add(Dense(10, activation='softmax'))\n",
    "    \n",
    "    # Compilando o modelo - especificando o otimizador, a função de perda e a métrica de avaliação\n",
    "    model.compile(optimizer='adam', loss='sparse_categorical_crossentropy', metrics=['accuracy'])\n",
    "    \n",
    "    return model"
   ]
  },
  {
   "cell_type": "code",
   "execution_count": 11,
   "metadata": {},
   "outputs": [
    {
     "name": "stderr",
     "output_type": "stream",
     "text": [
      "C:\\Users\\Leão Neto\\AppData\\Local\\Temp\\ipykernel_1892\\271313089.py:7: DeprecationWarning: KerasClassifier is deprecated, use Sci-Keras (https://github.com/adriangb/scikeras) instead. See https://www.adriangb.com/scikeras/stable/migration.html for help migrating.\n",
      "  model_for_grid = KerasClassifier(build_fn=create_model, epochs=20, verbose=0)\n"
     ]
    }
   ],
   "source": [
    "# Importando o KerasClassifier que permite usar modelos Keras com scikit-learn\n",
    "from keras.wrappers.scikit_learn import KerasClassifier\n",
    "# Importando GridSearchCV para otimização de hiperparâmetros\n",
    "from sklearn.model_selection import GridSearchCV\n",
    "\n",
    "# Criando uma instância do KerasClassifier com a função de criação do modelo e especificando 20 épocas\n",
    "model_for_grid = KerasClassifier(build_fn=create_model, epochs=20, verbose=0)\n",
    "\n",
    "# Definindo a grade de hiperparâmetros que queremos testar\n",
    "param_grid = {\n",
    "    'neurons1': [64, 128, 256],                # diferentes quantidades de neurônios para a primeira camada\n",
    "    'neurons2': [64, 128, 256],                # diferentes quantidades de neurônios para a segunda camada\n",
    "    'activation_function': ['relu', 'tanh']  # diferentes funções de ativação\n",
    "}\n",
    "\n",
    "# Configurando o GridSearchCV com o modelo, a grade de parâmetros, e outras opções\n",
    "grid = GridSearchCV(estimator=model_for_grid, param_grid=param_grid, n_jobs=-1, cv=3)\n",
    "\n",
    "# Iniciando a busca pelos melhores hiperparâmetros usando o conjunto de treinamento\n",
    "grid_result = grid.fit(X_train, y_train)\n",
    "\n",
    "# Imprimindo os melhores hiperparâmetros encontrados\n",
    "print(f\"Melhores parâmetros: {grid_result.best_params_}\")"
   ]
  },
  {
   "cell_type": "code",
   "execution_count": null,
   "metadata": {},
   "outputs": [],
   "source": [
    "3 * 3 * 2 * 20"
   ]
  },
  {
   "cell_type": "code",
   "execution_count": null,
   "metadata": {},
   "outputs": [],
   "source": [
    "best_model = create_model(neurons1=128, neurons2=128, activation_function='relu')\n",
    "best_model.fit(X_train, y_train, epochs=20, verbose = 0)\n",
    "y_pred = np.argmax(best_model.predict(X_test), axis=1)\n",
    "metricas = metricas_classificacao(y_test, y_pred)"
   ]
  },
  {
   "cell_type": "code",
   "execution_count": null,
   "metadata": {},
   "outputs": [],
   "source": [
    "model = create_model(neurons1=64, neurons2=64, activation_function='relu')\n",
    "model.fit(X_train, y_train, epochs=20, verbose = 0)\n",
    "y_pred = np.argmax(model.predict(X_test), axis=1)\n",
    "metricas = metricas_classificacao(y_test, y_pred)"
   ]
  },
  {
   "attachments": {},
   "cell_type": "markdown",
   "metadata": {},
   "source": [
    "## Random Search\n",
    "\n",
    "Como difere do Grid Search:\n",
    "\n",
    "Em vez de testar todas as combinações possíveis, o Random Search testa uma quantidade determinada de combinações aleatórias de hiperparâmetros. Em nosso exemplo anterior de 3x3x2 combinações, em vez de testar todas as 18 combinações, podemos testar, digamos, 10 combinações aleatórias. Isso pode ser mais eficiente quando se tem um espaço de pesquisa muito grande."
   ]
  },
  {
   "cell_type": "code",
   "execution_count": null,
   "metadata": {},
   "outputs": [],
   "source": [
    "from sklearn.model_selection import RandomizedSearchCV\n",
    "\n",
    "# Definindo o espaço de hiperparâmetros\n",
    "param_dist = {\n",
    "    'neurons1': [64, 128, 256, 512],\n",
    "    'neurons2': [64, 128, 256, 512],\n",
    "    'activation_function': ['relu', 'tanh', 'softmax']\n",
    "}\n",
    "\n",
    "model_for_grid = KerasClassifier(build_fn=create_model, epochs=20, verbose=0)\n",
    "\n",
    "# Configurando o RandomizedSearchCV com 10 iterações\n",
    "random_search = RandomizedSearchCV(estimator=model_for_grid, param_distributions=param_dist, n_iter=10, n_jobs=-1, cv=3)\n",
    "\n",
    "# Iniciando a busca pelos melhores hiperparâmetros usando o conjunto de treinamento\n",
    "random_result = random_search.fit(X_train, y_train)\n",
    "\n",
    "# Imprimindo os melhores hiperparâmetros encontrados\n",
    "print(f\"Melhores parâmetros usando RandomizedSearchCV: {random_result.best_params_}\")\n"
   ]
  },
  {
   "attachments": {},
   "cell_type": "markdown",
   "metadata": {},
   "source": [
    "Ao invés de testarmos 4x4x3 = 48 combinações , testamos 10 combinações aleatórias"
   ]
  },
  {
   "cell_type": "code",
   "execution_count": null,
   "metadata": {},
   "outputs": [],
   "source": [
    "model = create_model(neurons1=128, neurons2=256, activation_function='relu')\n",
    "model.fit(X_train, y_train, epochs=20, verbose = 0)\n",
    "y_pred = np.argmax(model.predict(X_test), axis=1)\n",
    "metricas = metricas_classificacao(y_test, y_pred)"
   ]
  },
  {
   "attachments": {},
   "cell_type": "markdown",
   "metadata": {},
   "source": [
    "## Otimização Bayesiana com BayesianOptimization\n",
    "A otimização bayesiana é uma técnica probabilística para encontrar o mínimo de funções. Diferente do Random Search, que faz uma busca aleatória pelo espaço de hiperparâmetros, a otimização bayesiana tenta racionalizar a melhor área do espaço a ser pesquisada com base em avaliações anteriores. Ela usa um processo gaussiano para fazer isso.\n",
    "\n",
    "### Funcionamento Básico:\n",
    "Modelo probabilístico: Um modelo probabilístico é construído com base nas funções e seus parâmetros avaliados anteriormente. Esse modelo é frequentemente um processo gaussiano.\n",
    "\n",
    "Escolha do próximo ponto: Com base no modelo atual, escolhe-se o próximo ponto para avaliar. Isso não é apenas baseado em áreas onde a performance é boa, mas também onde a incerteza é alta. Assim, equilibra a exploração de novas áreas e a exploração de áreas conhecidas.\n",
    "\n",
    "### Aplicação em Machine Learning:\n",
    "Para otimização de hiperparâmetros, a função que queremos minimizar (ou maximizar) é geralmente a métrica de erro (ou acurácia) do nosso modelo. Por exemplo, se estamos treinando uma rede neural, a função tomará hiperparâmetros como entrada (como taxa de aprendizado, número de neurônios, etc.) e retornará o erro no conjunto de validação."
   ]
  },
  {
   "cell_type": "code",
   "execution_count": null,
   "metadata": {},
   "outputs": [],
   "source": [
    "!pip install bayesian-optimization"
   ]
  },
  {
   "attachments": {},
   "cell_type": "markdown",
   "metadata": {},
   "source": [
    "``Função Objetivo``: Precisamos definir a função que queremos otimizar. No nosso caso, essa função irá:\n",
    "- Receber hiperparâmetros como entrada.\n",
    "- Construir e treinar um modelo usando esses hiperparâmetros.\n",
    "- Retornar a métrica de erro (ou acurácia).\n",
    "\n",
    "``Limites dos Hiperparâmetros``: A otimização bayesiana requer que os hiperparâmetros tenham limites. Se for um hiperparâmetro contínuo (como a taxa de aprendizado), simplesmente definimos um intervalo. Para hiperparâmetros categóricos (como funções de ativação), usamos um truque: mapeamos cada categoria para um número (por exemplo, 'relu' para 0, 'tanh' para 1) e depois usamos esse índice como hiperparâmetro contínuo. Depois, na função objetivo, mapeamos o índice de volta à sua categoria original.\n",
    "\n",
    "``Otimização``: Com a função objetivo e os limites definidos, podemos executar a otimização. Decidimos quantos pontos iniciais queremos (pontos escolhidos aleatoriamente antes de começar a otimização bayesiana) e quantas iterações de otimização queremos."
   ]
  },
  {
   "cell_type": "code",
   "execution_count": 13,
   "metadata": {},
   "outputs": [
    {
     "name": "stdout",
     "output_type": "stream",
     "text": [
      "|   iter    |  target   | activa... | neurons1  | neurons2  |\n",
      "-------------------------------------------------------------\n",
      "| \u001b[0m1        \u001b[0m | \u001b[0m0.9618   \u001b[0m | \u001b[0m0.417    \u001b[0m | \u001b[0m202.3    \u001b[0m | \u001b[0m64.02    \u001b[0m |\n",
      "| \u001b[95m2        \u001b[0m | \u001b[95m0.9757   \u001b[0m | \u001b[95m0.3023   \u001b[0m | \u001b[95m92.18    \u001b[0m | \u001b[95m81.73    \u001b[0m |\n",
      "| \u001b[0m3        \u001b[0m | \u001b[0m0.9722   \u001b[0m | \u001b[0m0.1863   \u001b[0m | \u001b[0m130.3    \u001b[0m | \u001b[0m140.2    \u001b[0m |\n",
      "| \u001b[0m4        \u001b[0m | \u001b[0m0.9722   \u001b[0m | \u001b[0m0.5388   \u001b[0m | \u001b[0m144.5    \u001b[0m | \u001b[0m195.6    \u001b[0m |\n",
      "| \u001b[0m5        \u001b[0m | \u001b[0m0.9722   \u001b[0m | \u001b[0m0.2045   \u001b[0m | \u001b[0m232.6    \u001b[0m | \u001b[0m69.26    \u001b[0m |\n",
      "| \u001b[0m6        \u001b[0m | \u001b[0m0.9722   \u001b[0m | \u001b[0m0.5312   \u001b[0m | \u001b[0m91.33    \u001b[0m | \u001b[0m80.78    \u001b[0m |\n",
      "| \u001b[0m7        \u001b[0m | \u001b[0m0.9618   \u001b[0m | \u001b[0m0.1372   \u001b[0m | \u001b[0m93.61    \u001b[0m | \u001b[0m83.19    \u001b[0m |\n",
      "| \u001b[0m8        \u001b[0m | \u001b[0m0.9618   \u001b[0m | \u001b[0m0.8808   \u001b[0m | \u001b[0m93.38    \u001b[0m | \u001b[0m81.32    \u001b[0m |\n",
      "| \u001b[0m9        \u001b[0m | \u001b[0m0.9549   \u001b[0m | \u001b[0m0.2253   \u001b[0m | \u001b[0m90.97    \u001b[0m | \u001b[0m80.73    \u001b[0m |\n",
      "| \u001b[0m10       \u001b[0m | \u001b[0m0.9722   \u001b[0m | \u001b[0m0.7263   \u001b[0m | \u001b[0m203.9    \u001b[0m | \u001b[0m101.4    \u001b[0m |\n",
      "| \u001b[0m11       \u001b[0m | \u001b[0m0.9653   \u001b[0m | \u001b[0m0.4702   \u001b[0m | \u001b[0m145.3    \u001b[0m | \u001b[0m154.6    \u001b[0m |\n",
      "| \u001b[0m12       \u001b[0m | \u001b[0m0.9722   \u001b[0m | \u001b[0m0.9554   \u001b[0m | \u001b[0m191.5    \u001b[0m | \u001b[0m154.4    \u001b[0m |\n",
      "| \u001b[0m13       \u001b[0m | \u001b[0m0.9583   \u001b[0m | \u001b[0m0.4887   \u001b[0m | \u001b[0m225.5    \u001b[0m | \u001b[0m252.0    \u001b[0m |\n",
      "| \u001b[0m14       \u001b[0m | \u001b[0m0.9722   \u001b[0m | \u001b[0m0.3225   \u001b[0m | \u001b[0m210.6    \u001b[0m | \u001b[0m228.5    \u001b[0m |\n",
      "| \u001b[0m15       \u001b[0m | \u001b[0m0.9722   \u001b[0m | \u001b[0m0.8549   \u001b[0m | \u001b[0m202.1    \u001b[0m | \u001b[0m239.1    \u001b[0m |\n",
      "=============================================================\n",
      "Melhores parâmetros usando otimização bayesiana: {'activation_index': 0.30233257263183977, 'neurons1': 92.1771310368857, 'neurons2': 81.72901019560918}\n"
     ]
    }
   ],
   "source": [
    "# Importando a biblioteca necessária\n",
    "from bayes_opt import BayesianOptimization\n",
    "\n",
    "# Definindo a função objetivo que queremos otimizar.\n",
    "# Esta função treina um modelo com hiperparâmetros fornecidos e retorna a acurácia de validação.\n",
    "def objective_function(neurons1, neurons2, activation_index):\n",
    "    \n",
    "    # Mapeia os índices para suas respectivas funções de ativação.\n",
    "    activation_functions = ['relu', 'tanh']\n",
    "    activation_function = activation_functions[int(activation_index)]\n",
    "    \n",
    "    # Cria e compila o modelo usando os hiperparâmetros fornecidos.\n",
    "    model = create_model(int(neurons1), int(neurons2), activation_function)\n",
    "    \n",
    "    # Treina o modelo e obtém o histórico de treinamento.\n",
    "    history = model.fit(X_train, y_train, epochs=20, verbose=0, validation_split=0.2)\n",
    "    \n",
    "    # Obtém a acurácia de validação da última época.\n",
    "    val_accuracy = history.history['val_accuracy'][-1]\n",
    "    \n",
    "    return val_accuracy\n",
    "\n",
    "# Definindo os limites dos hiperparâmetros para a otimização bayesiana.\n",
    "# Os hiperparâmetros contínuos têm intervalos definidos (por exemplo, neurons1 entre 64 e 256).\n",
    "# Para hiperparâmetros categóricos, usamos índices (por exemplo, activation_index entre 0 e 1).\n",
    "pbounds = {\n",
    "    'neurons1': (64, 256),\n",
    "    'neurons2': (64, 256),\n",
    "    'activation_index': (0, 1)\n",
    "}\n",
    "\n",
    "# Inicializa o otimizador bayesiano com a função objetivo e os limites dos hiperparâmetros.\n",
    "optimizer = BayesianOptimization(\n",
    "    f=objective_function,     # Função objetivo definida anteriormente.\n",
    "    pbounds=pbounds,          # Limites dos hiperparâmetros.\n",
    "    random_state=1            # Semente para reprodutibilidade.\n",
    ")\n",
    "\n",
    "# Executa a otimização bayesiana.\n",
    "# 'init_points' define quantos pontos iniciais aleatórios serão testados antes da otimização começar.\n",
    "# 'n_iter' define quantas iterações de otimização serão executadas.\n",
    "optimizer.maximize(init_points=5, n_iter=10)\n",
    "\n",
    "# Exibe os melhores hiperparâmetros encontrados.\n",
    "print(f\"Melhores parâmetros usando otimização bayesiana: {optimizer.max['params']}\")"
   ]
  },
  {
   "attachments": {},
   "cell_type": "markdown",
   "metadata": {},
   "source": [
    "\n",
    "\"'activation_index': 0.48873272287485325:\n",
    "\n",
    "Este valor contínuo representa a função de ativação selecionada para o modelo. Na implementação, duas funções de ativação ('relu' e 'tanh') foram mapeadas para os índices 0 e 1, respectivamente.\n",
    "O valor 0.4887 é mais próximo de 0 do que de 1. Portanto, ao arredondar, o índice 0 é selecionado, correspondendo à função de ativação 'relu'.\n",
    "\n",
    "'neurons1': 225.5063053565966:\n",
    "\n",
    "Representa o número ideal de neurônios na primeira camada oculta identificado pelo otimizador bayesiano.\n",
    "Em uma implementação prática, esse número seria arredondado para 226 neurônios na primeira camada oculta.\n",
    "\n",
    "'neurons2': 251.9811401659988:\n",
    "\n",
    "Indica o número ideal de neurônios para a segunda camada oculta.\n",
    "Ao arredondar, resulta em uma segunda camada oculta com 252 neurônios.\""
   ]
  }
 ],
 "metadata": {
  "kernelspec": {
   "display_name": "base",
   "language": "python",
   "name": "python3"
  },
  "language_info": {
   "codemirror_mode": {
    "name": "ipython",
    "version": 3
   },
   "file_extension": ".py",
   "mimetype": "text/x-python",
   "name": "python",
   "nbconvert_exporter": "python",
   "pygments_lexer": "ipython3",
   "version": "3.11.5"
  },
  "orig_nbformat": 4
 },
 "nbformat": 4,
 "nbformat_minor": 2
}
