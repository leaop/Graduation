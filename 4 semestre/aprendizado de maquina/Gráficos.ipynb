{
 "cells": [
  {
   "cell_type": "markdown",
   "metadata": {},
   "source": [
    "# Introdução à Visualização de Dados com Python\n",
    "\n",
    "A visualização de dados é uma componente fundamental na análise de dados e ciência de dados. Ela permite transformar dados brutos em gráficos e imagens que facilitam a compreensão e interpretação dos dados. Uma boa visualização pode revelar insights ocultos e tornar complexos conjuntos de dados mais acessíveis.\n",
    "\n",
    "Python, sendo uma das linguagens de programação mais populares no mundo da ciência de dados, oferece uma vasta gama de bibliotecas de visualização. Estas bibliotecas permitem criar visualizações de dados complexas e interativas de maneira eficiente. Nesta aula, exploraremos como utilizar Python para criar diversas formas de visualizações de dados.\n"
   ]
  },
  {
   "cell_type": "code",
   "execution_count": null,
   "metadata": {},
   "outputs": [],
   "source": [
    "# Importando a biblioteca matplotlib para visualização de dados\n",
    "import matplotlib.pyplot as plt\n",
    "\n",
    "# Exemplo de dados\n",
    "anos = [2010, 2011, 2012, 2013, 2014, 2015]\n",
    "valores = [100, 120, 90, 200, 160, 180]\n",
    "\n",
    "# Criando um gráfico simples\n",
    "# plt.plot() é usado para criar um gráfico de linha\n",
    "plt.plot(anos, valores)\n",
    "\n",
    "# Adicionando título ao gráfico\n",
    "plt.title(\"Exemplo de Gráfico de Linha\")\n",
    "\n",
    "# Adicionando rótulos aos eixos\n",
    "plt.xlabel(\"Ano\")\n",
    "plt.ylabel(\"Valores\")\n",
    "\n",
    "# Mostrando o gráfico\n",
    "plt.show()\n"
   ]
  },
  {
   "cell_type": "markdown",
   "metadata": {},
   "source": [
    "# Bibliotecas de Visualização em Python\n",
    "\n",
    "A visualização de dados é um aspecto crucial na análise de dados e Python oferece várias bibliotecas poderosas para essa finalidade. Vamos explorar três das principais bibliotecas:\n",
    "\n",
    "1. **Matplotlib**: É a biblioteca mais conhecida para a criação de gráficos e visualizações estáticas. É altamente personalizável e pode ser usada para criar quase qualquer tipo de gráfico.\n",
    "\n",
    "2. **Seaborn**: Construída sobre o Matplotlib, a Seaborn simplifica a criação de gráficos estatísticos complexos. Oferece uma interface de alto nível para desenhar gráficos atraentes e informativos.\n",
    "\n",
    "3. **Plotly**: Esta biblioteca permite a criação de gráficos interativos e dinâmicos que podem ser usados em dashboards ou aplicativos web. É ideal para visualizações complexas e interativas.\n",
    "\n",
    "## Instalação das Bibliotecas\n",
    "\n",
    "Essas bibliotecas podem ser facilmente instaladas via pip. É recomendável fazer isso dentro de um ambiente virtual para evitar conflitos de dependências.\n"
   ]
  },
  {
   "cell_type": "code",
   "execution_count": null,
   "metadata": {},
   "outputs": [],
   "source": [
    "# Instalando as bibliotecas de visualização\n",
    "# Note: Estes comandos devem ser executados no terminal ou em uma célula de código do Jupyter Notebook\n",
    "\n",
    "# Instalando Matplotlib\n",
    "# pip install matplotlib\n",
    "\n",
    "# Instalando Seaborn\n",
    "# pip install seaborn\n",
    "\n",
    "# Instalando Plotly\n",
    "# pip install plotly"
   ]
  },
  {
   "cell_type": "markdown",
   "metadata": {},
   "source": [
    "# Gráficos Básicos com Matplotlib\n",
    "\n",
    "Matplotlib é uma das bibliotecas mais populares em Python para a criação de gráficos. Ela é extremamente versátil e permite a personalização detalhada de gráficos. Vamos explorar alguns tipos básicos de gráficos usando Matplotlib:\n",
    "\n",
    "1. **Gráfico de Linha**: Utilizado para mostrar tendências ao longo do tempo ou relação entre duas variáveis.\n",
    "2. **Gráfico de Barras**: Ideal para comparação de quantidades entre diferentes categorias.\n",
    "3. **Histograma**: Usado para mostrar a distribuição de um conjunto de dados.\n",
    "\n",
    "Nesta seção, criaremos exemplos de cada um desses tipos de gráficos usando dados sintéticos para prática.\n",
    "\n",
    "## Prática: Criação de Gráficos Básicos\n"
   ]
  },
  {
   "cell_type": "code",
   "execution_count": null,
   "metadata": {},
   "outputs": [],
   "source": [
    "# Importando a biblioteca Matplotlib\n",
    "import matplotlib.pyplot as plt\n",
    "\n",
    "# 1. Gráfico de Linha\n",
    "# Dados de exemplo\n",
    "x = [1, 2, 3, 4, 5]\n",
    "y = [2, 3, 5, 7, 11]\n",
    "\n",
    "# Criando o gráfico de linha\n",
    "plt.plot(x, y, color='blue', linestyle='dashed', marker='o', markerfacecolor='red', markersize=12)\n",
    "plt.title('Gráfico de Linha Exemplo')\n",
    "plt.xlabel('Eixo X')\n",
    "plt.ylabel('Eixo Y')\n",
    "plt.show()\n",
    "\n",
    "# 2. Gráfico de Barras\n",
    "# Dados de exemplo\n",
    "categorias = ['Categoria A', 'Categoria B', 'Categoria C']\n",
    "valores = [50, 30, 70]\n",
    "\n",
    "# Criando o gráfico de barras\n",
    "plt.bar(categorias, valores, color=['red', 'green', 'blue'])\n",
    "plt.title('Gráfico de Barras Exemplo')\n",
    "plt.xlabel('Categorias')\n",
    "plt.ylabel('Valores')\n",
    "plt.show()\n",
    "\n",
    "# 3. Histograma\n",
    "# Dados de exemplo\n",
    "data = [22, 87, 5, 43, 56, 73, 55, 54, 11, 20, 51, 5, 79, 31, 27]\n",
    "\n",
    "# Criando o histograma\n",
    "plt.hist(data, bins=5, color='green', alpha=0.7)\n",
    "plt.title('Histograma Exemplo')\n",
    "plt.xlabel('Intervalos')\n",
    "plt.ylabel('Frequência')\n",
    "plt.show()\n",
    "\n",
    "# Estes exemplos cobrem os conceitos básicos para a criação de gráficos de linha, barras e histogramas com Matplotlib.\n",
    "# A personalização de cores, estilos de linha, marcadores, entre outros, é demonstrada para proporcionar uma compreensão mais profunda sobre a customização de gráficos."
   ]
  },
  {
   "cell_type": "markdown",
   "metadata": {},
   "source": [
    "# Bases de Dados Sintéticas\n",
    "\n",
    "Trabalhar com bases de dados sintéticas é uma ótima maneira de aprender e praticar técnicas de visualização de dados sem a necessidade de coletar ou limpar dados reais. Várias bibliotecas de visualização em Python vêm com conjuntos de dados sintéticos integrados que são ideais para experimentação e aprendizado.\n",
    "\n",
    "## Explorando Datasets em Seaborn\n",
    "\n",
    "Seaborn, por exemplo, oferece uma variedade de datasets prontos para uso. Estes datasets abrangem diversos temas e são excelentes para praticar a criação de diferentes tipos de gráficos.\n",
    "\n",
    "Vamos carregar e examinar alguns desses datasets para entender melhor como podemos utilizá-los em nossas visualizações.\n"
   ]
  },
  {
   "cell_type": "code",
   "execution_count": null,
   "metadata": {},
   "outputs": [],
   "source": [
    "# Importando a biblioteca Seaborn\n",
    "import seaborn as sns\n",
    "\n",
    "# Carregando um dataset sintético do Seaborn\n",
    "# Neste exemplo, vamos usar o dataset 'tips' que contém informações sobre gorjetas\n",
    "dataset = sns.load_dataset('tips')\n",
    "\n",
    "# Exibindo as primeiras linhas do dataset\n",
    "# O método head() é usado para visualizar as primeiras linhas de um DataFrame\n",
    "print(\"Primeiras linhas do dataset 'tips':\")\n",
    "print(dataset.head())"
   ]
  },
  {
   "cell_type": "code",
   "execution_count": null,
   "metadata": {},
   "outputs": [],
   "source": [
    "# Informações sobre o dataset\n",
    "# O método info() fornece um resumo conciso do DataFrame\n",
    "print(\"\\nInformações sobre o dataset:\")\n",
    "dataset.info()"
   ]
  },
  {
   "cell_type": "code",
   "execution_count": null,
   "metadata": {},
   "outputs": [],
   "source": [
    "# Estatísticas descritivas do dataset\n",
    "# O método describe() fornece uma visão geral estatística dos dados numéricos\n",
    "print(\"\\nEstatísticas descritivas do dataset:\")\n",
    "print(dataset.describe())"
   ]
  },
  {
   "cell_type": "code",
   "execution_count": null,
   "metadata": {},
   "outputs": [],
   "source": [
    "# Observando a distribuição de uma variável categórica\n",
    "# Vamos usar o método value_counts() para contar a frequência de cada categoria em uma coluna\n",
    "print(\"\\nDistribuição de fumantes e não fumantes no dataset:\")\n",
    "print(dataset['smoker'].value_counts())\n",
    "\n",
    "# Esta exploração básica de dados é um passo importante antes de começar a visualização\n",
    "# Ela nos ajuda a entender a estrutura do dataset e a planejar que tipo de gráfico usar"
   ]
  },
  {
   "cell_type": "markdown",
   "metadata": {},
   "source": [
    "# Visualizações Avançadas com Seaborn\n",
    "\n",
    "Seaborn é uma biblioteca de visualização de dados em Python baseada em Matplotlib. Ela oferece uma interface de alto nível para desenhar gráficos estatísticos atraentes e informativos. Vamos explorar algumas visualizações avançadas:\n",
    "\n",
    "1. **Gráficos de Dispersão**: Utilizados para observar a relação entre duas variáveis numéricas.\n",
    "2. **Boxplots**: Eficazes para comparar distribuições entre diferentes categorias.\n",
    "3. **Pairplots e Heatmaps**: Ótimos para examinar correlações entre múltiplas variáveis.\n",
    "\n",
    "## Prática: Uso de Seaborn para Visualizações Avançadas\n"
   ]
  },
  {
   "cell_type": "code",
   "execution_count": null,
   "metadata": {},
   "outputs": [],
   "source": [
    "# 1. Gráficos de Dispersão\n",
    "# Comparando o total da conta com a gorjeta\n",
    "sns.scatterplot(x='total_bill', y='tip', data=dataset)\n",
    "plt.title('Gráfico de Dispersão: Total da Conta vs Gorjeta')\n",
    "plt.show()"
   ]
  },
  {
   "cell_type": "code",
   "execution_count": null,
   "metadata": {},
   "outputs": [],
   "source": [
    "# 2. Boxplots\n",
    "# Comparando distribuições de gorjetas entre fumantes e não fumantes\n",
    "sns.boxplot(x='smoker', y='tip', data=dataset)\n",
    "plt.title('Boxplot: Distribuição de Gorjetas entre Fumantes e Não Fumantes')\n",
    "plt.show()"
   ]
  },
  {
   "cell_type": "code",
   "execution_count": null,
   "metadata": {},
   "outputs": [],
   "source": [
    "# 3. Pairplots\n",
    "# Visualizando relações entre todas as variáveis numéricas do dataset\n",
    "sns.pairplot(dataset)\n",
    "plt.title('Pairplot: Relações entre Variáveis do Dataset tips')\n",
    "plt.show()"
   ]
  },
  {
   "cell_type": "code",
   "execution_count": null,
   "metadata": {},
   "outputs": [],
   "source": [
    "# 4. Heatmaps\n",
    "# Calculando a correlação entre as variáveis numéricas\n",
    "corr = dataset.corr()\n",
    "# Criando um heatmap para visualizar essas correlações\n",
    "sns.heatmap(corr, annot=True)\n",
    "plt.title('Heatmap: Correlação entre Variáveis do Dataset tips')\n",
    "plt.show()"
   ]
  },
  {
   "cell_type": "markdown",
   "metadata": {},
   "source": [
    "# Gráficos Interativos com Plotly\n",
    "\n",
    "Plotly é uma biblioteca de visualização de dados que permite a criação de gráficos interativos e dinâmicos, ideais para análises exploratórias e apresentações. A interatividade oferecida pelo Plotly a torna uma escolha popular para visualizações mais sofisticadas e envolventes.\n",
    "\n",
    "## Tipos de Gráficos com Plotly\n",
    "\n",
    "1. **Gráficos de Linha e Barra Interativos**: Oferecem uma visão dinâmica das tendências e comparações de dados.\n",
    "2. **Mapas de Calor e Gráficos 3D**: Úteis para visualizar padrões complexos e relações em múltiplas dimensões.\n",
    "\n",
    "## Prática: Criação de Gráficos Interativos com Plotly\n"
   ]
  },
  {
   "cell_type": "code",
   "execution_count": null,
   "metadata": {},
   "outputs": [],
   "source": [
    "# Importando Plotly\n",
    "import plotly.express as px\n",
    "\n",
    "# 1. Gráficos de Linha Interativos\n",
    "# Dados de exemplo\n",
    "df = px.data.gapminder().query(\"country=='Canada'\")\n",
    "df"
   ]
  },
  {
   "cell_type": "code",
   "execution_count": null,
   "metadata": {},
   "outputs": [],
   "source": [
    "# Criando um gráfico de linha interativo\n",
    "fig = px.line(df, x='year', y='gdpPercap', title='PIB per Capita no Canadá ao Longo do Tempo')\n",
    "fig.show()"
   ]
  },
  {
   "cell_type": "code",
   "execution_count": null,
   "metadata": {},
   "outputs": [],
   "source": [
    "# 2. Gráficos de Barra Interativos\n",
    "# Dados de exemplo\n",
    "df = px.data.gapminder().query(\"continent=='Oceania'\")\n",
    "# Criando um gráfico de barra interativo\n",
    "fig = px.bar(df, x='year', y='pop', color='country', title='População de Países da Oceania ao Longo do Tempo')\n",
    "fig.show()"
   ]
  },
  {
   "cell_type": "code",
   "execution_count": null,
   "metadata": {},
   "outputs": [],
   "source": [
    "# Calculando a matriz de correlação\n",
    "corr_matrix = df[['year','lifeExp','pop','gdpPercap']].corr()\n",
    "\n",
    "# Criando o mapa de calor para visualizar a correlação\n",
    "fig = px.imshow(corr_matrix, text_auto=True, aspect=\"auto\",\n",
    "                title='Mapa de Calor de Correlação para o Dataset Gapminder do Canadá',\n",
    "                labels=dict(x=\"Variáveis\", y=\"Variáveis\", color=\"Correlação\"),\n",
    "                color_continuous_scale='Plasma')\n",
    "\n",
    "# Mostrando o gráfico\n",
    "fig.show()"
   ]
  },
  {
   "cell_type": "code",
   "execution_count": null,
   "metadata": {},
   "outputs": [],
   "source": [
    "# 4. Gráficos 3D\n",
    "# Dados de exemplo\n",
    "df = px.data.iris()\n",
    "# Criando um gráfico 3D\n",
    "fig = px.scatter_3d(df, x='sepal_length', y='sepal_width', z='petal_width', color='species',\n",
    "                    title='Relação das Dimensões da Flor Iris por Espécie')\n",
    "fig.show()"
   ]
  },
  {
   "cell_type": "code",
   "execution_count": null,
   "metadata": {},
   "outputs": [],
   "source": [
    "df"
   ]
  },
  {
   "cell_type": "markdown",
   "metadata": {},
   "source": [
    "# Boas Práticas em Visualização de Dados\n",
    "\n",
    "A eficácia de uma visualização de dados não depende apenas da precisão dos dados, mas também de como esses dados são apresentados. Vamos discutir algumas boas práticas para criar visualizações que não apenas pareçam boas, mas que também sejam eficazes na comunicação da informação.\n",
    "\n",
    "## Escolha do Tipo de Gráfico Adequado\n",
    "\n",
    "- Entender o tipo de dados e o que você deseja comunicar é crucial para escolher o gráfico mais adequado.\n",
    "- Gráficos de linha são bons para tendências ao longo do tempo, gráficos de barras para comparações de categorias, e assim por diante.\n",
    "\n",
    "## Importância da Legibilidade e Simplicidade\n",
    "\n",
    "- Gráficos devem ser fáceis de ler e entender. Evite poluir o gráfico com informações desnecessárias.\n",
    "- Use cores e marcadores adequadamente para destacar os pontos mais importantes.\n",
    "\n",
    "## Dicas para Tornar Gráficos Informativos e Atraentes\n",
    "\n",
    "- Título claro e eixos rotulados são essenciais.\n",
    "- Considere adicionar anotações ou destaques para indicar partes importantes dos dados.\n",
    "- Mantenha um equilíbrio entre estética e funcionalidade. Gráficos bonitos são bons, mas a clareza nunca deve ser sacrificada pela aparência."
   ]
  },
  {
   "cell_type": "code",
   "execution_count": null,
   "metadata": {},
   "outputs": [],
   "source": [
    "# Vamos demonstrar algumas boas práticas usando Matplotlib\n",
    "import matplotlib.pyplot as plt\n",
    "\n",
    "# Dados de exemplo\n",
    "anos = [2016, 2017, 2018, 2019, 2020]\n",
    "vendas = [200, 300, 400, 350, 500]\n",
    "\n",
    "# Criando um gráfico de linha com boas práticas\n",
    "plt.figure(figsize=(8, 5))  # Definindo o tamanho apropriado do gráfico\n",
    "plt.plot(anos, vendas, marker='o', color='b')  # Adicionando marcadores para destacar pontos de dados\n",
    "plt.title('Vendas Anuais (2016-2020)')  # Título claro e informativo\n",
    "plt.xlabel('Ano')  # Rótulo claro para o eixo X\n",
    "plt.ylabel('Vendas')  # Rótulo claro para o eixo Y\n",
    "\n",
    "# Adicionando uma anotação para destacar o pico de vendas\n",
    "plt.annotate(\n",
    "    'Pico de Vendas',   # Este é o texto da anotação. Aparecerá no gráfico.\n",
    "    xy=(2020, 500),     # As coordenadas 'xy' indicam o ponto (x, y) a ser anotado.\n",
    "                        # Neste caso, estamos apontando para o ponto (2020, 500) no gráfico.\n",
    "\n",
    "    xytext=(2018, 550), # 'xytext' especifica a posição do texto da anotação.\n",
    "                        # Diferentemente de 'xy', que marca o ponto no gráfico,\n",
    "                        # 'xytext' é onde o texto 'Pico de Vendas' será colocado.\n",
    "                        # Aqui, o texto será colocado na posição (2018, 550).\n",
    "\n",
    "    arrowprops=dict(\n",
    "        facecolor='black',  # 'facecolor' especifica a cor da seta. Neste caso, é preta.\n",
    "        shrink=0.05         # 'shrink' determina o quanto a seta encolhe em direção ao texto.\n",
    "                            # Um valor de 0.05 significa que a seta encolherá em 5%\n",
    "                            # do caminho em direção ao texto para evitar sobreposição.\n",
    "    )\n",
    ")\n",
    "\n",
    "\n",
    "plt.grid(True)  # Adicionando uma grade para facilitar a leitura\n",
    "plt.show()"
   ]
  },
  {
   "cell_type": "markdown",
   "metadata": {},
   "source": [
    "# Recursos Adicionais\n",
    "\n",
    "1. **Documentação Oficial das Bibliotecas**:\n",
    "   - [Matplotlib](https://matplotlib.org/stable/contents.html)\n",
    "   - [Seaborn](https://seaborn.pydata.org/)\n",
    "   - [Plotly](https://plotly.com/python/)\n",
    "   - [Extra_Exemplos](https://python-graph-gallery.com/)\n",
    "\n",
    "2. **Livros e Tutoriais Online**:\n",
    "   - \"Python Data Science Handbook\" por Jake VanderPlas.\n",
    "   - Cursos online como os oferecidos por plataformas como Coursera, Udemy e DataCamp.\n",
    "\n",
    "3. **Comunidades e Fóruns**:\n",
    "   - Stack Overflow para dúvidas e discussões técnicas.\n",
    "   - GitHub para encontrar projetos e colaborações.\n",
    "   - Chat GPT para dúvidas..."
   ]
  }
 ],
 "metadata": {
  "kernelspec": {
   "display_name": "base",
   "language": "python",
   "name": "python3"
  },
  "language_info": {
   "codemirror_mode": {
    "name": "ipython",
    "version": 3
   },
   "file_extension": ".py",
   "mimetype": "text/x-python",
   "name": "python",
   "nbconvert_exporter": "python",
   "pygments_lexer": "ipython3",
   "version": "3.9.13"
  }
 },
 "nbformat": 4,
 "nbformat_minor": 2
}
