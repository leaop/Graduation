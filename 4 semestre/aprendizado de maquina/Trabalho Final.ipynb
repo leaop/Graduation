{
 "cells": [
  {
   "cell_type": "markdown",
   "metadata": {},
   "source": [
    "# Instruções para a Entrega do Trabalho Final de Machine Learning\n",
    "\n",
    "Por favor, siga atentamente as instruções abaixo para a entrega do seu trabalho final:\n",
    "\n",
    "## Entrega do Trabalho\n",
    "- **Link de Entrega:** O trabalho deve ser enviado exclusivamente através do seguinte link: [Formulário de Entrega](https://forms.gle/banMcKJEthjCuiFn9).\n",
    "\n",
    "## Importante\n",
    "- **Método de Envio:** Trabalhos enviados por e-mail **não** serão considerados. Utilize apenas o link fornecido acima.\n",
    "\n",
    "## Formato do Arquivo\n",
    "- **Nomeação do Arquivo:** Renomeie seu arquivo Jupyter Notebook seguindo o formato `nome_sobrenome.ipynb`, usando seu primeiro nome e primeiro sobrenome. Exemplos:\n",
    "  - `jorge_batista.ipynb`\n",
    "  - `camila_jesus.ipynb`\n",
    "  - `joao_paulo_cardoso.ipynb`\n",
    "- **Identificação:** O arquivo não deve conter outra identificação além do nome do arquivo.\n",
    "\n",
    "## Prazo Final\n",
    "- **Data Limite:** A data limite para a entrega do trabalho é **23:59 do dia 10 de dezembro**. Não serão aceitas entregas após este horário.\n",
    "\n",
    "---\n",
    "\n",
    "Por favor, assegure-se de seguir estas diretrizes para garantir que seu trabalho seja avaliado corretamente."
   ]
  },
  {
   "cell_type": "markdown",
   "metadata": {},
   "source": [
    "# Base de Dados de Detecção de Trojan\n",
    "\n",
    "## O que é um Cavalo de Troia (Trojan)?\n",
    "- **Definição:** Um Cavalo de Troia, ou simplesmente Trojan, é um tipo de malware disfarçado de software legítimo. Ele engana os usuários para que instalem e executem o software em seus sistemas, permitindo que o invasor acesse dados confidenciais, cause danos ou crie backdoors para controle futuro.\n",
    "- **Impacto:** Trojans podem levar a sérios problemas de segurança, como roubo de dados, perda de informações importantes e até mesmo controle remoto não autorizado do sistema infectado.\n",
    "\n",
    "## Sobre a Base de Dados\n",
    "- **Objetivo:** A base de dados é utilizada para identificar tráfego de rede associado a atividades maliciosas de Trojans, bem como tráfego benigno (não malicioso). Ela é essencial para tarefas de classificação binária na área de segurança cibernética.\n",
    "- **Origem dos Dados:** Os dados foram obtidos do site do CIC (Canadian Institute for Cybersecurity).\n",
    "\n",
    "## Estrutura dos Dados\n",
    "- **Dados de Trojan:** Contém 90.683 observações que representam atividades de rede associadas a Trojans.\n",
    "- **Dados Benignos:** Inclui 86.799 observações de tráfego de rede considerado benigno, ou seja, normal e sem intenções maliciosas.\n",
    "\n",
    "## Utilização dos Dados\n",
    "- **Classificação Binária:** A base de dados pode ser usada para treinar modelos de Machine Learning capazes de distinguir entre tráfego de rede Trojan e benigno. Este é um exemplo clássico de classificação binária, onde as duas classes são 'Trojan' e 'Benigno'.\n",
    "- **Importância na Segurança Cibernética:** Dada a crescente sofisticação dos ataques cibernéticos, a capacidade de detectar Trojans com precisão é crucial para proteger informações e infraestruturas críticas.\n",
    "\n",
    "## Conclusão\n",
    "A detecção eficaz de Trojans é um componente vital na estratégia de defesa contra ameaças cibernéticas. Esta base de dados fornece um recurso valioso para pesquisadores e profissionais de segurança desenvolverem e testarem sistemas de detecção de malware baseados em aprendizado de máquina.\n",
    "\n",
    "---\n",
    "\n",
    "# Explicação das Colunas do DataFrame de Detecção de Trojan\n",
    "\n",
    "Este texto descreve cada coluna do DataFrame utilizado na detecção de tráfego de rede relacionado a Trojans.\n",
    "\n",
    "## Colunas Gerais\n",
    "- **ID do Fluxo:** Identificador único do fluxo de rede.\n",
    "- **IP de Origem:** Endereço IP do remetente do pacote.\n",
    "- **Porta de Origem:** Número da porta do remetente do pacote.\n",
    "- **IP de Destino:** Endereço IP do destinatário do pacote.\n",
    "- **Porta de Destino:** Número da porta do destinatário do pacote.\n",
    "- **Protocolo:** Protocolo de rede utilizado (TCP, UDP, etc.).\n",
    "- **Data e Hora:** Data e hora em que o pacote foi capturado.\n",
    "- **Duração do Fluxo:** Tempo total do fluxo de rede.\n",
    "\n",
    "## Total de Pacotes e Comprimento\n",
    "- **Total de Pacotes Enviados:** Número total de pacotes enviados.\n",
    "- **Total de Pacotes Recebidos:** Número total de pacotes recebidos.\n",
    "- **Comprimento Total dos Pacotes Enviados:** Comprimento total dos pacotes enviados.\n",
    "- **Comprimento Total dos Pacotes Recebidos:** Comprimento total dos pacotes recebidos.\n",
    "- **Comprimento Máximo/Mínimo/Médio do Pacote Enviado:** Estatísticas sobre o comprimento dos pacotes enviados.\n",
    "- **Comprimento Máximo/Mínimo/Médio do Pacote Recebido:** Estatísticas sobre o comprimento dos pacotes recebidos.\n",
    "\n",
    "## Intervalo Entre Chegadas (IAT)\n",
    "- **Média/Desvio Padrão/Máximo/Mínimo do Intervalo Entre Chegadas dos Fluxos:** Estatísticas do intervalo de tempo entre chegadas de pacotes consecutivos.\n",
    "- **Total/Média/Desvio Padrão/Máximo/Mínimo do Intervalo Entre Chegadas de Pacotes Enviados/Recebidos:** Estatísticas do intervalo de tempo entre chegadas de pacotes enviados e recebidos.\n",
    "\n",
    "## Flags e Cabeçalho\n",
    "- **Flags PSH/URG dos Pacotes Enviados/Recebidos:** Contagem de flags PSH e URG nos pacotes enviados e recebidos.\n",
    "- **Comprimento do Cabeçalho dos Pacotes Enviados/Recebidos:** Comprimento do cabeçalho dos pacotes enviados e recebidos.\n",
    "\n",
    "## Estatísticas de Pacotes\n",
    "- **Pacotes Enviados/Recebidos por Segundo:** Número de pacotes enviados e recebidos por segundo.\n",
    "- **Comprimento Mínimo/Máximo/Médio do Pacote:** Estatísticas sobre o comprimento dos pacotes.\n",
    "- **Desvio Padrão/Variância do Comprimento do Pacote:** Estatísticas sobre a variação no comprimento dos pacotes.\n",
    "\n",
    "## Contagem de Flags\n",
    "- **Contagem de Flags FIN/SYN/RST/PSH/ACK/URG/CWE/ECE:** Contagem de diferentes tipos de flags nos pacotes.\n",
    "\n",
    "## Outras Estatísticas\n",
    "- **Relação de Download/Upload:** Proporção entre download e upload.\n",
    "- **Tamanho Médio do Pacote/Segmento Enviado/Recebido:** Tamanho médio dos pacotes ou segmentos enviados e recebidos.\n",
    "- **Comprimento do Cabeçalho Enviado/Recebido:** Comprimento do cabeçalho dos pacotes enviados e recebidos.\n",
    "- **Média/Desvio Padrão/Máximo/Mínimo de Atividade/Ociosidade:** Estatísticas sobre os períodos de atividade e ociosidade.\n",
    "- **Bytes Iniciais da Janela Enviados/Recebidos:** Tamanho inicial da janela de congestionamento TCP.\n",
    "\n",
    "## Subfluxos e Blocos\n",
    "- **Pacotes/Bytes de Subfluxo Enviados/Recebidos:** Informações sobre subfluxos de pacotes.\n",
    "- **Média de Bytes/Pacotes por Bloco Enviado/Recebido:** Média de bytes e pacotes por bloco de transmissão.\n",
    "- **Taxa Média de Bloco Enviado/Recebido:** Taxa média de transmissão de blocos.\n",
    "\n",
    "## Classe\n",
    "- **Classe:** Categoria do fluxo (Trojan ou Benígno);\n",
    "\n",
    "---\n",
    "\n",
    "# Análise da Relevância das Colunas no DataFrame de Detecção de Trojan\n",
    "\n",
    "Algumas colunas no DataFrame de detecção de Trojan podem ser menos relevantes para a modelagem preditiva, dependendo do contexto específico e do modelo utilizado. Vamos explorar quais colunas podem ser consideradas menos relevantes e por quê.\n",
    "\n",
    "## Possíveis Colunas Irrelevantes\n",
    "- **ID do Fluxo:** \n",
    "  - Geralmente, é um identificador único para cada fluxo de rede e não tem valor preditivo, pois é específico para cada instância de dados.\n",
    "\n",
    "- **IP de Origem e IP de Destino:** \n",
    "  - Endereços IP específicos podem não ser úteis por si só para prever Trojans, a menos que estejam associados a endereços conhecidos por atividades maliciosas. No entanto, a análise baseada em IP pode ser útil em contextos específicos.\n",
    "\n",
    "- **Data e Hora:** \n",
    "  - A menos que a análise se concentre em tendências temporais ou atividades em horários específicos, esses campos podem não contribuir diretamente para a detecção de Trojans.\n",
    "\n",
    "- **Flags PSH/URG dos Pacotes Enviados/Recebidos:** \n",
    "  - Estas flags podem ou não ser relevantes. A relevância depende se os Trojans ou atividades maliciosas específicas se manifestam de maneira diferente nas flags dos pacotes.\n",
    "\n",
    "## Contexto e Análise Detalhada\n",
    "- A relevância de uma coluna pode mudar com base em novas informações ou técnicas de análise. Por exemplo, endereços IP podem se tornar relevantes se correlacionados com endereços conhecidos por atividades maliciosas.\n",
    "- A análise exploratória dos dados, juntamente com técnicas como seleção de características e engenharia de características, pode fornecer insights mais precisos sobre quais colunas são verdadeiramente irrelevantes ou relevantes."
   ]
  },
  {
   "cell_type": "markdown",
   "metadata": {},
   "source": [
    "# Instruções para o Trabalho Final de Machine Learning\n",
    "\n",
    "Este documento detalha as instruções passo a passo para o trabalho final da disciplina de Machine Learning.\n",
    "\n",
    "## 1. Preparação dos Dados\n",
    "- **Extraindo Informações de Data e Hora:**\n",
    "  - Crie colunas separadas com base na coluna \"Data e Hora\" contendo:\n",
    "    - `ano`: Ano extraído da data.\n",
    "    - `mes`: Número do mês.\n",
    "    - `dia_mes`: Dia do mês.\n",
    "    - `dia_ano`: Dia do ano.\n",
    "    - `dia_semana`: Dia da semana (0 para segunda-feira, 1 para terça-feira, ..., 6 para domingo).\n",
    "    - `hora`: Hora do dia.\n",
    "    - `minuto`: Minuto da hora.\n",
    "    - `segundo`: Segundo do minuto.\n",
    "\n",
    "## 2. Limpeza dos Dados\n",
    "- **Remoção de Colunas Irrelevantes:**\n",
    "  - Analise o conjunto de dados e remova todas as colunas que considerar irrelevantes para o problema em questão.\n",
    "\n",
    "## 3. Conversão de Dados Textuais\n",
    "- **Transformação de Dados Categóricos:**\n",
    "  - Converta quaisquer colunas textuais para numéricas utilizando técnicas como Label Encoder ou One Hot Encoder.\n",
    "\n",
    "## 4. Divisão dos Dados\n",
    "- **Separando em Conjuntos de Treino, Validação e Teste:**\n",
    "  - Divida os dados em 65% para treinamento, 20% para validação e 15% para teste.\n",
    "\n",
    "## 5. Normalização dos Dados\n",
    "- **Aplicação da Normalização MinMax:**\n",
    "  - Normalize os dados, aplicando `fit_transform` nos dados de treinamento e `transform` nos dados de validação e teste.\n",
    "\n",
    "## 6. Redução de Dimensionalidade com PCA\n",
    "- **Criação de Dados com PCA:**\n",
    "  - Aplique a redução de dimensionalidade com PCA para criar `X_train_pca`, `X_val_pca` e `X_test_pca`.\n",
    "\n",
    "## 7. Redução de Dimensionalidade com LDA\n",
    "- **Criação de Dados com LDA:**\n",
    "  - Aplique a redução de dimensionalidade com LDA para criar `X_train_lda`, `X_val_lda` e `X_test_lda`.\n",
    "\n",
    "## 8. Definição dos Modelos\n",
    "- **Estruturação dos Modelos de Rede Neural:**\n",
    "  - Defina um modelo de rede neural para cada um dos conjuntos de dados (X normal, X PCA, X LDA). A estrutura das camadas ocultas deve ser 256, 128, 64, 32 neurônios, sem dropout e sem regularização de kernel.\n",
    "\n",
    "## 9. Treinamento dos Modelos\n",
    "- **Configuração do Treinamento:**\n",
    "  - Treine os modelos por 50 épocas com:\n",
    "    - Early stopping com paciência de 15 épocas.\n",
    "    - Reduce learning rate com paciência de 4 épocas e fator de redução de 0.3.\n",
    "\n",
    "## 10. Avaliação dos Modelos\n",
    "- **Métricas e Análise de Desempenho:**\n",
    "  - Para cada um dos três modelos, exiba as métricas de Acurácia, Precisão, Recall, F1 e a matriz de confusão com gráfico de calor.\n",
    "\n",
    "Estas instruções devem ser seguidas rigorosamente para garantir uma avaliação justa e uma comparação adequada do desempenho dos modelos. A organização, documentação e legibilidade do código serão levados em consideração na hora da revisão."
   ]
  },
  {
   "cell_type": "markdown",
   "metadata": {},
   "source": [
    "### 1 - Resolva o enunciado 1 no(s) blocos de código abaixo (Pode criar mais blocos de código, mas me envie apenas com os necessários)\n"
   ]
  },
  {
   "cell_type": "code",
   "execution_count": 1,
   "metadata": {},
   "outputs": [],
   "source": [
    "#bibliotecas basicas\n",
    "import pandas as pd         # Para manipulação e análise de dados\n",
    "import numpy as np          # Para operações numéricas e matriciais\n",
    "import matplotlib.pyplot as plt  # Para visualização de dados\n",
    "import seaborn as sns       # Para visualização de dados avançada\n"
   ]
  },
  {
   "cell_type": "code",
   "execution_count": 2,
   "metadata": {},
   "outputs": [],
   "source": [
    "df = pd.read_csv(\"Trojan_Detection.csv\")"
   ]
  },
  {
   "cell_type": "code",
   "execution_count": null,
   "metadata": {},
   "outputs": [],
   "source": []
  },
  {
   "cell_type": "markdown",
   "metadata": {},
   "source": [
    "### 2 - Resolva o enunciado 2 no(s) blocos de código abaixo (Pode criar mais blocos de código, mas me envie apenas com os necessários)\n"
   ]
  },
  {
   "cell_type": "code",
   "execution_count": null,
   "metadata": {},
   "outputs": [],
   "source": []
  },
  {
   "cell_type": "markdown",
   "metadata": {},
   "source": [
    "### 3 - Resolva o enunciado 3 no(s) blocos de código abaixo (Pode criar mais blocos de código, mas me envie apenas com os necessários)\n"
   ]
  },
  {
   "cell_type": "code",
   "execution_count": null,
   "metadata": {},
   "outputs": [],
   "source": []
  },
  {
   "cell_type": "markdown",
   "metadata": {},
   "source": [
    "### 4 - Resolva o enunciado 4 no(s) blocos de código abaixo (Pode criar mais blocos de código, mas me envie apenas com os necessários)\n"
   ]
  },
  {
   "cell_type": "code",
   "execution_count": null,
   "metadata": {},
   "outputs": [],
   "source": []
  },
  {
   "cell_type": "markdown",
   "metadata": {},
   "source": [
    "### 5 - Resolva o enunciado 5 no(s) blocos de código abaixo (Pode criar mais blocos de código, mas me envie apenas com os necessários)\n"
   ]
  },
  {
   "cell_type": "code",
   "execution_count": null,
   "metadata": {},
   "outputs": [],
   "source": []
  },
  {
   "cell_type": "markdown",
   "metadata": {},
   "source": [
    "### 6 - Resolva o enunciado 6 no(s) blocos de código abaixo (Pode criar mais blocos de código, mas me envie apenas com os necessários)\n"
   ]
  },
  {
   "cell_type": "code",
   "execution_count": null,
   "metadata": {},
   "outputs": [],
   "source": []
  },
  {
   "cell_type": "markdown",
   "metadata": {},
   "source": [
    "### 7 - Resolva o enunciado 7 no(s) blocos de código abaixo (Pode criar mais blocos de código, mas me envie apenas com os necessários)\n"
   ]
  },
  {
   "cell_type": "code",
   "execution_count": null,
   "metadata": {},
   "outputs": [],
   "source": []
  },
  {
   "cell_type": "markdown",
   "metadata": {},
   "source": [
    "### 8 - Resolva o enunciado 8 no(s) blocos de código abaixo (Pode criar mais blocos de código, mas me envie apenas com os necessários)\n"
   ]
  },
  {
   "cell_type": "code",
   "execution_count": null,
   "metadata": {},
   "outputs": [],
   "source": []
  },
  {
   "cell_type": "markdown",
   "metadata": {},
   "source": [
    "### 9 - Resolva o enunciado 9 no(s) blocos de código abaixo (Pode criar mais blocos de código, mas me envie apenas com os necessários)\n"
   ]
  },
  {
   "cell_type": "code",
   "execution_count": null,
   "metadata": {},
   "outputs": [],
   "source": []
  },
  {
   "cell_type": "markdown",
   "metadata": {},
   "source": [
    "### 10 - Resolva o enunciado 10 no(s) blocos de código abaixo (Pode criar mais blocos de código, mas me envie apenas com os necessários)"
   ]
  },
  {
   "cell_type": "code",
   "execution_count": null,
   "metadata": {},
   "outputs": [],
   "source": []
  }
 ],
 "metadata": {
  "kernelspec": {
   "display_name": "tf",
   "language": "python",
   "name": "python3"
  },
  "language_info": {
   "codemirror_mode": {
    "name": "ipython",
    "version": 3
   },
   "file_extension": ".py",
   "mimetype": "text/x-python",
   "name": "python",
   "nbconvert_exporter": "python",
   "pygments_lexer": "ipython3",
   "version": "3.11.6"
  }
 },
 "nbformat": 4,
 "nbformat_minor": 2
}
