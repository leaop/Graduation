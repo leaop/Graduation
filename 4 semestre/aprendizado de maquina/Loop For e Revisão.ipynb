{
 "cells": [
  {
   "attachments": {},
   "cell_type": "markdown",
   "metadata": {},
   "source": [
    "# 1 - Tipos de Variáveis Aprendidos\n",
    "\n",
    "* int - Algarismos numéricos inteiros;\n",
    "* float - Algarismos numéricos decimais (ponto flutuante);\n",
    "* str - Caracteres que formam palavras, frases e textos;\n",
    "* bool - Expressões que representam verdadeiro (True) ou falso (False);\n",
    "* list - Listas\n",
    "* dict - Dicionários - Relação de Chave e Valor \n",
    "\n",
    "### Criação de Variáveis:\n",
    "* No python, primeiro é definido o nome da variável que é seguido por um único sinal de igual `=`, em seguida o valor desejado, seguindo o exemplo -> `nome_da_variavel = valor_da_variavel`\n",
    "#\n",
    "* Nome da variável ``não pode``:\n",
    "    * Começar com números;\n",
    "    * Conter espaço;\n",
    "    * Conter ou começar com caracteres especiais (`:'\",<>/?|\\!@#%^&*~-+`), exceto `_` (\"Underline\");\n",
    "    * Ser uma palavra que faz parte do python(True, False, while, for, in, list, str...).\n",
    "#\n",
    "* Nome da variável ``pode``:\n",
    "    * Começar com letras maiúsculas ou minúsculas;\n",
    "    * Conter ou começar com _ (\"Underline\").\n",
    "#\n",
    "* Boas práticas para nome de variáveis:\n",
    "    * Todas letras minúsculas;\n",
    "    * Nomes compostos separados por _  (\"Underline\");\n",
    "    * Evitar criar nomes com caracteres únicos (a, A, b, B, c, C...);\n",
    "    * Dar nomes intuitivos para as variáveis.\n",
    "#\n",
    "##### OBS_1: \n",
    "O Python é uma linguagem `Case-Sensitive`. Significa que variáveis de mesmo nome, mas com maiúsculas ou minúsculas diferentes, são variáveis diferentes. \n",
    "\n",
    "EX: a variável `nome` é diferente da variável `Nome` que também é diferente da variável `NOME`"
   ]
  },
  {
   "attachments": {},
   "cell_type": "markdown",
   "metadata": {},
   "source": [
    "### 1.1 - Número Inteiro"
   ]
  },
  {
   "cell_type": "code",
   "execution_count": null,
   "metadata": {},
   "outputs": [],
   "source": [
    "# Criação da variável numérica numero_inteiro_1\n",
    "numero_inteiro_1 = 10\n",
    "\n",
    "# Criação da variável numérica numero_inteiro_2\n",
    "numero_inteiro_2 = 4"
   ]
  },
  {
   "cell_type": "code",
   "execution_count": null,
   "metadata": {},
   "outputs": [],
   "source": [
    "# Exibe o valor da variável numero_inteiro_1\n",
    "print('numero_inteiro_1 =', numero_inteiro_1)\n",
    "\n",
    "# Exibe o valor da variável numero_inteiro_2\n",
    "print('numero_inteiro_2 =', numero_inteiro_2)"
   ]
  },
  {
   "cell_type": "code",
   "execution_count": null,
   "metadata": {},
   "outputs": [],
   "source": [
    "# Exibe o tipo da variável numero_inteiro_1\n",
    "type(numero_inteiro_1)"
   ]
  },
  {
   "attachments": {},
   "cell_type": "markdown",
   "metadata": {},
   "source": [
    "### 1.2 - Números Decimais"
   ]
  },
  {
   "cell_type": "code",
   "execution_count": null,
   "metadata": {},
   "outputs": [],
   "source": [
    "# Criação da variável numérica numero_inteiro_1\n",
    "numero_decimal_1 = 5.5\n",
    "\n",
    "# Exibe o tipo da variável numero_decimal_1\n",
    "type(numero_decimal_1)"
   ]
  },
  {
   "cell_type": "code",
   "execution_count": null,
   "metadata": {},
   "outputs": [],
   "source": [
    "# Criação da variável numérica numero_inteiro_2\n",
    "numero_decimal_2 = 8.4\n",
    "\n",
    "# Exibe o tipo da variável numero_decimal_2\n",
    "type(numero_decimal_2)"
   ]
  },
  {
   "cell_type": "code",
   "execution_count": null,
   "metadata": {},
   "outputs": [],
   "source": [
    "# Exibe o valor da variável numero_decimal_1\n",
    "print('numero_decimal_1 =', numero_decimal_1)\n",
    "\n",
    "# Exibe o valor da variável numero_decimal_2\n",
    "print('numero_decimal_2 =', numero_decimal_2)"
   ]
  },
  {
   "attachments": {},
   "cell_type": "markdown",
   "metadata": {},
   "source": [
    "### 1.3 - STR - Caracteres\n",
    "\n",
    "Qualquer caracter que esteja entre aspas simples ' ' ou duplas \" \"\n",
    "\n",
    "Ex: 'a', 'ç', '123', 'carro'\n",
    "\n",
    "No python, o tipo de dados caracter é referenciado por ``str``, abreviação de string, que significa uma sequência de caracteres alfanuméricos (letras, números e/ou símbolos). "
   ]
  },
  {
   "cell_type": "code",
   "execution_count": null,
   "metadata": {},
   "outputs": [],
   "source": [
    "# Criação da variável textual string_1\n",
    "string_1 = 'Isto é um texto'\n",
    "\n",
    "# Criação da variável textual string_2\n",
    "string_2 = 'Carro'\n",
    "\n",
    "# Criação da variável textual string_3\n",
    "string_3 = 'a'"
   ]
  },
  {
   "cell_type": "code",
   "execution_count": null,
   "metadata": {},
   "outputs": [],
   "source": [
    "print(string_1)\n",
    "print(string_2)\n",
    "print(string_3)"
   ]
  },
  {
   "cell_type": "code",
   "execution_count": null,
   "metadata": {},
   "outputs": [],
   "source": [
    "type(string_2)"
   ]
  },
  {
   "attachments": {},
   "cell_type": "markdown",
   "metadata": {},
   "source": [
    "#### 1.3.1 Função print()\n",
    "Ao utilizar a função print, podemos exibir o valor da variável e acrescentar outros textos"
   ]
  },
  {
   "attachments": {},
   "cell_type": "markdown",
   "metadata": {},
   "source": [
    "##### 1.3.1.1 - Acrescentar o texto dentro de aspas, colocar uma vírgula fora das aspas e em seguida o nome da variável"
   ]
  },
  {
   "cell_type": "code",
   "execution_count": null,
   "metadata": {},
   "outputs": [],
   "source": [
    "print('O valor da string_2 é',string_2,'e da string_3',string_3)"
   ]
  },
  {
   "attachments": {},
   "cell_type": "markdown",
   "metadata": {},
   "source": [
    "#### 1.3.1.2 - Usar a ``função f string``, onde é acrescentada a letra `f` antes do texto e o nome da variável em qualquer lugar dentro das aspas, dentro de chaves"
   ]
  },
  {
   "cell_type": "code",
   "execution_count": null,
   "metadata": {},
   "outputs": [],
   "source": [
    "print(f'O valor da string_2 é: {string_2} e da string_3: {string_3}')"
   ]
  },
  {
   "attachments": {},
   "cell_type": "markdown",
   "metadata": {},
   "source": [
    "#### 1.3.1.3 - Usar a ``.format``, onde se acrescenta um par de chaves no lugar onde desejar que a variável apareça e, após as aspas, usar a função .format(nome_da_variavel, nome_da_outra_variavel). A primeira variável irá aparecer no lugar do primeiro par de chaves, a segunda variável no lugar do segundo par de chaves..."
   ]
  },
  {
   "cell_type": "code",
   "execution_count": null,
   "metadata": {},
   "outputs": [],
   "source": [
    "print('O valor da string_2 é: {} e da string_3: {}'.format(string_2, string_1))"
   ]
  },
  {
   "attachments": {},
   "cell_type": "markdown",
   "metadata": {},
   "source": [
    "### 1.3.2 - Tamanho da String\n",
    "Uma variável do tipo string é composta por uma sequencia de caracteres alfa numéricos, isto quer dizer ela possui uma quantidade determinada de posições e que cada caracter possui uma posição."
   ]
  },
  {
   "cell_type": "code",
   "execution_count": null,
   "metadata": {},
   "outputs": [],
   "source": [
    "# len() é a função para retornar o tamanho da string \n",
    "len('casa .')"
   ]
  },
  {
   "cell_type": "code",
   "execution_count": null,
   "metadata": {},
   "outputs": [],
   "source": [
    "# Exibe o valor da string_2\n",
    "print(string_2)"
   ]
  },
  {
   "cell_type": "code",
   "execution_count": null,
   "metadata": {},
   "outputs": [],
   "source": [
    "# Exibe o tamanho da string_2\n",
    "len(string_2)"
   ]
  },
  {
   "cell_type": "code",
   "execution_count": null,
   "metadata": {},
   "outputs": [],
   "source": [
    "# Exibe todas as posições da string_2 \n",
    "# Note que a contagem começa em 0\n",
    "print(string_2 [0])\n",
    "print(string_2 [1])\n",
    "print(string_2 [2])\n",
    "print(string_2 [3])\n",
    "print(string_2 [4])"
   ]
  },
  {
   "attachments": {},
   "cell_type": "markdown",
   "metadata": {},
   "source": [
    "## 1.4 Tipo de dados Lógico\n",
    "O tipo de Dados lógico é usado para representar dois únicos\n",
    "valores lógicos possíveis: verdadeiro ou falso. É comum\n",
    "encontrar-se em outras referencias outros tipos de pares de\n",
    "valores lógicos com sim/não , 1/0, true/false.\n",
    "\n",
    "No python o tipo de dados lógico é representado por ``bool``, de booleano, sendo os dois possíveis valores `True` (Verdadeiro) e `False` (Falso)."
   ]
  },
  {
   "cell_type": "code",
   "execution_count": null,
   "metadata": {},
   "outputs": [],
   "source": [
    "type(True)"
   ]
  },
  {
   "cell_type": "code",
   "execution_count": null,
   "metadata": {},
   "outputs": [],
   "source": [
    "type(False)"
   ]
  },
  {
   "attachments": {},
   "cell_type": "markdown",
   "metadata": {},
   "source": [
    "# 2 - Operações com Variáveis Numéricas\n",
    "\n",
    "Podem ser feita entre números, variáveis numéricas e variáveis numéricas e números"
   ]
  },
  {
   "attachments": {},
   "cell_type": "markdown",
   "metadata": {},
   "source": [
    "#### 2.1 - Adição\n",
    "Sinal de mais `+`"
   ]
  },
  {
   "cell_type": "code",
   "execution_count": null,
   "metadata": {},
   "outputs": [],
   "source": [
    "numero_1 = 11\n",
    "numero_2 = 5.5"
   ]
  },
  {
   "cell_type": "code",
   "execution_count": null,
   "metadata": {},
   "outputs": [],
   "source": [
    "numero_1 + numero_2"
   ]
  },
  {
   "attachments": {},
   "cell_type": "markdown",
   "metadata": {},
   "source": [
    "#### 2.2 - Subtração\n",
    "Sinal de menos `-`"
   ]
  },
  {
   "cell_type": "code",
   "execution_count": null,
   "metadata": {},
   "outputs": [],
   "source": [
    "numero_1 = 11\n",
    "numero_2 = 5.5"
   ]
  },
  {
   "cell_type": "code",
   "execution_count": null,
   "metadata": {},
   "outputs": [],
   "source": [
    "numero_1 - numero_2"
   ]
  },
  {
   "attachments": {},
   "cell_type": "markdown",
   "metadata": {},
   "source": [
    "#### 2.3 - Multiplicação\n",
    "Sinal de asterisco `*`"
   ]
  },
  {
   "cell_type": "code",
   "execution_count": null,
   "metadata": {},
   "outputs": [],
   "source": [
    "numero_1 = 2\n",
    "numero_2 = 5.5"
   ]
  },
  {
   "cell_type": "code",
   "execution_count": null,
   "metadata": {},
   "outputs": [],
   "source": [
    "numero_1 * numero_2"
   ]
  },
  {
   "attachments": {},
   "cell_type": "markdown",
   "metadata": {},
   "source": [
    "#### 2.4 - Divisão\n",
    "Sinal de barra `/`"
   ]
  },
  {
   "cell_type": "code",
   "execution_count": null,
   "metadata": {},
   "outputs": [],
   "source": [
    "numero_1 = 11\n",
    "numero_2 = 5.5"
   ]
  },
  {
   "cell_type": "code",
   "execution_count": null,
   "metadata": {},
   "outputs": [],
   "source": [
    "numero_1 / numero_2"
   ]
  },
  {
   "attachments": {},
   "cell_type": "markdown",
   "metadata": {},
   "source": [
    "#### 2.5 - MOD (Resto da Divisão) \n",
    "Sinal de porcentagem  %\n",
    "#\n",
    "OBS: Para verificar se uma variável é par, verifique se o resto da divisão por 2 é 0  "
   ]
  },
  {
   "cell_type": "code",
   "execution_count": null,
   "metadata": {},
   "outputs": [],
   "source": [
    "numero_1 = 11\n",
    "numero_2 = 2"
   ]
  },
  {
   "cell_type": "code",
   "execution_count": null,
   "metadata": {},
   "outputs": [],
   "source": [
    "numero_1 % numero_2"
   ]
  },
  {
   "attachments": {},
   "cell_type": "markdown",
   "metadata": {},
   "source": [
    "#### 2.6 - Exponenciação\n",
    "\n",
    "Sinal são dois asteriscos `**`"
   ]
  },
  {
   "cell_type": "code",
   "execution_count": null,
   "metadata": {},
   "outputs": [],
   "source": [
    "numero_1 = 10\n",
    "numero_2 = 2"
   ]
  },
  {
   "cell_type": "code",
   "execution_count": null,
   "metadata": {},
   "outputs": [],
   "source": [
    "numero_1 ** numero_2"
   ]
  },
  {
   "attachments": {},
   "cell_type": "markdown",
   "metadata": {},
   "source": [
    "# 3 - Operadores Relacionais\n",
    "\n",
    "Também conhecidos como operadores de comparação, comparam duas variáveis. No python temos:\n",
    "* Compara se duas variáveis são iguais `==`\n",
    "* Compara se duas variáveis são diferentes `!=`\n",
    "* Compara se uma variável é maior que outra `>`\n",
    "* Compara se uma variável é maior ou igual que outra `>=`\n",
    "* Compara se uma variável é menor que outra `<`\n",
    "* Compara se uma variável é menor ou igual que outra `<=`\n",
    "\n",
    "A resposta da comparação é em booleano, sendo True se a comparação for verdadeira, ou False se for falsa."
   ]
  },
  {
   "cell_type": "code",
   "execution_count": null,
   "metadata": {},
   "outputs": [],
   "source": [
    "# Compara se 1 é igual a 2\n",
    "1 == 2"
   ]
  },
  {
   "cell_type": "code",
   "execution_count": null,
   "metadata": {},
   "outputs": [],
   "source": [
    "# Compara se 1 é igual a 1\n",
    "1 == 1"
   ]
  },
  {
   "cell_type": "code",
   "execution_count": null,
   "metadata": {},
   "outputs": [],
   "source": [
    "# Verifica se o número é par ( Verifica se o resto da divisão por 2 é zero)\n",
    "10 % 2 == 0"
   ]
  },
  {
   "cell_type": "code",
   "execution_count": null,
   "metadata": {},
   "outputs": [],
   "source": [
    "11 % 2"
   ]
  },
  {
   "cell_type": "code",
   "execution_count": null,
   "metadata": {},
   "outputs": [],
   "source": [
    "# Verifica se o número é par ( Verifica se o resto da divisão por 2 é zero)\n",
    "11 % 2 == 0"
   ]
  },
  {
   "cell_type": "code",
   "execution_count": null,
   "metadata": {},
   "outputs": [],
   "source": [
    "# Verifica se o número é ímpar ( Verifica se o resto da divisão por 2 é diferente de zero)\n",
    "10 % 2 != 0"
   ]
  },
  {
   "cell_type": "code",
   "execution_count": null,
   "metadata": {},
   "outputs": [],
   "source": [
    "# Verifica se o número é ímpar ( Verifica se o resto da divisão por 2 é diferente de zero)\n",
    "11 % 2 != 0"
   ]
  },
  {
   "cell_type": "code",
   "execution_count": null,
   "metadata": {},
   "outputs": [],
   "source": [
    "# Compara se 1 é maior que 2\n",
    "1 > 2"
   ]
  },
  {
   "cell_type": "code",
   "execution_count": null,
   "metadata": {},
   "outputs": [],
   "source": [
    "# Compara se 2 é maior ou igual que 2\n",
    "2 >= 2"
   ]
  },
  {
   "attachments": {},
   "cell_type": "markdown",
   "metadata": {},
   "source": [
    "# 4 - Estruturas Condicionais - If, Else, Elif\n",
    "\n",
    "<code>if</code> permite dizer ao computador para executar ações alternativas com base em um determinado conjunto de resultados.\n",
    "\n",
    "Verbalmente, podemos imaginar que estamos dizendo ao computador:\n",
    "\n",
    "\"Se esse caso acontecer, execute alguma ação\"\n",
    "\n",
    "Podemos então expandir ainda mais a ideia com as instruções <code>elif</code> e <code>else</code>, que nos permitem informar ao computador:\n",
    "\n",
    "\"Se esse caso acontecer, execute alguma ação. Senão, se outro caso acontecer, execute outra ação. Caso contrário, se **nenhum** dos casos acima ocorreu, execute esta ação.\"\n",
    "\n",
    "Observe o formato de sintaxe das instruções <code>if</code> para ter uma idéia melhor disso:\n",
    "\n",
    "    if caso1:\n",
    "        faça ação1\n",
    "    elif case2:\n",
    "        faça ação2\n",
    "    elif case3:\n",
    "        faça ação3\n",
    "    elif case4:\n",
    "        faça ação4\n",
    "    else: \n",
    "        faça ação5\n",
    "\n",
    "Podemos colocar vários elif um após o outro, mas somente um if e um else"
   ]
  },
  {
   "cell_type": "code",
   "execution_count": null,
   "metadata": {},
   "outputs": [],
   "source": [
    "# Cria a variável número\n",
    "numero = 5"
   ]
  },
  {
   "cell_type": "code",
   "execution_count": null,
   "metadata": {},
   "outputs": [],
   "source": [
    "# Operador de comparação que verifica se a variável numero é igual a 5\n",
    "numero == 5"
   ]
  },
  {
   "cell_type": "code",
   "execution_count": null,
   "metadata": {},
   "outputs": [],
   "source": [
    "# Operador de comparação que verifica se a variável numero é igual a 6\n",
    "numero == 6"
   ]
  },
  {
   "cell_type": "code",
   "execution_count": null,
   "metadata": {},
   "outputs": [],
   "source": [
    "# Verifica se número é igual a 5 e executa o print caso seja igual\n",
    "if numero == 5:\n",
    "    print('O número é igual a 5')"
   ]
  },
  {
   "cell_type": "code",
   "execution_count": null,
   "metadata": {},
   "outputs": [],
   "source": [
    "# Verifica se número é igual a 6 e executa o print caso seja igual\n",
    "if numero == 6:\n",
    "    print('O número é igual a 5')"
   ]
  },
  {
   "cell_type": "code",
   "execution_count": null,
   "metadata": {},
   "outputs": [],
   "source": [
    "# Verifica se número é diferente de 6 e executa o print caso seja diferente\n",
    "if numero != 6:\n",
    "    print('O número é diferente de 6')"
   ]
  },
  {
   "cell_type": "code",
   "execution_count": null,
   "metadata": {},
   "outputs": [],
   "source": [
    "if numero == 6:\n",
    "    print('O número é igual a 6')\n",
    "elif numero == 5:\n",
    "    print('O número é igual a 5')"
   ]
  },
  {
   "cell_type": "code",
   "execution_count": null,
   "metadata": {},
   "outputs": [],
   "source": [
    "if numero == 6:\n",
    "    print('O número é igual a 6')\n",
    "elif numero != 5:\n",
    "    print('O número é diferente de 5')"
   ]
  },
  {
   "cell_type": "code",
   "execution_count": null,
   "metadata": {},
   "outputs": [],
   "source": [
    "if numero == 6:\n",
    "    print('O número é igual a 6')\n",
    "elif numero != 5:\n",
    "    print('O número é diferente de 5')\n",
    "else:\n",
    "    print('O número é 5')"
   ]
  },
  {
   "cell_type": "code",
   "execution_count": null,
   "metadata": {},
   "outputs": [],
   "source": [
    "# Imprimir um percetual de imposto\n",
    "# Quando o salario for menor que R$500 o programa irá imprimir o percentual 5%\n",
    "# Quando o salario for De R$500 a R$850 o programa irá imprimir o percentual 10%\n",
    "# Quando o salario for acima de R$850 o programa irá imprimir o percentual 27.5%\n",
    "\n",
    "salario = 19000\n",
    "\n",
    "if salario < 500:\n",
    "    print('Leão vai tirar apenas 5% da sua conta')\n",
    "elif salario>=500 and salario <=850:\n",
    "    print('Leão vai tirar apenas 10% da sua conta e por favor fique tranquilo')\n",
    "else:\n",
    "    print('Lamento muito! você está ganhando bem então vai pagar apenas 27.5%')"
   ]
  },
  {
   "attachments": {},
   "cell_type": "markdown",
   "metadata": {},
   "source": [
    "## Conectar duas ou mais comparações\n",
    "\n",
    "* Com o `and` (`e` em português), é possível conectar duas ou mais comparações, e o resultado depende de:\n",
    "    * Todas as comparações precisam ser verdadeiras para que o resultado seja verdadeiro (True)\n",
    "    * Caso uma das comparações seja falsa (False), o resultado será falso\n",
    "\n",
    "* Com o `or` (`ou` em português), é possível conectar duas ou mais comparações, e o resultado depende de:\n",
    "    * Todas as comparações presicam ser falsas para o resultado ser falso (False)\n",
    "    * Caso uma única comparação seja verdadeira, o resultado será verdadeiro (True), independente se existirem outras comparações falsas (False)"
   ]
  },
  {
   "cell_type": "code",
   "execution_count": null,
   "metadata": {},
   "outputs": [],
   "source": [
    "salario>=500"
   ]
  },
  {
   "cell_type": "code",
   "execution_count": null,
   "metadata": {},
   "outputs": [],
   "source": [
    "salario <=850"
   ]
  },
  {
   "cell_type": "code",
   "execution_count": null,
   "metadata": {},
   "outputs": [],
   "source": [
    "salario>=500 and salario <=850"
   ]
  },
  {
   "cell_type": "code",
   "execution_count": null,
   "metadata": {},
   "outputs": [],
   "source": [
    "salario>=500 or salario <=850"
   ]
  },
  {
   "cell_type": "code",
   "execution_count": null,
   "metadata": {},
   "outputs": [],
   "source": [
    "# Exibir se o número é negativo, neutro ou positivo\n",
    "numero = -6\n",
    "\n",
    "if numero < 0:\n",
    "        print('É um número negativo')\n",
    "elif numero == 0:\n",
    "        print('É um número neutro')\n",
    "elif numero > 0:\n",
    "        print('É um número positivo')"
   ]
  },
  {
   "cell_type": "code",
   "execution_count": null,
   "metadata": {},
   "outputs": [],
   "source": [
    "# Exibir 2 números em ordem crescente\n",
    "\n",
    "numero_1 = 1\n",
    "numero_2 = 1\n",
    "\n",
    "# Verifica se o numero_1 é menor que o numero_2\n",
    "if numero_1 < numero_2:\n",
    "    print(numero_1, numero_2)\n",
    "\n",
    "# Verifica se o numero_2 é menor que o numero_1\n",
    "elif numero_2 < numero_1:\n",
    "    print(numero_2, numero_1)\n",
    "\n",
    "else:\n",
    "    print('Os números são iguais')"
   ]
  },
  {
   "cell_type": "code",
   "execution_count": null,
   "metadata": {},
   "outputs": [],
   "source": [
    "# Exibir o menor e o menor numero entre 3 números\n",
    "numero_1 = 2\n",
    "numero_2 = 5\n",
    "numero_3 = 18\n",
    "\n",
    "# Verifica se numero_1 é maior que o numero_2 e o numero_3 (Caso seja verdade, o numero_1 é o maior)\n",
    "if numero_1 > numero_2 and numero_1 > numero_3:\n",
    "\n",
    "    # Caso o numero_1 seja o maior, é feita a comparação para ver se o numero_2 é menor que o numero_3\n",
    "    if numero_2 < numero_3:\n",
    "        print(f'maior numero é o {numero_1} e o menor é o {numero_2}')\n",
    "\n",
    "    # Se o numero_2 não for o menor, significa que o menor é o numero_3\n",
    "    else:\n",
    "        print(f'maior numero é o {numero_1} e o menor é o {numero_3}')\n",
    "\n",
    "\n",
    "# Verifica se numero_2 é maior que o numero_1 e o numero_3 (Caso seja verdade, o numero_2 é o maior)\n",
    "elif numero_2 > numero_1 and numero_2 > numero_3:\n",
    "\n",
    "    # Caso o numero_2 seja o maior, é feita a comparação para ver se o numero_1 é menor que o numero_3\n",
    "    if numero_1 < numero_3:\n",
    "        print(f'maior numero é o {numero_2} e o menor é o {numero_1}')\n",
    "\n",
    "    # Se o numero_1 não for o menor, significa que o menor é o numero_3\n",
    "    else:\n",
    "        print(f'maior numero é o {numero_2} e o menor é o {numero_3}')\n",
    "\n",
    "\n",
    "# Caso o numero_1 nem o numero_2 sejam o maior numero, o que resta para ser o maior é o numero_3 \n",
    "else:\n",
    "    # Caso o numero_3 seja o maior, é feita a comparação para ver se o numero_1 é menor que o numero_2\n",
    "    if numero_1 < numero_2:\n",
    "        print(f'maior numero é o {numero_3} e o menor é o {numero_1}')\n",
    "\n",
    "    # Se o numero_1 não for o menor, significa que o menor é o numero_2\n",
    "    else:\n",
    "        print(f'maior numero é o {numero_3} e o menor é o {numero_2}')"
   ]
  },
  {
   "attachments": {},
   "cell_type": "markdown",
   "metadata": {},
   "source": [
    "# 5 - Estrutura de iteração - FOR\n",
    "\n",
    "Um loop <code>for</code> atua como um iterador no Python; ele percorre itens que estão em uma **sequência** ou qualquer outro item iterável. Os objetos que aprendemos sobre os quais podemos iterar incluem strings e listas.\n",
    "\n",
    "##### Aqui está o formato geral para um loop <code>for</code> no Python:\n",
    "    \n",
    "    for item in objeto:\n",
    "        instruções"
   ]
  },
  {
   "cell_type": "code",
   "execution_count": null,
   "metadata": {},
   "outputs": [],
   "source": [
    "# Criar uma lista de números\n",
    "lista = [1,2,3,4,5,6]"
   ]
  },
  {
   "cell_type": "code",
   "execution_count": null,
   "metadata": {},
   "outputs": [],
   "source": [
    "# Cria-se uma variável num que irá percorrer os elementos da lista\n",
    "for num in lista:\n",
    "    # Exibe o valor da variável num\n",
    "    print(num) "
   ]
  },
  {
   "attachments": {},
   "cell_type": "markdown",
   "metadata": {},
   "source": [
    "Ótimo! Espero que isso faça sentido. Agora vamos adicionar uma instrução <code>if</code> para exibir somente números pares. \n",
    "#\n",
    "O resto da divisão `mod`, representado por `%` nos permite obter o restante em uma divisão."
   ]
  },
  {
   "cell_type": "code",
   "execution_count": null,
   "metadata": {},
   "outputs": [],
   "source": [
    "# Cria-se uma variável num que irá percorrer os elementos da lista\n",
    "for num in lista:\n",
    "    # Verifica se o resto da divisão de num por 2 é igual a 0\n",
    "    if num % 2 == 0:\n",
    "        print(num)"
   ]
  },
  {
   "cell_type": "code",
   "execution_count": null,
   "metadata": {},
   "outputs": [],
   "source": [
    "#Para imprimir os ímpares\n",
    "for num in lista:\n",
    "    # Verifica se o resto da divisão de num por 2 é diferente de 0\n",
    "    if num % 2 != 0:\n",
    "        print(num)"
   ]
  },
  {
   "attachments": {},
   "cell_type": "markdown",
   "metadata": {},
   "source": [
    "Poderíamos também colocar uma declaração <code>else</code> lá:"
   ]
  },
  {
   "cell_type": "code",
   "execution_count": null,
   "metadata": {},
   "outputs": [],
   "source": [
    "for num in lista:\n",
    "    if num % 2 == 0:\n",
    "        print(num)\n",
    "    else:\n",
    "        print('Número ímpar')"
   ]
  },
  {
   "cell_type": "code",
   "execution_count": null,
   "metadata": {},
   "outputs": [],
   "source": [
    "# Cria a variável soma que começa com zero\n",
    "soma = 0 \n",
    "\n",
    "# Cria-se uma variável num que irá percorrer os elementos da lista\n",
    "for num in lista:\n",
    "    # A variável soma irá receber o valor dela + o num\n",
    "    soma += num\n",
    "\n",
    "print(soma)"
   ]
  },
  {
   "attachments": {},
   "cell_type": "markdown",
   "metadata": {},
   "source": [
    "## 5.1 - Loop For repetir uma quantidade específica de vezes\n",
    "\n",
    "O loop for pode percorrer uma determinada quantidade de valores com a função range()\n",
    "\n",
    "Dentro da função range podem ser passador 3 parâmetros sendo range(inicio, fim, passo),onde:\n",
    "* inicio é o primeiro valor a ser percorrido;\n",
    "* fim é o último valor a ser percorrido;\n",
    "* passo é a quantidade de valores que o loop anda em cada execução"
   ]
  },
  {
   "cell_type": "code",
   "execution_count": null,
   "metadata": {},
   "outputs": [],
   "source": [
    "# O loop começará em 0, terminará em 9 e irá percorrer os valores de 1 em 1\n",
    "for numero in range(0,5,1):\n",
    "    print(numero)"
   ]
  },
  {
   "cell_type": "code",
   "execution_count": null,
   "metadata": {},
   "outputs": [],
   "source": [
    "# O loop começará em 2, terminará em 9 e irá percorrer os valores de 2 em 2\n",
    "for numero in range(2,10,2):\n",
    "    print(numero)"
   ]
  },
  {
   "cell_type": "code",
   "execution_count": null,
   "metadata": {},
   "outputs": [],
   "source": [
    "# O loop começará em 0, terminará em 9 e irá percorrer os valores de 3 em 3\n",
    "for numero in range(0,10,3):\n",
    "    print(numero)"
   ]
  },
  {
   "attachments": {},
   "cell_type": "markdown",
   "metadata": {},
   "source": [
    "Tanto o primeiro quanto o último parâmetro do range não precisam ser informados, por padrão eles são 0 e 1, respectivamente, Sendo necessário especificar somente qual o valor máximo."
   ]
  },
  {
   "cell_type": "code",
   "execution_count": null,
   "metadata": {},
   "outputs": [],
   "source": [
    "# O loop começará em 0, terminará em 4 e irá percorrer os valores de 1 em 1\n",
    "for numero in range(0,5,1):\n",
    "    print(numero)"
   ]
  },
  {
   "cell_type": "code",
   "execution_count": null,
   "metadata": {},
   "outputs": [],
   "source": [
    "# O loop começará em 0, terminará em 4 e irá percorrer os valores de 1 em 1\n",
    "for numero in range(5):\n",
    "    print(numero)"
   ]
  },
  {
   "attachments": {},
   "cell_type": "markdown",
   "metadata": {},
   "source": [
    "# 6 - Exercícios de Loop For"
   ]
  },
  {
   "attachments": {},
   "cell_type": "markdown",
   "metadata": {},
   "source": [
    "## 6.1 - Tabuada\n",
    "\n",
    "* Crie uma variável numero e atribua a ela algum valor de 1 a 10;\n",
    "* Use o loop for para exibir a tabuada deste número\n",
    "EX: numero = 5, o texto exibido será:\n",
    "    * 5 x 1 = 5 \n",
    "    * 5 x 2 = 10\n",
    "    * 5 x 3 = 15\n",
    "    * 5 x 4 = 20\n",
    "    * 5 x 5 = 25\n",
    "    * 5 x 6 = 30\n",
    "    * 5 x 7 = 35\n",
    "    * 5 x 8 = 40\n",
    "    * 5 x 9 = 45\n",
    "    * 5 x 10 = 50\n",
    "#\n",
    "Caso o número seja alterado, os textos e os resultados também devem ser alterados \n"
   ]
  },
  {
   "cell_type": "code",
   "execution_count": null,
   "metadata": {},
   "outputs": [],
   "source": [
    "# Desenvolva sua resposta aqui\n"
   ]
  },
  {
   "attachments": {},
   "cell_type": "markdown",
   "metadata": {},
   "source": [
    "## 6.2 - Escreva um programa que exiba todos os números entre 5 e 100 que são divisíveis por 7, mas não são múltipos de 5."
   ]
  },
  {
   "cell_type": "code",
   "execution_count": null,
   "metadata": {},
   "outputs": [],
   "source": [
    "# Desenvolva sua resposta aqui\n"
   ]
  },
  {
   "attachments": {},
   "cell_type": "markdown",
   "metadata": {},
   "source": [
    "## 6.3 - Soma dos números\n",
    "* Crie uma variável numero e atribua a ela algum valor numérico inteiro;\n",
    "* Utilize o loop ``for`` para exibir a soma de todos os numeros de 1 até o valor da variável numero.\n",
    "\n",
    "EX: numero = 4\n",
    "\n",
    "Valor exibido deve ser 10\n",
    "\n",
    "Pois 1+2+3+4 = 10"
   ]
  },
  {
   "cell_type": "code",
   "execution_count": null,
   "metadata": {},
   "outputs": [],
   "source": [
    "# Desenvolva sua resposta aqui\n",
    "\n"
   ]
  },
  {
   "attachments": {},
   "cell_type": "markdown",
   "metadata": {},
   "source": [
    "## 6.4 - Quantidade de Valores pares e ímpares na lista_numeros\n",
    "* Crie uma variavel quantidade_par e outra quantidade_impar;\n",
    "* Utilize o loop for para percorrer a lista_numeros;\n",
    "* Utilize as estruturas condicionais para verificar se o valor é par ou ímpar;\n",
    "* Exiba a quantidade de valores pares e a quantidade de valores ímpares."
   ]
  },
  {
   "cell_type": "code",
   "execution_count": null,
   "metadata": {},
   "outputs": [],
   "source": [
    "lista_numeros = [5,484,2,21,4,6,9,451,4,8,6,2,1,4,8,6,2,1,7,51,8,7,51,8,7,5,13,748,4,22,2,68,479,43,1,4,98,6841,64,84,86]\n",
    "# Desenvolva sua resposta aqui\n",
    "\n"
   ]
  },
  {
   "attachments": {},
   "cell_type": "markdown",
   "metadata": {},
   "source": [
    "# 7 - Exercícios de revisão"
   ]
  },
  {
   "attachments": {},
   "cell_type": "markdown",
   "metadata": {},
   "source": [
    "#### 7.1 - Cálculo do Imposto de Renda anual\n",
    "\n",
    "* Crie uma variável salario que irá receber um valor qualquer\n",
    "* Crie uma variável imposto mensal que irá receber um valor entre 0 e 1 (imposto de 25% = 0.25, imposto de 0.08 = 8%, imposto de 0.3 = 30%);\n",
    "* Calcule o valor pago de imposto no mês;\n",
    "* Calcule o valor pago de imposto no ano;\n",
    "* Exiba na tela o valor do salário, o valor do imposto e quanto é pago de imposto anualmente."
   ]
  },
  {
   "cell_type": "code",
   "execution_count": null,
   "metadata": {},
   "outputs": [],
   "source": [
    "# Desenvolva sua resposta aqui\n",
    "\n",
    "\n",
    "\n"
   ]
  },
  {
   "attachments": {},
   "cell_type": "markdown",
   "metadata": {},
   "source": [
    "#### 7.2 - Média das notas\n",
    "Em uma escola de programação, o professor realiza 4 provas no ano.\n",
    "Para facilitar o cálculo da nota final, faça um programa que tenha uma variável para cada uma das 4 notas, calcule a média das notas e exiba um texto de acordo com o exemplo: \"A nota 1 foi 5, nota 2 5, nota 3 5 e nota 4 5. Sua média foi 5\" \n",
    "\n",
    "#\n",
    "Para calcular a média, some as 4 notas, em seguida divida o valor da somatória por 4"
   ]
  },
  {
   "cell_type": "code",
   "execution_count": null,
   "metadata": {},
   "outputs": [],
   "source": [
    "# Desenvolva sua resposta aqui\n",
    "\n",
    "\n",
    "\n"
   ]
  },
  {
   "attachments": {},
   "cell_type": "markdown",
   "metadata": {},
   "source": [
    "#### 7.3 - Autonomia do Carro\n",
    "\n",
    "* Crie uma variável para receber quantos quilometros o carro andou;\n",
    "* Crie uma variável parareceber quantos litros o carro gastou;\n",
    "* Crie uma variável para receber a autonomia do carro (Calcula-se usando a quantidade de quilometros dividido pela quantidade de litros)\n",
    "* Exiba o texto, semelhante a \"O carro andou 100 quilometros, gastou 10 litros, portanto a autonomia é de 10 Km/L\""
   ]
  },
  {
   "cell_type": "code",
   "execution_count": null,
   "metadata": {},
   "outputs": [],
   "source": [
    "# Desenvolva sua resposta aqui\n",
    "\n",
    "\n",
    "\n"
   ]
  },
  {
   "attachments": {},
   "cell_type": "markdown",
   "metadata": {},
   "source": [
    "#### 7.4 - Valocidade média do Carro\n",
    "\n",
    "* Crie uma variável para receber quantos quilometros o carro andou;\n",
    "* Crie uma variável para receber em quantos minutos o carro andou a distância;\n",
    "* Crie uma variável para receber a velocidade média do carro (Calcula-se usando a quantidade de quilometros dividido pela quantidade de minutos, multiplicado por 60) -> (100km / 40minutos)*60 = 150Km/h\n",
    "* Exiba o texto, semelhante a \"O carro andou 150 quilometros em 40 minutos, portanto a velocidade média é de 150Km/h\""
   ]
  },
  {
   "cell_type": "code",
   "execution_count": null,
   "metadata": {},
   "outputs": [],
   "source": [
    "# Desenvolva sua resposta aqui\n",
    "\n",
    "\n",
    "\n"
   ]
  },
  {
   "attachments": {},
   "cell_type": "markdown",
   "metadata": {},
   "source": [
    "#### 7.5 - Exiba o segundo elemento da lista de numeros"
   ]
  },
  {
   "cell_type": "code",
   "execution_count": null,
   "metadata": {},
   "outputs": [],
   "source": [
    "lista_numeros = [5,484,2,21,4]\n",
    "# Desenvolva sua resposta aqui\n",
    "\n",
    "\n",
    "\n"
   ]
  },
  {
   "attachments": {},
   "cell_type": "markdown",
   "metadata": {},
   "source": [
    "#### 7.6 - Altere o primeiro elemento da lista para 'Carro' "
   ]
  },
  {
   "cell_type": "code",
   "execution_count": null,
   "metadata": {},
   "outputs": [],
   "source": [
    "lista = ['javali', 'iate', 9, 'Corrente']\n",
    "# Desenvolva sua resposta aqui\n",
    "\n",
    "\n",
    "\n"
   ]
  },
  {
   "attachments": {},
   "cell_type": "markdown",
   "metadata": {},
   "source": [
    "#### 7.7 - Use reatribuição de valor e multiplique o valor da primeira posição da lista pelo valor da última da lista abaixo, em seguida exiba a lista\n",
    "\n",
    "resultado esperado lista_numeros = [27, 7, 5, 8, 7, 9]"
   ]
  },
  {
   "cell_type": "code",
   "execution_count": null,
   "metadata": {},
   "outputs": [],
   "source": [
    "# Desenvolva sua resposta aqui\n",
    "\n",
    "\n",
    "\n"
   ]
  },
  {
   "attachments": {},
   "cell_type": "markdown",
   "metadata": {},
   "source": [
    "#### 7.8 - Contar números na lista\n",
    "Utilize a função count() para contar quantas vezes o número 15 aparece na lista abaixo, em seguida exiba o resultado\n",
    "#\n",
    "Resultado esperado = 8"
   ]
  },
  {
   "cell_type": "code",
   "execution_count": null,
   "metadata": {},
   "outputs": [],
   "source": [
    "lista_varios_numeros = [11,15,67,34,87,3345,68,654,5489,15,15,158,231,87,6,54,121,\n",
    "                       981,3284981,548,45,56,85,0,1874,1,64,8,1,515,15,15,12,30,330,\n",
    "                       87841,520,1,8,53,1,5,4,78,95610,20,68,76,15,18,15,34,72,15]\n",
    "\n",
    "# Desenvolva seu código aqui embaixo\n",
    "\n",
    "\n",
    "\n"
   ]
  },
  {
   "attachments": {},
   "cell_type": "markdown",
   "metadata": {},
   "source": [
    "#### 7.9 Com base na lista_varios_numeros, utilize formatação de strings para exibir o texto 'O maior valor da lista é 'maior numero da lista' e o menor é 'menor numero da lista''\n",
    "#\n",
    "Dicas:\n",
    "    - Use a função sort() para ordenar a lista em ordem crescente\n",
    "    - Crie uma variável que irá receber o menor valor da lista (ordene a lista e pegue o primeiro valor da lista)\n",
    "    - Use a função reverse() para inverter a ordem da lista\n",
    "    - Crie uma variável que irá receber o maior valor da lista \n",
    "#\n",
    "Resultado esperado 'O maior valor da lista é 3284981 e o menor é 0'"
   ]
  },
  {
   "cell_type": "code",
   "execution_count": null,
   "metadata": {},
   "outputs": [],
   "source": [
    "# Desenvolva sua resposta aqui\n",
    "\n",
    "\n",
    "\n"
   ]
  },
  {
   "attachments": {},
   "cell_type": "markdown",
   "metadata": {},
   "source": [
    "#### 7.10 - Texto da lista\n",
    "\n",
    "    Crie uma variável que receberá a palavra ``Eu`` da lista_de_palavras\n",
    "    Crie uma variável que receberá a palavra ``estou`` da lista_de_palavras\n",
    "    Crie uma variável que receberá a palavra ``aprendendo`` da lista_de_palavras\n",
    "    Crie uma variável que receberá a palavra ``Python`` da lista_de_palavras\n",
    "    Crie uma variável que receberá a palavra ``' '`` da lista_de_palavras\n",
    "\n",
    "Apenas com as variáveis criadas, exiba a frase 'Eu estou aprendendo Python' "
   ]
  },
  {
   "cell_type": "code",
   "execution_count": null,
   "metadata": {},
   "outputs": [],
   "source": [
    "lista_de_palavras = ['Python', 'aprendendo', 'estou', 'Eu', ' ']\n",
    "# Desenvolva sua resposta aqui\n",
    "\n",
    "\n",
    "\n"
   ]
  },
  {
   "attachments": {},
   "cell_type": "markdown",
   "metadata": {},
   "source": [
    "#### 7.11 - Com a lista_de_listas, exiba a frase 'O carro tem 4 rodas' utilizando indexação de lista "
   ]
  },
  {
   "cell_type": "code",
   "execution_count": null,
   "metadata": {},
   "outputs": [],
   "source": [
    "lista_de_listas = ['garrafa','O','0', 'e', 'garrafa',['tem','4', 'cinco', 'rodas',[' ', 'sapato','bancos',17]],'14', 'carro']\n",
    "\n",
    "# Desenvolva seu código aqui embaixo\n",
    "\n",
    "\n",
    "\n",
    "\n"
   ]
  },
  {
   "attachments": {},
   "cell_type": "markdown",
   "metadata": {},
   "source": [
    "#### 7.12 - Com a lista_de_listas, exiba a frase 'O carro tem cinco bancos' utilizando indexação de lista "
   ]
  },
  {
   "cell_type": "code",
   "execution_count": null,
   "metadata": {},
   "outputs": [],
   "source": [
    "lista_de_listas = ['garrafa','O','0', 'e', 'garrafa',['tem','4', 'cinco', 'rodas',[' ', 'sapato','bancos',17]],'14', 'carro']\n",
    "\n",
    "# Desenvolva seu código aqui embaixo\n",
    "\n",
    "\n",
    "\n",
    "\n"
   ]
  },
  {
   "attachments": {},
   "cell_type": "markdown",
   "metadata": {},
   "source": [
    "#### 7.13 - Com a lista_de_listas, exiba a frase 'O carro tem 4 rodas e cinco bancos' utilizando indexação de lista "
   ]
  },
  {
   "cell_type": "code",
   "execution_count": null,
   "metadata": {},
   "outputs": [],
   "source": [
    "lista_de_listas = ['garrafa','O','0', 'e', 'garrafa',['tem','4', 'cinco', 'rodas',[' ', 'sapato','bancos',17]],'14', 'carro']\n",
    "\n",
    "# Desenvolva seu código aqui embaixo\n",
    "\n",
    "\n",
    "\n",
    "\n"
   ]
  },
  {
   "attachments": {},
   "cell_type": "markdown",
   "metadata": {},
   "source": [
    "#### 7.14 - Exiba o valor 'jato'"
   ]
  },
  {
   "cell_type": "code",
   "execution_count": null,
   "metadata": {},
   "outputs": [],
   "source": [
    "meios_de_transporte = { 'chave_1' : 'jato',\n",
    "                        'chave_2' : 'notebook',\n",
    "                        'chave_3' : 'avião',\n",
    "                        'chave_4' : 'youtube'}\n",
    "# Desenvolva seu código aqui\n",
    "\n"
   ]
  },
  {
   "attachments": {},
   "cell_type": "markdown",
   "metadata": {},
   "source": [
    "#### 7.14 - Exiba o valor 'youtube'"
   ]
  },
  {
   "cell_type": "code",
   "execution_count": null,
   "metadata": {},
   "outputs": [],
   "source": [
    "meios_de_transporte = { 'chave_1' : 'jato',\n",
    "                        'chave_2' : 'notebook',\n",
    "                        'chave_3' : 'avião',\n",
    "                        'chave_4' : 'youtube'}\n",
    "# Desenvolva seu código aqui\n",
    "\n"
   ]
  },
  {
   "attachments": {},
   "cell_type": "markdown",
   "metadata": {},
   "source": [
    "#### 7.15 - Exiba o valor 'instagram'"
   ]
  },
  {
   "cell_type": "code",
   "execution_count": null,
   "metadata": {},
   "outputs": [],
   "source": [
    "redes_sociais = {'redes':['Tik Tok', 'instagram', 'Facebook']}\n",
    "\n",
    "# Desenvolva seu código aqui\n",
    "\n"
   ]
  },
  {
   "attachments": {},
   "cell_type": "markdown",
   "metadata": {},
   "source": [
    "#### 7.16 - Exiba o valor 18000"
   ]
  },
  {
   "cell_type": "code",
   "execution_count": null,
   "metadata": {},
   "outputs": [],
   "source": [
    "pessoa = {  'nome' : 'Gizele',\n",
    "            'idade' : 23,\n",
    "            'cargo' : { 'empresa' : 'Gazeta',\n",
    "                        'especificação' : 'Gerente de Marketing',\n",
    "                        'departamento' : 'Marketing Digital',\n",
    "                        'remuneração' : 18000\n",
    "                        }\n",
    "        }\n",
    "\n",
    "# Desenvolva seu código aqui\n",
    "\n"
   ]
  },
  {
   "attachments": {},
   "cell_type": "markdown",
   "metadata": {},
   "source": [
    "#### 7.17 - Exiba a palavra 'tablet'"
   ]
  },
  {
   "cell_type": "code",
   "execution_count": null,
   "metadata": {},
   "outputs": [],
   "source": [
    "dicionario_maluco = {\n",
    "    'chave_1' :[1,2,{'chave_2':['tablet','celular']}]\n",
    "}\n",
    "# Desenvolva seu código aqui\n",
    "\n",
    "\n"
   ]
  },
  {
   "attachments": {},
   "cell_type": "markdown",
   "metadata": {},
   "source": [
    "#### 7.18 - Exiba a frase 'Eu Consigo!'\n",
    "    Crie uma variável para receber o valor 'Eu'\n",
    "    Crie uma variável para receber o valor 'consigo'\n",
    "    Crie uma variável para receber o valor ' '\n",
    "    Crie uma variável para receber o valor '!'\n",
    "    Exiba a frase completa"
   ]
  },
  {
   "cell_type": "code",
   "execution_count": null,
   "metadata": {},
   "outputs": [],
   "source": [
    "meu_dicionario = {'chave1':123,'chave2':[12,'Eu',33],'chave3':['item0','consigo',{'chave4':{'chave5':[' ','item1', '!']}}]}\n",
    "\n",
    "# Desenvolva seu código aqui\n",
    "\n",
    "\n",
    "\n",
    "\n"
   ]
  },
  {
   "attachments": {},
   "cell_type": "markdown",
   "metadata": {},
   "source": [
    "#### 7.19- Exiba a frase 'Foi moleza aprender dicionários e listas!'\n",
    "    Crie uma variável para receber cada palavra\n",
    "    Exiba a frase completa"
   ]
  },
  {
   "cell_type": "code",
   "execution_count": null,
   "metadata": {},
   "outputs": [],
   "source": [
    "meu_dicionario = {  'chave1':{'outra_chave':['Foi', 'k']},\n",
    "                    'chave2':['!','moleza',13],\n",
    "                    'chave3':['listas', 'e', 'aprender',{'chave4':{'chave5':[' ', 'dicionarios']}}]}\n",
    "# Desenvolva seu código aqui\n",
    "\n"
   ]
  },
  {
   "attachments": {},
   "cell_type": "markdown",
   "metadata": {},
   "source": [
    "#### 7.20 - Tabuada da multiplicação ou divisão\n",
    "\n",
    "* Cria uma variável que irá receber um valor numérico;\n",
    "* Exiba a tabuada da multiplicação do número se o número for par.\n",
    "* Exiba a tabuada da divisão do número se o número for ímpar.\n",
    "\n",
    "EX: numero = 5, o texto exibido será:\n",
    "* 5 / 1 = 5 \n",
    "* 5 / 2 = 2.5\n",
    "* 5 / 3 = 1.6666666\n",
    "* 5 / 4 = 1.25\n",
    "* 5 / 5 = 1\n",
    "* 5 / 6 = 0.8333333\n",
    "* 5 / 7 = 0.7142857\n",
    "* 5 / 8 = 0.625\n",
    "* 5 / 9 = 0.5555555\n",
    "* 5 / 10 = 0.5\n",
    "#\n",
    "EX: numero = 6, o texto exibido será:\n",
    "* 6 x 1 = 6 \n",
    "* 6 x 2 = 12\n",
    "* 6 x 3 = 18\n",
    "* 6 x 4 = 24\n",
    "* 6 x 5 = 30\n",
    "* 6 x 6 = 36\n",
    "* 6 x 7 = 42\n",
    "* 6 x 8 = 48\n",
    "* 6 x 9 = 54\n",
    "* 6 x 10 = 60\n",
    "#\n",
    "Caso o número seja alterado, os textos e os resultados também devem ser alterados \n",
    "\n",
    "\n"
   ]
  },
  {
   "cell_type": "code",
   "execution_count": null,
   "metadata": {},
   "outputs": [],
   "source": [
    "# Desenvolva sua resposta aqui\n",
    "\n",
    "\n",
    "\n",
    "\n",
    "\n",
    "\n",
    "\n",
    "\n",
    "\n"
   ]
  },
  {
   "attachments": {},
   "cell_type": "markdown",
   "metadata": {},
   "source": [
    "#### 7.21 - Contar quantos números pares e ímpares existem na lista_varios_numeros:\n",
    "\n",
    "Use um loop for para percorrer os valores da lista, uma condicional para verificar se o número é par e uma variável que recebe mais um valor (um contador) se a condicional for verdadeira"
   ]
  },
  {
   "cell_type": "code",
   "execution_count": null,
   "metadata": {},
   "outputs": [],
   "source": [
    "lista_varios_numeros = [11,15,67,34,87,3345,68,654,5489,15,15,158,231,87,6,54,121,\n",
    "                       981,3284981,548,45,56,85,0,1874,1,64,8,1,515,15,15,12,30,330,\n",
    "                       87841,520,1,8,53,1,5,4,78,95610,20,68,76,15,18,15,34,72,15]\n",
    "\n",
    "# Desenvolva seu código aqui embaixo\n",
    "\n",
    "\n",
    "\n",
    "\n"
   ]
  }
 ],
 "metadata": {
  "kernelspec": {
   "display_name": "Python 3.9.7 ('base')",
   "language": "python",
   "name": "python3"
  },
  "language_info": {
   "codemirror_mode": {
    "name": "ipython",
    "version": 3
   },
   "file_extension": ".py",
   "mimetype": "text/x-python",
   "name": "python",
   "nbconvert_exporter": "python",
   "pygments_lexer": "ipython3",
   "version": "3.9.7"
  },
  "orig_nbformat": 4,
  "vscode": {
   "interpreter": {
    "hash": "067f175f07fc265aa8d145419b6335739ee65af91da4abf8cfbfc48bca5c9b8b"
   }
  }
 },
 "nbformat": 4,
 "nbformat_minor": 2
}
