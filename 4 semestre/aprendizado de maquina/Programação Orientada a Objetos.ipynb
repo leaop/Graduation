{
 "cells": [
  {
   "cell_type": "markdown",
   "metadata": {},
   "source": [
    "# Introdução à Programação Orientada a Objetos\n",
    "\n",
    "## 1. Conceitos Básicos de POO\n",
    "\n",
    "### Objetivos:\n",
    "- Apresentar os conceitos fundamentais da Programação Orientada a Objetos (POO).\n",
    "- Explicar o que são classes e objetos.\n",
    "- Descrever a estrutura de uma classe: métodos, atributos, construtor `__init__`.\n",
    "\n",
    "### Conteúdo:\n",
    "\n",
    "#### A. Classes e Objetos\n",
    "- Uma **classe** é um modelo ou blueprint para criar objetos.\n",
    "- Um **objeto** é uma instância de uma classe.\n",
    "\n",
    "#### B. Estrutura de uma Classe\n",
    "- **Atributos**: Variáveis que armazenam dados relacionados a objetos.\n",
    "- **Métodos**: Funções definidas dentro de uma classe que descrevem os comportamentos dos objetos.\n",
    "- **Construtor `__init__`**: Método especial usado para inicializar os atributos de um objeto.\n",
    "\n",
    "### Exemplo de Código:"
   ]
  },
  {
   "cell_type": "code",
   "execution_count": null,
   "metadata": {},
   "outputs": [],
   "source": [
    "# Exemplo de uma classe em Python\n",
    "\n",
    "class Carro:\n",
    "    # Construtor da classe\n",
    "    def __init__(self, marca, modelo):\n",
    "        # Atributos da classe\n",
    "        self.marca = marca\n",
    "        self.modelo = modelo\n",
    "\n",
    "    # Método da classe\n",
    "    def exibir_informacoes(self):\n",
    "        return f\"Marca: {self.marca}, Modelo: {self.modelo}\"\n",
    "\n",
    "# Criando um objeto da classe Carro\n",
    "meu_carro = Carro(\"Toyota\", \"Corolla\")\n",
    "\n",
    "# Chamando um método do objeto\n",
    "print(meu_carro.exibir_informacoes())  # Saída: Marca: Toyota, Modelo: Corolla"
   ]
  },
  {
   "cell_type": "markdown",
   "metadata": {},
   "source": [
    "# Introdução à Programação Orientada a Objetos\n",
    "\n",
    "## 2. Herança e Polimorfismo\n",
    "\n",
    "### Objetivos:\n",
    "- Explicar o conceito de herança em Programação Orientada a Objetos.\n",
    "\n",
    "### Conteúdo:\n",
    "\n",
    "#### A. Herança\n",
    "- Herança permite a criação de uma nova classe que é uma versão modificada de uma classe existente.\n",
    "- A nova classe, chamada de classe filha, herda atributos e métodos da classe pai.\n",
    "\n",
    "\n",
    "### Exemplo de Código:"
   ]
  },
  {
   "cell_type": "code",
   "execution_count": null,
   "metadata": {},
   "outputs": [],
   "source": [
    "# Exemplo de herança e polimorfismo em Python\n",
    "\n",
    "# Classe pai\n",
    "class Veiculo:\n",
    "    def __init__(self, marca, modelo):\n",
    "        self.marca = marca\n",
    "        self.modelo = modelo\n",
    "\n",
    "    def exibir_informacoes(self):\n",
    "        return f\"Veículo: {self.marca} {self.modelo}\"\n",
    "\n",
    "# Classe filha que herda de Veiculo\n",
    "class Carro(Veiculo):\n",
    "    def __init__(self, marca, modelo, portas):\n",
    "        super().__init__(marca, modelo)\n",
    "        self.portas = portas\n",
    "\n",
    "    # Método sobrescrito\n",
    "    def exibir_informacoes(self):\n",
    "        return f\"Carro: {self.marca} {self.modelo}, Portas: {self.portas}\"\n",
    "\n",
    "# Criando objetos das classes Veiculo e Carro\n",
    "veiculo = Veiculo(\"Honda\", \"Civic\")\n",
    "carro = Carro(\"Ford\", \"Focus\", 4)\n",
    "\n",
    "# Polimorfismo: ambos os objetos podem usar o método exibir_informacoes\n",
    "print(veiculo.exibir_informacoes())  # Saída: Veículo: Honda Civic\n",
    "print(carro.exibir_informacoes())    # Saída: Carro: Ford Focus, Portas: 4"
   ]
  },
  {
   "cell_type": "markdown",
   "metadata": {},
   "source": [
    "## 3. Encapsulamento e Métodos Especiais\n",
    "\n",
    "### Objetivos:\n",
    "- **Explicar o conceito de encapsulamento em POO**: Encapsulamento é um dos princípios fundamentais da programação orientada a objetos. Envolve a ideia de restringir o acesso a certos componentes de uma classe, o que significa que o estado interno de um objeto deve ser protegido de ser acessado diretamente de fora da classe.\n",
    "- **Discutir o uso de métodos especiais em Python**: Métodos especiais são funções que têm nomes de método duplo sublinhado (como `__init__`, `__str__`, e `__repr__`). Eles são usados para realizar operações especiais em Python ou para alterar comportamentos padrão de operações.\n",
    "\n",
    "### Conteúdo:\n",
    "\n",
    "#### A. Encapsulamento\n",
    "- **Restringindo Acesso**: Encapsulamento em POO é implementado usando métodos e variáveis privados (indicados em Python por dois sublinhados antes do nome, como `__nome`). Isso previne a modificação direta dos estados internos do objeto e permite o controle sobre como esses estados são acessados ou alterados.\n",
    "- **Métodos de Acesso**: Métodos públicos são usados para acessar ou modificar dados privados. Esses métodos formam a interface pública da classe e abstraem a implementação interna.\n",
    "\n",
    "#### B. Métodos Especiais\n",
    "- **Definindo Comportamentos Específicos**: Métodos especiais permitem que objetos Python imitem comportamentos de tipos integrados ou implementem funcionalidades específicas. Por exemplo, `__str__` define a representação informal do objeto (string amigável), enquanto `__repr__` define a representação oficial (mais formal, muitas vezes usada para depuração).\n",
    "\n",
    "### Exemplo de Código:"
   ]
  },
  {
   "cell_type": "code",
   "execution_count": null,
   "metadata": {},
   "outputs": [],
   "source": [
    "# Exemplo de encapsulamento e métodos especiais em Python\n",
    "\n",
    "class Produto:\n",
    "    # O construtor da classe define atributos privados\n",
    "    def __init__(self, nome, preco):\n",
    "        self.__nome = nome  # Atributo privado: nome do produto\n",
    "        self.__preco = preco  # Atributo privado: preço do produto\n",
    "\n",
    "    # Método público para acessar o preço do produto de forma segura\n",
    "    def get_preco(self):\n",
    "        return self.__preco\n",
    "\n",
    "    # Método especial __str__ para definir a representação em string do objeto\n",
    "    def __str__(self):\n",
    "        return f\"Produto: {self.__nome}, Preço: {self.__preco}\"\n",
    "\n",
    "    # Método especial __repr__ para fornecer uma representação oficial do objeto\n",
    "    def __repr__(self):\n",
    "        return f\"Produto('{self.__nome}', {self.__preco})\"\n",
    "\n",
    "# Criando um objeto da classe Produto\n",
    "produto = Produto(\"Caneta\", 1.50)\n",
    "\n",
    "# Demonstrando o uso do método __str__\n",
    "print(produto)  # Saída esperada: Produto: Caneta, Preço: 1.50\n",
    "\n",
    "# Demonstrando o uso do método __repr__\n",
    "print(repr(produto))  # Saída esperada: Produto('Caneta', 1.50)\n"
   ]
  },
  {
   "cell_type": "markdown",
   "metadata": {},
   "source": [
    "# Parte 4: Prática de POO\n",
    "\n",
    "## 1. Exercícios Práticos de POO\n",
    "\n",
    "### Objetivos:\n",
    "- Propor exercícios práticos que envolvam a criação de classes, o uso de herança e polimorfismo.\n",
    "- Incluir desafios que incentivem a aplicação dos conceitos de encapsulamento.\n",
    "\n",
    "### Conteúdo:\n",
    "\n",
    "#### A. Exercícios de Criação de Classes e Herança\n",
    "1. Criar uma classe `Animal` com um método `emitir_som` e classes filhas que representem diferentes animais.\n",
    "2. Implementar uma classe `Veiculo` e classes derivadas como `Carro` e `Moto`, com atributos e métodos específicos.\n",
    "\n",
    "#### B. Desafios de Encapsulamento\n",
    "1. Adicionar atributos privados em uma classe existente e criar métodos públicos para acessá-los.\n",
    "2. Modificar uma classe para incluir métodos especiais, como `__str__` e `__repr__`.\n",
    "\n",
    "### Exemplos de Código para os Exercícios:"
   ]
  },
  {
   "cell_type": "markdown",
   "metadata": {},
   "source": [
    "# Exemplos práticos:"
   ]
  },
  {
   "cell_type": "markdown",
   "metadata": {},
   "source": [
    "Criação de Classes e Herança \n",
    "\n",
    "1. Criar uma classe `Animal` com um método `emitir_som` e classes filhas que representem diferentes animais."
   ]
  },
  {
   "cell_type": "code",
   "execution_count": null,
   "metadata": {},
   "outputs": [],
   "source": [
    "# Exemplo para Exercício A.1\n",
    "class Animal:\n",
    "    def emitir_som(self):\n",
    "        pass\n",
    "\n",
    "class Cachorro(Animal):\n",
    "    def emitir_som(self):\n",
    "        return \"Au Au\"\n",
    "\n",
    "class Gato(Animal):\n",
    "    def emitir_som(self):\n",
    "        return \"Miau\""
   ]
  },
  {
   "cell_type": "code",
   "execution_count": null,
   "metadata": {},
   "outputs": [],
   "source": [
    "Cachorro().emitir_som()"
   ]
  },
  {
   "cell_type": "code",
   "execution_count": null,
   "metadata": {},
   "outputs": [],
   "source": [
    "Gato().emitir_som()"
   ]
  },
  {
   "cell_type": "markdown",
   "metadata": {},
   "source": [
    "Criação de Classes e Herança\n",
    "\n",
    "2. Implementar uma classe `Veiculo` e classes derivadas como `Carro` e `Moto`, com atributos e métodos específicos."
   ]
  },
  {
   "cell_type": "code",
   "execution_count": null,
   "metadata": {},
   "outputs": [],
   "source": [
    "# Exemplo para Exercício A.2\n",
    "class Veiculo:\n",
    "    def __init__(self, marca, modelo):\n",
    "        self.marca = marca\n",
    "        self.modelo = modelo\n",
    "\n",
    "class Carro(Veiculo):\n",
    "    def buzinar(self):\n",
    "        return \"Buzina de Carro\"\n",
    "\n",
    "class Moto(Veiculo):\n",
    "    def buzinar(self):\n",
    "        return \"Buzina de Moto\""
   ]
  },
  {
   "cell_type": "code",
   "execution_count": null,
   "metadata": {},
   "outputs": [],
   "source": [
    "# Criando instâncias de Carro\n",
    "meu_carro = Carro(\"Toyota\", \"Corolla\")\n",
    "\n",
    "# Chamando o método buzinar\n",
    "print(f\"Carro: {meu_carro.buzinar()}\")  # Saída esperada: Carro: Buzina de Carro"
   ]
  },
  {
   "cell_type": "code",
   "execution_count": null,
   "metadata": {},
   "outputs": [],
   "source": [
    "# Criando instâncias de Moto\n",
    "minha_moto = Moto(\"Honda\", \"CBR\")\n",
    "\n",
    "# Chamando o método buzinar\n",
    "print(f\"Moto: {minha_moto.buzinar()}\")  # Saída esperada: Moto: Buzina de Moto"
   ]
  },
  {
   "cell_type": "markdown",
   "metadata": {},
   "source": [
    "Desafios de Encapsulamento\n",
    "1. Adicionar atributos privados em uma classe existente e criar métodos públicos para acessá-los."
   ]
  },
  {
   "cell_type": "code",
   "execution_count": null,
   "metadata": {},
   "outputs": [],
   "source": [
    "# Definição da classe Produto com encapsulamento\n",
    "class Produto:\n",
    "    def __init__(self, nome, preco):\n",
    "        self.__nome = nome  # Atributo privado: nome\n",
    "        self.__preco = preco  # Atributo privado: preco\n",
    "\n",
    "    # Método público para acessar o nome do produto\n",
    "    def get_nome(self):\n",
    "        return self.__nome\n",
    "\n",
    "    # Método público para acessar o preço do produto\n",
    "    def get_preco(self):\n",
    "        return self.__preco\n",
    "\n",
    "# Criando uma instância da classe Produto\n",
    "produto = Produto(\"Caneta\", 1.50)\n",
    "\n",
    "# Acessando os atributos privados através dos métodos públicos\n",
    "print(f\"Nome do Produto: {produto.get_nome()}\")  # Saída esperada: Nome do Produto: Caneta\n",
    "print(f\"Preço do Produto: {produto.get_preco()}\")  # Saída esperada: Preço do Produto: 1.50\n"
   ]
  },
  {
   "cell_type": "markdown",
   "metadata": {},
   "source": [
    "Desafios de Encapsulamento\n",
    "\n",
    "2. Modificar uma classe para incluir métodos especiais, como `__str__` e `__repr__`."
   ]
  },
  {
   "cell_type": "code",
   "execution_count": null,
   "metadata": {},
   "outputs": [],
   "source": [
    "# Definição da classe Pessoa com métodos especiais __str__ e __repr__\n",
    "class Pessoa:\n",
    "    def __init__(self, nome, idade):\n",
    "        self.nome = nome  # Atributo público: nome\n",
    "        self.idade = idade  # Atributo público: idade\n",
    "\n",
    "    # Método especial para representação em string (informal)\n",
    "    def __str__(self):\n",
    "        return f\"Pessoa: {self.nome}, Idade: {self.idade}\"\n",
    "\n",
    "    # Método especial para representação oficial (formal)\n",
    "    def __repr__(self):\n",
    "        return f\"Pessoa('{self.nome}', {self.idade})\"\n",
    "\n",
    "# Criando uma instância da classe Pessoa\n",
    "pessoa = Pessoa(\"Alice\", 30)\n",
    "\n",
    "# Imprimindo a instância (usa __str__)\n",
    "print(pessoa)  # Saída esperada: Pessoa: Alice, Idade: 30\n",
    "\n",
    "# Obtendo a representação oficial da instância (usa __repr__)\n",
    "print(repr(pessoa))  # Saída esperada: Pessoa('Alice', 30)\n"
   ]
  },
  {
   "cell_type": "markdown",
   "metadata": {},
   "source": [
    "# Exercícios de Programação Orientada a Objetos em Python\n"
   ]
  },
  {
   "cell_type": "markdown",
   "metadata": {},
   "source": [
    "\n",
    "## Conceitos Básicos de POO\n",
    "1. Crie uma classe chamada `Livro` com atributos `titulo` e `autor`. Adicione um método `__init__` para inicializar os atributos.\n",
    "\n",
    "2. Adicione um método `descrever` na classe `Livro` que imprime \"O livro [titulo] foi escrito por [autor].\"\n",
    "\n",
    "3. Crie uma instância da classe `Livro` e chame o método `descrever`.\n"
   ]
  },
  {
   "cell_type": "code",
   "execution_count": null,
   "metadata": {},
   "outputs": [],
   "source": []
  },
  {
   "cell_type": "code",
   "execution_count": null,
   "metadata": {},
   "outputs": [],
   "source": []
  },
  {
   "cell_type": "code",
   "execution_count": null,
   "metadata": {},
   "outputs": [],
   "source": []
  },
  {
   "cell_type": "markdown",
   "metadata": {},
   "source": [
    "\n",
    "## Herança e Polimorfismo\n",
    "4. Crie uma classe `Animal` com um método `emitir_som` que imprime \"Este animal faz um som.\"\n",
    "\n",
    "5. Crie duas subclasses de `Animal`: `Cachorro` e `Gato`. Sobrescreva o método `emitir_som` em ambas as subclasses para imprimir sons específicos.\n",
    "\n",
    "6. Crie instâncias de `Cachorro` e `Gato` e chame o método `emitir_som` em cada uma.\n"
   ]
  },
  {
   "cell_type": "code",
   "execution_count": null,
   "metadata": {},
   "outputs": [],
   "source": []
  },
  {
   "cell_type": "code",
   "execution_count": null,
   "metadata": {},
   "outputs": [],
   "source": []
  },
  {
   "cell_type": "code",
   "execution_count": null,
   "metadata": {},
   "outputs": [],
   "source": []
  },
  {
   "cell_type": "markdown",
   "metadata": {},
   "source": [
    "\n",
    "## Encapsulamento e Métodos Especiais\n",
    "7. Na classe `Livro`, torne os atributos `titulo` e `autor` privados e crie métodos `get_titulo` e `get_autor` para acessá-los.\n",
    "\n",
    "8. Adicione um método especial `__str__` à classe `Livro` que retorna \"Livro: [titulo] por [autor].\"\n",
    "\n",
    "9. Crie uma classe `Estante` com um atributo privado `livros` (uma lista) e métodos para adicionar e listar livros.\n",
    "\n",
    "10. Crie uma instância da classe `Estante`, adicione algumas instâncias de `Livro` e liste os livros na estante.\n"
   ]
  },
  {
   "cell_type": "code",
   "execution_count": null,
   "metadata": {},
   "outputs": [],
   "source": []
  },
  {
   "cell_type": "code",
   "execution_count": null,
   "metadata": {},
   "outputs": [],
   "source": []
  },
  {
   "cell_type": "code",
   "execution_count": null,
   "metadata": {},
   "outputs": [],
   "source": []
  },
  {
   "cell_type": "code",
   "execution_count": null,
   "metadata": {},
   "outputs": [],
   "source": []
  }
 ],
 "metadata": {
  "kernelspec": {
   "display_name": "base",
   "language": "python",
   "name": "python3"
  },
  "language_info": {
   "codemirror_mode": {
    "name": "ipython",
    "version": 3
   },
   "file_extension": ".py",
   "mimetype": "text/x-python",
   "name": "python",
   "nbconvert_exporter": "python",
   "pygments_lexer": "ipython3",
   "version": "3.9.13"
  }
 },
 "nbformat": 4,
 "nbformat_minor": 2
}
