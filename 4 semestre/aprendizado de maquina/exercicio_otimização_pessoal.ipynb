{
 "cells": [
  {
   "attachments": {},
   "cell_type": "markdown",
   "metadata": {},
   "source": [
    "# Introdução à Otimização de Hiperparâmetros\n",
    "\n",
    "Leão Pereira Neto\n",
    "\n",
    "R.A: 22200115\n"
   ]
  },
  {
   "cell_type": "code",
   "execution_count": 7,
   "metadata": {},
   "outputs": [],
   "source": [
    "from sklearn.linear_model import LogisticRegression\n",
    "\n",
    "# Criando um modelo de Regressão Logística\n",
    "modelo = LogisticRegression()"
   ]
  },
  {
   "cell_type": "code",
   "execution_count": 8,
   "metadata": {},
   "outputs": [],
   "source": [
    "# Carregando dataset do sklearn\n",
    "from sklearn.datasets import load_digits\n",
    "from sklearn.model_selection import train_test_split\n",
    "from keras.models import Sequential\n",
    "from keras.layers import Dense\n",
    "import numpy as np\n",
    "import pandas as pd\n",
    "\n",
    "#Carregando o dataset de dígitos\n",
    "data = pd.read_csv('exams.csv')\n"
   ]
  },
  {
   "cell_type": "code",
   "execution_count": 9,
   "metadata": {},
   "outputs": [
    {
     "data": {
      "text/html": [
       "<div>\n",
       "<style scoped>\n",
       "    .dataframe tbody tr th:only-of-type {\n",
       "        vertical-align: middle;\n",
       "    }\n",
       "\n",
       "    .dataframe tbody tr th {\n",
       "        vertical-align: top;\n",
       "    }\n",
       "\n",
       "    .dataframe thead th {\n",
       "        text-align: right;\n",
       "    }\n",
       "</style>\n",
       "<table border=\"1\" class=\"dataframe\">\n",
       "  <thead>\n",
       "    <tr style=\"text-align: right;\">\n",
       "      <th></th>\n",
       "      <th>gender</th>\n",
       "      <th>race/ethnicity</th>\n",
       "      <th>parental level of education</th>\n",
       "      <th>lunch</th>\n",
       "      <th>test preparation course</th>\n",
       "      <th>math score</th>\n",
       "      <th>reading score</th>\n",
       "      <th>writing score</th>\n",
       "    </tr>\n",
       "  </thead>\n",
       "  <tbody>\n",
       "    <tr>\n",
       "      <th>0</th>\n",
       "      <td>female</td>\n",
       "      <td>group E</td>\n",
       "      <td>associate's degree</td>\n",
       "      <td>standard</td>\n",
       "      <td>none</td>\n",
       "      <td>78</td>\n",
       "      <td>67</td>\n",
       "      <td>69</td>\n",
       "    </tr>\n",
       "    <tr>\n",
       "      <th>1</th>\n",
       "      <td>female</td>\n",
       "      <td>group E</td>\n",
       "      <td>high school</td>\n",
       "      <td>standard</td>\n",
       "      <td>completed</td>\n",
       "      <td>81</td>\n",
       "      <td>77</td>\n",
       "      <td>90</td>\n",
       "    </tr>\n",
       "    <tr>\n",
       "      <th>2</th>\n",
       "      <td>female</td>\n",
       "      <td>group D</td>\n",
       "      <td>some college</td>\n",
       "      <td>free/reduced</td>\n",
       "      <td>completed</td>\n",
       "      <td>32</td>\n",
       "      <td>52</td>\n",
       "      <td>52</td>\n",
       "    </tr>\n",
       "    <tr>\n",
       "      <th>3</th>\n",
       "      <td>male</td>\n",
       "      <td>group D</td>\n",
       "      <td>high school</td>\n",
       "      <td>standard</td>\n",
       "      <td>none</td>\n",
       "      <td>44</td>\n",
       "      <td>37</td>\n",
       "      <td>37</td>\n",
       "    </tr>\n",
       "    <tr>\n",
       "      <th>4</th>\n",
       "      <td>female</td>\n",
       "      <td>group B</td>\n",
       "      <td>bachelor's degree</td>\n",
       "      <td>free/reduced</td>\n",
       "      <td>completed</td>\n",
       "      <td>60</td>\n",
       "      <td>69</td>\n",
       "      <td>69</td>\n",
       "    </tr>\n",
       "  </tbody>\n",
       "</table>\n",
       "</div>"
      ],
      "text/plain": [
       "   gender race/ethnicity parental level of education         lunch   \n",
       "0  female        group E          associate's degree      standard  \\\n",
       "1  female        group E                 high school      standard   \n",
       "2  female        group D                some college  free/reduced   \n",
       "3    male        group D                 high school      standard   \n",
       "4  female        group B           bachelor's degree  free/reduced   \n",
       "\n",
       "  test preparation course  math score  reading score  writing score  \n",
       "0                    none          78             67             69  \n",
       "1               completed          81             77             90  \n",
       "2               completed          32             52             52  \n",
       "3                    none          44             37             37  \n",
       "4               completed          60             69             69  "
      ]
     },
     "execution_count": 9,
     "metadata": {},
     "output_type": "execute_result"
    }
   ],
   "source": [
    "data.head()"
   ]
  },
  {
   "cell_type": "code",
   "execution_count": 10,
   "metadata": {},
   "outputs": [
    {
     "data": {
      "text/html": [
       "<div>\n",
       "<style scoped>\n",
       "    .dataframe tbody tr th:only-of-type {\n",
       "        vertical-align: middle;\n",
       "    }\n",
       "\n",
       "    .dataframe tbody tr th {\n",
       "        vertical-align: top;\n",
       "    }\n",
       "\n",
       "    .dataframe thead th {\n",
       "        text-align: right;\n",
       "    }\n",
       "</style>\n",
       "<table border=\"1\" class=\"dataframe\">\n",
       "  <thead>\n",
       "    <tr style=\"text-align: right;\">\n",
       "      <th></th>\n",
       "      <th>math score</th>\n",
       "      <th>reading score</th>\n",
       "      <th>writing score</th>\n",
       "    </tr>\n",
       "  </thead>\n",
       "  <tbody>\n",
       "    <tr>\n",
       "      <th>count</th>\n",
       "      <td>1000.00000</td>\n",
       "      <td>1000.000000</td>\n",
       "      <td>1000.000000</td>\n",
       "    </tr>\n",
       "    <tr>\n",
       "      <th>mean</th>\n",
       "      <td>66.29500</td>\n",
       "      <td>69.839000</td>\n",
       "      <td>68.606000</td>\n",
       "    </tr>\n",
       "    <tr>\n",
       "      <th>std</th>\n",
       "      <td>14.77492</td>\n",
       "      <td>14.491276</td>\n",
       "      <td>15.130092</td>\n",
       "    </tr>\n",
       "    <tr>\n",
       "      <th>min</th>\n",
       "      <td>19.00000</td>\n",
       "      <td>25.000000</td>\n",
       "      <td>20.000000</td>\n",
       "    </tr>\n",
       "    <tr>\n",
       "      <th>25%</th>\n",
       "      <td>56.00000</td>\n",
       "      <td>60.000000</td>\n",
       "      <td>59.000000</td>\n",
       "    </tr>\n",
       "    <tr>\n",
       "      <th>50%</th>\n",
       "      <td>66.00000</td>\n",
       "      <td>70.000000</td>\n",
       "      <td>69.000000</td>\n",
       "    </tr>\n",
       "    <tr>\n",
       "      <th>75%</th>\n",
       "      <td>77.00000</td>\n",
       "      <td>80.000000</td>\n",
       "      <td>80.000000</td>\n",
       "    </tr>\n",
       "    <tr>\n",
       "      <th>max</th>\n",
       "      <td>100.00000</td>\n",
       "      <td>100.000000</td>\n",
       "      <td>100.000000</td>\n",
       "    </tr>\n",
       "  </tbody>\n",
       "</table>\n",
       "</div>"
      ],
      "text/plain": [
       "       math score  reading score  writing score\n",
       "count  1000.00000    1000.000000    1000.000000\n",
       "mean     66.29500      69.839000      68.606000\n",
       "std      14.77492      14.491276      15.130092\n",
       "min      19.00000      25.000000      20.000000\n",
       "25%      56.00000      60.000000      59.000000\n",
       "50%      66.00000      70.000000      69.000000\n",
       "75%      77.00000      80.000000      80.000000\n",
       "max     100.00000     100.000000     100.000000"
      ]
     },
     "execution_count": 10,
     "metadata": {},
     "output_type": "execute_result"
    }
   ],
   "source": [
    "data.describe()"
   ]
  },
  {
   "cell_type": "code",
   "execution_count": 14,
   "metadata": {},
   "outputs": [],
   "source": [
    "data.rename(columns={'writing score':'writing.score'}, inplace=True)"
   ]
  },
  {
   "cell_type": "code",
   "execution_count": 19,
   "metadata": {},
   "outputs": [
    {
     "data": {
      "image/png": "[encoded data removed]",
      "text/plain": [
       "<Figure size 640x480 with 1 Axes>"
      ]
     },
     "metadata": {},
     "output_type": "display_data"
    }
   ],
   "source": [
    "import matplotlib.pyplot as plt\n",
    "plt.hist(data['writing.score'], bins=10, edgecolor='black', color='green')  # Especifique o número de bins desejado\n",
    "plt.xlabel('Writing Score')\n",
    "plt.ylabel('Frequency')\n",
    "plt.title('Histogram of Writing Score')\n",
    "plt.show()"
   ]
  },
  {
   "cell_type": "code",
   "execution_count": null,
   "metadata": {},
   "outputs": [],
   "source": []
  },
  {
   "cell_type": "code",
   "execution_count": null,
   "metadata": {},
   "outputs": [],
   "source": [
    "X = data"
   ]
  },
  {
   "cell_type": "code",
   "execution_count": null,
   "metadata": {},
   "outputs": [],
   "source": [
    "X.shape"
   ]
  },
  {
   "cell_type": "code",
   "execution_count": null,
   "metadata": {},
   "outputs": [],
   "source": [
    "y.shape"
   ]
  },
  {
   "cell_type": "code",
   "execution_count": null,
   "metadata": {},
   "outputs": [],
   "source": [
    "np.unique(y)"
   ]
  },
  {
   "cell_type": "code",
   "execution_count": null,
   "metadata": {},
   "outputs": [],
   "source": [
    "# Dividindo em conjuntos de treinamento e teste\n",
    "X_train, X_test, y_train, y_test = train_test_split(X, y, test_size=0.2, random_state=42)\n",
    "\n",
    "# Criando uma rede neural simples\n",
    "model = Sequential()\n",
    "model.add(Dense(4, input_dim=X_train.shape[1], activation='relu'))\n",
    "model.add(Dense(2, activation='relu'))\n",
    "model.add(Dense(64, activation='relu'))\n",
    "model.add(Dense(10, activation='softmax'))\n",
    "\n",
    "# Compilando e treinando o modelo\n",
    "model.compile(loss='sparse_categorical_crossentropy', optimizer='adam', metrics=['accuracy'])\n",
    "model.fit(X_train, y_train, epochs=10, batch_size=32, verbose=0)"
   ]
  },
  {
   "cell_type": "code",
   "execution_count": null,
   "metadata": {},
   "outputs": [],
   "source": [
    "# Mostrando alguns parâmetros (pesos) da primeira camada\n",
    "weights_first_layer = model.layers[0].get_weights()[0]\n",
    "print(\"Pesos da primeira camada:\\n\", weights_first_layer)"
   ]
  },
  {
   "cell_type": "code",
   "execution_count": null,
   "metadata": {},
   "outputs": [],
   "source": [
    "weights_first_layer.shape"
   ]
  },
  {
   "cell_type": "code",
   "execution_count": null,
   "metadata": {},
   "outputs": [],
   "source": [
    "# Definindo hiperparâmetros para uma rede neural\n",
    "learning_rate = 0.001\n",
    "batch_size = 32\n",
    "epochs = 50\n",
    "number_of_neurons_layer1 = 128\n",
    "number_of_neurons_layer2 = 64\n",
    "number_of_neurons_layer3 = 128\n",
    "activation_function = 'relu'\n",
    "\n",
    "# Criando um modelo usando os hiperparâmetros\n",
    "model = Sequential()\n",
    "model.add(Dense(number_of_neurons_layer1, input_dim=X_train.shape[1], activation=activation_function))\n",
    "model.add(Dense(number_of_neurons_layer2, activation=activation_function))\n",
    "model.add(Dense(number_of_neurons_layer3, activation=activation_function))\n",
    "model.add(Dense(10, activation='softmax'))\n",
    "\n",
    "# Treinando o modelo usando os hiperparâmetros\n",
    "model.compile(loss='sparse_categorical_crossentropy', optimizer='adam', metrics=['accuracy'])\n",
    "model.fit(X_train, y_train, epochs=epochs, batch_size=batch_size, verbose=0)\n"
   ]
  },
  {
   "cell_type": "code",
   "execution_count": null,
   "metadata": {},
   "outputs": [],
   "source": [
    "from sklearn.metrics import accuracy_score, precision_score, recall_score, f1_score, confusion_matrix\n",
    "import seaborn as sns\n",
    "import matplotlib.pyplot as plt\n",
    "\n",
    "def metricas_classificacao(y_real, y_pred):\n",
    "    # Calcular métricas\n",
    "    metrics = {\n",
    "        \"Acurácia\": accuracy_score(y_real, y_pred),\n",
    "        \"Precisão (macro)\": precision_score(y_real, y_pred, average='macro'),\n",
    "        \"Recall (macro)\": recall_score(y_real, y_pred, average='macro'),\n",
    "        \"F1-Score (macro)\": f1_score(y_real, y_pred, average='macro')\n",
    "    }\n",
    "    \n",
    "    # Printar métricas\n",
    "    for key, value in metrics.items():\n",
    "        print(f\"{key}: {value}\")\n",
    "\n",
    "    # Calcular a Matriz de Confusão\n",
    "    confusion_mat = confusion_matrix(y_real, y_pred)\n",
    "\n",
    "    # Printar Matriz de Confusão\n",
    "    print(\"Matriz de Confusão:\")\n",
    "    sns.heatmap(confusion_mat, annot=True, cmap='YlGnBu', fmt='g')\n",
    "    plt.xlabel('Previsto')\n",
    "    plt.ylabel('Real')\n",
    "    plt.show()\n",
    "\n",
    "    return metrics\n"
   ]
  },
  {
   "cell_type": "code",
   "execution_count": null,
   "metadata": {},
   "outputs": [],
   "source": [
    "# Importando as bibliotecas necessárias para construir o modelo da rede neural\n",
    "from keras.models import Sequential\n",
    "from keras.layers import Dense\n",
    "\n",
    "# Função que cria e retorna um modelo de rede neural\n",
    "def create_model(neurons1=128, neurons2=64, activation_function='relu'):\n",
    "    \n",
    "    # Inicializando o modelo sequencial\n",
    "    model = Sequential()\n",
    "    \n",
    "    # Adicionando a primeira camada oculta com o número de neurônios especificado (neurons1)\n",
    "    # 'input_dim' especifica o número de características de entrada\n",
    "    model.add(Dense(neurons1, input_dim=X_train.shape[1], activation=activation_function))\n",
    "    \n",
    "    # Adicionando a segunda camada oculta com o número de neurônios especificado (neurons2)\n",
    "    model.add(Dense(neurons2, activation=activation_function))\n",
    "    \n",
    "    # Adicionando a terceira camada oculta com 128 neurônios\n",
    "    model.add(Dense(128, activation=activation_function))\n",
    "    \n",
    "    # Adicionando a camada de saída com 10 neurônios (para um problema de classificação de 10 classes)\n",
    "    model.add(Dense(10, activation='softmax'))\n",
    "    \n",
    "    # Compilando o modelo - especificando o otimizador, a função de perda e a métrica de avaliação\n",
    "    model.compile(optimizer='adam', loss='sparse_categorical_crossentropy', metrics=['accuracy'])\n",
    "    \n",
    "    return model"
   ]
  },
  {
   "cell_type": "code",
   "execution_count": null,
   "metadata": {},
   "outputs": [],
   "source": [
    "# Importando o KerasClassifier que permite usar modelos Keras com scikit-learn\n",
    "from keras.wrappers.scikit_learn import KerasClassifier\n",
    "# Importando GridSearchCV para otimização de hiperparâmetros\n",
    "from sklearn.model_selection import GridSearchCV\n",
    "\n",
    "# Criando uma instância do KerasClassifier com a função de criação do modelo e especificando 20 épocas\n",
    "model_for_grid = KerasClassifier(build_fn=create_model, epochs=20, verbose=0)\n",
    "\n",
    "# Definindo a grade de hiperparâmetros que queremos testar\n",
    "param_grid = {\n",
    "    'neurons1': [64, 128, 256],                # diferentes quantidades de neurônios para a primeira camada\n",
    "    'neurons2': [64, 128, 256],                # diferentes quantidades de neurônios para a segunda camada\n",
    "    'activation_function': ['relu', 'tanh']  # diferentes funções de ativação\n",
    "}\n",
    "\n",
    "# Configurando o GridSearchCV com o modelo, a grade de parâmetros, e outras opções\n",
    "grid = GridSearchCV(estimator=model_for_grid, param_grid=param_grid, n_jobs=-1, cv=3)\n",
    "\n",
    "# Iniciando a busca pelos melhores hiperparâmetros usando o conjunto de treinamento\n",
    "grid_result = grid.fit(X_train, y_train)\n",
    "\n",
    "# Imprimindo os melhores hiperparâmetros encontrados\n",
    "print(f\"Melhores parâmetros: {grid_result.best_params_}\")"
   ]
  },
  {
   "cell_type": "code",
   "execution_count": null,
   "metadata": {},
   "outputs": [],
   "source": [
    "3 * 3 * 2 * 20"
   ]
  },
  {
   "cell_type": "code",
   "execution_count": null,
   "metadata": {},
   "outputs": [],
   "source": [
    "best_model = create_model(neurons1=128, neurons2=128, activation_function='relu')\n",
    "best_model.fit(X_train, y_train, epochs=20, verbose = 0)\n",
    "y_pred = np.argmax(best_model.predict(X_test), axis=1)\n",
    "metricas = metricas_classificacao(y_test, y_pred)"
   ]
  },
  {
   "cell_type": "code",
   "execution_count": null,
   "metadata": {},
   "outputs": [],
   "source": [
    "model = create_model(neurons1=64, neurons2=64, activation_function='relu')\n",
    "model.fit(X_train, y_train, epochs=20, verbose = 0)\n",
    "y_pred = np.argmax(model.predict(X_test), axis=1)\n",
    "metricas = metricas_classificacao(y_test, y_pred)"
   ]
  },
  {
   "cell_type": "code",
   "execution_count": null,
   "metadata": {},
   "outputs": [],
   "source": [
    "from sklearn.model_selection import RandomizedSearchCV\n",
    "\n",
    "# Definindo o espaço de hiperparâmetros\n",
    "param_dist = {\n",
    "    'neurons1': [64, 128, 256, 512],\n",
    "    'neurons2': [64, 128, 256, 512],\n",
    "    'activation_function': ['relu', 'tanh', 'softmax']\n",
    "}\n",
    "\n",
    "model_for_grid = KerasClassifier(build_fn=create_model, epochs=20, verbose=0)\n",
    "\n",
    "# Configurando o RandomizedSearchCV com 10 iterações\n",
    "random_search = RandomizedSearchCV(estimator=model_for_grid, param_distributions=param_dist, n_iter=10, n_jobs=-1, cv=3)\n",
    "\n",
    "# Iniciando a busca pelos melhores hiperparâmetros usando o conjunto de treinamento\n",
    "random_result = random_search.fit(X_train, y_train)\n",
    "\n",
    "# Imprimindo os melhores hiperparâmetros encontrados\n",
    "print(f\"Melhores parâmetros usando RandomizedSearchCV: {random_result.best_params_}\")\n"
   ]
  },
  {
   "cell_type": "code",
   "execution_count": null,
   "metadata": {},
   "outputs": [],
   "source": [
    "model = create_model(neurons1=128, neurons2=256, activation_function='relu')\n",
    "model.fit(X_train, y_train, epochs=20, verbose = 0)\n",
    "y_pred = np.argmax(model.predict(X_test), axis=1)\n",
    "metricas = metricas_classificacao(y_test, y_pred)"
   ]
  },
  {
   "cell_type": "code",
   "execution_count": null,
   "metadata": {},
   "outputs": [],
   "source": [
    "!pip install bayesian-optimization"
   ]
  },
  {
   "cell_type": "code",
   "execution_count": null,
   "metadata": {},
   "outputs": [],
   "source": [
    "# Importando a biblioteca necessária\n",
    "from bayes_opt import BayesianOptimization\n",
    "\n",
    "# Definindo a função objetivo que queremos otimizar.\n",
    "# Esta função treina um modelo com hiperparâmetros fornecidos e retorna a acurácia de validação.\n",
    "def objective_function(neurons1, neurons2, activation_index):\n",
    "    \n",
    "    # Mapeia os índices para suas respectivas funções de ativação.\n",
    "    activation_functions = ['relu', 'tanh']\n",
    "    activation_function = activation_functions[int(activation_index)]\n",
    "    \n",
    "    # Cria e compila o modelo usando os hiperparâmetros fornecidos.\n",
    "    model = create_model(int(neurons1), int(neurons2), activation_function)\n",
    "    \n",
    "    # Treina o modelo e obtém o histórico de treinamento.\n",
    "    history = model.fit(X_train, y_train, epochs=20, verbose=0, validation_split=0.2)\n",
    "    \n",
    "    # Obtém a acurácia de validação da última época.\n",
    "    val_accuracy = history.history['val_accuracy'][-1]\n",
    "    \n",
    "    return val_accuracy\n",
    "\n",
    "# Definindo os limites dos hiperparâmetros para a otimização bayesiana.\n",
    "# Os hiperparâmetros contínuos têm intervalos definidos (por exemplo, neurons1 entre 64 e 256).\n",
    "# Para hiperparâmetros categóricos, usamos índices (por exemplo, activation_index entre 0 e 1).\n",
    "pbounds = {\n",
    "    'neurons1': (64, 256),\n",
    "    'neurons2': (64, 256),\n",
    "    'activation_index': (0, 1)\n",
    "}\n",
    "\n",
    "# Inicializa o otimizador bayesiano com a função objetivo e os limites dos hiperparâmetros.\n",
    "optimizer = BayesianOptimization(\n",
    "    f=objective_function,     # Função objetivo definida anteriormente.\n",
    "    pbounds=pbounds,          # Limites dos hiperparâmetros.\n",
    "    random_state=1            # Semente para reprodutibilidade.\n",
    ")\n",
    "\n",
    "# Executa a otimização bayesiana.\n",
    "# 'init_points' define quantos pontos iniciais aleatórios serão testados antes da otimização começar.\n",
    "# 'n_iter' define quantas iterações de otimização serão executadas.\n",
    "optimizer.maximize(init_points=5, n_iter=10)\n",
    "\n",
    "# Exibe os melhores hiperparâmetros encontrados.\n",
    "print(f\"Melhores parâmetros usando otimização bayesiana: {optimizer.max['params']}\")"
   ]
  }
 ],
 "metadata": {
  "kernelspec": {
   "display_name": "base",
   "language": "python",
   "name": "python3"
  },
  "language_info": {
   "codemirror_mode": {
    "name": "ipython",
    "version": 3
   },
   "file_extension": ".py",
   "mimetype": "text/x-python",
   "name": "python",
   "nbconvert_exporter": "python",
   "pygments_lexer": "ipython3",
   "version": "3.11.4"
  },
  "orig_nbformat": 4
 },
 "nbformat": 4,
 "nbformat_minor": 2
}
