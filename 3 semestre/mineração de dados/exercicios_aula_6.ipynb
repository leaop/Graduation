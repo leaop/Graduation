{
  "cells": [
    {
      "cell_type": "markdown",
      "metadata": {
        "id": "view-in-github",
        "colab_type": "text"
      },
      "source": [
        "<a href=\"https://colab.research.google.com/github/leaop/Graduation/blob/main/exercicios_aula_6.ipynb\" target=\"_parent\"><img src=\"https://colab.research.google.com/assets/colab-badge.svg\" alt=\"Open In Colab\"/></a>"
      ]
    },
    {
      "cell_type": "code",
      "execution_count": null,
      "metadata": {
        "id": "1fYp4q6Y9Gbj"
      },
      "outputs": [],
      "source": [
        "import pandas as pd\n",
        "\n",
        "df = pd.read_csv('titanic.csv')"
      ]
    },
    {
      "cell_type": "markdown",
      "metadata": {
        "id": "tnez26Fl9Gbl"
      },
      "source": [
        "A base de dados Titanic representa informações sobre os passageiros do navio Titanic, que naufragou em 1912. A base contém informações como a classe em que o passageiro viajou, o sexo, a idade, o número de irmãos/cônjuges a bordo, o número de pais/filhos a bordo, a tarifa paga, o porto de embarque, se sobreviveu ou não, entre outras."
      ]
    },
    {
      "cell_type": "markdown",
      "metadata": {
        "id": "3kDdi5H09Gbn"
      },
      "source": [
        "# 1 - Qual a quantidade de passageiros que sobreviveram e que não sobreviveram?"
      ]
    },
    {
      "cell_type": "code",
      "execution_count": null,
      "metadata": {
        "id": "Sios4nVg9Gbn"
      },
      "outputs": [],
      "source": []
    },
    {
      "cell_type": "code",
      "execution_count": null,
      "metadata": {
        "id": "99vGOqAO9Gbn"
      },
      "outputs": [],
      "source": []
    },
    {
      "cell_type": "markdown",
      "metadata": {
        "id": "20NKg6799Gbn"
      },
      "source": [
        "# 2 - Qual a porcentagem de homens e a porcentagem de mulheres que sobreviveram?"
      ]
    },
    {
      "cell_type": "code",
      "execution_count": null,
      "metadata": {
        "id": "YYNp9zAI9Gbo"
      },
      "outputs": [],
      "source": []
    },
    {
      "cell_type": "code",
      "execution_count": null,
      "metadata": {
        "id": "ivKMnkwe9Gbo"
      },
      "outputs": [],
      "source": []
    },
    {
      "cell_type": "markdown",
      "metadata": {
        "id": "ipR10vxh9Gbo"
      },
      "source": [
        "# 3 - Qual a idade média dos passageiros?"
      ]
    },
    {
      "cell_type": "code",
      "execution_count": null,
      "metadata": {
        "id": "E6CN2hBd9Gbo"
      },
      "outputs": [],
      "source": []
    },
    {
      "cell_type": "code",
      "execution_count": null,
      "metadata": {
        "id": "ZrlWLKz59Gbo"
      },
      "outputs": [],
      "source": []
    },
    {
      "cell_type": "markdown",
      "metadata": {
        "id": "mZlgWLXV9Gbp"
      },
      "source": [
        "# 4 - Qual a tarifa média paga pelos passageiros?"
      ]
    },
    {
      "cell_type": "code",
      "execution_count": null,
      "metadata": {
        "id": "c-MWS1c39Gbp"
      },
      "outputs": [],
      "source": []
    },
    {
      "cell_type": "code",
      "execution_count": null,
      "metadata": {
        "id": "xz8W4Db_9Gbp"
      },
      "outputs": [],
      "source": []
    },
    {
      "cell_type": "markdown",
      "metadata": {
        "id": "4zVJfVeM9Gbp"
      },
      "source": [
        "# 5 - Qual a correlação entre a idade e a tarifa paga?"
      ]
    },
    {
      "cell_type": "code",
      "execution_count": null,
      "metadata": {
        "id": "xbzhv17X9Gbp"
      },
      "outputs": [],
      "source": []
    },
    {
      "cell_type": "code",
      "execution_count": null,
      "metadata": {
        "id": "RAEDijIj9Gbp"
      },
      "outputs": [],
      "source": []
    },
    {
      "cell_type": "markdown",
      "metadata": {
        "id": "Si89pAzL9Gbp"
      },
      "source": [
        "# 6 - Qual a correlação entre a classe em que o passageiro viajou e a chance de sobrevivência?"
      ]
    },
    {
      "cell_type": "code",
      "execution_count": null,
      "metadata": {
        "id": "Euj8l7Oc9Gbq"
      },
      "outputs": [],
      "source": []
    },
    {
      "cell_type": "code",
      "execution_count": null,
      "metadata": {
        "id": "6jsW1jfb9Gbq"
      },
      "outputs": [],
      "source": []
    },
    {
      "cell_type": "markdown",
      "metadata": {
        "id": "hRpIwcBu9Gbq"
      },
      "source": [
        "# 7 - Qual o número médio de irmãos/cônjuges a bordo para quem sobreviveu e para quem não sobreviveu?"
      ]
    },
    {
      "cell_type": "code",
      "execution_count": null,
      "metadata": {
        "id": "Yh6lAruX9Gbq"
      },
      "outputs": [],
      "source": []
    },
    {
      "cell_type": "code",
      "execution_count": null,
      "metadata": {
        "id": "CaaAdlTY9Gbq"
      },
      "outputs": [],
      "source": []
    },
    {
      "cell_type": "markdown",
      "metadata": {
        "id": "c0RweoKP9Gbq"
      },
      "source": [
        "# 8 - Qual o número médio de pais/filhos a bordo para quem sobreviveu e para quem não sobreviveu?"
      ]
    },
    {
      "cell_type": "code",
      "execution_count": null,
      "metadata": {
        "id": "NMya6O8R9Gbq"
      },
      "outputs": [],
      "source": []
    },
    {
      "cell_type": "code",
      "execution_count": null,
      "metadata": {
        "id": "HhX9VROD9Gbq"
      },
      "outputs": [],
      "source": []
    },
    {
      "cell_type": "markdown",
      "metadata": {
        "id": "xGuQeG3m9Gbq"
      },
      "source": [
        "# 9 - Qual a relação entre a tarifa paga e a chance de sobrevivência?"
      ]
    },
    {
      "cell_type": "code",
      "execution_count": null,
      "metadata": {
        "id": "xxthHKEZ9Gbq"
      },
      "outputs": [],
      "source": []
    },
    {
      "cell_type": "code",
      "execution_count": null,
      "metadata": {
        "id": "vsK2JvSh9Gbq"
      },
      "outputs": [],
      "source": []
    },
    {
      "cell_type": "markdown",
      "metadata": {
        "id": "qbODrBr09Gbr"
      },
      "source": [
        "# 10 - Qual o porto de embarque que teve mais passageiros a bordo?"
      ]
    },
    {
      "cell_type": "code",
      "execution_count": null,
      "metadata": {
        "id": "9CqU4VDx9Gbr"
      },
      "outputs": [],
      "source": []
    },
    {
      "cell_type": "code",
      "execution_count": null,
      "metadata": {
        "id": "vWO8FAl-9Gbr"
      },
      "outputs": [],
      "source": []
    },
    {
      "cell_type": "markdown",
      "metadata": {
        "id": "ECV6wT9S9Gbr"
      },
      "source": [
        "# 11 - Faça uma análise exploratória dos dados"
      ]
    },
    {
      "cell_type": "code",
      "execution_count": null,
      "metadata": {
        "id": "nQ1vIzdZ9Gbr"
      },
      "outputs": [],
      "source": []
    },
    {
      "cell_type": "code",
      "execution_count": null,
      "metadata": {
        "id": "HEP5yLP59Gbr"
      },
      "outputs": [],
      "source": []
    },
    {
      "cell_type": "markdown",
      "metadata": {
        "id": "B8vwEKuV9Gbr"
      },
      "source": [
        "# 12 - Faça o tratamento dos dados:\n",
        "- apagar colunas que não sejam relevantes para o modelo (qual(is) seria(m) esta(s) coluna(s)?)\n",
        "\n",
        "- Converter os valores textuais em numéricos (não existe somente uma forma para isto, mas já aprendemos a usar a função loc..)\n"
      ]
    },
    {
      "cell_type": "code",
      "execution_count": null,
      "metadata": {
        "id": "ImG19Z1h9Gbr"
      },
      "outputs": [],
      "source": []
    },
    {
      "cell_type": "code",
      "execution_count": null,
      "metadata": {
        "id": "-wN37_Dk9Gbr"
      },
      "outputs": [],
      "source": []
    },
    {
      "cell_type": "markdown",
      "metadata": {
        "id": "cwVgS8ER9Gbr"
      },
      "source": [
        "# 13 - Separe os dados em X e y de treinamento e teste.\n",
        "\n",
        "Note que a nossa classe alvo é a primeiro coluna, que informa se o passageiro sobreviveu ou não"
      ]
    },
    {
      "cell_type": "code",
      "execution_count": null,
      "metadata": {
        "id": "wJvxaM1s9Gbr"
      },
      "outputs": [],
      "source": []
    },
    {
      "cell_type": "code",
      "execution_count": null,
      "metadata": {
        "id": "N-LGh_3F9Gbr"
      },
      "outputs": [],
      "source": []
    },
    {
      "cell_type": "markdown",
      "metadata": {
        "id": "GYq4Gxet9Gbr"
      },
      "source": [
        "# 14 - Normalize apenas os atributos (X)."
      ]
    },
    {
      "cell_type": "code",
      "execution_count": null,
      "metadata": {
        "id": "o9TwfmYA9Gbs"
      },
      "outputs": [],
      "source": []
    },
    {
      "cell_type": "code",
      "execution_count": null,
      "metadata": {
        "id": "R9weV5Jt9Gbs"
      },
      "outputs": [],
      "source": []
    },
    {
      "cell_type": "markdown",
      "metadata": {
        "id": "VRYIoXUW9Gbs"
      },
      "source": [
        "# 15 - Use algum modelo de machine learning para prever a classe alvo"
      ]
    },
    {
      "cell_type": "code",
      "execution_count": null,
      "metadata": {
        "id": "rGIxx6rP9Gbs"
      },
      "outputs": [],
      "source": []
    },
    {
      "cell_type": "code",
      "execution_count": null,
      "metadata": {
        "id": "J20PEhQ09Gbs"
      },
      "outputs": [],
      "source": []
    },
    {
      "cell_type": "markdown",
      "metadata": {
        "id": "Q9X1Brp59Gbs"
      },
      "source": [
        "# 16 - Exiba a acurácia e a matriz de confusão"
      ]
    },
    {
      "cell_type": "code",
      "execution_count": null,
      "metadata": {
        "id": "i8bZkiE79Gbs"
      },
      "outputs": [],
      "source": []
    },
    {
      "cell_type": "code",
      "execution_count": null,
      "metadata": {
        "id": "cKZ6QzQh9Gbs"
      },
      "outputs": [],
      "source": []
    }
  ],
  "metadata": {
    "kernelspec": {
      "display_name": "tf",
      "language": "python",
      "name": "python3"
    },
    "language_info": {
      "codemirror_mode": {
        "name": "ipython",
        "version": 3
      },
      "file_extension": ".py",
      "mimetype": "text/x-python",
      "name": "python",
      "nbconvert_exporter": "python",
      "pygments_lexer": "ipython3",
      "version": "3.9.16"
    },
    "orig_nbformat": 4,
    "colab": {
      "provenance": [],
      "include_colab_link": true
    }
  },
  "nbformat": 4,
  "nbformat_minor": 0
}