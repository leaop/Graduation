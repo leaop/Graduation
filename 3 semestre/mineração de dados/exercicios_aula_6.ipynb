{
  "cells": [
    {
      "cell_type": "markdown",
      "metadata": {
        "colab_type": "text",
        "id": "view-in-github"
      },
      "source": [
        "<a href=\"https://colab.research.google.com/github/leaop/Graduation/blob/main/exercicios_aula_6.ipynb\" target=\"_parent\"><img src=\"https://colab.research.google.com/assets/colab-badge.svg\" alt=\"Open In Colab\"/></a>"
      ]
    },
    {
      "cell_type": "code",
      "execution_count": 3,
      "metadata": {
        "id": "1fYp4q6Y9Gbj"
      },
      "outputs": [],
      "source": [
        "import pandas as pd\n",
        "\n",
        "df = pd.read_csv('titanic.csv')"
      ]
    },
    {
      "cell_type": "markdown",
      "metadata": {
        "id": "tnez26Fl9Gbl"
      },
      "source": [
        "A base de dados Titanic representa informações sobre os passageiros do navio Titanic, que naufragou em 1912. A base contém informações como a classe em que o passageiro viajou, o sexo, a idade, o número de irmãos/cônjuges a bordo, o número de pais/filhos a bordo, a tarifa paga, o porto de embarque, se sobreviveu ou não, entre outras."
      ]
    },
    {
      "cell_type": "markdown",
      "metadata": {
        "id": "3kDdi5H09Gbn"
      },
      "source": [
        "# 1 - Qual a quantidade de passageiros que sobreviveram e que não sobreviveram?"
      ]
    },
    {
      "cell_type": "code",
      "execution_count": 4,
      "metadata": {
        "id": "Sios4nVg9Gbn"
      },
      "outputs": [
        {
          "data": {
            "text/html": [
              "<div>\n",
              "<style scoped>\n",
              "    .dataframe tbody tr th:only-of-type {\n",
              "        vertical-align: middle;\n",
              "    }\n",
              "\n",
              "    .dataframe tbody tr th {\n",
              "        vertical-align: top;\n",
              "    }\n",
              "\n",
              "    .dataframe thead th {\n",
              "        text-align: right;\n",
              "    }\n",
              "</style>\n",
              "<table border=\"1\" class=\"dataframe\">\n",
              "  <thead>\n",
              "    <tr style=\"text-align: right;\">\n",
              "      <th></th>\n",
              "      <th>Sobreviveu</th>\n",
              "      <th>Classe</th>\n",
              "      <th>Nome</th>\n",
              "      <th>Sexo</th>\n",
              "      <th>Idade</th>\n",
              "      <th>Irmãos/Cônjuges a bordo</th>\n",
              "      <th>Pais/Filhos a bordo</th>\n",
              "      <th>Tarifa</th>\n",
              "    </tr>\n",
              "  </thead>\n",
              "  <tbody>\n",
              "    <tr>\n",
              "      <th>0</th>\n",
              "      <td>Não</td>\n",
              "      <td>Terceira</td>\n",
              "      <td>Mr. Owen Harris Braund</td>\n",
              "      <td>Masculino</td>\n",
              "      <td>22.0</td>\n",
              "      <td>1</td>\n",
              "      <td>0</td>\n",
              "      <td>7.2500</td>\n",
              "    </tr>\n",
              "    <tr>\n",
              "      <th>1</th>\n",
              "      <td>Sim</td>\n",
              "      <td>Primeira</td>\n",
              "      <td>Mrs. John Bradley (Florence Briggs Thayer) Cum...</td>\n",
              "      <td>Feminino</td>\n",
              "      <td>38.0</td>\n",
              "      <td>1</td>\n",
              "      <td>0</td>\n",
              "      <td>71.2833</td>\n",
              "    </tr>\n",
              "    <tr>\n",
              "      <th>2</th>\n",
              "      <td>Sim</td>\n",
              "      <td>Terceira</td>\n",
              "      <td>Miss. Laina Heikkinen</td>\n",
              "      <td>Feminino</td>\n",
              "      <td>26.0</td>\n",
              "      <td>0</td>\n",
              "      <td>0</td>\n",
              "      <td>7.9250</td>\n",
              "    </tr>\n",
              "    <tr>\n",
              "      <th>3</th>\n",
              "      <td>Sim</td>\n",
              "      <td>Primeira</td>\n",
              "      <td>Mrs. Jacques Heath (Lily May Peel) Futrelle</td>\n",
              "      <td>Feminino</td>\n",
              "      <td>35.0</td>\n",
              "      <td>1</td>\n",
              "      <td>0</td>\n",
              "      <td>53.1000</td>\n",
              "    </tr>\n",
              "    <tr>\n",
              "      <th>4</th>\n",
              "      <td>Não</td>\n",
              "      <td>Terceira</td>\n",
              "      <td>Mr. William Henry Allen</td>\n",
              "      <td>Masculino</td>\n",
              "      <td>35.0</td>\n",
              "      <td>0</td>\n",
              "      <td>0</td>\n",
              "      <td>8.0500</td>\n",
              "    </tr>\n",
              "  </tbody>\n",
              "</table>\n",
              "</div>"
            ],
            "text/plain": [
              "  Sobreviveu    Classe                                               Nome   \n",
              "0        Não  Terceira                             Mr. Owen Harris Braund  \\\n",
              "1        Sim  Primeira  Mrs. John Bradley (Florence Briggs Thayer) Cum...   \n",
              "2        Sim  Terceira                              Miss. Laina Heikkinen   \n",
              "3        Sim  Primeira        Mrs. Jacques Heath (Lily May Peel) Futrelle   \n",
              "4        Não  Terceira                            Mr. William Henry Allen   \n",
              "\n",
              "        Sexo  Idade  Irmãos/Cônjuges a bordo  Pais/Filhos a bordo   Tarifa  \n",
              "0  Masculino   22.0                        1                    0   7.2500  \n",
              "1   Feminino   38.0                        1                    0  71.2833  \n",
              "2   Feminino   26.0                        0                    0   7.9250  \n",
              "3   Feminino   35.0                        1                    0  53.1000  \n",
              "4  Masculino   35.0                        0                    0   8.0500  "
            ]
          },
          "execution_count": 4,
          "metadata": {},
          "output_type": "execute_result"
        }
      ],
      "source": [
        "df.head()"
      ]
    },
    {
      "cell_type": "code",
      "execution_count": 5,
      "metadata": {
        "id": "99vGOqAO9Gbn"
      },
      "outputs": [
        {
          "data": {
            "text/plain": [
              "Sobreviveu\n",
              "Não    545\n",
              "Sim    342\n",
              "Name: count, dtype: int64"
            ]
          },
          "execution_count": 5,
          "metadata": {},
          "output_type": "execute_result"
        }
      ],
      "source": [
        "df.Sobreviveu.value_counts()"
      ]
    },
    {
      "cell_type": "markdown",
      "metadata": {
        "id": "20NKg6799Gbn"
      },
      "source": [
        "# 2 - Qual a porcentagem de homens e a porcentagem de mulheres que sobreviveram?"
      ]
    },
    {
      "cell_type": "code",
      "execution_count": 6,
      "metadata": {},
      "outputs": [
        {
          "name": "stdout",
          "output_type": "stream",
          "text": [
            "<class 'pandas.core.frame.DataFrame'>\n",
            "RangeIndex: 887 entries, 0 to 886\n",
            "Data columns (total 8 columns):\n",
            " #   Column                   Non-Null Count  Dtype  \n",
            "---  ------                   --------------  -----  \n",
            " 0   Sobreviveu               887 non-null    object \n",
            " 1   Classe                   887 non-null    object \n",
            " 2   Nome                     887 non-null    object \n",
            " 3   Sexo                     887 non-null    object \n",
            " 4   Idade                    887 non-null    float64\n",
            " 5   Irmãos/Cônjuges a bordo  887 non-null    int64  \n",
            " 6   Pais/Filhos a bordo      887 non-null    int64  \n",
            " 7   Tarifa                   887 non-null    float64\n",
            "dtypes: float64(2), int64(2), object(4)\n",
            "memory usage: 55.6+ KB\n"
          ]
        }
      ],
      "source": [
        "df.info()"
      ]
    },
    {
      "cell_type": "code",
      "execution_count": 13,
      "metadata": {},
      "outputs": [],
      "source": [
        "df.loc[df['Sexo'] == 'Feminino', 'Sexo'] = 0\n",
        "df.loc[df['Sexo'] == 'Masculino', 'Sexo'] = 1\n",
        "df.loc[df['Sobreviveu'] == 'Sim', 'Sobreviveu'] = 1\n",
        "df.loc[df['Sobreviveu'] == 'Não', 'Sobreviveu'] = 0\n"
      ]
    },
    {
      "cell_type": "code",
      "execution_count": 14,
      "metadata": {},
      "outputs": [],
      "source": [
        "df['Sexo'] = df['Sexo'].astype(int)\n",
        "df['Sobreviveu'] = df['Sobreviveu'].astype(int)"
      ]
    },
    {
      "cell_type": "code",
      "execution_count": 15,
      "metadata": {},
      "outputs": [
        {
          "name": "stdout",
          "output_type": "stream",
          "text": [
            "Sexo\n",
            "0    0.742038\n",
            "1    0.190227\n",
            "Name: Sobreviveu, dtype: float64\n"
          ]
        }
      ],
      "source": [
        "#primeira opção de groupby (média de sobreviventes)\n",
        "media_sobrevivencia_por_genero = df.groupby('Sexo')['Sobreviveu'].mean()\n",
        "print(media_sobrevivencia_por_genero)\n"
      ]
    },
    {
      "cell_type": "code",
      "execution_count": 16,
      "metadata": {},
      "outputs": [
        {
          "name": "stdout",
          "output_type": "stream",
          "text": [
            "Porcentagem de homens sobreviventes: 68.13%\n",
            "Porcentagem de mulheres sobreviventes: 31.87%\n"
          ]
        }
      ],
      "source": [
        "# Filtrar os dados para obter apenas as linhas onde 'survived' é igual a 1 (sobreviventes)\n",
        "sobreviventes = df[df['Sobreviveu'] == 1]\n",
        "\n",
        "# Calcular o total de homens e mulheres sobreviventes\n",
        "total_homens_sobreviventes = sobreviventes[sobreviventes['Sexo'] == 0].shape[0]\n",
        "total_mulheres_sobreviventes = sobreviventes[sobreviventes['Sexo'] == 1].shape[0]\n",
        "\n",
        "# Calcular a porcentagem de homens e mulheres sobreviventes em relação ao total de sobreviventes\n",
        "porcentagem_homens_sobreviventes = (total_homens_sobreviventes / sobreviventes.shape[0]) * 100\n",
        "porcentagem_mulheres_sobreviventes = (total_mulheres_sobreviventes / sobreviventes.shape[0]) * 100\n",
        "\n",
        "# Exibir os resultados\n",
        "print(f\"Porcentagem de homens sobreviventes: {porcentagem_homens_sobreviventes:.2f}%\")\n",
        "print(f\"Porcentagem de mulheres sobreviventes: {porcentagem_mulheres_sobreviventes:.2f}%\")\n"
      ]
    },
    {
      "cell_type": "code",
      "execution_count": 25,
      "metadata": {},
      "outputs": [
        {
          "name": "stdout",
          "output_type": "stream",
          "text": [
            "Porcentagem de homens que sobreviveram: 19.02%\n",
            "Porcentagem de mulheres que sobreviveram: 74.20%\n"
          ]
        }
      ],
      "source": [
        "# Contar o número de ocorrências de homens e mulheres\n",
        "counts = df['Sexo'].value_counts()\n",
        "\n",
        "# Calcular a porcentagem de sobreviventes homens e mulheres\n",
        "survival_rates_male = (df.loc[(df['Sexo'] == 1) & (df['Sobreviveu'] == 1), 'Sexo'].count() / counts[1]) * 100\n",
        "survival_rates_female = (df.loc[(df['Sexo'] == 0) & (df['Sobreviveu'] == 1), 'Sexo'].count() / counts[0]) * 100\n",
        "\n",
        "# Exibir as taxas de sobrevivência\n",
        "print(f\"Porcentagem de homens que sobreviveram: {survival_rates_male:.2f}%\")\n",
        "print(f\"Porcentagem de mulheres que sobreviveram: {survival_rates_female:.2f}%\")\n"
      ]
    },
    {
      "cell_type": "markdown",
      "metadata": {
        "id": "ipR10vxh9Gbo"
      },
      "source": [
        "# 3 - Qual a idade média dos passageiros?"
      ]
    },
    {
      "cell_type": "code",
      "execution_count": 7,
      "metadata": {
        "id": "E6CN2hBd9Gbo"
      },
      "outputs": [
        {
          "data": {
            "text/plain": [
              "count    887.000000\n",
              "mean      29.471443\n",
              "std       14.121908\n",
              "min        0.420000\n",
              "25%       20.250000\n",
              "50%       28.000000\n",
              "75%       38.000000\n",
              "max       80.000000\n",
              "Name: Idade, dtype: float64"
            ]
          },
          "execution_count": 7,
          "metadata": {},
          "output_type": "execute_result"
        }
      ],
      "source": [
        "df['Idade'].describe()"
      ]
    },
    {
      "cell_type": "code",
      "execution_count": 8,
      "metadata": {
        "id": "ZrlWLKz59Gbo"
      },
      "outputs": [
        {
          "data": {
            "text/plain": [
              "29.471443066516347"
            ]
          },
          "execution_count": 8,
          "metadata": {},
          "output_type": "execute_result"
        }
      ],
      "source": [
        "df['Idade'].mean()"
      ]
    },
    {
      "cell_type": "markdown",
      "metadata": {
        "id": "mZlgWLXV9Gbp"
      },
      "source": [
        "# 4 - Qual a tarifa média paga pelos passageiros?"
      ]
    },
    {
      "cell_type": "code",
      "execution_count": 9,
      "metadata": {
        "id": "c-MWS1c39Gbp"
      },
      "outputs": [
        {
          "data": {
            "text/plain": [
              "count    887.00000\n",
              "mean      32.30542\n",
              "std       49.78204\n",
              "min        0.00000\n",
              "25%        7.92500\n",
              "50%       14.45420\n",
              "75%       31.13750\n",
              "max      512.32920\n",
              "Name: Tarifa, dtype: float64"
            ]
          },
          "execution_count": 9,
          "metadata": {},
          "output_type": "execute_result"
        }
      ],
      "source": [
        "df['Tarifa'].describe()"
      ]
    },
    {
      "cell_type": "code",
      "execution_count": null,
      "metadata": {
        "id": "xz8W4Db_9Gbp"
      },
      "outputs": [],
      "source": []
    },
    {
      "cell_type": "markdown",
      "metadata": {
        "id": "4zVJfVeM9Gbp"
      },
      "source": [
        "# 5 - Qual a correlação entre a idade e a tarifa paga?"
      ]
    },
    {
      "cell_type": "code",
      "execution_count": 10,
      "metadata": {
        "id": "xbzhv17X9Gbp"
      },
      "outputs": [
        {
          "name": "stdout",
          "output_type": "stream",
          "text": [
            "Correlação entre idade e tarifa paga: 0.11\n"
          ]
        }
      ],
      "source": [
        "correlation = df['Idade'].corr(df['Tarifa'])\n",
        "print(f\"Correlação entre idade e tarifa paga: {correlation:.2f}\")"
      ]
    },
    {
      "attachments": {},
      "cell_type": "markdown",
      "metadata": {},
      "source": [
        "Como podemos interpretar os valores que ρ pode assumir?\n",
        "\n",
        "- ρ = 0,9 a 1 (positivo ou negativo): correlação muito forte;\n",
        "- ρ= 0,7 a 09 (positivo ou negativo): correlação forte;\n",
        "- ρ = 0,5 a 0,7 (positivo ou negativo): correlação moderada;\n",
        "- ρ = 0,3 a 0,5 (positivo ou negativo): correlação fraca;\n",
        "- ρ = 0 a 0,3 (positivo ou negativo): não possui correlação"
      ]
    },
    {
      "cell_type": "markdown",
      "metadata": {
        "id": "Si89pAzL9Gbp"
      },
      "source": [
        "# 6 - Qual a correlação entre a classe em que o passageiro viajou e a chance de sobrevivência?"
      ]
    },
    {
      "cell_type": "code",
      "execution_count": 12,
      "metadata": {
        "id": "Euj8l7Oc9Gbq"
      },
      "outputs": [],
      "source": [
        "#correlacao_pearson = df['Classe'].corr(df['Sobreviveu'], method='pearson')"
      ]
    },
    {
      "cell_type": "code",
      "execution_count": null,
      "metadata": {
        "id": "6jsW1jfb9Gbq"
      },
      "outputs": [],
      "source": []
    },
    {
      "cell_type": "markdown",
      "metadata": {
        "id": "hRpIwcBu9Gbq"
      },
      "source": [
        "# 7 - Qual o número médio de irmãos/cônjuges a bordo para quem sobreviveu e para quem não sobreviveu?"
      ]
    },
    {
      "cell_type": "code",
      "execution_count": 17,
      "metadata": {
        "id": "Yh6lAruX9Gbq"
      },
      "outputs": [],
      "source": [
        "df7 = df[['Irmãos/Cônjuges a bordo', 'Sobreviveu']]"
      ]
    },
    {
      "cell_type": "code",
      "execution_count": 21,
      "metadata": {
        "id": "CaaAdlTY9Gbq"
      },
      "outputs": [
        {
          "name": "stdout",
          "output_type": "stream",
          "text": [
            "Média de irmãos/cônjuges a bordo para quem sobreviveu:  0.47368421052631576\n",
            "Média de irmãos/cônjuges a bordo para quem não sobreviveu:  0.5577981651376147\n"
          ]
        }
      ],
      "source": [
        "# Calcular a média de 'sibsp' para quem sobreviveu e para quem não sobreviveu\n",
        "media_sobreviveu = df7.loc[df7['Sobreviveu'] == 1, 'Irmãos/Cônjuges a bordo'].mean()\n",
        "media_nao_sobreviveu = df7.loc[df7['Sobreviveu'] == 0, 'Irmãos/Cônjuges a bordo'].mean()\n",
        "\n",
        "print(\"Média de irmãos/cônjuges a bordo para quem sobreviveu: \", media_sobreviveu)\n",
        "print(\"Média de irmãos/cônjuges a bordo para quem não sobreviveu: \", media_nao_sobreviveu)\n"
      ]
    },
    {
      "cell_type": "markdown",
      "metadata": {
        "id": "c0RweoKP9Gbq"
      },
      "source": [
        "# 8 - Qual o número médio de pais/filhos a bordo para quem sobreviveu e para quem não sobreviveu?"
      ]
    },
    {
      "cell_type": "code",
      "execution_count": null,
      "metadata": {
        "id": "NMya6O8R9Gbq"
      },
      "outputs": [],
      "source": []
    },
    {
      "cell_type": "code",
      "execution_count": null,
      "metadata": {
        "id": "HhX9VROD9Gbq"
      },
      "outputs": [],
      "source": []
    },
    {
      "cell_type": "markdown",
      "metadata": {
        "id": "xGuQeG3m9Gbq"
      },
      "source": [
        "# 9 - Qual a relação entre a tarifa paga e a chance de sobrevivência?"
      ]
    },
    {
      "cell_type": "code",
      "execution_count": null,
      "metadata": {
        "id": "xxthHKEZ9Gbq"
      },
      "outputs": [],
      "source": []
    },
    {
      "cell_type": "code",
      "execution_count": null,
      "metadata": {
        "id": "vsK2JvSh9Gbq"
      },
      "outputs": [],
      "source": []
    },
    {
      "cell_type": "markdown",
      "metadata": {
        "id": "qbODrBr09Gbr"
      },
      "source": [
        "# 10 - Qual o porto de embarque que teve mais passageiros a bordo?"
      ]
    },
    {
      "cell_type": "code",
      "execution_count": null,
      "metadata": {
        "id": "9CqU4VDx9Gbr"
      },
      "outputs": [],
      "source": []
    },
    {
      "cell_type": "code",
      "execution_count": null,
      "metadata": {
        "id": "vWO8FAl-9Gbr"
      },
      "outputs": [],
      "source": []
    },
    {
      "cell_type": "markdown",
      "metadata": {
        "id": "ECV6wT9S9Gbr"
      },
      "source": [
        "# 11 - Faça uma análise exploratória dos dados"
      ]
    },
    {
      "cell_type": "code",
      "execution_count": null,
      "metadata": {
        "id": "nQ1vIzdZ9Gbr"
      },
      "outputs": [],
      "source": []
    },
    {
      "cell_type": "code",
      "execution_count": null,
      "metadata": {
        "id": "HEP5yLP59Gbr"
      },
      "outputs": [],
      "source": []
    },
    {
      "cell_type": "markdown",
      "metadata": {
        "id": "B8vwEKuV9Gbr"
      },
      "source": [
        "# 12 - Faça o tratamento dos dados:\n",
        "- apagar colunas que não sejam relevantes para o modelo (qual(is) seria(m) esta(s) coluna(s)?)\n",
        "\n",
        "- Converter os valores textuais em numéricos (não existe somente uma forma para isto, mas já aprendemos a usar a função loc..)\n"
      ]
    },
    {
      "cell_type": "code",
      "execution_count": null,
      "metadata": {
        "id": "ImG19Z1h9Gbr"
      },
      "outputs": [],
      "source": []
    },
    {
      "cell_type": "code",
      "execution_count": null,
      "metadata": {
        "id": "-wN37_Dk9Gbr"
      },
      "outputs": [],
      "source": []
    },
    {
      "cell_type": "markdown",
      "metadata": {
        "id": "cwVgS8ER9Gbr"
      },
      "source": [
        "# 13 - Separe os dados em X e y de treinamento e teste.\n",
        "\n",
        "Note que a nossa classe alvo é a primeiro coluna, que informa se o passageiro sobreviveu ou não"
      ]
    },
    {
      "cell_type": "code",
      "execution_count": null,
      "metadata": {
        "id": "wJvxaM1s9Gbr"
      },
      "outputs": [],
      "source": []
    },
    {
      "cell_type": "code",
      "execution_count": null,
      "metadata": {
        "id": "N-LGh_3F9Gbr"
      },
      "outputs": [],
      "source": []
    },
    {
      "cell_type": "markdown",
      "metadata": {
        "id": "GYq4Gxet9Gbr"
      },
      "source": [
        "# 14 - Normalize apenas os atributos (X)."
      ]
    },
    {
      "cell_type": "code",
      "execution_count": null,
      "metadata": {
        "id": "o9TwfmYA9Gbs"
      },
      "outputs": [],
      "source": []
    },
    {
      "cell_type": "code",
      "execution_count": null,
      "metadata": {
        "id": "R9weV5Jt9Gbs"
      },
      "outputs": [],
      "source": []
    },
    {
      "cell_type": "markdown",
      "metadata": {
        "id": "VRYIoXUW9Gbs"
      },
      "source": [
        "# 15 - Use algum modelo de machine learning para prever a classe alvo"
      ]
    },
    {
      "cell_type": "code",
      "execution_count": null,
      "metadata": {
        "id": "rGIxx6rP9Gbs"
      },
      "outputs": [],
      "source": []
    },
    {
      "cell_type": "code",
      "execution_count": null,
      "metadata": {
        "id": "J20PEhQ09Gbs"
      },
      "outputs": [],
      "source": []
    },
    {
      "cell_type": "markdown",
      "metadata": {
        "id": "Q9X1Brp59Gbs"
      },
      "source": [
        "# 16 - Exiba a acurácia e a matriz de confusão"
      ]
    },
    {
      "cell_type": "code",
      "execution_count": null,
      "metadata": {
        "id": "i8bZkiE79Gbs"
      },
      "outputs": [],
      "source": []
    },
    {
      "cell_type": "code",
      "execution_count": null,
      "metadata": {
        "id": "cKZ6QzQh9Gbs"
      },
      "outputs": [],
      "source": []
    }
  ],
  "metadata": {
    "colab": {
      "include_colab_link": true,
      "provenance": []
    },
    "kernelspec": {
      "display_name": "tf",
      "language": "python",
      "name": "python3"
    },
    "language_info": {
      "codemirror_mode": {
        "name": "ipython",
        "version": 3
      },
      "file_extension": ".py",
      "mimetype": "text/x-python",
      "name": "python",
      "nbconvert_exporter": "python",
      "pygments_lexer": "ipython3",
      "version": "3.11.3"
    },
    "orig_nbformat": 4
  },
  "nbformat": 4,
  "nbformat_minor": 0
}
