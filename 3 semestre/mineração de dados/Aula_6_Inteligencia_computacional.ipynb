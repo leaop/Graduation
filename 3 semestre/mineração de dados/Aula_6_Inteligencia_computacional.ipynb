{
  "cells": [
    {
      "cell_type": "markdown",
      "metadata": {
        "id": "view-in-github",
        "colab_type": "text"
      },
      "source": [
        "<a href=\"https://colab.research.google.com/github/leaop/Graduation/blob/main/Aula_6_Inteligencia_computacional.ipynb\" target=\"_parent\"><img src=\"https://colab.research.google.com/assets/colab-badge.svg\" alt=\"Open In Colab\"/></a>"
      ]
    },
    {
      "cell_type": "markdown",
      "metadata": {
        "id": "ToYPybfvyWMs"
      },
      "source": [
        "# 1 - Inteligência Computacional:\n",
        "\n",
        "A Inteligência Computacional (IC) é um ramo da Inteligência Artificial (IA) que se concentra no desenvolvimento de algoritmos que simulam o comportamento inteligente. Essa área de pesquisa está crescendo em popularidade à medida que a tecnologia evolui e as empresas procuram novas formas de usar a IA para melhorar seus negócios. Na mineração de dados, a IC é frequentemente usada para identificar padrões complexos em grandes conjuntos de dados.\n",
        "\n",
        "Entre os métodos de IC mais utilizados na mineração de dados estão:\n",
        "\n",
        "``Redes neurais artificiais``: modelo computacional que se inspira na estrutura e no funcionamento do cérebro humano, capaz de aprender a partir de exemplos e identificar padrões em grandes volumes de dados.\n",
        "\n",
        "``Algoritmos genéticos``: método de otimização inspirado na evolução natural, que utiliza a seleção natural, a reprodução e a mutação para encontrar soluções melhores para um problema.\n",
        "\n",
        "``Lógica fuzzy``: técnica que permite lidar com informações imprecisas ou incertas, atribuindo graus de pertinência a cada valor."
      ]
    },
    {
      "cell_type": "markdown",
      "metadata": {
        "id": "eLI_QwZeyWMv"
      },
      "source": [
        "\n",
        "\n",
        "\n",
        "\n"
      ]
    },
    {
      "cell_type": "markdown",
      "metadata": {
        "id": "Kdd3CY1VyWMv"
      },
      "source": [
        "### 1.1 - Redes Neurais Artificiais\n",
        "\n",
        "As redes neurais artificiais (RNA) são um tipo de modelo de IC que se baseia na estrutura do cérebro humano. Elas são usadas para reconhecer padrões em dados, classificar imagens, processar linguagem natural e muito mais. Uma RNA é composta por camadas de neurônios interconectados que realizam operações matemáticas em dados de entrada e geram uma saída. As redes neurais são treinadas usando um algoritmo de aprendizado para ajustar os pesos das conexões entre os neurônios e melhorar a precisão do modelo.\n",
        "\n",
        "Como já vimos anteriormente, uma rede neural possui 3 tipos de camada, sendo:\n",
        "- ``Camada de entrada`` (input Layer) : Toda rede neural possui apenas 1 camada desta e possui a mesma quantidade de neurônios que a quantidade de atributos da base de dados\n",
        "- `Camada Oculta` : Toda rede neural possui 1 ou mais destas camadas e a função de ativação depende de acordo com o problema a ser resolvido. Nesta camada podemos definir:\n",
        "    - ``A quantidade de neurônios`` (não existe uma quantidade ideal);\n",
        "    - ``Função de ativação``: define a função matemática usada para aplicar um valor de saída a cada neurônio na camada oculta;\n",
        "    - ``Regularização``: permite adicionar penalidades aos pesos da camada para evitar o overfitting;\n",
        "    - ``Dropout``: permite desativar aleatoriamente alguns neurônios durante o treinamento para evitar o overfitting;\n",
        "    - ``Dropout``: permite desativar aleatoriamente alguns neurônios durante o treinamento para evitar o overfitting;\n",
        "    - ``Bias``: indica se deve haver um termo de bias (viés) adicionado a cada neurônio na camada oculta.\n",
        "\n",
        "- `Camada de saída` : Toda rede neural possui apenas 1 camada desta e a quantidade de neurônios vai depender do tipo de problema a ser resolvido. Nesta camada podemos definir:\n",
        "    - ``Número de neurônios``: define o número de unidades de processamento na camada de saída. Isso é geralmente determinado pelo número de classes em um problema de classificação ou pelo número de valores de saída em um problema de regressão.\n",
        "    - ``Função de ativação``: define a função matemática usada para aplicar um valor de saída a cada neurônio na camada de saída.\n",
        "\n",
        "\n",
        "Como escolher a camada de ativação:\n",
        "\n",
        "https://machinelearningmastery.com/choose-an-activation-function-for-deep-learning/\n",
        "\n",
        "Na camada de entrada cada neurônio irá receber um atributo referente ao vetor de atributos.\n",
        "![base.png](attachment:base.png)"
      ]
    },
    {
      "cell_type": "markdown",
      "metadata": {
        "id": "qLbhm76vyWMw"
      },
      "source": [
        "Após a camada de entrada a rede neural é composta por pesos (o que chamamos de inteligência da rede), e os neurônios em seguida são formados por duas partes, uma função soma e uma função de ativação.\n",
        "\n",
        "![rede%20neural.png](attachment:rede%20neural.png)"
      ]
    },
    {
      "cell_type": "markdown",
      "metadata": {
        "id": "NGidl_eTyWMw"
      },
      "source": [
        "O que diferencia um aprendizado de máquina para um aprendizado profundo (deep learning) é a quantidade de camadas ocultas. \n",
        "\n",
        "![rede%20profunda.png](attachment:rede%20profunda.png)"
      ]
    },
    {
      "cell_type": "markdown",
      "metadata": {
        "id": "b3KujIGNyWMw"
      },
      "source": [
        "Algumas das funções de ativação disponíveis:\n",
        "\n",
        "![funcao%20ativacao.png](attachment:funcao%20ativacao.png)\n",
        "\n",
        "Esta Função de Ativação ReLU, age da seguinte forma: enquanto o valor da função soma for menor que zero, será retornado 0 na saída do neurônio. Após o valor ser maior ou igual a zero, a função ativa o neurônio e retorna o próprio valor da função soma.\n",
        "\n",
        "#### Existe alguma regra para as funções de ativação?\n",
        "Não é uma regra, mas geralmente se utiliza apenas 1 tipo de função de ativação em todas as camadas ocultas.\n",
        "\n",
        "E como escolher a função de ativação das camadas ocultas? Bem, no geral, a função de ativação ReLU performa melhores que as outras...\n",
        "\n",
        "E na camada da saída?\n",
        "\n",
        "Ai já muda de acordo com o que estamos querendo prever:\n",
        "\n",
        "- `Sigmoid`: Para problemas de classificação binários ou classificação de apenas uma classe dentre várias possíveis classes;\n",
        "\n",
        "- `Softmax`: Para problemas de classificação com várias classes;\n",
        "\n",
        "- `Linear`: Para regressões."
      ]
    },
    {
      "cell_type": "code",
      "execution_count": null,
      "metadata": {
        "id": "xl08PVA4yWMw"
      },
      "outputs": [],
      "source": [
        "# Importar as bibliotecas necessárias\n",
        "from keras.models import Sequential\n",
        "from keras.layers import Dense, InputLayer\n",
        "import pandas as pd\n",
        "from sklearn.model_selection import train_test_split\n",
        "from sklearn.metrics import mean_squared_error\n",
        "from sklearn.preprocessing import MinMaxScaler"
      ]
    },
    {
      "cell_type": "code",
      "execution_count": null,
      "metadata": {
        "id": "4ZFgJN1pyWMx"
      },
      "outputs": [],
      "source": [
        "# Preparar os dados\n",
        "df = pd.read_csv('casas_boston.csv')\n",
        "X = df.iloc[:, :-1]\n",
        "y = df[['valor']]\n",
        "\n",
        "scaler_features =  MinMaxScaler()\n",
        "scaler_features.fit(X)\n",
        "X = scaler_features.transform(X)\n",
        "\n",
        "scaler_target =  MinMaxScaler()\n",
        "scaler_target.fit(y)\n",
        "y = scaler_target.transform(y)\n",
        "\n",
        "X_train, X_test, y_train, y_test = train_test_split(X, y, test_size=0.2, random_state=42)"
      ]
    },
    {
      "cell_type": "code",
      "execution_count": null,
      "metadata": {
        "id": "EvYXCZLNyWMx"
      },
      "outputs": [],
      "source": [
        "# Modelo com função de ativação relu\n",
        "model_relu = Sequential()\n",
        "model_relu.add(InputLayer(input_shape=(X_train.shape[1],)))\n",
        "model_relu.add(Dense(50, activation='relu'))\n",
        "model_relu.add(Dense(50, activation='relu'))\n",
        "model_relu.add(Dense(50, activation='relu'))\n",
        "model_relu.add(Dense(50, activation='relu'))\n",
        "model_relu.add(Dense(50, activation='relu'))\n",
        "model_relu.add(Dense(1, activation='linear'))\n",
        "model_relu.compile(loss='mean_squared_error', optimizer='adam', metrics=['mse'])\n",
        "model_relu.fit(X_train, y_train, epochs=150, batch_size=10, verbose = 0)"
      ]
    },
    {
      "cell_type": "code",
      "execution_count": null,
      "metadata": {
        "id": "wWWW0qSXyWMy"
      },
      "outputs": [],
      "source": [
        "# Modelo com função de ativação softplus\n",
        "model_softplus = Sequential()\n",
        "model_softplus.add(InputLayer(input_shape=(X_train.shape[1],)))\n",
        "model_softplus.add(Dense(50, activation='softplus'))\n",
        "model_softplus.add(Dense(50, activation='softplus'))\n",
        "model_softplus.add(Dense(50, activation='softplus'))\n",
        "model_softplus.add(Dense(50, activation='softplus'))\n",
        "model_softplus.add(Dense(50, activation='softplus'))\n",
        "model_softplus.add(Dense(1, activation='linear'))\n",
        "model_softplus.compile(loss='mean_squared_error', optimizer='adam', metrics=['mse'])\n",
        "model_softplus.fit(X_train, y_train, epochs=150, batch_size=10, verbose = 0)"
      ]
    },
    {
      "cell_type": "code",
      "execution_count": null,
      "metadata": {
        "id": "T7H7Pf-GyWMy"
      },
      "outputs": [],
      "source": [
        "# Modelo sem função de ativação\n",
        "model = Sequential()\n",
        "model.add(InputLayer(input_shape=(X_train.shape[1],)))\n",
        "model.add(Dense(50))\n",
        "model.add(Dense(50))\n",
        "model.add(Dense(50))\n",
        "model.add(Dense(50))\n",
        "model.add(Dense(50))\n",
        "model.add(Dense(1, activation='linear'))\n",
        "model.compile(loss='mean_squared_error', optimizer='adam', metrics=['mse'])\n",
        "model.fit(X_train, y_train, epochs=150, batch_size=10, verbose = 0)"
      ]
    },
    {
      "cell_type": "code",
      "execution_count": null,
      "metadata": {
        "id": "Wc6NbiJKyWMy"
      },
      "outputs": [],
      "source": [
        "# Realiza predição de X_test com os 4 modelos\n",
        "predict_relu = model_relu.predict(X_test)\n",
        "predict_softplus = model_softplus.predict(X_test)\n",
        "predict = model.predict(X_test)\n",
        "\n",
        "predict_relu = scaler_target.inverse_transform(predict_relu)\n",
        "predict_softplus = scaler_target.inverse_transform(predict_softplus)\n",
        "predict = scaler_target.inverse_transform(predict)\n",
        "real = scaler_target.inverse_transform(y_test)"
      ]
    },
    {
      "cell_type": "code",
      "execution_count": null,
      "metadata": {
        "id": "3zGVqQTcyWMy"
      },
      "outputs": [],
      "source": [
        "# Erro médio quadrático - MSE\n",
        "mse_relu = mean_squared_error(real, predict_relu)\n",
        "print(\"Mean squared error ReLU: \", mse_relu)\n",
        "\n",
        "mse_softplus = mean_squared_error(real, predict_softplus)\n",
        "print(\"Mean squared error Softplus: \", mse_softplus)\n",
        "\n",
        "mse = mean_squared_error(real, predict)\n",
        "print(\"Mean squared error Sem função de ativação: \", mse)"
      ]
    },
    {
      "cell_type": "code",
      "execution_count": null,
      "metadata": {
        "id": "SimLf1TpyWMy"
      },
      "outputs": [],
      "source": [
        "# Criar um dataframe com os valores e ordenar pelo real\n",
        "df_predict = pd.DataFrame()\n",
        "df_predict['real'] = real.flatten()\n",
        "df_predict['relu'] = predict_relu.flatten()\n",
        "df_predict['softplus'] = predict_softplus.flatten()\n",
        "df_predict['sem'] = predict.flatten()\n",
        "df_predict.sort_values(by='real', inplace = True)"
      ]
    },
    {
      "cell_type": "code",
      "execution_count": null,
      "metadata": {
        "id": "dp-lA0NnyWMz"
      },
      "outputs": [],
      "source": [
        "df_predict['real']"
      ]
    },
    {
      "cell_type": "code",
      "execution_count": null,
      "metadata": {
        "id": "LsEazrA_yWMz"
      },
      "outputs": [],
      "source": [
        "import matplotlib.pyplot as plt \n",
        "plt.plot(range(0,len(df_predict)), df_predict[['real']], label = 'Real')\n",
        "plt.plot(range(0,len(df_predict)), df_predict[['relu']], label = 'ReLU')\n",
        "plt.plot(range(0,len(df_predict)), df_predict[['softplus']], label = 'Softplus')\n",
        "plt.plot(range(0,len(df_predict)), df_predict[['sem']], label = 'Sem Função')\n",
        "plt.legend()\n",
        "plt.show()"
      ]
    },
    {
      "cell_type": "markdown",
      "metadata": {
        "id": "ivFqcwN4yWMz"
      },
      "source": [
        "### 1.2 Algoritmos Genéticos\n",
        "\n",
        "Os Algoritmos Genéticos (AGs) são uma técnica poderosa de otimização inspirada no processo evolutivo da seleção natural. Eles são úteis em problemas complexos de otimização e são implementados em Python por bibliotecas como a DEAP e a Scikit-learn. Os AGs apresentam limitações, como a possibilidade de convergir para soluções subótimas e dependem da qualidade da função de aptidão e da escolha adequada de parâmetros.\n",
        "\n",
        "exemplo simples de como usar a biblioteca DEAP em Python para aplicar um Algoritmo Genético a um problema de otimização de parâmetros em uma base de dados. Suponha que temos uma base de dados de casas à venda com diversas características, como o número de quartos, o tamanho do terreno, o preço, entre outras. O objetivo é encontrar a melhor combinação de parâmetros para prever o preço da casa."
      ]
    },
    {
      "cell_type": "code",
      "execution_count": null,
      "metadata": {
        "id": "fpSHhgwvyWMz"
      },
      "outputs": [],
      "source": [
        "import pandas as pd\n",
        "from sklearn.preprocessing import MinMaxScaler\n",
        "from sklearn.model_selection import train_test_split\n",
        "\n",
        "df = pd.read_csv('casas_boston.csv')\n",
        "X = df.iloc[:, :-1]\n",
        "y = df[['valor']]\n",
        "\n",
        "scaler_features =  MinMaxScaler()\n",
        "scaler_features.fit(X)\n",
        "X = scaler_features.transform(X)\n",
        "\n",
        "scaler_target =  MinMaxScaler()\n",
        "scaler_target.fit(y)\n",
        "y = scaler_target.transform(y)\n",
        "\n",
        "X_train, X_test, y_train, y_test = train_test_split(X, y, test_size=0.2, random_state=42)"
      ]
    },
    {
      "cell_type": "markdown",
      "metadata": {
        "id": "a85I2DakyWMz"
      },
      "source": [
        "Um AG é composto por alguns parâmetros principais:\n",
        "\n",
        "``População``: representa um conjunto de indivíduos, cada um com uma solução potencial para o problema a ser otimizado. A população é uma amostra do espaço de busca de soluções e seu tamanho é determinado pelo usuário.\n",
        "\n",
        "``Tamanho do genes``: é o número de elementos (ou características) que compõem cada cromossomo. Quanto maior o valor, mais complexo se torna o processamento. Este tamanho é definido pela quantidade de atributos da base de dados.\n",
        "\n",
        "``probabilidade de mutação``: é a probabilidade de um cromossomo sofrer uma mutação durante a evolução da população. A mutação é uma operação que introduz aleatoriedade no processo de evolução\n",
        "\n",
        "``Função de Fitness``: é uma medida que quantifica o quão boa é uma solução potencial em relação ao objetivo da otimização. Essa função é utilizada para avaliar o desempenho de cada indivíduo na população.\n",
        "\n",
        "``Operadores Genéticos``: são regras que governam como novos indivíduos são criados a partir dos indivíduos existentes. Os operadores genéticos mais comuns são a seleção, o crossover e a mutação.\n"
      ]
    },
    {
      "cell_type": "code",
      "execution_count": null,
      "metadata": {
        "id": "Qj2or3EPyWMz"
      },
      "outputs": [],
      "source": [
        "!pip install geneticalgorithm"
      ]
    },
    {
      "cell_type": "code",
      "execution_count": null,
      "metadata": {
        "id": "844wmtYSyWMz"
      },
      "outputs": [],
      "source": [
        "from geneticalgorithm import geneticalgorithm as GeneticAlgorithm\n",
        "from sklearn.linear_model import LinearRegression\n",
        "\n",
        "\n",
        "def fitness(individual):\n",
        "    # Verifica se pelo menos uma coluna foi selecionada\n",
        "    if sum(individual) == 0:\n",
        "        # Caso contrário, retorna score 0\n",
        "        return 1\n",
        "    else:\n",
        "        # Cria um objeto LinearRegression\n",
        "        reg = LinearRegression()\n",
        "        # Ajusta o modelo aos dados de treino considerando apenas as colunas selecionadas pelo indivíduo\n",
        "        reg.fit(X_train[:, individual == 1], y_train)\n",
        "        # Avalia o modelo nos dados de teste considerando apenas as colunas selecionadas pelo indivíduo\n",
        "        score = reg.score(X_test[:, individual == 1], y_test)\n",
        "        # Retorna o score como uma tupla (o uso da vírgula é para indicar que se trata de uma tupla com um único elemento)\n",
        "        return score\n",
        "\n",
        "\n",
        "# Define os parâmetros do algoritmo genético\n",
        "POP_SIZE = 50 # tamanho da população\n",
        "GEN_SIZE = X.shape[1] # número de gerações\n",
        "MUT_PROB = 0.01 # probabilidade de mutação\n",
        "\n",
        "# Definindo o dicionário de parâmetros do algoritmo\n",
        "params = {  'population_size': POP_SIZE, \n",
        "            'num_generations': GEN_SIZE, \n",
        "            'mutation_probability': MUT_PROB, \n",
        "            'max_iteration_without_improv': 100,\n",
        "            'parents_portion': 0.5,\n",
        "            'elit_ratio': 0.1,\n",
        "            'crossover_type': 'uniform',\n",
        "            'crossover_probability': 0.1,\n",
        "            'max_num_iteration': 10000}\n",
        "\n",
        "ga = GeneticAlgorithm(\n",
        "    function=fitness,\n",
        "    dimension=X.shape[1],\n",
        "    variable_type='bool',\n",
        "    function_timeout=10,\n",
        "    algorithm_parameters=params\n",
        ")\n",
        "\n",
        "ga.run()"
      ]
    },
    {
      "cell_type": "markdown",
      "metadata": {
        "id": "_i_GvwrTyWM0"
      },
      "source": [
        "A saída do código mostra a melhor solução encontrada pelo algoritmo genético, representada como um vetor de zeros e uns, onde cada posição indica se a coluna correspondente deve ser incluída ou não no modelo. No caso, a melhor solução encontrada inclui apenas a quarta coluna (índice 3) e exclui as demais\n",
        "\n",
        "Além disso, a saída mostra o valor da função objetivo para essa melhor solução. Nesse caso, a função objetivo é o score do modelo de regressão linear nos dados de teste usando apenas as colunas selecionadas pelo algoritmo genético. O valor negativo desse score (-0.019) sugere que o modelo não é muito bom em prever os valores de saída para os dados de teste.\n",
        "\n",
        "Neste caso, podemos usar essas informações para selecionar as colunas relevantes do seu conjunto de dados e ajustar um modelo de regressão linear usando apenas essas colunas. No entanto, é importante notar que o modelo ajustado pode não ser muito preciso, como sugerido pelo score negativo. Nesse caso poderia tentar outras abordagens para selecionar as colunas mais relevantes ou ajustar modelos mais complexos que possam lidar com interações entre as variáveis."
      ]
    },
    {
      "cell_type": "markdown",
      "metadata": {
        "id": "iIDk4apsyWM0"
      },
      "source": [
        "### Problemas de algoritmos genéticos:\n",
        "\n",
        "- O processo para definir um algoritmo genético é extremamente complexo;\n",
        "- Para melhores resultados o ideal é a utilização de redes neurais;\n",
        "- A utilização de redes neuris em algoritmos genéticos geralmente exige uma quantidade de processamento consideravelmente elevada, o que resulta em longos períodos de processamento."
      ]
    },
    {
      "cell_type": "markdown",
      "metadata": {
        "id": "oFErzmXZyWM0"
      },
      "source": [
        "### 1.3 - Lógica Fuzzy\n",
        "A lógica fuzzy é uma técnica de IC que permite lidar com incertezas e imprecisões em dados. Ela é usada para representar conceitos que não possuem limites definidos, como \"alto\" e \"baixo\". Na lógica fuzzy, um valor pode pertencer parcialmente a um conjunto, em vez de ser uma clara \"verdade\" ou \"falso\" como na lógica tradicional. A lógica fuzzy é frequentemente usada para modelagem de sistemas, tomada de decisões e controle de processos."
      ]
    },
    {
      "cell_type": "markdown",
      "metadata": {
        "id": "GA7fP98VyWM0"
      },
      "source": [
        "# 2 - Métodos Estatísticos:\n",
        "\n",
        "Os métodos estatísticos são um conjunto de técnicas matemáticas usadas para análise de dados. Eles são usados em diversas áreas, como ciências sociais, biologia, finanças e engenharia, para extrair informações de dados e fazer inferências sobre populações e processos."
      ]
    },
    {
      "cell_type": "markdown",
      "metadata": {
        "id": "kOAeUBVYyWM0"
      },
      "source": [
        "### 2.1 - Análise exploratória de dados:\n",
        "A análise exploratória de dados é uma etapa inicial na análise estatística de dados. Ela envolve a visualização e a descrição dos dados, para entender sua distribuição, tendências, padrões e valores atípicos. A análise exploratória de dados ajuda a identificar problemas nos dados, selecionar técnicas de análise apropriadas e comunicar resultados de forma clara."
      ]
    },
    {
      "cell_type": "code",
      "execution_count": null,
      "metadata": {
        "id": "Ne9FvmP3yWM0"
      },
      "outputs": [],
      "source": [
        "import matplotlib.pyplot as plt\n",
        "import numpy as np\n",
        "\n",
        "# Criação de um conjunto de dados\n",
        "data = np.random.normal(loc=0.0, scale=1.0, size=1000)\n",
        "\n",
        "# Histograma dos dados\n",
        "plt.hist(data, bins=30, density=True)\n",
        "plt.xlabel('Value')\n",
        "plt.ylabel('Frequency')\n",
        "plt.title('Histogram of Data')\n",
        "plt.show()\n",
        "\n",
        "# Boxplot dos dados\n",
        "plt.boxplot(data)\n",
        "plt.ylabel('Value')\n",
        "plt.title('Boxplot of Data')\n",
        "plt.show()\n",
        "\n",
        "# Gráfico de dispersão de dois conjuntos de dados\n",
        "data2 = np.random.normal(loc=0.0, scale=1.0, size=1000)\n",
        "plt.scatter(data, data2, alpha=0.5)\n",
        "plt.xlabel('Data 1')\n",
        "plt.ylabel('Data 2')\n",
        "plt.title('Scatter Plot of Data 1 and Data 2')\n",
        "plt.show()\n"
      ]
    },
    {
      "cell_type": "markdown",
      "metadata": {
        "id": "ENEThO4IyWM0"
      },
      "source": [
        "### 2.3 - Inferência estatística:\n",
        "A inferência estatística é usada para fazer generalizações sobre uma população com base em amostras de dados. Ela envolve a estimativa de parâmetros populacionais, como média e desvio padrão, a partir de amostras, e a realização de testes de hipóteses para avaliar se diferenças entre grupos são significativas."
      ]
    },
    {
      "cell_type": "code",
      "execution_count": null,
      "metadata": {
        "id": "y2NbYWphyWM0"
      },
      "outputs": [],
      "source": [
        "from scipy import stats\n",
        "\n",
        "# Dados amostrais\n",
        "data1 = [15, 17, 16, 18, 19, 14, 16, 16, 19, 17]\n",
        "data2 = [18, 21, 19, 20, 22, 16, 17, 20, 21, 19]\n",
        "\n",
        "# Teste t de Student para diferença entre médias\n",
        "result = stats.ttest_ind(data1, data2)\n",
        "print('t-Statistic:', result.statistic)\n",
        "print('p-Value:', result.pvalue)\n"
      ]
    },
    {
      "cell_type": "markdown",
      "metadata": {
        "id": "M1M_OtkwyWM0"
      },
      "source": [
        "Os métodos estatísticos são uma ferramenta poderosa para análise de dados e tomada de decisões baseadas em evidências. Eles podem ser usados em conjunto com técnicas de IC, como algoritmos genéticos e lógica fuzzy, para criar modelos e sistemas mais robustos e precisos."
      ]
    },
    {
      "cell_type": "markdown",
      "metadata": {
        "id": "Lo8IRwn-yWM0"
      },
      "source": [
        "# 3 - Inteligência Computacional\n",
        "A Inteligência Computacional (IC) é um campo interdisciplinar que envolve técnicas de aprendizado de máquina, processamento de linguagem natural, redes neurais artificiais e outras técnicas computacionais para resolver problemas complexos. A IC é frequentemente usada em mineração de dados para identificar padrões, classificar dados e tomar decisões baseadas em dados."
      ]
    },
    {
      "cell_type": "code",
      "execution_count": null,
      "metadata": {
        "id": "fr2w9aM4yWM1"
      },
      "outputs": [],
      "source": [
        "from sklearn.datasets import load_iris\n",
        "from sklearn.model_selection import train_test_split\n",
        "from sklearn.tree import DecisionTreeClassifier\n",
        "from sklearn.metrics import accuracy_score\n",
        "\n",
        "# Carregamento dos dados\n",
        "iris = load_iris()\n",
        "\n",
        "# Divisão dos dados em treino e teste\n",
        "X_train, X_test, y_train, y_test = train_test_split(iris.data, iris.target, test_size=0.2, random_state=42)\n",
        "\n",
        "# Treinamento do modelo de árvore de decisão\n",
        "clf = DecisionTreeClassifier(random_state=42)\n",
        "clf.fit(X_train, y_train)\n",
        "\n",
        "# Predição do modelo nos dados de teste\n",
        "y_pred = clf.predict(X_test)\n",
        "\n",
        "# Avaliação da acurácia do modelo\n",
        "accuracy = accuracy_score(y_test, y_pred)\n",
        "print('Accuracy:', accuracy)"
      ]
    },
    {
      "cell_type": "markdown",
      "metadata": {
        "id": "F3YIbOKNyWM1"
      },
      "source": [
        "### 3.1 - Métodos de agrupamento:\n",
        "Os métodos de agrupamento são usados para identificar grupos de objetos com base em suas características. Eles são usados em mineração de dados para segmentar clientes, agrupar genes com funções semelhantes e identificar clusters em dados geoespaciais. Os métodos de agrupamento incluem o k-means, o agrupamento hierárquico e o DBSCAN."
      ]
    },
    {
      "cell_type": "code",
      "execution_count": null,
      "metadata": {
        "id": "nh1CECCyyWM1"
      },
      "outputs": [],
      "source": [
        "from sklearn.datasets import make_blobs\n",
        "from sklearn.cluster import KMeans\n",
        "import matplotlib.pyplot as plt\n",
        "\n",
        "# Criação de um conjunto de dados com 4 clusters\n",
        "X, y = make_blobs(n_samples=1000, centers=4, cluster_std=0.6, random_state=42)\n",
        "\n",
        "# Aplicação do algoritmo k-means\n",
        "kmeans = KMeans(n_clusters=4, random_state=42)\n",
        "y_pred = kmeans.fit_predict(X)\n",
        "\n",
        "# Visualização dos resultados\n",
        "plt.scatter(X[:, 0], X[:, 1], c=y_pred)\n",
        "plt.xlabel('Feature 1')\n",
        "plt.ylabel('Feature 2')\n",
        "plt.title('K-Means Clustering')\n",
        "plt.show()\n"
      ]
    },
    {
      "cell_type": "markdown",
      "metadata": {
        "id": "j-sn_zHfyWM1"
      },
      "source": [
        "A combinação de técnicas estatísticas e de IC permite a criação de sistemas inteligentes capazes de lidar com grandes volumes de dados e fornecer insights valiosos para tomada de decisões."
      ]
    },
    {
      "cell_type": "markdown",
      "metadata": {
        "id": "0Hdag3x8yWM1"
      },
      "source": [
        "Concluindo,IC e os métodos estatísticos são duas áreas interdependentes que se complementam na mineração de dados. Enquanto a IC fornece as ferramentas para lidar com grandes volumes de dados e extrair padrões, a estatística fornece a fundamentação teórica e as técnicas para avaliar a significância desses padrões e construir modelos preditivos.\n",
        "\n",
        "\n",
        "\n",
        "Referências:\n",
        "\n",
        "Witten, I. H., Frank, E., & Hall, M. A. (2016). Data Mining: Practical Machine Learning Tools and Techniques. Morgan Kaufmann.\n",
        "\n",
        "Hastie, T., Tibshirani, R., & Friedman, J. (2009). The Elements of Statistical Learning: Data Mining, Inference, and Prediction. Springer."
      ]
    }
  ],
  "metadata": {
    "kernelspec": {
      "display_name": "Python 3 (ipykernel)",
      "language": "python",
      "name": "python3"
    },
    "language_info": {
      "codemirror_mode": {
        "name": "ipython",
        "version": 3
      },
      "file_extension": ".py",
      "mimetype": "text/x-python",
      "name": "python",
      "nbconvert_exporter": "python",
      "pygments_lexer": "ipython3",
      "version": "3.9.16"
    },
    "colab": {
      "provenance": [],
      "include_colab_link": true
    }
  },
  "nbformat": 4,
  "nbformat_minor": 0
}