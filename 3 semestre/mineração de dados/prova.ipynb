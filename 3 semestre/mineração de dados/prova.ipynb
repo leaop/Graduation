{
 "cells": [
  {
   "attachments": {},
   "cell_type": "markdown",
   "metadata": {},
   "source": [
    "# Orientações:\n",
    "\n",
    "Os alunos que forem pegos colando da prova de outro colega, ou passando cola, terão a nota imediatamente zerada para II. O mesmo segue para quem for pego utilizando o CHAT GPT ou o Google.\n",
    "\n",
    "A prova pode ser realizada com consultas e anotações de outras aulas, no cadernos, arquivos de resumo...\n",
    "\n",
    "`Não esqueçam de colocar o nome e o RA na célula de código abaixo!!!`\n",
    "\n",
    "Após a conclusão da prova, enviar o arquivo para o e-mail arthur.siqueira@ceub.edu.br\n",
    "\n",
    "O nome do arquivo deve ser mantido como \"prova.ipynb\" e o nome e RA escritos a baixo serão utilizados para saber de quem é cada prova.\n",
    "\n",
    "OBS: Todos os comandos input deverão possuir um texto informando o que se deseja que digite. Em casos que forem possíveis, personalize o texto do input com informações do usuário.\n",
    "\n",
    "EX: Crie uma variável idade e utilize o input para solicitar o nome -> O código seria \"idade = int(input('Digite a idade'))\"\n",
    "\n",
    "A prova possui 10 questões, sendo 4 fáceis, 3 medianas e 3 relativamente difíceis.\n",
    "\n",
    "O import das bibliotecas necessárias pode ficar no topo do código ou conforme for utilizando as bibliotecas. Fica a critério de cada um."
   ]
  },
  {
   "cell_type": "code",
   "execution_count": null,
   "metadata": {},
   "outputs": [],
   "source": [
    "# Nome: \n",
    "# RA: "
   ]
  },
  {
   "attachments": {},
   "cell_type": "markdown",
   "metadata": {},
   "source": [
    "# 1 - Realize a leitura e análise da base de dados notebooks.csv\n",
    "\n",
    "`METADADOS` da base de dados (Informações a respeito da base de dados)\n",
    "Esta é uma base de dados com informações de notebooks vendidos no brasil de 2010 a 2023 e possuí as seguintes colunas:\n",
    "\n",
    "marca, ano, qtd_nucleos, qtd_threads, ram, gpu_dedicada, ram_gpu, entradas_usb, duracao_bateria, resolucao_tela, tipo_tela, tela_touch, armazenamento_hdd, armazenamento_ssd, segmento, valor.\n",
    "\n",
    "A coluna marca pode conter os valores: samsung, hp, dell, lenovo, acer, asus, apple, razer, xiaomi, huawei ou positivo.\n",
    "\n",
    "A coluna ano possui o ano de lançamento do notebook.\n",
    "\n",
    "A coluna qtd_nucleos corresponte à quantidade de núclues de processamento que a CPU do notebook possui.\n",
    "\n",
    "A coluna qtd_threads refere à quantidade de threads que o processador possuí.\n",
    "\n",
    "A coluna ram representa quantos gb de memória RAM o notebook possuí, e pode ser de 2, 4, 6, 8, 12, 16, 32 ou 64.\n",
    "\n",
    "A coluna gpu_dedicada representa se o notebook possui ou não uma placa de vídeo dedicada.\n",
    "\n",
    "A coluna ram_gpu representa quantos gb de memória RAM o notebook possuí na placa de vídeo dedicada. Se o notebook não possuir placa de vídeo dedicada (valor \"não\" na coluna gpu_dedicada), o valor nesta coluna é 0.\n",
    "\n",
    "A coluna entradas_usb representa quantas entradas USB o notebook possui e os valores podem ser 1, 2, 3, 4 ou 5.\n",
    "\n",
    "A coluna duracao_bateria refere-se à quantos minutos o notebook dura na bateria fora da tomada.\n",
    "\n",
    "A coluna resolucao_tela refere-se à resolução de tela do notebook, podendo ser HD, FULHD, QUADHD ou 4K, em ordem respectiva da tecnologia mais barata para a mais cara.\n",
    "\n",
    "A coluna tipo_tela refere-se ao tipo de tela do notebook, com os possíveis valores sendo TN, IPS, VA, OLED ou AMOLED, em ordem respectiva da tecnologia mais barata para a mais cara.\n",
    "\n",
    "A coluna tela_touch representa se o notebook possui a tela Touchscreen ou não.\n",
    "\n",
    "A coluna armazenamento_hdd representa quantos gb de armazenamento o notebook possui em HDD, podendo ser valores de 250, 500, 1000 ou 2000 (se o notebook não tiver HDD, o valor nesta coluna é 0).\n",
    "\n",
    "A coluna armazenamento_ssd representa quantos gb de armazenamento o notebook possui em SSD, podendo ser valores de 125, 250, 500, 1000 ou 2000 (se o notebook não tiver SSD, o valor nesta coluna é 0).\n",
    "\n",
    "A coluna segmento representa qual segmento o notebook possui, podendo ser entrada, intermediario, premium, 2em1, jogos_entrada, jogos_intermediarios, jogos_premium, ultraportatil.\n",
    "\n",
    "A coluna valor possui o valor de lançamento do notebook.\n"
   ]
  },
  {
   "cell_type": "code",
   "execution_count": null,
   "metadata": {},
   "outputs": [],
   "source": []
  },
  {
   "cell_type": "code",
   "execution_count": null,
   "metadata": {},
   "outputs": [],
   "source": []
  },
  {
   "cell_type": "code",
   "execution_count": null,
   "metadata": {},
   "outputs": [],
   "source": []
  },
  {
   "cell_type": "code",
   "execution_count": null,
   "metadata": {},
   "outputs": [],
   "source": []
  },
  {
   "cell_type": "code",
   "execution_count": null,
   "metadata": {},
   "outputs": [],
   "source": []
  },
  {
   "cell_type": "code",
   "execution_count": null,
   "metadata": {},
   "outputs": [],
   "source": []
  },
  {
   "attachments": {},
   "cell_type": "markdown",
   "metadata": {},
   "source": [
    "# 2 - Realize todo o tratamento de dados necessário para aplicar os dados em um algorítmo de rede neural para fazer uma regressão para prever o valor do notebook.\n",
    "\n",
    "- Tratar valores núlos (se houver);\n",
    "\n",
    "- Converter valores textuais para numéricos (como a rede neural faz cálculos, talvez seja mais interessante usar o loc para definir algumas colunas como a segmento, tipo tela... colocando valores numéricos mais intuitivos em relação ao valor, ou seja, o que é mais barato substitui por 0 e assim por diante. Se quiser usar apenas o label encoder não tem problema, mas pode obter resultados menos interessantes...);\n",
    "\n",
    "- Normalizar os dados;\n",
    "\n",
    "- Separar 0.2% para teste ( não é 20% nem 2%, é 0.2% mesmo)"
   ]
  },
  {
   "cell_type": "code",
   "execution_count": null,
   "metadata": {},
   "outputs": [],
   "source": []
  },
  {
   "cell_type": "code",
   "execution_count": null,
   "metadata": {},
   "outputs": [],
   "source": []
  },
  {
   "cell_type": "code",
   "execution_count": null,
   "metadata": {},
   "outputs": [],
   "source": []
  },
  {
   "cell_type": "code",
   "execution_count": null,
   "metadata": {},
   "outputs": [],
   "source": []
  },
  {
   "cell_type": "code",
   "execution_count": null,
   "metadata": {},
   "outputs": [],
   "source": []
  },
  {
   "cell_type": "code",
   "execution_count": null,
   "metadata": {},
   "outputs": [],
   "source": []
  },
  {
   "cell_type": "code",
   "execution_count": null,
   "metadata": {},
   "outputs": [],
   "source": []
  },
  {
   "cell_type": "code",
   "execution_count": null,
   "metadata": {},
   "outputs": [],
   "source": []
  },
  {
   "cell_type": "code",
   "execution_count": null,
   "metadata": {},
   "outputs": [],
   "source": []
  },
  {
   "cell_type": "code",
   "execution_count": null,
   "metadata": {},
   "outputs": [],
   "source": []
  },
  {
   "cell_type": "code",
   "execution_count": null,
   "metadata": {},
   "outputs": [],
   "source": []
  },
  {
   "cell_type": "code",
   "execution_count": null,
   "metadata": {},
   "outputs": [],
   "source": []
  },
  {
   "cell_type": "code",
   "execution_count": null,
   "metadata": {},
   "outputs": [],
   "source": []
  },
  {
   "cell_type": "code",
   "execution_count": null,
   "metadata": {},
   "outputs": [],
   "source": []
  },
  {
   "cell_type": "code",
   "execution_count": null,
   "metadata": {},
   "outputs": [],
   "source": []
  },
  {
   "cell_type": "code",
   "execution_count": null,
   "metadata": {},
   "outputs": [],
   "source": []
  },
  {
   "cell_type": "code",
   "execution_count": null,
   "metadata": {},
   "outputs": [],
   "source": []
  },
  {
   "attachments": {},
   "cell_type": "markdown",
   "metadata": {},
   "source": [
    "# 3 - Treinamento de uma rede neural para regressão\n",
    "\n",
    "- Defina uma rede neural para realizar a regressão e prever o valor do notebook. A estrutura da rede neural fica a critério de cada um para definir quantas camadas ocultas e quantos neurônios nas camadas ocultas;\n",
    "\n",
    "- Defina 30% dos dados para validação (no treinamento, validation_split = 0.3)\n",
    "\n",
    "- Salve o histórico do treinamento em uma variável chamada history;\n",
    "\n",
    "- Para não demorar, não treine a rede por mais de 100 épocas."
   ]
  },
  {
   "cell_type": "code",
   "execution_count": null,
   "metadata": {},
   "outputs": [],
   "source": []
  },
  {
   "cell_type": "code",
   "execution_count": null,
   "metadata": {},
   "outputs": [],
   "source": []
  },
  {
   "attachments": {},
   "cell_type": "markdown",
   "metadata": {},
   "source": [
    "# 4 - A) Exiba o erro médio quadrático (MSE)\n",
    "\n",
    "Para isto, faça uma previsão nos dados de X_test com o modelo treinado."
   ]
  },
  {
   "cell_type": "code",
   "execution_count": null,
   "metadata": {},
   "outputs": [],
   "source": []
  },
  {
   "attachments": {},
   "cell_type": "markdown",
   "metadata": {},
   "source": [
    "# 4 - B) Exiba um gráfico com os valores reais e preditos pelo modelo"
   ]
  },
  {
   "cell_type": "code",
   "execution_count": null,
   "metadata": {},
   "outputs": [],
   "source": []
  },
  {
   "cell_type": "code",
   "execution_count": null,
   "metadata": {},
   "outputs": [],
   "source": []
  },
  {
   "attachments": {},
   "cell_type": "markdown",
   "metadata": {},
   "source": [
    "# 5 - Faça um gráfico com o loss de treinamento e validação"
   ]
  },
  {
   "cell_type": "code",
   "execution_count": null,
   "metadata": {},
   "outputs": [],
   "source": []
  },
  {
   "cell_type": "code",
   "execution_count": null,
   "metadata": {},
   "outputs": [],
   "source": []
  },
  {
   "attachments": {},
   "cell_type": "markdown",
   "metadata": {},
   "source": [
    "# 6 - Faça a leitura da base de dados notebooks_nulo.csv, trate os dados (valores nulos, textuais, normalização, transformar os valores de y em categoricos....) e separe em X e y de treinamento e teste com 20% para teste\n",
    "\n",
    "A base de dados notebooks_nulo.csv é semelhante à base de dados notebooks.csv, mas não possui a coluna valor e possui alguns valores nulos.\n",
    "\n",
    "Para separar os dados em X e y, considere a coluna segmento para ser o alvo (valor de y)"
   ]
  },
  {
   "cell_type": "code",
   "execution_count": null,
   "metadata": {},
   "outputs": [],
   "source": []
  },
  {
   "cell_type": "code",
   "execution_count": null,
   "metadata": {},
   "outputs": [],
   "source": []
  },
  {
   "cell_type": "code",
   "execution_count": null,
   "metadata": {},
   "outputs": [],
   "source": []
  },
  {
   "cell_type": "code",
   "execution_count": null,
   "metadata": {},
   "outputs": [],
   "source": []
  },
  {
   "cell_type": "code",
   "execution_count": null,
   "metadata": {},
   "outputs": [],
   "source": []
  },
  {
   "cell_type": "code",
   "execution_count": null,
   "metadata": {},
   "outputs": [],
   "source": []
  },
  {
   "cell_type": "code",
   "execution_count": null,
   "metadata": {},
   "outputs": [],
   "source": []
  },
  {
   "cell_type": "code",
   "execution_count": null,
   "metadata": {},
   "outputs": [],
   "source": []
  },
  {
   "cell_type": "code",
   "execution_count": null,
   "metadata": {},
   "outputs": [],
   "source": []
  },
  {
   "cell_type": "code",
   "execution_count": null,
   "metadata": {},
   "outputs": [],
   "source": []
  },
  {
   "cell_type": "code",
   "execution_count": null,
   "metadata": {},
   "outputs": [],
   "source": []
  },
  {
   "attachments": {},
   "cell_type": "markdown",
   "metadata": {},
   "source": [
    "# 7 - Treinamento de uma rede neural para classificação\n",
    "\n",
    "- Defina uma rede neural para realizar a classificação e prever qual o segmento do notebook. A estrutura da rede neural fica a critério de cada um para definir quantas camadas ocultas e quantos neurônios nas camadas ocultas;\n",
    "\n",
    "- Defina 15% dos dados para validação (no treinamento, validation_split = 0.15)\n",
    "\n",
    "- Salve o histórico do treinamento em uma variável chamada history;\n",
    "\n",
    "- Para não demorar, não treine a rede por mais de 100 épocas."
   ]
  },
  {
   "cell_type": "code",
   "execution_count": null,
   "metadata": {},
   "outputs": [],
   "source": []
  },
  {
   "cell_type": "code",
   "execution_count": null,
   "metadata": {},
   "outputs": [],
   "source": []
  },
  {
   "cell_type": "code",
   "execution_count": null,
   "metadata": {},
   "outputs": [],
   "source": []
  },
  {
   "attachments": {},
   "cell_type": "markdown",
   "metadata": {},
   "source": [
    "# 8 - Exiba a acurácia do modelo."
   ]
  },
  {
   "cell_type": "code",
   "execution_count": null,
   "metadata": {},
   "outputs": [],
   "source": []
  },
  {
   "attachments": {},
   "cell_type": "markdown",
   "metadata": {},
   "source": [
    "# 9 - Exiba a matriz de confusão."
   ]
  },
  {
   "cell_type": "code",
   "execution_count": null,
   "metadata": {},
   "outputs": [],
   "source": []
  },
  {
   "cell_type": "code",
   "execution_count": null,
   "metadata": {},
   "outputs": [],
   "source": []
  },
  {
   "cell_type": "code",
   "execution_count": null,
   "metadata": {},
   "outputs": [],
   "source": []
  },
  {
   "cell_type": "code",
   "execution_count": null,
   "metadata": {},
   "outputs": [],
   "source": []
  },
  {
   "attachments": {},
   "cell_type": "markdown",
   "metadata": {},
   "source": [
    "# 10 - Exiba um gráfico com os dados do treinamento.\n",
    "- loss;\n",
    "- val_loss;\n",
    "- accuracy;\n",
    "- val_accuracy;"
   ]
  },
  {
   "cell_type": "code",
   "execution_count": null,
   "metadata": {},
   "outputs": [],
   "source": []
  }
 ],
 "metadata": {
  "kernelspec": {
   "display_name": "base",
   "language": "python",
   "name": "python3"
  },
  "language_info": {
   "codemirror_mode": {
    "name": "ipython",
    "version": 3
   },
   "file_extension": ".py",
   "mimetype": "text/x-python",
   "name": "python",
   "nbconvert_exporter": "python",
   "pygments_lexer": "ipython3",
   "version": "3.9.16"
  },
  "orig_nbformat": 4
 },
 "nbformat": 4,
 "nbformat_minor": 2
}
