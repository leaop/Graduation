{
 "cells": [
  {
   "attachments": {},
   "cell_type": "markdown",
   "metadata": {},
   "source": [
    "# Exercício\n",
    "\n",
    "## 1. Leitura do arquivo\n",
    "\n",
    "Realize a leitura do arquivo `notebooks_nulos_exercicio.csv`.\n",
    "\n",
    "## 2. Tratamento dos valores textuais\n",
    "\n",
    "Realize o tratamento dos valores textuais substituindo os nulos pela moda e, em seguida, convertendo para valores numéricos.\n",
    "\n",
    "``OBS``: Se houver valor nulo na coluna \"ram_gpu\", é importante considerar o seguinte ao tratar os valores nulos. Se o notebook tiver valor 0 na coluna \"gpu_dedicada\", significa que o notebook não possui uma GPU dedicada. Nesse caso, esse valor núlo deve ser substituído por 0. Por outro lado, se tiver valor 1 na coluna \"gpu_dedicada\", significa que o notebook possui uma GPU dedicada e o valor nulo não pode ser substituído por 0. Além disso, é importante ressaltar que não é possível que um notebook tenha 1.5GB de RAM na GPU, pois esta coluna contém valores numéricos inteiros.\n",
    "\n",
    "## 3. Tratamento dos valores numéricos - Método da Média\n",
    "\n",
    "### 3.1. Conversão dos valores numéricos nulos\n",
    "\n",
    "Converta todos os valores numéricos nulos para a média.\n",
    "\n",
    "### 3.2. Separação de X e y\n",
    "\n",
    "Separe X e y.\n",
    "\n",
    "### 3.3. Normalização de X e y\n",
    "\n",
    "Normalize X e y.\n",
    "\n",
    "### 3.4. Separação de X e y - Treinamento, Validação e Teste\n",
    "\n",
    "Separe X e y de treinamento (70%), validação (15%) e teste (15%) com o random state = 42.\n",
    "\n",
    "### 3.5. Treinamento de um modelo de rede neural\n",
    "\n",
    "Treine um modelo de rede neural.\n",
    "\n",
    "### 3.6. Avaliação do modelo\n",
    "\n",
    "Exiba as métricas do modelo (não esqueça de desnormalizar y_teste e y_predito).\n",
    "\n",
    "## 4. Tratamento dos valores numéricos - Método da Mediana\n",
    "\n",
    "### 4.1. Conversão dos valores numéricos nulos\n",
    "\n",
    "Converta todos os valores numéricos nulos para a mediana.\n",
    "\n",
    "### 4.2. Separação de X e y\n",
    "\n",
    "Separe X e y.\n",
    "\n",
    "### 4.3. Normalização de X e y\n",
    "\n",
    "Normalize X e y.\n",
    "\n",
    "### 4.4. Separação de X e y - Treinamento, Validação e Teste\n",
    "\n",
    "Separe X e y de treinamento (70%), validação (15%) e teste (15%) com o random state = 42.\n",
    "\n",
    "### 4.5. Treinamento de um modelo de rede neural\n",
    "\n",
    "Treine um modelo de rede neural.\n",
    "\n",
    "### 4.6. Avaliação do modelo\n",
    "\n",
    "Exiba as métricas do modelo (não esqueça de desnormalizar y_teste e y_predito).\n",
    "\n",
    "## 5. Tratamento dos valores numéricos - Método da Moda\n",
    "\n",
    "### 5.1. Conversão dos valores numéricos nulos\n",
    "\n",
    "Converta todos os valores numéricos nulos para a moda.\n",
    "\n",
    "### 5.2. Separação de X e y\n",
    "\n",
    "Separe X e y.\n",
    "\n",
    "### 5.3. Normalização de X e y\n",
    "\n",
    "Normalize X e y.\n",
    "\n",
    "### 5.4. Separação de X e y - Treinamento, Validação e Teste\n",
    "\n",
    "Separe X e y de treinamento (70%), validação (15%) e teste (15%) com o random state = 42.\n",
    "\n",
    "### 5.5. Treinamento de um modelo de rede neural\n",
    "\n",
    "Treine um modelo de rede neural.\n",
    "\n",
    "### 5.6. Avaliação do modelo\n",
    "\n",
    "Exiba as métricas do modelo (não esqueça de desnormalizar y_teste e y_predito).\n",
    "\n",
    "## 6. Tratamento dos valores numéricos - Método da Média, Mediana ou Moda\n",
    "\n",
    "### 6.1. Conversão dos valores numéricos nulos\n",
    "\n",
    "Converta todos os valores numéricos nulos para a média, mediana ou moda, de acordo com o valor mais adequado encontrado de acordo com o desvio padrão e a comparação entre a média e mediana.\n",
    "\n",
    "### 6.2. Separação de X e y\n",
    "\n",
    "Separe X e y.\n",
    "\n",
    "### 6.3. Normalização de X e y\n",
    "\n",
    "Normalize X e y.\n",
    "\n",
    "### 6.4. Separação de X e y - Treinamento, Validação e Teste\n",
    "\n",
    "Separe X e y de treinamento (70%), validação (15%) e teste (15%) com o random state = 42.\n",
    "\n",
    "### 6.5. Treinamento de um modelo de rede neural\n",
    "\n",
    "Treine um modelo de rede neural.\n",
    "\n",
    "### 6.6. Avaliação do modelo\n",
    "\n",
    "Exiba as métricas do modelo (não esqueça de desnormalizar y_teste e y_predito).\n",
    "\n",
    "# 7 - Qual dos 3 modelos performou melhor?"
   ]
  },
  {
   "cell_type": "code",
   "execution_count": null,
   "metadata": {
    "vscode": {
     "languageId": "plaintext"
    }
   },
   "outputs": [],
   "source": []
  },
  {
   "cell_type": "code",
   "execution_count": null,
   "metadata": {
    "vscode": {
     "languageId": "plaintext"
    }
   },
   "outputs": [],
   "source": []
  },
  {
   "cell_type": "code",
   "execution_count": null,
   "metadata": {
    "vscode": {
     "languageId": "plaintext"
    }
   },
   "outputs": [],
   "source": []
  },
  {
   "cell_type": "code",
   "execution_count": null,
   "metadata": {
    "vscode": {
     "languageId": "plaintext"
    }
   },
   "outputs": [],
   "source": []
  },
  {
   "cell_type": "code",
   "execution_count": null,
   "metadata": {
    "vscode": {
     "languageId": "plaintext"
    }
   },
   "outputs": [],
   "source": []
  },
  {
   "cell_type": "code",
   "execution_count": null,
   "metadata": {
    "vscode": {
     "languageId": "plaintext"
    }
   },
   "outputs": [],
   "source": []
  },
  {
   "cell_type": "code",
   "execution_count": null,
   "metadata": {
    "vscode": {
     "languageId": "plaintext"
    }
   },
   "outputs": [],
   "source": []
  },
  {
   "cell_type": "code",
   "execution_count": null,
   "metadata": {
    "vscode": {
     "languageId": "plaintext"
    }
   },
   "outputs": [],
   "source": []
  },
  {
   "cell_type": "code",
   "execution_count": null,
   "metadata": {
    "vscode": {
     "languageId": "plaintext"
    }
   },
   "outputs": [],
   "source": []
  },
  {
   "cell_type": "code",
   "execution_count": null,
   "metadata": {
    "vscode": {
     "languageId": "plaintext"
    }
   },
   "outputs": [],
   "source": []
  },
  {
   "cell_type": "code",
   "execution_count": null,
   "metadata": {
    "vscode": {
     "languageId": "plaintext"
    }
   },
   "outputs": [],
   "source": []
  },
  {
   "cell_type": "code",
   "execution_count": null,
   "metadata": {
    "vscode": {
     "languageId": "plaintext"
    }
   },
   "outputs": [],
   "source": []
  },
  {
   "cell_type": "code",
   "execution_count": null,
   "metadata": {
    "vscode": {
     "languageId": "plaintext"
    }
   },
   "outputs": [],
   "source": []
  }
 ],
 "metadata": {
  "language_info": {
   "name": "python"
  },
  "orig_nbformat": 4
 },
 "nbformat": 4,
 "nbformat_minor": 2
}
