{
  "cells": [
    {
      "cell_type": "markdown",
      "metadata": {
        "colab_type": "text",
        "id": "view-in-github"
      },
      "source": [
        "<a href=\"https://colab.research.google.com/github/leaop/Graduation/blob/main/Classifica%C3%A7%C3%A3o_e_Regress%C3%A3o.ipynb\" target=\"_parent\"><img src=\"https://colab.research.google.com/assets/colab-badge.svg\" alt=\"Open In Colab\"/></a>"
      ]
    },
    {
      "cell_type": "markdown",
      "metadata": {
        "id": "jOkswhqOxHxf"
      },
      "source": [
        "# Unidade 1 - Tarefas de Mineração de Dados"
      ]
    },
    {
      "cell_type": "markdown",
      "metadata": {
        "id": "RZF4_sy4xHxh"
      },
      "source": [
        "As tarefas de mineração de dados referem-se ao processo de explorar grandes conjuntos de dados para encontrar padrões, relações e informações úteis. A mineração de dados envolve uma variedade de técnicas, algoritmos e abordagens para identificar informações ocultas e valiosas nos dados, que podem ser utilizadas para tomar decisões informadas em uma variedade de áreas, como negócios, ciência, saúde, governo, entre outros.\n",
        "\n",
        "Algumas das principais tarefas de mineração de dados incluem:\n",
        "1.\t`Classificação`: é a tarefa de classificar objetos em categorias pré-definidas com base em suas características.\n",
        "2.\t`Regressão`: é a tarefa de prever um valor numérico com base em um conjunto de variáveis independentes.\n",
        "3.\t`Clusterização`: é a tarefa de agrupar objetos em grupos ou clusters com base em suas características.\n",
        "4.\t`Associação`: é a tarefa de identificar relações ou associações entre os diferentes atributos ou variáveis do conjunto de dados.\n",
        "5.\t`Análise de anomalias`: é a tarefa de identificar anomalias ou padrões incomuns nos dados, que podem ser indicativos de problemas ou oportunidades.\n",
        "6.\t`Sumarização`: é a tarefa de criar uma representação resumida dos dados para ajudar na sua compreensão e interpretação.\n",
        "7.\t`Previsão de séries temporais`: é a tarefa de prever valores futuros com base em padrões e tendências identificados nos dados históricos.\n",
        "\n",
        "Em resumo, as \"tarefas\" de Mineração de Dados realizam a fase de descoberta de conhecimento em Bases de Dados, em inglês, KDD - Knowledge Discovery in Databases. O KDD é formado por diversas etapas para transformar os dados brutos em informações relevantes (conhecimento útil).\n",
        "\n",
        "### Qual a importância da Classificação e Regressão em mineração de dados?\n",
        "\n",
        "A classificação e regressão são técnicas fundamentais em mineração de dados, que permitem, por exemplo, fazer previsões a partir de dados históricos.\n",
        "\n",
        "A classificação é usada para prever a classe ou categoria de um objeto ou evento com base em atributos conhecidos. Por exemplo, em uma empresa de telecomunicações, a classificação pode ser usada para prever se um cliente irá cancelar ou não seu serviço com base em fatores como tempo de contrato, taxa de uso e histórico de pagamentos. Isso permite que a empresa tome medidas para evitar o cancelamento de clientes, como oferecer promoções ou um serviço de melhor qualidade.\n",
        "\n",
        "Já a regressão é usada para prever um valor numérico a partir de um conjunto de variáveis conhecidas. Por exemplo, em uma empresa de seguros, a regressão pode ser usada para prever o valor de uma apólice com base em fatores como idade, histórico de sinistros e tipo de veículo. Isso ajuda a empresa a determinar o preço da apólice de forma mais precisa e justa.\n",
        "\n",
        "Ambas as técnicas são importantes porque permitem que as empresas tomem decisões mais informadas com base em dados históricos, tornando suas operações mais eficientes e reduzindo custos. Além disso, elas podem ser aplicadas em diversas ajudando as empresas a obter insights valiosos e tomar decisões mais precisas e estratégicas.\n",
        "\n",
        "### Algumas características importantes da classificação e regressão incluem:\n",
        "•   São técnicas de aprendizado supervisionado, ou seja, exigem um conjunto de dados com as classes conhecidas para treinar o modelo.\n",
        "\n",
        "•\tPodem ser aplicadas em diversas áreas, como finanças, saúde, marketing, segurança, entre outras.\n",
        "\n",
        "•\tRequerem o uso de algoritmos de aprendizado de máquina, que podem variar de acordo com o tipo de problema a ser resolvido.\n",
        "\n",
        "•\tPodem ser usadas em conjunto com outras técnicas de mineração de dados, como associação e agrupamento, para obter insights mais abrangentes sobre um conjunto de dados.\n",
        "\n",
        "### Alguns algoritmos e técnicas utilizadas em classificação e regressão\n",
        "Os algoritmos e técnicas utilizados em classificação e regressão podem variar de acordo com o tipo de problema a ser resolvido e as características do conjunto de dados. No entanto, existem algumas técnicas e algoritmos comumente utilizados em ambas as tarefas:\n",
        "\n",
        "1.\t`Árvores de decisão`: consiste em um modelo de árvore que divide o conjunto de dados em subconjuntos menores com base nas características ou atributos dos dados, até chegar a uma decisão final.\n",
        "\n",
        "2.\t`K-NN (K-Nearest Neighbors)`: é um algoritmo que calcula a distância entre cada objeto no conjunto de dados e seus vizinhos mais próximos, para determinar sua classe ou valor previsto.\n",
        "\n",
        "3.\t`Naive Bayes`: é um algoritmo baseado no Teorema de Bayes que utiliza a probabilidade condicional para determinar a classe ou valor previsto de um objeto no conjunto de dados.\n",
        "\n",
        "4.\t`Regressão Linear`: é uma técnica que utiliza uma equação linear para prever o valor numérico de uma variável dependente com base em uma ou mais variáveis independentes.\n",
        "\n",
        "5.\t`Redes Neurais Artificiais`: são modelos inspirados no funcionamento do cérebro humano, que utilizam camadas de neurônios artificiais interconectados para fazer previsões.\n",
        "\n",
        "6.\t`Máquinas de Vetores de Suporte (SVM)`: é um algoritmo que busca encontrar a melhor linha ou superfície de separação entre as classes do conjunto de dados.\n",
        "\n",
        "Esses são apenas alguns exemplos de algoritmos e técnicas utilizados em classificação e regressão na mineração de dados. A escolha do algoritmo mais adequado depende do tipo de problema a ser resolvido, da qualidade e tamanho do conjunto de dados, da complexidade do modelo e de outros fatores específicos do contexto da análise de dados.\n",
        "\n",
        "### Limitações e desafios das tarefas de classificação e regressão em mineração de dados\n",
        "Embora a classificação e regressão sejam técnicas poderosas da mineração de dados, elas também apresentam algumas limitações e desafios. Algumas das principais são:\n",
        "\n",
        "1.\t`Disponibilidade de dados`: as tarefas de classificação e regressão exigem uma quantidade significativa de dados de treinamento para construir modelos confiáveis e precisos. Se os dados disponíveis são limitados ou incompletos, pode ser difícil criar um modelo com alta acurácia.\n",
        "\n",
        "2.\t`Complexidade do modelo`: alguns conjuntos de dados podem ser tão complexos que é difícil encontrar um modelo que possa prever corretamente as classes ou valores alvo. Isso pode levar à criação de modelos excessivamente complexos, que podem ser difíceis de interpretar e entender.\n",
        "\n",
        "3.\t`Overfitting`: é o fenômeno em que o modelo é ajustado em excesso aos dados de treinamento, tornando-o menos preciso ao fazer previsões em dados desconhecidos. Isso pode ocorrer quando o modelo é muito específico para os dados de treinamento e não consegue capturar as variações dos dados novos e desconhecidos.\n",
        "\n",
        "4.\t`Desequilíbrio de classes`: algumas tarefas de classificação podem ter um desequilíbrio nas classes, o que significa que uma classe pode ter muito mais exemplos do que outra. Isso pode levar a um viés do modelo em favor da classe majoritária e a uma baixa precisão na previsão da classe minoritária.\n",
        "\n",
        "5.\t`Interpretabilidade do modelo`: alguns modelos de classificação e regressão podem ser difíceis de interpretar, especialmente quando são baseados em algoritmos complexos, como redes neurais. Isso pode dificultar a identificação das variáveis mais importantes ou a explicação dos resultados para pessoas mais leigas na área.\n",
        "\n",
        "Essas são apenas algumas das limitações e desafios que as tarefas de classificação e regressão podem enfrentar na mineração de dados. É importante levar em consideração esses aspectos ao selecionar a técnica e o algoritmo adequados para cada problema de análise de dados."
      ]
    },
    {
      "cell_type": "markdown",
      "metadata": {
        "id": "NHlCAfVgxHxj"
      },
      "source": [
        "# Classificação"
      ]
    },
    {
      "cell_type": "markdown",
      "metadata": {
        "id": "Nz06JHrJxHxj"
      },
      "source": [
        "\n",
        "A classificação é uma das tarefas fundamentais na área de Mineração de Dados, que consiste em treinar um modelo a partir de um conjunto de dados rotulados (que já conhecemos as informações que os dados possuem), de forma que esse modelo possa ser usado para classificar novos dados não rotulados em categorias pré-definidas.\n",
        "\n",
        "Em outras palavras, a classificação é um processo de atribuição de rótulos ou classes a um conjunto de dados com base em seus atributos ou características. O objetivo é identificar um modelo ou padrão que possa ser usado para prever a classe de novos dados com base nas informações contidas nos dados de treinamento.\n",
        "\n",
        "Existem vários algoritmos de classificação, incluindo árvores de decisão, redes neurais, regressão logística, SVM (máquinas de vetor de suporte), Naive Bayes e K-Nearest Neighbors (KNN). Cada um desses algoritmos tem suas próprias vantagens e desvantagens e são mais adequados para diferentes tipos de problemas de classificação.\n",
        "\n",
        "### Exemplo de aplicação de Classificação:\n",
        "Um exemplo de classificação em Tarefas de Mineração de Dados pode ser a classificação de e-mails em spam e não-spam. O objetivo seria treinar um modelo que pudesse classificar novos e-mails em spam ou não-spam com base em suas características, como palavras-chave, remetente, assunto, quantidade de caracteres, etc.\n",
        "\n",
        "O conjunto de dados para este exemplo seria composto por uma lista de e-mails já classificados manualmente como spam ou não-spam. O modelo seria treinado usando algoritmos de aprendizado de máquina supervisionados, onde as características dos e-mails seriam usadas como variáveis independentes e a classe de spam ou não-spam seria a variável dependente.\n",
        "\n",
        "Após o treinamento, o modelo seria testado com novos e-mails, validado e, caso o modelo atinja uma elevada acurácia para prever se um e-mail é spam ou não, este modelo de classificação automática de e-mails poderia ajudar a economizar tempo e aumentar a eficiência de gerenciamento de e-mails.\n",
        "\n",
        "### Outro exemplo de aplicação de Classificação:\n",
        "A classificação de imagens em diferentes categorias. Por exemplo, suponha que temos um conjunto de imagens de animais e queremos classificá-las em categorias como cães, gatos, pássaros, entre outros.\n",
        "\n",
        "O conjunto de dados seria composto por imagens rotuladas de diferentes animais. O modelo seria treinado usando algoritmos de aprendizado de máquina supervisionados, onde as características das imagens (como a cor, a forma, o tamanho, entre outros) seriam usadas como variáveis independentes e a categoria do animal seria a variável dependente.\n",
        "\n",
        "Após o treinamento, teste e validação do modelo, poderíamos classificar novas imagens de animais em suas respectivas categorias com alta precisão. \n",
        "\n",
        "Este tipo de classificação automática de imagens pode ser útil em áreas como reconhecimento de objetos, análise de imagens médicas, vigilância e muitas outras. Atualmente, o estado da arte na visão computacional é o algoritmo YOLO (You Only Look Once), que possuí uma arquitetura de rede neural CNN (Convolutional Neural Netword). \n",
        "\n",
        "Caso se interesse por esta área de Visão Computacional, recomendo a leitura do artigo disponível em https://pjreddie.com/media/files/papers/yolo_1.pdf"
      ]
    },
    {
      "cell_type": "markdown",
      "metadata": {
        "id": "4LvLkSMKxHxj"
      },
      "source": [
        "Iremos realizar a classificação de roupas com o TensorFlow"
      ]
    },
    {
      "cell_type": "code",
      "execution_count": 12,
      "metadata": {
        "id": "5HZKLKgUxHxj"
      },
      "outputs": [],
      "source": [
        "#!pip install \n",
        "#!pip install tensorflow\n",
        "#!pip instal -U scikit-learn\n",
        "#!pip install pandas\n",
        "#!pip install numpy\n"
      ]
    },
    {
      "cell_type": "code",
      "execution_count": 13,
      "metadata": {
        "id": "AsB4ME9JxHxl"
      },
      "outputs": [
        {
          "name": "stdout",
          "output_type": "stream",
          "text": [
            "2.12.0\n"
          ]
        }
      ],
      "source": [
        "# TensorFlow e tf.keras\n",
        "import tensorflow as tf\n",
        "from tensorflow import keras\n",
        "\n",
        "# Bibliotecas Auxiliares\n",
        "import numpy as np\n",
        "import matplotlib.pyplot as plt\n",
        "import sklearn.metrics as sm\n",
        "\n",
        "print(tf.__version__)"
      ]
    },
    {
      "cell_type": "markdown",
      "metadata": {
        "id": "NsDQDSNWxHxl"
      },
      "source": [
        "A base de dados que iremos utilizar esta disponível no próprio keras como um dataset de exemplo.\n",
        "\n",
        "O dataset é composto por 70.000 pequenas imagens de 28x28 pixels. Cada imagem é representada por um array numpy (uma matriz) de 28 linhas e 28 colunas, sendo cada pixel da imagem uma tupla da matriz.\n",
        "\n",
        "Na base de dados, cada imagem representa uma peça de roupa, mas para a maioria dos algoritmos de Machine Learning, não podemos usar textos, devendo assim, usar um valor numérico para representar cada classe de roupa. Desta forma, cada valor na base de dados possuí a seguinte representação: \n",
        "- 0 = Camisetas/Top (T-shirt/top)\n",
        "- 1 = Calça (Trouser)\n",
        "- 2 = Suéter (Pullover)\n",
        "- 3 = Vestidos (Dress)\n",
        "- 4 = Casaco (Coat)\n",
        "- 5 = Sandálias (Sandal)\n",
        "- 6 = Camisas (Shirt)\n",
        "- 7 = Tênis (Sneaker)\n",
        "- 8 = Bolsa (Bag)\n",
        "- 9 = Botas (Ankle boot)"
      ]
    },
    {
      "cell_type": "code",
      "execution_count": 14,
      "metadata": {
        "id": "x7ydwbzRxHxl"
      },
      "outputs": [],
      "source": [
        "# Baixar a base de dados\n",
        "fashion_mnist = keras.datasets.fashion_mnist\n",
        "(train_images, train_labels), (test_images, test_labels) = fashion_mnist.load_data()\n",
        "\n",
        "# Definimos o nome das classes\n",
        "class_names = ['Camiseta', 'Calça', 'Suéter', 'Vestido', 'Casaco',\n",
        "               'Sandália', 'Camisa', 'Tênis', 'Bolsa', 'Botas']"
      ]
    },
    {
      "cell_type": "markdown",
      "metadata": {
        "id": "mAsYUcUXxHxl"
      },
      "source": [
        "As imagens (train_images e train_images) são as matrizes das imagens e as labels (train_labels e test_labels) são as classes de cada imagem.\n",
        "\n",
        "Breve exploração da base de dados\n",
        "\n",
        "Com o comando `shape` é possível ver qual o formato da base de dados.\n",
        "No caso da base de dados que iremos utilizar, o comando shape irá retornar 3 valores, respectivamente:\n",
        "- Quantidade de registros (no caso, quantidade de imagens)\n",
        "- Quantidade de Linhas de cada registro\n",
        "- Quantidade de \"colunas\" de cada registro\n",
        "\n",
        "Abaixo temos um array com 2 registros, sendo cada registro com apenas 1 linha e 3 colunas"
      ]
    },
    {
      "cell_type": "code",
      "execution_count": 15,
      "metadata": {
        "id": "SrDxvmZ8xHxm"
      },
      "outputs": [
        {
          "data": {
            "text/plain": [
              "(2, 1, 3)"
            ]
          },
          "execution_count": 15,
          "metadata": {},
          "output_type": "execute_result"
        }
      ],
      "source": [
        "np.array([\n",
        "    [['a','b','c']],\n",
        "    [['a','b','c']]]).shape"
      ]
    },
    {
      "cell_type": "markdown",
      "metadata": {
        "id": "KN4pO6qmxHxm"
      },
      "source": [
        "Abaixo temos um array com 2 registros, sendo cada registro com 3 linhas e 4 colunas"
      ]
    },
    {
      "cell_type": "code",
      "execution_count": 16,
      "metadata": {
        "id": "wsJv6j-4xHxm"
      },
      "outputs": [
        {
          "data": {
            "text/plain": [
              "(2, 3, 4)"
            ]
          },
          "execution_count": 16,
          "metadata": {},
          "output_type": "execute_result"
        }
      ],
      "source": [
        "np.array([\n",
        "    [['a','b','c','d'],\n",
        "     ['a','b','c','d'],\n",
        "     ['a','b','c','d']],\n",
        "\n",
        "    [['a','b','c','d'],\n",
        "     ['a','b','c','d'],\n",
        "     ['a','b','c','d']]]).shape"
      ]
    },
    {
      "cell_type": "markdown",
      "metadata": {
        "id": "JEn5doLRxHxm"
      },
      "source": [
        "Base de dados de treinamento, 60.000 registros (imagens), tendo cada registro 28 linhas e 28 colunas"
      ]
    },
    {
      "cell_type": "code",
      "execution_count": 17,
      "metadata": {
        "id": "JXcYhKT9xHxm"
      },
      "outputs": [
        {
          "data": {
            "text/plain": [
              "(60000, 28, 28)"
            ]
          },
          "execution_count": 17,
          "metadata": {},
          "output_type": "execute_result"
        }
      ],
      "source": [
        "train_images.shape"
      ]
    },
    {
      "cell_type": "markdown",
      "metadata": {
        "id": "JNz0xVdixHxm"
      },
      "source": [
        "Base de dados de teste, 10.000 registros (imagens), tendo cada registro 28 linhas e 28 colunas"
      ]
    },
    {
      "cell_type": "code",
      "execution_count": 18,
      "metadata": {
        "id": "pvRCJH5MxHxm"
      },
      "outputs": [
        {
          "data": {
            "text/plain": [
              "(10000, 28, 28)"
            ]
          },
          "execution_count": 18,
          "metadata": {},
          "output_type": "execute_result"
        }
      ],
      "source": [
        "test_images.shape"
      ]
    },
    {
      "cell_type": "markdown",
      "metadata": {
        "id": "8tc3tmkcxHxm"
      },
      "source": [
        "Já nas labels (nosas classes), temos apenas 1 registro para cada matriz (imagem)."
      ]
    },
    {
      "cell_type": "code",
      "execution_count": 19,
      "metadata": {
        "id": "NQEozqZ5xHxm"
      },
      "outputs": [
        {
          "data": {
            "text/plain": [
              "(60000,)"
            ]
          },
          "execution_count": 19,
          "metadata": {},
          "output_type": "execute_result"
        }
      ],
      "source": [
        "train_labels.shape"
      ]
    },
    {
      "cell_type": "code",
      "execution_count": 20,
      "metadata": {
        "id": "nPAmzLO3xHxn"
      },
      "outputs": [
        {
          "data": {
            "text/plain": [
              "(10000,)"
            ]
          },
          "execution_count": 20,
          "metadata": {},
          "output_type": "execute_result"
        }
      ],
      "source": [
        "test_labels.shape"
      ]
    },
    {
      "cell_type": "markdown",
      "metadata": {
        "id": "jgN5HnNyxHxn"
      },
      "source": [
        "Entendendo a base de Dados na prática "
      ]
    },
    {
      "cell_type": "code",
      "execution_count": 21,
      "metadata": {
        "id": "DHtSwElbxHxn"
      },
      "outputs": [
        {
          "data": {
            "text/plain": [
              "array([[  0,   0,   0,   0,   0,   0,   0,   0,   0,   0,   0,   0,   0,\n",
              "          0,   0,   0,   0,   0,   0,   0,   0,   0,   0,   0,   0,   0,\n",
              "          0,   0],\n",
              "       [  0,   0,   0,   0,   0,   0,   0,   0,   0,   0,   0,   0,   0,\n",
              "          0,   0,   0,   0,   0,   0,   0,   0,   0,   0,   0,   0,   0,\n",
              "          0,   0],\n",
              "       [  0,   0,   0,   0,   0,   0,   0,   0,   0,   0,   0,   0,   0,\n",
              "          0,   0,   0,   0,   0,   0,   0,   0,   0,   0,   0,   0,   0,\n",
              "          0,   0],\n",
              "       [  0,   0,   0,   0,   0,   0,   0,   0,   0,   0,   0,   0,   1,\n",
              "          0,   0,  13,  73,   0,   0,   1,   4,   0,   0,   0,   0,   1,\n",
              "          1,   0],\n",
              "       [  0,   0,   0,   0,   0,   0,   0,   0,   0,   0,   0,   0,   3,\n",
              "          0,  36, 136, 127,  62,  54,   0,   0,   0,   1,   3,   4,   0,\n",
              "          0,   3],\n",
              "       [  0,   0,   0,   0,   0,   0,   0,   0,   0,   0,   0,   0,   6,\n",
              "          0, 102, 204, 176, 134, 144, 123,  23,   0,   0,   0,   0,  12,\n",
              "         10,   0],\n",
              "       [  0,   0,   0,   0,   0,   0,   0,   0,   0,   0,   0,   0,   0,\n",
              "          0, 155, 236, 207, 178, 107, 156, 161, 109,  64,  23,  77, 130,\n",
              "         72,  15],\n",
              "       [  0,   0,   0,   0,   0,   0,   0,   0,   0,   0,   0,   1,   0,\n",
              "         69, 207, 223, 218, 216, 216, 163, 127, 121, 122, 146, 141,  88,\n",
              "        172,  66],\n",
              "       [  0,   0,   0,   0,   0,   0,   0,   0,   0,   1,   1,   1,   0,\n",
              "        200, 232, 232, 233, 229, 223, 223, 215, 213, 164, 127, 123, 196,\n",
              "        229,   0],\n",
              "       [  0,   0,   0,   0,   0,   0,   0,   0,   0,   0,   0,   0,   0,\n",
              "        183, 225, 216, 223, 228, 235, 227, 224, 222, 224, 221, 223, 245,\n",
              "        173,   0],\n",
              "       [  0,   0,   0,   0,   0,   0,   0,   0,   0,   0,   0,   0,   0,\n",
              "        193, 228, 218, 213, 198, 180, 212, 210, 211, 213, 223, 220, 243,\n",
              "        202,   0],\n",
              "       [  0,   0,   0,   0,   0,   0,   0,   0,   0,   1,   3,   0,  12,\n",
              "        219, 220, 212, 218, 192, 169, 227, 208, 218, 224, 212, 226, 197,\n",
              "        209,  52],\n",
              "       [  0,   0,   0,   0,   0,   0,   0,   0,   0,   0,   6,   0,  99,\n",
              "        244, 222, 220, 218, 203, 198, 221, 215, 213, 222, 220, 245, 119,\n",
              "        167,  56],\n",
              "       [  0,   0,   0,   0,   0,   0,   0,   0,   0,   4,   0,   0,  55,\n",
              "        236, 228, 230, 228, 240, 232, 213, 218, 223, 234, 217, 217, 209,\n",
              "         92,   0],\n",
              "       [  0,   0,   1,   4,   6,   7,   2,   0,   0,   0,   0,   0, 237,\n",
              "        226, 217, 223, 222, 219, 222, 221, 216, 223, 229, 215, 218, 255,\n",
              "         77,   0],\n",
              "       [  0,   3,   0,   0,   0,   0,   0,   0,   0,  62, 145, 204, 228,\n",
              "        207, 213, 221, 218, 208, 211, 218, 224, 223, 219, 215, 224, 244,\n",
              "        159,   0],\n",
              "       [  0,   0,   0,   0,  18,  44,  82, 107, 189, 228, 220, 222, 217,\n",
              "        226, 200, 205, 211, 230, 224, 234, 176, 188, 250, 248, 233, 238,\n",
              "        215,   0],\n",
              "       [  0,  57, 187, 208, 224, 221, 224, 208, 204, 214, 208, 209, 200,\n",
              "        159, 245, 193, 206, 223, 255, 255, 221, 234, 221, 211, 220, 232,\n",
              "        246,   0],\n",
              "       [  3, 202, 228, 224, 221, 211, 211, 214, 205, 205, 205, 220, 240,\n",
              "         80, 150, 255, 229, 221, 188, 154, 191, 210, 204, 209, 222, 228,\n",
              "        225,   0],\n",
              "       [ 98, 233, 198, 210, 222, 229, 229, 234, 249, 220, 194, 215, 217,\n",
              "        241,  65,  73, 106, 117, 168, 219, 221, 215, 217, 223, 223, 224,\n",
              "        229,  29],\n",
              "       [ 75, 204, 212, 204, 193, 205, 211, 225, 216, 185, 197, 206, 198,\n",
              "        213, 240, 195, 227, 245, 239, 223, 218, 212, 209, 222, 220, 221,\n",
              "        230,  67],\n",
              "       [ 48, 203, 183, 194, 213, 197, 185, 190, 194, 192, 202, 214, 219,\n",
              "        221, 220, 236, 225, 216, 199, 206, 186, 181, 177, 172, 181, 205,\n",
              "        206, 115],\n",
              "       [  0, 122, 219, 193, 179, 171, 183, 196, 204, 210, 213, 207, 211,\n",
              "        210, 200, 196, 194, 191, 195, 191, 198, 192, 176, 156, 167, 177,\n",
              "        210,  92],\n",
              "       [  0,   0,  74, 189, 212, 191, 175, 172, 175, 181, 185, 188, 189,\n",
              "        188, 193, 198, 204, 209, 210, 210, 211, 188, 188, 194, 192, 216,\n",
              "        170,   0],\n",
              "       [  2,   0,   0,   0,  66, 200, 222, 237, 239, 242, 246, 243, 244,\n",
              "        221, 220, 193, 191, 179, 182, 182, 181, 176, 166, 168,  99,  58,\n",
              "          0,   0],\n",
              "       [  0,   0,   0,   0,   0,   0,   0,  40,  61,  44,  72,  41,  35,\n",
              "          0,   0,   0,   0,   0,   0,   0,   0,   0,   0,   0,   0,   0,\n",
              "          0,   0],\n",
              "       [  0,   0,   0,   0,   0,   0,   0,   0,   0,   0,   0,   0,   0,\n",
              "          0,   0,   0,   0,   0,   0,   0,   0,   0,   0,   0,   0,   0,\n",
              "          0,   0],\n",
              "       [  0,   0,   0,   0,   0,   0,   0,   0,   0,   0,   0,   0,   0,\n",
              "          0,   0,   0,   0,   0,   0,   0,   0,   0,   0,   0,   0,   0,\n",
              "          0,   0]], dtype=uint8)"
            ]
          },
          "execution_count": 21,
          "metadata": {},
          "output_type": "execute_result"
        }
      ],
      "source": [
        "# Exibe a matriz da primeira imagem na base de treinamento\n",
        "train_images[0]"
      ]
    },
    {
      "cell_type": "code",
      "execution_count": 22,
      "metadata": {
        "id": "fwSiQE2ixHxn"
      },
      "outputs": [
        {
          "data": {
            "text/plain": [
              "9"
            ]
          },
          "execution_count": 22,
          "metadata": {},
          "output_type": "execute_result"
        }
      ],
      "source": [
        "# Exibe a classe da primeira imagem na base de treinamento (Botas)\n",
        "train_labels[0]"
      ]
    },
    {
      "cell_type": "code",
      "execution_count": 23,
      "metadata": {
        "id": "lMYATvk_xHxn"
      },
      "outputs": [
        {
          "data": {
            "image/png": "[encoded data removed]",
            "text/plain": [
              "<Figure size 1000x1000 with 25 Axes>"
            ]
          },
          "metadata": {},
          "output_type": "display_data"
        }
      ],
      "source": [
        "# Exibir as 25 primeiras imagens de treinamento\n",
        "plt.figure(figsize=(10,10))\n",
        "for i in range(25):\n",
        "    plt.subplot(5,5,i+1)\n",
        "    plt.xticks([])\n",
        "    plt.yticks([])\n",
        "    plt.grid(False)\n",
        "    plt.imshow(train_images[i], cmap=plt.cm.binary)\n",
        "    plt.xlabel(class_names[train_labels[i]])\n",
        "plt.show()"
      ]
    },
    {
      "cell_type": "markdown",
      "metadata": {
        "id": "k5qLs_vpxHxn"
      },
      "source": [
        "### Tratar os dados\n",
        "Como tivemos uma breve contextualização sobre a normalização dos dados, nesta base de dados não será diferente.\n",
        "\n",
        "Cada pixel existente na base de dados possuí valores de 0 até 255, sendo 0 = branco e 255 = preto.\n",
        "\n",
        "A normalização de dados serve para que o modelo, no início do treinamento, considere todas as colunas igualmente importantes.\n",
        "\n",
        "Geralmente, a normalização dos dados resulta em valores de 0 até 1, ou de -1 até 1. Ou seja, o maior valor da coluna será 1, o menor será 0 e os demais valores escalonados entre 0 e 1.\n",
        "\n",
        "Aqui, como sabemos que o maior valor é 0 e o menor 255, podemos simplesmente dividir os dados por 255. desta forma, o maior valor (255) dividido por 255, se tornará 1, o menor se tornará 0 (0/255 = 0) e assim por diante (79/255 = 0.30980392156862746, 150/255 = 0.5882352941176471).\n",
        "\n",
        "Desta forma, não precisamos de calculos difíceis ou bibliotecas para isto, basta dividir as matrizes por 255."
      ]
    },
    {
      "cell_type": "code",
      "execution_count": 24,
      "metadata": {
        "id": "_sfTZwfaxHxn"
      },
      "outputs": [
        {
          "data": {
            "text/plain": [
              "array([[[0.        , 0.06666667, 0.33333333, 0.66666667, 1.        ]],\n",
              "\n",
              "       [[0.        , 0.06666667, 0.33333333, 0.66666667, 1.        ]]])"
            ]
          },
          "execution_count": 24,
          "metadata": {},
          "output_type": "execute_result"
        }
      ],
      "source": [
        "# Exemplo de divisão de matriz\n",
        "np.array([\n",
        "    [[0,10,50,100,150]],\n",
        "    [[0,10,50,100,150]]])/150"
      ]
    },
    {
      "cell_type": "code",
      "execution_count": 25,
      "metadata": {
        "id": "J_yX6G2AxHxn"
      },
      "outputs": [
        {
          "data": {
            "text/plain": [
              "255"
            ]
          },
          "execution_count": 25,
          "metadata": {},
          "output_type": "execute_result"
        }
      ],
      "source": [
        "# Retorna o maior valor presente na matriz de teste antes de escalarmos os valores\n",
        "test_images.max()"
      ]
    },
    {
      "cell_type": "code",
      "execution_count": 26,
      "metadata": {
        "id": "dBzPWUfUxHxn"
      },
      "outputs": [],
      "source": [
        "# train_images irá receber ela mesma dividida por 255\n",
        "train_images = train_images / 255.0\n",
        "\n",
        "# test_images irá receber ela mesma dividida por 255\n",
        "test_images = test_images / 255.0"
      ]
    },
    {
      "cell_type": "code",
      "execution_count": 27,
      "metadata": {
        "id": "PxGnK9hXxHxn"
      },
      "outputs": [
        {
          "data": {
            "text/plain": [
              "1.0"
            ]
          },
          "execution_count": 27,
          "metadata": {},
          "output_type": "execute_result"
        }
      ],
      "source": [
        "# Retorna o maior valor presente na matriz de teste após escalarmos os valores\n",
        "test_images.max()"
      ]
    },
    {
      "cell_type": "markdown",
      "metadata": {
        "id": "7nnnAYQVxHxo"
      },
      "source": [
        "### Definição do modelo\n",
        "Iremos utilizar o keras que é uma biblioteca de rede neural muito famosa.\n",
        "\n",
        "Nela, iremos utilizar o model Sequencial (que possui a arquitetura de uma rede neural artificial).\n",
        "\n",
        "Ao criar um modelo de rede neural, precisamos definir:\n",
        "- input_shape (qual a forma dos dados de entrada);\n",
        "- as camadas de neurônios\n",
        "- quantos neurônios cada camada possui\n",
        "- função de ativação de cada camada\n",
        "\n",
        "Em aulas mais a frente iremos aprofundar mais nestes parâmetros."
      ]
    },
    {
      "cell_type": "code",
      "execution_count": 28,
      "metadata": {
        "id": "7kaprWoRxHxo"
      },
      "outputs": [
        {
          "data": {
            "text/plain": [
              "(60000, 28, 28)"
            ]
          },
          "execution_count": 28,
          "metadata": {},
          "output_type": "execute_result"
        }
      ],
      "source": [
        "train_images.shape"
      ]
    },
    {
      "cell_type": "markdown",
      "metadata": {
        "id": "9ytuTtobxHxo"
      },
      "source": [
        "Temos 60.000 imagens com o \"shape\" de 28 linhas e 28 colunas, então o input_shape do nosso modelo será (28, 28)\n",
        "\n",
        "A primeira camada utiliza o formato Flatten (achatar), o que transforma a entrada de 28x28 pixels (um array de 2 dimensões) em um array de 1 dimensão (28 * 28 = 784 pixels).\n",
        "\n",
        "Iremos utilizar 2 camadas ocultas (Dense). A primeira irá possuir 128 neurônios e a ativação relu. \n",
        "\n",
        "A segunda camada também será a camada de saída e, quando temos uma rede neural para classificação, devemos ter 1 neurônio para cada classe existente na base de dados. No caso, temos 10 classes (classes de 0 até 10), então teremos 10 neurônios na camada de saída.\n",
        "A função de ativação utilizada para classificação de várias classes sempre é uma função sigmoidal, neste caso, iremos utilizar a softmax."
      ]
    },
    {
      "cell_type": "code",
      "execution_count": 29,
      "metadata": {
        "id": "vzHy7_VdxHxo"
      },
      "outputs": [],
      "source": [
        "# Criamos a estrutura do modelo\n",
        "model = keras.Sequential([\n",
        "    keras.layers.Flatten(input_shape=(28, 28)),\n",
        "    keras.layers.Dense(128, activation='relu'),\n",
        "    keras.layers.Dense(10, activation='softmax')\n",
        "])"
      ]
    },
    {
      "cell_type": "markdown",
      "metadata": {
        "id": "_ha5JPY2xHxo"
      },
      "source": [
        "Antes de treinar o modelo, precisamos passar mais algumas configurações, que são adicionadas na \"compilação\".\n",
        "\n",
        "- loss - Calcula quão preciso o modelo está sendo durante o treinamento. quanto menor o erro, melhor o modelo;\n",
        "\n",
        "- optimizer - Como o modelo atualiza os pesos baseado no loss;\n",
        "\n",
        "- metrics - Qual a métrica para monitorar o treinamento e teste. Neste caso, a acurácia (porcentagem de acertos que o modelo faz)"
      ]
    },
    {
      "cell_type": "code",
      "execution_count": 30,
      "metadata": {
        "id": "USJZAmAUxHxo"
      },
      "outputs": [],
      "source": [
        "# Compilamos o modelo\n",
        "lr_schedule = keras.optimizers.schedules.ExponentialDecay(\n",
        "initial_learning_rate=1e-2,\n",
        "decay_steps=10000,\n",
        "decay_rate=0.9)\n",
        "opt = keras.optimizers.Adam(learning_rate=lr_schedule)\n",
        "model.compile(optimizer=opt,\n",
        "              loss='sparse_categorical_crossentropy',\n",
        "              metrics=['accuracy'])"
      ]
    },
    {
      "cell_type": "markdown",
      "metadata": {
        "id": "0yN-mAZixHxo"
      },
      "source": [
        "### Treinamento do Modelo\n",
        "\n",
        "Iremos usar as imagens e labels de treinamento, com 10 épocas e iremos utilizar 20 dos dados para validar o modelo, ou seja, dos dados de treinamento, somente 80% será utilizado no treinamento."
      ]
    },
    {
      "cell_type": "code",
      "execution_count": 31,
      "metadata": {
        "id": "UmEDeiZqxHxo"
      },
      "outputs": [
        {
          "name": "stdout",
          "output_type": "stream",
          "text": [
            "Epoch 1/60\n",
            "1688/1688 [==============================] - 2s 1ms/step - loss: 0.5265 - accuracy: 0.8130 - val_loss: 0.4789 - val_accuracy: 0.8060\n",
            "Epoch 2/60\n",
            "1688/1688 [==============================] - 2s 960us/step - loss: 0.4271 - accuracy: 0.8486 - val_loss: 0.4785 - val_accuracy: 0.8382\n",
            "Epoch 3/60\n",
            "1688/1688 [==============================] - 2s 958us/step - loss: 0.4153 - accuracy: 0.8525 - val_loss: 0.4870 - val_accuracy: 0.8323\n",
            "Epoch 4/60\n",
            "1688/1688 [==============================] - 2s 959us/step - loss: 0.3996 - accuracy: 0.8563 - val_loss: 0.4250 - val_accuracy: 0.8580\n",
            "Epoch 5/60\n",
            "1688/1688 [==============================] - 2s 962us/step - loss: 0.3873 - accuracy: 0.8610 - val_loss: 0.4067 - val_accuracy: 0.8612\n",
            "Epoch 6/60\n",
            "1688/1688 [==============================] - 2s 974us/step - loss: 0.3769 - accuracy: 0.8647 - val_loss: 0.4076 - val_accuracy: 0.8580\n",
            "Epoch 7/60\n",
            "1688/1688 [==============================] - 2s 959us/step - loss: 0.3643 - accuracy: 0.8669 - val_loss: 0.4235 - val_accuracy: 0.8578\n",
            "Epoch 8/60\n",
            "1688/1688 [==============================] - 2s 948us/step - loss: 0.3574 - accuracy: 0.8699 - val_loss: 0.4333 - val_accuracy: 0.8612\n",
            "Epoch 9/60\n",
            "1688/1688 [==============================] - 2s 959us/step - loss: 0.3512 - accuracy: 0.8731 - val_loss: 0.3975 - val_accuracy: 0.8660\n",
            "Epoch 10/60\n",
            "1688/1688 [==============================] - 2s 970us/step - loss: 0.3484 - accuracy: 0.8753 - val_loss: 0.4097 - val_accuracy: 0.8602\n",
            "Epoch 11/60\n",
            "1688/1688 [==============================] - 2s 972us/step - loss: 0.3378 - accuracy: 0.8771 - val_loss: 0.4220 - val_accuracy: 0.8657\n",
            "Epoch 12/60\n",
            "1688/1688 [==============================] - 2s 979us/step - loss: 0.3394 - accuracy: 0.8783 - val_loss: 0.4582 - val_accuracy: 0.8553\n",
            "Epoch 13/60\n",
            "1688/1688 [==============================] - 2s 981us/step - loss: 0.3291 - accuracy: 0.8800 - val_loss: 0.4942 - val_accuracy: 0.8482\n",
            "Epoch 14/60\n",
            "1688/1688 [==============================] - 2s 974us/step - loss: 0.3250 - accuracy: 0.8818 - val_loss: 0.4982 - val_accuracy: 0.8558\n",
            "Epoch 15/60\n",
            "1688/1688 [==============================] - 2s 991us/step - loss: 0.3257 - accuracy: 0.8815 - val_loss: 0.4725 - val_accuracy: 0.8378\n",
            "Epoch 16/60\n",
            "1688/1688 [==============================] - 2s 975us/step - loss: 0.3172 - accuracy: 0.8849 - val_loss: 0.4370 - val_accuracy: 0.8627\n",
            "Epoch 17/60\n",
            "1688/1688 [==============================] - 2s 977us/step - loss: 0.3129 - accuracy: 0.8858 - val_loss: 0.4683 - val_accuracy: 0.8575\n",
            "Epoch 18/60\n",
            "1688/1688 [==============================] - 2s 958us/step - loss: 0.3144 - accuracy: 0.8860 - val_loss: 0.4306 - val_accuracy: 0.8615\n",
            "Epoch 19/60\n",
            "1688/1688 [==============================] - 2s 958us/step - loss: 0.3090 - accuracy: 0.8884 - val_loss: 0.4653 - val_accuracy: 0.8622\n",
            "Epoch 20/60\n",
            "1688/1688 [==============================] - 2s 966us/step - loss: 0.3074 - accuracy: 0.8879 - val_loss: 0.4496 - val_accuracy: 0.8548\n",
            "Epoch 21/60\n",
            "1688/1688 [==============================] - 2s 970us/step - loss: 0.3004 - accuracy: 0.8887 - val_loss: 0.4631 - val_accuracy: 0.8578\n",
            "Epoch 22/60\n",
            "1688/1688 [==============================] - 2s 970us/step - loss: 0.3016 - accuracy: 0.8895 - val_loss: 0.4682 - val_accuracy: 0.8653\n",
            "Epoch 23/60\n",
            "1688/1688 [==============================] - 2s 973us/step - loss: 0.2984 - accuracy: 0.8914 - val_loss: 0.4608 - val_accuracy: 0.8640\n",
            "Epoch 24/60\n",
            "1688/1688 [==============================] - 2s 967us/step - loss: 0.2971 - accuracy: 0.8915 - val_loss: 0.4591 - val_accuracy: 0.8700\n",
            "Epoch 25/60\n",
            "1688/1688 [==============================] - 2s 961us/step - loss: 0.2932 - accuracy: 0.8918 - val_loss: 0.5012 - val_accuracy: 0.8602\n",
            "Epoch 26/60\n",
            "1688/1688 [==============================] - 2s 974us/step - loss: 0.2894 - accuracy: 0.8942 - val_loss: 0.4968 - val_accuracy: 0.8565\n",
            "Epoch 27/60\n",
            "1688/1688 [==============================] - 2s 979us/step - loss: 0.2858 - accuracy: 0.8957 - val_loss: 0.4884 - val_accuracy: 0.8662\n",
            "Epoch 28/60\n",
            "1688/1688 [==============================] - 2s 986us/step - loss: 0.2828 - accuracy: 0.8954 - val_loss: 0.4608 - val_accuracy: 0.8630\n",
            "Epoch 29/60\n",
            "1688/1688 [==============================] - 2s 964us/step - loss: 0.2876 - accuracy: 0.8940 - val_loss: 0.4871 - val_accuracy: 0.8655\n",
            "Epoch 30/60\n",
            "1688/1688 [==============================] - 2s 967us/step - loss: 0.2808 - accuracy: 0.8962 - val_loss: 0.4658 - val_accuracy: 0.8682\n",
            "Epoch 31/60\n",
            "1688/1688 [==============================] - 2s 973us/step - loss: 0.2778 - accuracy: 0.8975 - val_loss: 0.4847 - val_accuracy: 0.8633\n",
            "Epoch 32/60\n",
            "1688/1688 [==============================] - 2s 965us/step - loss: 0.2798 - accuracy: 0.8960 - val_loss: 0.4720 - val_accuracy: 0.8675\n",
            "Epoch 33/60\n",
            "1688/1688 [==============================] - 2s 962us/step - loss: 0.2754 - accuracy: 0.8981 - val_loss: 0.4910 - val_accuracy: 0.8643\n",
            "Epoch 34/60\n",
            "1688/1688 [==============================] - 2s 968us/step - loss: 0.2728 - accuracy: 0.8983 - val_loss: 0.4998 - val_accuracy: 0.8632\n",
            "Epoch 35/60\n",
            "1688/1688 [==============================] - 2s 965us/step - loss: 0.2729 - accuracy: 0.8991 - val_loss: 0.4949 - val_accuracy: 0.8683\n",
            "Epoch 36/60\n",
            "1688/1688 [==============================] - 2s 958us/step - loss: 0.2660 - accuracy: 0.9021 - val_loss: 0.5505 - val_accuracy: 0.8578\n",
            "Epoch 37/60\n",
            "1688/1688 [==============================] - 2s 960us/step - loss: 0.2697 - accuracy: 0.9019 - val_loss: 0.4871 - val_accuracy: 0.8657\n",
            "Epoch 38/60\n",
            "1688/1688 [==============================] - 2s 963us/step - loss: 0.2663 - accuracy: 0.9017 - val_loss: 0.5186 - val_accuracy: 0.8635\n",
            "Epoch 39/60\n",
            "1688/1688 [==============================] - 2s 970us/step - loss: 0.2658 - accuracy: 0.9015 - val_loss: 0.5207 - val_accuracy: 0.8657\n",
            "Epoch 40/60\n",
            "1688/1688 [==============================] - 2s 964us/step - loss: 0.2642 - accuracy: 0.9018 - val_loss: 0.5540 - val_accuracy: 0.8620\n",
            "Epoch 41/60\n",
            "1688/1688 [==============================] - 2s 963us/step - loss: 0.2598 - accuracy: 0.9040 - val_loss: 0.5012 - val_accuracy: 0.8652\n",
            "Epoch 42/60\n",
            "1688/1688 [==============================] - 2s 986us/step - loss: 0.2576 - accuracy: 0.9042 - val_loss: 0.5117 - val_accuracy: 0.8698\n",
            "Epoch 43/60\n",
            "1688/1688 [==============================] - 2s 973us/step - loss: 0.2573 - accuracy: 0.9055 - val_loss: 0.5467 - val_accuracy: 0.8667\n",
            "Epoch 44/60\n",
            "1688/1688 [==============================] - 2s 965us/step - loss: 0.2582 - accuracy: 0.9052 - val_loss: 0.5062 - val_accuracy: 0.8682\n",
            "Epoch 45/60\n",
            "1688/1688 [==============================] - 2s 963us/step - loss: 0.2559 - accuracy: 0.9055 - val_loss: 0.5224 - val_accuracy: 0.8585\n",
            "Epoch 46/60\n",
            "1688/1688 [==============================] - 2s 970us/step - loss: 0.2544 - accuracy: 0.9057 - val_loss: 0.5350 - val_accuracy: 0.8692\n",
            "Epoch 47/60\n",
            "1688/1688 [==============================] - 2s 960us/step - loss: 0.2525 - accuracy: 0.9066 - val_loss: 0.5192 - val_accuracy: 0.8692\n",
            "Epoch 48/60\n",
            "1688/1688 [==============================] - 2s 969us/step - loss: 0.2523 - accuracy: 0.9069 - val_loss: 0.5610 - val_accuracy: 0.8687\n",
            "Epoch 49/60\n",
            "1688/1688 [==============================] - 2s 962us/step - loss: 0.2503 - accuracy: 0.9075 - val_loss: 0.5239 - val_accuracy: 0.8653\n",
            "Epoch 50/60\n",
            "1688/1688 [==============================] - 2s 967us/step - loss: 0.2508 - accuracy: 0.9063 - val_loss: 0.5833 - val_accuracy: 0.8632\n",
            "Epoch 51/60\n",
            "1688/1688 [==============================] - 2s 960us/step - loss: 0.2475 - accuracy: 0.9084 - val_loss: 0.5397 - val_accuracy: 0.8703\n",
            "Epoch 52/60\n",
            "1688/1688 [==============================] - 2s 957us/step - loss: 0.2470 - accuracy: 0.9085 - val_loss: 0.5372 - val_accuracy: 0.8662\n",
            "Epoch 53/60\n",
            "1688/1688 [==============================] - 2s 966us/step - loss: 0.2455 - accuracy: 0.9096 - val_loss: 0.5792 - val_accuracy: 0.8653\n",
            "Epoch 54/60\n",
            "1688/1688 [==============================] - 2s 960us/step - loss: 0.2460 - accuracy: 0.9094 - val_loss: 0.5779 - val_accuracy: 0.8678\n",
            "Epoch 55/60\n",
            "1688/1688 [==============================] - 2s 967us/step - loss: 0.2419 - accuracy: 0.9109 - val_loss: 0.5472 - val_accuracy: 0.8688\n",
            "Epoch 56/60\n",
            "1688/1688 [==============================] - 2s 972us/step - loss: 0.2422 - accuracy: 0.9104 - val_loss: 0.5800 - val_accuracy: 0.8672\n",
            "Epoch 57/60\n",
            "1688/1688 [==============================] - 2s 965us/step - loss: 0.2416 - accuracy: 0.9095 - val_loss: 0.5588 - val_accuracy: 0.8687\n",
            "Epoch 58/60\n",
            "1688/1688 [==============================] - 2s 967us/step - loss: 0.2392 - accuracy: 0.9106 - val_loss: 0.5654 - val_accuracy: 0.8648\n",
            "Epoch 59/60\n",
            "1688/1688 [==============================] - 2s 962us/step - loss: 0.2380 - accuracy: 0.9106 - val_loss: 0.5516 - val_accuracy: 0.8662\n",
            "Epoch 60/60\n",
            "1688/1688 [==============================] - 2s 963us/step - loss: 0.2381 - accuracy: 0.9110 - val_loss: 0.5977 - val_accuracy: 0.8637\n"
          ]
        }
      ],
      "source": [
        "history_callback = model.fit(train_images, train_labels, epochs=60, validation_split=0.1)"
      ]
    },
    {
      "cell_type": "code",
      "execution_count": 32,
      "metadata": {
        "id": "vDJxMVgLxHxo"
      },
      "outputs": [],
      "source": [
        "# Aqui podemos salvar os valores de loss e acurácia, de treinamento e validação\n",
        "loss_history = history_callback.history['loss']\n",
        "val_loss_history = history_callback.history['val_loss'] \n",
        "accuracy_history = history_callback.history['accuracy']\n",
        "val_accuracy_history = history_callback.history['val_accuracy']  \n"
      ]
    },
    {
      "cell_type": "code",
      "execution_count": 33,
      "metadata": {
        "id": "WA8r1WRlxHxo"
      },
      "outputs": [
        {
          "data": {
            "image/png": "[encoded data removed]",
            "text/plain": [
              "<Figure size 640x480 with 1 Axes>"
            ]
          },
          "metadata": {},
          "output_type": "display_data"
        }
      ],
      "source": [
        "# Definimos os valores do eixo x (as épocas)\n",
        "x = [y+1 for y in range(0,len(loss_history))]\n",
        "\n",
        "plt.plot(x, loss_history, label = \"Loss\")\n",
        "plt.plot(x, val_loss_history, label = \"Validation Loss\")\n",
        "plt.legend()\n",
        "plt.show()"
      ]
    },
    {
      "cell_type": "code",
      "execution_count": 34,
      "metadata": {
        "id": "v5X_Yo07xHxp"
      },
      "outputs": [
        {
          "data": {
            "image/png": "[encoded data removed]",
            "text/plain": [
              "<Figure size 640x480 with 1 Axes>"
            ]
          },
          "metadata": {},
          "output_type": "display_data"
        }
      ],
      "source": [
        "plt.plot(x, accuracy_history, label = \"Accuracy\")\n",
        "plt.plot(x, val_accuracy_history, label = \"Validation Accuracy\")\n",
        "plt.legend()\n",
        "plt.show()"
      ]
    },
    {
      "cell_type": "markdown",
      "metadata": {
        "id": "gi4NiHMwxHxp"
      },
      "source": [
        "### Avaliar a acurácia do modelo"
      ]
    },
    {
      "cell_type": "code",
      "execution_count": 35,
      "metadata": {
        "id": "mTcSIc98xHxp"
      },
      "outputs": [
        {
          "name": "stdout",
          "output_type": "stream",
          "text": [
            "313/313 - 0s - loss: 0.5632 - accuracy: 0.8608 - 194ms/epoch - 621us/step\n",
            "\n",
            "Test accuracy: 0.86080002784729\n"
          ]
        }
      ],
      "source": [
        "test_loss, test_acc = model.evaluate(test_images,  test_labels, verbose=2)\n",
        "\n",
        "print('\\nTest accuracy:', test_acc)"
      ]
    },
    {
      "cell_type": "markdown",
      "metadata": {
        "id": "iJj-GbMAxHxp"
      },
      "source": [
        "### Realizar predições com o modelo treinado"
      ]
    },
    {
      "cell_type": "code",
      "execution_count": 36,
      "metadata": {
        "id": "CTZcrHB5xHxp"
      },
      "outputs": [
        {
          "name": "stdout",
          "output_type": "stream",
          "text": [
            "313/313 [==============================] - 0s 551us/step\n"
          ]
        }
      ],
      "source": [
        "predictions = model.predict(test_images)"
      ]
    },
    {
      "cell_type": "markdown",
      "metadata": {
        "id": "DjcGDAMFxHxp"
      },
      "source": [
        "O nosso modelo possui 10 neurônios na camada de saída, sendo 1 para cada classe, então apredição dele resulta em 10 valores, sendo cada valor a porcentagem de certeza de qual classe o valor de teste pertence.\n",
        "\n",
        "De acordo com a camada de ativação softmax, a soma de todos os valores resulta em 1"
      ]
    },
    {
      "cell_type": "code",
      "execution_count": 37,
      "metadata": {
        "id": "4KlKa2wwxHxp"
      },
      "outputs": [
        {
          "data": {
            "text/plain": [
              "array([2.9808383e-32, 5.0116306e-27, 1.1268539e-33, 0.0000000e+00,\n",
              "       0.0000000e+00, 2.8730415e-07, 0.0000000e+00, 4.8341096e-04,\n",
              "       1.7216053e-19, 9.9951625e-01], dtype=float32)"
            ]
          },
          "execution_count": 37,
          "metadata": {},
          "output_type": "execute_result"
        }
      ],
      "source": [
        "# Exibe os valores de cada neurônio para a predição do primeiro item de teste\n",
        "predictions[0]"
      ]
    },
    {
      "cell_type": "code",
      "execution_count": 38,
      "metadata": {
        "id": "3vgM8NH8xHxp"
      },
      "outputs": [
        {
          "data": {
            "text/plain": [
              "0.9999999469639533"
            ]
          },
          "execution_count": 38,
          "metadata": {},
          "output_type": "execute_result"
        }
      ],
      "source": [
        "# Soma das predições\n",
        "sum(predictions[0])"
      ]
    },
    {
      "cell_type": "markdown",
      "metadata": {
        "id": "1N1PSG1qxHxp"
      },
      "source": [
        "Para obter qual a classe da predição, podemos usar a função argmax do numpy"
      ]
    },
    {
      "cell_type": "code",
      "execution_count": 39,
      "metadata": {
        "id": "QkpOUlkPxHxp"
      },
      "outputs": [
        {
          "data": {
            "text/plain": [
              "9"
            ]
          },
          "execution_count": 39,
          "metadata": {},
          "output_type": "execute_result"
        }
      ],
      "source": [
        "np.argmax(predictions[0])\n",
        "# O modelo treinado previu que a classe do primeiro elemento de teste é 9"
      ]
    },
    {
      "cell_type": "code",
      "execution_count": 40,
      "metadata": {
        "id": "49odSa74xHxp"
      },
      "outputs": [
        {
          "data": {
            "text/plain": [
              "9"
            ]
          },
          "execution_count": 40,
          "metadata": {},
          "output_type": "execute_result"
        }
      ],
      "source": [
        "# Exibe a classe do primeiro elemento de teste\n",
        "test_labels[0]"
      ]
    },
    {
      "cell_type": "code",
      "execution_count": 41,
      "metadata": {
        "id": "vhGElAmAxHxp"
      },
      "outputs": [
        {
          "data": {
            "image/png": "[encoded data removed]",
            "text/plain": [
              "<Figure size 640x480 with 2 Axes>"
            ]
          },
          "metadata": {},
          "output_type": "display_data"
        }
      ],
      "source": [
        "plt.figure()\n",
        "plt.imshow(test_images[0]*255, cmap=plt.cm.binary)\n",
        "plt.xlabel(class_names[test_labels[0]])\n",
        "plt.colorbar()\n",
        "plt.grid(False)\n",
        "plt.show()"
      ]
    },
    {
      "cell_type": "markdown",
      "metadata": {
        "id": "xVNVPxK5xHxp"
      },
      "source": [
        "Aqui temos uma função para calcular as métricas para avaliar o modelo. Hoje não aprofundarei em detalhes sobre estas métricas pois abordaremos isto em aulas mais a frente.\n",
        "\n",
        "Mas uma breve explicação, as 4 primeiras métricas, quanto menor o valor, melhor o modelo. \n",
        "\n",
        "Já as 3 últimas, quanto maior o valor, melhor o modelo (valor máximo é 100). "
      ]
    },
    {
      "cell_type": "code",
      "execution_count": 42,
      "metadata": {
        "id": "WQ3o1KwcxHxq"
      },
      "outputs": [],
      "source": [
        "def metrics(X_test, y_test, model):\n",
        "    y_predict = model.predict(X_test)\n",
        "    y_predict = [np.argmax(x) for x in y_predict]\n",
        "    y_test = y_test\n",
        "    k = X_test.shape[1]\n",
        "    n = len(X_test)\n",
        "    r2 = sm.r2_score(y_test, y_predict)\n",
        "    adj_r2 = 1-(1-r2)*(n-1)/(n-k-1)\n",
        "    print('Root Mean Square Error: ',round(np.sqrt(np.mean(np.array(y_predict) - np.array(y_test))**2),2))\n",
        "    print('Mean Square Error:', round(sm.mean_squared_error(y_test, y_predict ),2))\n",
        "    print('Mean Absolut Error:', round(sm.mean_absolute_error(y_test, y_predict ),2))\n",
        "    print('Median Absolut Error:', round(sm.median_absolute_error(y_test, y_predict ),2))\n",
        "    print('Explain Variance Score:', round(sm.explained_variance_score(y_test, y_predict)*100,2))\n",
        "    print('R2 score:', round(sm.r2_score(y_test, y_predict)*100,2))\n",
        "    print('Adjusted R2 =', round(adj_r2*100,2))"
      ]
    },
    {
      "cell_type": "code",
      "execution_count": 43,
      "metadata": {
        "id": "Er3u-4qaxHxq"
      },
      "outputs": [
        {
          "name": "stdout",
          "output_type": "stream",
          "text": [
            "313/313 [==============================] - 0s 569us/step\n",
            "Root Mean Square Error:  0.03\n",
            "Mean Square Error: 1.8\n",
            "Mean Absolut Error: 0.44\n",
            "Median Absolut Error: 0.0\n",
            "Explain Variance Score: 78.25\n",
            "R2 score: 78.24\n",
            "Adjusted R2 = 78.18\n"
          ]
        }
      ],
      "source": [
        "metrics(test_images, test_labels, model)"
      ]
    },
    {
      "cell_type": "markdown",
      "metadata": {
        "id": "1-UJ4cWOxHxq"
      },
      "source": [
        "# Regressão"
      ]
    },
    {
      "cell_type": "markdown",
      "metadata": {
        "id": "JINqoofAxHxq"
      },
      "source": [
        "A regressão é outra tarefa fundamental na área de Mineração de Dados, que tem como objetivo prever um valor numérico contínuo a partir de um conjunto de dados com variáveis independentes. É usada para modelar a relação entre uma variável dependente (ou resposta) e uma ou mais variáveis independentes (ou preditoras).\n",
        "\n",
        "Em outras palavras, a regressão é uma técnica estatística que ajuda a identificar e quantificar a relação entre uma variável dependente e uma ou mais variáveis independentes, com o objetivo de fazer previsões precisas para novos dados. A regressão é frequentemente usada em previsão financeira, análise de tendências de mercado, análise de séries temporais, análise de dados científicos e muitas outras áreas.\n",
        "\n",
        "Existem vários algoritmos de regressão, incluindo regressão linear, regressão logística, regressão polinomial, regressão de séries temporais, redes neurais, entre outros. Cada algoritmo tem suas próprias vantagens e desvantagens e é mais adequado para diferentes tipos de problemas de regressão.\n",
        "\n",
        "\n",
        "### Exemplo de aplicação de Regressão:\n",
        "Um exemplo de Regressão em Tarefas de Mineração de Dados é a previsão do preço de imóveis com base em suas características, como a área construída, o número de quartos, o número de banheiros, a localização, entre outros.\n",
        "\n",
        "O conjunto de dados para este exemplo seria composto por informações de imóveis já vendidos, incluindo suas características e preços de venda. O modelo seria treinado usando algoritmos de aprendizado de máquina supervisionados, onde as características dos imóveis seriam usadas como variáveis independentes e o preço de venda seria a variável dependente.\n",
        "\n",
        "Após o treinamento, o modelo seria capaz de prever o preço de novos imóveis com base em suas características. Essa previsão de preços de imóveis pode ser útil para corretores de imóveis, compradores e vendedores de imóveis, ajudando-os a tomar decisões informadas sobre preços de imóveis.\n",
        "\n",
        "### Outro exemplo de aplicação de Regressão:\n",
        "Outro exemplo de Regressão em Tarefas de Mineração de Dados é a previsão da demanda de um produto em determinado período de tempo com base em informações históricas de vendas e outras variáveis relevantes.\n",
        "\n",
        "O conjunto de dados seria composto por informações de vendas anteriores do produto, incluindo a quantidade vendida, o preço, a região de venda, o período de venda, entre outros. O modelo seria treinado usando algoritmos de aprendizado de máquina supervisionados, onde as variáveis independentes seriam as características das vendas (como preço, região, período, entre outros) e a variável dependente seria a quantidade vendida.\n",
        "\n",
        "Após o treinamento, o modelo seria capaz de prever a demanda futura do produto com base nas variáveis independentes. Essa previsão pode ser útil para ajudar empresas a planejar suas estratégias de produção e marketing com antecedência, aumentando a eficiência e reduzindo custos desnecessários.\n"
      ]
    },
    {
      "cell_type": "code",
      "execution_count": 44,
      "metadata": {
        "id": "_EdSDe38xHxq"
      },
      "outputs": [],
      "source": [
        "from tensorflow.keras.models import Sequential\n",
        "from tensorflow.keras.layers import Dense\n",
        "# Importamos a biblioteca necessária para dividir a base de dados\n",
        "from sklearn.model_selection import train_test_split\n",
        "import pandas as pd"
      ]
    },
    {
      "cell_type": "code",
      "execution_count": 45,
      "metadata": {
        "id": "H-07Og_9xHxq"
      },
      "outputs": [
        {
          "ename": "FileNotFoundError",
          "evalue": "[Errno 2] No such file or directory: 'preco_casas.csv'",
          "output_type": "error",
          "traceback": [
            "\u001b[1;31m---------------------------------------------------------------------------\u001b[0m",
            "\u001b[1;31mFileNotFoundError\u001b[0m                         Traceback (most recent call last)",
            "Cell \u001b[1;32mIn[45], line 1\u001b[0m\n\u001b[1;32m----> 1\u001b[0m df \u001b[39m=\u001b[39m pd\u001b[39m.\u001b[39;49mread_csv(\u001b[39m'\u001b[39;49m\u001b[39mpreco_casas.csv\u001b[39;49m\u001b[39m'\u001b[39;49m)\n",
            "File \u001b[1;32m~\\AppData\\Local\\Packages\\PythonSoftwareFoundation.Python.3.11_qbz5n2kfra8p0\\LocalCache\\local-packages\\Python311\\site-packages\\pandas\\io\\parsers\\readers.py:912\u001b[0m, in \u001b[0;36mread_csv\u001b[1;34m(filepath_or_buffer, sep, delimiter, header, names, index_col, usecols, dtype, engine, converters, true_values, false_values, skipinitialspace, skiprows, skipfooter, nrows, na_values, keep_default_na, na_filter, verbose, skip_blank_lines, parse_dates, infer_datetime_format, keep_date_col, date_parser, date_format, dayfirst, cache_dates, iterator, chunksize, compression, thousands, decimal, lineterminator, quotechar, quoting, doublequote, escapechar, comment, encoding, encoding_errors, dialect, on_bad_lines, delim_whitespace, low_memory, memory_map, float_precision, storage_options, dtype_backend)\u001b[0m\n\u001b[0;32m    899\u001b[0m kwds_defaults \u001b[39m=\u001b[39m _refine_defaults_read(\n\u001b[0;32m    900\u001b[0m     dialect,\n\u001b[0;32m    901\u001b[0m     delimiter,\n\u001b[1;32m   (...)\u001b[0m\n\u001b[0;32m    908\u001b[0m     dtype_backend\u001b[39m=\u001b[39mdtype_backend,\n\u001b[0;32m    909\u001b[0m )\n\u001b[0;32m    910\u001b[0m kwds\u001b[39m.\u001b[39mupdate(kwds_defaults)\n\u001b[1;32m--> 912\u001b[0m \u001b[39mreturn\u001b[39;00m _read(filepath_or_buffer, kwds)\n",
            "File \u001b[1;32m~\\AppData\\Local\\Packages\\PythonSoftwareFoundation.Python.3.11_qbz5n2kfra8p0\\LocalCache\\local-packages\\Python311\\site-packages\\pandas\\io\\parsers\\readers.py:577\u001b[0m, in \u001b[0;36m_read\u001b[1;34m(filepath_or_buffer, kwds)\u001b[0m\n\u001b[0;32m    574\u001b[0m _validate_names(kwds\u001b[39m.\u001b[39mget(\u001b[39m\"\u001b[39m\u001b[39mnames\u001b[39m\u001b[39m\"\u001b[39m, \u001b[39mNone\u001b[39;00m))\n\u001b[0;32m    576\u001b[0m \u001b[39m# Create the parser.\u001b[39;00m\n\u001b[1;32m--> 577\u001b[0m parser \u001b[39m=\u001b[39m TextFileReader(filepath_or_buffer, \u001b[39m*\u001b[39;49m\u001b[39m*\u001b[39;49mkwds)\n\u001b[0;32m    579\u001b[0m \u001b[39mif\u001b[39;00m chunksize \u001b[39mor\u001b[39;00m iterator:\n\u001b[0;32m    580\u001b[0m     \u001b[39mreturn\u001b[39;00m parser\n",
            "File \u001b[1;32m~\\AppData\\Local\\Packages\\PythonSoftwareFoundation.Python.3.11_qbz5n2kfra8p0\\LocalCache\\local-packages\\Python311\\site-packages\\pandas\\io\\parsers\\readers.py:1407\u001b[0m, in \u001b[0;36mTextFileReader.__init__\u001b[1;34m(self, f, engine, **kwds)\u001b[0m\n\u001b[0;32m   1404\u001b[0m     \u001b[39mself\u001b[39m\u001b[39m.\u001b[39moptions[\u001b[39m\"\u001b[39m\u001b[39mhas_index_names\u001b[39m\u001b[39m\"\u001b[39m] \u001b[39m=\u001b[39m kwds[\u001b[39m\"\u001b[39m\u001b[39mhas_index_names\u001b[39m\u001b[39m\"\u001b[39m]\n\u001b[0;32m   1406\u001b[0m \u001b[39mself\u001b[39m\u001b[39m.\u001b[39mhandles: IOHandles \u001b[39m|\u001b[39m \u001b[39mNone\u001b[39;00m \u001b[39m=\u001b[39m \u001b[39mNone\u001b[39;00m\n\u001b[1;32m-> 1407\u001b[0m \u001b[39mself\u001b[39m\u001b[39m.\u001b[39m_engine \u001b[39m=\u001b[39m \u001b[39mself\u001b[39;49m\u001b[39m.\u001b[39;49m_make_engine(f, \u001b[39mself\u001b[39;49m\u001b[39m.\u001b[39;49mengine)\n",
            "File \u001b[1;32m~\\AppData\\Local\\Packages\\PythonSoftwareFoundation.Python.3.11_qbz5n2kfra8p0\\LocalCache\\local-packages\\Python311\\site-packages\\pandas\\io\\parsers\\readers.py:1661\u001b[0m, in \u001b[0;36mTextFileReader._make_engine\u001b[1;34m(self, f, engine)\u001b[0m\n\u001b[0;32m   1659\u001b[0m     \u001b[39mif\u001b[39;00m \u001b[39m\"\u001b[39m\u001b[39mb\u001b[39m\u001b[39m\"\u001b[39m \u001b[39mnot\u001b[39;00m \u001b[39min\u001b[39;00m mode:\n\u001b[0;32m   1660\u001b[0m         mode \u001b[39m+\u001b[39m\u001b[39m=\u001b[39m \u001b[39m\"\u001b[39m\u001b[39mb\u001b[39m\u001b[39m\"\u001b[39m\n\u001b[1;32m-> 1661\u001b[0m \u001b[39mself\u001b[39m\u001b[39m.\u001b[39mhandles \u001b[39m=\u001b[39m get_handle(\n\u001b[0;32m   1662\u001b[0m     f,\n\u001b[0;32m   1663\u001b[0m     mode,\n\u001b[0;32m   1664\u001b[0m     encoding\u001b[39m=\u001b[39;49m\u001b[39mself\u001b[39;49m\u001b[39m.\u001b[39;49moptions\u001b[39m.\u001b[39;49mget(\u001b[39m\"\u001b[39;49m\u001b[39mencoding\u001b[39;49m\u001b[39m\"\u001b[39;49m, \u001b[39mNone\u001b[39;49;00m),\n\u001b[0;32m   1665\u001b[0m     compression\u001b[39m=\u001b[39;49m\u001b[39mself\u001b[39;49m\u001b[39m.\u001b[39;49moptions\u001b[39m.\u001b[39;49mget(\u001b[39m\"\u001b[39;49m\u001b[39mcompression\u001b[39;49m\u001b[39m\"\u001b[39;49m, \u001b[39mNone\u001b[39;49;00m),\n\u001b[0;32m   1666\u001b[0m     memory_map\u001b[39m=\u001b[39;49m\u001b[39mself\u001b[39;49m\u001b[39m.\u001b[39;49moptions\u001b[39m.\u001b[39;49mget(\u001b[39m\"\u001b[39;49m\u001b[39mmemory_map\u001b[39;49m\u001b[39m\"\u001b[39;49m, \u001b[39mFalse\u001b[39;49;00m),\n\u001b[0;32m   1667\u001b[0m     is_text\u001b[39m=\u001b[39;49mis_text,\n\u001b[0;32m   1668\u001b[0m     errors\u001b[39m=\u001b[39;49m\u001b[39mself\u001b[39;49m\u001b[39m.\u001b[39;49moptions\u001b[39m.\u001b[39;49mget(\u001b[39m\"\u001b[39;49m\u001b[39mencoding_errors\u001b[39;49m\u001b[39m\"\u001b[39;49m, \u001b[39m\"\u001b[39;49m\u001b[39mstrict\u001b[39;49m\u001b[39m\"\u001b[39;49m),\n\u001b[0;32m   1669\u001b[0m     storage_options\u001b[39m=\u001b[39;49m\u001b[39mself\u001b[39;49m\u001b[39m.\u001b[39;49moptions\u001b[39m.\u001b[39;49mget(\u001b[39m\"\u001b[39;49m\u001b[39mstorage_options\u001b[39;49m\u001b[39m\"\u001b[39;49m, \u001b[39mNone\u001b[39;49;00m),\n\u001b[0;32m   1670\u001b[0m )\n\u001b[0;32m   1671\u001b[0m \u001b[39massert\u001b[39;00m \u001b[39mself\u001b[39m\u001b[39m.\u001b[39mhandles \u001b[39mis\u001b[39;00m \u001b[39mnot\u001b[39;00m \u001b[39mNone\u001b[39;00m\n\u001b[0;32m   1672\u001b[0m f \u001b[39m=\u001b[39m \u001b[39mself\u001b[39m\u001b[39m.\u001b[39mhandles\u001b[39m.\u001b[39mhandle\n",
            "File \u001b[1;32m~\\AppData\\Local\\Packages\\PythonSoftwareFoundation.Python.3.11_qbz5n2kfra8p0\\LocalCache\\local-packages\\Python311\\site-packages\\pandas\\io\\common.py:859\u001b[0m, in \u001b[0;36mget_handle\u001b[1;34m(path_or_buf, mode, encoding, compression, memory_map, is_text, errors, storage_options)\u001b[0m\n\u001b[0;32m    854\u001b[0m \u001b[39melif\u001b[39;00m \u001b[39misinstance\u001b[39m(handle, \u001b[39mstr\u001b[39m):\n\u001b[0;32m    855\u001b[0m     \u001b[39m# Check whether the filename is to be opened in binary mode.\u001b[39;00m\n\u001b[0;32m    856\u001b[0m     \u001b[39m# Binary mode does not support 'encoding' and 'newline'.\u001b[39;00m\n\u001b[0;32m    857\u001b[0m     \u001b[39mif\u001b[39;00m ioargs\u001b[39m.\u001b[39mencoding \u001b[39mand\u001b[39;00m \u001b[39m\"\u001b[39m\u001b[39mb\u001b[39m\u001b[39m\"\u001b[39m \u001b[39mnot\u001b[39;00m \u001b[39min\u001b[39;00m ioargs\u001b[39m.\u001b[39mmode:\n\u001b[0;32m    858\u001b[0m         \u001b[39m# Encoding\u001b[39;00m\n\u001b[1;32m--> 859\u001b[0m         handle \u001b[39m=\u001b[39m \u001b[39mopen\u001b[39;49m(\n\u001b[0;32m    860\u001b[0m             handle,\n\u001b[0;32m    861\u001b[0m             ioargs\u001b[39m.\u001b[39;49mmode,\n\u001b[0;32m    862\u001b[0m             encoding\u001b[39m=\u001b[39;49mioargs\u001b[39m.\u001b[39;49mencoding,\n\u001b[0;32m    863\u001b[0m             errors\u001b[39m=\u001b[39;49merrors,\n\u001b[0;32m    864\u001b[0m             newline\u001b[39m=\u001b[39;49m\u001b[39m\"\u001b[39;49m\u001b[39m\"\u001b[39;49m,\n\u001b[0;32m    865\u001b[0m         )\n\u001b[0;32m    866\u001b[0m     \u001b[39melse\u001b[39;00m:\n\u001b[0;32m    867\u001b[0m         \u001b[39m# Binary mode\u001b[39;00m\n\u001b[0;32m    868\u001b[0m         handle \u001b[39m=\u001b[39m \u001b[39mopen\u001b[39m(handle, ioargs\u001b[39m.\u001b[39mmode)\n",
            "\u001b[1;31mFileNotFoundError\u001b[0m: [Errno 2] No such file or directory: 'preco_casas.csv'"
          ]
        }
      ],
      "source": [
        "df = pd.read_csv('preco_casas.csv')"
      ]
    },
    {
      "cell_type": "code",
      "execution_count": null,
      "metadata": {
        "id": "93F0GX66xHxq"
      },
      "outputs": [],
      "source": [
        "df = df.values\n",
        "# Separa os dados em Variáveis Independentes (X) \n",
        "# E variável dependente (Y), que é o que queremos prever\n",
        "X = df[:,0:13]\n",
        "Y = df[:,13]"
      ]
    },
    {
      "cell_type": "code",
      "execution_count": null,
      "metadata": {
        "id": "gautFcdkxHxq"
      },
      "outputs": [],
      "source": [
        "# Separamos X e y em treino e teste, com 15% para treinamento (e os 85% restantes para treinamento)\n",
        "x_train, x_test, y_train, y_test = train_test_split(X, Y, test_size=0.15)"
      ]
    },
    {
      "cell_type": "markdown",
      "metadata": {
        "id": "NcI7xlfAxHxq"
      },
      "source": [
        "Nesta base de dados, temos apenas uma dimenção por registro, logo, o input_shape será de apenas 13."
      ]
    },
    {
      "cell_type": "code",
      "execution_count": null,
      "metadata": {
        "id": "SfbK89CmxHxq"
      },
      "outputs": [],
      "source": [
        "x_train.shape"
      ]
    },
    {
      "cell_type": "markdown",
      "metadata": {
        "id": "f8nUPOeSxHxq"
      },
      "source": [
        "Já a nossa camada de saida possui somente 1 neurônio"
      ]
    },
    {
      "cell_type": "code",
      "execution_count": null,
      "metadata": {
        "id": "LYazOGPqxHxr"
      },
      "outputs": [],
      "source": [
        "model = Sequential()\n",
        "model.add(Dense(13, input_shape=(13,), kernel_initializer='normal', activation='relu'))\n",
        "model.add(Dense(1, kernel_initializer='normal'))\n",
        "# Compile model\n",
        "model.compile(loss='mean_squared_error', optimizer='adam')"
      ]
    },
    {
      "cell_type": "code",
      "execution_count": null,
      "metadata": {
        "id": "2lZYZJa9xHxr"
      },
      "outputs": [],
      "source": [
        "history_callback = model.fit(x_train, y_train, epochs=1600, validation_split=0.1)"
      ]
    },
    {
      "cell_type": "code",
      "execution_count": null,
      "metadata": {
        "id": "7lkHiZqJxHxr"
      },
      "outputs": [],
      "source": [
        "# Aqui podemos salvar os valores de loss e acurácia, de treinamento e validação\n",
        "loss_history = history_callback.history['loss']\n",
        "val_loss_history = history_callback.history['val_loss'] "
      ]
    },
    {
      "cell_type": "code",
      "execution_count": null,
      "metadata": {
        "id": "99bACNOzxHxr"
      },
      "outputs": [],
      "source": [
        "# Definimos os valores do eixo x (as épocas)\n",
        "x = [y+1 for y in range(0,len(loss_history))]\n",
        "plt.plot(x, loss_history, label = \"Loss\")\n",
        "plt.plot(x, val_loss_history, label = \"Validation Loss\")\n",
        "plt.legend()\n",
        "plt.show()"
      ]
    },
    {
      "cell_type": "code",
      "execution_count": null,
      "metadata": {
        "id": "mjsyhEMOxHxr"
      },
      "outputs": [],
      "source": [
        "predictions = model.predict(x_test)"
      ]
    },
    {
      "cell_type": "markdown",
      "metadata": {
        "id": "PxU1-KdoxHxr"
      },
      "source": [
        "Diferente do outro modelo que tínhamos vários neurônios de saída, este só possui 1, logo, existe apenas 1 saída para cada entrada."
      ]
    },
    {
      "cell_type": "code",
      "execution_count": null,
      "metadata": {
        "id": "Nohg8u0cxHxr"
      },
      "outputs": [],
      "source": [
        "# Valor Predito\n",
        "predictions[0]"
      ]
    },
    {
      "cell_type": "code",
      "execution_count": null,
      "metadata": {
        "id": "fD08QgsSxHxr"
      },
      "outputs": [],
      "source": [
        "# Valor Real\n",
        "y_test[0]"
      ]
    },
    {
      "cell_type": "code",
      "execution_count": null,
      "metadata": {
        "id": "upu-ouipxHxr"
      },
      "outputs": [],
      "source": [
        "# Cria um dataframe para comparar os resultados\n",
        "predictions = [x[0] for x in predictions]\n",
        "resultados = pd.DataFrame(list(zip(y_test, predictions)), columns = ['Real', 'Predito'])\n",
        "resultados = resultados.sort_values(by=(['Real']))"
      ]
    },
    {
      "cell_type": "code",
      "execution_count": null,
      "metadata": {
        "id": "Hld_Us5VxHxr"
      },
      "outputs": [],
      "source": [
        "# Definimos os valores do eixo x (as épocas)\n",
        "x = [y+1 for y in range(0,len(resultados))]\n",
        "plt.plot(x, resultados.Real, label = \"Real\")\n",
        "plt.plot(x, resultados.Predito, label = \"Predito\")\n",
        "plt.legend()\n",
        "plt.show()"
      ]
    },
    {
      "cell_type": "markdown",
      "metadata": {
        "id": "tHA_fvj0xHxr"
      },
      "source": [
        "Em alguns casos, as métricas não funcionam muito bem..."
      ]
    },
    {
      "cell_type": "code",
      "execution_count": null,
      "metadata": {
        "id": "XFzaooDexHxr"
      },
      "outputs": [],
      "source": [
        "metrics(x_test, y_test, model)"
      ]
    }
  ],
  "metadata": {
    "colab": {
      "include_colab_link": true,
      "provenance": []
    },
    "kernelspec": {
      "display_name": "base",
      "language": "python",
      "name": "python3"
    },
    "language_info": {
      "codemirror_mode": {
        "name": "ipython",
        "version": 3
      },
      "file_extension": ".py",
      "mimetype": "text/x-python",
      "name": "python",
      "nbconvert_exporter": "python",
      "pygments_lexer": "ipython3",
      "version": "3.11.3"
    },
    "orig_nbformat": 4
  },
  "nbformat": 4,
  "nbformat_minor": 0
}
