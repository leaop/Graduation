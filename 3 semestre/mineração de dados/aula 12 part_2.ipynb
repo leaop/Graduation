{
 "cells": [
  {
   "cell_type": "code",
   "execution_count": null,
   "metadata": {},
   "outputs": [],
   "source": [
    "# Importando as bibliotecas necessárias\n",
    "import pandas as pd\n",
    "from sklearn.model_selection import train_test_split\n",
    "from sklearn.linear_model import LinearRegression\n",
    "from sklearn.preprocessing import LabelEncoder\n",
    "import numpy as np\n",
    "from sklearn.metrics import mean_squared_error, r2_score\n",
    "from keras.models import Sequential\n",
    "from keras.layers import Dense\n",
    "from keras.optimizers import Adam\n",
    "from keras.metrics import MeanSquaredError\n",
    "from keras.callbacks import EarlyStopping\n",
    "from sklearn.preprocessing import MinMaxScaler\n",
    "\n",
    "# 1. Estratégia de BI\n",
    "# Definição dos objetivos: Vamos tentar prever a quantidade vendida com base nas outras características do conjunto de dados.\n",
    "\n",
    "# 2. Análise de Requisitos\n",
    "# Identificamos que precisamos das informações de quantidade vendida e das outras características como requisitos para nosso modelo.\n",
    "\n",
    "# 3. Design da Solução\n",
    "# Nosso data warehouse será o próprio dataframe do pandas. Vamos usar um modelo de regressão linear para prever a quantidade vendida.\n",
    "\n",
    "# 4. Implementação\n",
    "# Carregando os dados\n",
    "df = pd.read_csv('superstore_dataset.csv')"
   ]
  }
 ],
 "metadata": {
  "kernelspec": {
   "display_name": "Python 3",
   "language": "python",
   "name": "python3"
  },
  "language_info": {
   "name": "python",
   "version": "3.11.3"
  },
  "orig_nbformat": 4
 },
 "nbformat": 4,
 "nbformat_minor": 2
}
