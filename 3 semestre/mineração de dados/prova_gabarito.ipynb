{
 "cells": [
  {
   "attachments": {},
   "cell_type": "markdown",
   "metadata": {},
   "source": [
    "# Orientações:\n",
    "\n",
    "Os alunos que forem pegos colando da prova de outro colega, ou passando cola, terão a nota imediatamente zerada para II. O mesmo segue para quem for pego utilizando o CHAT GPT ou o Google.\n",
    "\n",
    "A prova pode ser realizada com consultas e anotações de outras aulas, no cadernos, arquivos de resumo...\n",
    "\n",
    "`Não esqueçam de colocar o nome e o RA na célula de código abaixo!!!`\n",
    "\n",
    "Após a conclusão da prova, enviar o arquivo para o e-mail arthur.siqueira@ceub.edu.br\n",
    "\n",
    "O nome do arquivo deve ser mantido como \"prova.ipynb\" e o nome e RA escritos a baixo serão utilizados para saber de quem é cada prova.\n",
    "\n",
    "OBS: Todos os comandos input deverão possuir um texto informando o que se deseja que digite. Em casos que forem possíveis, personalize o texto do input com informações do usuário.\n",
    "\n",
    "EX: Crie uma variável idade e utilize o input para solicitar o nome -> O código seria \"idade = int(input('Digite a idade'))\"\n",
    "\n",
    "A prova possui 10 questões, sendo 4 fáceis, 3 medianas e 3 relativamente difíceis.\n",
    "\n",
    "O import das bibliotecas necessárias pode ficar no topo do código ou conforme for utilizando as bibliotecas. Fica a critério de cada um."
   ]
  },
  {
   "cell_type": "code",
   "execution_count": 1,
   "metadata": {},
   "outputs": [],
   "source": [
    "# Nome: \n",
    "# RA: "
   ]
  },
  {
   "attachments": {},
   "cell_type": "markdown",
   "metadata": {},
   "source": [
    "# 1 - Realize a leitura e análise da base de dados notebooks.csv\n",
    "\n",
    "`METADADOS` da base de dados (Informações a respeito da base de dados)\n",
    "Esta é uma base de dados com informações de notebooks vendidos no brasil de 2010 a 2023 e possuí as seguintes colunas:\n",
    "\n",
    "marca, ano, qtd_nucleos, qtd_threads, ram, gpu_dedicada, ram_gpu, entradas_usb, duracao_bateria, resolucao_tela, tipo_tela, tela_touch, armazenamento_hdd, armazenamento_ssd, segmento, valor.\n",
    "\n",
    "A coluna marca pode conter os valores: samsung, hp, dell, lenovo, acer, asus, apple, razer, xiaomi, huawei ou positivo.\n",
    "\n",
    "A coluna ano possui o ano de lançamento do notebook.\n",
    "\n",
    "A coluna qtd_nucleos corresponte à quantidade de núclues de processamento que a CPU do notebook possui.\n",
    "\n",
    "A coluna qtd_threads refere à quantidade de threads que o processador possuí.\n",
    "\n",
    "A coluna ram representa quantos gb de memória RAM o notebook possuí, e pode ser de 2, 4, 6, 8, 12, 16, 32 ou 64.\n",
    "\n",
    "A coluna gpu_dedicada representa se o notebook possui ou não uma placa de vídeo dedicada.\n",
    "\n",
    "A coluna ram_gpu representa quantos gb de memória RAM o notebook possuí na placa de vídeo dedicada. Se o notebook não possuir placa de vídeo dedicada (valor \"não\" na coluna gpu_dedicada), o valor nesta coluna é 0.\n",
    "\n",
    "A coluna entradas_usb representa quantas entradas USB o notebook possui e os valores podem ser 1, 2, 3, 4 ou 5.\n",
    "\n",
    "A coluna duracao_bateria refere-se à quantos minutos o notebook dura na bateria fora da tomada.\n",
    "\n",
    "A coluna resolucao_tela refere-se à resolução de tela do notebook, podendo ser HD, FULHD, QUADHD ou 4K, em ordem respectiva da tecnologia mais barata para a mais cara.\n",
    "\n",
    "A coluna tipo_tela refere-se ao tipo de tela do notebook, com os possíveis valores sendo TN, IPS, VA, OLED ou AMOLED, em ordem respectiva da tecnologia mais barata para a mais cara.\n",
    "\n",
    "A coluna tela_touch representa se o notebook possui a tela Touchscreen ou não.\n",
    "\n",
    "A coluna armazenamento_hdd representa quantos gb de armazenamento o notebook possui em HDD, podendo ser valores de 250, 500, 1000 ou 2000 (se o notebook não tiver HDD, o valor nesta coluna é 0).\n",
    "\n",
    "A coluna armazenamento_ssd representa quantos gb de armazenamento o notebook possui em SSD, podendo ser valores de 125, 250, 500, 1000 ou 2000 (se o notebook não tiver SSD, o valor nesta coluna é 0).\n",
    "\n",
    "A coluna segmento representa qual segmento o notebook possui, podendo ser entrada, intermediario, premium, 2em1, jogos_entrada, jogos_intermediarios, jogos_premium, ultraportatil.\n",
    "\n",
    "A coluna valor possui o valor de lançamento do notebook.\n"
   ]
  },
  {
   "cell_type": "code",
   "execution_count": 2,
   "metadata": {},
   "outputs": [],
   "source": [
    "import pandas as pd\n",
    "\n",
    "df = pd.read_csv('notebooks.csv')"
   ]
  },
  {
   "cell_type": "code",
   "execution_count": 3,
   "metadata": {},
   "outputs": [
    {
     "data": {
      "text/html": [
       "<div>\n",
       "<style scoped>\n",
       "    .dataframe tbody tr th:only-of-type {\n",
       "        vertical-align: middle;\n",
       "    }\n",
       "\n",
       "    .dataframe tbody tr th {\n",
       "        vertical-align: top;\n",
       "    }\n",
       "\n",
       "    .dataframe thead th {\n",
       "        text-align: right;\n",
       "    }\n",
       "</style>\n",
       "<table border=\"1\" class=\"dataframe\">\n",
       "  <thead>\n",
       "    <tr style=\"text-align: right;\">\n",
       "      <th></th>\n",
       "      <th>marca</th>\n",
       "      <th>ano</th>\n",
       "      <th>qtd_nucleos</th>\n",
       "      <th>qtd_threads</th>\n",
       "      <th>ram</th>\n",
       "      <th>gpu_dedicada</th>\n",
       "      <th>ram_gpu</th>\n",
       "      <th>entradas_usb</th>\n",
       "      <th>duracao_bateria</th>\n",
       "      <th>resolucao_tela</th>\n",
       "      <th>tipo_tela</th>\n",
       "      <th>tela_touch</th>\n",
       "      <th>armazenamento_hdd</th>\n",
       "      <th>armazenamento_ssd</th>\n",
       "      <th>segmento</th>\n",
       "      <th>valor</th>\n",
       "    </tr>\n",
       "  </thead>\n",
       "  <tbody>\n",
       "    <tr>\n",
       "      <th>0</th>\n",
       "      <td>positivo</td>\n",
       "      <td>2021</td>\n",
       "      <td>4</td>\n",
       "      <td>5</td>\n",
       "      <td>6</td>\n",
       "      <td>não</td>\n",
       "      <td>0</td>\n",
       "      <td>3</td>\n",
       "      <td>128</td>\n",
       "      <td>HD</td>\n",
       "      <td>IPS</td>\n",
       "      <td>não</td>\n",
       "      <td>250</td>\n",
       "      <td>0</td>\n",
       "      <td>entrada</td>\n",
       "      <td>4410</td>\n",
       "    </tr>\n",
       "    <tr>\n",
       "      <th>1</th>\n",
       "      <td>lenovo</td>\n",
       "      <td>2022</td>\n",
       "      <td>12</td>\n",
       "      <td>14</td>\n",
       "      <td>64</td>\n",
       "      <td>não</td>\n",
       "      <td>0</td>\n",
       "      <td>3</td>\n",
       "      <td>249</td>\n",
       "      <td>FULLHD</td>\n",
       "      <td>IPS</td>\n",
       "      <td>sim</td>\n",
       "      <td>0</td>\n",
       "      <td>500</td>\n",
       "      <td>2em1</td>\n",
       "      <td>11726</td>\n",
       "    </tr>\n",
       "    <tr>\n",
       "      <th>2</th>\n",
       "      <td>positivo</td>\n",
       "      <td>2013</td>\n",
       "      <td>2</td>\n",
       "      <td>3</td>\n",
       "      <td>4</td>\n",
       "      <td>não</td>\n",
       "      <td>0</td>\n",
       "      <td>4</td>\n",
       "      <td>143</td>\n",
       "      <td>HD</td>\n",
       "      <td>TN</td>\n",
       "      <td>não</td>\n",
       "      <td>250</td>\n",
       "      <td>0</td>\n",
       "      <td>entrada</td>\n",
       "      <td>4327</td>\n",
       "    </tr>\n",
       "    <tr>\n",
       "      <th>3</th>\n",
       "      <td>asus</td>\n",
       "      <td>2011</td>\n",
       "      <td>2</td>\n",
       "      <td>2</td>\n",
       "      <td>2</td>\n",
       "      <td>não</td>\n",
       "      <td>0</td>\n",
       "      <td>2</td>\n",
       "      <td>349</td>\n",
       "      <td>HD</td>\n",
       "      <td>OLED</td>\n",
       "      <td>não</td>\n",
       "      <td>500</td>\n",
       "      <td>0</td>\n",
       "      <td>intermediario</td>\n",
       "      <td>10781</td>\n",
       "    </tr>\n",
       "    <tr>\n",
       "      <th>4</th>\n",
       "      <td>hp</td>\n",
       "      <td>2023</td>\n",
       "      <td>6</td>\n",
       "      <td>12</td>\n",
       "      <td>64</td>\n",
       "      <td>não</td>\n",
       "      <td>0</td>\n",
       "      <td>2</td>\n",
       "      <td>578</td>\n",
       "      <td>FULLHD</td>\n",
       "      <td>IPS</td>\n",
       "      <td>não</td>\n",
       "      <td>0</td>\n",
       "      <td>250</td>\n",
       "      <td>ultraportatil</td>\n",
       "      <td>21193</td>\n",
       "    </tr>\n",
       "  </tbody>\n",
       "</table>\n",
       "</div>"
      ],
      "text/plain": [
       "      marca   ano  qtd_nucleos  qtd_threads  ram gpu_dedicada  ram_gpu  \\\n",
       "0  positivo  2021            4            5    6          não        0   \n",
       "1    lenovo  2022           12           14   64          não        0   \n",
       "2  positivo  2013            2            3    4          não        0   \n",
       "3      asus  2011            2            2    2          não        0   \n",
       "4        hp  2023            6           12   64          não        0   \n",
       "\n",
       "   entradas_usb  duracao_bateria resolucao_tela tipo_tela tela_touch  \\\n",
       "0             3              128             HD       IPS        não   \n",
       "1             3              249         FULLHD       IPS        sim   \n",
       "2             4              143             HD        TN        não   \n",
       "3             2              349             HD      OLED        não   \n",
       "4             2              578         FULLHD       IPS        não   \n",
       "\n",
       "   armazenamento_hdd  armazenamento_ssd       segmento  valor  \n",
       "0                250                  0        entrada   4410  \n",
       "1                  0                500           2em1  11726  \n",
       "2                250                  0        entrada   4327  \n",
       "3                500                  0  intermediario  10781  \n",
       "4                  0                250  ultraportatil  21193  "
      ]
     },
     "execution_count": 3,
     "metadata": {},
     "output_type": "execute_result"
    }
   ],
   "source": [
    "# Exibe as 5 primeiras linhas da base de dados\n",
    "df.head()"
   ]
  },
  {
   "cell_type": "code",
   "execution_count": 4,
   "metadata": {},
   "outputs": [
    {
     "name": "stdout",
     "output_type": "stream",
     "text": [
      "<class 'pandas.core.frame.DataFrame'>\n",
      "RangeIndex: 50000 entries, 0 to 49999\n",
      "Data columns (total 16 columns):\n",
      " #   Column             Non-Null Count  Dtype \n",
      "---  ------             --------------  ----- \n",
      " 0   marca              50000 non-null  object\n",
      " 1   ano                50000 non-null  int64 \n",
      " 2   qtd_nucleos        50000 non-null  int64 \n",
      " 3   qtd_threads        50000 non-null  int64 \n",
      " 4   ram                50000 non-null  int64 \n",
      " 5   gpu_dedicada       50000 non-null  object\n",
      " 6   ram_gpu            50000 non-null  int64 \n",
      " 7   entradas_usb       50000 non-null  int64 \n",
      " 8   duracao_bateria    50000 non-null  int64 \n",
      " 9   resolucao_tela     50000 non-null  object\n",
      " 10  tipo_tela          50000 non-null  object\n",
      " 11  tela_touch         50000 non-null  object\n",
      " 12  armazenamento_hdd  50000 non-null  int64 \n",
      " 13  armazenamento_ssd  50000 non-null  int64 \n",
      " 14  segmento           50000 non-null  object\n",
      " 15  valor              50000 non-null  int64 \n",
      "dtypes: int64(10), object(6)\n",
      "memory usage: 6.1+ MB\n"
     ]
    }
   ],
   "source": [
    "# Exibe informações da quantidade de valores núlos e tipo de dados das colunas\n",
    "df.info()"
   ]
  },
  {
   "cell_type": "code",
   "execution_count": 5,
   "metadata": {},
   "outputs": [
    {
     "data": {
      "text/html": [
       "<div>\n",
       "<style scoped>\n",
       "    .dataframe tbody tr th:only-of-type {\n",
       "        vertical-align: middle;\n",
       "    }\n",
       "\n",
       "    .dataframe tbody tr th {\n",
       "        vertical-align: top;\n",
       "    }\n",
       "\n",
       "    .dataframe thead th {\n",
       "        text-align: right;\n",
       "    }\n",
       "</style>\n",
       "<table border=\"1\" class=\"dataframe\">\n",
       "  <thead>\n",
       "    <tr style=\"text-align: right;\">\n",
       "      <th></th>\n",
       "      <th>ano</th>\n",
       "      <th>qtd_nucleos</th>\n",
       "      <th>qtd_threads</th>\n",
       "      <th>ram</th>\n",
       "      <th>ram_gpu</th>\n",
       "      <th>entradas_usb</th>\n",
       "      <th>duracao_bateria</th>\n",
       "      <th>armazenamento_hdd</th>\n",
       "      <th>armazenamento_ssd</th>\n",
       "      <th>valor</th>\n",
       "    </tr>\n",
       "  </thead>\n",
       "  <tbody>\n",
       "    <tr>\n",
       "      <th>count</th>\n",
       "      <td>50000.000000</td>\n",
       "      <td>50000.000000</td>\n",
       "      <td>50000.000000</td>\n",
       "      <td>50000.000000</td>\n",
       "      <td>50000.000000</td>\n",
       "      <td>50000.000000</td>\n",
       "      <td>50000.000000</td>\n",
       "      <td>50000.000000</td>\n",
       "      <td>50000.000000</td>\n",
       "      <td>50000.000000</td>\n",
       "    </tr>\n",
       "    <tr>\n",
       "      <th>mean</th>\n",
       "      <td>2016.480620</td>\n",
       "      <td>7.330480</td>\n",
       "      <td>11.006360</td>\n",
       "      <td>13.679560</td>\n",
       "      <td>1.224760</td>\n",
       "      <td>2.615240</td>\n",
       "      <td>345.445820</td>\n",
       "      <td>334.080000</td>\n",
       "      <td>610.287500</td>\n",
       "      <td>15233.142220</td>\n",
       "    </tr>\n",
       "    <tr>\n",
       "      <th>std</th>\n",
       "      <td>4.033315</td>\n",
       "      <td>2.931633</td>\n",
       "      <td>5.087667</td>\n",
       "      <td>10.504746</td>\n",
       "      <td>2.344456</td>\n",
       "      <td>0.882981</td>\n",
       "      <td>192.055706</td>\n",
       "      <td>577.087267</td>\n",
       "      <td>645.129583</td>\n",
       "      <td>6089.487725</td>\n",
       "    </tr>\n",
       "    <tr>\n",
       "      <th>min</th>\n",
       "      <td>2010.000000</td>\n",
       "      <td>2.000000</td>\n",
       "      <td>2.000000</td>\n",
       "      <td>2.000000</td>\n",
       "      <td>0.000000</td>\n",
       "      <td>1.000000</td>\n",
       "      <td>30.000000</td>\n",
       "      <td>0.000000</td>\n",
       "      <td>0.000000</td>\n",
       "      <td>2522.000000</td>\n",
       "    </tr>\n",
       "    <tr>\n",
       "      <th>25%</th>\n",
       "      <td>2013.000000</td>\n",
       "      <td>4.000000</td>\n",
       "      <td>7.000000</td>\n",
       "      <td>8.000000</td>\n",
       "      <td>0.000000</td>\n",
       "      <td>2.000000</td>\n",
       "      <td>149.000000</td>\n",
       "      <td>0.000000</td>\n",
       "      <td>250.000000</td>\n",
       "      <td>9772.000000</td>\n",
       "    </tr>\n",
       "    <tr>\n",
       "      <th>50%</th>\n",
       "      <td>2017.000000</td>\n",
       "      <td>8.000000</td>\n",
       "      <td>10.000000</td>\n",
       "      <td>12.000000</td>\n",
       "      <td>0.000000</td>\n",
       "      <td>3.000000</td>\n",
       "      <td>418.000000</td>\n",
       "      <td>0.000000</td>\n",
       "      <td>250.000000</td>\n",
       "      <td>16001.000000</td>\n",
       "    </tr>\n",
       "    <tr>\n",
       "      <th>75%</th>\n",
       "      <td>2020.000000</td>\n",
       "      <td>10.000000</td>\n",
       "      <td>14.000000</td>\n",
       "      <td>16.000000</td>\n",
       "      <td>0.000000</td>\n",
       "      <td>3.000000</td>\n",
       "      <td>522.000000</td>\n",
       "      <td>500.000000</td>\n",
       "      <td>1000.000000</td>\n",
       "      <td>20140.250000</td>\n",
       "    </tr>\n",
       "    <tr>\n",
       "      <th>max</th>\n",
       "      <td>2023.000000</td>\n",
       "      <td>12.000000</td>\n",
       "      <td>24.000000</td>\n",
       "      <td>64.000000</td>\n",
       "      <td>12.000000</td>\n",
       "      <td>4.000000</td>\n",
       "      <td>600.000000</td>\n",
       "      <td>2000.000000</td>\n",
       "      <td>2000.000000</td>\n",
       "      <td>28442.000000</td>\n",
       "    </tr>\n",
       "  </tbody>\n",
       "</table>\n",
       "</div>"
      ],
      "text/plain": [
       "                ano   qtd_nucleos   qtd_threads           ram       ram_gpu  \\\n",
       "count  50000.000000  50000.000000  50000.000000  50000.000000  50000.000000   \n",
       "mean    2016.480620      7.330480     11.006360     13.679560      1.224760   \n",
       "std        4.033315      2.931633      5.087667     10.504746      2.344456   \n",
       "min     2010.000000      2.000000      2.000000      2.000000      0.000000   \n",
       "25%     2013.000000      4.000000      7.000000      8.000000      0.000000   \n",
       "50%     2017.000000      8.000000     10.000000     12.000000      0.000000   \n",
       "75%     2020.000000     10.000000     14.000000     16.000000      0.000000   \n",
       "max     2023.000000     12.000000     24.000000     64.000000     12.000000   \n",
       "\n",
       "       entradas_usb  duracao_bateria  armazenamento_hdd  armazenamento_ssd  \\\n",
       "count  50000.000000     50000.000000       50000.000000       50000.000000   \n",
       "mean       2.615240       345.445820         334.080000         610.287500   \n",
       "std        0.882981       192.055706         577.087267         645.129583   \n",
       "min        1.000000        30.000000           0.000000           0.000000   \n",
       "25%        2.000000       149.000000           0.000000         250.000000   \n",
       "50%        3.000000       418.000000           0.000000         250.000000   \n",
       "75%        3.000000       522.000000         500.000000        1000.000000   \n",
       "max        4.000000       600.000000        2000.000000        2000.000000   \n",
       "\n",
       "              valor  \n",
       "count  50000.000000  \n",
       "mean   15233.142220  \n",
       "std     6089.487725  \n",
       "min     2522.000000  \n",
       "25%     9772.000000  \n",
       "50%    16001.000000  \n",
       "75%    20140.250000  \n",
       "max    28442.000000  "
      ]
     },
     "execution_count": 5,
     "metadata": {},
     "output_type": "execute_result"
    }
   ],
   "source": [
    "# Exibe informações descritivas das colunas numéricas\n",
    "df.describe()"
   ]
  },
  {
   "cell_type": "code",
   "execution_count": 6,
   "metadata": {},
   "outputs": [
    {
     "data": {
      "text/html": [
       "<div>\n",
       "<style scoped>\n",
       "    .dataframe tbody tr th:only-of-type {\n",
       "        vertical-align: middle;\n",
       "    }\n",
       "\n",
       "    .dataframe tbody tr th {\n",
       "        vertical-align: top;\n",
       "    }\n",
       "\n",
       "    .dataframe thead th {\n",
       "        text-align: right;\n",
       "    }\n",
       "</style>\n",
       "<table border=\"1\" class=\"dataframe\">\n",
       "  <thead>\n",
       "    <tr style=\"text-align: right;\">\n",
       "      <th></th>\n",
       "      <th>marca</th>\n",
       "      <th>gpu_dedicada</th>\n",
       "      <th>resolucao_tela</th>\n",
       "      <th>tipo_tela</th>\n",
       "      <th>tela_touch</th>\n",
       "      <th>segmento</th>\n",
       "    </tr>\n",
       "  </thead>\n",
       "  <tbody>\n",
       "    <tr>\n",
       "      <th>count</th>\n",
       "      <td>50000</td>\n",
       "      <td>50000</td>\n",
       "      <td>50000</td>\n",
       "      <td>50000</td>\n",
       "      <td>50000</td>\n",
       "      <td>50000</td>\n",
       "    </tr>\n",
       "    <tr>\n",
       "      <th>unique</th>\n",
       "      <td>11</td>\n",
       "      <td>2</td>\n",
       "      <td>4</td>\n",
       "      <td>5</td>\n",
       "      <td>2</td>\n",
       "      <td>8</td>\n",
       "    </tr>\n",
       "    <tr>\n",
       "      <th>top</th>\n",
       "      <td>xiaomi</td>\n",
       "      <td>não</td>\n",
       "      <td>FULLHD</td>\n",
       "      <td>OLED</td>\n",
       "      <td>não</td>\n",
       "      <td>premium</td>\n",
       "    </tr>\n",
       "    <tr>\n",
       "      <th>freq</th>\n",
       "      <td>4676</td>\n",
       "      <td>37804</td>\n",
       "      <td>20821</td>\n",
       "      <td>15160</td>\n",
       "      <td>45811</td>\n",
       "      <td>19052</td>\n",
       "    </tr>\n",
       "  </tbody>\n",
       "</table>\n",
       "</div>"
      ],
      "text/plain": [
       "         marca gpu_dedicada resolucao_tela tipo_tela tela_touch segmento\n",
       "count    50000        50000          50000     50000      50000    50000\n",
       "unique      11            2              4         5          2        8\n",
       "top     xiaomi          não         FULLHD      OLED        não  premium\n",
       "freq      4676        37804          20821     15160      45811    19052"
      ]
     },
     "execution_count": 6,
     "metadata": {},
     "output_type": "execute_result"
    }
   ],
   "source": [
    "# Exibe informações descritivas das colunas textuais\n",
    "df.describe(include='O')"
   ]
  },
  {
   "cell_type": "code",
   "execution_count": 7,
   "metadata": {},
   "outputs": [
    {
     "data": {
      "text/plain": [
       "marca                0\n",
       "ano                  0\n",
       "qtd_nucleos          0\n",
       "qtd_threads          0\n",
       "ram                  0\n",
       "gpu_dedicada         0\n",
       "ram_gpu              0\n",
       "entradas_usb         0\n",
       "duracao_bateria      0\n",
       "resolucao_tela       0\n",
       "tipo_tela            0\n",
       "tela_touch           0\n",
       "armazenamento_hdd    0\n",
       "armazenamento_ssd    0\n",
       "segmento             0\n",
       "valor                0\n",
       "dtype: int64"
      ]
     },
     "execution_count": 7,
     "metadata": {},
     "output_type": "execute_result"
    }
   ],
   "source": [
    "# Exibe a quantidade de valores núlos \n",
    "df.isna().sum()"
   ]
  },
  {
   "attachments": {},
   "cell_type": "markdown",
   "metadata": {},
   "source": [
    "# 2 - Realize todo o tratamento de dados necessário para aplicar os dados em um algorítmo de rede neural para fazer uma regressão para prever o valor do notebook.\n",
    "\n",
    "- Tratar valores núlos (se houver);\n",
    "\n",
    "- Converter valores textuais para numéricos (como a rede neural faz cálculos, talvez seja mais interessante usar o loc para definir algumas colunas como a segmento, tipo tela... colocando valores numéricos mais intuitivos em relação ao valor, ou seja, o que é mais barato substitui por 0 e assim por diante. Se quiser usar apenas o label encoder não tem problema, mas pode obter resultados menos interessantes...);\n",
    "\n",
    "- Normalizar os dados;\n",
    "\n",
    "- Separar 0.2% para teste ( não é 20% nem 2%, é 0.2% mesmo)"
   ]
  },
  {
   "cell_type": "code",
   "execution_count": 8,
   "metadata": {},
   "outputs": [],
   "source": [
    "from sklearn.preprocessing import LabelEncoder"
   ]
  },
  {
   "cell_type": "code",
   "execution_count": 9,
   "metadata": {},
   "outputs": [
    {
     "data": {
      "text/plain": [
       "['marca',\n",
       " 'gpu_dedicada',\n",
       " 'resolucao_tela',\n",
       " 'tipo_tela',\n",
       " 'tela_touch',\n",
       " 'segmento']"
      ]
     },
     "execution_count": 9,
     "metadata": {},
     "output_type": "execute_result"
    }
   ],
   "source": [
    "# Lista as colunas de valores textuais\n",
    "df.select_dtypes(include='object').columns.tolist()"
   ]
  },
  {
   "cell_type": "code",
   "execution_count": 10,
   "metadata": {},
   "outputs": [
    {
     "data": {
      "text/plain": [
       "array(['positivo', 'lenovo', 'asus', 'hp', 'huawei', 'dell', 'apple',\n",
       "       'acer', 'xiaomi', 'samsung', 'razer'], dtype=object)"
      ]
     },
     "execution_count": 10,
     "metadata": {},
     "output_type": "execute_result"
    }
   ],
   "source": [
    "# Exibe os valores únicos da coluna marca\n",
    "df.marca.unique()"
   ]
  },
  {
   "cell_type": "code",
   "execution_count": 11,
   "metadata": {},
   "outputs": [],
   "source": [
    "# Altera a coluna marca para valores numéricos\n",
    "le = LabelEncoder()\n",
    "df['marca'] = le.fit_transform(df['marca'])"
   ]
  },
  {
   "cell_type": "code",
   "execution_count": 12,
   "metadata": {},
   "outputs": [
    {
     "data": {
      "text/plain": [
       "array(['não', 'sim'], dtype=object)"
      ]
     },
     "execution_count": 12,
     "metadata": {},
     "output_type": "execute_result"
    }
   ],
   "source": [
    "# Exibe os valores únicos da coluna gpu_dedicada\n",
    "df.gpu_dedicada.unique()"
   ]
  },
  {
   "cell_type": "code",
   "execution_count": 13,
   "metadata": {},
   "outputs": [],
   "source": [
    "# Notebook sem palca dedicada é mais barato\n",
    "df.loc[df['gpu_dedicada'] == 'não', 'gpu_dedicada'] = 0\n",
    "# Notebook com palca dedicada é mais caro\n",
    "df.loc[df['gpu_dedicada'] == 'sim', 'gpu_dedicada'] = 1\n",
    "\n",
    "df['gpu_dedicada'] = pd.to_numeric(df['gpu_dedicada'])"
   ]
  },
  {
   "cell_type": "code",
   "execution_count": 14,
   "metadata": {},
   "outputs": [
    {
     "data": {
      "text/plain": [
       "array(['IPS', 'TN', 'OLED', 'AMOLED', 'VA'], dtype=object)"
      ]
     },
     "execution_count": 14,
     "metadata": {},
     "output_type": "execute_result"
    }
   ],
   "source": [
    "# Exibe os valores únicos da coluna tipo_tela\n",
    "df.tipo_tela.unique()"
   ]
  },
  {
   "cell_type": "code",
   "execution_count": 15,
   "metadata": {},
   "outputs": [],
   "source": [
    "# Tela TN é a mais barata\n",
    "df.loc[df['tipo_tela'] == 'TN', 'tipo_tela'] = 0\n",
    "df.loc[df['tipo_tela'] == 'IPS', 'tipo_tela'] = 1\n",
    "df.loc[df['tipo_tela'] == 'VA', 'tipo_tela'] = 2\n",
    "df.loc[df['tipo_tela'] == 'OLED', 'tipo_tela'] = 3\n",
    "# Tela AMOLED a mais cara\n",
    "df.loc[df['tipo_tela'] == 'AMOLED', 'tipo_tela'] = 4\n",
    "\n",
    "df['tipo_tela'] = pd.to_numeric(df['tipo_tela'])"
   ]
  },
  {
   "cell_type": "code",
   "execution_count": 16,
   "metadata": {},
   "outputs": [
    {
     "data": {
      "text/plain": [
       "array(['não', 'sim'], dtype=object)"
      ]
     },
     "execution_count": 16,
     "metadata": {},
     "output_type": "execute_result"
    }
   ],
   "source": [
    "# Exibe os valores únicos da coluna tela_touch\n",
    "df.tela_touch.unique()"
   ]
  },
  {
   "cell_type": "code",
   "execution_count": 17,
   "metadata": {},
   "outputs": [],
   "source": [
    "# Tela sem touch é a mais barata\n",
    "df.loc[df['tela_touch'] == 'não', 'tela_touch'] = 0\n",
    "# Tela com touch é a mais cara\n",
    "df.loc[df['tela_touch'] == 'sim', 'tela_touch'] = 1\n",
    "\n",
    "df['tela_touch'] = pd.to_numeric(df['tela_touch'])"
   ]
  },
  {
   "cell_type": "code",
   "execution_count": 18,
   "metadata": {},
   "outputs": [
    {
     "data": {
      "text/plain": [
       "array(['entrada', '2em1', 'intermediario', 'ultraportatil', 'premium',\n",
       "       'jogos_entrada', 'jogos_premium', 'jogos_intermediarios'],\n",
       "      dtype=object)"
      ]
     },
     "execution_count": 18,
     "metadata": {},
     "output_type": "execute_result"
    }
   ],
   "source": [
    "# Exibe os valores únicos da coluna segmento\n",
    "df.segmento.unique()"
   ]
  },
  {
   "attachments": {},
   "cell_type": "markdown",
   "metadata": {},
   "source": [
    "Aqui não existe uma regra de preço entre as categorias, fiz com base em o que acho que é do segmento mais barato para o mais caro."
   ]
  },
  {
   "cell_type": "code",
   "execution_count": 19,
   "metadata": {},
   "outputs": [],
   "source": [
    "df.loc[df['segmento'] == 'entrada', 'segmento'] = 0\n",
    "df.loc[df['segmento'] == 'intermediario', 'segmento'] = 1\n",
    "df.loc[df['segmento'] == 'jogos_entrada', 'segmento'] = 2\n",
    "df.loc[df['segmento'] == '2em1', 'segmento'] = 3\n",
    "df.loc[df['segmento'] == 'jogos_intermediarios', 'segmento'] = 4\n",
    "df.loc[df['segmento'] == 'ultraportatil', 'segmento'] = 5\n",
    "df.loc[df['segmento'] == 'premium', 'segmento'] = 6\n",
    "df.loc[df['segmento'] == 'jogos_premium', 'segmento'] = 7\n",
    "\n",
    "df['segmento'] = pd.to_numeric(df['segmento'])"
   ]
  },
  {
   "cell_type": "code",
   "execution_count": 20,
   "metadata": {},
   "outputs": [
    {
     "data": {
      "text/plain": [
       "array(['HD', 'FULLHD', 'QUADHD', '4K'], dtype=object)"
      ]
     },
     "execution_count": 20,
     "metadata": {},
     "output_type": "execute_result"
    }
   ],
   "source": [
    "# Exibe os valores únicos da coluna resolucao_tela\n",
    "df.resolucao_tela.unique()"
   ]
  },
  {
   "cell_type": "code",
   "execution_count": 21,
   "metadata": {},
   "outputs": [],
   "source": [
    "df.loc[df['resolucao_tela'] == 'HD', 'resolucao_tela'] = 0\n",
    "df.loc[df['resolucao_tela'] == 'FULLHD', 'resolucao_tela'] = 1\n",
    "df.loc[df['resolucao_tela'] == 'QUADHD', 'resolucao_tela'] = 2\n",
    "df.loc[df['resolucao_tela'] == '4K', 'resolucao_tela'] = 3\n",
    "\n",
    "df['resolucao_tela'] = pd.to_numeric(df['resolucao_tela'])"
   ]
  },
  {
   "cell_type": "code",
   "execution_count": 22,
   "metadata": {},
   "outputs": [
    {
     "name": "stdout",
     "output_type": "stream",
     "text": [
      "<class 'pandas.core.frame.DataFrame'>\n",
      "RangeIndex: 50000 entries, 0 to 49999\n",
      "Data columns (total 16 columns):\n",
      " #   Column             Non-Null Count  Dtype\n",
      "---  ------             --------------  -----\n",
      " 0   marca              50000 non-null  int32\n",
      " 1   ano                50000 non-null  int64\n",
      " 2   qtd_nucleos        50000 non-null  int64\n",
      " 3   qtd_threads        50000 non-null  int64\n",
      " 4   ram                50000 non-null  int64\n",
      " 5   gpu_dedicada       50000 non-null  int64\n",
      " 6   ram_gpu            50000 non-null  int64\n",
      " 7   entradas_usb       50000 non-null  int64\n",
      " 8   duracao_bateria    50000 non-null  int64\n",
      " 9   resolucao_tela     50000 non-null  int64\n",
      " 10  tipo_tela          50000 non-null  int64\n",
      " 11  tela_touch         50000 non-null  int64\n",
      " 12  armazenamento_hdd  50000 non-null  int64\n",
      " 13  armazenamento_ssd  50000 non-null  int64\n",
      " 14  segmento           50000 non-null  int64\n",
      " 15  valor              50000 non-null  int64\n",
      "dtypes: int32(1), int64(15)\n",
      "memory usage: 5.9 MB\n"
     ]
    }
   ],
   "source": [
    "# Exibe os tipos de dados das colunas\n",
    "df.info()"
   ]
  },
  {
   "cell_type": "code",
   "execution_count": 23,
   "metadata": {},
   "outputs": [],
   "source": [
    "# Separar os dados em X e y\n",
    "X = df.drop('valor', axis = 1)\n",
    "y = df[['valor']]"
   ]
  },
  {
   "cell_type": "code",
   "execution_count": 24,
   "metadata": {},
   "outputs": [],
   "source": [
    "# Normalizaros dados\n",
    "from sklearn.preprocessing import MinMaxScaler\n",
    "\n",
    "scaler_features = MinMaxScaler()\n",
    "scaler_features.fit(X)\n",
    "X = scaler_features.transform(X)\n",
    "\n",
    "scaler_target = MinMaxScaler()\n",
    "scaler_target.fit(y)\n",
    "y = scaler_target.transform(y)"
   ]
  },
  {
   "cell_type": "code",
   "execution_count": 25,
   "metadata": {},
   "outputs": [],
   "source": [
    "# Separa os dados em treinamento e teste com 0.2% para teste\n",
    "from sklearn.model_selection import train_test_split\n",
    "\n",
    "X_train, X_test, y_train, y_test = train_test_split(X, y, test_size=0.002, random_state=19)"
   ]
  },
  {
   "attachments": {},
   "cell_type": "markdown",
   "metadata": {},
   "source": [
    "# 3 - Treinamento de uma rede neural para regressão\n",
    "\n",
    "- Defina uma rede neural para realizar a regressão e prever o valor do notebook. A estrutura da rede neural fica a critério de cada um para definir quantas camadas ocultas e quantos neurônios nas camadas ocultas;\n",
    "\n",
    "- Defina 30% dos dados para validação (no treinamento, validation_split = 0.3)\n",
    "\n",
    "- Salve o histórico do treinamento em uma variável chamada history;\n",
    "\n",
    "- Para não demorar, não treine a rede por mais de 100 épocas."
   ]
  },
  {
   "cell_type": "code",
   "execution_count": 26,
   "metadata": {},
   "outputs": [],
   "source": [
    "from keras.models import Sequential\n",
    "from keras.layers import Dense, InputLayer\n",
    "from sklearn.metrics import mean_squared_error"
   ]
  },
  {
   "cell_type": "code",
   "execution_count": 27,
   "metadata": {},
   "outputs": [
    {
     "name": "stdout",
     "output_type": "stream",
     "text": [
      "Epoch 1/100\n",
      "1092/1092 [==============================] - 2s 2ms/step - loss: 0.0137 - mse: 0.0137 - val_loss: 0.0082 - val_mse: 0.0082\n",
      "Epoch 2/100\n",
      "1092/1092 [==============================] - 2s 2ms/step - loss: 0.0082 - mse: 0.0082 - val_loss: 0.0082 - val_mse: 0.0082\n",
      "Epoch 3/100\n",
      "1092/1092 [==============================] - 2s 2ms/step - loss: 0.0082 - mse: 0.0082 - val_loss: 0.0078 - val_mse: 0.0078\n",
      "Epoch 4/100\n",
      "1092/1092 [==============================] - 2s 2ms/step - loss: 0.0081 - mse: 0.0081 - val_loss: 0.0079 - val_mse: 0.0079\n",
      "Epoch 5/100\n",
      "1092/1092 [==============================] - 2s 2ms/step - loss: 0.0081 - mse: 0.0081 - val_loss: 0.0078 - val_mse: 0.0078\n",
      "Epoch 6/100\n",
      "1092/1092 [==============================] - 2s 2ms/step - loss: 0.0080 - mse: 0.0080 - val_loss: 0.0080 - val_mse: 0.0080\n",
      "Epoch 7/100\n",
      "1092/1092 [==============================] - 3s 3ms/step - loss: 0.0079 - mse: 0.0079 - val_loss: 0.0080 - val_mse: 0.0080\n",
      "Epoch 8/100\n",
      "1092/1092 [==============================] - 2s 2ms/step - loss: 0.0079 - mse: 0.0079 - val_loss: 0.0082 - val_mse: 0.0082\n",
      "Epoch 9/100\n",
      "1092/1092 [==============================] - 2s 2ms/step - loss: 0.0079 - mse: 0.0079 - val_loss: 0.0077 - val_mse: 0.0077\n",
      "Epoch 10/100\n",
      "1092/1092 [==============================] - 2s 2ms/step - loss: 0.0079 - mse: 0.0079 - val_loss: 0.0078 - val_mse: 0.0078\n",
      "Epoch 11/100\n",
      "1092/1092 [==============================] - 2s 2ms/step - loss: 0.0079 - mse: 0.0079 - val_loss: 0.0077 - val_mse: 0.0077\n",
      "Epoch 12/100\n",
      "1092/1092 [==============================] - 4s 4ms/step - loss: 0.0078 - mse: 0.0078 - val_loss: 0.0077 - val_mse: 0.0077\n",
      "Epoch 13/100\n",
      "1092/1092 [==============================] - 3s 3ms/step - loss: 0.0079 - mse: 0.0079 - val_loss: 0.0077 - val_mse: 0.0077\n",
      "Epoch 14/100\n",
      "1092/1092 [==============================] - 2s 2ms/step - loss: 0.0079 - mse: 0.0079 - val_loss: 0.0078 - val_mse: 0.0078\n",
      "Epoch 15/100\n",
      "1092/1092 [==============================] - 2s 2ms/step - loss: 0.0078 - mse: 0.0078 - val_loss: 0.0079 - val_mse: 0.0079\n",
      "Epoch 16/100\n",
      "1092/1092 [==============================] - 2s 2ms/step - loss: 0.0078 - mse: 0.0078 - val_loss: 0.0079 - val_mse: 0.0079\n",
      "Epoch 17/100\n",
      "1092/1092 [==============================] - 2s 2ms/step - loss: 0.0078 - mse: 0.0078 - val_loss: 0.0079 - val_mse: 0.0079\n",
      "Epoch 18/100\n",
      "1092/1092 [==============================] - 2s 2ms/step - loss: 0.0078 - mse: 0.0078 - val_loss: 0.0077 - val_mse: 0.0077\n",
      "Epoch 19/100\n",
      "1092/1092 [==============================] - 1s 1ms/step - loss: 0.0078 - mse: 0.0078 - val_loss: 0.0078 - val_mse: 0.0078\n",
      "Epoch 20/100\n",
      "1092/1092 [==============================] - 1s 1ms/step - loss: 0.0078 - mse: 0.0078 - val_loss: 0.0078 - val_mse: 0.0078\n",
      "Epoch 21/100\n",
      "1092/1092 [==============================] - 2s 1ms/step - loss: 0.0078 - mse: 0.0078 - val_loss: 0.0081 - val_mse: 0.0081\n",
      "Epoch 22/100\n",
      "1092/1092 [==============================] - 1s 1ms/step - loss: 0.0078 - mse: 0.0078 - val_loss: 0.0077 - val_mse: 0.0077\n",
      "Epoch 23/100\n",
      "1092/1092 [==============================] - 1s 1ms/step - loss: 0.0078 - mse: 0.0078 - val_loss: 0.0078 - val_mse: 0.0078\n",
      "Epoch 24/100\n",
      "1092/1092 [==============================] - 1s 1ms/step - loss: 0.0078 - mse: 0.0078 - val_loss: 0.0077 - val_mse: 0.0077\n",
      "Epoch 25/100\n",
      "1092/1092 [==============================] - 2s 2ms/step - loss: 0.0078 - mse: 0.0078 - val_loss: 0.0077 - val_mse: 0.0077\n",
      "Epoch 26/100\n",
      "1092/1092 [==============================] - 1s 1ms/step - loss: 0.0078 - mse: 0.0078 - val_loss: 0.0078 - val_mse: 0.0078\n",
      "Epoch 27/100\n",
      "1092/1092 [==============================] - 2s 2ms/step - loss: 0.0078 - mse: 0.0078 - val_loss: 0.0079 - val_mse: 0.0079\n",
      "Epoch 28/100\n",
      "1092/1092 [==============================] - 2s 2ms/step - loss: 0.0077 - mse: 0.0077 - val_loss: 0.0077 - val_mse: 0.0077\n",
      "Epoch 29/100\n",
      "1092/1092 [==============================] - 2s 2ms/step - loss: 0.0077 - mse: 0.0077 - val_loss: 0.0077 - val_mse: 0.0077\n",
      "Epoch 30/100\n",
      "1092/1092 [==============================] - 2s 2ms/step - loss: 0.0078 - mse: 0.0078 - val_loss: 0.0077 - val_mse: 0.0077\n",
      "Epoch 31/100\n",
      "1092/1092 [==============================] - 2s 2ms/step - loss: 0.0078 - mse: 0.0078 - val_loss: 0.0078 - val_mse: 0.0078\n",
      "Epoch 32/100\n",
      "1092/1092 [==============================] - 2s 2ms/step - loss: 0.0077 - mse: 0.0077 - val_loss: 0.0077 - val_mse: 0.0077\n",
      "Epoch 33/100\n",
      "1092/1092 [==============================] - 2s 2ms/step - loss: 0.0077 - mse: 0.0077 - val_loss: 0.0077 - val_mse: 0.0077\n",
      "Epoch 34/100\n",
      "1092/1092 [==============================] - 2s 2ms/step - loss: 0.0078 - mse: 0.0078 - val_loss: 0.0077 - val_mse: 0.0077\n",
      "Epoch 35/100\n",
      "1092/1092 [==============================] - 2s 1ms/step - loss: 0.0077 - mse: 0.0077 - val_loss: 0.0077 - val_mse: 0.0077\n",
      "Epoch 36/100\n",
      "1092/1092 [==============================] - 2s 2ms/step - loss: 0.0077 - mse: 0.0077 - val_loss: 0.0077 - val_mse: 0.0077\n",
      "Epoch 37/100\n",
      "1092/1092 [==============================] - 2s 2ms/step - loss: 0.0077 - mse: 0.0077 - val_loss: 0.0078 - val_mse: 0.0078\n",
      "Epoch 38/100\n",
      "1092/1092 [==============================] - 2s 1ms/step - loss: 0.0077 - mse: 0.0077 - val_loss: 0.0077 - val_mse: 0.0077\n",
      "Epoch 39/100\n",
      "1092/1092 [==============================] - 2s 1ms/step - loss: 0.0077 - mse: 0.0077 - val_loss: 0.0077 - val_mse: 0.0077\n",
      "Epoch 40/100\n",
      "1092/1092 [==============================] - 2s 2ms/step - loss: 0.0077 - mse: 0.0077 - val_loss: 0.0077 - val_mse: 0.0077\n",
      "Epoch 41/100\n",
      "1092/1092 [==============================] - 2s 2ms/step - loss: 0.0077 - mse: 0.0077 - val_loss: 0.0077 - val_mse: 0.0077\n",
      "Epoch 42/100\n",
      "1092/1092 [==============================] - 2s 2ms/step - loss: 0.0077 - mse: 0.0077 - val_loss: 0.0082 - val_mse: 0.0082\n",
      "Epoch 43/100\n",
      "1092/1092 [==============================] - 2s 1ms/step - loss: 0.0077 - mse: 0.0077 - val_loss: 0.0078 - val_mse: 0.0078\n",
      "Epoch 44/100\n",
      "1092/1092 [==============================] - 2s 1ms/step - loss: 0.0077 - mse: 0.0077 - val_loss: 0.0077 - val_mse: 0.0077\n",
      "Epoch 45/100\n",
      "1092/1092 [==============================] - 2s 2ms/step - loss: 0.0077 - mse: 0.0077 - val_loss: 0.0078 - val_mse: 0.0078\n",
      "Epoch 46/100\n",
      "1092/1092 [==============================] - 1s 1ms/step - loss: 0.0077 - mse: 0.0077 - val_loss: 0.0078 - val_mse: 0.0078\n",
      "Epoch 47/100\n",
      "1092/1092 [==============================] - 2s 2ms/step - loss: 0.0077 - mse: 0.0077 - val_loss: 0.0078 - val_mse: 0.0078\n",
      "Epoch 48/100\n",
      "1092/1092 [==============================] - 1s 1ms/step - loss: 0.0077 - mse: 0.0077 - val_loss: 0.0077 - val_mse: 0.0077\n",
      "Epoch 49/100\n",
      "1092/1092 [==============================] - 2s 2ms/step - loss: 0.0077 - mse: 0.0077 - val_loss: 0.0077 - val_mse: 0.0077\n",
      "Epoch 50/100\n",
      "1092/1092 [==============================] - 2s 1ms/step - loss: 0.0077 - mse: 0.0077 - val_loss: 0.0079 - val_mse: 0.0079\n",
      "Epoch 51/100\n",
      "1092/1092 [==============================] - 2s 1ms/step - loss: 0.0077 - mse: 0.0077 - val_loss: 0.0077 - val_mse: 0.0077\n",
      "Epoch 52/100\n",
      "1092/1092 [==============================] - 2s 1ms/step - loss: 0.0077 - mse: 0.0077 - val_loss: 0.0078 - val_mse: 0.0078\n",
      "Epoch 53/100\n",
      "1092/1092 [==============================] - 1s 1ms/step - loss: 0.0077 - mse: 0.0077 - val_loss: 0.0077 - val_mse: 0.0077\n",
      "Epoch 54/100\n",
      "1092/1092 [==============================] - 2s 1ms/step - loss: 0.0077 - mse: 0.0077 - val_loss: 0.0078 - val_mse: 0.0078\n",
      "Epoch 55/100\n",
      "1092/1092 [==============================] - 2s 1ms/step - loss: 0.0077 - mse: 0.0077 - val_loss: 0.0077 - val_mse: 0.0077\n",
      "Epoch 56/100\n",
      "1092/1092 [==============================] - 1s 1ms/step - loss: 0.0077 - mse: 0.0077 - val_loss: 0.0082 - val_mse: 0.0082\n",
      "Epoch 57/100\n",
      "1092/1092 [==============================] - 1s 1ms/step - loss: 0.0077 - mse: 0.0077 - val_loss: 0.0077 - val_mse: 0.0077\n",
      "Epoch 58/100\n",
      "1092/1092 [==============================] - 1s 1ms/step - loss: 0.0077 - mse: 0.0077 - val_loss: 0.0078 - val_mse: 0.0078\n",
      "Epoch 59/100\n",
      "1092/1092 [==============================] - 1s 1ms/step - loss: 0.0077 - mse: 0.0077 - val_loss: 0.0079 - val_mse: 0.0079\n",
      "Epoch 60/100\n",
      "1092/1092 [==============================] - 1s 1ms/step - loss: 0.0077 - mse: 0.0077 - val_loss: 0.0078 - val_mse: 0.0078\n",
      "Epoch 61/100\n",
      "1092/1092 [==============================] - 1s 1ms/step - loss: 0.0077 - mse: 0.0077 - val_loss: 0.0079 - val_mse: 0.0079\n",
      "Epoch 62/100\n",
      "1092/1092 [==============================] - 1s 1ms/step - loss: 0.0077 - mse: 0.0077 - val_loss: 0.0078 - val_mse: 0.0078\n",
      "Epoch 63/100\n",
      "1092/1092 [==============================] - 1s 1ms/step - loss: 0.0077 - mse: 0.0077 - val_loss: 0.0077 - val_mse: 0.0077\n",
      "Epoch 64/100\n",
      "1092/1092 [==============================] - 1s 1ms/step - loss: 0.0077 - mse: 0.0077 - val_loss: 0.0078 - val_mse: 0.0078\n",
      "Epoch 65/100\n",
      "1092/1092 [==============================] - 1s 1ms/step - loss: 0.0077 - mse: 0.0077 - val_loss: 0.0078 - val_mse: 0.0078\n",
      "Epoch 66/100\n",
      "1092/1092 [==============================] - 1s 1ms/step - loss: 0.0076 - mse: 0.0076 - val_loss: 0.0081 - val_mse: 0.0081\n",
      "Epoch 67/100\n",
      "1092/1092 [==============================] - 1s 1ms/step - loss: 0.0076 - mse: 0.0076 - val_loss: 0.0078 - val_mse: 0.0078\n",
      "Epoch 68/100\n",
      "1092/1092 [==============================] - 2s 2ms/step - loss: 0.0077 - mse: 0.0077 - val_loss: 0.0078 - val_mse: 0.0078\n",
      "Epoch 69/100\n",
      "1092/1092 [==============================] - 2s 2ms/step - loss: 0.0077 - mse: 0.0077 - val_loss: 0.0079 - val_mse: 0.0079\n",
      "Epoch 70/100\n",
      "1092/1092 [==============================] - 1s 1ms/step - loss: 0.0076 - mse: 0.0076 - val_loss: 0.0077 - val_mse: 0.0077\n",
      "Epoch 71/100\n",
      "1092/1092 [==============================] - 1s 1ms/step - loss: 0.0076 - mse: 0.0076 - val_loss: 0.0078 - val_mse: 0.0078\n",
      "Epoch 72/100\n",
      "1092/1092 [==============================] - 2s 2ms/step - loss: 0.0077 - mse: 0.0077 - val_loss: 0.0078 - val_mse: 0.0078\n",
      "Epoch 73/100\n",
      "1092/1092 [==============================] - 2s 2ms/step - loss: 0.0076 - mse: 0.0076 - val_loss: 0.0079 - val_mse: 0.0079\n",
      "Epoch 74/100\n",
      "1092/1092 [==============================] - 3s 3ms/step - loss: 0.0077 - mse: 0.0077 - val_loss: 0.0081 - val_mse: 0.0081\n",
      "Epoch 75/100\n",
      "1092/1092 [==============================] - 3s 3ms/step - loss: 0.0076 - mse: 0.0076 - val_loss: 0.0078 - val_mse: 0.0078\n",
      "Epoch 76/100\n",
      "1092/1092 [==============================] - 2s 2ms/step - loss: 0.0076 - mse: 0.0076 - val_loss: 0.0078 - val_mse: 0.0078\n",
      "Epoch 77/100\n",
      "1092/1092 [==============================] - 2s 2ms/step - loss: 0.0076 - mse: 0.0076 - val_loss: 0.0077 - val_mse: 0.0077\n",
      "Epoch 78/100\n",
      "1092/1092 [==============================] - 2s 2ms/step - loss: 0.0076 - mse: 0.0076 - val_loss: 0.0078 - val_mse: 0.0078\n",
      "Epoch 79/100\n",
      "1092/1092 [==============================] - 1s 1ms/step - loss: 0.0076 - mse: 0.0076 - val_loss: 0.0077 - val_mse: 0.0077\n",
      "Epoch 80/100\n",
      "1092/1092 [==============================] - 1s 1ms/step - loss: 0.0076 - mse: 0.0076 - val_loss: 0.0079 - val_mse: 0.0079\n",
      "Epoch 81/100\n",
      "1092/1092 [==============================] - 1s 1ms/step - loss: 0.0076 - mse: 0.0076 - val_loss: 0.0080 - val_mse: 0.0080\n",
      "Epoch 82/100\n",
      "1092/1092 [==============================] - 1s 1ms/step - loss: 0.0076 - mse: 0.0076 - val_loss: 0.0078 - val_mse: 0.0078\n",
      "Epoch 83/100\n",
      "1092/1092 [==============================] - 1s 1ms/step - loss: 0.0076 - mse: 0.0076 - val_loss: 0.0078 - val_mse: 0.0078\n",
      "Epoch 84/100\n",
      "1092/1092 [==============================] - 1s 1ms/step - loss: 0.0076 - mse: 0.0076 - val_loss: 0.0078 - val_mse: 0.0078\n",
      "Epoch 85/100\n",
      "1092/1092 [==============================] - 1s 1ms/step - loss: 0.0076 - mse: 0.0076 - val_loss: 0.0077 - val_mse: 0.0077\n",
      "Epoch 86/100\n",
      "1092/1092 [==============================] - 1s 1ms/step - loss: 0.0076 - mse: 0.0076 - val_loss: 0.0078 - val_mse: 0.0078\n",
      "Epoch 87/100\n",
      "1092/1092 [==============================] - 2s 2ms/step - loss: 0.0076 - mse: 0.0076 - val_loss: 0.0078 - val_mse: 0.0078\n",
      "Epoch 88/100\n",
      "1092/1092 [==============================] - 2s 2ms/step - loss: 0.0076 - mse: 0.0076 - val_loss: 0.0077 - val_mse: 0.0077\n",
      "Epoch 89/100\n",
      "1092/1092 [==============================] - 1s 1ms/step - loss: 0.0076 - mse: 0.0076 - val_loss: 0.0078 - val_mse: 0.0078\n",
      "Epoch 90/100\n",
      "1092/1092 [==============================] - 2s 1ms/step - loss: 0.0076 - mse: 0.0076 - val_loss: 0.0079 - val_mse: 0.0079\n",
      "Epoch 91/100\n",
      "1092/1092 [==============================] - 2s 2ms/step - loss: 0.0076 - mse: 0.0076 - val_loss: 0.0078 - val_mse: 0.0078\n",
      "Epoch 92/100\n",
      "1092/1092 [==============================] - 1s 1ms/step - loss: 0.0076 - mse: 0.0076 - val_loss: 0.0079 - val_mse: 0.0079\n",
      "Epoch 93/100\n",
      "1092/1092 [==============================] - 2s 1ms/step - loss: 0.0076 - mse: 0.0076 - val_loss: 0.0077 - val_mse: 0.0077\n",
      "Epoch 94/100\n",
      "1092/1092 [==============================] - 2s 2ms/step - loss: 0.0076 - mse: 0.0076 - val_loss: 0.0078 - val_mse: 0.0078\n",
      "Epoch 95/100\n",
      "1092/1092 [==============================] - 2s 1ms/step - loss: 0.0076 - mse: 0.0076 - val_loss: 0.0081 - val_mse: 0.0081\n",
      "Epoch 96/100\n",
      "1092/1092 [==============================] - 2s 1ms/step - loss: 0.0076 - mse: 0.0076 - val_loss: 0.0079 - val_mse: 0.0079\n",
      "Epoch 97/100\n",
      "1092/1092 [==============================] - 1s 1ms/step - loss: 0.0076 - mse: 0.0076 - val_loss: 0.0079 - val_mse: 0.0079\n",
      "Epoch 98/100\n",
      "1092/1092 [==============================] - 1s 1ms/step - loss: 0.0076 - mse: 0.0076 - val_loss: 0.0078 - val_mse: 0.0078\n",
      "Epoch 99/100\n",
      "1092/1092 [==============================] - 1s 1ms/step - loss: 0.0076 - mse: 0.0076 - val_loss: 0.0078 - val_mse: 0.0078\n",
      "Epoch 100/100\n",
      "1092/1092 [==============================] - 2s 1ms/step - loss: 0.0076 - mse: 0.0076 - val_loss: 0.0080 - val_mse: 0.0080\n"
     ]
    }
   ],
   "source": [
    "# Criamos uma instância do modelo de rede neural\n",
    "model = Sequential()\n",
    "model.add(InputLayer(input_shape=(X.shape[1],)))\n",
    "model.add(Dense(50, activation='relu'))\n",
    "model.add(Dense(50, activation='relu'))\n",
    "model.add(Dense(50, activation='relu'))\n",
    "model.add(Dense(1, activation='linear'))\n",
    "\n",
    "# compila o modelo\n",
    "model.compile(loss='mean_squared_error', optimizer='adam', metrics=['mse'])\n",
    "\n",
    "# treina o modelo\n",
    "history = model.fit(X_train, y_train, epochs=100, verbose = 1, validation_split = 0.3)"
   ]
  },
  {
   "attachments": {},
   "cell_type": "markdown",
   "metadata": {},
   "source": [
    "# 4 - A) Exiba o erro médio quadrático (MSE)\n",
    "\n",
    "Para isto, faça uma previsão nos dados de X_test com o modelo treinado."
   ]
  },
  {
   "cell_type": "code",
   "execution_count": 28,
   "metadata": {},
   "outputs": [
    {
     "name": "stdout",
     "output_type": "stream",
     "text": [
      "4/4 [==============================] - 0s 2ms/step\n",
      "Mean squared error Regressão Linear:  4403403.3969882\n"
     ]
    }
   ],
   "source": [
    "predict = model.predict(X_test)\n",
    "\n",
    "# Desnormaliza o y_test na variável y_desnormalizado\n",
    "y_test_desnormalizado = scaler_target.inverse_transform(y_test)\n",
    "\n",
    "# Desnormaliza o predict na variável predict_desnormalizado\n",
    "predict_desnormalizado = scaler_target.inverse_transform(predict)\n",
    "\n",
    "# Calcula o mse com a biblioteca do sklearn\n",
    "mse = mean_squared_error(y_test_desnormalizado, predict_desnormalizado)\n",
    "print(\"Mean squared error Regressão Linear: \", mse)"
   ]
  },
  {
   "attachments": {},
   "cell_type": "markdown",
   "metadata": {},
   "source": [
    "# 4 - B) Exiba um gráfico com os valores reais e preditos pelo modelo"
   ]
  },
  {
   "cell_type": "code",
   "execution_count": 29,
   "metadata": {},
   "outputs": [
    {
     "data": {
      "image/png": "[encoded data removed]",
      "text/plain": [
       "<Figure size 640x480 with 1 Axes>"
      ]
     },
     "metadata": {},
     "output_type": "display_data"
    }
   ],
   "source": [
    "import matplotlib.pyplot as plt\n",
    "\n",
    "grafico_x = [x for x in range(1,len(y_test_desnormalizado)+1)]\n",
    "\n",
    "plt.plot(grafico_x, y_test_desnormalizado, label='Real')\n",
    "plt.plot(grafico_x, predict_desnormalizado, label='Predito')\n",
    "\n",
    "plt.title('Comparando valores reais e preditos de teste')\n",
    "plt.legend()\n",
    "\n",
    "plt.ylabel('Valor')\n",
    "\n",
    "plt.show()"
   ]
  },
  {
   "attachments": {},
   "cell_type": "markdown",
   "metadata": {},
   "source": [
    "# 5 - Faça um gráfico com o loss de treinamento e validação"
   ]
  },
  {
   "cell_type": "code",
   "execution_count": 30,
   "metadata": {},
   "outputs": [
    {
     "data": {
      "image/png": "[encoded data removed]",
      "text/plain": [
       "<Figure size 640x480 with 1 Axes>"
      ]
     },
     "metadata": {},
     "output_type": "display_data"
    }
   ],
   "source": [
    "loss_history = history.history['loss']\n",
    "val_loss_history = history.history['val_loss'] \n",
    "\n",
    "# Definimos os valores do eixo x (as épocas)\n",
    "x = [y+1 for y in range(0,len(loss_history))]\n",
    "\n",
    "plt.plot(x, loss_history, label = \"Loss\")\n",
    "plt.plot(x, val_loss_history, label = \"Validation Loss\")\n",
    "plt.legend()\n",
    "plt.show()"
   ]
  },
  {
   "attachments": {},
   "cell_type": "markdown",
   "metadata": {},
   "source": [
    "# 6 - Faça a leitura da base de dados notebooks_nulo.csv, trate os dados (valores nulos, textuais, normalização, transformar os valores de y em categoricos....) e separe em X e y de treinamento e teste com 20% para teste\n",
    "\n",
    "A base de dados notebooks_nulo.csv é semelhante à base de dados notebooks.csv, mas não possui a coluna valor e possui alguns valores nulos.\n",
    "\n",
    "Para separar os dados em X e y, considere a coluna segmento para ser o alvo (valor de y)"
   ]
  },
  {
   "cell_type": "code",
   "execution_count": 31,
   "metadata": {},
   "outputs": [],
   "source": [
    "import pandas as pd\n",
    "df = pd.read_csv('notebooks_nulos.csv')"
   ]
  },
  {
   "cell_type": "code",
   "execution_count": 32,
   "metadata": {},
   "outputs": [
    {
     "data": {
      "text/plain": [
       "marca                 0.700\n",
       "ano                   9.506\n",
       "qtd_nucleos           0.000\n",
       "qtd_threads           0.000\n",
       "ram                   0.000\n",
       "gpu_dedicada          0.000\n",
       "ram_gpu               0.000\n",
       "entradas_usb          0.000\n",
       "duracao_bateria       6.798\n",
       "resolucao_tela        0.000\n",
       "tipo_tela             0.000\n",
       "tela_touch           55.096\n",
       "armazenamento_hdd     0.000\n",
       "armazenamento_ssd     0.000\n",
       "segmento              0.000\n",
       "dtype: float64"
      ]
     },
     "execution_count": 32,
     "metadata": {},
     "output_type": "execute_result"
    }
   ],
   "source": [
    "df.isna().sum() * 100 / len(df)"
   ]
  },
  {
   "cell_type": "code",
   "execution_count": 33,
   "metadata": {},
   "outputs": [],
   "source": [
    "# Remove a coluna tela_touch que possui mais de 50% de valores núlos\n",
    "df.drop('tela_touch', axis = 1, inplace = True)"
   ]
  },
  {
   "cell_type": "code",
   "execution_count": 34,
   "metadata": {},
   "outputs": [],
   "source": [
    "# Remove as linhas com valores núlos na coluna marca (menos de 1% de valores núlos)\n",
    "df = df.loc[~df['marca'].isna()]"
   ]
  },
  {
   "cell_type": "code",
   "execution_count": 35,
   "metadata": {},
   "outputs": [
    {
     "data": {
      "text/plain": [
       "marca                0.000000\n",
       "ano                  9.474320\n",
       "qtd_nucleos          0.000000\n",
       "qtd_threads          0.000000\n",
       "ram                  0.000000\n",
       "gpu_dedicada         0.000000\n",
       "ram_gpu              0.000000\n",
       "entradas_usb         0.000000\n",
       "duracao_bateria      6.805639\n",
       "resolucao_tela       0.000000\n",
       "tipo_tela            0.000000\n",
       "armazenamento_hdd    0.000000\n",
       "armazenamento_ssd    0.000000\n",
       "segmento             0.000000\n",
       "dtype: float64"
      ]
     },
     "execution_count": 35,
     "metadata": {},
     "output_type": "execute_result"
    }
   ],
   "source": [
    "df.isna().sum() * 100 / len(df)"
   ]
  },
  {
   "cell_type": "code",
   "execution_count": 36,
   "metadata": {},
   "outputs": [],
   "source": [
    "# Cria um loop para percorrer as colunas\n",
    "for col in df.columns:\n",
    "    # Caso a coluna possua valores núlos, irá acrescentar a moda da coluna nos valores nulos\n",
    "    if df[col].isna().sum() > 0:\n",
    "        df.loc[df[col].isna(), col] = df[col].mode()[0]"
   ]
  },
  {
   "cell_type": "code",
   "execution_count": 37,
   "metadata": {},
   "outputs": [
    {
     "data": {
      "text/plain": [
       "marca                0\n",
       "ano                  0\n",
       "qtd_nucleos          0\n",
       "qtd_threads          0\n",
       "ram                  0\n",
       "gpu_dedicada         0\n",
       "ram_gpu              0\n",
       "entradas_usb         0\n",
       "duracao_bateria      0\n",
       "resolucao_tela       0\n",
       "tipo_tela            0\n",
       "armazenamento_hdd    0\n",
       "armazenamento_ssd    0\n",
       "segmento             0\n",
       "dtype: int64"
      ]
     },
     "execution_count": 37,
     "metadata": {},
     "output_type": "execute_result"
    }
   ],
   "source": [
    "df.isna().sum()"
   ]
  },
  {
   "cell_type": "code",
   "execution_count": 38,
   "metadata": {},
   "outputs": [
    {
     "data": {
      "text/plain": [
       "['marca', 'gpu_dedicada', 'resolucao_tela', 'tipo_tela', 'segmento']"
      ]
     },
     "execution_count": 38,
     "metadata": {},
     "output_type": "execute_result"
    }
   ],
   "source": [
    "# Lista com colunas do tipo object\n",
    "colunas_object  = df.select_dtypes(include='object').columns.tolist()\n",
    "colunas_object"
   ]
  },
  {
   "cell_type": "code",
   "execution_count": 39,
   "metadata": {},
   "outputs": [],
   "source": [
    "from sklearn.preprocessing import LabelEncoder\n",
    "# Converter valores textuais para numéricos\n",
    "for coluna in colunas_object:\n",
    "    le = LabelEncoder()\n",
    "    df[coluna] = le.fit_transform(df[coluna])"
   ]
  },
  {
   "cell_type": "code",
   "execution_count": 40,
   "metadata": {},
   "outputs": [
    {
     "name": "stdout",
     "output_type": "stream",
     "text": [
      "<class 'pandas.core.frame.DataFrame'>\n",
      "Int64Index: 49650 entries, 0 to 49999\n",
      "Data columns (total 14 columns):\n",
      " #   Column             Non-Null Count  Dtype  \n",
      "---  ------             --------------  -----  \n",
      " 0   marca              49650 non-null  int32  \n",
      " 1   ano                49650 non-null  float64\n",
      " 2   qtd_nucleos        49650 non-null  int64  \n",
      " 3   qtd_threads        49650 non-null  int64  \n",
      " 4   ram                49650 non-null  int64  \n",
      " 5   gpu_dedicada       49650 non-null  int32  \n",
      " 6   ram_gpu            49650 non-null  int64  \n",
      " 7   entradas_usb       49650 non-null  int64  \n",
      " 8   duracao_bateria    49650 non-null  float64\n",
      " 9   resolucao_tela     49650 non-null  int32  \n",
      " 10  tipo_tela          49650 non-null  int32  \n",
      " 11  armazenamento_hdd  49650 non-null  int64  \n",
      " 12  armazenamento_ssd  49650 non-null  int64  \n",
      " 13  segmento           49650 non-null  int32  \n",
      "dtypes: float64(2), int32(5), int64(7)\n",
      "memory usage: 4.7 MB\n"
     ]
    }
   ],
   "source": [
    "df.info()"
   ]
  },
  {
   "cell_type": "code",
   "execution_count": 41,
   "metadata": {},
   "outputs": [],
   "source": [
    "from sklearn.model_selection import train_test_split\n",
    "from sklearn.preprocessing import MinMaxScaler\n",
    "from keras.utils import to_categorical\n",
    "\n",
    "# Define valores de X\n",
    "X = df.drop('segmento', axis = 1)\n",
    "\n",
    "# Normaliza os valores de X\n",
    "scaler_features = MinMaxScaler()\n",
    "scaler_features.fit(X)\n",
    "X = scaler_features.transform(X)\n",
    "\n",
    "# Define os valores de y\n",
    "y = df.segmento.values\n",
    "# converte y para one-hot-encoded\n",
    "y = to_categorical(y)\n",
    "\n",
    "# Separa X e y em treinamnto e teste com 20% para teste\n",
    "X_train, X_test, y_train, y_test = train_test_split(X, y, test_size=0.2, random_state=19)"
   ]
  },
  {
   "attachments": {},
   "cell_type": "markdown",
   "metadata": {},
   "source": [
    "# 7 - Treinamento de uma rede neural para classificação\n",
    "\n",
    "- Defina uma rede neural para realizar a classificação e prever qual o segmento do notebook. A estrutura da rede neural fica a critério de cada um para definir quantas camadas ocultas e quantos neurônios nas camadas ocultas;\n",
    "\n",
    "- Defina 15% dos dados para validação (no treinamento, validation_split = 0.15)\n",
    "\n",
    "- Salve o histórico do treinamento em uma variável chamada history;\n",
    "\n",
    "- Para não demorar, não treine a rede por mais de 100 épocas."
   ]
  },
  {
   "cell_type": "code",
   "execution_count": 42,
   "metadata": {},
   "outputs": [],
   "source": [
    "from keras.models import Sequential\n",
    "from keras.layers import Dense, InputLayer"
   ]
  },
  {
   "cell_type": "code",
   "execution_count": 43,
   "metadata": {},
   "outputs": [
    {
     "data": {
      "text/plain": [
       "8"
      ]
     },
     "execution_count": 43,
     "metadata": {},
     "output_type": "execute_result"
    }
   ],
   "source": [
    "# Quantidade de classes que queremos prever\n",
    "y.shape[1]"
   ]
  },
  {
   "cell_type": "code",
   "execution_count": 44,
   "metadata": {},
   "outputs": [
    {
     "name": "stdout",
     "output_type": "stream",
     "text": [
      "Epoch 1/100\n",
      "1056/1056 [==============================] - 3s 2ms/step - loss: 0.5826 - accuracy: 0.7529 - val_loss: 0.3346 - val_accuracy: 0.8453\n",
      "Epoch 2/100\n",
      "1056/1056 [==============================] - 2s 2ms/step - loss: 0.3092 - accuracy: 0.8604 - val_loss: 0.2715 - val_accuracy: 0.8839\n",
      "Epoch 3/100\n",
      "1056/1056 [==============================] - 2s 2ms/step - loss: 0.2537 - accuracy: 0.8914 - val_loss: 0.2541 - val_accuracy: 0.8922\n",
      "Epoch 4/100\n",
      "1056/1056 [==============================] - 2s 2ms/step - loss: 0.2324 - accuracy: 0.8998 - val_loss: 0.2702 - val_accuracy: 0.8778\n",
      "Epoch 5/100\n",
      "1056/1056 [==============================] - 2s 2ms/step - loss: 0.2155 - accuracy: 0.9107 - val_loss: 0.2171 - val_accuracy: 0.9074\n",
      "Epoch 6/100\n",
      "1056/1056 [==============================] - 2s 2ms/step - loss: 0.2081 - accuracy: 0.9125 - val_loss: 0.2212 - val_accuracy: 0.8991\n",
      "Epoch 7/100\n",
      "1056/1056 [==============================] - 2s 2ms/step - loss: 0.1992 - accuracy: 0.9180 - val_loss: 0.2086 - val_accuracy: 0.9067\n",
      "Epoch 8/100\n",
      "1056/1056 [==============================] - 2s 2ms/step - loss: 0.1865 - accuracy: 0.9224 - val_loss: 0.1861 - val_accuracy: 0.9218\n",
      "Epoch 9/100\n",
      "1056/1056 [==============================] - 2s 2ms/step - loss: 0.1837 - accuracy: 0.9246 - val_loss: 0.1865 - val_accuracy: 0.9201\n",
      "Epoch 10/100\n",
      "1056/1056 [==============================] - 2s 2ms/step - loss: 0.1807 - accuracy: 0.9253 - val_loss: 0.1776 - val_accuracy: 0.9199\n",
      "Epoch 11/100\n",
      "1056/1056 [==============================] - 2s 2ms/step - loss: 0.1779 - accuracy: 0.9269 - val_loss: 0.1780 - val_accuracy: 0.9241\n",
      "Epoch 12/100\n",
      "1056/1056 [==============================] - 2s 2ms/step - loss: 0.1721 - accuracy: 0.9292 - val_loss: 0.1750 - val_accuracy: 0.9275\n",
      "Epoch 13/100\n",
      "1056/1056 [==============================] - 2s 2ms/step - loss: 0.1735 - accuracy: 0.9283 - val_loss: 0.1706 - val_accuracy: 0.9258\n",
      "Epoch 14/100\n",
      "1056/1056 [==============================] - 2s 2ms/step - loss: 0.1684 - accuracy: 0.9290 - val_loss: 0.1740 - val_accuracy: 0.9243\n",
      "Epoch 15/100\n",
      "1056/1056 [==============================] - 2s 2ms/step - loss: 0.1654 - accuracy: 0.9305 - val_loss: 0.1629 - val_accuracy: 0.9288\n",
      "Epoch 16/100\n",
      "1056/1056 [==============================] - 2s 2ms/step - loss: 0.1625 - accuracy: 0.9312 - val_loss: 0.1665 - val_accuracy: 0.9246\n",
      "Epoch 17/100\n",
      "1056/1056 [==============================] - 2s 2ms/step - loss: 0.1594 - accuracy: 0.9314 - val_loss: 0.1698 - val_accuracy: 0.9256\n",
      "Epoch 18/100\n",
      "1056/1056 [==============================] - 2s 2ms/step - loss: 0.1601 - accuracy: 0.9317 - val_loss: 0.1644 - val_accuracy: 0.9300\n",
      "Epoch 19/100\n",
      "1056/1056 [==============================] - 2s 2ms/step - loss: 0.1565 - accuracy: 0.9332 - val_loss: 0.1612 - val_accuracy: 0.9300\n",
      "Epoch 20/100\n",
      "1056/1056 [==============================] - 3s 3ms/step - loss: 0.1548 - accuracy: 0.9326 - val_loss: 0.1622 - val_accuracy: 0.9292\n",
      "Epoch 21/100\n",
      "1056/1056 [==============================] - 2s 2ms/step - loss: 0.1508 - accuracy: 0.9334 - val_loss: 0.1713 - val_accuracy: 0.9272\n",
      "Epoch 22/100\n",
      "1056/1056 [==============================] - 2s 2ms/step - loss: 0.1469 - accuracy: 0.9358 - val_loss: 0.1637 - val_accuracy: 0.9268\n",
      "Epoch 23/100\n",
      "1056/1056 [==============================] - 2s 2ms/step - loss: 0.1471 - accuracy: 0.9349 - val_loss: 0.1844 - val_accuracy: 0.9267\n",
      "Epoch 24/100\n",
      "1056/1056 [==============================] - 2s 2ms/step - loss: 0.1485 - accuracy: 0.9348 - val_loss: 0.2734 - val_accuracy: 0.9082\n",
      "Epoch 25/100\n",
      "1056/1056 [==============================] - 2s 2ms/step - loss: 0.1423 - accuracy: 0.9375 - val_loss: 0.1595 - val_accuracy: 0.9287\n",
      "Epoch 26/100\n",
      "1056/1056 [==============================] - 2s 2ms/step - loss: 0.1460 - accuracy: 0.9358 - val_loss: 0.1562 - val_accuracy: 0.9325\n",
      "Epoch 27/100\n",
      "1056/1056 [==============================] - 2s 2ms/step - loss: 0.1409 - accuracy: 0.9381 - val_loss: 0.1560 - val_accuracy: 0.9312\n",
      "Epoch 28/100\n",
      "1056/1056 [==============================] - 3s 2ms/step - loss: 0.1383 - accuracy: 0.9394 - val_loss: 0.1719 - val_accuracy: 0.9193\n",
      "Epoch 29/100\n",
      "1056/1056 [==============================] - 2s 2ms/step - loss: 0.1388 - accuracy: 0.9382 - val_loss: 0.1434 - val_accuracy: 0.9355\n",
      "Epoch 30/100\n",
      "1056/1056 [==============================] - 3s 2ms/step - loss: 0.1397 - accuracy: 0.9388 - val_loss: 0.1542 - val_accuracy: 0.9303\n",
      "Epoch 31/100\n",
      "1056/1056 [==============================] - 2s 2ms/step - loss: 0.1345 - accuracy: 0.9388 - val_loss: 0.1449 - val_accuracy: 0.9332\n",
      "Epoch 32/100\n",
      "1056/1056 [==============================] - 2s 2ms/step - loss: 0.1329 - accuracy: 0.9404 - val_loss: 0.1469 - val_accuracy: 0.9303\n",
      "Epoch 33/100\n",
      "1056/1056 [==============================] - 2s 2ms/step - loss: 0.1349 - accuracy: 0.9397 - val_loss: 0.1432 - val_accuracy: 0.9361\n",
      "Epoch 34/100\n",
      "1056/1056 [==============================] - 2s 2ms/step - loss: 0.1322 - accuracy: 0.9399 - val_loss: 0.1482 - val_accuracy: 0.9330\n",
      "Epoch 35/100\n",
      "1056/1056 [==============================] - 2s 2ms/step - loss: 0.1313 - accuracy: 0.9416 - val_loss: 0.1466 - val_accuracy: 0.9344\n",
      "Epoch 36/100\n",
      "1056/1056 [==============================] - 2s 2ms/step - loss: 0.1321 - accuracy: 0.9403 - val_loss: 0.1428 - val_accuracy: 0.9339\n",
      "Epoch 37/100\n",
      "1056/1056 [==============================] - 2s 2ms/step - loss: 0.1326 - accuracy: 0.9404 - val_loss: 0.1525 - val_accuracy: 0.9300\n",
      "Epoch 38/100\n",
      "1056/1056 [==============================] - 2s 2ms/step - loss: 0.1286 - accuracy: 0.9418 - val_loss: 0.1395 - val_accuracy: 0.9367\n",
      "Epoch 39/100\n",
      "1056/1056 [==============================] - 2s 2ms/step - loss: 0.1280 - accuracy: 0.9412 - val_loss: 0.1488 - val_accuracy: 0.9369\n",
      "Epoch 40/100\n",
      "1056/1056 [==============================] - 2s 2ms/step - loss: 0.1311 - accuracy: 0.9409 - val_loss: 0.1336 - val_accuracy: 0.9372\n",
      "Epoch 41/100\n",
      "1056/1056 [==============================] - 2s 2ms/step - loss: 0.1309 - accuracy: 0.9405 - val_loss: 0.1340 - val_accuracy: 0.9381\n",
      "Epoch 42/100\n",
      "1056/1056 [==============================] - 2s 2ms/step - loss: 0.1216 - accuracy: 0.9436 - val_loss: 0.1435 - val_accuracy: 0.9371\n",
      "Epoch 43/100\n",
      "1056/1056 [==============================] - 2s 2ms/step - loss: 0.1257 - accuracy: 0.9426 - val_loss: 0.1526 - val_accuracy: 0.9320\n",
      "Epoch 44/100\n",
      "1056/1056 [==============================] - 2s 2ms/step - loss: 0.1261 - accuracy: 0.9422 - val_loss: 0.1353 - val_accuracy: 0.9357\n",
      "Epoch 45/100\n",
      "1056/1056 [==============================] - 2s 2ms/step - loss: 0.1221 - accuracy: 0.9436 - val_loss: 0.1383 - val_accuracy: 0.9366\n",
      "Epoch 46/100\n",
      "1056/1056 [==============================] - 2s 2ms/step - loss: 0.1318 - accuracy: 0.9410 - val_loss: 0.1378 - val_accuracy: 0.9349\n",
      "Epoch 47/100\n",
      "1056/1056 [==============================] - 3s 3ms/step - loss: 0.1214 - accuracy: 0.9441 - val_loss: 0.1379 - val_accuracy: 0.9374\n",
      "Epoch 48/100\n",
      "1056/1056 [==============================] - 3s 3ms/step - loss: 0.1215 - accuracy: 0.9432 - val_loss: 0.1369 - val_accuracy: 0.9339\n",
      "Epoch 49/100\n",
      "1056/1056 [==============================] - 2s 2ms/step - loss: 0.1220 - accuracy: 0.9438 - val_loss: 0.1434 - val_accuracy: 0.9320\n",
      "Epoch 50/100\n",
      "1056/1056 [==============================] - 2s 2ms/step - loss: 0.1259 - accuracy: 0.9421 - val_loss: 0.1454 - val_accuracy: 0.9307\n",
      "Epoch 51/100\n",
      "1056/1056 [==============================] - 2s 2ms/step - loss: 0.1178 - accuracy: 0.9446 - val_loss: 0.1432 - val_accuracy: 0.9335\n",
      "Epoch 52/100\n",
      "1056/1056 [==============================] - 2s 2ms/step - loss: 0.1201 - accuracy: 0.9438 - val_loss: 0.1317 - val_accuracy: 0.9342\n",
      "Epoch 53/100\n",
      "1056/1056 [==============================] - 2s 2ms/step - loss: 0.1165 - accuracy: 0.9444 - val_loss: 0.1410 - val_accuracy: 0.9307\n",
      "Epoch 54/100\n",
      "1056/1056 [==============================] - 2s 2ms/step - loss: 0.1202 - accuracy: 0.9440 - val_loss: 0.1354 - val_accuracy: 0.9362\n",
      "Epoch 55/100\n",
      "1056/1056 [==============================] - 2s 2ms/step - loss: 0.1208 - accuracy: 0.9451 - val_loss: 0.1904 - val_accuracy: 0.9169\n",
      "Epoch 56/100\n",
      "1056/1056 [==============================] - 3s 3ms/step - loss: 0.1178 - accuracy: 0.9440 - val_loss: 0.1355 - val_accuracy: 0.9376\n",
      "Epoch 57/100\n",
      "1056/1056 [==============================] - 2s 2ms/step - loss: 0.1191 - accuracy: 0.9450 - val_loss: 0.1305 - val_accuracy: 0.9377\n",
      "Epoch 58/100\n",
      "1056/1056 [==============================] - 2s 2ms/step - loss: 0.1144 - accuracy: 0.9452 - val_loss: 0.1384 - val_accuracy: 0.9345\n",
      "Epoch 59/100\n",
      "1056/1056 [==============================] - 2s 2ms/step - loss: 0.1140 - accuracy: 0.9466 - val_loss: 0.1352 - val_accuracy: 0.9387\n",
      "Epoch 60/100\n",
      "1056/1056 [==============================] - 2s 2ms/step - loss: 0.1230 - accuracy: 0.9444 - val_loss: 0.1300 - val_accuracy: 0.9391\n",
      "Epoch 61/100\n",
      "1056/1056 [==============================] - 2s 2ms/step - loss: 0.1140 - accuracy: 0.9459 - val_loss: 0.1307 - val_accuracy: 0.9371\n",
      "Epoch 62/100\n",
      "1056/1056 [==============================] - 2s 2ms/step - loss: 0.1148 - accuracy: 0.9461 - val_loss: 0.1300 - val_accuracy: 0.9386\n",
      "Epoch 63/100\n",
      "1056/1056 [==============================] - 2s 2ms/step - loss: 0.1146 - accuracy: 0.9463 - val_loss: 0.1291 - val_accuracy: 0.9404\n",
      "Epoch 64/100\n",
      "1056/1056 [==============================] - 2s 2ms/step - loss: 0.1173 - accuracy: 0.9450 - val_loss: 0.1407 - val_accuracy: 0.9342\n",
      "Epoch 65/100\n",
      "1056/1056 [==============================] - 2s 2ms/step - loss: 0.1109 - accuracy: 0.9471 - val_loss: 0.1415 - val_accuracy: 0.9372\n",
      "Epoch 66/100\n",
      "1056/1056 [==============================] - 2s 2ms/step - loss: 0.1141 - accuracy: 0.9462 - val_loss: 0.1509 - val_accuracy: 0.9342\n",
      "Epoch 67/100\n",
      "1056/1056 [==============================] - 2s 2ms/step - loss: 0.1138 - accuracy: 0.9469 - val_loss: 0.1474 - val_accuracy: 0.9361\n",
      "Epoch 68/100\n",
      "1056/1056 [==============================] - 2s 2ms/step - loss: 0.1160 - accuracy: 0.9454 - val_loss: 0.1339 - val_accuracy: 0.9330\n",
      "Epoch 69/100\n",
      "1056/1056 [==============================] - 2s 2ms/step - loss: 0.1099 - accuracy: 0.9466 - val_loss: 0.1336 - val_accuracy: 0.9367\n",
      "Epoch 70/100\n",
      "1056/1056 [==============================] - 2s 2ms/step - loss: 0.1138 - accuracy: 0.9465 - val_loss: 0.1349 - val_accuracy: 0.9391\n",
      "Epoch 71/100\n",
      "1056/1056 [==============================] - 2s 2ms/step - loss: 0.1079 - accuracy: 0.9479 - val_loss: 0.1312 - val_accuracy: 0.9367\n",
      "Epoch 72/100\n",
      "1056/1056 [==============================] - 2s 2ms/step - loss: 0.1166 - accuracy: 0.9463 - val_loss: 0.1337 - val_accuracy: 0.9357\n",
      "Epoch 73/100\n",
      "1056/1056 [==============================] - 2s 2ms/step - loss: 0.1194 - accuracy: 0.9460 - val_loss: 0.1313 - val_accuracy: 0.9381\n",
      "Epoch 74/100\n",
      "1056/1056 [==============================] - 2s 2ms/step - loss: 0.1083 - accuracy: 0.9485 - val_loss: 0.1379 - val_accuracy: 0.9344\n",
      "Epoch 75/100\n",
      "1056/1056 [==============================] - 2s 2ms/step - loss: 0.1084 - accuracy: 0.9485 - val_loss: 0.1308 - val_accuracy: 0.9416\n",
      "Epoch 76/100\n",
      "1056/1056 [==============================] - 2s 2ms/step - loss: 0.1133 - accuracy: 0.9472 - val_loss: 0.1400 - val_accuracy: 0.9364\n",
      "Epoch 77/100\n",
      "1056/1056 [==============================] - 2s 2ms/step - loss: 0.1103 - accuracy: 0.9479 - val_loss: 0.1283 - val_accuracy: 0.9344\n",
      "Epoch 78/100\n",
      "1056/1056 [==============================] - 2s 2ms/step - loss: 0.1084 - accuracy: 0.9486 - val_loss: 0.1345 - val_accuracy: 0.9379\n",
      "Epoch 79/100\n",
      "1056/1056 [==============================] - 2s 2ms/step - loss: 0.1129 - accuracy: 0.9473 - val_loss: 0.1487 - val_accuracy: 0.9315\n",
      "Epoch 80/100\n",
      "1056/1056 [==============================] - 2s 2ms/step - loss: 0.1122 - accuracy: 0.9478 - val_loss: 0.1257 - val_accuracy: 0.9402\n",
      "Epoch 81/100\n",
      "1056/1056 [==============================] - 2s 2ms/step - loss: 0.1148 - accuracy: 0.9473 - val_loss: 0.1338 - val_accuracy: 0.9396\n",
      "Epoch 82/100\n",
      "1056/1056 [==============================] - 2s 2ms/step - loss: 0.1124 - accuracy: 0.9478 - val_loss: 0.1285 - val_accuracy: 0.9362\n",
      "Epoch 83/100\n",
      "1056/1056 [==============================] - 2s 2ms/step - loss: 0.1053 - accuracy: 0.9493 - val_loss: 0.1364 - val_accuracy: 0.9364\n",
      "Epoch 84/100\n",
      "1056/1056 [==============================] - 2s 2ms/step - loss: 0.1071 - accuracy: 0.9498 - val_loss: 0.1364 - val_accuracy: 0.9325\n",
      "Epoch 85/100\n",
      "1056/1056 [==============================] - 2s 2ms/step - loss: 0.1102 - accuracy: 0.9475 - val_loss: 0.1300 - val_accuracy: 0.9416\n",
      "Epoch 86/100\n",
      "1056/1056 [==============================] - 2s 2ms/step - loss: 0.1080 - accuracy: 0.9485 - val_loss: 0.1304 - val_accuracy: 0.9384\n",
      "Epoch 87/100\n",
      "1056/1056 [==============================] - 2s 2ms/step - loss: 0.1094 - accuracy: 0.9482 - val_loss: 0.1337 - val_accuracy: 0.9394\n",
      "Epoch 88/100\n",
      "1056/1056 [==============================] - 2s 2ms/step - loss: 0.1229 - accuracy: 0.9454 - val_loss: 0.1435 - val_accuracy: 0.9310\n",
      "Epoch 89/100\n",
      "1056/1056 [==============================] - 2s 2ms/step - loss: 0.1079 - accuracy: 0.9494 - val_loss: 0.1254 - val_accuracy: 0.9408\n",
      "Epoch 90/100\n",
      "1056/1056 [==============================] - 3s 2ms/step - loss: 0.1065 - accuracy: 0.9494 - val_loss: 0.1332 - val_accuracy: 0.9371\n",
      "Epoch 91/100\n",
      "1056/1056 [==============================] - 2s 2ms/step - loss: 0.1038 - accuracy: 0.9510 - val_loss: 0.1396 - val_accuracy: 0.9389\n",
      "Epoch 92/100\n",
      "1056/1056 [==============================] - 2s 2ms/step - loss: 0.1131 - accuracy: 0.9472 - val_loss: 0.1281 - val_accuracy: 0.9354\n",
      "Epoch 93/100\n",
      "1056/1056 [==============================] - 2s 2ms/step - loss: 0.1215 - accuracy: 0.9449 - val_loss: 0.1304 - val_accuracy: 0.9404\n",
      "Epoch 94/100\n",
      "1056/1056 [==============================] - 2s 2ms/step - loss: 0.1021 - accuracy: 0.9516 - val_loss: 0.1447 - val_accuracy: 0.9329\n",
      "Epoch 95/100\n",
      "1056/1056 [==============================] - 2s 2ms/step - loss: 0.1011 - accuracy: 0.9506 - val_loss: 0.1385 - val_accuracy: 0.9374\n",
      "Epoch 96/100\n",
      "1056/1056 [==============================] - 2s 2ms/step - loss: 0.1093 - accuracy: 0.9494 - val_loss: 0.1278 - val_accuracy: 0.9401\n",
      "Epoch 97/100\n",
      "1056/1056 [==============================] - 2s 2ms/step - loss: 0.1064 - accuracy: 0.9496 - val_loss: 0.1346 - val_accuracy: 0.9402\n",
      "Epoch 98/100\n",
      "1056/1056 [==============================] - 2s 2ms/step - loss: 0.1084 - accuracy: 0.9496 - val_loss: 0.1439 - val_accuracy: 0.9334\n",
      "Epoch 99/100\n",
      "1056/1056 [==============================] - 2s 2ms/step - loss: 0.1239 - accuracy: 0.9458 - val_loss: 0.1353 - val_accuracy: 0.9359\n",
      "Epoch 100/100\n",
      "1056/1056 [==============================] - 2s 2ms/step - loss: 0.1035 - accuracy: 0.9508 - val_loss: 0.1342 - val_accuracy: 0.9377\n"
     ]
    }
   ],
   "source": [
    "model = Sequential()\n",
    "# No input_shape, a quantidade de atributos que possuimos\n",
    "model.add(Dense(32, activation='relu', input_shape=(X.shape[1],)))\n",
    "model.add(Dense(64, activation='relu'))\n",
    "model.add(Dense(128, activation='relu'))\n",
    "model.add(Dense(128, activation='relu'))\n",
    "model.add(Dense(128, activation='relu'))\n",
    "model.add(Dense(128, activation='relu'))\n",
    "model.add(Dense(16, activation='relu'))\n",
    "# Na camada de saida de uma classificação, usamos 1 neurônio para cada classe possível e softmax\n",
    "model.add(Dense(y.shape[1], activation='softmax'))\n",
    "# Compilação do modelo\n",
    "model.compile(loss='categorical_crossentropy', optimizer='adam', metrics=['accuracy'])\n",
    "# Treinamento do modelo\n",
    "history = model.fit(X_train, y_train, epochs=100, validation_split=0.15)"
   ]
  },
  {
   "attachments": {},
   "cell_type": "markdown",
   "metadata": {},
   "source": [
    "# 8 - Exiba a acurácia do modelo."
   ]
  },
  {
   "cell_type": "code",
   "execution_count": 45,
   "metadata": {},
   "outputs": [
    {
     "name": "stdout",
     "output_type": "stream",
     "text": [
      "311/311 [==============================] - 0s 925us/step - loss: 0.1250 - accuracy: 0.9427\n",
      "Acurácia: 0.9426988959312439\n"
     ]
    }
   ],
   "source": [
    "# calcular a acurácia\n",
    "loss, accuracy = model.evaluate(X_test, y_test)\n",
    "print(f\"Acurácia: {accuracy}\")"
   ]
  },
  {
   "attachments": {},
   "cell_type": "markdown",
   "metadata": {},
   "source": [
    "# 9 - Exiba a matriz de confusão."
   ]
  },
  {
   "cell_type": "code",
   "execution_count": 46,
   "metadata": {},
   "outputs": [
    {
     "name": "stdout",
     "output_type": "stream",
     "text": [
      "311/311 [==============================] - 0s 1ms/step\n"
     ]
    }
   ],
   "source": [
    "from sklearn.metrics import confusion_matrix\n",
    "import seaborn as sns\n",
    "import numpy as np\n",
    "\n",
    "# fazer previsões com o modelo\n",
    "y_pred = model.predict(X_test)\n",
    "y_pred = np.argmax(y_pred, axis=1)\n",
    "y_test = np.argmax(y_test, axis=1)"
   ]
  },
  {
   "attachments": {},
   "cell_type": "markdown",
   "metadata": {},
   "source": [
    "Esta parte não é obrigatória, mas inverte os valores numéricos das classes para os valores textuais. (iremos ver isto nas próximas aulas)\n",
    "\n",
    "Como a última coluna a possuir os valores textuais foi a nossa classe alvo, as categorias ficaram salvas na variável le, que é a instância do Label Encoder\n"
   ]
  },
  {
   "cell_type": "code",
   "execution_count": 47,
   "metadata": {},
   "outputs": [],
   "source": [
    "y_pred = le.inverse_transform(y_pred)\n",
    "y_test = le.inverse_transform(y_test)"
   ]
  },
  {
   "cell_type": "code",
   "execution_count": 48,
   "metadata": {},
   "outputs": [
    {
     "data": {
      "text/plain": [
       "array(['2em1', 'entrada', 'intermediario', 'jogos_entrada',\n",
       "       'jogos_intermediarios', 'jogos_premium', 'premium',\n",
       "       'ultraportatil'], dtype=object)"
      ]
     },
     "execution_count": 48,
     "metadata": {},
     "output_type": "execute_result"
    }
   ],
   "source": [
    "# Lista das possíveis classes\n",
    "le.classes_"
   ]
  },
  {
   "cell_type": "code",
   "execution_count": 49,
   "metadata": {},
   "outputs": [
    {
     "data": {
      "image/png": "[encoded data removed]",
      "text/plain": [
       "<Figure size 640x480 with 2 Axes>"
      ]
     },
     "metadata": {},
     "output_type": "display_data"
    }
   ],
   "source": [
    "# Definir nomes de classe\n",
    "class_names = le.classes_\n",
    "\n",
    "# Mapear classes reais e previstas para os nomes de classe\n",
    "cm = confusion_matrix(y_test, y_pred, labels=class_names)\n",
    "\n",
    "# Plotar o heatmap com os nomes das classes\n",
    "sns.heatmap(cm, annot=True, cmap=\"Blues\", fmt=\"d\", xticklabels=class_names, yticklabels=class_names)\n",
    "plt.title('Matriz de Confusão')\n",
    "plt.xlabel('Previsões')\n",
    "plt.ylabel('Real')\n",
    "plt.show()\n"
   ]
  },
  {
   "attachments": {},
   "cell_type": "markdown",
   "metadata": {},
   "source": [
    "# 10 - Exiba um gráfico com os dados do treinamento.\n",
    "- loss;\n",
    "- val_loss;\n",
    "- accuracy;\n",
    "- val_accuracy;"
   ]
  },
  {
   "cell_type": "code",
   "execution_count": 50,
   "metadata": {},
   "outputs": [
    {
     "data": {
      "image/png": "[encoded data removed]",
      "text/plain": [
       "<Figure size 640x480 with 1 Axes>"
      ]
     },
     "metadata": {},
     "output_type": "display_data"
    }
   ],
   "source": [
    "import matplotlib.pyplot as plt\n",
    "\n",
    "loss = history.history['loss']\n",
    "val_loss = history.history['val_loss']  \n",
    "accuracy = history.history['accuracy']  \n",
    "val_accuracy = history.history['val_accuracy']  \n",
    "\n",
    "grafico_x = [x for x in range(1,len(val_accuracy)+1)]\n",
    "\n",
    "plt.plot(grafico_x, loss, label='loss')\n",
    "plt.plot(grafico_x, val_loss, label='val_loss')\n",
    "plt.plot(grafico_x, accuracy, label='accuracy')\n",
    "plt.plot(grafico_x, val_accuracy, label='val_accuracy')\n",
    "\n",
    "plt.title('Treinamento')\n",
    "plt.legend()\n",
    "\n",
    "plt.xlabel('Epoch')\n",
    "plt.ylabel('Loss')\n",
    "\n",
    "plt.show()"
   ]
  }
 ],
 "metadata": {
  "kernelspec": {
   "display_name": "base",
   "language": "python",
   "name": "python3"
  },
  "language_info": {
   "codemirror_mode": {
    "name": "ipython",
    "version": 3
   },
   "file_extension": ".py",
   "mimetype": "text/x-python",
   "name": "python",
   "nbconvert_exporter": "python",
   "pygments_lexer": "ipython3",
   "version": "3.9.16"
  },
  "orig_nbformat": 4
 },
 "nbformat": 4,
 "nbformat_minor": 2
}
