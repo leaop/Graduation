{
  "cells": [
    {
      "cell_type": "markdown",
      "metadata": {
        "id": "view-in-github",
        "colab_type": "text"
      },
      "source": [
        "<a href=\"https://colab.research.google.com/github/leaop/Graduation/blob/main/revisao_aula_7.ipynb\" target=\"_parent\"><img src=\"https://colab.research.google.com/assets/colab-badge.svg\" alt=\"Open In Colab\"/></a>"
      ]
    },
    {
      "cell_type": "markdown",
      "metadata": {
        "id": "C-dLds369xol"
      },
      "source": [
        "# `Dados vs Informação:`\n",
        "\n",
        "``Dados`` são fatos brutos e sem contexto, geralmente em formato numérico ou alfanumérico. Eles são a representação simbólica de algo que pode ser registrado, armazenado e processado por meio de tecnologias de informação. Os dados podem ser coletados a partir de diversas fontes, como sensores, sistemas de informação, formulários, pesquisas, entre outros. Um exemplo de dados são os números de vendas de uma loja ao longo de um mês.\n",
        "\n",
        "``Informações`` são dados que foram organizados, interpretados e transformados em algo significativo e útil. Ou seja, a informação é o resultado do processamento dos dados, que foram analisados e transformados em conhecimento. As informações têm significado e contexto, e podem ser utilizadas para a tomada de decisões. Continuando com o exemplo anterior, uma informação que poderia ser extraída dos dados de vendas é a conclusão de que o produto X é o mais vendido na loja.\n",
        "\n",
        "Portanto, podemos dizer que dados são os elementos mais básicos da informação, e que as informações são dados organizados e interpretados que possuem valor e significado para o usuário final. A mineração de dados é justamente o processo de transformar dados em informações úteis, aplicando técnicas de tratamento,análise e interpretação de dados.\n",
        "\n",
        "Para isto, existem algumas etapas a serem realizadas:\n",
        "- Análise dos dados;\n",
        "- Tratamento dos dados;\n",
        "- Aplicação em algum algoritmo de machine learning;\n",
        "- Interpretar os resultados."
      ]
    },
    {
      "cell_type": "markdown",
      "metadata": {
        "id": "2ji6hGAx9xot"
      },
      "source": [
        "# 1 - Análise dos dados"
      ]
    },
    {
      "cell_type": "markdown",
      "metadata": {
        "id": "or2eSKMW9xot"
      },
      "source": [
        "Esta parte é fundamental para entender o que os dados representam, o tipo dos dados, informações descritivas da base de dados, valores nulos... \n",
        "\n",
        "- 1 - Analisar as primeiras linhas da base de dados para entender quais as colunas e a forma dos valores;\n",
        "- 2 - Analisar o tipo de dados das colunas;\n",
        "- 3 - Analisar informações descritivas das colunas numéricas e textuais;\n",
        "- 4 - Analisar a quantidade/porcentagem de valores nulos em cada coluna;\n",
        "- 5 - Verificar informações a respeito de valores nulos das colunas com valores núlos ou textuais;"
      ]
    },
    {
      "cell_type": "code",
      "execution_count": null,
      "metadata": {
        "id": "G_ce-gbh9xou"
      },
      "outputs": [],
      "source": [
        "import pandas as pd\n",
        "from sklearn.preprocessing import LabelEncoder\n",
        "from sklearn.preprocessing import MinMaxScaler"
      ]
    },
    {
      "cell_type": "code",
      "execution_count": null,
      "metadata": {
        "id": "RHb42qBd9xou"
      },
      "outputs": [],
      "source": [
        "# Leitura da base de Dados\n",
        "df = pd.read_csv('olimpiadas_1972.csv')"
      ]
    },
    {
      "cell_type": "markdown",
      "metadata": {
        "id": "fr1Jf9v89xov"
      },
      "source": [
        "1"
      ]
    },
    {
      "cell_type": "code",
      "execution_count": null,
      "metadata": {
        "id": "PVaIthRg9xov"
      },
      "outputs": [],
      "source": [
        "df.head(3)"
      ]
    },
    {
      "cell_type": "markdown",
      "metadata": {
        "id": "GZ-PiE0c9xov"
      },
      "source": [
        "2"
      ]
    },
    {
      "cell_type": "code",
      "execution_count": null,
      "metadata": {
        "id": "s34ZO4VG9xov"
      },
      "outputs": [],
      "source": [
        "df.info()"
      ]
    },
    {
      "cell_type": "markdown",
      "metadata": {
        "id": "Ct-qU9Vp9xov"
      },
      "source": [
        "3"
      ]
    },
    {
      "cell_type": "code",
      "execution_count": null,
      "metadata": {
        "id": "X1ZBjBLE9xow"
      },
      "outputs": [],
      "source": [
        "# Informações descritivas das colunas numéricas\n",
        "df.describe()"
      ]
    },
    {
      "cell_type": "code",
      "execution_count": null,
      "metadata": {
        "id": "GQIpg83C9xow"
      },
      "outputs": [],
      "source": [
        "# Informações descritivas das colunas textuais\n",
        "df.describe(include = 'O')"
      ]
    },
    {
      "cell_type": "markdown",
      "metadata": {
        "id": "ndicl8519xow"
      },
      "source": [
        "4"
      ]
    },
    {
      "cell_type": "code",
      "execution_count": null,
      "metadata": {
        "id": "cBTmslUT9xow"
      },
      "outputs": [],
      "source": [
        "# Quantidade de valores nulos por coluna\n",
        "df.isna().sum()"
      ]
    },
    {
      "cell_type": "code",
      "execution_count": null,
      "metadata": {
        "id": "y3MvupGi9xow"
      },
      "outputs": [],
      "source": [
        "# Porcentagem de valores nulos por coluna\n",
        "df.isna().sum() * 100 / len(df)"
      ]
    },
    {
      "cell_type": "code",
      "execution_count": null,
      "metadata": {
        "id": "4cWdP3iq9xox"
      },
      "outputs": [],
      "source": [
        "# Porcentagem arredondada para 2 casas decimais de valores nulos por coluna\n",
        "round(df.isna().sum() * 100 / len(df), 2)"
      ]
    },
    {
      "cell_type": "markdown",
      "metadata": {
        "id": "mnDPemXi9xox"
      },
      "source": [
        "5"
      ]
    },
    {
      "cell_type": "code",
      "execution_count": null,
      "metadata": {
        "id": "a-L4JxNS9xox"
      },
      "outputs": [],
      "source": [
        "# Quantidade de valores únicos da coluna ano\n",
        "df.ano.nunique()"
      ]
    },
    {
      "cell_type": "code",
      "execution_count": null,
      "metadata": {
        "id": "SZ5p_Gw99xox"
      },
      "outputs": [],
      "source": [
        "# valores únicos da coluna ano\n",
        "df.ano.unique()"
      ]
    },
    {
      "cell_type": "code",
      "execution_count": null,
      "metadata": {
        "id": "b2IhSzMV9xox"
      },
      "outputs": [],
      "source": [
        "# quantidade de aparições dps valores únicos da coluna ano\n",
        "df.ano.value_counts()"
      ]
    },
    {
      "cell_type": "code",
      "execution_count": null,
      "metadata": {
        "id": "ugwWmBl79xox"
      },
      "outputs": [],
      "source": [
        "# Quantidade de valores únicos da coluna esporte\n",
        "df.esporte.nunique()"
      ]
    },
    {
      "cell_type": "code",
      "execution_count": null,
      "metadata": {
        "id": "v2-llrgz9xox"
      },
      "outputs": [],
      "source": [
        "# valores únicos da coluna esporte\n",
        "df.esporte.unique()"
      ]
    },
    {
      "cell_type": "code",
      "execution_count": null,
      "metadata": {
        "id": "XDBcOm3D9xoy"
      },
      "outputs": [],
      "source": [
        "# quantidade de aparições dps valores únicos da coluna esporte\n",
        "df.esporte.value_counts()"
      ]
    },
    {
      "cell_type": "markdown",
      "metadata": {
        "id": "QjFNWOFs9xoy"
      },
      "source": [
        "# 2 - Tratamento de Dados\n",
        "\n",
        "Nesta parte fazemos:\n",
        "* 1 - Tratamento de valores núlos:\n",
        "    - Nas colunas com tipo de dados numéricos, podemos utilizar 3 abordagens:\n",
        "        * 1 - Se forem poucos dados nulos, apagar os registros com estes dados;\n",
        "        * 2 - Se for uma quantidade considerável de dados podemos:\n",
        "            * 2.1 - Substituir os valores nulos pela média da coluna;\n",
        "            * 2.1 - Substituir os valores nulos pela mediana da coluna;\n",
        "            * 2.1 - Substituir os valores nulos pela moda da coluna.\n",
        "        * 3 - Se forem muitos dados nulos, apagar a coluna.\n",
        "\n",
        "    - Nas colunas com tipo de dados textual, podemos utilizar 3 abordagens:\n",
        "        * 1 - Se forem poucos dados nulos, apagar os registros com estes dados;\n",
        "        * 2 - Se for uma quantidade considerável de dados podemos substituir os valores nulos pela moda da coluna;\n",
        "        * 3 - Se forem muitos dados nulos, apagar a coluna.\n",
        "\n",
        "        O que é média, mediana e moda:\n",
        "        * Média - é a soma de todos os valores, dividido pela quantidade de valores somados\n",
        "        * Mediana - considerando a lista de valores em ordem crescente, é o valor central da lista\n",
        "        * Moda - é o valor que mais aparece na coluna\n",
        "\n",
        "* 2 - Converter valores textuais em numéricos;\n",
        "* 3 - Normalizar os dados"
      ]
    },
    {
      "cell_type": "markdown",
      "metadata": {
        "id": "5XNHYARR9xoy"
      },
      "source": [
        "1"
      ]
    },
    {
      "cell_type": "code",
      "execution_count": null,
      "metadata": {
        "id": "CenedeLb9xoy"
      },
      "outputs": [],
      "source": [
        "# Retorna a moda da coluna ano\n",
        "df.ano.mode()[0]"
      ]
    },
    {
      "cell_type": "code",
      "execution_count": null,
      "metadata": {
        "id": "O8MI5UQz9xoy"
      },
      "outputs": [],
      "source": [
        "# Retorna todos os registros com valores núlos na coluna ano\n",
        "df.loc[df['ano'].isna()]"
      ]
    },
    {
      "cell_type": "code",
      "execution_count": null,
      "metadata": {
        "id": "8vbmF07a9xoy"
      },
      "outputs": [],
      "source": [
        "# Acrescenta a móda da coluna ano na coluna ano nos registros em que são núlos na coluna ano\n",
        "df.loc[df['ano'].isna(), 'ano'] = df.ano.mode()[0]"
      ]
    },
    {
      "cell_type": "code",
      "execution_count": null,
      "metadata": {
        "id": "Wv8GBGWc9xoy"
      },
      "outputs": [],
      "source": [
        "# Retorna a moda da coluna esporte\n",
        "df.esporte.mode()[0]"
      ]
    },
    {
      "cell_type": "code",
      "execution_count": null,
      "metadata": {
        "id": "0BE-Qn8Y9xoy"
      },
      "outputs": [],
      "source": [
        "# Retorna todos os registros com valores núlos na coluna esporte\n",
        "df.loc[df['esporte'].isna()]"
      ]
    },
    {
      "cell_type": "code",
      "execution_count": null,
      "metadata": {
        "id": "vvH0ujK-9xoy"
      },
      "outputs": [],
      "source": [
        "# Acrescenta a móda da coluna ano na coluna ano nos registros em que são núlos na coluna esporte\n",
        "df.loc[df['esporte'].isna(), 'esporte'] = df.esporte.mode()[0]"
      ]
    },
    {
      "cell_type": "code",
      "execution_count": null,
      "metadata": {
        "id": "ulzUDmhC9xoy"
      },
      "outputs": [],
      "source": [
        "df.isna().sum()"
      ]
    },
    {
      "cell_type": "markdown",
      "metadata": {
        "id": "3HYXsY_i9xoz"
      },
      "source": [
        "2 temos basicamente duas formas de converter valores textuais em numéricos:\n",
        "- Usar o loc para substituir os valores (neste caso pode ser preciso alterar o tipo de dados da coluna)\n",
        "- Usar a biblioteca label Encoder\n",
        "\n",
        "``Label Encoding``: É uma técnica que consiste em atribuir um valor numérico a cada categoria de uma variável categórica. Por exemplo, podemos atribuir o valor 0 para a categoria \"masculino\" e o valor 1 para a categoria \"feminino\" na coluna \"genero\"."
      ]
    },
    {
      "cell_type": "code",
      "execution_count": null,
      "metadata": {
        "id": "4htsniYR9xoz"
      },
      "outputs": [],
      "source": [
        "# Criação do objeto LabelEncoder\n",
        "le = LabelEncoder()"
      ]
    },
    {
      "cell_type": "code",
      "execution_count": null,
      "metadata": {
        "id": "jRqfGJ8S9xoz"
      },
      "outputs": [],
      "source": [
        "# Aplicação do LabelEncoder nas colunas desejadas\n",
        "df['cidade'] = le.fit_transform(df['cidade'])\n",
        "df['esporte'] = le.fit_transform(df['esporte'])\n",
        "df['disciplina'] = le.fit_transform(df['disciplina'])\n",
        "df['atleta'] = le.fit_transform(df['atleta'])\n",
        "df['pais'] = le.fit_transform(df['pais'])\n",
        "df['evento'] = le.fit_transform(df['evento'])\n",
        "df['medalha'] = le.fit_transform(df['medalha'])"
      ]
    },
    {
      "cell_type": "code",
      "execution_count": null,
      "metadata": {
        "id": "oR1hEghH9xoz"
      },
      "outputs": [],
      "source": [
        "le.classes_"
      ]
    },
    {
      "cell_type": "code",
      "execution_count": null,
      "metadata": {
        "id": "Kt_KiArW9xoz"
      },
      "outputs": [],
      "source": [
        "df.head()"
      ]
    },
    {
      "cell_type": "code",
      "execution_count": null,
      "metadata": {
        "id": "HiNmhvPx9xoz"
      },
      "outputs": [],
      "source": [
        "df.info()"
      ]
    },
    {
      "cell_type": "code",
      "execution_count": null,
      "metadata": {
        "id": "HdFP5aC39xoz"
      },
      "outputs": [],
      "source": [
        "df.genero.unique()"
      ]
    },
    {
      "cell_type": "code",
      "execution_count": null,
      "metadata": {
        "id": "7u1548Po9xoz"
      },
      "outputs": [],
      "source": [
        "# Substitui o valor homens por 0\n",
        "df.loc[df['genero']=='homens', 'genero'] = 0\n",
        "# Substitui o valor mulheres por 1\n",
        "df.loc[df['genero']=='mulheres', 'genero'] = 1\n",
        "\n",
        "# Altera o tipo de dados da coluna de object para int\n",
        "df['genero'] = df['genero'].astype(int)"
      ]
    },
    {
      "cell_type": "code",
      "execution_count": null,
      "metadata": {
        "id": "q6KSj-Lg9xoz"
      },
      "outputs": [],
      "source": [
        "df.info()"
      ]
    },
    {
      "cell_type": "markdown",
      "metadata": {
        "id": "vD_CwAuv9xoz"
      },
      "source": [
        "Repare que a coluna ano está como fload (número com casas decimais). Não é algo extremamente necessário, mas como é uma coluna que só possui valores interiros, vamos alterar o tipo de dados dela também."
      ]
    },
    {
      "cell_type": "code",
      "execution_count": null,
      "metadata": {
        "id": "WvBY9dUh9xoz"
      },
      "outputs": [],
      "source": [
        "# Altera o tipo de dados da coluna de float para int\n",
        "df['ano'] = df['ano'].astype(int)"
      ]
    },
    {
      "cell_type": "code",
      "execution_count": null,
      "metadata": {
        "id": "D6Or2xFY9xo0"
      },
      "outputs": [],
      "source": [
        "df.info()"
      ]
    },
    {
      "cell_type": "markdown",
      "metadata": {
        "id": "_PooU-i99xo0"
      },
      "source": [
        "3 Neste ponto da normalização é importante saber o que deseja fazer. \n",
        "- Se for um algorítmo ``não supervisionado`` (clusterização), devemos normalizar todas as colunas;\n",
        "- Se for um algorítmo supervisionado, temos duas opções:\n",
        "    - Em uma regressão, normalizar todas as colunas;\n",
        "    - Em uma classificação, normalizar todas as colunas de atributos (não normaliza o nosso alvo)\n",
        "\n",
        "Neste caso, poderíamos tanto aplicar uma clusterização para identificar padrões na base, como também podemos aplicar uma classificação para prever qual a medalha."
      ]
    },
    {
      "cell_type": "code",
      "execution_count": null,
      "metadata": {
        "id": "o0eRJIhz9xo0"
      },
      "outputs": [],
      "source": [
        "# Retorna a base de dados sem a coluna medalha (mas sem apagar definitivamente esta coluna)\n",
        "df.drop('medalha', axis=1)"
      ]
    },
    {
      "cell_type": "code",
      "execution_count": null,
      "metadata": {
        "id": "g5kvqo569xo0"
      },
      "outputs": [],
      "source": [
        "X = df.drop('medalha', axis=1)\n",
        "\n",
        "# Cria um objeto MinMaxScaler e ajusta aos dados selecionados\n",
        "scaler = MinMaxScaler()\n",
        "scaler.fit(X)\n",
        "\n",
        "# Aplica a normalização aos dados selecionados\n",
        "X = scaler.transform(X)\n",
        "\n",
        "# Cria uma lista com os valores da coluna medalha\n",
        "y = df[['medalha']].values"
      ]
    },
    {
      "cell_type": "code",
      "execution_count": null,
      "metadata": {
        "id": "7aot1Y-a9xo0"
      },
      "outputs": [],
      "source": [
        "from keras.utils import to_categorical\n",
        "\n",
        "# converte y para one-hot-encoded\n",
        "y_one_hot = to_categorical(y)"
      ]
    },
    {
      "cell_type": "code",
      "execution_count": null,
      "metadata": {
        "id": "TOqmupWm9xo0"
      },
      "outputs": [],
      "source": [
        "y_one_hot"
      ]
    },
    {
      "cell_type": "code",
      "execution_count": null,
      "metadata": {
        "id": "nAktDhBX9xo0"
      },
      "outputs": [],
      "source": [
        "y"
      ]
    },
    {
      "cell_type": "markdown",
      "metadata": {
        "id": "jK4IC-JW9xo0"
      },
      "source": [
        "# 3 - Aplicação de algoritmo de machine learning"
      ]
    },
    {
      "cell_type": "code",
      "execution_count": null,
      "metadata": {
        "id": "VYmRmD449xo0"
      },
      "outputs": [],
      "source": [
        "from sklearn.model_selection import train_test_split\n",
        "from keras.models import Sequential\n",
        "from keras.layers import Dense"
      ]
    },
    {
      "cell_type": "code",
      "execution_count": null,
      "metadata": {
        "id": "73Mj5Hxn9xo0"
      },
      "outputs": [],
      "source": [
        "X_train, X_test, y_train, y_test = train_test_split(X, y_one_hot, test_size=0.15, random_state=71)"
      ]
    },
    {
      "cell_type": "code",
      "execution_count": null,
      "metadata": {
        "id": "dXE-R8cn9xo0"
      },
      "outputs": [],
      "source": [
        "!pip install plotly"
      ]
    },
    {
      "cell_type": "code",
      "execution_count": null,
      "metadata": {
        "id": "TB3xt5q99xo0"
      },
      "outputs": [],
      "source": [
        "model = Sequential()\n",
        "# No input_shape, a quantidade de atributos que possuimos\n",
        "model.add(Dense(32, activation='relu', input_shape=(X_train.shape[1],)))\n",
        "model.add(Dense(64, activation='relu'))\n",
        "model.add(Dense(128, activation='relu'))\n",
        "model.add(Dense(128, activation='relu'))\n",
        "model.add(Dense(128, activation='relu'))\n",
        "model.add(Dense(128, activation='relu'))\n",
        "model.add(Dense(16, activation='relu'))\n",
        "# Na camada de saida de uma classificação, usamos 1 neurônio para cada classe possível e softmax\n",
        "model.add(Dense(3, activation='softmax'))\n",
        "# Compilação do modelo\n",
        "model.compile(loss='categorical_crossentropy', optimizer='adam', metrics=['accuracy'])\n",
        "# Treinamento do modelo\n",
        "history = model.fit(X_train, y_train, epochs=1000, validation_split=0.15)"
      ]
    },
    {
      "cell_type": "code",
      "execution_count": null,
      "metadata": {
        "id": "hLmD2SX_9xo0"
      },
      "outputs": [],
      "source": [
        "# Retorna um dicionário com algumas métricas do treinamento\n",
        "history.history"
      ]
    },
    {
      "cell_type": "code",
      "execution_count": null,
      "metadata": {
        "id": "30qstOcz9xo1"
      },
      "outputs": [],
      "source": [
        "# Retorna as chaves do dicionário\n",
        "history.history.keys()"
      ]
    },
    {
      "cell_type": "markdown",
      "metadata": {
        "id": "qilVc-G09xo1"
      },
      "source": [
        "# 4 - interpretar resultados"
      ]
    },
    {
      "cell_type": "code",
      "execution_count": null,
      "metadata": {
        "id": "RfQo_ps79xo1"
      },
      "outputs": [],
      "source": [
        "import plotly.offline as py\n",
        "import plotly.graph_objs as go\n",
        "\n",
        "# Define a função que plota o gráfico\n",
        "def grafico(x_val, valy, namey, titulo, x_name, y_name, save):\n",
        "    # Verifica se x_val é uma lista vazia\n",
        "    if len(x_val) == 0:\n",
        "        # Cria uma lista com o número de elementos na primeira lista de valy\n",
        "        x_val = [x for x in range(1,len(valy[0])+1)]\n",
        "    # Inicializa a lista de dados\n",
        "    data = []\n",
        "    # Define as cores para cada conjunto de dados\n",
        "    cores = ['#DC143C','#FFB90F','#0000FF','#006400','#00FFFF','#8B008B']\n",
        "    # Percorre cada conjunto de dados em valy\n",
        "    for cont in range(0,len(valy)):\n",
        "        # Adiciona um novo conjunto de dados na lista 'data'\n",
        "        data.append(go.Scatter(x = x_val,\n",
        "                    y = valy[cont],\n",
        "                    mode = 'lines',\n",
        "                    name = namey[cont],\n",
        "                    marker = {'color': cores[cont]}))\n",
        "    # Define as configurações do layout do gráfico\n",
        "    layout = go.Layout(title = f'{titulo}', title_x=0.5,\n",
        "                   titlefont = {'family': 'Arial',\n",
        "                                'size': 22,\n",
        "                                'color': '#000000'},\n",
        "                   xaxis = {'title': x_name},\n",
        "                   yaxis = {'title': y_name},\n",
        "                   paper_bgcolor = 'rgb(188, 231, 245)',\n",
        "                   plot_bgcolor = 'rgb(188, 231, 245)')\n",
        "    # Cria um objeto 'Figure' do plotly com os dados e o layout\n",
        "    fig = go.Figure(data=data, layout=layout)\n",
        "    # Define as configurações para a legenda\n",
        "    fig.update_layout(legend=dict(\n",
        "    orientation=\"h\",\n",
        "    yanchor=\"top\",\n",
        "    entrywidth=200,\n",
        "    y=1.15,\n",
        "    xanchor=\"right\",\n",
        "    x=1,\n",
        "    bgcolor = 'rgba(188, 231, 245,0.8)'\n",
        "    ),\n",
        "    font=dict(\n",
        "            size=15,\n",
        "            color=\"black\"\n",
        "        ))\n",
        "    # Verifica se o parâmetro 'save' é True\n",
        "    if save == True:\n",
        "        # Salva o gráfico como uma imagem SVG e um arquivo HTML\n",
        "        fig.write_image(f\"grafico/{titulo}.svg\", scale=1, width=1000, height=500)\n",
        "        fig.write_html(f\"grafico/{titulo}.html\")\n",
        "    # Verifica se o parâmetro 'save' é False\n",
        "    if save == False:\n",
        "        # Renderiza o gráfico na tela\n",
        "        py.iplot(fig)\n"
      ]
    },
    {
      "cell_type": "code",
      "execution_count": null,
      "metadata": {
        "id": "G6ZgoWu39xo1"
      },
      "outputs": [],
      "source": [
        "loss = history.history['loss']\n",
        "val_loss = history.history['val_loss']  \n",
        "accuracy = history.history['accuracy']  \n",
        "val_accuracy = history.history['val_accuracy']  \n",
        "\n",
        "valor_y = [loss, val_loss, accuracy, val_accuracy]\n",
        "name_y = ['loss','val loss', 'accuracy', 'val_accuracy']\n",
        "\n",
        "\n",
        "grafico([], valor_y, name_y, 'Treinamento', 'Epoch', 'Loss', False)"
      ]
    },
    {
      "cell_type": "code",
      "execution_count": null,
      "metadata": {
        "id": "_YKTWidF9xo1"
      },
      "outputs": [],
      "source": [
        "import matplotlib.pyplot as plt\n",
        "\n",
        "grafico_x = [x for x in range(1,len(val_accuracy)+1)]\n",
        "\n",
        "plt.plot(grafico_x, loss, label='loss')\n",
        "plt.plot(grafico_x, val_loss, label='val_loss')\n",
        "plt.plot(grafico_x, accuracy, label='accuracy')\n",
        "plt.plot(grafico_x, val_accuracy, label='val_accuracy')\n",
        "\n",
        "plt.title('Treinamento')\n",
        "plt.legend()\n",
        "\n",
        "plt.xlabel('Epoch')\n",
        "plt.ylabel('Loss')\n",
        "\n",
        "plt.show()"
      ]
    },
    {
      "cell_type": "code",
      "execution_count": null,
      "metadata": {
        "id": "hsdVcOW29xo1"
      },
      "outputs": [],
      "source": [
        "# calcular a acurácia\n",
        "loss, accuracy = model.evaluate(X_test, y_test)\n",
        "print(f\"Acurácia: {accuracy}\")"
      ]
    },
    {
      "cell_type": "code",
      "execution_count": null,
      "metadata": {
        "id": "BEXXdEHZ9xo1"
      },
      "outputs": [],
      "source": [
        "from sklearn.metrics import confusion_matrix\n",
        "import seaborn as sns\n",
        "import numpy as np\n",
        "\n",
        "# fazer previsões com o modelo\n",
        "y_pred = model.predict(X_test)\n",
        "y_pred = np.argmax(y_pred, axis=1)\n",
        "y_test = np.argmax(y_test, axis=1)\n",
        "\n",
        "# calcular a matriz de confusão\n",
        "cm = confusion_matrix(y_test, y_pred)\n",
        "\n",
        "# plotar o heatmap\n",
        "sns.heatmap(cm, annot=True, cmap=\"Blues\", fmt=\"d\")\n",
        "plt.title('Matriz de Confusão')\n",
        "plt.xlabel('Previsões')\n",
        "plt.ylabel('Real')\n",
        "plt.show()"
      ]
    }
  ],
  "metadata": {
    "kernelspec": {
      "display_name": "base",
      "language": "python",
      "name": "python3"
    },
    "language_info": {
      "codemirror_mode": {
        "name": "ipython",
        "version": 3
      },
      "file_extension": ".py",
      "mimetype": "text/x-python",
      "name": "python",
      "nbconvert_exporter": "python",
      "pygments_lexer": "ipython3",
      "version": "3.9.16"
    },
    "orig_nbformat": 4,
    "colab": {
      "provenance": [],
      "include_colab_link": true
    }
  },
  "nbformat": 4,
  "nbformat_minor": 0
}