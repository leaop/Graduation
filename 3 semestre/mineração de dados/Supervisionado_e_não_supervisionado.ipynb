{
  "cells": [
    {
      "cell_type": "markdown",
      "metadata": {
        "id": "view-in-github",
        "colab_type": "text"
      },
      "source": [
        "<a href=\"https://colab.research.google.com/github/leaop/Graduation/blob/main/Supervisionado_e_n%C3%A3o_supervisionado.ipynb\" target=\"_parent\"><img src=\"https://colab.research.google.com/assets/colab-badge.svg\" alt=\"Open In Colab\"/></a>"
      ]
    },
    {
      "cell_type": "markdown",
      "metadata": {
        "id": "4VqhYqtAxwl8"
      },
      "source": [
        "# Algoritmo Supervisionado\n",
        "Algoritmo supervisionado é o algoritmo que possui uma classe alvo, ou seja, sabemos o que o modelo deseja prever.\n",
        "\n",
        "Na área, é muito comum chamar a classe alvo de target (alvo em inglês)\n",
        "\n",
        "No treinamento do modelo, é fornecido, ao algoritmo\n",
        "de ML, um conjunto de exemplos de treinamento com\n",
        "cada exemplo (registro) sendo formado por um vetor de\n",
        "atributos (variáveis independentes) e o rótulo da classe\n",
        "associada (variável dependente).\n",
        "\n",
        "![Treinamento.png](attachment:Treinamento.png)\n",
        "\n",
        "Exemplo de código para classificação supervisionada (Árvore de Decisão):"
      ]
    },
    {
      "cell_type": "code",
      "execution_count": null,
      "metadata": {
        "id": "-2ZdcP5zxwl_"
      },
      "outputs": [],
      "source": [
        "# Importa a biblioteca pandas com o apelido pd\n",
        "import pandas as pd"
      ]
    },
    {
      "cell_type": "code",
      "execution_count": null,
      "metadata": {
        "id": "SELosvY9xwl_"
      },
      "outputs": [],
      "source": [
        "# Realiza a leitura dos dados\n",
        "df = pd.read_csv('iris.csv')"
      ]
    },
    {
      "cell_type": "markdown",
      "metadata": {
        "id": "7fE8uyPlxwl_"
      },
      "source": [
        "## Exploração da base de dados"
      ]
    },
    {
      "cell_type": "code",
      "execution_count": null,
      "metadata": {
        "scrolled": true,
        "id": "SRAbZD2SxwmA"
      },
      "outputs": [],
      "source": [
        "df.head()"
      ]
    },
    {
      "cell_type": "markdown",
      "metadata": {
        "id": "e4MLTXTkxwmA"
      },
      "source": [
        "Estamos trabalhando com um dataset com informações de pétalas e sépalas de 3 tipos de flores.\n",
        "\n",
        "Para quem não sabe a diferença entre pétalas e sépalas:\n",
        "![sepala.jpg](attachment:sepala.jpg)"
      ]
    },
    {
      "cell_type": "code",
      "execution_count": null,
      "metadata": {
        "scrolled": false,
        "id": "8r98XDfnxwmA"
      },
      "outputs": [],
      "source": [
        "# Verificar quantos registros de cada alvo (flor)\n",
        "df.flor.value_counts()"
      ]
    },
    {
      "cell_type": "markdown",
      "metadata": {
        "id": "o8LNkN0gxwmA"
      },
      "source": [
        "Repare que a cima podemos identificar que nossa base de dados está perfeitamente balanceada, tendo exatamente a mesma quantidade de registros de cada classe.\n",
        "\n",
        "Uma base balanceada faz com que os modelos de machine learning \"considerem\" todas as classes com igual importância. Já uma base muito desbalanceada, pode fazer com que os modelos acertem mais as categorias com mais registros e errem mais as categorias com menos registros.\n",
        "\n",
        "Ainda analisando os tipos de flores, segue uma imagem com exemplo de cada flor que temos na base de dados:\n",
        "![Iris-Dataset-Classification.png](attachment:Iris-Dataset-Classification.png)"
      ]
    },
    {
      "cell_type": "code",
      "execution_count": null,
      "metadata": {
        "scrolled": true,
        "id": "Zr9auccXxwmB"
      },
      "outputs": [],
      "source": [
        "# Verificar quantidade de valores núlos por coluna\n",
        "df.isna().sum()"
      ]
    },
    {
      "cell_type": "code",
      "execution_count": null,
      "metadata": {
        "scrolled": true,
        "id": "MhPcQpXGxwmB"
      },
      "outputs": [],
      "source": [
        "df.info()"
      ]
    },
    {
      "cell_type": "code",
      "execution_count": null,
      "metadata": {
        "id": "a15mtZFhxwmB"
      },
      "outputs": [],
      "source": [
        "df.describe()"
      ]
    },
    {
      "cell_type": "code",
      "execution_count": null,
      "metadata": {
        "id": "d6lKrDWpxwmB"
      },
      "outputs": [],
      "source": [
        "df.describe(include='O')"
      ]
    },
    {
      "cell_type": "markdown",
      "metadata": {
        "id": "EZA7JMZaxwmB"
      },
      "source": [
        "## Treinamento do modelo"
      ]
    },
    {
      "cell_type": "code",
      "execution_count": null,
      "metadata": {
        "id": "86BQrHQ1xwmC"
      },
      "outputs": [],
      "source": [
        "from sklearn.tree import DecisionTreeClassifier\n",
        "from sklearn.model_selection import train_test_split\n",
        "from sklearn.metrics import accuracy_score"
      ]
    },
    {
      "cell_type": "code",
      "execution_count": null,
      "metadata": {
        "id": "LCWb-E1HxwmC"
      },
      "outputs": [],
      "source": [
        "# Separar entre x (atributos) e y (alvo)\n",
        "X = df[['comprimento sepala', 'largura sepala', 'comprimento petala', 'largura petala']].values\n",
        "y = df[['flor']].values"
      ]
    },
    {
      "cell_type": "code",
      "execution_count": null,
      "metadata": {
        "id": "1pwly_ADxwmC"
      },
      "outputs": [],
      "source": [
        "X"
      ]
    },
    {
      "cell_type": "code",
      "execution_count": null,
      "metadata": {
        "id": "orf3pfCcxwmC"
      },
      "outputs": [],
      "source": [
        "y"
      ]
    },
    {
      "cell_type": "code",
      "execution_count": null,
      "metadata": {
        "id": "37OABbdxxwmC"
      },
      "outputs": [],
      "source": [
        "# Dividir o conjunto de dados em treino e teste com 20% para teste\n",
        "X_train, X_test, y_train, y_test = train_test_split(X, y, test_size=0.2, random_state=42)"
      ]
    },
    {
      "cell_type": "code",
      "execution_count": null,
      "metadata": {
        "scrolled": true,
        "id": "SDoL8cRuxwmC"
      },
      "outputs": [],
      "source": [
        "# Define qual o modelo\n",
        "clf = DecisionTreeClassifier()\n",
        "\n",
        "# Treina o modelo de Árvore de Decisão\n",
        "clf.fit(X_train, y_train)"
      ]
    },
    {
      "cell_type": "markdown",
      "metadata": {
        "id": "tiBkL5qWxwmC"
      },
      "source": [
        "## Testar modelo supervisionado"
      ]
    },
    {
      "cell_type": "code",
      "execution_count": null,
      "metadata": {
        "id": "fq3qf7sGxwmC"
      },
      "outputs": [],
      "source": [
        "# Faz previsões no conjunto de teste\n",
        "y_predict = clf.predict(X_test)\n",
        "y_predict"
      ]
    },
    {
      "cell_type": "code",
      "execution_count": null,
      "metadata": {
        "id": "8lG4I6SDxwmD"
      },
      "outputs": [],
      "source": [
        "# Calculando a acurácia do modelo\n",
        "acc = accuracy_score(y_test, y_predict)\n",
        "print(\"Acurácia: {:.2f}%\".format(acc * 100))"
      ]
    },
    {
      "cell_type": "code",
      "execution_count": null,
      "metadata": {
        "id": "13e3oSR3xwmD"
      },
      "outputs": [],
      "source": [
        "# Exibe as classes que o modelo foi treinado para identificar\n",
        "clf.classes_"
      ]
    },
    {
      "cell_type": "code",
      "execution_count": null,
      "metadata": {
        "id": "m1EWQbFnxwmD"
      },
      "outputs": [],
      "source": [
        "from sklearn.metrics import confusion_matrix, ConfusionMatrixDisplay\n",
        "\n",
        "ConfusionMatrixDisplay(confusion_matrix=confusion_matrix(y_test, y_predict), display_labels=clf.classes_).plot()"
      ]
    },
    {
      "cell_type": "markdown",
      "metadata": {
        "id": "wuaY_YysxwmD"
      },
      "source": [
        "# Algoritmo não supervisionado\n",
        "\n",
        "Algoritmo não supervisionado é o algoritmo que não possui uma classe alvo, ou seja, não sabemos o que o modelo deseja prever.\n",
        "\n",
        "Geralmente os algoritmos não supervisionados geram clusters (grupos de registros semelhantes) que após gerados, ainda é necessário analisar o que o cluster representa.\n",
        "\n",
        "O modelo identifica os registros com características semelhantes e os agrupa em clusters.\n",
        "\n",
        "![n%C3%A3o%20super.png](attachment:n%C3%A3o%20super.png)\n",
        "\n",
        "Exemplo de código para classificação não-supervisionada (K-means):"
      ]
    },
    {
      "cell_type": "code",
      "execution_count": null,
      "metadata": {
        "id": "NjTwRUTXxwmD"
      },
      "outputs": [],
      "source": [
        "from sklearn.cluster import KMeans\n",
        "#from sklearn.datasets import load_iris\n",
        "from sklearn.preprocessing import MinMaxScaler\n",
        "import matplotlib.pyplot as plt\n",
        "\n",
        "# Realiza a leitura dos dados\n",
        "df = pd.read_csv('iris.csv')\n",
        "\n",
        "# Separa apenas os atributos para o treinamento (atributos são as \"colunas\" previsoras)\n",
        "X = df[['comprimento sepala', 'largura sepala', 'comprimento petala', 'largura petala']].values"
      ]
    },
    {
      "cell_type": "code",
      "execution_count": null,
      "metadata": {
        "id": "Yt5Hfrf9xwmD"
      },
      "outputs": [],
      "source": [
        "X.max()"
      ]
    },
    {
      "cell_type": "code",
      "execution_count": null,
      "metadata": {
        "id": "v9E06pAJxwmD"
      },
      "outputs": [],
      "source": [
        "X.min()"
      ]
    },
    {
      "cell_type": "markdown",
      "metadata": {
        "id": "wtGpW-vfxwmD"
      },
      "source": [
        "Repare que os valores máximos e mínimos não são tão discrepantes. Então neste caso, não irei normalizar os dados."
      ]
    },
    {
      "cell_type": "markdown",
      "metadata": {
        "id": "96qb17CjxwmD"
      },
      "source": [
        "## Como calcular a quantidade de clusters?\n",
        "Neste caso já sabemos que a quantidade de clusters é 3, mas caso não soubéssemos, usaríamos o método do cotovelo, conforme vems abaixo"
      ]
    },
    {
      "cell_type": "code",
      "execution_count": null,
      "metadata": {
        "id": "o5UbVP9_xwmD"
      },
      "outputs": [],
      "source": [
        "from sklearn.cluster import KMeans\n",
        "import matplotlib.pyplot as plt\n",
        "from IPython.display import clear_output \n",
        "\n",
        "# Defina o intervalo de valores k\n",
        "k_range = range(1, 10)\n",
        "\n",
        "# Execute o algoritmo de clustering para cada valor k e armazene a soma dos erros quadráticos em uma lista\n",
        "sse = []\n",
        "for k in k_range:\n",
        "    km = KMeans(n_clusters=k)\n",
        "    km.fit(X)\n",
        "    sse.append(km.inertia_)\n",
        "    # Limpa as mensagens de saída\n",
        "    clear_output(wait=True)\n",
        "\n",
        "# Trace a curva de cotovelo\n",
        "plt.plot(k_range, sse)\n",
        "plt.xlabel('Número de Clusters (k)')\n",
        "plt.ylabel('soma dos erros quadráticos ')\n",
        "plt.title('Método do Cotovelo')\n",
        "plt.show()"
      ]
    },
    {
      "cell_type": "markdown",
      "metadata": {
        "id": "qKde_CwXxwmE"
      },
      "source": [
        "## Treinar / exibir clusters"
      ]
    },
    {
      "cell_type": "code",
      "execution_count": null,
      "metadata": {
        "id": "SSw1npxBxwmE"
      },
      "outputs": [],
      "source": [
        "# Treinando o modelo de K-means com 3 clusters\n",
        "kmeans = KMeans(n_clusters=3)\n",
        "kmeans.fit(X)"
      ]
    },
    {
      "cell_type": "code",
      "execution_count": null,
      "metadata": {
        "id": "R2MCW66AxwmE"
      },
      "outputs": [],
      "source": [
        "# Visualizando os clusters criados\n",
        "plt.scatter(X[:, 2], X[:, 3], c=kmeans.labels_)\n",
        "plt.scatter(kmeans.cluster_centers_[:, 2], kmeans.cluster_centers_[:, 3], marker='x', s=200, linewidths=3, color='r')\n",
        "plt.xlabel(\"Comprimento Pétala\")\n",
        "plt.ylabel(\"Largura Pétala\")\n",
        "plt.title('Largura x Comprimento Pétala')\n",
        "plt.show()\n",
        "\n",
        "# Visualizando os clusters criados\n",
        "plt.scatter(X[:, 0], X[:, 1], c=kmeans.labels_)\n",
        "plt.scatter(kmeans.cluster_centers_[:, 0], kmeans.cluster_centers_[:, 1], marker='x', s=200, linewidths=3, color='r')\n",
        "plt.xlabel(\"Comprimento Sépala\")\n",
        "plt.ylabel(\"Largura Sépala\")\n",
        "plt.title('Largura x Comprimento Sépala')\n",
        "plt.show()"
      ]
    },
    {
      "cell_type": "markdown",
      "metadata": {
        "id": "JeXEN-5bxwmE"
      },
      "source": [
        "# Algoritmos Híbridos\n",
        "\n",
        "São algoritmos que usam mais de um tipo de classificadores, podendo ser, por exemplo, a mistura de algoritmos supervisionados ou não supervisionados.\n",
        "\n",
        "No geral, são menos utilizados pois geralmente possuem um nivel de complexidade muito elevado e nem sempre este nível de complexidade significa melhores reultados.\n",
        "\n",
        "Com o algorítmo de Floresta aleatória (Random Forest Classifier), são reunídos vários tipos de árvores de decisão em uma floresta aleatória, que explora a diversidade das árvores para aprimorar o modelo resultante, que combina a saída de várias árvores de decisão para chegar a um único resultado. Sua facilidade de uso e flexibilidade alimentaram sua adoção, pois lida com problemas de classificação e regressão.\n",
        "\n",
        "\n",
        "Exemplo de código para algoritmo híbrido (Floresta Aleatória):"
      ]
    },
    {
      "cell_type": "code",
      "execution_count": null,
      "metadata": {
        "id": "PNL0HdL_xwmE"
      },
      "outputs": [],
      "source": [
        "from sklearn.ensemble import RandomForestClassifier\n",
        "from sklearn.model_selection import train_test_split\n",
        "from sklearn.metrics import accuracy_score, confusion_matrix, ConfusionMatrixDisplay\n",
        "\n",
        "df = pd.read_csv('iris.csv')\n",
        "# Dividir o conjunto de dados em treino e teste com 20% para teste\n",
        "X_train, X_test, y_train, y_test = train_test_split(X, y, test_size=0.2, random_state=42)"
      ]
    },
    {
      "cell_type": "code",
      "execution_count": null,
      "metadata": {
        "id": "0V1hAH27xwmE"
      },
      "outputs": [],
      "source": [
        "# Treinando o modelo de Floresta Aleatória\n",
        "clf = RandomForestClassifier(n_estimators=100)\n",
        "clf.fit(X_train, y_train)"
      ]
    },
    {
      "cell_type": "code",
      "execution_count": null,
      "metadata": {
        "id": "HEvQBj8vxwmE"
      },
      "outputs": [],
      "source": [
        "# Fazendo previsões no conjunto de teste\n",
        "y_predict = clf.predict(X_test)\n",
        "\n",
        "# Calculando a acurácia do modelo\n",
        "acc = accuracy_score(y_test, y_predict)\n",
        "print(\"Acurácia: {:.2f}%\".format(acc * 100))\n",
        "ConfusionMatrixDisplay(confusion_matrix=confusion_matrix(y_test, y_predict), display_labels=clf.classes_).plot()"
      ]
    },
    {
      "cell_type": "markdown",
      "metadata": {
        "id": "vnoDD3o5xwmE"
      },
      "source": [
        "# Exercício\n",
        "\n",
        "* Realize a leitura da base de dados vinho.csv (a coluna nota representa a nota que o vinho possui, podemos levar ela em considereção para ser nossa classe alvo);\n",
        "\n",
        "* Faça uma análise da base de dados;\n",
        "\n",
        "* trate os valores núlos, se houver;\n",
        "\n",
        "* Separe os dados em X e y (normalize os dados de X se achar necessário);\n",
        "\n",
        "* Separe os dados em treinamento e teste com 20% para teste;\n",
        "\n",
        "* Escolha algum algoritmo para treinar com os dados de treinamento;\n",
        "\n",
        "* Exiba a acurária e a matriz de confusão nos dados de teste.\n"
      ]
    },
    {
      "cell_type": "code",
      "execution_count": null,
      "metadata": {
        "id": "LMTuXS6CxwmF"
      },
      "outputs": [],
      "source": []
    },
    {
      "cell_type": "code",
      "execution_count": null,
      "metadata": {
        "id": "ljbeG1OuxwmF"
      },
      "outputs": [],
      "source": []
    },
    {
      "cell_type": "code",
      "execution_count": null,
      "metadata": {
        "id": "C17KGJHmxwmF"
      },
      "outputs": [],
      "source": []
    },
    {
      "cell_type": "code",
      "execution_count": null,
      "metadata": {
        "id": "GtuxRtgcxwmF"
      },
      "outputs": [],
      "source": []
    },
    {
      "cell_type": "code",
      "execution_count": null,
      "metadata": {
        "id": "VlKmtBxGxwmF"
      },
      "outputs": [],
      "source": []
    },
    {
      "cell_type": "code",
      "execution_count": null,
      "metadata": {
        "id": "vWVCw1XaxwmF"
      },
      "outputs": [],
      "source": []
    },
    {
      "cell_type": "code",
      "execution_count": null,
      "metadata": {
        "id": "qX0N5yu5xwmF"
      },
      "outputs": [],
      "source": []
    },
    {
      "cell_type": "code",
      "execution_count": null,
      "metadata": {
        "id": "IrB_4RVDxwmF"
      },
      "outputs": [],
      "source": []
    },
    {
      "cell_type": "code",
      "execution_count": null,
      "metadata": {
        "id": "zD2ffy-FxwmF"
      },
      "outputs": [],
      "source": []
    },
    {
      "cell_type": "code",
      "execution_count": null,
      "metadata": {
        "id": "gbfV4GiDxwmF"
      },
      "outputs": [],
      "source": []
    },
    {
      "cell_type": "code",
      "execution_count": null,
      "metadata": {
        "id": "DXFkMCrLxwmF"
      },
      "outputs": [],
      "source": []
    },
    {
      "cell_type": "code",
      "execution_count": null,
      "metadata": {
        "id": "sZXQPGBAxwmF"
      },
      "outputs": [],
      "source": []
    },
    {
      "cell_type": "code",
      "execution_count": null,
      "metadata": {
        "id": "rWilPY3-xwmF"
      },
      "outputs": [],
      "source": []
    },
    {
      "cell_type": "code",
      "execution_count": null,
      "metadata": {
        "id": "9Kv7zZ9fxwmF"
      },
      "outputs": [],
      "source": []
    },
    {
      "cell_type": "code",
      "execution_count": null,
      "metadata": {
        "id": "d60p55F9xwmF"
      },
      "outputs": [],
      "source": []
    },
    {
      "cell_type": "code",
      "execution_count": null,
      "metadata": {
        "id": "lXH2kP4rxwmF"
      },
      "outputs": [],
      "source": []
    },
    {
      "cell_type": "code",
      "execution_count": null,
      "metadata": {
        "id": "-V-cDw-MxwmF"
      },
      "outputs": [],
      "source": []
    },
    {
      "cell_type": "code",
      "execution_count": null,
      "metadata": {
        "id": "nfurqxxmxwmF"
      },
      "outputs": [],
      "source": []
    },
    {
      "cell_type": "code",
      "execution_count": null,
      "metadata": {
        "id": "5uhRQkcExwmG"
      },
      "outputs": [],
      "source": []
    },
    {
      "cell_type": "code",
      "execution_count": null,
      "metadata": {
        "id": "rr-bTqw8xwmG"
      },
      "outputs": [],
      "source": []
    },
    {
      "cell_type": "code",
      "execution_count": null,
      "metadata": {
        "id": "7z3WpX9axwmG"
      },
      "outputs": [],
      "source": []
    },
    {
      "cell_type": "code",
      "execution_count": null,
      "metadata": {
        "id": "T9-5D_-FxwmG"
      },
      "outputs": [],
      "source": []
    },
    {
      "cell_type": "code",
      "execution_count": null,
      "metadata": {
        "id": "Du3r7929xwmG"
      },
      "outputs": [],
      "source": []
    },
    {
      "cell_type": "code",
      "execution_count": null,
      "metadata": {
        "id": "VABOWaYvxwmG"
      },
      "outputs": [],
      "source": []
    },
    {
      "cell_type": "code",
      "execution_count": null,
      "metadata": {
        "id": "_u14VxRVxwmG"
      },
      "outputs": [],
      "source": []
    },
    {
      "cell_type": "code",
      "execution_count": null,
      "metadata": {
        "id": "5WL-JvlExwmG"
      },
      "outputs": [],
      "source": []
    },
    {
      "cell_type": "code",
      "execution_count": null,
      "metadata": {
        "id": "CLNQVXrzxwmG"
      },
      "outputs": [],
      "source": []
    },
    {
      "cell_type": "code",
      "execution_count": null,
      "metadata": {
        "id": "3owtrrEyxwmG"
      },
      "outputs": [],
      "source": []
    },
    {
      "cell_type": "code",
      "execution_count": null,
      "metadata": {
        "id": "VFQvwofjxwmG"
      },
      "outputs": [],
      "source": []
    },
    {
      "cell_type": "code",
      "execution_count": null,
      "metadata": {
        "id": "t0Rjd2rCxwmG"
      },
      "outputs": [],
      "source": []
    },
    {
      "cell_type": "code",
      "execution_count": null,
      "metadata": {
        "id": "39WJuFNCxwmG"
      },
      "outputs": [],
      "source": []
    }
  ],
  "metadata": {
    "kernelspec": {
      "display_name": "Python 3 (ipykernel)",
      "language": "python",
      "name": "python3"
    },
    "language_info": {
      "codemirror_mode": {
        "name": "ipython",
        "version": 3
      },
      "file_extension": ".py",
      "mimetype": "text/x-python",
      "name": "python",
      "nbconvert_exporter": "python",
      "pygments_lexer": "ipython3",
      "version": "3.9.13"
    },
    "colab": {
      "provenance": [],
      "include_colab_link": true
    }
  },
  "nbformat": 4,
  "nbformat_minor": 0
}