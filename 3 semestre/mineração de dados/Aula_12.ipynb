{
  "cells": [
    {
      "cell_type": "markdown",
      "metadata": {
        "id": "nwS3BKSzWH0c"
      },
      "source": [
        "# 1 Business Intelligence (BI) e Ciclo Analítico de Inteligência de Dados\n",
        "\n",
        "O BI é uma estratégia focada na análise de dados corporativos e na apresentação de informações acionáveis para ajudar os executivos, gerentes e outros usuários finais corporativos a tomar decisões de negócios informadas. O ciclo analítico de inteligência de dados é um processo que inclui várias etapas, desde a definição do problema até a comunicação dos resultados.\n",
        "\n",
        "## Importância do BI e do Ciclo Analítico de Inteligência de Dados\n",
        "\n",
        "Ambos são fundamentais para transformar dados brutos em insights significativos que podem impulsionar o sucesso do negócio. As organizações usam BI e análise de dados para identificar e resolver problemas, melhorar a eficiência, aumentar a produtividade e obter uma vantagem competitiva.\n",
        "\n",
        "*Exemplos reais:*\n",
        "1. Empresas de varejo utilizam BI para otimizar a cadeia de suprimentos, gerenciar inventário e melhorar a experiência do cliente.\n",
        "2. O setor de saúde usa análise de dados para melhorar o atendimento ao paciente, prever surtos de doenças e melhorar a eficiência operacional.\n",
        "\n",
        "\n",
        "# 2 - Fases do Projeto de BI\n",
        "\n",
        "Um projeto de BI normalmente passa pelas seguintes fases:\n",
        "\n",
        "1. **Estratégia de BI:** Definição dos objetivos e metas do projeto. Identificação das necessidades e expectativas dos usuários finais.\n",
        "\n",
        "2. **Análise de Requisitos:** Coleta e análise detalhada dos requisitos do usuário. Identificação das fontes de dados necessárias.\n",
        "\n",
        "3. **Design da Solução:** Design do data warehouse, esquema de dados, ETL, relatórios e painéis.\n",
        "\n",
        "4. **Implementação:** Desenvolvimento e teste do sistema de BI. Importação e transformação dos dados. Configuração dos relatórios e dashboards.\n",
        "\n",
        "5. **Entrega:** Lançamento do sistema de BI para os usuários finais. Treinamento e suporte.\n",
        "\n",
        "6. **Manutenção:** Monitoramento e atualização do sistema conforme necessário. Resolução de problemas e melhorias contínuas.\n",
        "\n",
        "Vamos explorar cada fase com mais detalhes."
      ]
    },
    {
      "cell_type": "code",
      "execution_count": 2,
      "metadata": {
        "id": "x0_pMhZAWH0f"
      },
      "outputs": [],
      "source": [
        "# Importando as bibliotecas necessárias\n",
        "import pandas as pd\n",
        "from sklearn.model_selection import train_test_split\n",
        "from sklearn.linear_model import LinearRegression\n",
        "from sklearn.preprocessing import LabelEncoder\n",
        "import numpy as np\n",
        "from sklearn.metrics import mean_squared_error, r2_score\n",
        "from keras.models import Sequential\n",
        "from keras.layers import Dense\n",
        "from keras.optimizers import Adam\n",
        "from keras.metrics import MeanSquaredError\n",
        "from keras.callbacks import EarlyStopping\n",
        "from sklearn.preprocessing import MinMaxScaler\n",
        "\n",
        "# 1. Estratégia de BI\n",
        "# Definição dos objetivos: Vamos tentar prever a quantidade vendida com base nas outras características do conjunto de dados.\n",
        "\n",
        "# 2. Análise de Requisitos\n",
        "# Identificamos que precisamos das informações de quantidade vendida e das outras características como requisitos para nosso modelo.\n",
        "\n",
        "# 3. Design da Solução\n",
        "# Nosso data warehouse será o próprio dataframe do pandas. Vamos usar um modelo de regressão linear para prever a quantidade vendida.\n",
        "\n",
        "# 4. Implementação\n",
        "# Carregando os dados\n",
        "df = pd.read_csv('superstore_dataset.csv')"
      ]
    },
    {
      "cell_type": "code",
      "execution_count": 3,
      "metadata": {
        "colab": {
          "base_uri": "https://localhost:8080/",
          "height": 226
        },
        "id": "iClWypvjWH0g",
        "outputId": "d967aa9c-096a-46a6-c392-1e91a2f42db2"
      },
      "outputs": [
        {
          "output_type": "execute_result",
          "data": {
            "text/plain": [
              "   Row ID      Order ID Order Date Ship Date       Ship Mode Customer ID  \\\n",
              "0   42433  AG-2011-2040   1/1/2011  6/1/2011  Standard Class    TB-11280   \n",
              "\n",
              "     Customer Name   Segment         City        State  ...        Product ID  \\\n",
              "0  Toby Braunhardt  Consumer  Constantine  Constantine  ...  OFF-TEN-10000025   \n",
              "\n",
              "          Category Sub-Category         Product Name  Sales Quantity Discount  \\\n",
              "0  Office Supplies      Storage  Tenex Lockers, Blue  408.3        2      0.0   \n",
              "\n",
              "   Profit  Shipping Cost  Order Priority  \n",
              "0  106.14          35.46          Medium  \n",
              "\n",
              "[1 rows x 24 columns]"
            ],
            "text/html": [
              "\n",
              "  <div id=\"df-613206c5-4b24-4669-9bbe-6c1aee8ebb1d\">\n",
              "    <div class=\"colab-df-container\">\n",
              "      <div>\n",
              "<style scoped>\n",
              "    .dataframe tbody tr th:only-of-type {\n",
              "        vertical-align: middle;\n",
              "    }\n",
              "\n",
              "    .dataframe tbody tr th {\n",
              "        vertical-align: top;\n",
              "    }\n",
              "\n",
              "    .dataframe thead th {\n",
              "        text-align: right;\n",
              "    }\n",
              "</style>\n",
              "<table border=\"1\" class=\"dataframe\">\n",
              "  <thead>\n",
              "    <tr style=\"text-align: right;\">\n",
              "      <th></th>\n",
              "      <th>Row ID</th>\n",
              "      <th>Order ID</th>\n",
              "      <th>Order Date</th>\n",
              "      <th>Ship Date</th>\n",
              "      <th>Ship Mode</th>\n",
              "      <th>Customer ID</th>\n",
              "      <th>Customer Name</th>\n",
              "      <th>Segment</th>\n",
              "      <th>City</th>\n",
              "      <th>State</th>\n",
              "      <th>...</th>\n",
              "      <th>Product ID</th>\n",
              "      <th>Category</th>\n",
              "      <th>Sub-Category</th>\n",
              "      <th>Product Name</th>\n",
              "      <th>Sales</th>\n",
              "      <th>Quantity</th>\n",
              "      <th>Discount</th>\n",
              "      <th>Profit</th>\n",
              "      <th>Shipping Cost</th>\n",
              "      <th>Order Priority</th>\n",
              "    </tr>\n",
              "  </thead>\n",
              "  <tbody>\n",
              "    <tr>\n",
              "      <th>0</th>\n",
              "      <td>42433</td>\n",
              "      <td>AG-2011-2040</td>\n",
              "      <td>1/1/2011</td>\n",
              "      <td>6/1/2011</td>\n",
              "      <td>Standard Class</td>\n",
              "      <td>TB-11280</td>\n",
              "      <td>Toby Braunhardt</td>\n",
              "      <td>Consumer</td>\n",
              "      <td>Constantine</td>\n",
              "      <td>Constantine</td>\n",
              "      <td>...</td>\n",
              "      <td>OFF-TEN-10000025</td>\n",
              "      <td>Office Supplies</td>\n",
              "      <td>Storage</td>\n",
              "      <td>Tenex Lockers, Blue</td>\n",
              "      <td>408.3</td>\n",
              "      <td>2</td>\n",
              "      <td>0.0</td>\n",
              "      <td>106.14</td>\n",
              "      <td>35.46</td>\n",
              "      <td>Medium</td>\n",
              "    </tr>\n",
              "  </tbody>\n",
              "</table>\n",
              "<p>1 rows × 24 columns</p>\n",
              "</div>\n",
              "      <button class=\"colab-df-convert\" onclick=\"convertToInteractive('df-613206c5-4b24-4669-9bbe-6c1aee8ebb1d')\"\n",
              "              title=\"Convert this dataframe to an interactive table.\"\n",
              "              style=\"display:none;\">\n",
              "        \n",
              "  <svg xmlns=\"http://www.w3.org/2000/svg\" height=\"24px\"viewBox=\"0 0 24 24\"\n",
              "       width=\"24px\">\n",
              "    <path d=\"M0 0h24v24H0V0z\" fill=\"none\"/>\n",
              "    <path d=\"M18.56 5.44l.94 2.06.94-2.06 2.06-.94-2.06-.94-.94-2.06-.94 2.06-2.06.94zm-11 1L8.5 8.5l.94-2.06 2.06-.94-2.06-.94L8.5 2.5l-.94 2.06-2.06.94zm10 10l.94 2.06.94-2.06 2.06-.94-2.06-.94-.94-2.06-.94 2.06-2.06.94z\"/><path d=\"M17.41 7.96l-1.37-1.37c-.4-.4-.92-.59-1.43-.59-.52 0-1.04.2-1.43.59L10.3 9.45l-7.72 7.72c-.78.78-.78 2.05 0 2.83L4 21.41c.39.39.9.59 1.41.59.51 0 1.02-.2 1.41-.59l7.78-7.78 2.81-2.81c.8-.78.8-2.07 0-2.86zM5.41 20L4 18.59l7.72-7.72 1.47 1.35L5.41 20z\"/>\n",
              "  </svg>\n",
              "      </button>\n",
              "      \n",
              "  <style>\n",
              "    .colab-df-container {\n",
              "      display:flex;\n",
              "      flex-wrap:wrap;\n",
              "      gap: 12px;\n",
              "    }\n",
              "\n",
              "    .colab-df-convert {\n",
              "      background-color: #E8F0FE;\n",
              "      border: none;\n",
              "      border-radius: 50%;\n",
              "      cursor: pointer;\n",
              "      display: none;\n",
              "      fill: #1967D2;\n",
              "      height: 32px;\n",
              "      padding: 0 0 0 0;\n",
              "      width: 32px;\n",
              "    }\n",
              "\n",
              "    .colab-df-convert:hover {\n",
              "      background-color: #E2EBFA;\n",
              "      box-shadow: 0px 1px 2px rgba(60, 64, 67, 0.3), 0px 1px 3px 1px rgba(60, 64, 67, 0.15);\n",
              "      fill: #174EA6;\n",
              "    }\n",
              "\n",
              "    [theme=dark] .colab-df-convert {\n",
              "      background-color: #3B4455;\n",
              "      fill: #D2E3FC;\n",
              "    }\n",
              "\n",
              "    [theme=dark] .colab-df-convert:hover {\n",
              "      background-color: #434B5C;\n",
              "      box-shadow: 0px 1px 3px 1px rgba(0, 0, 0, 0.15);\n",
              "      filter: drop-shadow(0px 1px 2px rgba(0, 0, 0, 0.3));\n",
              "      fill: #FFFFFF;\n",
              "    }\n",
              "  </style>\n",
              "\n",
              "      <script>\n",
              "        const buttonEl =\n",
              "          document.querySelector('#df-613206c5-4b24-4669-9bbe-6c1aee8ebb1d button.colab-df-convert');\n",
              "        buttonEl.style.display =\n",
              "          google.colab.kernel.accessAllowed ? 'block' : 'none';\n",
              "\n",
              "        async function convertToInteractive(key) {\n",
              "          const element = document.querySelector('#df-613206c5-4b24-4669-9bbe-6c1aee8ebb1d');\n",
              "          const dataTable =\n",
              "            await google.colab.kernel.invokeFunction('convertToInteractive',\n",
              "                                                     [key], {});\n",
              "          if (!dataTable) return;\n",
              "\n",
              "          const docLinkHtml = 'Like what you see? Visit the ' +\n",
              "            '<a target=\"_blank\" href=https://colab.research.google.com/notebooks/data_table.ipynb>data table notebook</a>'\n",
              "            + ' to learn more about interactive tables.';\n",
              "          element.innerHTML = '';\n",
              "          dataTable['output_type'] = 'display_data';\n",
              "          await google.colab.output.renderOutput(dataTable, element);\n",
              "          const docLink = document.createElement('div');\n",
              "          docLink.innerHTML = docLinkHtml;\n",
              "          element.appendChild(docLink);\n",
              "        }\n",
              "      </script>\n",
              "    </div>\n",
              "  </div>\n",
              "  "
            ]
          },
          "metadata": {},
          "execution_count": 3
        }
      ],
      "source": [
        "df.head(1)"
      ]
    },
    {
      "cell_type": "code",
      "execution_count": 4,
      "metadata": {
        "colab": {
          "base_uri": "https://localhost:8080/"
        },
        "id": "gA6Efo1vWH0g",
        "outputId": "4e41d6ff-e131-4438-9f73-1b35695e173e"
      },
      "outputs": [
        {
          "output_type": "stream",
          "name": "stdout",
          "text": [
            "<class 'pandas.core.frame.DataFrame'>\n",
            "RangeIndex: 51290 entries, 0 to 51289\n",
            "Data columns (total 24 columns):\n",
            " #   Column          Non-Null Count  Dtype  \n",
            "---  ------          --------------  -----  \n",
            " 0   Row ID          51290 non-null  int64  \n",
            " 1   Order ID        51290 non-null  object \n",
            " 2   Order Date      51290 non-null  object \n",
            " 3   Ship Date       51290 non-null  object \n",
            " 4   Ship Mode       51290 non-null  object \n",
            " 5   Customer ID     51290 non-null  object \n",
            " 6   Customer Name   51290 non-null  object \n",
            " 7   Segment         51290 non-null  object \n",
            " 8   City            51290 non-null  object \n",
            " 9   State           51290 non-null  object \n",
            " 10  Country         51290 non-null  object \n",
            " 11  Postal Code     9994 non-null   float64\n",
            " 12  Market          51290 non-null  object \n",
            " 13  Region          51290 non-null  object \n",
            " 14  Product ID      51290 non-null  object \n",
            " 15  Category        51290 non-null  object \n",
            " 16  Sub-Category    51290 non-null  object \n",
            " 17  Product Name    51290 non-null  object \n",
            " 18  Sales           51290 non-null  float64\n",
            " 19  Quantity        51290 non-null  int64  \n",
            " 20  Discount        51290 non-null  float64\n",
            " 21  Profit          51290 non-null  float64\n",
            " 22  Shipping Cost   51290 non-null  float64\n",
            " 23  Order Priority  51290 non-null  object \n",
            "dtypes: float64(5), int64(2), object(17)\n",
            "memory usage: 9.4+ MB\n"
          ]
        }
      ],
      "source": [
        "df.info()"
      ]
    },
    {
      "cell_type": "code",
      "execution_count": null,
      "metadata": {
        "colab": {
          "base_uri": "https://localhost:8080/",
          "height": 300
        },
        "id": "GKIzuF3GWH0g",
        "outputId": "ea44f9af-17c8-46b8-dcc5-66a129f03d66"
      },
      "outputs": [
        {
          "output_type": "execute_result",
          "data": {
            "text/plain": [
              "            Row ID   Postal Code         Sales      Quantity      Discount  \\\n",
              "count  51290.00000   9994.000000  51290.000000  51290.000000  51290.000000   \n",
              "mean   25645.50000  55190.379428    246.490581      3.476545      0.142908   \n",
              "std    14806.29199  32063.693350    487.565361      2.278766      0.212280   \n",
              "min        1.00000   1040.000000      0.444000      1.000000      0.000000   \n",
              "25%    12823.25000  23223.000000     30.758625      2.000000      0.000000   \n",
              "50%    25645.50000  56430.500000     85.053000      3.000000      0.000000   \n",
              "75%    38467.75000  90008.000000    251.053200      5.000000      0.200000   \n",
              "max    51290.00000  99301.000000  22638.480000     14.000000      0.850000   \n",
              "\n",
              "             Profit  Shipping Cost  \n",
              "count  51290.000000   51290.000000  \n",
              "mean      28.610982      26.375915  \n",
              "std      174.340972      57.296804  \n",
              "min    -6599.978000       0.000000  \n",
              "25%        0.000000       2.610000  \n",
              "50%        9.240000       7.790000  \n",
              "75%       36.810000      24.450000  \n",
              "max     8399.976000     933.570000  "
            ],
            "text/html": [
              "\n",
              "  <div id=\"df-7c845fb8-44d1-4e8a-88d2-745ab9ebf7b5\">\n",
              "    <div class=\"colab-df-container\">\n",
              "      <div>\n",
              "<style scoped>\n",
              "    .dataframe tbody tr th:only-of-type {\n",
              "        vertical-align: middle;\n",
              "    }\n",
              "\n",
              "    .dataframe tbody tr th {\n",
              "        vertical-align: top;\n",
              "    }\n",
              "\n",
              "    .dataframe thead th {\n",
              "        text-align: right;\n",
              "    }\n",
              "</style>\n",
              "<table border=\"1\" class=\"dataframe\">\n",
              "  <thead>\n",
              "    <tr style=\"text-align: right;\">\n",
              "      <th></th>\n",
              "      <th>Row ID</th>\n",
              "      <th>Postal Code</th>\n",
              "      <th>Sales</th>\n",
              "      <th>Quantity</th>\n",
              "      <th>Discount</th>\n",
              "      <th>Profit</th>\n",
              "      <th>Shipping Cost</th>\n",
              "    </tr>\n",
              "  </thead>\n",
              "  <tbody>\n",
              "    <tr>\n",
              "      <th>count</th>\n",
              "      <td>51290.00000</td>\n",
              "      <td>9994.000000</td>\n",
              "      <td>51290.000000</td>\n",
              "      <td>51290.000000</td>\n",
              "      <td>51290.000000</td>\n",
              "      <td>51290.000000</td>\n",
              "      <td>51290.000000</td>\n",
              "    </tr>\n",
              "    <tr>\n",
              "      <th>mean</th>\n",
              "      <td>25645.50000</td>\n",
              "      <td>55190.379428</td>\n",
              "      <td>246.490581</td>\n",
              "      <td>3.476545</td>\n",
              "      <td>0.142908</td>\n",
              "      <td>28.610982</td>\n",
              "      <td>26.375915</td>\n",
              "    </tr>\n",
              "    <tr>\n",
              "      <th>std</th>\n",
              "      <td>14806.29199</td>\n",
              "      <td>32063.693350</td>\n",
              "      <td>487.565361</td>\n",
              "      <td>2.278766</td>\n",
              "      <td>0.212280</td>\n",
              "      <td>174.340972</td>\n",
              "      <td>57.296804</td>\n",
              "    </tr>\n",
              "    <tr>\n",
              "      <th>min</th>\n",
              "      <td>1.00000</td>\n",
              "      <td>1040.000000</td>\n",
              "      <td>0.444000</td>\n",
              "      <td>1.000000</td>\n",
              "      <td>0.000000</td>\n",
              "      <td>-6599.978000</td>\n",
              "      <td>0.000000</td>\n",
              "    </tr>\n",
              "    <tr>\n",
              "      <th>25%</th>\n",
              "      <td>12823.25000</td>\n",
              "      <td>23223.000000</td>\n",
              "      <td>30.758625</td>\n",
              "      <td>2.000000</td>\n",
              "      <td>0.000000</td>\n",
              "      <td>0.000000</td>\n",
              "      <td>2.610000</td>\n",
              "    </tr>\n",
              "    <tr>\n",
              "      <th>50%</th>\n",
              "      <td>25645.50000</td>\n",
              "      <td>56430.500000</td>\n",
              "      <td>85.053000</td>\n",
              "      <td>3.000000</td>\n",
              "      <td>0.000000</td>\n",
              "      <td>9.240000</td>\n",
              "      <td>7.790000</td>\n",
              "    </tr>\n",
              "    <tr>\n",
              "      <th>75%</th>\n",
              "      <td>38467.75000</td>\n",
              "      <td>90008.000000</td>\n",
              "      <td>251.053200</td>\n",
              "      <td>5.000000</td>\n",
              "      <td>0.200000</td>\n",
              "      <td>36.810000</td>\n",
              "      <td>24.450000</td>\n",
              "    </tr>\n",
              "    <tr>\n",
              "      <th>max</th>\n",
              "      <td>51290.00000</td>\n",
              "      <td>99301.000000</td>\n",
              "      <td>22638.480000</td>\n",
              "      <td>14.000000</td>\n",
              "      <td>0.850000</td>\n",
              "      <td>8399.976000</td>\n",
              "      <td>933.570000</td>\n",
              "    </tr>\n",
              "  </tbody>\n",
              "</table>\n",
              "</div>\n",
              "      <button class=\"colab-df-convert\" onclick=\"convertToInteractive('df-7c845fb8-44d1-4e8a-88d2-745ab9ebf7b5')\"\n",
              "              title=\"Convert this dataframe to an interactive table.\"\n",
              "              style=\"display:none;\">\n",
              "        \n",
              "  <svg xmlns=\"http://www.w3.org/2000/svg\" height=\"24px\"viewBox=\"0 0 24 24\"\n",
              "       width=\"24px\">\n",
              "    <path d=\"M0 0h24v24H0V0z\" fill=\"none\"/>\n",
              "    <path d=\"M18.56 5.44l.94 2.06.94-2.06 2.06-.94-2.06-.94-.94-2.06-.94 2.06-2.06.94zm-11 1L8.5 8.5l.94-2.06 2.06-.94-2.06-.94L8.5 2.5l-.94 2.06-2.06.94zm10 10l.94 2.06.94-2.06 2.06-.94-2.06-.94-.94-2.06-.94 2.06-2.06.94z\"/><path d=\"M17.41 7.96l-1.37-1.37c-.4-.4-.92-.59-1.43-.59-.52 0-1.04.2-1.43.59L10.3 9.45l-7.72 7.72c-.78.78-.78 2.05 0 2.83L4 21.41c.39.39.9.59 1.41.59.51 0 1.02-.2 1.41-.59l7.78-7.78 2.81-2.81c.8-.78.8-2.07 0-2.86zM5.41 20L4 18.59l7.72-7.72 1.47 1.35L5.41 20z\"/>\n",
              "  </svg>\n",
              "      </button>\n",
              "      \n",
              "  <style>\n",
              "    .colab-df-container {\n",
              "      display:flex;\n",
              "      flex-wrap:wrap;\n",
              "      gap: 12px;\n",
              "    }\n",
              "\n",
              "    .colab-df-convert {\n",
              "      background-color: #E8F0FE;\n",
              "      border: none;\n",
              "      border-radius: 50%;\n",
              "      cursor: pointer;\n",
              "      display: none;\n",
              "      fill: #1967D2;\n",
              "      height: 32px;\n",
              "      padding: 0 0 0 0;\n",
              "      width: 32px;\n",
              "    }\n",
              "\n",
              "    .colab-df-convert:hover {\n",
              "      background-color: #E2EBFA;\n",
              "      box-shadow: 0px 1px 2px rgba(60, 64, 67, 0.3), 0px 1px 3px 1px rgba(60, 64, 67, 0.15);\n",
              "      fill: #174EA6;\n",
              "    }\n",
              "\n",
              "    [theme=dark] .colab-df-convert {\n",
              "      background-color: #3B4455;\n",
              "      fill: #D2E3FC;\n",
              "    }\n",
              "\n",
              "    [theme=dark] .colab-df-convert:hover {\n",
              "      background-color: #434B5C;\n",
              "      box-shadow: 0px 1px 3px 1px rgba(0, 0, 0, 0.15);\n",
              "      filter: drop-shadow(0px 1px 2px rgba(0, 0, 0, 0.3));\n",
              "      fill: #FFFFFF;\n",
              "    }\n",
              "  </style>\n",
              "\n",
              "      <script>\n",
              "        const buttonEl =\n",
              "          document.querySelector('#df-7c845fb8-44d1-4e8a-88d2-745ab9ebf7b5 button.colab-df-convert');\n",
              "        buttonEl.style.display =\n",
              "          google.colab.kernel.accessAllowed ? 'block' : 'none';\n",
              "\n",
              "        async function convertToInteractive(key) {\n",
              "          const element = document.querySelector('#df-7c845fb8-44d1-4e8a-88d2-745ab9ebf7b5');\n",
              "          const dataTable =\n",
              "            await google.colab.kernel.invokeFunction('convertToInteractive',\n",
              "                                                     [key], {});\n",
              "          if (!dataTable) return;\n",
              "\n",
              "          const docLinkHtml = 'Like what you see? Visit the ' +\n",
              "            '<a target=\"_blank\" href=https://colab.research.google.com/notebooks/data_table.ipynb>data table notebook</a>'\n",
              "            + ' to learn more about interactive tables.';\n",
              "          element.innerHTML = '';\n",
              "          dataTable['output_type'] = 'display_data';\n",
              "          await google.colab.output.renderOutput(dataTable, element);\n",
              "          const docLink = document.createElement('div');\n",
              "          docLink.innerHTML = docLinkHtml;\n",
              "          element.appendChild(docLink);\n",
              "        }\n",
              "      </script>\n",
              "    </div>\n",
              "  </div>\n",
              "  "
            ]
          },
          "metadata": {},
          "execution_count": 4
        }
      ],
      "source": [
        "df.describe()"
      ]
    },
    {
      "cell_type": "code",
      "execution_count": null,
      "metadata": {
        "colab": {
          "base_uri": "https://localhost:8080/",
          "height": 291
        },
        "id": "mIHp3zeSWH0h",
        "outputId": "c6e12168-70bc-4582-8c4c-9b58603517d2"
      },
      "outputs": [
        {
          "output_type": "execute_result",
          "data": {
            "text/plain": [
              "              Order ID  Order Date   Ship Date       Ship Mode Customer ID  \\\n",
              "count            51290       51290       51290           51290       51290   \n",
              "unique           25035        1430        1464               4        1590   \n",
              "top     CA-2014-100111  18-06-2014  22-11-2014  Standard Class    PO-18850   \n",
              "freq                14         135         130           30775          97   \n",
              "\n",
              "          Customer Name   Segment           City       State        Country  \\\n",
              "count             51290     51290          51290       51290          51290   \n",
              "unique              795         3           3636        1094            147   \n",
              "top     Muhammed Yedwab  Consumer  New York City  California  United States   \n",
              "freq                108     26518            915        2001           9994   \n",
              "\n",
              "       Market   Region       Product ID         Category Sub-Category  \\\n",
              "count   51290    51290            51290            51290        51290   \n",
              "unique      7       13            10292                3           17   \n",
              "top      APAC  Central  OFF-AR-10003651  Office Supplies      Binders   \n",
              "freq    11002    11117               35            31273         6152   \n",
              "\n",
              "       Product Name Order Priority  \n",
              "count         51290          51290  \n",
              "unique         3788              4  \n",
              "top         Staples         Medium  \n",
              "freq            227          29433  "
            ],
            "text/html": [
              "\n",
              "  <div id=\"df-2dfe96f2-dd2a-4a2d-ba8d-77e33118986e\">\n",
              "    <div class=\"colab-df-container\">\n",
              "      <div>\n",
              "<style scoped>\n",
              "    .dataframe tbody tr th:only-of-type {\n",
              "        vertical-align: middle;\n",
              "    }\n",
              "\n",
              "    .dataframe tbody tr th {\n",
              "        vertical-align: top;\n",
              "    }\n",
              "\n",
              "    .dataframe thead th {\n",
              "        text-align: right;\n",
              "    }\n",
              "</style>\n",
              "<table border=\"1\" class=\"dataframe\">\n",
              "  <thead>\n",
              "    <tr style=\"text-align: right;\">\n",
              "      <th></th>\n",
              "      <th>Order ID</th>\n",
              "      <th>Order Date</th>\n",
              "      <th>Ship Date</th>\n",
              "      <th>Ship Mode</th>\n",
              "      <th>Customer ID</th>\n",
              "      <th>Customer Name</th>\n",
              "      <th>Segment</th>\n",
              "      <th>City</th>\n",
              "      <th>State</th>\n",
              "      <th>Country</th>\n",
              "      <th>Market</th>\n",
              "      <th>Region</th>\n",
              "      <th>Product ID</th>\n",
              "      <th>Category</th>\n",
              "      <th>Sub-Category</th>\n",
              "      <th>Product Name</th>\n",
              "      <th>Order Priority</th>\n",
              "    </tr>\n",
              "  </thead>\n",
              "  <tbody>\n",
              "    <tr>\n",
              "      <th>count</th>\n",
              "      <td>51290</td>\n",
              "      <td>51290</td>\n",
              "      <td>51290</td>\n",
              "      <td>51290</td>\n",
              "      <td>51290</td>\n",
              "      <td>51290</td>\n",
              "      <td>51290</td>\n",
              "      <td>51290</td>\n",
              "      <td>51290</td>\n",
              "      <td>51290</td>\n",
              "      <td>51290</td>\n",
              "      <td>51290</td>\n",
              "      <td>51290</td>\n",
              "      <td>51290</td>\n",
              "      <td>51290</td>\n",
              "      <td>51290</td>\n",
              "      <td>51290</td>\n",
              "    </tr>\n",
              "    <tr>\n",
              "      <th>unique</th>\n",
              "      <td>25035</td>\n",
              "      <td>1430</td>\n",
              "      <td>1464</td>\n",
              "      <td>4</td>\n",
              "      <td>1590</td>\n",
              "      <td>795</td>\n",
              "      <td>3</td>\n",
              "      <td>3636</td>\n",
              "      <td>1094</td>\n",
              "      <td>147</td>\n",
              "      <td>7</td>\n",
              "      <td>13</td>\n",
              "      <td>10292</td>\n",
              "      <td>3</td>\n",
              "      <td>17</td>\n",
              "      <td>3788</td>\n",
              "      <td>4</td>\n",
              "    </tr>\n",
              "    <tr>\n",
              "      <th>top</th>\n",
              "      <td>CA-2014-100111</td>\n",
              "      <td>18-06-2014</td>\n",
              "      <td>22-11-2014</td>\n",
              "      <td>Standard Class</td>\n",
              "      <td>PO-18850</td>\n",
              "      <td>Muhammed Yedwab</td>\n",
              "      <td>Consumer</td>\n",
              "      <td>New York City</td>\n",
              "      <td>California</td>\n",
              "      <td>United States</td>\n",
              "      <td>APAC</td>\n",
              "      <td>Central</td>\n",
              "      <td>OFF-AR-10003651</td>\n",
              "      <td>Office Supplies</td>\n",
              "      <td>Binders</td>\n",
              "      <td>Staples</td>\n",
              "      <td>Medium</td>\n",
              "    </tr>\n",
              "    <tr>\n",
              "      <th>freq</th>\n",
              "      <td>14</td>\n",
              "      <td>135</td>\n",
              "      <td>130</td>\n",
              "      <td>30775</td>\n",
              "      <td>97</td>\n",
              "      <td>108</td>\n",
              "      <td>26518</td>\n",
              "      <td>915</td>\n",
              "      <td>2001</td>\n",
              "      <td>9994</td>\n",
              "      <td>11002</td>\n",
              "      <td>11117</td>\n",
              "      <td>35</td>\n",
              "      <td>31273</td>\n",
              "      <td>6152</td>\n",
              "      <td>227</td>\n",
              "      <td>29433</td>\n",
              "    </tr>\n",
              "  </tbody>\n",
              "</table>\n",
              "</div>\n",
              "      <button class=\"colab-df-convert\" onclick=\"convertToInteractive('df-2dfe96f2-dd2a-4a2d-ba8d-77e33118986e')\"\n",
              "              title=\"Convert this dataframe to an interactive table.\"\n",
              "              style=\"display:none;\">\n",
              "        \n",
              "  <svg xmlns=\"http://www.w3.org/2000/svg\" height=\"24px\"viewBox=\"0 0 24 24\"\n",
              "       width=\"24px\">\n",
              "    <path d=\"M0 0h24v24H0V0z\" fill=\"none\"/>\n",
              "    <path d=\"M18.56 5.44l.94 2.06.94-2.06 2.06-.94-2.06-.94-.94-2.06-.94 2.06-2.06.94zm-11 1L8.5 8.5l.94-2.06 2.06-.94-2.06-.94L8.5 2.5l-.94 2.06-2.06.94zm10 10l.94 2.06.94-2.06 2.06-.94-2.06-.94-.94-2.06-.94 2.06-2.06.94z\"/><path d=\"M17.41 7.96l-1.37-1.37c-.4-.4-.92-.59-1.43-.59-.52 0-1.04.2-1.43.59L10.3 9.45l-7.72 7.72c-.78.78-.78 2.05 0 2.83L4 21.41c.39.39.9.59 1.41.59.51 0 1.02-.2 1.41-.59l7.78-7.78 2.81-2.81c.8-.78.8-2.07 0-2.86zM5.41 20L4 18.59l7.72-7.72 1.47 1.35L5.41 20z\"/>\n",
              "  </svg>\n",
              "      </button>\n",
              "      \n",
              "  <style>\n",
              "    .colab-df-container {\n",
              "      display:flex;\n",
              "      flex-wrap:wrap;\n",
              "      gap: 12px;\n",
              "    }\n",
              "\n",
              "    .colab-df-convert {\n",
              "      background-color: #E8F0FE;\n",
              "      border: none;\n",
              "      border-radius: 50%;\n",
              "      cursor: pointer;\n",
              "      display: none;\n",
              "      fill: #1967D2;\n",
              "      height: 32px;\n",
              "      padding: 0 0 0 0;\n",
              "      width: 32px;\n",
              "    }\n",
              "\n",
              "    .colab-df-convert:hover {\n",
              "      background-color: #E2EBFA;\n",
              "      box-shadow: 0px 1px 2px rgba(60, 64, 67, 0.3), 0px 1px 3px 1px rgba(60, 64, 67, 0.15);\n",
              "      fill: #174EA6;\n",
              "    }\n",
              "\n",
              "    [theme=dark] .colab-df-convert {\n",
              "      background-color: #3B4455;\n",
              "      fill: #D2E3FC;\n",
              "    }\n",
              "\n",
              "    [theme=dark] .colab-df-convert:hover {\n",
              "      background-color: #434B5C;\n",
              "      box-shadow: 0px 1px 3px 1px rgba(0, 0, 0, 0.15);\n",
              "      filter: drop-shadow(0px 1px 2px rgba(0, 0, 0, 0.3));\n",
              "      fill: #FFFFFF;\n",
              "    }\n",
              "  </style>\n",
              "\n",
              "      <script>\n",
              "        const buttonEl =\n",
              "          document.querySelector('#df-2dfe96f2-dd2a-4a2d-ba8d-77e33118986e button.colab-df-convert');\n",
              "        buttonEl.style.display =\n",
              "          google.colab.kernel.accessAllowed ? 'block' : 'none';\n",
              "\n",
              "        async function convertToInteractive(key) {\n",
              "          const element = document.querySelector('#df-2dfe96f2-dd2a-4a2d-ba8d-77e33118986e');\n",
              "          const dataTable =\n",
              "            await google.colab.kernel.invokeFunction('convertToInteractive',\n",
              "                                                     [key], {});\n",
              "          if (!dataTable) return;\n",
              "\n",
              "          const docLinkHtml = 'Like what you see? Visit the ' +\n",
              "            '<a target=\"_blank\" href=https://colab.research.google.com/notebooks/data_table.ipynb>data table notebook</a>'\n",
              "            + ' to learn more about interactive tables.';\n",
              "          element.innerHTML = '';\n",
              "          dataTable['output_type'] = 'display_data';\n",
              "          await google.colab.output.renderOutput(dataTable, element);\n",
              "          const docLink = document.createElement('div');\n",
              "          docLink.innerHTML = docLinkHtml;\n",
              "          element.appendChild(docLink);\n",
              "        }\n",
              "      </script>\n",
              "    </div>\n",
              "  </div>\n",
              "  "
            ]
          },
          "metadata": {},
          "execution_count": 5
        }
      ],
      "source": [
        "df.describe(include = 'O')"
      ]
    },
    {
      "cell_type": "code",
      "execution_count": null,
      "metadata": {
        "colab": {
          "base_uri": "https://localhost:8080/"
        },
        "id": "lBeiPCIAWH0h",
        "outputId": "0c0682ef-150b-41dd-e9f8-85443812f75a"
      },
      "outputs": [
        {
          "output_type": "execute_result",
          "data": {
            "text/plain": [
              "Row ID             0.0000\n",
              "Order ID           0.0000\n",
              "Order Date         0.0000\n",
              "Ship Date          0.0000\n",
              "Ship Mode          0.0000\n",
              "Customer ID        0.0000\n",
              "Customer Name      0.0000\n",
              "Segment            0.0000\n",
              "City               0.0000\n",
              "State              0.0000\n",
              "Country            0.0032\n",
              "Postal Code       80.6510\n",
              "Market             0.0032\n",
              "Region             0.0032\n",
              "Product ID         0.0032\n",
              "Category           0.0032\n",
              "Sub-Category       0.0032\n",
              "Product Name       0.0032\n",
              "Sales              0.0032\n",
              "Quantity           0.0032\n",
              "Discount           0.0032\n",
              "Profit             0.0032\n",
              "Shipping Cost      0.0032\n",
              "Order Priority     0.0032\n",
              "dtype: float64"
            ]
          },
          "metadata": {},
          "execution_count": 2
        }
      ],
      "source": [
        "round(df.isna().sum() * 100 / len(df),4)"
      ]
    },
    {
      "cell_type": "code",
      "execution_count": 5,
      "metadata": {
        "id": "NK37NMi6WH0h"
      },
      "outputs": [],
      "source": [
        "# Tratando valores nulos\n",
        "# Apagando colunas com mais de 40% de valores nulos\n",
        "df.drop('Postal Code', axis=1, inplace = True)\n",
        "\n",
        "# Excluindo coluna irrelevante\n",
        "df.drop('Row ID', axis=1, inplace = True)\n",
        "\n",
        "\n",
        "# Substituindo valores nulos pela média (colunas numéricas) ou pela moda (colunas categóricas)\n",
        "for column in df.columns:\n",
        "    if df[column].dtype == 'object':\n",
        "        df[column].fillna(df[column].mode()[0], inplace=True)\n",
        "    else:\n",
        "        df[column].fillna(df[column].mean(), inplace=True)\n",
        "\n",
        "# Preparando os dados\n",
        "features = df.drop('Quantity', axis=1) # X\n",
        "target = df[['Quantity']] # y\n",
        "\n",
        "# Convertendo categorias em variáveis numéricas\n",
        "label_encoder = LabelEncoder()\n",
        "for column in features.columns:\n",
        "    if features[column].dtype == 'object':\n",
        "        features[column] = label_encoder.fit_transform(features[column])\n",
        "\n",
        "# Criando os normalizadores\n",
        "normalizador_features = MinMaxScaler()\n",
        "normalizador_target = MinMaxScaler()\n",
        "\n",
        "# Normalizando as features\n",
        "features = normalizador_features.fit_transform(features)\n",
        "\n",
        "# Normalizando o target\n",
        "target = normalizador_target.fit_transform(target)\n",
        "\n",
        "# Dividindo os dados em conjuntos de treinamento, validação e teste\n",
        "features_train, features_test, target_train, target_test = train_test_split(features, target, test_size=0.2, random_state=42)\n",
        "features_train, features_val, target_train, target_val = train_test_split(features_train, target_train, test_size=0.25, random_state=42) # 0.25 x 0.8 = 0.2"
      ]
    },
    {
      "cell_type": "code",
      "execution_count": 6,
      "metadata": {
        "colab": {
          "base_uri": "https://localhost:8080/"
        },
        "id": "Bp5OmothWH0h",
        "outputId": "d4946109-dab7-467f-ed37-b4a2253f60a0"
      },
      "outputs": [
        {
          "output_type": "stream",
          "name": "stdout",
          "text": [
            "Epoch 1/50\n",
            "962/962 [==============================] - 3s 2ms/step - loss: 0.0293 - mean_squared_error: 0.0293 - val_loss: 0.0276 - val_mean_squared_error: 0.0276\n",
            "Epoch 2/50\n",
            "962/962 [==============================] - 2s 2ms/step - loss: 0.0270 - mean_squared_error: 0.0270 - val_loss: 0.0263 - val_mean_squared_error: 0.0263\n",
            "Epoch 3/50\n",
            "962/962 [==============================] - 2s 2ms/step - loss: 0.0261 - mean_squared_error: 0.0261 - val_loss: 0.0259 - val_mean_squared_error: 0.0259\n",
            "Epoch 4/50\n",
            "962/962 [==============================] - 3s 3ms/step - loss: 0.0253 - mean_squared_error: 0.0253 - val_loss: 0.0252 - val_mean_squared_error: 0.0252\n",
            "Epoch 5/50\n",
            "962/962 [==============================] - 2s 2ms/step - loss: 0.0246 - mean_squared_error: 0.0246 - val_loss: 0.0236 - val_mean_squared_error: 0.0236\n",
            "Epoch 6/50\n",
            "962/962 [==============================] - 2s 2ms/step - loss: 0.0240 - mean_squared_error: 0.0240 - val_loss: 0.0260 - val_mean_squared_error: 0.0260\n",
            "Epoch 7/50\n",
            "962/962 [==============================] - 2s 2ms/step - loss: 0.0235 - mean_squared_error: 0.0235 - val_loss: 0.0234 - val_mean_squared_error: 0.0234\n",
            "Epoch 8/50\n",
            "962/962 [==============================] - 2s 2ms/step - loss: 0.0231 - mean_squared_error: 0.0231 - val_loss: 0.0240 - val_mean_squared_error: 0.0240\n",
            "Epoch 9/50\n",
            "962/962 [==============================] - 2s 2ms/step - loss: 0.0229 - mean_squared_error: 0.0229 - val_loss: 0.0228 - val_mean_squared_error: 0.0228\n",
            "Epoch 10/50\n",
            "962/962 [==============================] - 2s 2ms/step - loss: 0.0226 - mean_squared_error: 0.0226 - val_loss: 0.0229 - val_mean_squared_error: 0.0229\n",
            "Epoch 11/50\n",
            "962/962 [==============================] - 2s 2ms/step - loss: 0.0225 - mean_squared_error: 0.0225 - val_loss: 0.0225 - val_mean_squared_error: 0.0225\n",
            "Epoch 12/50\n",
            "962/962 [==============================] - 2s 2ms/step - loss: 0.0220 - mean_squared_error: 0.0220 - val_loss: 0.0221 - val_mean_squared_error: 0.0221\n",
            "Epoch 13/50\n",
            "962/962 [==============================] - 2s 2ms/step - loss: 0.0217 - mean_squared_error: 0.0217 - val_loss: 0.0229 - val_mean_squared_error: 0.0229\n",
            "Epoch 14/50\n",
            "962/962 [==============================] - 2s 2ms/step - loss: 0.0218 - mean_squared_error: 0.0218 - val_loss: 0.0214 - val_mean_squared_error: 0.0214\n",
            "Epoch 15/50\n",
            "962/962 [==============================] - 2s 2ms/step - loss: 0.0213 - mean_squared_error: 0.0213 - val_loss: 0.0215 - val_mean_squared_error: 0.0215\n",
            "Epoch 16/50\n",
            "962/962 [==============================] - 2s 2ms/step - loss: 0.0212 - mean_squared_error: 0.0212 - val_loss: 0.0218 - val_mean_squared_error: 0.0218\n",
            "Epoch 17/50\n",
            "962/962 [==============================] - 2s 2ms/step - loss: 0.0209 - mean_squared_error: 0.0209 - val_loss: 0.0213 - val_mean_squared_error: 0.0213\n",
            "Epoch 18/50\n",
            "962/962 [==============================] - 2s 2ms/step - loss: 0.0207 - mean_squared_error: 0.0207 - val_loss: 0.0222 - val_mean_squared_error: 0.0222\n",
            "Epoch 19/50\n",
            "962/962 [==============================] - 2s 2ms/step - loss: 0.0205 - mean_squared_error: 0.0205 - val_loss: 0.0215 - val_mean_squared_error: 0.0215\n",
            "Epoch 20/50\n",
            "962/962 [==============================] - 2s 2ms/step - loss: 0.0203 - mean_squared_error: 0.0203 - val_loss: 0.0206 - val_mean_squared_error: 0.0206\n",
            "Epoch 21/50\n",
            "962/962 [==============================] - 2s 2ms/step - loss: 0.0203 - mean_squared_error: 0.0203 - val_loss: 0.0207 - val_mean_squared_error: 0.0207\n",
            "Epoch 22/50\n",
            "962/962 [==============================] - 2s 2ms/step - loss: 0.0201 - mean_squared_error: 0.0201 - val_loss: 0.0216 - val_mean_squared_error: 0.0216\n",
            "Epoch 23/50\n",
            "962/962 [==============================] - 2s 2ms/step - loss: 0.0197 - mean_squared_error: 0.0197 - val_loss: 0.0204 - val_mean_squared_error: 0.0204\n",
            "Epoch 24/50\n",
            "962/962 [==============================] - 2s 2ms/step - loss: 0.0195 - mean_squared_error: 0.0195 - val_loss: 0.0209 - val_mean_squared_error: 0.0209\n",
            "Epoch 25/50\n",
            "962/962 [==============================] - 2s 2ms/step - loss: 0.0194 - mean_squared_error: 0.0194 - val_loss: 0.0209 - val_mean_squared_error: 0.0209\n",
            "Epoch 26/50\n",
            "962/962 [==============================] - 2s 2ms/step - loss: 0.0192 - mean_squared_error: 0.0192 - val_loss: 0.0194 - val_mean_squared_error: 0.0194\n",
            "Epoch 27/50\n",
            "962/962 [==============================] - 2s 2ms/step - loss: 0.0192 - mean_squared_error: 0.0192 - val_loss: 0.0205 - val_mean_squared_error: 0.0205\n",
            "Epoch 28/50\n",
            "962/962 [==============================] - 2s 2ms/step - loss: 0.0191 - mean_squared_error: 0.0191 - val_loss: 0.0198 - val_mean_squared_error: 0.0198\n",
            "Epoch 29/50\n",
            "962/962 [==============================] - 2s 2ms/step - loss: 0.0189 - mean_squared_error: 0.0189 - val_loss: 0.0200 - val_mean_squared_error: 0.0200\n",
            "Epoch 30/50\n",
            "962/962 [==============================] - 2s 2ms/step - loss: 0.0188 - mean_squared_error: 0.0188 - val_loss: 0.0197 - val_mean_squared_error: 0.0197\n",
            "Epoch 31/50\n",
            "962/962 [==============================] - 2s 2ms/step - loss: 0.0185 - mean_squared_error: 0.0185 - val_loss: 0.0196 - val_mean_squared_error: 0.0196\n",
            "Epoch 32/50\n",
            "962/962 [==============================] - 2s 2ms/step - loss: 0.0185 - mean_squared_error: 0.0185 - val_loss: 0.0190 - val_mean_squared_error: 0.0190\n",
            "Epoch 33/50\n",
            "962/962 [==============================] - 2s 2ms/step - loss: 0.0183 - mean_squared_error: 0.0183 - val_loss: 0.0191 - val_mean_squared_error: 0.0191\n",
            "Epoch 34/50\n",
            "962/962 [==============================] - 2s 2ms/step - loss: 0.0183 - mean_squared_error: 0.0183 - val_loss: 0.0203 - val_mean_squared_error: 0.0203\n",
            "Epoch 35/50\n",
            "962/962 [==============================] - 2s 2ms/step - loss: 0.0185 - mean_squared_error: 0.0185 - val_loss: 0.0190 - val_mean_squared_error: 0.0190\n",
            "Epoch 36/50\n",
            "962/962 [==============================] - 2s 2ms/step - loss: 0.0180 - mean_squared_error: 0.0180 - val_loss: 0.0200 - val_mean_squared_error: 0.0200\n",
            "Epoch 37/50\n",
            "962/962 [==============================] - 2s 2ms/step - loss: 0.0180 - mean_squared_error: 0.0180 - val_loss: 0.0189 - val_mean_squared_error: 0.0189\n",
            "Epoch 38/50\n",
            "962/962 [==============================] - 2s 2ms/step - loss: 0.0179 - mean_squared_error: 0.0179 - val_loss: 0.0188 - val_mean_squared_error: 0.0188\n",
            "Epoch 39/50\n",
            "962/962 [==============================] - 2s 2ms/step - loss: 0.0178 - mean_squared_error: 0.0178 - val_loss: 0.0198 - val_mean_squared_error: 0.0198\n",
            "Epoch 40/50\n",
            "962/962 [==============================] - 2s 2ms/step - loss: 0.0178 - mean_squared_error: 0.0178 - val_loss: 0.0198 - val_mean_squared_error: 0.0198\n",
            "Epoch 41/50\n",
            "962/962 [==============================] - 2s 2ms/step - loss: 0.0177 - mean_squared_error: 0.0177 - val_loss: 0.0212 - val_mean_squared_error: 0.0212\n",
            "Epoch 42/50\n",
            "962/962 [==============================] - 2s 2ms/step - loss: 0.0175 - mean_squared_error: 0.0175 - val_loss: 0.0194 - val_mean_squared_error: 0.0194\n",
            "Epoch 43/50\n",
            "962/962 [==============================] - 2s 2ms/step - loss: 0.0175 - mean_squared_error: 0.0175 - val_loss: 0.0190 - val_mean_squared_error: 0.0190\n",
            "Epoch 44/50\n",
            "962/962 [==============================] - 2s 2ms/step - loss: 0.0177 - mean_squared_error: 0.0177 - val_loss: 0.0186 - val_mean_squared_error: 0.0186\n",
            "Epoch 45/50\n",
            "962/962 [==============================] - 2s 2ms/step - loss: 0.0174 - mean_squared_error: 0.0174 - val_loss: 0.0194 - val_mean_squared_error: 0.0194\n",
            "Epoch 46/50\n",
            "962/962 [==============================] - 2s 3ms/step - loss: 0.0173 - mean_squared_error: 0.0173 - val_loss: 0.0186 - val_mean_squared_error: 0.0186\n",
            "Epoch 47/50\n",
            "962/962 [==============================] - 2s 2ms/step - loss: 0.0173 - mean_squared_error: 0.0173 - val_loss: 0.0211 - val_mean_squared_error: 0.0211\n",
            "Epoch 48/50\n",
            "962/962 [==============================] - 2s 2ms/step - loss: 0.0171 - mean_squared_error: 0.0171 - val_loss: 0.0187 - val_mean_squared_error: 0.0187\n",
            "Epoch 49/50\n",
            "962/962 [==============================] - 2s 2ms/step - loss: 0.0171 - mean_squared_error: 0.0171 - val_loss: 0.0189 - val_mean_squared_error: 0.0189\n",
            "Epoch 50/50\n",
            "962/962 [==============================] - 2s 2ms/step - loss: 0.0169 - mean_squared_error: 0.0169 - val_loss: 0.0185 - val_mean_squared_error: 0.0185\n"
          ]
        },
        {
          "output_type": "execute_result",
          "data": {
            "text/plain": [
              "<keras.callbacks.History at 0x7f60e8230f10>"
            ]
          },
          "metadata": {},
          "execution_count": 6
        }
      ],
      "source": [
        "from keras.callbacks import EarlyStopping\n",
        "\n",
        "# Definindo o modelo\n",
        "model = Sequential()\n",
        "model.add(Dense(32, input_dim=features_train.shape[1], activation='relu'))\n",
        "model.add(Dense(32, activation='relu'))\n",
        "model.add(Dense(32, activation='relu'))\n",
        "model.add(Dense(32, activation='relu'))\n",
        "model.add(Dense(32, activation='relu'))\n",
        "model.add(Dense(32, activation='relu'))\n",
        "model.add(Dense(32, activation='relu'))\n",
        "model.add(Dense(1))\n",
        "\n",
        "# Compilando o modelo\n",
        "model.compile(optimizer=Adam(), loss='mean_squared_error', metrics=[MeanSquaredError()])\n",
        "\n",
        "# Definindo o critério de parada antecipada\n",
        "early_stopping = EarlyStopping(monitor='val_loss', patience=20)\n",
        "\n",
        "# Treinando o modelo\n",
        "model.fit(features_train, target_train, validation_data=(features_val, target_val), epochs=50, batch_size=32, callbacks=[early_stopping])"
      ]
    },
    {
      "cell_type": "code",
      "execution_count": 7,
      "metadata": {
        "colab": {
          "base_uri": "https://localhost:8080/"
        },
        "id": "YTTHFsQRWH0i",
        "outputId": "83e3291b-81b5-4ad3-814f-a70641888110"
      },
      "outputs": [
        {
          "output_type": "stream",
          "name": "stdout",
          "text": [
            "321/321 [==============================] - 0s 926us/step\n",
            "Mean Squared Error: 3.164354994927039\n",
            "R2 Score: 0.3875183322931075\n",
            "Adjusted R2 Score: 0.3862617755305201\n"
          ]
        }
      ],
      "source": [
        "# Testando o modelo\n",
        "predictions = model.predict(features_test)\n",
        "\n",
        "# Revertendo a escala das previsões\n",
        "predictions = normalizador_target.inverse_transform(predictions)\n",
        "\n",
        "# Revertendo a escala do target de teste\n",
        "target_test = normalizador_target.inverse_transform(target_test)\n",
        "\n",
        "\n",
        "mse = mean_squared_error(target_test, predictions)\n",
        "print(f'Mean Squared Error: {mse}')\n",
        "\n",
        "# Calculando R2 e R2 ajustado\n",
        "r2 = r2_score(target_test, predictions)\n",
        "print(f'R2 Score: {r2}')\n",
        "\n",
        "# Função para calcular o R2 ajustado\n",
        "def adjusted_r2(r2, n, p):\n",
        "    return 1 - ((1 - r2) * (n - 1) / (n - p - 1))\n",
        "\n",
        "n = features_test.shape[0]\n",
        "p = features_test.shape[1]\n",
        "adj_r2 = adjusted_r2(r2, n, p)\n",
        "print(f'Adjusted R2 Score: {adj_r2}')"
      ]
    },
    {
      "cell_type": "code",
      "execution_count": null,
      "metadata": {
        "id": "f4I9AsInWH0i"
      },
      "outputs": [],
      "source": [
        "# 5. Entrega\n",
        "# Nesta fase, normalmente forneceríamos o modelo para os usuários finais e os treinaríamos sobre como usá-lo. \n",
        "# No entanto, essa parte é difícil de demonstrar em um script Python.\n",
        "\n",
        "# 6. Manutenção\n",
        "# Em um projeto de BI real, esta fase envolveria monitorar o desempenho do modelo ao longo do tempo e fazer ajustes conforme necessário. \n",
        "# Isso também é difícil de demonstrar em um script Python, mas é uma parte importante do processo de BI."
      ]
    },
    {
      "cell_type": "markdown",
      "metadata": {
        "id": "a5LuieIaWH0i"
      },
      "source": [
        "# 3 - Resumo e Perguntas\n",
        "\n",
        "Hoje aprendemos sobre a importância do BI e do ciclo analítico de inteligência de dados. Também exploramos as fases de um projeto de BI, desde a estratégia inicial até a manutenção contínua.\n",
        "\n",
        "Algumas perguntas para reflexão:\n",
        "\n",
        "1. Por que é importante definir claramente os objetivos e metas na estratégia de BI? \n",
        "* Para atender as expectativas do cliente\n",
        "2. Como a análise de requisitos pode impactar o sucesso de um projeto de BI?\n",
        "* Para direcionar o projeto com as expectativas, de forma direta\n",
        "3. Por que a fase de manutenção é crucial em um projeto de BI?\n",
        "* Para manter a integridade do projeto"
      ]
    },
    {
      "cell_type": "code",
      "execution_count": null,
      "metadata": {
        "colab": {
          "base_uri": "https://localhost:8080/"
        },
        "id": "6qGLGKfQWH0i",
        "outputId": "528c0416-5884-46e4-cbf2-7054f02c5fb6"
      },
      "outputs": [
        {
          "output_type": "stream",
          "name": "stdout",
          "text": [
            "É importante garantir que os objetivos do projeto estejam alinhados com as necessidades dos usuários para uma estratégia de BI eficaz.\n",
            "\n",
            "Uma análise de requisitos completa e precisa é essencial para garantir que o projeto de BI atenda às necessidades dos usuários.\n",
            "\n",
            "A fase de manutenção em um projeto de BI é crucial para monitorar e atualizar o sistema, garantindo que continue atendendo às necessidades em constante mudança.\n",
            "\n"
          ]
        }
      ],
      "source": [
        "# Exemplo: Importância de definir claramente os objetivos e metas na estratégia de BI\n",
        "def importance_of_bi_strategy(objectives, user_needs):\n",
        "    # Verificar se os objetivos do projeto estão alinhados com as necessidades dos usuários\n",
        "    if objectives.equals(user_needs):\n",
        "        print(\"Uma estratégia de BI claramente definida ajuda a garantir que os objetivos do projeto atendam às necessidades dos usuários.\\n\")\n",
        "    else:\n",
        "        print(\"É importante garantir que os objetivos do projeto estejam alinhados com as necessidades dos usuários para uma estratégia de BI eficaz.\\n\")\n",
        "\n",
        "# Exemplo: Impacto da análise de requisitos no sucesso do projeto de BI\n",
        "def impact_of_requirements_analysis(requirements):\n",
        "    # Verificar se todos os requisitos foram identificados e analisados adequadamente\n",
        "    if not requirements.empty:\n",
        "        print(\"Uma análise de requisitos completa e precisa é essencial para garantir que o projeto de BI atenda às necessidades dos usuários.\\n\")\n",
        "    else:\n",
        "        print(\"Certifique-se de identificar e analisar adequadamente todos os requisitos para um projeto de BI bem-sucedido.\\n\")\n",
        "\n",
        "# Exemplo: Importância da fase de manutenção em um projeto de BI\n",
        "def importance_of_maintenance(project_success):\n",
        "    # Verificar se a fase de manutenção é crucial para manter o sucesso do projeto de BI\n",
        "    if not project_success.empty:\n",
        "        print(\"A fase de manutenção em um projeto de BI é crucial para monitorar e atualizar o sistema, garantindo que continue atendendo às necessidades em constante mudança.\\n\")\n",
        "    else:\n",
        "        print(\"Se a fase de manutenção for negligenciada, o sistema de BI pode se tornar obsoleto e não entregar os resultados esperados.\\n\")\n",
        "\n",
        "# Chamada das funções com base na base de dados\n",
        "importance_of_bi_strategy(df['Sales'], df['Order Priority'])\n",
        "impact_of_requirements_analysis(df['Sales'])\n",
        "importance_of_maintenance(df['Profit'])"
      ]
    },
    {
      "cell_type": "markdown",
      "metadata": {
        "id": "hrpiPBoDWH0j"
      },
      "source": [
        "# 4 - Introdução ao Ciclo Analítico da Inteligência de Dados\n",
        "\n",
        "O Ciclo Analítico da Inteligência de Dados é um processo iterativo que nos permite transformar dados brutos em insights significativos para tomada de decisões. Ele consiste em sete etapas principais:\n",
        "\n",
        "1. **Definição do problema:** Onde identificamos a questão de negócios que queremos resolver.\n",
        "2. **Preparação de dados:** Aqui, coletamos, limpamos e formatamos os dados necessários para nossa análise.\n",
        "3. **Análise exploratória de dados (EDA):** Nesta fase, examinamos os dados para identificar padrões, detectar anomalias e formular hipóteses.\n",
        "4. **Modelagem de dados:** Aqui, criamos modelos matemáticos ou estatísticos para testar nossas hipóteses.\n",
        "5. **Validação:** Nesta etapa, verificamos a precisão de nossos modelos e ajustamos conforme necessário.\n",
        "6. **Implementação:** Aqui, aplicamos nossos modelos validados ao ambiente de produção.\n",
        "7. **Comunicação:** Nesta fase, compartilhamos nossos resultados e insights com as partes interessadas.\n",
        "\n",
        "Vamos explorar cada uma dessas fases com mais detalhes.\n"
      ]
    },
    {
      "cell_type": "markdown",
      "metadata": {
        "id": "WN4hl7KBWH0j"
      },
      "source": [
        "# 5 - Aprofundando no Ciclo Analítico da Inteligência de Dados\n",
        "\n",
        "Agora que temos uma visão geral do Ciclo Analítico, vamos explorar cada uma das fases com mais profundidade.\n",
        "\n",
        "1. **Definição do problema:** Esta é talvez a etapa mais crucial do ciclo. Uma definição de problema clara e precisa nos ajuda a direcionar nossos esforços de coleta de dados e análise. Precisamos entender o contexto do negócio e as necessidades das partes interessadas.\n",
        "\n",
        "2. **Preparação de dados:** Os dados brutos raramente estão em um formato que possamos usar diretamente para análise. Eles podem precisar ser limpos, transformados ou agregados de alguma forma. Esta etapa pode incluir tarefas como lidar com valores ausentes, remover outliers e normalizar os dados.\n",
        "\n",
        "3. **Análise exploratória de dados (EDA):** Nesta fase, visualizamos os dados e calculamos estatísticas resumidas para entender os padrões nos dados. Isso nos ajuda a construir intuições sobre os dados e formular hipóteses para testar na próxima etapa.\n",
        "\n",
        "4. **Modelagem de dados:** Aqui, criamos modelos estatísticos ou de aprendizado de máquina para testar nossas hipóteses. O tipo de modelo que escolhemos dependerá do nosso problema e dos dados disponíveis.\n",
        "\n",
        "5. **Validação:** Nesta etapa, avaliamos a qualidade de nossos modelos. Isso pode envolver a divisão dos dados em conjuntos de treinamento e teste, a aplicação do modelo ao conjunto de teste e a comparação das previsões do modelo com os resultados reais.\n",
        "\n",
        "6. **Implementação:** Uma vez que estamos satisfeitos com a qualidade de nossos modelos, podemos implementá-los em um ambiente de produção. Isso pode envolver a escrita de código para automatizar o processo de coleta de dados, análise e relatórios.\n",
        "\n",
        "7. **Comunicação:** Por fim, comunicamos nossos resultados às partes interessadas. Isso pode incluir a criação de relatórios, dashboards ou apresentações, e deve sempre incluir interpretações claras e acionáveis dos resultados.\n"
      ]
    },
    {
      "cell_type": "markdown",
      "metadata": {
        "id": "AeJpm48fWH0j"
      },
      "source": [
        "# 6 - Resumo e Perguntas\n",
        "\n",
        "Nesta seção, recapitulamos os pontos importantes cobertos na aula. No contexto do ciclo analítico da inteligência de dados, podemos reiterar as fases e a importância de cada uma delas, bem como como elas se encaixam no projeto de BI como um todo. Podemos também revisitar quaisquer conceitos teóricos que tenham sido particularmente importantes.\n",
        "\n",
        "Perguntas de reflexão podem ser apresentadas para incentivar os alunos a pensar mais profundamente sobre o material. Por exemplo:\n",
        "\n",
        "1. Como cada fase do ciclo analítico contribui para a eficácia geral de um projeto de BI?\n",
        "2. Pode existir um projeto de BI bem-sucedido sem uma ou mais dessas fases?\n",
        "3. Como a fase de implementação pode variar dependendo do ambiente de TI de uma organização?"
      ]
    },
    {
      "cell_type": "markdown",
      "metadata": {
        "id": "FPeIsZ-ZWH0j"
      },
      "source": [
        "# 7 - Revisão dos Conceitos\n",
        "\n",
        "## Business Intelligence (BI)\n",
        "\n",
        "- Business Intelligence é o processo de transformação de dados brutos em informações significativas para análise de negócios.\n",
        "\n",
        "## Fases do Projeto de BI\n",
        "\n",
        "1. **Estratégia de BI:** Definir a visão e os objetivos do projeto.\n",
        "2. **Análise de requisitos:** Identificar as necessidades da empresa e dos usuários finais.\n",
        "3. **Design de solução:** Projetar a solução que atenderá aos requisitos identificados.\n",
        "4. **Implementação:** Desenvolver e testar a solução.\n",
        "5. **Entrega:** Lançar a solução para os usuários finais.\n",
        "6. **Manutenção:** Fornecer suporte contínuo e atualizações para a solução.\n",
        "\n",
        "## O Ciclo Analítico da Inteligência de Dados\n",
        "\n",
        "1. **Definição do problema:** Identificar o problema a ser resolvido.\n",
        "2. **Preparação de dados:** Coletar e preparar os dados para análise.\n",
        "3. **Análise exploratória:** Analisar os dados para obter insights e identificar padrões.\n",
        "4. **Modelagem de dados:** Criar um modelo que represente os padrões nos dados.\n",
        "5. **Validação:** Verificar a precisão do modelo.\n",
        "6. **Implementação:** Implementar o modelo na prática.\n",
        "7. **Comunicação:** Comunicar os resultados da análise.\n"
      ]
    },
    {
      "cell_type": "markdown",
      "metadata": {
        "id": "X42MNBw5WH0j"
      },
      "source": [
        "Descrição do problema:\n",
        "A empresa Superstore possui uma base de dados contendo informações de vendas de seus produtos entre 2011 e 2015. Eles estão buscando insights para otimizar suas vendas e melhorar sua lucratividade. Sua tarefa é realizar uma análise e propor soluções para os seguintes questionamentos:\n",
        "\n",
        "Pode usar \"df['Order Date'] = pd.to_datetime(df['Order Date'])\" para conveter colunas com datas para o tipo de dados de datas.\n",
        "\n",
        "1 - Qual a categoria de produto mais vendida durante todo o período?\n",
        "\n",
        "2 - Qual a categoria de produto mais vendida cada ano?\n",
        "\n",
        "3 - Qual a categoria de produto mais vendida no mese de dezembro de cada ano?\n",
        "\n",
        "4 - Qual a região que apresentou maior lucratividade média?\n",
        "\n",
        "5 - Existe alguma relação entre a quantidade vendida e o desconto aplicado?\n",
        "\n",
        "7 - Qual a média da quantidade de compras dos produtos com 50% (0.5) ou mais de desconto?\n",
        "\n",
        "8 - Qual a moda da quantidade de compras dos produtos com 50% (0.5) ou mais de desconto?\n",
        "\n",
        "9 - Preparação de dados:\n",
        "\n",
        "    9.1 - Verificar e tratar valores nulos, se necessário.\n",
        "\n",
        "    9.2 - Selecionar as colunas relevantes para a análise.\n",
        "\n",
        "\n",
        "10 - Análise exploratória de dados:\n",
        "\n",
        "    10.1 - Calcular as vendas totais por categoria de produto.\n",
        "    10.2 - Visualizar as vendas por categoria em um gráfico de barras.\n",
        "    10.3 - Modelagem de dados:\n",
        "\n",
        "11 - Realizar uma regressão linear para analisar a relação entre a quantidade vendida e o desconto aplicado (o X será apenas a coluna \"Discount\" e o y \"Quantity\"). (normalize os dados e separe em treinamento 70%, validação 15% e teste 15%)\n",
        "\n",
        "\n",
        "12 - Avaliar a qualidade do modelo de regressão, utilizando métricas como o erro quadrático médio (MSE) e o coeficiente de determinação (R^2). (Não esqueça de desnormalizar o y de teste e o y predict andes verificar as métricas)\n",
        "\n",
        "\n",
        "13 - Aplique Redução de Dimensionalidade com PCA para reduzir as colunas de X para apenas 3 Colunas (material sobre isto na aula 5, a partir do tópico 2.4)\n",
        "\n",
        "14 - Realize o tratamento dos dados reduzidos para separar em X e y (Precisa normalizar?)\n",
        "\n",
        "15 - Crie uma rede neural com a seguinte estrutura:\n",
        "- camada de entrada\n",
        "- camada oculta com 20 neurônios e função de ativação relu\n",
        "- camada oculta com 40 neurônios e função de ativação relu\n",
        "- camada oculta com 40 neurônios e função de ativação relu\n",
        "- camada oculta com 40 neurônios e função de ativação relu\n",
        "- camada oculta com 40 neurônios e função de ativação relu\n",
        "- camada oculta com 40 neurônios e função de ativação relu\n",
        "- camada oculta com 40 neurônios e função de ativação relu\n",
        "- camada de saída com 1 neurônio e função de ativação linear\n",
        "\n",
        "- Defina para a rede treinar 100 épocas, mas parar o treinamento caso fique 30 épocas sem melhorar a métrica MSE de validação\n",
        "\n",
        "16 - Exiba o gráfico de loss durante o treinamento (esqueceu de fazer o history no fit? rsrs)\n",
        "\n",
        "17 - Exiba as métricas de MSE, MAE, R2 e R2 ajustado.\n",
        "\n",
        "18 - Seu modelo ficou bom?"
      ]
    },
    {
      "cell_type": "code",
      "execution_count": 8,
      "metadata": {
        "colab": {
          "base_uri": "https://localhost:8080/"
        },
        "id": "tU27VqSTWH0k",
        "outputId": "7d8ad63d-0b22-484a-a9db-c58ddcba3bd2"
      },
      "outputs": [
        {
          "output_type": "stream",
          "name": "stderr",
          "text": [
            "<ipython-input-8-f5779b1b9e1a>:1: UserWarning: Parsing dates in DD/MM/YYYY format when dayfirst=False (the default) was specified. This may lead to inconsistently parsed dates! Specify a format to ensure consistent parsing.\n",
            "  df['Order Date'] = pd.to_datetime(df['Order Date'])\n"
          ]
        }
      ],
      "source": [
        "df['Order Date'] = pd.to_datetime(df['Order Date'])"
      ]
    },
    {
      "cell_type": "code",
      "execution_count": null,
      "metadata": {
        "colab": {
          "base_uri": "https://localhost:8080/",
          "height": 835
        },
        "id": "G1IyXdQpWH0k",
        "outputId": "34fa796c-233d-4415-d3e3-71aff1a9aadf"
      },
      "outputs": [
        {
          "output_type": "execute_result",
          "data": {
            "text/plain": [
              "              Order ID Order Date Ship Date       Ship Mode Customer ID  \\\n",
              "0         AG-2011-2040 2011-01-01  6/1/2011  Standard Class    TB-11280   \n",
              "1        IN-2011-47883 2011-01-01  8/1/2011  Standard Class    JH-15985   \n",
              "2         HU-2011-1220 2011-01-01  5/1/2011    Second Class      AT-735   \n",
              "3      IT-2011-3647632 2011-01-01  5/1/2011    Second Class    EM-14140   \n",
              "4        IN-2011-47883 2011-01-01  8/1/2011  Standard Class    JH-15985   \n",
              "...                ...        ...       ...             ...         ...   \n",
              "51285   CA-2014-115427 2014-12-31  4/1/2015  Standard Class    EB-13975   \n",
              "51286     MO-2014-2560 2014-12-31  5/1/2015  Standard Class     LP-7095   \n",
              "51287   MX-2014-110527 2014-12-31  2/1/2015    Second Class    CM-12190   \n",
              "51288   MX-2014-114783 2014-12-31  6/1/2015  Standard Class    TD-20995   \n",
              "51289   CA-2014-156720 2014-12-31  4/1/2015  Standard Class    JM-15580   \n",
              "\n",
              "          Customer Name      Segment         City             State  \\\n",
              "0       Toby Braunhardt     Consumer  Constantine       Constantine   \n",
              "1           Joseph Holt     Consumer  Wagga Wagga   New South Wales   \n",
              "2         Annie Thurman     Consumer     Budapest          Budapest   \n",
              "3          Eugene Moren  Home Office    Stockholm         Stockholm   \n",
              "4           Joseph Holt     Consumer  Wagga Wagga   New South Wales   \n",
              "...                 ...          ...          ...               ...   \n",
              "51285        Erica Bern    Corporate    Fairfield        California   \n",
              "51286         Liz Preis     Consumer       Agadir  Souss-Massa-Draâ   \n",
              "51287  Charlotte Melton     Consumer      Managua           Managua   \n",
              "51288     Tamara Dahlen     Consumer       Juárez         Chihuahua   \n",
              "51289     Jill Matthias     Consumer     Loveland          Colorado   \n",
              "\n",
              "             Country  ...        Product ID         Category Sub-Category  \\\n",
              "0            Algeria  ...  OFF-TEN-10000025  Office Supplies      Storage   \n",
              "1          Australia  ...   OFF-SU-10000618  Office Supplies     Supplies   \n",
              "2            Hungary  ...  OFF-TEN-10001585  Office Supplies      Storage   \n",
              "3             Sweden  ...   OFF-PA-10001492  Office Supplies        Paper   \n",
              "4          Australia  ...   FUR-FU-10003447        Furniture  Furnishings   \n",
              "...              ...  ...               ...              ...          ...   \n",
              "51285  United States  ...   OFF-BI-10002103  Office Supplies      Binders   \n",
              "51286        Morocco  ...  OFF-WIL-10001069  Office Supplies      Binders   \n",
              "51287      Nicaragua  ...   OFF-LA-10004182  Office Supplies       Labels   \n",
              "51288         Mexico  ...   OFF-LA-10000413  Office Supplies       Labels   \n",
              "51289  United States  ...   OFF-FA-10003472  Office Supplies    Fasteners   \n",
              "\n",
              "                                          Product Name    Sales Quantity  \\\n",
              "0                                  Tenex Lockers, Blue  408.300        2   \n",
              "1                             Acme Trimmer, High Speed  120.366        3   \n",
              "2                              Tenex Box, Single Width   66.120        4   \n",
              "3                          Enermax Note Cards, Premium   44.865        3   \n",
              "4                           Eldon Light Bulb, Duo Pack  113.670        5   \n",
              "...                                                ...      ...      ...   \n",
              "51285  Cardinal Slant-D Ring Binder, Heavy Gauge Vinyl   13.904        2   \n",
              "51286          Wilson Jones Hole Reinforcements, Clear    3.990        1   \n",
              "51287           Hon Color Coded Labels, 5000 Label Set   26.400        3   \n",
              "51288           Hon Legal Exhibit Labels, Alphabetical    7.120        1   \n",
              "51289                              Bagged Rubber Bands    3.024        3   \n",
              "\n",
              "       Discount    Profit  Shipping Cost  Order Priority  \n",
              "0           0.0  106.1400          35.46          Medium  \n",
              "1           0.1   36.0360           9.72          Medium  \n",
              "2           0.0   29.6400           8.17            High  \n",
              "3           0.5  -26.0550           4.82            High  \n",
              "4           0.1   37.7700           4.70          Medium  \n",
              "...         ...       ...            ...             ...  \n",
              "51285       0.2    4.5188           0.89          Medium  \n",
              "51286       0.0    0.4200           0.49          Medium  \n",
              "51287       0.0   12.3600           0.35          Medium  \n",
              "51288       0.0    0.5600           0.20          Medium  \n",
              "51289       0.2   -0.6048           0.17          Medium  \n",
              "\n",
              "[51290 rows x 22 columns]"
            ],
            "text/html": [
              "\n",
              "  <div id=\"df-5aa82dfb-9db5-4756-b2b6-fa2c1ff1cc59\">\n",
              "    <div class=\"colab-df-container\">\n",
              "      <div>\n",
              "<style scoped>\n",
              "    .dataframe tbody tr th:only-of-type {\n",
              "        vertical-align: middle;\n",
              "    }\n",
              "\n",
              "    .dataframe tbody tr th {\n",
              "        vertical-align: top;\n",
              "    }\n",
              "\n",
              "    .dataframe thead th {\n",
              "        text-align: right;\n",
              "    }\n",
              "</style>\n",
              "<table border=\"1\" class=\"dataframe\">\n",
              "  <thead>\n",
              "    <tr style=\"text-align: right;\">\n",
              "      <th></th>\n",
              "      <th>Order ID</th>\n",
              "      <th>Order Date</th>\n",
              "      <th>Ship Date</th>\n",
              "      <th>Ship Mode</th>\n",
              "      <th>Customer ID</th>\n",
              "      <th>Customer Name</th>\n",
              "      <th>Segment</th>\n",
              "      <th>City</th>\n",
              "      <th>State</th>\n",
              "      <th>Country</th>\n",
              "      <th>...</th>\n",
              "      <th>Product ID</th>\n",
              "      <th>Category</th>\n",
              "      <th>Sub-Category</th>\n",
              "      <th>Product Name</th>\n",
              "      <th>Sales</th>\n",
              "      <th>Quantity</th>\n",
              "      <th>Discount</th>\n",
              "      <th>Profit</th>\n",
              "      <th>Shipping Cost</th>\n",
              "      <th>Order Priority</th>\n",
              "    </tr>\n",
              "  </thead>\n",
              "  <tbody>\n",
              "    <tr>\n",
              "      <th>0</th>\n",
              "      <td>AG-2011-2040</td>\n",
              "      <td>2011-01-01</td>\n",
              "      <td>6/1/2011</td>\n",
              "      <td>Standard Class</td>\n",
              "      <td>TB-11280</td>\n",
              "      <td>Toby Braunhardt</td>\n",
              "      <td>Consumer</td>\n",
              "      <td>Constantine</td>\n",
              "      <td>Constantine</td>\n",
              "      <td>Algeria</td>\n",
              "      <td>...</td>\n",
              "      <td>OFF-TEN-10000025</td>\n",
              "      <td>Office Supplies</td>\n",
              "      <td>Storage</td>\n",
              "      <td>Tenex Lockers, Blue</td>\n",
              "      <td>408.300</td>\n",
              "      <td>2</td>\n",
              "      <td>0.0</td>\n",
              "      <td>106.1400</td>\n",
              "      <td>35.46</td>\n",
              "      <td>Medium</td>\n",
              "    </tr>\n",
              "    <tr>\n",
              "      <th>1</th>\n",
              "      <td>IN-2011-47883</td>\n",
              "      <td>2011-01-01</td>\n",
              "      <td>8/1/2011</td>\n",
              "      <td>Standard Class</td>\n",
              "      <td>JH-15985</td>\n",
              "      <td>Joseph Holt</td>\n",
              "      <td>Consumer</td>\n",
              "      <td>Wagga Wagga</td>\n",
              "      <td>New South Wales</td>\n",
              "      <td>Australia</td>\n",
              "      <td>...</td>\n",
              "      <td>OFF-SU-10000618</td>\n",
              "      <td>Office Supplies</td>\n",
              "      <td>Supplies</td>\n",
              "      <td>Acme Trimmer, High Speed</td>\n",
              "      <td>120.366</td>\n",
              "      <td>3</td>\n",
              "      <td>0.1</td>\n",
              "      <td>36.0360</td>\n",
              "      <td>9.72</td>\n",
              "      <td>Medium</td>\n",
              "    </tr>\n",
              "    <tr>\n",
              "      <th>2</th>\n",
              "      <td>HU-2011-1220</td>\n",
              "      <td>2011-01-01</td>\n",
              "      <td>5/1/2011</td>\n",
              "      <td>Second Class</td>\n",
              "      <td>AT-735</td>\n",
              "      <td>Annie Thurman</td>\n",
              "      <td>Consumer</td>\n",
              "      <td>Budapest</td>\n",
              "      <td>Budapest</td>\n",
              "      <td>Hungary</td>\n",
              "      <td>...</td>\n",
              "      <td>OFF-TEN-10001585</td>\n",
              "      <td>Office Supplies</td>\n",
              "      <td>Storage</td>\n",
              "      <td>Tenex Box, Single Width</td>\n",
              "      <td>66.120</td>\n",
              "      <td>4</td>\n",
              "      <td>0.0</td>\n",
              "      <td>29.6400</td>\n",
              "      <td>8.17</td>\n",
              "      <td>High</td>\n",
              "    </tr>\n",
              "    <tr>\n",
              "      <th>3</th>\n",
              "      <td>IT-2011-3647632</td>\n",
              "      <td>2011-01-01</td>\n",
              "      <td>5/1/2011</td>\n",
              "      <td>Second Class</td>\n",
              "      <td>EM-14140</td>\n",
              "      <td>Eugene Moren</td>\n",
              "      <td>Home Office</td>\n",
              "      <td>Stockholm</td>\n",
              "      <td>Stockholm</td>\n",
              "      <td>Sweden</td>\n",
              "      <td>...</td>\n",
              "      <td>OFF-PA-10001492</td>\n",
              "      <td>Office Supplies</td>\n",
              "      <td>Paper</td>\n",
              "      <td>Enermax Note Cards, Premium</td>\n",
              "      <td>44.865</td>\n",
              "      <td>3</td>\n",
              "      <td>0.5</td>\n",
              "      <td>-26.0550</td>\n",
              "      <td>4.82</td>\n",
              "      <td>High</td>\n",
              "    </tr>\n",
              "    <tr>\n",
              "      <th>4</th>\n",
              "      <td>IN-2011-47883</td>\n",
              "      <td>2011-01-01</td>\n",
              "      <td>8/1/2011</td>\n",
              "      <td>Standard Class</td>\n",
              "      <td>JH-15985</td>\n",
              "      <td>Joseph Holt</td>\n",
              "      <td>Consumer</td>\n",
              "      <td>Wagga Wagga</td>\n",
              "      <td>New South Wales</td>\n",
              "      <td>Australia</td>\n",
              "      <td>...</td>\n",
              "      <td>FUR-FU-10003447</td>\n",
              "      <td>Furniture</td>\n",
              "      <td>Furnishings</td>\n",
              "      <td>Eldon Light Bulb, Duo Pack</td>\n",
              "      <td>113.670</td>\n",
              "      <td>5</td>\n",
              "      <td>0.1</td>\n",
              "      <td>37.7700</td>\n",
              "      <td>4.70</td>\n",
              "      <td>Medium</td>\n",
              "    </tr>\n",
              "    <tr>\n",
              "      <th>...</th>\n",
              "      <td>...</td>\n",
              "      <td>...</td>\n",
              "      <td>...</td>\n",
              "      <td>...</td>\n",
              "      <td>...</td>\n",
              "      <td>...</td>\n",
              "      <td>...</td>\n",
              "      <td>...</td>\n",
              "      <td>...</td>\n",
              "      <td>...</td>\n",
              "      <td>...</td>\n",
              "      <td>...</td>\n",
              "      <td>...</td>\n",
              "      <td>...</td>\n",
              "      <td>...</td>\n",
              "      <td>...</td>\n",
              "      <td>...</td>\n",
              "      <td>...</td>\n",
              "      <td>...</td>\n",
              "      <td>...</td>\n",
              "      <td>...</td>\n",
              "    </tr>\n",
              "    <tr>\n",
              "      <th>51285</th>\n",
              "      <td>CA-2014-115427</td>\n",
              "      <td>2014-12-31</td>\n",
              "      <td>4/1/2015</td>\n",
              "      <td>Standard Class</td>\n",
              "      <td>EB-13975</td>\n",
              "      <td>Erica Bern</td>\n",
              "      <td>Corporate</td>\n",
              "      <td>Fairfield</td>\n",
              "      <td>California</td>\n",
              "      <td>United States</td>\n",
              "      <td>...</td>\n",
              "      <td>OFF-BI-10002103</td>\n",
              "      <td>Office Supplies</td>\n",
              "      <td>Binders</td>\n",
              "      <td>Cardinal Slant-D Ring Binder, Heavy Gauge Vinyl</td>\n",
              "      <td>13.904</td>\n",
              "      <td>2</td>\n",
              "      <td>0.2</td>\n",
              "      <td>4.5188</td>\n",
              "      <td>0.89</td>\n",
              "      <td>Medium</td>\n",
              "    </tr>\n",
              "    <tr>\n",
              "      <th>51286</th>\n",
              "      <td>MO-2014-2560</td>\n",
              "      <td>2014-12-31</td>\n",
              "      <td>5/1/2015</td>\n",
              "      <td>Standard Class</td>\n",
              "      <td>LP-7095</td>\n",
              "      <td>Liz Preis</td>\n",
              "      <td>Consumer</td>\n",
              "      <td>Agadir</td>\n",
              "      <td>Souss-Massa-Draâ</td>\n",
              "      <td>Morocco</td>\n",
              "      <td>...</td>\n",
              "      <td>OFF-WIL-10001069</td>\n",
              "      <td>Office Supplies</td>\n",
              "      <td>Binders</td>\n",
              "      <td>Wilson Jones Hole Reinforcements, Clear</td>\n",
              "      <td>3.990</td>\n",
              "      <td>1</td>\n",
              "      <td>0.0</td>\n",
              "      <td>0.4200</td>\n",
              "      <td>0.49</td>\n",
              "      <td>Medium</td>\n",
              "    </tr>\n",
              "    <tr>\n",
              "      <th>51287</th>\n",
              "      <td>MX-2014-110527</td>\n",
              "      <td>2014-12-31</td>\n",
              "      <td>2/1/2015</td>\n",
              "      <td>Second Class</td>\n",
              "      <td>CM-12190</td>\n",
              "      <td>Charlotte Melton</td>\n",
              "      <td>Consumer</td>\n",
              "      <td>Managua</td>\n",
              "      <td>Managua</td>\n",
              "      <td>Nicaragua</td>\n",
              "      <td>...</td>\n",
              "      <td>OFF-LA-10004182</td>\n",
              "      <td>Office Supplies</td>\n",
              "      <td>Labels</td>\n",
              "      <td>Hon Color Coded Labels, 5000 Label Set</td>\n",
              "      <td>26.400</td>\n",
              "      <td>3</td>\n",
              "      <td>0.0</td>\n",
              "      <td>12.3600</td>\n",
              "      <td>0.35</td>\n",
              "      <td>Medium</td>\n",
              "    </tr>\n",
              "    <tr>\n",
              "      <th>51288</th>\n",
              "      <td>MX-2014-114783</td>\n",
              "      <td>2014-12-31</td>\n",
              "      <td>6/1/2015</td>\n",
              "      <td>Standard Class</td>\n",
              "      <td>TD-20995</td>\n",
              "      <td>Tamara Dahlen</td>\n",
              "      <td>Consumer</td>\n",
              "      <td>Juárez</td>\n",
              "      <td>Chihuahua</td>\n",
              "      <td>Mexico</td>\n",
              "      <td>...</td>\n",
              "      <td>OFF-LA-10000413</td>\n",
              "      <td>Office Supplies</td>\n",
              "      <td>Labels</td>\n",
              "      <td>Hon Legal Exhibit Labels, Alphabetical</td>\n",
              "      <td>7.120</td>\n",
              "      <td>1</td>\n",
              "      <td>0.0</td>\n",
              "      <td>0.5600</td>\n",
              "      <td>0.20</td>\n",
              "      <td>Medium</td>\n",
              "    </tr>\n",
              "    <tr>\n",
              "      <th>51289</th>\n",
              "      <td>CA-2014-156720</td>\n",
              "      <td>2014-12-31</td>\n",
              "      <td>4/1/2015</td>\n",
              "      <td>Standard Class</td>\n",
              "      <td>JM-15580</td>\n",
              "      <td>Jill Matthias</td>\n",
              "      <td>Consumer</td>\n",
              "      <td>Loveland</td>\n",
              "      <td>Colorado</td>\n",
              "      <td>United States</td>\n",
              "      <td>...</td>\n",
              "      <td>OFF-FA-10003472</td>\n",
              "      <td>Office Supplies</td>\n",
              "      <td>Fasteners</td>\n",
              "      <td>Bagged Rubber Bands</td>\n",
              "      <td>3.024</td>\n",
              "      <td>3</td>\n",
              "      <td>0.2</td>\n",
              "      <td>-0.6048</td>\n",
              "      <td>0.17</td>\n",
              "      <td>Medium</td>\n",
              "    </tr>\n",
              "  </tbody>\n",
              "</table>\n",
              "<p>51290 rows × 22 columns</p>\n",
              "</div>\n",
              "      <button class=\"colab-df-convert\" onclick=\"convertToInteractive('df-5aa82dfb-9db5-4756-b2b6-fa2c1ff1cc59')\"\n",
              "              title=\"Convert this dataframe to an interactive table.\"\n",
              "              style=\"display:none;\">\n",
              "        \n",
              "  <svg xmlns=\"http://www.w3.org/2000/svg\" height=\"24px\"viewBox=\"0 0 24 24\"\n",
              "       width=\"24px\">\n",
              "    <path d=\"M0 0h24v24H0V0z\" fill=\"none\"/>\n",
              "    <path d=\"M18.56 5.44l.94 2.06.94-2.06 2.06-.94-2.06-.94-.94-2.06-.94 2.06-2.06.94zm-11 1L8.5 8.5l.94-2.06 2.06-.94-2.06-.94L8.5 2.5l-.94 2.06-2.06.94zm10 10l.94 2.06.94-2.06 2.06-.94-2.06-.94-.94-2.06-.94 2.06-2.06.94z\"/><path d=\"M17.41 7.96l-1.37-1.37c-.4-.4-.92-.59-1.43-.59-.52 0-1.04.2-1.43.59L10.3 9.45l-7.72 7.72c-.78.78-.78 2.05 0 2.83L4 21.41c.39.39.9.59 1.41.59.51 0 1.02-.2 1.41-.59l7.78-7.78 2.81-2.81c.8-.78.8-2.07 0-2.86zM5.41 20L4 18.59l7.72-7.72 1.47 1.35L5.41 20z\"/>\n",
              "  </svg>\n",
              "      </button>\n",
              "      \n",
              "  <style>\n",
              "    .colab-df-container {\n",
              "      display:flex;\n",
              "      flex-wrap:wrap;\n",
              "      gap: 12px;\n",
              "    }\n",
              "\n",
              "    .colab-df-convert {\n",
              "      background-color: #E8F0FE;\n",
              "      border: none;\n",
              "      border-radius: 50%;\n",
              "      cursor: pointer;\n",
              "      display: none;\n",
              "      fill: #1967D2;\n",
              "      height: 32px;\n",
              "      padding: 0 0 0 0;\n",
              "      width: 32px;\n",
              "    }\n",
              "\n",
              "    .colab-df-convert:hover {\n",
              "      background-color: #E2EBFA;\n",
              "      box-shadow: 0px 1px 2px rgba(60, 64, 67, 0.3), 0px 1px 3px 1px rgba(60, 64, 67, 0.15);\n",
              "      fill: #174EA6;\n",
              "    }\n",
              "\n",
              "    [theme=dark] .colab-df-convert {\n",
              "      background-color: #3B4455;\n",
              "      fill: #D2E3FC;\n",
              "    }\n",
              "\n",
              "    [theme=dark] .colab-df-convert:hover {\n",
              "      background-color: #434B5C;\n",
              "      box-shadow: 0px 1px 3px 1px rgba(0, 0, 0, 0.15);\n",
              "      filter: drop-shadow(0px 1px 2px rgba(0, 0, 0, 0.3));\n",
              "      fill: #FFFFFF;\n",
              "    }\n",
              "  </style>\n",
              "\n",
              "      <script>\n",
              "        const buttonEl =\n",
              "          document.querySelector('#df-5aa82dfb-9db5-4756-b2b6-fa2c1ff1cc59 button.colab-df-convert');\n",
              "        buttonEl.style.display =\n",
              "          google.colab.kernel.accessAllowed ? 'block' : 'none';\n",
              "\n",
              "        async function convertToInteractive(key) {\n",
              "          const element = document.querySelector('#df-5aa82dfb-9db5-4756-b2b6-fa2c1ff1cc59');\n",
              "          const dataTable =\n",
              "            await google.colab.kernel.invokeFunction('convertToInteractive',\n",
              "                                                     [key], {});\n",
              "          if (!dataTable) return;\n",
              "\n",
              "          const docLinkHtml = 'Like what you see? Visit the ' +\n",
              "            '<a target=\"_blank\" href=https://colab.research.google.com/notebooks/data_table.ipynb>data table notebook</a>'\n",
              "            + ' to learn more about interactive tables.';\n",
              "          element.innerHTML = '';\n",
              "          dataTable['output_type'] = 'display_data';\n",
              "          await google.colab.output.renderOutput(dataTable, element);\n",
              "          const docLink = document.createElement('div');\n",
              "          docLink.innerHTML = docLinkHtml;\n",
              "          element.appendChild(docLink);\n",
              "        }\n",
              "      </script>\n",
              "    </div>\n",
              "  </div>\n",
              "  "
            ]
          },
          "metadata": {},
          "execution_count": 6
        }
      ],
      "source": [
        "df"
      ]
    },
    {
      "cell_type": "code",
      "source": [
        "df['Order Date'].min()\n",
        "df['Order Date'].max()"
      ],
      "metadata": {
        "colab": {
          "base_uri": "https://localhost:8080/"
        },
        "id": "FYfQ6sykwZ8t",
        "outputId": "897b1ce3-64ab-4220-c4ee-4e4289eb1420"
      },
      "execution_count": 9,
      "outputs": [
        {
          "output_type": "execute_result",
          "data": {
            "text/plain": [
              "Timestamp('2014-12-31 00:00:00')"
            ]
          },
          "metadata": {},
          "execution_count": 9
        }
      ]
    },
    {
      "cell_type": "code",
      "source": [
        "df['Category'].mode()[0]"
      ],
      "metadata": {
        "colab": {
          "base_uri": "https://localhost:8080/",
          "height": 35
        },
        "id": "S7UUzgHqwkol",
        "outputId": "0e098fc3-0ff3-450d-ff46-1b1cd232b262"
      },
      "execution_count": 10,
      "outputs": [
        {
          "output_type": "execute_result",
          "data": {
            "text/plain": [
              "'Office Supplies'"
            ],
            "application/vnd.google.colaboratory.intrinsic+json": {
              "type": "string"
            }
          },
          "metadata": {},
          "execution_count": 10
        }
      ]
    },
    {
      "cell_type": "code",
      "source": [
        "df['Category'].value_counts()"
      ],
      "metadata": {
        "colab": {
          "base_uri": "https://localhost:8080/"
        },
        "id": "12qAuHP1wu1z",
        "outputId": "a0195e95-ea64-4296-a83f-a8068aef49df"
      },
      "execution_count": 11,
      "outputs": [
        {
          "output_type": "execute_result",
          "data": {
            "text/plain": [
              "Office Supplies    31273\n",
              "Technology         10141\n",
              "Furniture           9876\n",
              "Name: Category, dtype: int64"
            ]
          },
          "metadata": {},
          "execution_count": 11
        }
      ]
    },
    {
      "cell_type": "code",
      "execution_count": 12,
      "metadata": {
        "id": "5pFdjJ3zWH0k"
      },
      "outputs": [],
      "source": [
        "#df_periodo = df[(df['Order Date'].dt.year >=2011) & df[(df['Order Date'].dt.year <=2014)]]\n",
        "df2011 = df.loc[df['Order Date'].dt.year == 2011]\n",
        "df2012 = df.loc[df['Order Date'].dt.year == 2012]\n",
        "df2013 = df.loc[df['Order Date'].dt.year == 2013]\n",
        "df2014 = df.loc[df['Order Date'].dt.year == 2014]"
      ]
    },
    {
      "cell_type": "code",
      "execution_count": 13,
      "metadata": {
        "id": "8ERJu2RrWH0k"
      },
      "outputs": [],
      "source": [
        "df_2011 = df2011.groupby('Order Date')['Category'].sum()\n",
        "df_2012 = df2012.groupby('Order Date')['Category'].sum()\n",
        "df_2013 = df2013.groupby('Order Date')['Category'].sum()\n",
        "df_2014 = df2014.groupby('Order Date')['Category'].sum()\n"
      ]
    },
    {
      "cell_type": "markdown",
      "source": [
        "categoria de produtos vendidos em cada ano"
      ],
      "metadata": {
        "id": "uaR3BwjvHAWl"
      }
    },
    {
      "cell_type": "code",
      "execution_count": 14,
      "metadata": {
        "colab": {
          "base_uri": "https://localhost:8080/"
        },
        "id": "k0_mPthBWH0k",
        "outputId": "4d0f3077-8192-4593-f2ac-da8bff3dd96f"
      },
      "outputs": [
        {
          "output_type": "stream",
          "name": "stdout",
          "text": [
            "0    Technology\n",
            "Name: Category, dtype: object\n",
            "0    Office Supplies\n",
            "Name: Category, dtype: object\n",
            "0    Office SuppliesOffice Supplies\n",
            "Name: Category, dtype: object\n",
            "0    FurnitureOffice SuppliesOffice SuppliesOffice ...\n",
            "1                                      Office Supplies\n",
            "2                       Office SuppliesOffice Supplies\n",
            "Name: Category, dtype: object\n"
          ]
        }
      ],
      "source": [
        "print(df_2011.mode(0))\n",
        "print(df_2012.mode(0))\n",
        "print(df_2013.mode(0))\n",
        "print(df_2014.mode(0))\n",
        "\n"
      ]
    },
    {
      "cell_type": "markdown",
      "source": [
        "Categoria de produto mais ventida em todo o período"
      ],
      "metadata": {
        "id": "LR6riiq6GlB9"
      }
    },
    {
      "cell_type": "code",
      "execution_count": 15,
      "metadata": {
        "id": "_3mdf1TpWH0k",
        "colab": {
          "base_uri": "https://localhost:8080/"
        },
        "outputId": "87bc5387-9ad6-4bfb-c390-45179209884d"
      },
      "outputs": [
        {
          "output_type": "execute_result",
          "data": {
            "text/plain": [
              "0    Office Supplies\n",
              "Name: Category, dtype: object"
            ]
          },
          "metadata": {},
          "execution_count": 15
        }
      ],
      "source": [
        "dftop = df.groupby('Order Date')['Category'].sum()\n",
        "dftop.mode(0)"
      ]
    },
    {
      "cell_type": "markdown",
      "source": [
        "Produtos mais vendidos em determinado mes"
      ],
      "metadata": {
        "id": "wROyoUB2Ha7L"
      }
    },
    {
      "cell_type": "code",
      "execution_count": 16,
      "metadata": {
        "id": "wiMbWTojWH0k"
      },
      "outputs": [],
      "source": [
        "df['Ano'] = df['Order Date'].dt.year\n",
        "df['Mes'] = df['Order Date'].dt.month "
      ]
    },
    {
      "cell_type": "code",
      "execution_count": 17,
      "metadata": {
        "id": "_QR4HtRRWH0k"
      },
      "outputs": [],
      "source": [
        "df_dezembro = df[df['Mes'] == 12]"
      ]
    },
    {
      "cell_type": "code",
      "execution_count": 18,
      "metadata": {
        "id": "wHbkSFvWWH0k"
      },
      "outputs": [],
      "source": [
        "tabela_dinamica = pd.pivot_table(df_dezembro, values='Quantity', index='Ano', columns='Category', aggfunc=sum)"
      ]
    },
    {
      "cell_type": "code",
      "execution_count": 19,
      "metadata": {
        "id": "FKjYziKGWH0l"
      },
      "outputs": [],
      "source": [
        "categoria_top = tabela_dinamica.idxmax(axis=1)"
      ]
    },
    {
      "cell_type": "code",
      "execution_count": 20,
      "metadata": {
        "id": "_eWltWktWH0l",
        "colab": {
          "base_uri": "https://localhost:8080/"
        },
        "outputId": "52274f39-b178-4831-c8ee-f2045dca9bde"
      },
      "outputs": [
        {
          "output_type": "execute_result",
          "data": {
            "text/plain": [
              "Ano\n",
              "2011    Office Supplies\n",
              "2012    Office Supplies\n",
              "2013    Office Supplies\n",
              "2014    Office Supplies\n",
              "dtype: object"
            ]
          },
          "metadata": {},
          "execution_count": 20
        }
      ],
      "source": [
        "categoria_top"
      ]
    },
    {
      "cell_type": "markdown",
      "source": [
        "região que apresentou maior lucratividade média"
      ],
      "metadata": {
        "id": "he6Vo0UbJ_0k"
      }
    },
    {
      "cell_type": "code",
      "execution_count": 21,
      "metadata": {
        "id": "TqL0J0wJWH0l"
      },
      "outputs": [],
      "source": [
        "media_lucro = df.groupby('State')['Profit'].mean()"
      ]
    },
    {
      "cell_type": "code",
      "execution_count": 22,
      "metadata": {
        "id": "L0ZbPimiWH0l",
        "colab": {
          "base_uri": "https://localhost:8080/",
          "height": 35
        },
        "outputId": "804711f4-16da-4e63-aef7-f6d8b3f21ab8"
      },
      "outputs": [
        {
          "output_type": "execute_result",
          "data": {
            "text/plain": [
              "'Paysandú'"
            ],
            "application/vnd.google.colaboratory.intrinsic+json": {
              "type": "string"
            }
          },
          "metadata": {},
          "execution_count": 22
        }
      ],
      "source": [
        "regiao_media_lucro = media_lucro.idxmax()\n",
        "regiao_media_lucro"
      ]
    },
    {
      "cell_type": "markdown",
      "source": [
        " Existe alguma relação entre a quantidade vendida e o desconto aplicado\n",
        "\n",
        " O valor da correlacao varia entre -1 e 1.\n",
        " * quanto mais proximo de 1 maior é a relação\n",
        " * proximo de 0 temos uma relacao fraca ou inexistente\n",
        " * proximo de -1 a relação é antagonica (contraia)"
      ],
      "metadata": {
        "id": "YCoruJEyMGaS"
      }
    },
    {
      "cell_type": "code",
      "execution_count": 23,
      "metadata": {
        "id": "r89htdjjWH0l",
        "colab": {
          "base_uri": "https://localhost:8080/"
        },
        "outputId": "07fe1b26-39e7-4244-bf3a-476fc236184c"
      },
      "outputs": [
        {
          "output_type": "execute_result",
          "data": {
            "text/plain": [
              "-0.01987469514765295"
            ]
          },
          "metadata": {},
          "execution_count": 23
        }
      ],
      "source": [
        "relacao = df['Quantity'].corr(df['Discount'])\n",
        "relacao"
      ]
    },
    {
      "cell_type": "markdown",
      "source": [
        "média e moda das compras com 50% de desconto ou mais"
      ],
      "metadata": {
        "id": "vNlkTNpHNnHT"
      }
    },
    {
      "cell_type": "code",
      "execution_count": 24,
      "metadata": {
        "id": "HqXLLB-bWH0l",
        "colab": {
          "base_uri": "https://localhost:8080/"
        },
        "outputId": "0eb06487-a2d2-4e72-a04a-dc6f1e7539ff"
      },
      "outputs": [
        {
          "output_type": "stream",
          "name": "stdout",
          "text": [
            "3.114900947459087\n",
            "0    1\n",
            "Name: Quantity, dtype: int64\n"
          ]
        }
      ],
      "source": [
        "descontos = df[df['Discount'] >= 0.5]\n",
        "media = descontos['Quantity'].mean()\n",
        "moda = descontos['Quantity'].mode()\n",
        "print(media)\n",
        "print(moda)"
      ]
    },
    {
      "cell_type": "code",
      "execution_count": 25,
      "metadata": {
        "id": "oAqC7V_CWH0l",
        "colab": {
          "base_uri": "https://localhost:8080/"
        },
        "outputId": "61693f7d-423d-4379-d89d-573a26d1ab01"
      },
      "outputs": [
        {
          "output_type": "execute_result",
          "data": {
            "text/plain": [
              "Order ID          0\n",
              "Order Date        0\n",
              "Ship Date         0\n",
              "Ship Mode         0\n",
              "Customer ID       0\n",
              "Customer Name     0\n",
              "Segment           0\n",
              "City              0\n",
              "State             0\n",
              "Country           0\n",
              "Market            0\n",
              "Region            0\n",
              "Product ID        0\n",
              "Category          0\n",
              "Sub-Category      0\n",
              "Product Name      0\n",
              "Sales             0\n",
              "Quantity          0\n",
              "Discount          0\n",
              "Profit            0\n",
              "Shipping Cost     0\n",
              "Order Priority    0\n",
              "Ano               0\n",
              "Mes               0\n",
              "dtype: int64"
            ]
          },
          "metadata": {},
          "execution_count": 25
        }
      ],
      "source": [
        "df.isna().sum()"
      ]
    },
    {
      "cell_type": "markdown",
      "source": [
        "## 10 Análise de dados\n",
        "10.1 - Calcular as vendas totais por categoria de produto.\n",
        "\n",
        "10.2 - Visualizar as vendas por categoria em um gráfico de barras.\n",
        "\n",
        "10.3 - Modelagem de dados:\n"
      ],
      "metadata": {
        "id": "EDsTMeOGJxX5"
      }
    },
    {
      "cell_type": "code",
      "execution_count": 27,
      "metadata": {
        "id": "pud0LX99WH0l",
        "colab": {
          "base_uri": "https://localhost:8080/"
        },
        "outputId": "7bcaf055-ec5a-45d3-b01b-b5b516b5fbc4"
      },
      "outputs": [
        {
          "output_type": "execute_result",
          "data": {
            "text/plain": [
              "Category\n",
              "Furniture          R$285,204.72\n",
              "Office Supplies    R$518,473.83\n",
              "Technology         R$663,778.73\n",
              "Name: Profit, dtype: object"
            ]
          },
          "metadata": {},
          "execution_count": 27
        }
      ],
      "source": [
        "#10.1\n",
        "valor_t = df.groupby('Category')['Profit'].sum()\n",
        "# visualização em moeda corrente\n",
        "valor_t = valor_t.map('R${:,.2f}'.format)\n",
        "valor_t"
      ]
    },
    {
      "cell_type": "code",
      "execution_count": 33,
      "metadata": {
        "id": "JMR7p1UCWH0l",
        "colab": {
          "base_uri": "https://localhost:8080/",
          "height": 472
        },
        "outputId": "854725a2-b4eb-425d-f59f-1b19e68dfdf3"
      },
      "outputs": [
        {
          "output_type": "display_data",
          "data": {
            "text/plain": [
              "<Figure size 640x480 with 1 Axes>"
            ],
            "image/png": "[encoded data removed]"
          },
          "metadata": {}
        }
      ],
      "source": [
        "#10.2\n",
        "import matplotlib.pyplot as plt\n",
        "import matplotlib.colors as mcolors\n",
        "vendas_categoria = df.groupby('Category')['Sales'].sum()\n",
        "\n",
        "\n",
        "cores_gradiente = mcolors.LinearSegmentedColormap.from_list('gradiente', ['#ff9999', '#ff4d4d'])\n",
        "plt.bar(vendas_categoria.index, vendas_categoria.values, color=cores_gradiente(vendas_categoria.values/vendas_categoria.max()))\n",
        "\n",
        "# Adicionar rótulos de dados em moeda corrente\n",
        "for i, valor in enumerate(vendas_categoria.values):\n",
        "    plt.annotate('R${:,.2f}'.format(valor), (vendas_categoria.index[i], valor), ha='center', va='bottom')\n",
        "\n",
        "# Adicionar rótulos e título\n",
        "plt.xlabel('Categoria')\n",
        "plt.ylabel('Vendas')\n",
        "plt.title('Vendas por Categoria')\n",
        "\n",
        "# Exibir o gráfico\n",
        "plt.show()"
      ]
    },
    {
      "cell_type": "markdown",
      "source": [
        "Questao 11"
      ],
      "metadata": {
        "id": "X7ZfQEBPPm7R"
      }
    },
    {
      "cell_type": "code",
      "execution_count": 34,
      "metadata": {
        "id": "0sEIfNpvWH0l",
        "colab": {
          "base_uri": "https://localhost:8080/"
        },
        "outputId": "d8ded897-3c1d-44f9-d7ea-3f6827d3d428"
      },
      "outputs": [
        {
          "output_type": "stream",
          "name": "stdout",
          "text": [
            "Desempenho do modelo (validação)\n",
            "R²: -0.000563540598109924\n",
            "MSE: 5.241119465884364\n",
            "Desempenho do modelo (teste)\n",
            "R²: 0.0007938464775260057\n",
            "MSE: 5.116840560997158\n"
          ]
        }
      ],
      "source": [
        "\n",
        "from sklearn.preprocessing import StandardScaler\n",
        "\n",
        "X = df[['Discount']]\n",
        "#X = df['Discount'].values.reshape(-1, 1)\n",
        "# Nessa segunda forma o X será uma matriz unidimensional, que precisa passar pelo reshape para ter uma unica coluna\n",
        "y = df['Quantity']\n",
        "\n",
        "# Normalizar os dados\n",
        "scaler = StandardScaler()\n",
        "X_normalized = scaler.fit_transform(X)\n",
        "\n",
        "# Dividir os dados em conjuntos de treinamento, validação e teste\n",
        "X_train, X_temp, y_train, y_temp = train_test_split(X_normalized, y, test_size=0.3, random_state=42)\n",
        "X_val, X_test, y_val, y_test = train_test_split(X_temp, y_temp, test_size=0.5, random_state=42)\n",
        "\n",
        "\n",
        "# Criar um modelo de regressão linear\n",
        "model = LinearRegression()\n",
        "\n",
        "# Treinar o modelo usando os dados de treinamento\n",
        "model.fit(X_train, y_train)\n",
        "\n",
        "# Avaliar o desempenho do modelo usando os dados de validação\n",
        "y_val_pred = model.predict(X_val)\n",
        "r2 = r2_score(y_val, y_val_pred)\n",
        "mse = mean_squared_error(y_val, y_val_pred)\n",
        "print(\"Desempenho do modelo (validação)\")\n",
        "print(\"R²:\", r2)\n",
        "print(\"MSE:\", mse)\n",
        "\n",
        "# Testar o modelo usando os dados de teste\n",
        "y_test_pred = model.predict(X_test)\n",
        "r2 = r2_score(y_test, y_test_pred)\n",
        "mse = mean_squared_error(y_test, y_test_pred)\n",
        "print(\"Desempenho do modelo (teste)\")\n",
        "print(\"R²:\", r2)\n",
        "print(\"MSE:\", mse)"
      ]
    },
    {
      "cell_type": "markdown",
      "source": [
        "Questao 12"
      ],
      "metadata": {
        "id": "3KdQym2vPpY5"
      }
    },
    {
      "cell_type": "code",
      "execution_count": 36,
      "metadata": {
        "id": "Z2r3ezizWH0m",
        "colab": {
          "base_uri": "https://localhost:8080/"
        },
        "outputId": "2317b79c-bbb0-41c8-f680-9fc966ff67c2"
      },
      "outputs": [
        {
          "output_type": "stream",
          "name": "stdout",
          "text": [
            "Erro Quadrático Médio (MSE): 0.23057451064535409\n",
            "Coeficiente de Determinação (R²): 0.0007938464775261167\n"
          ]
        }
      ],
      "source": [
        "y_pred_desnormalized = scaler.inverse_transform(y_test_pred.reshape(-1, 1))\n",
        "y_test_desnormalized = scaler.inverse_transform(y_test.reshape(-1, 1))\n",
        "\n",
        "\n",
        "mse = mean_squared_error(y_test_desnormalized, y_pred_desnormalized)\n",
        "print(\"Erro Quadrático Médio (MSE):\", mse)\n",
        "\n",
        "\n",
        "r2 = r2_score(y_test_desnormalized, y_pred_desnormalized)\n",
        "print(\"Coeficiente de Determinação (R²):\", r2)\n"
      ]
    },
    {
      "cell_type": "markdown",
      "source": [
        "Questao 13"
      ],
      "metadata": {
        "id": "-dFp-UKPVYYa"
      }
    },
    {
      "cell_type": "code",
      "execution_count": 40,
      "metadata": {
        "id": "VZF8fsMEWH0m",
        "colab": {
          "base_uri": "https://localhost:8080/"
        },
        "outputId": "188389e6-61ce-4991-97ff-b6aaafe6f75d"
      },
      "outputs": [
        {
          "output_type": "stream",
          "name": "stdout",
          "text": [
            "Variância explicada por cada componente: [1.]\n"
          ]
        }
      ],
      "source": [
        "from sklearn.decomposition import PCA\n",
        "\n",
        "pca = PCA(n_components=min(X.shape[0], X.shape[1]))\n",
        "X_reduced = pca.fit_transform(X)\n",
        "\n",
        "explained_variance_ratio = pca.explained_variance_ratio_\n",
        "print(\"Variância explicada por cada componente:\", explained_variance_ratio)\n"
      ]
    },
    {
      "cell_type": "markdown",
      "source": [
        "Tratamento dos dados reduzidos?"
      ],
      "metadata": {
        "id": "q4rg_dSSY6r_"
      }
    },
    {
      "cell_type": "code",
      "execution_count": 57,
      "metadata": {
        "id": "V5ejFxpaWH02"
      },
      "outputs": [],
      "source": [
        "X = X_reduced \n",
        "y = df['Quantity']\n"
      ]
    },
    {
      "cell_type": "code",
      "execution_count": 50,
      "metadata": {
        "id": "6f-dUmRjWH03",
        "colab": {
          "base_uri": "https://localhost:8080/",
          "height": 927
        },
        "outputId": "e01b588f-cbeb-43d4-f4f4-f913fe76fa3e"
      },
      "outputs": [
        {
          "output_type": "display_data",
          "data": {
            "text/plain": [
              "<Figure size 640x480 with 1 Axes>"
            ],
            "image/png": "[encoded data removed]"
          },
          "metadata": {}
        },
        {
          "output_type": "display_data",
          "data": {
            "text/plain": [
              "<Figure size 640x480 with 1 Axes>"
            ],
            "image/png": "[encoded data removed]"
          },
          "metadata": {}
        }
      ],
      "source": [
        "# Histograma de X\n",
        "plt.hist(X, bins=10)\n",
        "plt.xlabel('Valores')\n",
        "plt.ylabel('Frequência')\n",
        "plt.title('Distribuição de X')\n",
        "plt.show()\n",
        "\n",
        "# Histograma de y\n",
        "plt.hist(y, bins=10)\n",
        "plt.xlabel('Valores')\n",
        "plt.ylabel('Frequência')\n",
        "plt.title('Distribuição de y')\n",
        "plt.show()"
      ]
    },
    {
      "cell_type": "code",
      "execution_count": 51,
      "metadata": {
        "id": "0EzptZa4WH03",
        "colab": {
          "base_uri": "https://localhost:8080/"
        },
        "outputId": "a01c923b-8eb9-4248-baca-e74658d97657"
      },
      "outputs": [
        {
          "output_type": "stream",
          "name": "stdout",
          "text": [
            "Estatísticas de X:\n",
            "Média: -8.381328819162811e-18\n",
            "Mediana: -0.14290754533047378\n",
            "Desvio padrão: 0.21227786226720344\n",
            "Mínimo: -0.14290754533047378\n",
            "Máximo: 0.7070924546695262\n",
            "Estatísticas de y:\n",
            "Média: 3.4765451355039967\n",
            "Mediana: 3.0\n",
            "Desvio padrão: 2.2787440991667864\n",
            "Mínimo: 1\n",
            "Máximo: 14\n"
          ]
        }
      ],
      "source": [
        "print(\"Estatísticas de X:\")\n",
        "print(\"Média:\", np.mean(X))\n",
        "print(\"Mediana:\", np.median(X))\n",
        "print(\"Desvio padrão:\", np.std(X))\n",
        "print(\"Mínimo:\", np.min(X))\n",
        "print(\"Máximo:\", np.max(X))\n",
        "\n",
        "print(\"Estatísticas de y:\")\n",
        "print(\"Média:\", np.mean(y))\n",
        "print(\"Mediana:\", np.median(y))\n",
        "print(\"Desvio padrão:\", np.std(y))\n",
        "print(\"Mínimo:\", np.min(y))\n",
        "print(\"Máximo:\", np.max(y))"
      ]
    },
    {
      "cell_type": "code",
      "execution_count": 52,
      "metadata": {
        "id": "J75gH5zrWH03",
        "colab": {
          "base_uri": "https://localhost:8080/",
          "height": 432
        },
        "outputId": "ce9459c9-dd5c-4b5f-d5dc-5b1c758a5265"
      },
      "outputs": [
        {
          "output_type": "error",
          "ename": "ValueError",
          "evalue": "ignored",
          "traceback": [
            "\u001b[0;31m---------------------------------------------------------------------------\u001b[0m",
            "\u001b[0;31mValueError\u001b[0m                                Traceback (most recent call last)",
            "\u001b[0;32m<ipython-input-52-8465b5df1bf0>\u001b[0m in \u001b[0;36m<cell line: 3>\u001b[0;34m()\u001b[0m\n\u001b[1;32m      1\u001b[0m \u001b[0;31m# Aplique a normalização em X e y\u001b[0m\u001b[0;34m\u001b[0m\u001b[0;34m\u001b[0m\u001b[0m\n\u001b[1;32m      2\u001b[0m \u001b[0mX_normalized\u001b[0m \u001b[0;34m=\u001b[0m \u001b[0mscaler\u001b[0m\u001b[0;34m.\u001b[0m\u001b[0mfit_transform\u001b[0m\u001b[0;34m(\u001b[0m\u001b[0mX\u001b[0m\u001b[0;34m)\u001b[0m\u001b[0;34m\u001b[0m\u001b[0;34m\u001b[0m\u001b[0m\n\u001b[0;32m----> 3\u001b[0;31m \u001b[0my_normalized\u001b[0m \u001b[0;34m=\u001b[0m \u001b[0mscaler\u001b[0m\u001b[0;34m.\u001b[0m\u001b[0mfit_transform\u001b[0m\u001b[0;34m(\u001b[0m\u001b[0my\u001b[0m\u001b[0;34m)\u001b[0m\u001b[0;34m\u001b[0m\u001b[0;34m\u001b[0m\u001b[0m\n\u001b[0m",
            "\u001b[0;32m/usr/local/lib/python3.10/dist-packages/sklearn/utils/_set_output.py\u001b[0m in \u001b[0;36mwrapped\u001b[0;34m(self, X, *args, **kwargs)\u001b[0m\n\u001b[1;32m    138\u001b[0m     \u001b[0;34m@\u001b[0m\u001b[0mwraps\u001b[0m\u001b[0;34m(\u001b[0m\u001b[0mf\u001b[0m\u001b[0;34m)\u001b[0m\u001b[0;34m\u001b[0m\u001b[0;34m\u001b[0m\u001b[0m\n\u001b[1;32m    139\u001b[0m     \u001b[0;32mdef\u001b[0m \u001b[0mwrapped\u001b[0m\u001b[0;34m(\u001b[0m\u001b[0mself\u001b[0m\u001b[0;34m,\u001b[0m \u001b[0mX\u001b[0m\u001b[0;34m,\u001b[0m \u001b[0;34m*\u001b[0m\u001b[0margs\u001b[0m\u001b[0;34m,\u001b[0m \u001b[0;34m**\u001b[0m\u001b[0mkwargs\u001b[0m\u001b[0;34m)\u001b[0m\u001b[0;34m:\u001b[0m\u001b[0;34m\u001b[0m\u001b[0;34m\u001b[0m\u001b[0m\n\u001b[0;32m--> 140\u001b[0;31m         \u001b[0mdata_to_wrap\u001b[0m \u001b[0;34m=\u001b[0m \u001b[0mf\u001b[0m\u001b[0;34m(\u001b[0m\u001b[0mself\u001b[0m\u001b[0;34m,\u001b[0m \u001b[0mX\u001b[0m\u001b[0;34m,\u001b[0m \u001b[0;34m*\u001b[0m\u001b[0margs\u001b[0m\u001b[0;34m,\u001b[0m \u001b[0;34m**\u001b[0m\u001b[0mkwargs\u001b[0m\u001b[0;34m)\u001b[0m\u001b[0;34m\u001b[0m\u001b[0;34m\u001b[0m\u001b[0m\n\u001b[0m\u001b[1;32m    141\u001b[0m         \u001b[0;32mif\u001b[0m \u001b[0misinstance\u001b[0m\u001b[0;34m(\u001b[0m\u001b[0mdata_to_wrap\u001b[0m\u001b[0;34m,\u001b[0m \u001b[0mtuple\u001b[0m\u001b[0;34m)\u001b[0m\u001b[0;34m:\u001b[0m\u001b[0;34m\u001b[0m\u001b[0;34m\u001b[0m\u001b[0m\n\u001b[1;32m    142\u001b[0m             \u001b[0;31m# only wrap the first output for cross decomposition\u001b[0m\u001b[0;34m\u001b[0m\u001b[0;34m\u001b[0m\u001b[0m\n",
            "\u001b[0;32m/usr/local/lib/python3.10/dist-packages/sklearn/base.py\u001b[0m in \u001b[0;36mfit_transform\u001b[0;34m(self, X, y, **fit_params)\u001b[0m\n\u001b[1;32m    876\u001b[0m         \u001b[0;32mif\u001b[0m \u001b[0my\u001b[0m \u001b[0;32mis\u001b[0m \u001b[0;32mNone\u001b[0m\u001b[0;34m:\u001b[0m\u001b[0;34m\u001b[0m\u001b[0;34m\u001b[0m\u001b[0m\n\u001b[1;32m    877\u001b[0m             \u001b[0;31m# fit method of arity 1 (unsupervised transformation)\u001b[0m\u001b[0;34m\u001b[0m\u001b[0;34m\u001b[0m\u001b[0m\n\u001b[0;32m--> 878\u001b[0;31m             \u001b[0;32mreturn\u001b[0m \u001b[0mself\u001b[0m\u001b[0;34m.\u001b[0m\u001b[0mfit\u001b[0m\u001b[0;34m(\u001b[0m\u001b[0mX\u001b[0m\u001b[0;34m,\u001b[0m \u001b[0;34m**\u001b[0m\u001b[0mfit_params\u001b[0m\u001b[0;34m)\u001b[0m\u001b[0;34m.\u001b[0m\u001b[0mtransform\u001b[0m\u001b[0;34m(\u001b[0m\u001b[0mX\u001b[0m\u001b[0;34m)\u001b[0m\u001b[0;34m\u001b[0m\u001b[0;34m\u001b[0m\u001b[0m\n\u001b[0m\u001b[1;32m    879\u001b[0m         \u001b[0;32melse\u001b[0m\u001b[0;34m:\u001b[0m\u001b[0;34m\u001b[0m\u001b[0;34m\u001b[0m\u001b[0m\n\u001b[1;32m    880\u001b[0m             \u001b[0;31m# fit method of arity 2 (supervised transformation)\u001b[0m\u001b[0;34m\u001b[0m\u001b[0;34m\u001b[0m\u001b[0m\n",
            "\u001b[0;32m/usr/local/lib/python3.10/dist-packages/sklearn/preprocessing/_data.py\u001b[0m in \u001b[0;36mfit\u001b[0;34m(self, X, y, sample_weight)\u001b[0m\n\u001b[1;32m    822\u001b[0m         \u001b[0;31m# Reset internal state before fitting\u001b[0m\u001b[0;34m\u001b[0m\u001b[0;34m\u001b[0m\u001b[0m\n\u001b[1;32m    823\u001b[0m         \u001b[0mself\u001b[0m\u001b[0;34m.\u001b[0m\u001b[0m_reset\u001b[0m\u001b[0;34m(\u001b[0m\u001b[0;34m)\u001b[0m\u001b[0;34m\u001b[0m\u001b[0;34m\u001b[0m\u001b[0m\n\u001b[0;32m--> 824\u001b[0;31m         \u001b[0;32mreturn\u001b[0m \u001b[0mself\u001b[0m\u001b[0;34m.\u001b[0m\u001b[0mpartial_fit\u001b[0m\u001b[0;34m(\u001b[0m\u001b[0mX\u001b[0m\u001b[0;34m,\u001b[0m \u001b[0my\u001b[0m\u001b[0;34m,\u001b[0m \u001b[0msample_weight\u001b[0m\u001b[0;34m)\u001b[0m\u001b[0;34m\u001b[0m\u001b[0;34m\u001b[0m\u001b[0m\n\u001b[0m\u001b[1;32m    825\u001b[0m \u001b[0;34m\u001b[0m\u001b[0m\n\u001b[1;32m    826\u001b[0m     \u001b[0;32mdef\u001b[0m \u001b[0mpartial_fit\u001b[0m\u001b[0;34m(\u001b[0m\u001b[0mself\u001b[0m\u001b[0;34m,\u001b[0m \u001b[0mX\u001b[0m\u001b[0;34m,\u001b[0m \u001b[0my\u001b[0m\u001b[0;34m=\u001b[0m\u001b[0;32mNone\u001b[0m\u001b[0;34m,\u001b[0m \u001b[0msample_weight\u001b[0m\u001b[0;34m=\u001b[0m\u001b[0;32mNone\u001b[0m\u001b[0;34m)\u001b[0m\u001b[0;34m:\u001b[0m\u001b[0;34m\u001b[0m\u001b[0;34m\u001b[0m\u001b[0m\n",
            "\u001b[0;32m/usr/local/lib/python3.10/dist-packages/sklearn/preprocessing/_data.py\u001b[0m in \u001b[0;36mpartial_fit\u001b[0;34m(self, X, y, sample_weight)\u001b[0m\n\u001b[1;32m    859\u001b[0m \u001b[0;34m\u001b[0m\u001b[0m\n\u001b[1;32m    860\u001b[0m         \u001b[0mfirst_call\u001b[0m \u001b[0;34m=\u001b[0m \u001b[0;32mnot\u001b[0m \u001b[0mhasattr\u001b[0m\u001b[0;34m(\u001b[0m\u001b[0mself\u001b[0m\u001b[0;34m,\u001b[0m \u001b[0;34m\"n_samples_seen_\"\u001b[0m\u001b[0;34m)\u001b[0m\u001b[0;34m\u001b[0m\u001b[0;34m\u001b[0m\u001b[0m\n\u001b[0;32m--> 861\u001b[0;31m         X = self._validate_data(\n\u001b[0m\u001b[1;32m    862\u001b[0m             \u001b[0mX\u001b[0m\u001b[0;34m,\u001b[0m\u001b[0;34m\u001b[0m\u001b[0;34m\u001b[0m\u001b[0m\n\u001b[1;32m    863\u001b[0m             \u001b[0maccept_sparse\u001b[0m\u001b[0;34m=\u001b[0m\u001b[0;34m(\u001b[0m\u001b[0;34m\"csr\"\u001b[0m\u001b[0;34m,\u001b[0m \u001b[0;34m\"csc\"\u001b[0m\u001b[0;34m)\u001b[0m\u001b[0;34m,\u001b[0m\u001b[0;34m\u001b[0m\u001b[0;34m\u001b[0m\u001b[0m\n",
            "\u001b[0;32m/usr/local/lib/python3.10/dist-packages/sklearn/base.py\u001b[0m in \u001b[0;36m_validate_data\u001b[0;34m(self, X, y, reset, validate_separately, **check_params)\u001b[0m\n\u001b[1;32m    563\u001b[0m             \u001b[0;32mraise\u001b[0m \u001b[0mValueError\u001b[0m\u001b[0;34m(\u001b[0m\u001b[0;34m\"Validation should be done on X, y or both.\"\u001b[0m\u001b[0;34m)\u001b[0m\u001b[0;34m\u001b[0m\u001b[0;34m\u001b[0m\u001b[0m\n\u001b[1;32m    564\u001b[0m         \u001b[0;32melif\u001b[0m \u001b[0;32mnot\u001b[0m \u001b[0mno_val_X\u001b[0m \u001b[0;32mand\u001b[0m \u001b[0mno_val_y\u001b[0m\u001b[0;34m:\u001b[0m\u001b[0;34m\u001b[0m\u001b[0;34m\u001b[0m\u001b[0m\n\u001b[0;32m--> 565\u001b[0;31m             \u001b[0mX\u001b[0m \u001b[0;34m=\u001b[0m \u001b[0mcheck_array\u001b[0m\u001b[0;34m(\u001b[0m\u001b[0mX\u001b[0m\u001b[0;34m,\u001b[0m \u001b[0minput_name\u001b[0m\u001b[0;34m=\u001b[0m\u001b[0;34m\"X\"\u001b[0m\u001b[0;34m,\u001b[0m \u001b[0;34m**\u001b[0m\u001b[0mcheck_params\u001b[0m\u001b[0;34m)\u001b[0m\u001b[0;34m\u001b[0m\u001b[0;34m\u001b[0m\u001b[0m\n\u001b[0m\u001b[1;32m    566\u001b[0m             \u001b[0mout\u001b[0m \u001b[0;34m=\u001b[0m \u001b[0mX\u001b[0m\u001b[0;34m\u001b[0m\u001b[0;34m\u001b[0m\u001b[0m\n\u001b[1;32m    567\u001b[0m         \u001b[0;32melif\u001b[0m \u001b[0mno_val_X\u001b[0m \u001b[0;32mand\u001b[0m \u001b[0;32mnot\u001b[0m \u001b[0mno_val_y\u001b[0m\u001b[0;34m:\u001b[0m\u001b[0;34m\u001b[0m\u001b[0;34m\u001b[0m\u001b[0m\n",
            "\u001b[0;32m/usr/local/lib/python3.10/dist-packages/sklearn/utils/validation.py\u001b[0m in \u001b[0;36mcheck_array\u001b[0;34m(array, accept_sparse, accept_large_sparse, dtype, order, copy, force_all_finite, ensure_2d, allow_nd, ensure_min_samples, ensure_min_features, estimator, input_name)\u001b[0m\n\u001b[1;32m    900\u001b[0m             \u001b[0;31m# If input is 1D raise error\u001b[0m\u001b[0;34m\u001b[0m\u001b[0;34m\u001b[0m\u001b[0m\n\u001b[1;32m    901\u001b[0m             \u001b[0;32mif\u001b[0m \u001b[0marray\u001b[0m\u001b[0;34m.\u001b[0m\u001b[0mndim\u001b[0m \u001b[0;34m==\u001b[0m \u001b[0;36m1\u001b[0m\u001b[0;34m:\u001b[0m\u001b[0;34m\u001b[0m\u001b[0;34m\u001b[0m\u001b[0m\n\u001b[0;32m--> 902\u001b[0;31m                 raise ValueError(\n\u001b[0m\u001b[1;32m    903\u001b[0m                     \u001b[0;34m\"Expected 2D array, got 1D array instead:\\narray={}.\\n\"\u001b[0m\u001b[0;34m\u001b[0m\u001b[0;34m\u001b[0m\u001b[0m\n\u001b[1;32m    904\u001b[0m                     \u001b[0;34m\"Reshape your data either using array.reshape(-1, 1) if \"\u001b[0m\u001b[0;34m\u001b[0m\u001b[0;34m\u001b[0m\u001b[0m\n",
            "\u001b[0;31mValueError\u001b[0m: Expected 2D array, got 1D array instead:\narray=[2. 3. 4. ... 3. 1. 3.].\nReshape your data either using array.reshape(-1, 1) if your data has a single feature or array.reshape(1, -1) if it contains a single sample."
          ]
        }
      ],
      "source": [
        "\n",
        "X_normalized = scaler.fit_transform(X)\n",
        "y_normalized = scaler.fit_transform(y)"
      ]
    },
    {
      "cell_type": "code",
      "execution_count": 59,
      "metadata": {
        "id": "pqSuqAuiWH03"
      },
      "outputs": [],
      "source": [
        "\n",
        "X_reshaped = X.reshape(-1, 1)\n",
        "y_reshaped = df['Quantity'].values.reshape(-1, 1)\n",
        "\n",
        "X_normalized = scaler.fit_transform(X_reshaped)\n",
        "y_normalized = scaler.fit_transform(y_reshaped)"
      ]
    },
    {
      "cell_type": "code",
      "execution_count": 61,
      "metadata": {
        "id": "Vld5earOWH03",
        "colab": {
          "base_uri": "https://localhost:8080/"
        },
        "outputId": "b3f364d3-1612-4770-8db0-51795f1ab212"
      },
      "outputs": [
        {
          "output_type": "stream",
          "name": "stdout",
          "text": [
            "Epoch 1/100\n",
            "1363/1363 [==============================] - 4s 2ms/step - loss: 0.9907 - val_loss: 1.0192\n",
            "Epoch 2/100\n",
            "1363/1363 [==============================] - 2s 2ms/step - loss: 0.9881 - val_loss: 1.0135\n",
            "Epoch 3/100\n",
            "1363/1363 [==============================] - 3s 2ms/step - loss: 0.9867 - val_loss: 1.0120\n",
            "Epoch 4/100\n",
            "1363/1363 [==============================] - 2s 2ms/step - loss: 0.9858 - val_loss: 1.0136\n",
            "Epoch 5/100\n",
            "1363/1363 [==============================] - 2s 2ms/step - loss: 0.9860 - val_loss: 1.0107\n",
            "Epoch 6/100\n",
            "1363/1363 [==============================] - 2s 2ms/step - loss: 0.9853 - val_loss: 1.0108\n",
            "Epoch 7/100\n",
            "1363/1363 [==============================] - 2s 2ms/step - loss: 0.9856 - val_loss: 1.0125\n",
            "Epoch 8/100\n",
            "1363/1363 [==============================] - 3s 2ms/step - loss: 0.9849 - val_loss: 1.0105\n",
            "Epoch 9/100\n",
            "1363/1363 [==============================] - 2s 2ms/step - loss: 0.9849 - val_loss: 1.0145\n",
            "Epoch 10/100\n",
            "1363/1363 [==============================] - 2s 2ms/step - loss: 0.9857 - val_loss: 1.0106\n",
            "Epoch 11/100\n",
            "1363/1363 [==============================] - 2s 2ms/step - loss: 0.9852 - val_loss: 1.0110\n",
            "Epoch 12/100\n",
            "1363/1363 [==============================] - 2s 2ms/step - loss: 0.9857 - val_loss: 1.0100\n",
            "Epoch 13/100\n",
            "1363/1363 [==============================] - 3s 2ms/step - loss: 0.9856 - val_loss: 1.0102\n",
            "Epoch 14/100\n",
            "1363/1363 [==============================] - 2s 2ms/step - loss: 0.9842 - val_loss: 1.0113\n",
            "Epoch 15/100\n",
            "1363/1363 [==============================] - 2s 2ms/step - loss: 0.9849 - val_loss: 1.0102\n",
            "Epoch 16/100\n",
            "1363/1363 [==============================] - 2s 2ms/step - loss: 0.9848 - val_loss: 1.0130\n",
            "Epoch 17/100\n",
            "1363/1363 [==============================] - 3s 2ms/step - loss: 0.9860 - val_loss: 1.0115\n",
            "Epoch 18/100\n",
            "1363/1363 [==============================] - 3s 2ms/step - loss: 0.9847 - val_loss: 1.0106\n",
            "Epoch 19/100\n",
            "1363/1363 [==============================] - 2s 2ms/step - loss: 0.9849 - val_loss: 1.0132\n",
            "Epoch 20/100\n",
            "1363/1363 [==============================] - 2s 2ms/step - loss: 0.9841 - val_loss: 1.0099\n",
            "Epoch 21/100\n",
            "1363/1363 [==============================] - 2s 2ms/step - loss: 0.9850 - val_loss: 1.0098\n",
            "Epoch 22/100\n",
            "1363/1363 [==============================] - 3s 2ms/step - loss: 0.9838 - val_loss: 1.0091\n",
            "Epoch 23/100\n",
            "1363/1363 [==============================] - 2s 2ms/step - loss: 0.9858 - val_loss: 1.0124\n",
            "Epoch 24/100\n",
            "1363/1363 [==============================] - 2s 2ms/step - loss: 0.9851 - val_loss: 1.0117\n",
            "Epoch 25/100\n",
            "1363/1363 [==============================] - 3s 2ms/step - loss: 0.9842 - val_loss: 1.0107\n",
            "Epoch 26/100\n",
            "1363/1363 [==============================] - 6s 4ms/step - loss: 0.9843 - val_loss: 1.0103\n",
            "Epoch 27/100\n",
            "1363/1363 [==============================] - 2s 2ms/step - loss: 0.9841 - val_loss: 1.0102\n",
            "Epoch 28/100\n",
            "1363/1363 [==============================] - 2s 2ms/step - loss: 0.9837 - val_loss: 1.0101\n",
            "Epoch 29/100\n",
            "1363/1363 [==============================] - 2s 2ms/step - loss: 0.9844 - val_loss: 1.0097\n",
            "Epoch 30/100\n",
            "1363/1363 [==============================] - 3s 2ms/step - loss: 0.9846 - val_loss: 1.0107\n",
            "Epoch 31/100\n",
            "1363/1363 [==============================] - 3s 2ms/step - loss: 0.9842 - val_loss: 1.0098\n",
            "Epoch 32/100\n",
            "1363/1363 [==============================] - 2s 2ms/step - loss: 0.9850 - val_loss: 1.0129\n",
            "Epoch 33/100\n",
            "1363/1363 [==============================] - 2s 2ms/step - loss: 0.9843 - val_loss: 1.0098\n",
            "Epoch 34/100\n",
            "1363/1363 [==============================] - 2s 2ms/step - loss: 0.9850 - val_loss: 1.0113\n",
            "Epoch 35/100\n",
            "1363/1363 [==============================] - 3s 2ms/step - loss: 0.9846 - val_loss: 1.0095\n",
            "Epoch 36/100\n",
            "1363/1363 [==============================] - 3s 2ms/step - loss: 0.9840 - val_loss: 1.0103\n",
            "Epoch 37/100\n",
            "1363/1363 [==============================] - 2s 2ms/step - loss: 0.9841 - val_loss: 1.0115\n",
            "Epoch 38/100\n",
            "1363/1363 [==============================] - 2s 2ms/step - loss: 0.9839 - val_loss: 1.0105\n",
            "Epoch 39/100\n",
            "1363/1363 [==============================] - 2s 2ms/step - loss: 0.9839 - val_loss: 1.0123\n",
            "Epoch 40/100\n",
            "1363/1363 [==============================] - 3s 2ms/step - loss: 0.9839 - val_loss: 1.0097\n",
            "Epoch 41/100\n",
            "1363/1363 [==============================] - 3s 2ms/step - loss: 0.9842 - val_loss: 1.0098\n",
            "Epoch 42/100\n",
            "1363/1363 [==============================] - 2s 2ms/step - loss: 0.9838 - val_loss: 1.0095\n",
            "Epoch 43/100\n",
            "1363/1363 [==============================] - 3s 2ms/step - loss: 0.9838 - val_loss: 1.0100\n",
            "Epoch 44/100\n",
            "1363/1363 [==============================] - 5s 4ms/step - loss: 0.9840 - val_loss: 1.0109\n",
            "Epoch 45/100\n",
            "1363/1363 [==============================] - 5s 4ms/step - loss: 0.9842 - val_loss: 1.0095\n",
            "Epoch 46/100\n",
            "1363/1363 [==============================] - 2s 2ms/step - loss: 0.9837 - val_loss: 1.0103\n",
            "Epoch 47/100\n",
            "1363/1363 [==============================] - 3s 2ms/step - loss: 0.9840 - val_loss: 1.0108\n",
            "Epoch 48/100\n",
            "1363/1363 [==============================] - 3s 2ms/step - loss: 0.9838 - val_loss: 1.0098\n",
            "Epoch 49/100\n",
            "1363/1363 [==============================] - 2s 2ms/step - loss: 0.9838 - val_loss: 1.0123\n",
            "Epoch 50/100\n",
            "1363/1363 [==============================] - 2s 2ms/step - loss: 0.9839 - val_loss: 1.0118\n",
            "Epoch 51/100\n",
            "1363/1363 [==============================] - 2s 2ms/step - loss: 0.9839 - val_loss: 1.0097\n",
            "Epoch 52/100\n",
            "1363/1363 [==============================] - 3s 2ms/step - loss: 0.9836 - val_loss: 1.0097\n"
          ]
        }
      ],
      "source": [
        "\n",
        "model = Sequential()\n",
        "model.add(Dense(20, activation='relu', input_shape=(X_normalized.shape[1],)))\n",
        "model.add(Dense(40, activation='relu'))\n",
        "model.add(Dense(40, activation='relu'))\n",
        "model.add(Dense(40, activation='relu'))\n",
        "model.add(Dense(40, activation='relu'))\n",
        "model.add(Dense(40, activation='relu'))\n",
        "model.add(Dense(40, activation='relu'))\n",
        "model.add(Dense(1, activation='linear'))\n",
        "\n",
        "\n",
        "model.compile(loss='mean_squared_error', optimizer='adam')\n",
        "\n",
        "\n",
        "early_stopping = EarlyStopping(monitor='val_loss', patience=30)\n",
        "\n",
        "\n",
        "history = model.fit(X_normalized, y_normalized, epochs=100, validation_split=0.15, callbacks=[early_stopping])\n",
        "\n"
      ]
    },
    {
      "cell_type": "code",
      "execution_count": 63,
      "metadata": {
        "id": "tFsB0iTGWH03",
        "colab": {
          "base_uri": "https://localhost:8080/",
          "height": 449
        },
        "outputId": "2c26eefb-ca8a-4cd3-8fbe-425537b38e8f"
      },
      "outputs": [
        {
          "output_type": "display_data",
          "data": {
            "text/plain": [
              "<Figure size 640x480 with 1 Axes>"
            ],
            "image/png": "[encoded data removed]"
          },
          "metadata": {}
        }
      ],
      "source": [
        "\n",
        "\n",
        "train_loss = history.history['loss']\n",
        "val_loss = history.history['val_loss']\n",
        "\n",
        "\n",
        "plt.plot(train_loss, label='Training Loss')\n",
        "plt.plot(val_loss, label='Validation Loss')\n",
        "plt.xlabel('Epochs')\n",
        "plt.ylabel('Loss')\n",
        "plt.legend()\n",
        "plt.show()"
      ]
    },
    {
      "cell_type": "code",
      "execution_count": 65,
      "metadata": {
        "id": "EJfc_UglWH03",
        "colab": {
          "base_uri": "https://localhost:8080/"
        },
        "outputId": "5e1996ba-8446-4e9c-b8c1-bbaeafea3fc7"
      },
      "outputs": [
        {
          "output_type": "stream",
          "name": "stdout",
          "text": [
            "1603/1603 [==============================] - 4s 2ms/step\n",
            "Mean Squared Error (MSE): 5.131992573502109\n",
            "Mean Absolute Error (MAE): 1.7623004240096254\n",
            "R2 Score: 0.011686096250533962\n",
            "Adjusted R2 Score: 0.011666826364717608\n"
          ]
        }
      ],
      "source": [
        "from sklearn.metrics import mean_squared_error, mean_absolute_error, r2_score\n",
        "y_pred = model.predict(X_normalized)\n",
        "\n",
        "\n",
        "y_pred_denormalized = scaler.inverse_transform(y_pred)\n",
        "y_denormalized = scaler.inverse_transform(y_normalized)\n",
        "\n",
        "\n",
        "mse = mean_squared_error(y_denormalized, y_pred_denormalized)\n",
        "mae = mean_absolute_error(y_denormalized, y_pred_denormalized)\n",
        "r2 = r2_score(y_denormalized, y_pred_denormalized)\n",
        "\n",
        "\n",
        "n = X_normalized.shape[0]  \n",
        "p = X_normalized.shape[1]  \n",
        "adj_r2 = 1 - (1 - r2) * (n - 1) / (n - p - 1)\n",
        "\n",
        "\n",
        "print(\"Mean Squared Error (MSE):\", mse)\n",
        "print(\"Mean Absolute Error (MAE):\", mae)\n",
        "print(\"R2 Score:\", r2)\n",
        "print(\"Adjusted R2 Score:\", adj_r2)"
      ]
    },
    {
      "cell_type": "code",
      "execution_count": null,
      "metadata": {
        "id": "dBMB8C2GWH03"
      },
      "outputs": [],
      "source": []
    }
  ],
  "metadata": {
    "kernelspec": {
      "display_name": "tf",
      "language": "python",
      "name": "python3"
    },
    "language_info": {
      "codemirror_mode": {
        "name": "ipython",
        "version": 3
      },
      "file_extension": ".py",
      "mimetype": "text/x-python",
      "name": "python",
      "nbconvert_exporter": "python",
      "pygments_lexer": "ipython3",
      "version": "3.9.16"
    },
    "orig_nbformat": 4,
    "colab": {
      "provenance": []
    }
  },
  "nbformat": 4,
  "nbformat_minor": 0
}