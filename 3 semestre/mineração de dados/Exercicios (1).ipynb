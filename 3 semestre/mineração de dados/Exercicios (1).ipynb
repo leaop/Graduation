{
 "cells": [
  {
   "attachments": {},
   "cell_type": "markdown",
   "metadata": {},
   "source": [
    "1 - Crie um array Numpy 1D com 10 elementos e, em seguida, inverta a ordem dos elementos."
   ]
  },
  {
   "cell_type": "code",
   "execution_count": 8,
   "metadata": {},
   "outputs": [],
   "source": [
    "# resolva o Exercício aqui\n",
    "import numpy as np\n",
    "d1 = np.random.randint(1,101, size=10)\n",
    "invert_d1 = d1[::-1]"
   ]
  },
  {
   "cell_type": "code",
   "execution_count": 9,
   "metadata": {},
   "outputs": [
    {
     "data": {
      "text/plain": [
       "array([23, 58, 43, 86, 43, 70, 59,  7, 54, 80])"
      ]
     },
     "execution_count": 9,
     "metadata": {},
     "output_type": "execute_result"
    }
   ],
   "source": [
    "d1"
   ]
  },
  {
   "cell_type": "code",
   "execution_count": 10,
   "metadata": {},
   "outputs": [
    {
     "data": {
      "text/plain": [
       "array([80, 54,  7, 59, 70, 43, 86, 43, 58, 23])"
      ]
     },
     "execution_count": 10,
     "metadata": {},
     "output_type": "execute_result"
    }
   ],
   "source": [
    "invert_d1"
   ]
  },
  {
   "attachments": {},
   "cell_type": "markdown",
   "metadata": {},
   "source": [
    "2 - Crie uma matriz 3x3 com números aleatórios entre 0 e 1."
   ]
  },
  {
   "cell_type": "code",
   "execution_count": 4,
   "metadata": {},
   "outputs": [],
   "source": [
    "# resolva o Exercício aqui\n",
    "m3 = np.random.rand(3,3)"
   ]
  },
  {
   "cell_type": "code",
   "execution_count": 5,
   "metadata": {},
   "outputs": [
    {
     "data": {
      "text/plain": [
       "array([[0.07336018, 0.5974477 , 0.11038828],\n",
       "       [0.035208  , 0.75928261, 0.33701844],\n",
       "       [0.43070029, 0.00846191, 0.84832823]])"
      ]
     },
     "execution_count": 5,
     "metadata": {},
     "output_type": "execute_result"
    }
   ],
   "source": [
    "m3"
   ]
  },
  {
   "attachments": {},
   "cell_type": "markdown",
   "metadata": {},
   "source": [
    "3 - Dado um array 1D, encontre os índices dos elementos que são maiores que 5."
   ]
  },
  {
   "cell_type": "code",
   "execution_count": 13,
   "metadata": {},
   "outputs": [],
   "source": [
    "# resolva o Exercício aqui\n",
    "ind = np.where(d1 > 5)"
   ]
  },
  {
   "cell_type": "code",
   "execution_count": 14,
   "metadata": {},
   "outputs": [
    {
     "data": {
      "text/plain": [
       "(array([0, 1, 2, 3, 4, 5, 6, 7, 8, 9], dtype=int64),)"
      ]
     },
     "execution_count": 14,
     "metadata": {},
     "output_type": "execute_result"
    }
   ],
   "source": [
    "ind"
   ]
  },
  {
   "attachments": {},
   "cell_type": "markdown",
   "metadata": {},
   "source": [
    "4 - Dada uma matriz 4x4, calcule a soma dos elementos de cada coluna e cada linha."
   ]
  },
  {
   "cell_type": "code",
   "execution_count": 22,
   "metadata": {},
   "outputs": [
    {
     "name": "stdout",
     "output_type": "stream",
     "text": [
      "m4\n",
      "[[4 8 4 3]\n",
      " [7 8 7 5]\n",
      " [4 4 6 4]\n",
      " [2 1 4 2]]\n",
      "Soma dos elementos de cada linha:\n",
      "[19 27 18  9]\n",
      "Soma dos elementos de cada coluna:\n",
      "[17 21 21 14]\n"
     ]
    }
   ],
   "source": [
    "#matriz 4x4 com valores aleatórios entre 1 e 10\n",
    "m4 = np.random.randint(1, 11, size=(4, 4))\n",
    "print(\"m4\")\n",
    "print(m4)\n",
    "\n",
    "#soma dos elementos de cada linha (axis 1)\n",
    "soma_linhas = np.sum(m4, axis=1)\n",
    "print(\"Soma dos elementos de cada linha:\")\n",
    "print(soma_linhas)\n",
    "\n",
    "#soma dos elementos de cada coluna (axis 0)\n",
    "soma_colunas = np.sum(m4, axis=0)\n",
    "print(\"Soma dos elementos de cada coluna:\")\n",
    "print(soma_colunas)\n"
   ]
  },
  {
   "attachments": {},
   "cell_type": "markdown",
   "metadata": {},
   "source": [
    "5 - Crie uma matriz identidade 5x5 usando Numpy."
   ]
  },
  {
   "cell_type": "code",
   "execution_count": 16,
   "metadata": {},
   "outputs": [],
   "source": [
    "# resolva o Exercício aqui\n",
    "mi = np.eye(5)"
   ]
  },
  {
   "cell_type": "code",
   "execution_count": 17,
   "metadata": {},
   "outputs": [
    {
     "data": {
      "text/plain": [
       "array([[1., 0., 0., 0., 0.],\n",
       "       [0., 1., 0., 0., 0.],\n",
       "       [0., 0., 1., 0., 0.],\n",
       "       [0., 0., 0., 1., 0.],\n",
       "       [0., 0., 0., 0., 1.]])"
      ]
     },
     "execution_count": 17,
     "metadata": {},
     "output_type": "execute_result"
    }
   ],
   "source": [
    "mi"
   ]
  },
  {
   "attachments": {},
   "cell_type": "markdown",
   "metadata": {},
   "source": [
    "6 - Dado um array 1D, substitua todos os números pares por -1 sem alterar o array original."
   ]
  },
  {
   "cell_type": "code",
   "execution_count": 18,
   "metadata": {},
   "outputs": [],
   "source": [
    "# resolva o Exercício aqui\n",
    "d1_copia = d1.copy()"
   ]
  },
  {
   "cell_type": "code",
   "execution_count": 19,
   "metadata": {},
   "outputs": [],
   "source": [
    "d1_copia[d1_copia % 2 == 0] = -1"
   ]
  },
  {
   "cell_type": "code",
   "execution_count": 20,
   "metadata": {},
   "outputs": [
    {
     "data": {
      "text/plain": [
       "array([23, -1, 43, -1, 43, -1, 59,  7, -1, -1])"
      ]
     },
     "execution_count": 20,
     "metadata": {},
     "output_type": "execute_result"
    }
   ],
   "source": [
    "d1_copia"
   ]
  },
  {
   "attachments": {},
   "cell_type": "markdown",
   "metadata": {},
   "source": [
    "7 - Dadas duas matrizes, calcule a soma, a subtração, a multiplicação elemento a elemento e a multiplicação de matrizes."
   ]
  },
  {
   "cell_type": "code",
   "execution_count": 24,
   "metadata": {},
   "outputs": [
    {
     "name": "stdout",
     "output_type": "stream",
     "text": [
      "Soma elemento a elemento:\n",
      "[[ 66  88]\n",
      " [110 132]]\n",
      "Subtração elemento a elemento:\n",
      "[[-44 -44]\n",
      " [-44 -44]]\n",
      "Multiplicação elemento a elemento:\n",
      "[[ 605 1452]\n",
      " [2541 3872]]\n",
      "Multiplicação das matrizes:\n",
      "[[2299 2662]\n",
      " [5203 6050]]\n"
     ]
    }
   ],
   "source": [
    "# resolva o Exercício aqui\n",
    "m1 = np.array([[11, 22], [33, 44]])\n",
    "m2 = np.array([[55, 66], [77, 88]])\n",
    "\n",
    "# Calcula a soma elemento a elemento\n",
    "soma = m1 + m2\n",
    "\n",
    "# Calcula a subtração elemento a elemento\n",
    "subtracao = m1 - m2\n",
    "\n",
    "# Calcula a multiplicação elemento a elemento\n",
    "multiplicacao = m1 * m2\n",
    "\n",
    "# Calcula a multiplicação das matrizes\n",
    "multiplicacao_matrizes = m1.dot(m2)\n",
    "\n",
    "# Exibe as matrizes e os resultados na tela\n",
    "print(\"Soma elemento a elemento:\")\n",
    "print(soma)\n",
    "print(\"Subtração elemento a elemento:\")\n",
    "print(subtracao)\n",
    "print(\"Multiplicação elemento a elemento:\")\n",
    "print(multiplicacao)\n",
    "print(\"Multiplicação das matrizes:\")\n",
    "print(multiplicacao_matrizes)\n"
   ]
  },
  {
   "attachments": {},
   "cell_type": "markdown",
   "metadata": {},
   "source": [
    "8 - Implemente uma função que calcula a distância euclidiana entre dois vetores usando Numpy."
   ]
  },
  {
   "cell_type": "code",
   "execution_count": null,
   "metadata": {},
   "outputs": [],
   "source": [
    "# resolva o Exercício aqui\n",
    "# distancia euclidiana = d = sqrt((x2 - x1)^2 + (y2 - y1)^2)\n",
    "def distancia_euclidiana(vetor1, vetor2):\n",
    "    # usar os vetores como float evitaria erros na operação\n",
    "    # Isso porque ele permite que sejam realizadas operações de ponto flutuante com precisão razoável, evitando problemas de arredondamento e truncamento\n",
    "    vetor1 = vetor1.astype(float)\n",
    "    vetor2 = vetor2.astype(float)\n",
    "    \n",
    "    # diferença entre os vetores\n",
    "    diferenca = vetor1 - vetor2\n",
    "    \n",
    "    # quadrado da diferença\n",
    "    quadrado_diferenca = diferenca ** 2\n",
    "    \n",
    "    # Soma os quadrados das diferenças\n",
    "    soma_quadrados = np.sum(quadrado_diferenca)\n",
    "    \n",
    "    # Calcula a raiz quadrada da soma dos quadrados\n",
    "    distancia = np.sqrt(soma_quadrados)\n",
    "    \n",
    "    return distancia\n"
   ]
  },
  {
   "attachments": {},
   "cell_type": "markdown",
   "metadata": {},
   "source": [
    "9 - Dado um array, encontre a média, a mediana e o desvio padrão dos elementos."
   ]
  },
  {
   "cell_type": "code",
   "execution_count": 30,
   "metadata": {},
   "outputs": [
    {
     "name": "stdout",
     "output_type": "stream",
     "text": [
      "Array:  [0.1028685  0.10230924 0.57905026 0.39785728 0.94621856 0.80192903\n",
      " 0.57033284 0.83520754 0.89636467 0.7782466 ]\n",
      "Média:  0.6010384535234474\n",
      "Mediana:  0.6786484319323437\n",
      "Desvio padrão:  0.29539377489884905\n"
     ]
    }
   ],
   "source": [
    "# primeiro modo\n",
    "arr = np.random.rand(10)\n",
    "import numpy as np\n",
    "\n",
    "# média do array\n",
    "media = np.mean(arr)\n",
    "\n",
    "# mediana do array\n",
    "mediana = np.median(arr)\n",
    "\n",
    "# desvio padrão do array\n",
    "desvio_padrao = np.std(arr)\n",
    "\n",
    "print(\"Array: \", arr)\n",
    "print(\"Média: \", media)\n",
    "print(\"Mediana: \", mediana)\n",
    "print(\"Desvio padrão: \", desvio_padrao)\n"
   ]
  },
  {
   "cell_type": "code",
   "execution_count": 33,
   "metadata": {},
   "outputs": [
    {
     "data": {
      "text/html": [
       "<div>\n",
       "<style scoped>\n",
       "    .dataframe tbody tr th:only-of-type {\n",
       "        vertical-align: middle;\n",
       "    }\n",
       "\n",
       "    .dataframe tbody tr th {\n",
       "        vertical-align: top;\n",
       "    }\n",
       "\n",
       "    .dataframe thead th {\n",
       "        text-align: right;\n",
       "    }\n",
       "</style>\n",
       "<table border=\"1\" class=\"dataframe\">\n",
       "  <thead>\n",
       "    <tr style=\"text-align: right;\">\n",
       "      <th></th>\n",
       "      <th>0</th>\n",
       "    </tr>\n",
       "  </thead>\n",
       "  <tbody>\n",
       "    <tr>\n",
       "      <th>count</th>\n",
       "      <td>10.000000</td>\n",
       "    </tr>\n",
       "    <tr>\n",
       "      <th>mean</th>\n",
       "      <td>0.601038</td>\n",
       "    </tr>\n",
       "    <tr>\n",
       "      <th>std</th>\n",
       "      <td>0.311372</td>\n",
       "    </tr>\n",
       "    <tr>\n",
       "      <th>min</th>\n",
       "      <td>0.102309</td>\n",
       "    </tr>\n",
       "    <tr>\n",
       "      <th>25%</th>\n",
       "      <td>0.440976</td>\n",
       "    </tr>\n",
       "    <tr>\n",
       "      <th>50%</th>\n",
       "      <td>0.678648</td>\n",
       "    </tr>\n",
       "    <tr>\n",
       "      <th>75%</th>\n",
       "      <td>0.826888</td>\n",
       "    </tr>\n",
       "    <tr>\n",
       "      <th>max</th>\n",
       "      <td>0.946219</td>\n",
       "    </tr>\n",
       "  </tbody>\n",
       "</table>\n",
       "</div>"
      ],
      "text/plain": [
       "               0\n",
       "count  10.000000\n",
       "mean    0.601038\n",
       "std     0.311372\n",
       "min     0.102309\n",
       "25%     0.440976\n",
       "50%     0.678648\n",
       "75%     0.826888\n",
       "max     0.946219"
      ]
     },
     "execution_count": 33,
     "metadata": {},
     "output_type": "execute_result"
    }
   ],
   "source": [
    "#segundo modo de fazer\n",
    "import pandas as pd\n",
    "novo = pd.DataFrame(arr)\n",
    "novo.describe()"
   ]
  },
  {
   "attachments": {},
   "cell_type": "markdown",
   "metadata": {},
   "source": [
    "10 - Dada uma matriz, normalize-a de forma que seus elementos estejam no intervalo [0, 1]."
   ]
  },
  {
   "cell_type": "code",
   "execution_count": 35,
   "metadata": {},
   "outputs": [
    {
     "name": "stdout",
     "output_type": "stream",
     "text": [
      "Matriz: \n",
      " [[55 66]\n",
      " [77 88]]\n",
      "\n",
      "Matriz normalizada: \n",
      " [[0. 0.]\n",
      " [1. 1.]]\n"
     ]
    }
   ],
   "source": [
    "# resolva o Exercício aqui\n",
    "from sklearn.preprocessing import MinMaxScaler\n",
    "\n",
    "# utilizando uma matriz do exercicio anterior\n",
    "matriz = m2\n",
    "\n",
    "# Criando o objeto MinMaxScaler\n",
    "scaler = MinMaxScaler()\n",
    "\n",
    "# Normalizando a matriz\n",
    "matriz_normalizada = scaler.fit_transform(matriz)\n",
    "\n",
    "print(\"Matriz: \\n\", matriz)\n",
    "print(\"\\nMatriz normalizada: \\n\", matriz_normalizada)\n"
   ]
  },
  {
   "attachments": {},
   "cell_type": "markdown",
   "metadata": {},
   "source": [
    "11 - Dado um conjunto de pontos, calcule a matriz de distâncias euclidianas entre todos os pares de pontos."
   ]
  },
  {
   "cell_type": "code",
   "execution_count": 36,
   "metadata": {},
   "outputs": [
    {
     "name": "stdout",
     "output_type": "stream",
     "text": [
      "Conjunto de pontos:\n",
      " [[0.16667177 0.32866423 0.59581209]\n",
      " [0.70924843 0.82020608 0.51600485]\n",
      " [0.1639932  0.24092856 0.16072369]\n",
      " [0.12091027 0.78408656 0.38689527]\n",
      " [0.92841528 0.14977738 0.34962749]]\n",
      "\n",
      "Matriz de distâncias euclidianas:\n",
      " [[0.         0.73645911 0.4438543  0.50313999 0.82028077]\n",
      " [0.73645911 0.         0.87125795 0.60342001 0.72470006]\n",
      " [0.4438543  0.87125795 0.         0.58994096 0.79267541]\n",
      " [0.50313999 0.60342001 0.58994096 0.         1.02752195]\n",
      " [0.82028077 0.72470006 0.79267541 1.02752195 0.        ]]\n"
     ]
    }
   ],
   "source": [
    "# resolva o Exercício aqui\n",
    "from scipy.spatial.distance import pdist, squareform\n",
    "# spatial.distance é usada para calcular distancia entre pontos\n",
    "# pdist calcula a distancia entre todos os pares de pontos\n",
    "# squareform tranforma um vetor de distancia em uma matriz contendo a distancia entre os pontos correspondentes\n",
    "# Criando um conjunto de pontos com 5 pontos em 3 dimensões\n",
    "pontos = np.random.rand(5, 3)\n",
    "\n",
    "# Calculando a matriz (squareform) de distâncias(pdist) euclidianas (metric)\n",
    "matriz_distancias = squareform(pdist(pontos, metric='euclidean'))\n",
    "\n",
    "print(\"Conjunto de pontos:\\n\", pontos)\n",
    "print(\"\\nMatriz de distâncias euclidianas:\\n\", matriz_distancias)\n"
   ]
  },
  {
   "attachments": {},
   "cell_type": "markdown",
   "metadata": {},
   "source": [
    "12 - Implemente uma função que recebe um array e um valor e retorna o valor mais próximo do array."
   ]
  },
  {
   "cell_type": "code",
   "execution_count": 37,
   "metadata": {},
   "outputs": [],
   "source": [
    "# resolva o Exercício aqui\n",
    "def valor_mais_proximo(array, valor):\n",
    "    indice = np.abs(array - valor).argmin() \n",
    "    # np.abs calcula a diferença entre todos os elementos do array e o valor dado \n",
    "    # .argmin() retorna o índice do elemento do array com a menor diferença em relação ao valor dado como entrada\n",
    "    return array[indice] #retorna o elemento com a menor diferença\n"
   ]
  },
  {
   "cell_type": "code",
   "execution_count": 44,
   "metadata": {},
   "outputs": [
    {
     "name": "stdout",
     "output_type": "stream",
     "text": [
      "o array é: [0.03860149 0.6864523  0.56950558 0.09260972 0.38272829 0.69690938\n",
      " 0.05436691 0.04515611 0.35705899 0.64753347]\n",
      "o valor de referencia é: 0.23650794726145785\n",
      "Valor mais próximo: 0.3570589871638775\n"
     ]
    }
   ],
   "source": [
    "array = np.random.rand(10)\n",
    "valor_referencia = np.random.rand()\n",
    "print(f'o array é: {array}')\n",
    "print(f'o valor de referencia é: {valor_referencia}')\n",
    "valor_proximo = valor_mais_proximo(array, valor_referencia)\n",
    "print(\"Valor mais próximo:\", valor_proximo)\n"
   ]
  },
  {
   "attachments": {},
   "cell_type": "markdown",
   "metadata": {},
   "source": [
    "13 - Crie um array 2D 8x8 com um padrão de tabuleiro de xadrez usando 0s e 1s."
   ]
  },
  {
   "cell_type": "code",
   "execution_count": 45,
   "metadata": {},
   "outputs": [
    {
     "name": "stdout",
     "output_type": "stream",
     "text": [
      "[[0 1 0 1 0 1 0 1]\n",
      " [1 0 1 0 1 0 1 0]\n",
      " [0 1 0 1 0 1 0 1]\n",
      " [1 0 1 0 1 0 1 0]\n",
      " [0 1 0 1 0 1 0 1]\n",
      " [1 0 1 0 1 0 1 0]\n",
      " [0 1 0 1 0 1 0 1]\n",
      " [1 0 1 0 1 0 1 0]]\n"
     ]
    }
   ],
   "source": [
    "# Cria uma matriz 8x8 de zeros\n",
    "tabuleiro = np.zeros((8, 8), dtype=int)\n",
    "# Atribui valores 1 em uma \"diagonal\" de elementos alternados\n",
    "tabuleiro[::2, 1::2] = 1 \n",
    "''' são selecionadas as linhas ímpares (começando da segunda linha) e as colunas pares, \n",
    "e essas posições são preenchidas com o valor 1'''\n",
    "tabuleiro[1::2, ::2] = 1\n",
    "'''são selecionadas as linhas pares e as colunas ímpares, \n",
    "e essas posições são preenchidas com o valor 1'''\n",
    "print(tabuleiro)\n"
   ]
  },
  {
   "cell_type": "code",
   "execution_count": null,
   "metadata": {},
   "outputs": [],
   "source": [
    "#segunda forma\n",
    "# Cria um array 4x4 com o padrão 0-1\n",
    "padrao = np.array([[0, 1], [1, 0]])\n",
    "# Repete o padrão nos dois eixos para criar um array 8x8\n",
    "tabuleiro = np.tile(padrao, (4, 4))\n",
    "# Imprime o tabuleiro\n",
    "print(tabuleiro)\n"
   ]
  },
  {
   "attachments": {},
   "cell_type": "markdown",
   "metadata": {},
   "source": [
    "14 - Implemente uma função que recebe um array e um valor e retorna o índice do elemento mais próximo do valor no array."
   ]
  },
  {
   "cell_type": "code",
   "execution_count": null,
   "metadata": {},
   "outputs": [],
   "source": [
    "# resolva o Exercício aqui\n"
   ]
  },
  {
   "attachments": {},
   "cell_type": "markdown",
   "metadata": {},
   "source": [
    "15 - Dado um array 1D, calcule a autocorrelação do array."
   ]
  },
  {
   "cell_type": "code",
   "execution_count": 46,
   "metadata": {},
   "outputs": [],
   "source": [
    "# resolva o Exercício aqui\n",
    "auto_c = np.correlate(d1, d1, mode='full')\n",
    "#np.correlate('array de entrada', 'array para correlacao', modo de calculo - full é padrão)"
   ]
  },
  {
   "cell_type": "code",
   "execution_count": 47,
   "metadata": {},
   "outputs": [
    {
     "data": {
      "text/plain": [
       "array([ 1840,  5882,  6733, 10965, 13417, 16110, 21357, 20619, 23475,\n",
       "       32733, 23475, 20619, 21357, 16110, 13417, 10965,  6733,  5882,\n",
       "        1840])"
      ]
     },
     "execution_count": 47,
     "metadata": {},
     "output_type": "execute_result"
    }
   ],
   "source": [
    "auto_c"
   ]
  },
  {
   "attachments": {},
   "cell_type": "markdown",
   "metadata": {},
   "source": [
    "16 - Implemente uma função que retorna a matriz de covariância entre duas variáveis de entrada usando Numpy."
   ]
  },
  {
   "cell_type": "code",
   "execution_count": 49,
   "metadata": {},
   "outputs": [
    {
     "name": "stdout",
     "output_type": "stream",
     "text": [
      "[[544.5 544.5 544.5]\n",
      " [544.5 544.5 544.5]\n",
      " [544.5 544.5 544.5]]\n"
     ]
    }
   ],
   "source": [
    "# resolva o Exercício aqui\n",
    "# array com as observações das variáveis x e y\n",
    "X = np.array([[12, 23, 34], [45, 56, 67]])\n",
    "# matriz de covariância entre x e y\n",
    "cov = np.cov(X, rowvar=False)\n",
    "\n",
    "print(cov)\n"
   ]
  },
  {
   "attachments": {},
   "cell_type": "markdown",
   "metadata": {},
   "source": [
    "17 - Implemente uma função que calcula o produto interno entre dois vetores usando Numpy."
   ]
  },
  {
   "cell_type": "code",
   "execution_count": 50,
   "metadata": {},
   "outputs": [
    {
     "name": "stdout",
     "output_type": "stream",
     "text": [
      "32\n"
     ]
    }
   ],
   "source": [
    "# resolva o Exercício aqui\n",
    "def produto_interno(v1, v2):\n",
    "    return np.dot(v1, v2)\n",
    "\n",
    "v1 = np.array([1, 2, 3])\n",
    "v2 = np.array([4, 5, 6])\n",
    "\n",
    "print(produto_interno(v1, v2))"
   ]
  },
  {
   "attachments": {},
   "cell_type": "markdown",
   "metadata": {},
   "source": [
    "18 - Dado um array 1D, calcule a diferença entre os elementos consecutivos."
   ]
  },
  {
   "cell_type": "code",
   "execution_count": 52,
   "metadata": {},
   "outputs": [
    {
     "name": "stdout",
     "output_type": "stream",
     "text": [
      "[ 35 -15  43 -43  27 -11 -52  47  26]\n"
     ]
    }
   ],
   "source": [
    "# resolva o Exercício aqui\n",
    "diff = np.diff(d1)\n",
    "print(diff)"
   ]
  },
  {
   "attachments": {},
   "cell_type": "markdown",
   "metadata": {},
   "source": [
    "19 - Dada uma matriz, calcule a transposta e a inversa da matriz usando Numpy."
   ]
  },
  {
   "cell_type": "code",
   "execution_count": 55,
   "metadata": {},
   "outputs": [
    {
     "name": "stdout",
     "output_type": "stream",
     "text": [
      "Matriz A:\n",
      "[[11 22]\n",
      " [33 44]]\n",
      "Matriz transposta de A:\n",
      "[[11 33]\n",
      " [22 44]]\n",
      "Matriz inversa de A:\n",
      "[[-0.18181818  0.09090909]\n",
      " [ 0.13636364 -0.04545455]]\n"
     ]
    }
   ],
   "source": [
    "# resolva o Exercício aqui\n",
    "#matriz transposta\n",
    "t_transposta = m1.transpose()\n",
    "\n",
    "# Calculando a matriz inversa\n",
    "t_inversa = np.linalg.inv(m1)\n",
    "\n",
    "print(\"Matriz A:\")\n",
    "print(m1)\n",
    "print(\"Matriz transposta de A:\")\n",
    "print(t_transposta)\n",
    "print(\"Matriz inversa de A:\")\n",
    "print(t_inversa)\n"
   ]
  },
  {
   "attachments": {},
   "cell_type": "markdown",
   "metadata": {},
   "source": [
    "20 - Implemente uma função que recebe um array 1D e retorna um array com os elementos normalizados para que a soma dos elementos seja igual a 1 (distribuição de probabilidade)."
   ]
  },
  {
   "cell_type": "code",
   "execution_count": null,
   "metadata": {},
   "outputs": [],
   "source": [
    "# resolva o Exercício aqui\n",
    "def normalize_array(arr):\n",
    "    arr_sum = np.sum(arr)\n",
    "    normalized_arr = arr / arr_sum\n",
    "    return normalized_arr\n"
   ]
  }
 ],
 "metadata": {
  "kernelspec": {
   "display_name": "tf",
   "language": "python",
   "name": "python3"
  },
  "language_info": {
   "codemirror_mode": {
    "name": "ipython",
    "version": 3
   },
   "file_extension": ".py",
   "mimetype": "text/x-python",
   "name": "python",
   "nbconvert_exporter": "python",
   "pygments_lexer": "ipython3",
   "version": "3.11.3"
  },
  "orig_nbformat": 4
 },
 "nbformat": 4,
 "nbformat_minor": 2
}
