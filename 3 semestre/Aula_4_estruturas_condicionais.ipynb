{
 "cells": [
  {
   "cell_type": "markdown",
   "metadata": {},
   "source": [
    "# Aula 4 - If, Else, Elif e Loop For\n",
    "\n",
    "<code>if</code> permite dizer ao computador para executar ações alternativas com base em um determinado conjunto de resultados.\n",
    "\n",
    "Verbalmente, podemos imaginar que estamos dizendo ao computador:\n",
    "\n",
    "\"Se esse caso acontecer, execute alguma ação\"\n",
    "\n",
    "Podemos então expandir ainda mais a ideia com as instruções <code>elif</code> e <code>else</code>, que nos permitem informar ao computador:\n",
    "\n",
    "\"Se esse caso acontecer, execute alguma ação. Senão, se outro caso acontecer, execute outra ação. Caso contrário, se **nenhum** dos casos acima ocorreu, execute esta ação.\"\n",
    "\n",
    "Observe o formato de sintaxe das instruções <code>if</code> para ter uma idéia melhor disso:\n",
    "\n",
    "    if caso1:\n",
    "        faça ação1\n",
    "    elif case2:\n",
    "        faça ação2\n",
    "    else: \n",
    "        faça ação3"
   ]
  },
  {
   "cell_type": "markdown",
   "metadata": {},
   "source": [
    "# 1 - Operadores Relacionais\n",
    "\n",
    "Também conhecidos como operadores de comparação, comparam duas variáveis. No python temos:\n",
    "* Compara se duas variáveis são iguais `==`\n",
    "* Compara se duas variáveis são diferentes `!=`\n",
    "* Compara se uma variável é maior que outra `>`\n",
    "* Compara se uma variável é maior ou igual que outra `>=`\n",
    "* Compara se uma variável é menor que outra `<`\n",
    "* Compara se uma variável é menor ou igual que outra `<=`\n",
    "\n",
    "A resposta da comparação é em booleano, sendo True se a comparação for verdadeira, ou False se for falsa."
   ]
  },
  {
   "cell_type": "code",
   "execution_count": 69,
   "metadata": {},
   "outputs": [
    {
     "data": {
      "text/plain": [
       "False"
      ]
     },
     "execution_count": 69,
     "metadata": {},
     "output_type": "execute_result"
    }
   ],
   "source": [
    "# Compara se 1 é igual a 2\n",
    "1 == 2"
   ]
  },
  {
   "cell_type": "code",
   "execution_count": 70,
   "metadata": {},
   "outputs": [
    {
     "data": {
      "text/plain": [
       "True"
      ]
     },
     "execution_count": 70,
     "metadata": {},
     "output_type": "execute_result"
    }
   ],
   "source": [
    "# Compara se 1 é igual a 1\n",
    "1 == 1"
   ]
  },
  {
   "cell_type": "code",
   "execution_count": null,
   "metadata": {},
   "outputs": [],
   "source": [
    "# Compara se 1 é diferente de 2\n",
    "1 != 2"
   ]
  },
  {
   "cell_type": "code",
   "execution_count": null,
   "metadata": {},
   "outputs": [],
   "source": [
    "# Compara se 1 é diferente de 1\n",
    "1 != 1"
   ]
  },
  {
   "cell_type": "code",
   "execution_count": null,
   "metadata": {},
   "outputs": [],
   "source": [
    "# Compara se 1 é maior que 2\n",
    "1 > 2"
   ]
  },
  {
   "cell_type": "code",
   "execution_count": null,
   "metadata": {},
   "outputs": [],
   "source": [
    "# Compara se 1 é menor que 2\n",
    "1 < 2"
   ]
  },
  {
   "cell_type": "code",
   "execution_count": null,
   "metadata": {},
   "outputs": [],
   "source": [
    "# Compara se 2 é maior que 2\n",
    "2 > 2"
   ]
  },
  {
   "cell_type": "code",
   "execution_count": null,
   "metadata": {},
   "outputs": [],
   "source": [
    "# Compara se 2 é maior ou igual que 2\n",
    "2 >= 2"
   ]
  },
  {
   "cell_type": "code",
   "execution_count": null,
   "metadata": {},
   "outputs": [],
   "source": [
    "# Compara se 2 é menor ou igual que 2\n",
    "2 <= 2"
   ]
  },
  {
   "cell_type": "code",
   "execution_count": null,
   "metadata": {},
   "outputs": [],
   "source": [
    "# Compara se 1 é maior ou igual que 2\n",
    "1 >= 2"
   ]
  },
  {
   "cell_type": "code",
   "execution_count": null,
   "metadata": {},
   "outputs": [],
   "source": [
    "# Compara se 1 é menor ou igual que 2\n",
    "1 <= 2"
   ]
  },
  {
   "cell_type": "markdown",
   "metadata": {},
   "source": [
    "# 2 - Agora vamos comparar com variáveis"
   ]
  },
  {
   "cell_type": "code",
   "execution_count": 71,
   "metadata": {},
   "outputs": [],
   "source": [
    "# Cria a variável número\n",
    "numero = 5"
   ]
  },
  {
   "cell_type": "code",
   "execution_count": 43,
   "metadata": {},
   "outputs": [
    {
     "data": {
      "text/plain": [
       "True"
      ]
     },
     "execution_count": 43,
     "metadata": {},
     "output_type": "execute_result"
    }
   ],
   "source": [
    "# Operador de comparação que verifica se a variável numero é igual a 5\n",
    "numero == 5"
   ]
  },
  {
   "cell_type": "code",
   "execution_count": 27,
   "metadata": {},
   "outputs": [
    {
     "data": {
      "text/plain": [
       "False"
      ]
     },
     "execution_count": 27,
     "metadata": {},
     "output_type": "execute_result"
    }
   ],
   "source": [
    "# Operador de comparação que verifica se a variável numero é igual a 6\n",
    "numero == 6"
   ]
  },
  {
   "cell_type": "code",
   "execution_count": 28,
   "metadata": {},
   "outputs": [
    {
     "name": "stdout",
     "output_type": "stream",
     "text": [
      "É verdade!\n"
     ]
    }
   ],
   "source": [
    "if numero == 5:\n",
    "    print('É verdade!')"
   ]
  },
  {
   "cell_type": "code",
   "execution_count": 29,
   "metadata": {},
   "outputs": [
    {
     "name": "stdout",
     "output_type": "stream",
     "text": [
      "Agora é verdade!\n"
     ]
    }
   ],
   "source": [
    "if numero == 6:\n",
    "    print('É verdade!')\n",
    "elif numero == 5:\n",
    "    print('Agora é verdade!')"
   ]
  },
  {
   "cell_type": "code",
   "execution_count": 30,
   "metadata": {},
   "outputs": [],
   "source": [
    "if numero == 6:\n",
    "    print('É verdade!')\n",
    "elif numero == 7:\n",
    "    print('Agora é verdade!')"
   ]
  },
  {
   "cell_type": "code",
   "execution_count": 72,
   "metadata": {},
   "outputs": [
    {
     "name": "stdout",
     "output_type": "stream",
     "text": [
      "213\n"
     ]
    }
   ],
   "source": [
    "if numero == 6:\n",
    "    print('É verdade!')\n",
    "elif numero == 7:\n",
    "    print('Agora é verdade!')\n",
    "else:\n",
    "    print(213)"
   ]
  },
  {
   "cell_type": "code",
   "execution_count": 74,
   "metadata": {},
   "outputs": [
    {
     "name": "stdout",
     "output_type": "stream",
     "text": [
      "Agora é verdade! 5\n"
     ]
    }
   ],
   "source": [
    "if numero == 6:\n",
    "    print('É verdade!')\n",
    "elif numero == 7:\n",
    "    print('Agora é verdade!')\n",
    "elif numero == 8:\n",
    "    print('Agora é verdade!')\n",
    "elif numero == 5:\n",
    "    print('Agora é verdade! 5')\n",
    "\n",
    "else:\n",
    "    print('Não é verdade!')"
   ]
  },
  {
   "cell_type": "markdown",
   "metadata": {},
   "source": [
    "Observe como as instruções <code>if</code> aninhadas são verificadas até que um booleano True faça com que o código aninhado abaixo dela seja executado. Você também deve observar que pode inserir quantas instruções <code>elif</code> quiser antes de fechar com um <code>else</code>.\n",
    "\n",
    "Vamos criar mais alguns exemplos simples para as instruções <code>if</code>, <code>elif</code> e <code>else</code>:"
   ]
  },
  {
   "cell_type": "code",
   "execution_count": 44,
   "metadata": {},
   "outputs": [],
   "source": [
    "pessoa_1 = 'Matheus'\n",
    "pessoa_2 = 'Felipe'\n",
    "pessoa_3 = 'Pedro'"
   ]
  },
  {
   "cell_type": "code",
   "execution_count": 47,
   "metadata": {},
   "outputs": [
    {
     "data": {
      "text/plain": [
       "True"
      ]
     },
     "execution_count": 47,
     "metadata": {},
     "output_type": "execute_result"
    }
   ],
   "source": [
    "pessoa_1 == 'Matheus'"
   ]
  },
  {
   "cell_type": "code",
   "execution_count": 37,
   "metadata": {},
   "outputs": [
    {
     "name": "stdout",
     "output_type": "stream",
     "text": [
      "Bem vindo, qual é seu nome?\n"
     ]
    }
   ],
   "source": [
    "pessoa = 'Ana'\n",
    "\n",
    "if pessoa == 'CArlo':\n",
    "    print('Olá Ana!')\n",
    "else:\n",
    "    print(\"Bem vindo, qual é seu nome?\")"
   ]
  },
  {
   "cell_type": "code",
   "execution_count": 39,
   "metadata": {},
   "outputs": [],
   "source": [
    "pessoa = 'Carla'"
   ]
  },
  {
   "cell_type": "code",
   "execution_count": 40,
   "metadata": {},
   "outputs": [
    {
     "data": {
      "text/plain": [
       "'Carla'"
      ]
     },
     "execution_count": 40,
     "metadata": {},
     "output_type": "execute_result"
    }
   ],
   "source": [
    "pessoa"
   ]
  },
  {
   "cell_type": "code",
   "execution_count": 41,
   "metadata": {},
   "outputs": [
    {
     "data": {
      "text/plain": [
       "False"
      ]
     },
     "execution_count": 41,
     "metadata": {},
     "output_type": "execute_result"
    }
   ],
   "source": [
    "pessoa == 'Ana'"
   ]
  },
  {
   "cell_type": "code",
   "execution_count": 38,
   "metadata": {},
   "outputs": [
    {
     "name": "stdout",
     "output_type": "stream",
     "text": [
      "Bem vinda, Carla!\n"
     ]
    }
   ],
   "source": [
    "pessoa = 'Carla'\n",
    "\n",
    "if pessoa == 'Ana':\n",
    "    print('Bem vinda, Ana!')\n",
    "elif pessoa =='Jorge':\n",
    "    print('Bem vindo, Jorge!')\n",
    "elif pessoa =='João':\n",
    "    print('Bem vindo, João!')\n",
    "elif pessoa =='Carla':\n",
    "    print('Bem vinda, Carla!')\n",
    "else:\n",
    "    print(\"Bem vindo, qual é seu nome?\")"
   ]
  },
  {
   "cell_type": "code",
   "execution_count": 58,
   "metadata": {},
   "outputs": [
    {
     "name": "stdout",
     "output_type": "stream",
     "text": [
      "Leão vai tirar apenas 10% da sua conta e por favor fique tranquilo\n"
     ]
    }
   ],
   "source": [
    "# Imprimir um percetual de imposto\n",
    "# Quando o salario for menor que R$500 o programa irá imprimir o percentual 5%\n",
    "# Quando o salario for De R$500 a R$850 o programa irá imprimir o percentual 10%\n",
    "# Quando o salario for acima de R$850 o programa irá imprimir o percentual 27.5%\n",
    "\n",
    "salario = 700\n",
    "\n",
    "if salario < 500:\n",
    "    print('Leão vai tirar apenas 5% da sua conta')\n",
    "elif salario>=500 and salario <=850:\n",
    "    print('Leão vai tirar apenas 10% da sua conta e por favor fique tranquilo')\n",
    "else:\n",
    "    print('Lamento muito! você está ganhando bem então vai pagar apenas 27.5%')"
   ]
  },
  {
   "cell_type": "code",
   "execution_count": 55,
   "metadata": {},
   "outputs": [
    {
     "data": {
      "text/plain": [
       "False"
      ]
     },
     "execution_count": 55,
     "metadata": {},
     "output_type": "execute_result"
    }
   ],
   "source": [
    "salario>=500 and salario <=850"
   ]
  },
  {
   "cell_type": "markdown",
   "metadata": {},
   "source": [
    "# 3 - Exercícios"
   ]
  },
  {
   "cell_type": "markdown",
   "metadata": {},
   "source": [
    "## 3.0 - Valor positivo, negativo ou neutro\n",
    "* Crie uma variável e atribua um valor numérico à ela;\n",
    "* Use as estruturas condicionais if, elif e else para exibir se o número é positivo, negativo ou neutro."
   ]
  },
  {
   "cell_type": "code",
   "execution_count": 60,
   "metadata": {},
   "outputs": [
    {
     "name": "stdout",
     "output_type": "stream",
     "text": [
      "É um número neutro\n"
     ]
    }
   ],
   "source": [
    "numero = 0\n",
    "\n",
    "if numero < 0:\n",
    "        print('É um número negativo')\n",
    "elif numero == 0:\n",
    "        print('É um número neutro')\n",
    "elif numero > 0:\n",
    "        print('É um número positivo')"
   ]
  },
  {
   "cell_type": "markdown",
   "metadata": {},
   "source": [
    "## 3.1 - média das notas\n",
    "* crie 3 variáveis de nota do aluno e determine um valor de 0 a 10 para cada nota;\n",
    "* crie uma variável que irá receber a média das 3 notas;\n",
    "\n",
    "\n",
    "* use as estruturas condicionais if, elif e else para:\n",
    "    * Exibir a mensagem \"Aprovado\" se a média for maior ou igual a 7\n",
    "    * Exibir a mensagem \"Reprovado\" se a média for menor que 7\n",
    "    * Exibir a mensagem \"Aprovado com medalha de honra\" se a média forigual a 10"
   ]
  },
  {
   "cell_type": "code",
   "execution_count": 64,
   "metadata": {},
   "outputs": [
    {
     "name": "stdout",
     "output_type": "stream",
     "text": [
      "Aprovado com medalha de Honra!\n"
     ]
    }
   ],
   "source": [
    "# Desenvolva seu código aqui\n",
    "nota_1 = 10\n",
    "nota_2 = 5\n",
    "nota_3 = 7\n",
    "\n",
    "media = (nota_1+nota_2+nota_3)/3\n",
    "\n",
    "if media == 10:\n",
    "    print('Aprovado com medalha de Honra!')\n",
    "elif media >=7:\n",
    "    print('Aprovado')\n",
    "else:\n",
    "    print('Reprovado')\n",
    "\n"
   ]
  },
  {
   "cell_type": "code",
   "execution_count": 63,
   "metadata": {},
   "outputs": [
    {
     "data": {
      "text/plain": [
       "7.333333333333333"
      ]
     },
     "execution_count": 63,
     "metadata": {},
     "output_type": "execute_result"
    }
   ],
   "source": [
    "media"
   ]
  },
  {
   "cell_type": "markdown",
   "metadata": {},
   "source": [
    "## 3.2 - Maior dos números\n",
    "* crie as variáveis numero_1, numero_2 e numero_3, de qualquer valor numérico para as variáveis;\n",
    "\n",
    "* use as estruturas condicionais if, elif e else para exibir o maior dos 3 números"
   ]
  },
  {
   "cell_type": "code",
   "execution_count": 78,
   "metadata": {},
   "outputs": [
    {
     "name": "stdout",
     "output_type": "stream",
     "text": [
      "maior numero é o 17\n"
     ]
    }
   ],
   "source": [
    "# Desenvolva seu código aqui\n",
    "numero_1 = 8\n",
    "numero_2 = 5\n",
    "numero_3 = 17\n",
    "# verifica se o numero_1 é maior que os numeros 2 e 3\n",
    "if numero_1 > numero_2 and numero_1 > numero_3:\n",
    "    print(f'maior numero é o {numero_1}')\n",
    "\n",
    "# verifica se o numero_2 é maior que os numeros 1 e 3\n",
    "elif numero_2 > numero_1 and numero_2 > numero_3:\n",
    "    print(f'maior numero é o {numero_2}')\n",
    "\n",
    "# Se o menor numero não for o 1 e o 2, o 3 é o maior e executa esta parte\n",
    "else:\n",
    "    print(f'maior numero é o {numero_3}')\n"
   ]
  },
  {
   "cell_type": "markdown",
   "metadata": {},
   "source": [
    "## 3.3 - Maior e menor dos números\n",
    "* crie as variáveis numero_1 e numero_2 e numero_3, de qualquer valor numérico para as variáveis;\n",
    "\n",
    "* use as estruturas condicionais if, elif e else para exibir o maior e o menor dos 3 números."
   ]
  },
  {
   "cell_type": "code",
   "execution_count": 68,
   "metadata": {},
   "outputs": [
    {
     "name": "stdout",
     "output_type": "stream",
     "text": [
      "maior numero é o 8 e o menor o 5\n"
     ]
    }
   ],
   "source": [
    "# Desenvolva seu código aqui\n",
    "numero_1 = 8\n",
    "numero_2 = 5\n",
    "numero_3 = 7\n",
    "\n",
    "if numero_1 > numero_2 and numero_1 > numero_3:\n",
    "    if numero_2 < numero_3:\n",
    "        print(f'maior numero é o {numero_1} e o menor o {numero_2}')\n",
    "    else:\n",
    "        print('maior numero é o 1 e o menor o 3')\n",
    "elif numero_2 > numero_1 and numero_2 > numero_3:\n",
    "    if numero_1 < numero_3:\n",
    "        print('maior numero é o 2 e o menor o 1')\n",
    "    else:\n",
    "        print('maior numero é o 2 e o menor o 3')\n",
    "else:\n",
    "    if numero_1 < numero_2:\n",
    "        print('maior numero é o 3 e o menor o 1')\n",
    "    else:\n",
    "        print('maior numero é o 3 e o menor o 2')\n",
    "    "
   ]
  },
  {
   "cell_type": "markdown",
   "metadata": {},
   "source": [
    "## 3.4 - Ordenar números\n",
    "* crie as variáveis numero_1 e numero_2, de qualquer valor numérico para as variáveis;\n",
    "\n",
    "* use as estruturas condicionais if, elif e else para exibir os 2 números em ordem crescente;"
   ]
  },
  {
   "cell_type": "code",
   "execution_count": 1,
   "metadata": {},
   "outputs": [
    {
     "name": "stdout",
     "output_type": "stream",
     "text": [
      "15 19\n"
     ]
    }
   ],
   "source": [
    "# Desenvolva seu código aqui\n",
    "numero_1 = 15\n",
    "numero_2 = 19\n",
    "\n",
    "if numero_1 < numero_2:\n",
    "    print(numero_1, numero_2)\n",
    "elif numero_2 < numero_1:\n",
    "    print(numero_2, numero_1)"
   ]
  },
  {
   "cell_type": "markdown",
   "metadata": {},
   "source": [
    "## 3.5 - Reajuste de Salário\n",
    "As Organizações Tabajara resolveram dar um aumento de salário aos seus colaboradores e lhe contrataram para desenvolver o programa que calculará os reajustes.\n",
    "\n",
    "* Crie uma variável salário e de um valor a ela.\n",
    "\n",
    "* Use as estruturas condicionais if, elif e else para realizar o reajuste do salário de acordo com as seguintes regras:\n",
    "    * salários até R$ 1200,00 (incluindo) : aumento de 20%\n",
    "    * salários entre R$ 1200,00 e R$ 2000,00 : aumento de 15%\n",
    "    * salários entre R$ 2000,00 e R$ 3000,00 : aumento de 10%\n",
    "    * salários de R$ 3000,00 em diante : aumento de 5% \n",
    "# \n",
    "* Após o aumento ser realizado, informe na tela:\n",
    "    * o salário antes do reajuste;\n",
    "    * o percentual de aumento aplicado;\n",
    "    * o valor do aumento;\n",
    "    * o novo salário, após o aumento."
   ]
  },
  {
   "cell_type": "code",
   "execution_count": 79,
   "metadata": {},
   "outputs": [
    {
     "name": "stdout",
     "output_type": "stream",
     "text": [
      "Salario antes do reajuste 1500\n",
      "percentual =  1.15\n",
      "Aumento de 224.99999999999977\n",
      "AO novo salário é 1724.9999999999998\n"
     ]
    }
   ],
   "source": [
    "# Desenvolva seu código aqui\n",
    "salario = 1500\n",
    "\n",
    "novo_salario =0 \n",
    "if salario <= 1200:\n",
    "    percentual = 1.2\n",
    "    novo_salario = salario * percentual\n",
    "elif salario > 1200 and salario <2000:\n",
    "    percentual = 1.15\n",
    "    novo_salario = salario * percentual\n",
    "elif salario >= 2000 and salario <3000:\n",
    "    percentual = 1.1\n",
    "    novo_salario = salario * percentual\n",
    "elif salario >= 3000:\n",
    "    percentual = 1.05\n",
    "    novo_salario = salario * percentual\n",
    "\n",
    "print(f'Salario antes do reajuste {salario}')\n",
    "print(f'percentual =  {percentual}')\n",
    "print('Aumento de', novo_salario - salario)\n",
    "print('AO novo salário é', novo_salario)"
   ]
  },
  {
   "cell_type": "markdown",
   "metadata": {},
   "source": [
    "## 3.6 - Dia da semana\n",
    "* Crie uma variável chamada dia, e atribua um valor de 1 a 7.\n",
    "* Use as estruturas condicionais if, elif e else para exibir o dia da semana correspondende ao valor da variávl dia, conforme abaixo:\n",
    "    * 1 = Domingo\n",
    "    * 2 = Segunda\n",
    "    * 3 = Terça\n",
    "    * 4 = Quarta\n",
    "    * 5 = Quinta\n",
    "    * 6 = Sexta\n",
    "    * 7 = Sábado"
   ]
  },
  {
   "cell_type": "code",
   "execution_count": 2,
   "metadata": {},
   "outputs": [
    {
     "name": "stdout",
     "output_type": "stream",
     "text": [
      "O dia é quinta\n"
     ]
    }
   ],
   "source": [
    "# Desenvolva seu código aqui\n",
    "dia = 5\n",
    "\n",
    "if dia == 1:\n",
    "    print('O dia é Domingo')\n",
    "elif dia == 2 :\n",
    "    print('O dia é segunda')\n",
    "elif dia == 3 :\n",
    "    print('O dia é terça')\n",
    "elif dia == 4 :\n",
    "    print('O dia é quarta')\n",
    "elif dia == 5 :\n",
    "    print('O dia é quinta')\n",
    "elif dia == 6 :\n",
    "    print('O dia é sexta')\n",
    "elif dia == 7 :\n",
    "    print('O dia é sábado')"
   ]
  },
  {
   "cell_type": "markdown",
   "metadata": {},
   "source": [
    "## 3.7 - Ano bisexto?\n",
    "\n",
    "* Crie uma variável ano e atribua o valor de algum ano à ela;\n",
    "* Use as estruturas condicionais if, elif e else para exibir se o ano é ou não bisexto.\n",
    "#\n",
    "OBS: Ano bisexto é todo aquele perfeitamente divisível por 4\n",
    "\n",
    "Dica: Use a função MOD `%`"
   ]
  },
  {
   "cell_type": "code",
   "execution_count": 6,
   "metadata": {},
   "outputs": [
    {
     "name": "stdout",
     "output_type": "stream",
     "text": [
      "O ano 1296 é bisexto\n"
     ]
    }
   ],
   "source": [
    "# Desenvolva seu código aqui\n",
    "ano = 1296\n",
    "\n",
    "if ano%4 == 0:\n",
    "    print(f'O ano {ano} é bisexto')\n",
    "else:\n",
    "    print(f'O ano {ano} não é bisexto')"
   ]
  },
  {
   "cell_type": "markdown",
   "metadata": {},
   "source": [
    "## 3.8 - Soma de números par ou ímpar?\n",
    "* crie as variáveis numero_1 e numero_2, de qualquer valor numérico para as variáveis;\n",
    "* crie a variável soma que receberá a soma dos dois números\n",
    "\n",
    "* use as estruturas condicionais if, elif e else para exibir se a soma dos dois números é par ou ímpar;\n",
    "\n",
    "Dica: Use a função MOD `%`"
   ]
  },
  {
   "cell_type": "code",
   "execution_count": 7,
   "metadata": {},
   "outputs": [
    {
     "name": "stdout",
     "output_type": "stream",
     "text": [
      "A soma de 17 com 6 é 23 que é ímpar\n"
     ]
    }
   ],
   "source": [
    "# Desenvolva seu código aqui\n",
    "numero_1 = 17\n",
    "numero_2 = 6\n",
    "\n",
    "soma = numero_1 + numero_2\n",
    "\n",
    "if soma % 2 == 0:\n",
    "    print(f'A soma de {numero_1} com {numero_2} é {soma} que é par')\n",
    "else:\n",
    "    print(f'A soma de {numero_1} com {numero_2} é {soma} que é ímpar')"
   ]
  },
  {
   "cell_type": "markdown",
   "metadata": {},
   "source": [
    "# 4 - Estrutura de iteração - FOR\n",
    "\n",
    "Um loop <code>for</code> atua como um iterador no Python; ele percorre itens que estão em uma **sequência** ou qualquer outro item iterável. Os objetos que aprendemos sobre os quais podemos iterar incluem strings e listas.\n",
    "\n",
    "##### Aqui está o formato geral para um loop <code>for</code> no Python:\n",
    "    \n",
    "    for item in objeto:\n",
    "        instruções"
   ]
  },
  {
   "cell_type": "code",
   "execution_count": null,
   "metadata": {},
   "outputs": [],
   "source": [
    "# Criar uma lista de números\n",
    "lista = [1,2,3,4,5,6]"
   ]
  },
  {
   "cell_type": "code",
   "execution_count": null,
   "metadata": {},
   "outputs": [],
   "source": [
    "# Cria-se uma variável num que irá percorrer os elementos da lista\n",
    "for num in lista:\n",
    "    # Exibe o valor da variável num\n",
    "    print(num) "
   ]
  },
  {
   "cell_type": "markdown",
   "metadata": {},
   "source": [
    "Ótimo! Espero que isso faça sentido. Agora vamos adicionar uma instrução <code>if</code> para verificar se há números pares. \n",
    "### Resto\n",
    "O resto nos permite obter o restante em uma divisão e usa o símbolo %. Por exemplo:"
   ]
  },
  {
   "cell_type": "code",
   "execution_count": null,
   "metadata": {},
   "outputs": [],
   "source": [
    "# Cria-se uma variável num que irá percorrer os elementos da lista\n",
    "for num in lista:\n",
    "    # Verifica se o resto da divisão de num por 2 é igual a 0\n",
    "    if num % 2 == 0:\n",
    "        print(num)"
   ]
  },
  {
   "cell_type": "code",
   "execution_count": null,
   "metadata": {},
   "outputs": [],
   "source": [
    "#Para imprimir os ímpares\n",
    "for num in lista:\n",
    "    # Verifica se o resto da divisão de num por 2 é diferente de 0\n",
    "    if num % 2 != 0:\n",
    "        print(num)"
   ]
  },
  {
   "cell_type": "markdown",
   "metadata": {},
   "source": [
    "Poderíamos também colocar uma declaração <code>else</code> lá:"
   ]
  },
  {
   "cell_type": "code",
   "execution_count": null,
   "metadata": {},
   "outputs": [],
   "source": [
    "for num in lista:\n",
    "    if num % 2 == 0:\n",
    "        print(num)\n",
    "    else:\n",
    "        print('Número ímpar')"
   ]
  },
  {
   "cell_type": "code",
   "execution_count": null,
   "metadata": {},
   "outputs": [],
   "source": [
    "# Cria a variável soma que começa com zero\n",
    "soma = 0 \n",
    "\n",
    "# Cria-se uma variável num que irá percorrer os elementos da lista\n",
    "for num in lista:\n",
    "    # A variável soma irá receber o valor dela + o num\n",
    "    soma += num\n",
    "\n",
    "print(soma)"
   ]
  },
  {
   "cell_type": "markdown",
   "metadata": {},
   "source": [
    "## 4.1 - Loop For repetir uma quantidade específica de vezes\n",
    "\n",
    "O loop for pode percorrer uma determinada quantidade de valores com a função range()\n",
    "\n",
    "Dentro da função range podem ser passador 3 parâmetros sendo range(inicio, fim, passo),onde:\n",
    "* inicio é o primeiro valor a ser percorrido;\n",
    "* fim é o último valor a ser percorrido;\n",
    "* passo é a quantidade de valores que o loop anda em cada execução"
   ]
  },
  {
   "cell_type": "code",
   "execution_count": null,
   "metadata": {},
   "outputs": [],
   "source": [
    "# O loop começará em 0, terminará em 9 e irá percorrer os valores de 2 em 2\n",
    "for numero in range(0,10,2):\n",
    "    print(numero)"
   ]
  },
  {
   "cell_type": "code",
   "execution_count": null,
   "metadata": {},
   "outputs": [],
   "source": [
    "# O loop começará em 0, terminará em 9 e irá percorrer os valores de 3 em 3\n",
    "for numero in range(0,10,3):\n",
    "    print(numero)"
   ]
  },
  {
   "cell_type": "markdown",
   "metadata": {},
   "source": [
    "Tanto o primeiro quanto o último parâmetro do range não precisam ser informados, por padrão eles são 0 e 1, respectivamente, Sendo necessário especificar somente qual o valor máximo."
   ]
  },
  {
   "cell_type": "code",
   "execution_count": null,
   "metadata": {},
   "outputs": [],
   "source": [
    "# O loop começará em 0, terminará em 4 e irá percorrer os valores de 1 em 1\n",
    "for numero in range(0,5,1):\n",
    "    print(numero)"
   ]
  },
  {
   "cell_type": "code",
   "execution_count": null,
   "metadata": {},
   "outputs": [],
   "source": [
    "# O loop começará em 0, terminará em 4 e irá percorrer os valores de 1 em 1\n",
    "for numero in range(5):\n",
    "    print(numero)"
   ]
  },
  {
   "cell_type": "markdown",
   "metadata": {},
   "source": [
    "# 5 - Exercícios de Loop For"
   ]
  },
  {
   "cell_type": "markdown",
   "metadata": {},
   "source": [
    "## 5.0 - Tabuada\n",
    "\n",
    "* Crie uma variável numero e atribua a ela algum valor de 1 a 10;\n",
    "* Use o loop for para exibir a tabuada deste número"
   ]
  },
  {
   "cell_type": "code",
   "execution_count": null,
   "metadata": {},
   "outputs": [],
   "source": [
    "# Desenvolva seu código aqui\n",
    "\n"
   ]
  },
  {
   "cell_type": "markdown",
   "metadata": {},
   "source": [
    "## 5.1 - Escreva um programa que exiba todos os números entre 5 e 100 que são divisíveis por 7, mas não são múltipos de 5."
   ]
  },
  {
   "cell_type": "code",
   "execution_count": null,
   "metadata": {},
   "outputs": [],
   "source": [
    "# Desenvolva seu código aqui\n",
    "\n"
   ]
  },
  {
   "cell_type": "markdown",
   "metadata": {},
   "source": [
    "## 5.2 - Soma dos números\n",
    "* Crie uma variável numero e atribua a ela algum valor numérico inteiro;\n",
    "* Utilize o loop ``for`` para exibir a soma de todos os numeros de 1 até o valor da variável numero.\n",
    "\n",
    "EX: numero = 4\n",
    "\n",
    "Valor exibido deve ser 10\n",
    "\n",
    "Pois 1+2+3+4 = 10\n"
   ]
  },
  {
   "cell_type": "code",
   "execution_count": null,
   "metadata": {},
   "outputs": [],
   "source": [
    "# Desenvolva seu código aqui\n",
    "\n"
   ]
  },
  {
   "cell_type": "markdown",
   "metadata": {},
   "source": []
  },
  {
   "cell_type": "markdown",
   "metadata": {},
   "source": [
    "## 5.3 - Quantidade de Valores pares e ímpares na lista_numeros\n",
    "* Crie uma variavel quantidade_par e outra quantidade_impar;\n",
    "* Utilize o loop for para percorrer a lista_numeros;\n",
    "* Utilize as estruturas condicionais para verificar se o valor é par ou ímpar;\n",
    "* Exiba a quantidade de valores pares e a quantidade de valores ímpares."
   ]
  },
  {
   "cell_type": "code",
   "execution_count": 1,
   "metadata": {},
   "outputs": [],
   "source": [
    "lista_numeros = [5,484,2,21,4,6,9,451,4,8,6,2,1,4,8,6,2,1,7,51,8,7,51,8,7,5,13,748,4,22,2,68,479,43,1,4,98,6841,64,84,86]\n",
    "# Desenvolva seu código aqui\n",
    "\n"
   ]
  }
 ],
 "metadata": {
  "kernelspec": {
   "display_name": "Python 3.9.7 ('base')",
   "language": "python",
   "name": "python3"
  },
  "language_info": {
   "codemirror_mode": {
    "name": "ipython",
    "version": 3
   },
   "file_extension": ".py",
   "mimetype": "text/x-python",
   "name": "python",
   "nbconvert_exporter": "python",
   "pygments_lexer": "ipython3",
   "version": "3.9.7"
  },
  "orig_nbformat": 4,
  "vscode": {
   "interpreter": {
    "hash": "067f175f07fc265aa8d145419b6335739ee65af91da4abf8cfbfc48bca5c9b8b"
   }
  }
 },
 "nbformat": 4,
 "nbformat_minor": 2
}
