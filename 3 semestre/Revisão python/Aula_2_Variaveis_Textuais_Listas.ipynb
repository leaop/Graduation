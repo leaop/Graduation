{
 "cells": [
  {
   "attachments": {},
   "cell_type": "markdown",
   "metadata": {},
   "source": [
    "# Aula 2 - Variáveis Textuais, Listas e Dicionários\n",
    "\n",
    "### Regras para criação de qualquer variável\n",
    "* Nome da variável ``não pode``:\n",
    "    * Começar com números;\n",
    "    * Conter espaço;\n",
    "    * Conter ou começar com caracteres especiais (`:'\",<>/?|\\!@#%^&*~-+`), exceto `_` (\"Underline\");\n",
    "    * Ser uma palavra que faz parte do python(True, False, while, for, in, list, str...).\n",
    "\n",
    "#\n",
    "* Nome da variável ``pode``:\n",
    "    * Começar com letras maiúsculas ou minúsculas;\n",
    "    * Conter ou começar com _ (\"Underline\").\n",
    "\n",
    "#\n",
    "* Boas práticas para nome de variáveis:\n",
    "    * Todas letras minúsculas;\n",
    "    * Nomes compostos separados por _  (\"Underline\");\n",
    "    * Evitar criar nomes com caracteres únicos (a, A, b, B, c, C...);\n",
    "    * Dar nomes intuitivos para as variáveis.\n",
    "\n",
    "### Criação/Atribuição de variáveis\n",
    "A criação/atribuição de variáveis segue `nome_da_variavel = valor_da_variavel`, onde um único sinal de igual `=` é um \"operador de atribuição\"\n",
    "\n",
    "#\n",
    "##### OBS_1: \n",
    "O Python é uma linguagem `Case-Sensitive`. Significa que variáveis de mesmo nome, mas com maiúsculas ou minúsculas diferentes, são variáveis diferentes. \n",
    "\n",
    "EX: a variável `nome` é diferente da variável `Nome` que também é diferente da variável `NOME`\n",
    "\n",
    "# Principais Tipos de Variáveis:\n",
    "* int - Algarismos numéricos inteiros;\n",
    "* float - Algarismos numéricos decimais (ponto flutuante);\n",
    "* str - Caracteres que formam palavras, frases e textos;\n",
    "* bool - Expressões que representam verdadeiro (True) ou falso (False);\n",
    "* datetime - Datas e Horas\n",
    "* list - listas que podem agrupar todos os outros tipos de variáveis;\n",
    "* dict - Dicionário que estabelece relação de chave e valor entre elementos.\n",
    "* dataframe - Tabelas\n",
    "\n",
    "#\n",
    "##### OBS_2: \n",
    "Este tipo de programação é estruturado em jupyter notebook, o que permite compilar individualmente trexos de códigos em \"células\".\n",
    "#\n",
    "Dicas para utilizar o jupyter notebook:\n",
    "* Uma \"célula\" de \"Markdown\" serve apenas para escrever textos;\n",
    "* Uma \"célula\" de \"Código\" serve para rodar códigos em python;\n",
    "* Nas células de código, todas as linhas que começam com # são comentários no código e não afetam o código:\n",
    "* Para executar o código de uma \"célula\", pressionar \"Ctrl\" + \"Enter\";\n",
    "* Para executar o código de uma \"célula\" e passar para a próxima célula, pressionar \"Shift\" + \"Enter\".\n",
    "\n",
    "### Neste Notebook veremos:\n",
    "    1.) Criação e manipulação de variáveis de texto\n",
    "    2.) Indexação das variáveis de texto\n",
    "    3.) Criação e manipulação de listas\n",
    "    4.) Exercícios de Fixação"
   ]
  },
  {
   "attachments": {},
   "cell_type": "markdown",
   "metadata": {},
   "source": [
    "# 1 - Variável de Texto String (str) \n",
    "Para criar uma string em Python, você precisa usar aspas simples ou duplas. Por exemplo:"
   ]
  },
  {
   "cell_type": "code",
   "execution_count": 2,
   "metadata": {},
   "outputs": [
    {
     "data": {
      "text/plain": [
       "'oi'"
      ]
     },
     "execution_count": 2,
     "metadata": {},
     "output_type": "execute_result"
    }
   ],
   "source": [
    "# Palavra simples\n",
    "'oi'"
   ]
  },
  {
   "cell_type": "code",
   "execution_count": 1,
   "metadata": {},
   "outputs": [
    {
     "data": {
      "text/plain": [
       "'Isto também é uma string'"
      ]
     },
     "execution_count": 1,
     "metadata": {},
     "output_type": "execute_result"
    }
   ],
   "source": [
    "# Entrando com frases\n",
    "'Isto também é uma string'"
   ]
  },
  {
   "cell_type": "code",
   "execution_count": 3,
   "metadata": {},
   "outputs": [
    {
     "data": {
      "text/plain": [
       "'String construídas com aspas'"
      ]
     },
     "execution_count": 3,
     "metadata": {},
     "output_type": "execute_result"
    }
   ],
   "source": [
    "# Podemos usar aspas duplas\n",
    "\"String construídas com aspas\""
   ]
  },
  {
   "attachments": {},
   "cell_type": "markdown",
   "metadata": {},
   "source": [
    "Se for utilizar aspas simples dentro da string, utilize aspas duplas para fechar a string evice versa"
   ]
  },
  {
   "cell_type": "code",
   "execution_count": 4,
   "metadata": {},
   "outputs": [
    {
     "ename": "SyntaxError",
     "evalue": "invalid syntax (Temp/ipykernel_4764/2576465465.py, line 2)",
     "output_type": "error",
     "traceback": [
      "\u001b[1;36m  File \u001b[1;32m\"C:\\Users\\apcs1\\AppData\\Local\\Temp/ipykernel_4764/2576465465.py\"\u001b[1;36m, line \u001b[1;32m2\u001b[0m\n\u001b[1;33m    'Usar aspas simples desta forma 'pode causar erro'\u001b[0m\n\u001b[1;37m                                     ^\u001b[0m\n\u001b[1;31mSyntaxError\u001b[0m\u001b[1;31m:\u001b[0m invalid syntax\n"
     ]
    }
   ],
   "source": [
    "# Cuidado com as aspas!\n",
    "'Usar aspas simples desta forma 'pode causar erro'"
   ]
  },
  {
   "cell_type": "code",
   "execution_count": 5,
   "metadata": {},
   "outputs": [
    {
     "data": {
      "text/plain": [
       "\"Usar aspas simples desta forma 'pode causar erro\""
      ]
     },
     "execution_count": 5,
     "metadata": {},
     "output_type": "execute_result"
    }
   ],
   "source": [
    "# Cuidado com as aspas!\n",
    "\"Usar aspas simples desta forma 'pode causar erro\""
   ]
  },
  {
   "cell_type": "code",
   "execution_count": 6,
   "metadata": {},
   "outputs": [
    {
     "ename": "SyntaxError",
     "evalue": "invalid syntax (Temp/ipykernel_4764/3132956959.py, line 2)",
     "output_type": "error",
     "traceback": [
      "\u001b[1;36m  File \u001b[1;32m\"C:\\Users\\apcs1\\AppData\\Local\\Temp/ipykernel_4764/3132956959.py\"\u001b[1;36m, line \u001b[1;32m2\u001b[0m\n\u001b[1;33m    \"Usar aspas duplas desta forma \"pode causar erro\"\u001b[0m\n\u001b[1;37m                                    ^\u001b[0m\n\u001b[1;31mSyntaxError\u001b[0m\u001b[1;31m:\u001b[0m invalid syntax\n"
     ]
    }
   ],
   "source": [
    "# Cuidado com as aspas!\n",
    "\"Usar aspas duplas desta forma \"pode causar erro\""
   ]
  },
  {
   "cell_type": "code",
   "execution_count": 1,
   "metadata": {},
   "outputs": [
    {
     "data": {
      "text/plain": [
       "'Usar aspas duplas desta forma \"pode causar\" erro'"
      ]
     },
     "execution_count": 1,
     "metadata": {},
     "output_type": "execute_result"
    }
   ],
   "source": [
    "# Cuidado com as aspas!\n",
    "'Usar aspas duplas desta forma \"pode causar\" erro'"
   ]
  },
  {
   "attachments": {},
   "cell_type": "markdown",
   "metadata": {},
   "source": [
    "## 1.2 - Imprimindo uma Variável (String)\n",
    "\n",
    "A forma correta de exibir uma sequencia de variáveis é usando a função de impressão, caso contrário, somente a última variável será exibida"
   ]
  },
  {
   "cell_type": "code",
   "execution_count": 8,
   "metadata": {},
   "outputs": [],
   "source": [
    "string_1 = 'Alô mundo'\n",
    "string_2 = 'Olá mundo'"
   ]
  },
  {
   "cell_type": "code",
   "execution_count": 9,
   "metadata": {},
   "outputs": [
    {
     "data": {
      "text/plain": [
       "'Olá mundo'"
      ]
     },
     "execution_count": 9,
     "metadata": {},
     "output_type": "execute_result"
    }
   ],
   "source": [
    "string_1\n",
    "string_2"
   ]
  },
  {
   "cell_type": "code",
   "execution_count": 10,
   "metadata": {},
   "outputs": [
    {
     "name": "stdout",
     "output_type": "stream",
     "text": [
      "Alô mundo\n",
      "Olá mundo\n"
     ]
    }
   ],
   "source": [
    "print(string_1)\n",
    "print(string_2)"
   ]
  },
  {
   "attachments": {},
   "cell_type": "markdown",
   "metadata": {},
   "source": [
    "## 1.3 - Editar o texto na função de impressão\n",
    "#### Opção 1 - acrescentar a variável diretamente no texto"
   ]
  },
  {
   "cell_type": "code",
   "execution_count": 11,
   "metadata": {},
   "outputs": [
    {
     "name": "stdout",
     "output_type": "stream",
     "text": [
      "A string 1 é: Alô mundo\n",
      "A string 2 é: Olá mundo\n"
     ]
    }
   ],
   "source": [
    "print('A string 1 é:',string_1)\n",
    "print('A string 2 é:',string_2)"
   ]
  },
  {
   "cell_type": "code",
   "execution_count": 12,
   "metadata": {},
   "outputs": [
    {
     "name": "stdout",
     "output_type": "stream",
     "text": [
      "A string 1 é Alô mundo e a string 2 Olá mundo\n"
     ]
    }
   ],
   "source": [
    "print('A string 1 é',string_1,'e a string 2',string_2)"
   ]
  },
  {
   "attachments": {},
   "cell_type": "markdown",
   "metadata": {},
   "source": [
    "#### Opção 2 - Usar a ``função f string``, onde é acrescentada a letra `f` antes do texto e o nome da variável em qualquer lugar dentro das aspas, dentro de chaves"
   ]
  },
  {
   "cell_type": "code",
   "execution_count": 13,
   "metadata": {},
   "outputs": [
    {
     "name": "stdout",
     "output_type": "stream",
     "text": [
      "A string 1 é Alô mundo e a string 2 Olá mundo\n"
     ]
    }
   ],
   "source": [
    "print(f'A string 1 é {string_1} e a string 2 {string_2}')"
   ]
  },
  {
   "attachments": {},
   "cell_type": "markdown",
   "metadata": {},
   "source": [
    "#### Opção 3 - Usar a ``.format``, onde se acrescenta um par de chaves no lugar onde desejar que a variável apareça e, após as aspas, usar a função .format(nome_da_variavel, nome_da_outra_variavel). A primeira variável irá aparecer no lugar do primeiro par de chaves, a segunda variável no lugar do segundo par de chaves..."
   ]
  },
  {
   "cell_type": "code",
   "execution_count": 14,
   "metadata": {},
   "outputs": [
    {
     "name": "stdout",
     "output_type": "stream",
     "text": [
      "A string 1 é Alô mundo e a string 2 Olá mundo\n"
     ]
    }
   ],
   "source": [
    "print('A string 1 é {} e a string 2 {}'.format(string_1, string_2))"
   ]
  },
  {
   "attachments": {},
   "cell_type": "markdown",
   "metadata": {},
   "source": [
    "## 1.4 - Realizar a quebra de linha de uma variável\n",
    "Utiliza-se ``\\n`` no local desejado, não precisando de espaço entre o \\n e as palavras"
   ]
  },
  {
   "cell_type": "code",
   "execution_count": 15,
   "metadata": {},
   "outputs": [
    {
     "name": "stdout",
     "output_type": "stream",
     "text": [
      "Este texto possui \n",
      "quebra de linha\n"
     ]
    }
   ],
   "source": [
    "print('Este texto possui \\nquebra de linha')"
   ]
  },
  {
   "cell_type": "code",
   "execution_count": 16,
   "metadata": {},
   "outputs": [],
   "source": [
    "string_3 = 'A string 3 possui \\nquebra de linha\\n\\n'\n",
    "string_4 = 'A string 4 \\npossui várias \\n\\n\\nquebras de \\n\\n\\n\\nlinha'"
   ]
  },
  {
   "cell_type": "code",
   "execution_count": 17,
   "metadata": {},
   "outputs": [
    {
     "name": "stdout",
     "output_type": "stream",
     "text": [
      "A string 3 possui \n",
      "quebra de linha\n",
      "\n",
      "\n",
      "A string 4 \n",
      "possui várias \n",
      "\n",
      "\n",
      "quebras de \n",
      "\n",
      "\n",
      "\n",
      "linha\n"
     ]
    }
   ],
   "source": [
    "print(string_3)\n",
    "print(string_4)"
   ]
  },
  {
   "attachments": {},
   "cell_type": "markdown",
   "metadata": {},
   "source": [
    "## 1.5 - Retornar o tamanho de uma string\n",
    "Utiliza-se a função ``len()`` para verificar o comprimento de uma string"
   ]
  },
  {
   "cell_type": "code",
   "execution_count": 18,
   "metadata": {},
   "outputs": [
    {
     "data": {
      "text/plain": [
       "4"
      ]
     },
     "execution_count": 18,
     "metadata": {},
     "output_type": "execute_result"
    }
   ],
   "source": [
    "len('Casa')"
   ]
  },
  {
   "cell_type": "code",
   "execution_count": 19,
   "metadata": {},
   "outputs": [
    {
     "name": "stdout",
     "output_type": "stream",
     "text": [
      "Alô mundo\n"
     ]
    }
   ],
   "source": [
    "print(string_1)"
   ]
  },
  {
   "cell_type": "code",
   "execution_count": 20,
   "metadata": {},
   "outputs": [
    {
     "data": {
      "text/plain": [
       "9"
      ]
     },
     "execution_count": 20,
     "metadata": {},
     "output_type": "execute_result"
    }
   ],
   "source": [
    "len(string_1)"
   ]
  },
  {
   "attachments": {},
   "cell_type": "markdown",
   "metadata": {},
   "source": [
    "## 1.6 - Indexação de Strings\n",
    "No Python, strings são uma sequencia de caracteres, o que significa que o Python pode usar índices para chamar partes da sequencia\n",
    "#\n",
    "No Python usamos colchetes `[]` após um objeto (Variável) para chamar seu índice. É importante observar que a indexação começa em 0 para o Python."
   ]
  },
  {
   "cell_type": "code",
   "execution_count": 21,
   "metadata": {},
   "outputs": [
    {
     "name": "stdout",
     "output_type": "stream",
     "text": [
      "Alô mundo\n"
     ]
    }
   ],
   "source": [
    "print(string_1)"
   ]
  },
  {
   "cell_type": "code",
   "execution_count": 26,
   "metadata": {},
   "outputs": [
    {
     "data": {
      "text/plain": [
       "'o'"
      ]
     },
     "execution_count": 26,
     "metadata": {},
     "output_type": "execute_result"
    }
   ],
   "source": [
    "# Exibe o primeiro elemento\n",
    "string_1[8]"
   ]
  },
  {
   "cell_type": "code",
   "execution_count": 23,
   "metadata": {},
   "outputs": [
    {
     "data": {
      "text/plain": [
       "'l'"
      ]
     },
     "execution_count": 23,
     "metadata": {},
     "output_type": "execute_result"
    }
   ],
   "source": [
    "# Exibe o segundo elemento\n",
    "string_1[1]"
   ]
  },
  {
   "cell_type": "code",
   "execution_count": 27,
   "metadata": {},
   "outputs": [
    {
     "name": "stdout",
     "output_type": "stream",
     "text": [
      "A\n",
      "l\n",
      "ô\n",
      " \n",
      "m\n",
      "u\n",
      "n\n",
      "d\n",
      "o\n"
     ]
    }
   ],
   "source": [
    "# São 9 posições, com a contagem começando em 0 e indo até 8\n",
    "print(string_1[0])\n",
    "print(string_1[1])\n",
    "print(string_1[2])\n",
    "print(string_1[3])\n",
    "print(string_1[4])\n",
    "print(string_1[5])\n",
    "print(string_1[6])\n",
    "print(string_1[7])\n",
    "print(string_1[8])"
   ]
  },
  {
   "attachments": {},
   "cell_type": "markdown",
   "metadata": {},
   "source": [
    "O espaço também conta como um caractér, como exemplificado na posição 3 da string_1"
   ]
  },
  {
   "cell_type": "code",
   "execution_count": 28,
   "metadata": {},
   "outputs": [
    {
     "name": "stdout",
     "output_type": "stream",
     "text": [
      " \n"
     ]
    }
   ],
   "source": [
    "# Na prática nada será exibido, mas foi retornado um espaço\n",
    "print(string_1[3])"
   ]
  },
  {
   "attachments": {},
   "cell_type": "markdown",
   "metadata": {},
   "source": [
    "### Também podemos utilizar : para retornar uma fatia da string"
   ]
  },
  {
   "cell_type": "code",
   "execution_count": 31,
   "metadata": {},
   "outputs": [
    {
     "data": {
      "text/plain": [
       "'Alô'"
      ]
     },
     "execution_count": 31,
     "metadata": {},
     "output_type": "execute_result"
    }
   ],
   "source": [
    "# Tudo da primeira posição até a terceira (Começa a contar do 0)\n",
    "string_1[0:3]"
   ]
  },
  {
   "cell_type": "code",
   "execution_count": 30,
   "metadata": {},
   "outputs": [
    {
     "data": {
      "text/plain": [
       "'ô'"
      ]
     },
     "execution_count": 30,
     "metadata": {},
     "output_type": "execute_result"
    }
   ],
   "source": [
    "string_1[2]"
   ]
  },
  {
   "attachments": {},
   "cell_type": "markdown",
   "metadata": {},
   "source": [
    "Observe a substring acima. Aqui estamos dizendo ao Python para pegar tudo de 0 a 2. Ele não inclui o terceiro índice (que no caso é 2). Você notará isso muito em Python, onde declarações geralmente estão no contexto de \"até, mas não incluindo\". (\"Da opsição 0 até a posição 2, mas não incluíndo a posição 2)\n",
    "#\n",
    "Para englobar a primeira e última posição não é necessário colocar o seu índice"
   ]
  },
  {
   "cell_type": "code",
   "execution_count": 32,
   "metadata": {},
   "outputs": [
    {
     "data": {
      "text/plain": [
       "'Alô'"
      ]
     },
     "execution_count": 32,
     "metadata": {},
     "output_type": "execute_result"
    }
   ],
   "source": [
    "# Tudo da posição 0 até a posição 2\n",
    "string_1[0:3]"
   ]
  },
  {
   "cell_type": "code",
   "execution_count": 33,
   "metadata": {},
   "outputs": [
    {
     "data": {
      "text/plain": [
       "'Alô'"
      ]
     },
     "execution_count": 33,
     "metadata": {},
     "output_type": "execute_result"
    }
   ],
   "source": [
    "# Tudo da posição 0 até a posição 2\n",
    "string_1[:3]"
   ]
  },
  {
   "cell_type": "code",
   "execution_count": 34,
   "metadata": {},
   "outputs": [
    {
     "data": {
      "text/plain": [
       "'mundo'"
      ]
     },
     "execution_count": 34,
     "metadata": {},
     "output_type": "execute_result"
    }
   ],
   "source": [
    "# Tudo da posição 4 até a última\n",
    "string_1[4:]"
   ]
  },
  {
   "cell_type": "code",
   "execution_count": 36,
   "metadata": {},
   "outputs": [
    {
     "data": {
      "text/plain": [
       "'ô mu'"
      ]
     },
     "execution_count": 36,
     "metadata": {},
     "output_type": "execute_result"
    }
   ],
   "source": [
    "# Tudo da posição 2 até a posição 6\n",
    "string_1[2:6]"
   ]
  },
  {
   "cell_type": "code",
   "execution_count": 35,
   "metadata": {},
   "outputs": [
    {
     "data": {
      "text/plain": [
       "'lô mun'"
      ]
     },
     "execution_count": 35,
     "metadata": {},
     "output_type": "execute_result"
    }
   ],
   "source": [
    "# Tudo da posição 1 até a posição 7\n",
    "string_1[1:7]"
   ]
  },
  {
   "attachments": {},
   "cell_type": "markdown",
   "metadata": {},
   "source": [
    "## 1.7 - Imutabilidade da String\n",
    "É importante observar que as strings têm uma propriedade importante conhecida como **imutabilidade**. Isso significa que uma vez criada uma string, os elementos nela não podem ser alterados ou substituídos até que seja criado um novo valor para a string. Por exemplo:"
   ]
  },
  {
   "cell_type": "code",
   "execution_count": 37,
   "metadata": {},
   "outputs": [
    {
     "data": {
      "text/plain": [
       "'Alô mundo'"
      ]
     },
     "execution_count": 37,
     "metadata": {},
     "output_type": "execute_result"
    }
   ],
   "source": [
    "string_1"
   ]
  },
  {
   "cell_type": "code",
   "execution_count": 38,
   "metadata": {},
   "outputs": [
    {
     "data": {
      "text/plain": [
       "'A'"
      ]
     },
     "execution_count": 38,
     "metadata": {},
     "output_type": "execute_result"
    }
   ],
   "source": [
    "# Primeiro elemento da string_1\n",
    "string_1[0]"
   ]
  },
  {
   "cell_type": "code",
   "execution_count": 39,
   "metadata": {},
   "outputs": [
    {
     "ename": "TypeError",
     "evalue": "'str' object does not support item assignment",
     "output_type": "error",
     "traceback": [
      "\u001b[1;31m---------------------------------------------------------------------------\u001b[0m",
      "\u001b[1;31mTypeError\u001b[0m                                 Traceback (most recent call last)",
      "\u001b[1;32m~\\AppData\\Local\\Temp/ipykernel_4764/3960872234.py\u001b[0m in \u001b[0;36m<module>\u001b[1;34m\u001b[0m\n\u001b[0;32m      1\u001b[0m \u001b[1;31m# Erro ao tentar alterar o valor do primeiro elemento da string_1\u001b[0m\u001b[1;33m\u001b[0m\u001b[1;33m\u001b[0m\u001b[0m\n\u001b[1;32m----> 2\u001b[1;33m \u001b[0mstring_1\u001b[0m\u001b[1;33m[\u001b[0m\u001b[1;36m0\u001b[0m\u001b[1;33m]\u001b[0m \u001b[1;33m=\u001b[0m \u001b[1;34m'x'\u001b[0m\u001b[1;33m\u001b[0m\u001b[1;33m\u001b[0m\u001b[0m\n\u001b[0m",
      "\u001b[1;31mTypeError\u001b[0m: 'str' object does not support item assignment"
     ]
    }
   ],
   "source": [
    "# Erro ao tentar alterar o valor do primeiro elemento da string_1\n",
    "string_1[0] = 'x'"
   ]
  },
  {
   "attachments": {},
   "cell_type": "markdown",
   "metadata": {},
   "source": [
    "### Observe como o erro nos diz diretamente que o objeto do tipo string não suporta atribuição de itens\n",
    "\n",
    "### Algo que **podemos** fazer é concatenar strings!"
   ]
  },
  {
   "cell_type": "code",
   "execution_count": 40,
   "metadata": {},
   "outputs": [
    {
     "data": {
      "text/plain": [
       "'Alô mundo concatenar!'"
      ]
     },
     "execution_count": 40,
     "metadata": {},
     "output_type": "execute_result"
    }
   ],
   "source": [
    "string_1 + ' concatenar!'"
   ]
  },
  {
   "cell_type": "code",
   "execution_count": 41,
   "metadata": {},
   "outputs": [
    {
     "data": {
      "text/plain": [
       "'Alô mundo'"
      ]
     },
     "execution_count": 41,
     "metadata": {},
     "output_type": "execute_result"
    }
   ],
   "source": [
    "# string_1 não alterou\n",
    "string_1 "
   ]
  },
  {
   "cell_type": "code",
   "execution_count": 42,
   "metadata": {},
   "outputs": [
    {
     "name": "stdout",
     "output_type": "stream",
     "text": [
      "Alô mundo concatenar!\n"
     ]
    }
   ],
   "source": [
    "# string_1 vai receber o valor de string_1 concatenado ao valor  ' concatenar!'\n",
    "string_1 = string_1 + ' concatenar!'\n",
    "\n",
    "print(string_1)"
   ]
  },
  {
   "attachments": {},
   "cell_type": "markdown",
   "metadata": {},
   "source": [
    "Assim como com variáveis numéricas, podemos utilizar `+=` para realizar esta concatenação, entretanto, as outras operações válidas para variáveis numéricas não são válidas para as variáveis textuais (strings) (Exceto a multiplicação que ainda veremos)"
   ]
  },
  {
   "cell_type": "code",
   "execution_count": 45,
   "metadata": {},
   "outputs": [
    {
     "name": "stdout",
     "output_type": "stream",
     "text": [
      "Olá mundo concatenar! concatenar!\n"
     ]
    }
   ],
   "source": [
    "# string_2 vai receber o valor de string_2 concatenado ao valor  ' concatenar!'\n",
    "string_2 += ' concatenar!'\n",
    "\n",
    "print(string_2)"
   ]
  },
  {
   "cell_type": "code",
   "execution_count": 46,
   "metadata": {},
   "outputs": [
    {
     "data": {
      "text/plain": [
       "'Alô mundo concatenar!Olá mundo concatenar! concatenar!'"
      ]
     },
     "execution_count": 46,
     "metadata": {},
     "output_type": "execute_result"
    }
   ],
   "source": [
    "string_1 + string_2"
   ]
  },
  {
   "attachments": {},
   "cell_type": "markdown",
   "metadata": {},
   "source": [
    "### Além da soma, também podemos utilizar a multiplicação `*` para repetir o valor das variáveis.  "
   ]
  },
  {
   "cell_type": "code",
   "execution_count": 47,
   "metadata": {},
   "outputs": [
    {
     "data": {
      "text/plain": [
       "'Alô mundo concatenar!Alô mundo concatenar!Alô mundo concatenar!Alô mundo concatenar!Alô mundo concatenar!Alô mundo concatenar!Alô mundo concatenar!Alô mundo concatenar!Alô mundo concatenar!Alô mundo concatenar!'"
      ]
     },
     "execution_count": 47,
     "metadata": {},
     "output_type": "execute_result"
    }
   ],
   "source": [
    "# Repetir o valor da string_1 por 10 vezes\n",
    "string_1 * 10"
   ]
  },
  {
   "cell_type": "code",
   "execution_count": 48,
   "metadata": {},
   "outputs": [
    {
     "name": "stdout",
     "output_type": "stream",
     "text": [
      "Alô mundo concatenar!\n"
     ]
    }
   ],
   "source": [
    "# A string_1 não foi alterada\n",
    "print(string_1)"
   ]
  },
  {
   "cell_type": "code",
   "execution_count": 49,
   "metadata": {},
   "outputs": [
    {
     "name": "stdout",
     "output_type": "stream",
     "text": [
      "Alô mundo concatenar!Alô mundo concatenar!Alô mundo concatenar!Alô mundo concatenar!Alô mundo concatenar!Alô mundo concatenar!Alô mundo concatenar!Alô mundo concatenar!Alô mundo concatenar!Alô mundo concatenar!\n"
     ]
    }
   ],
   "source": [
    "# A string_1 recebeu o valor dela repetido 10 vezes\n",
    "string_1 *= 10\n",
    "\n",
    "print(string_1)"
   ]
  },
  {
   "attachments": {},
   "cell_type": "markdown",
   "metadata": {},
   "source": [
    "# 2 - Listas\n",
    "\n",
    "Anteriormente, ao discutir as strings, introduzimos o conceito de uma **sequência** em Python. As listas podem ser pensadas na versão mais geral de uma **sequência** no Python. Diferentemente das strings, elas são mutáveis, o que significa que os elementos dentro de uma lista podem ser alterados!\n",
    "\n",
    "Nesta seção, aprenderemos sobre:\n",
    "\n",
    "    1.) Criando listas\n",
    "    2.) Listas de indexação e corte\n",
    "    3.) Métodos básicos de lista\n",
    "    4.) Listas de aninhamento\n",
    "    5.) Introdução às compreensões da lista\n",
    "    \n",
    "\n",
    "As listas são construídas com colchetes [] e vírgulas que separam todos os elementos da lista.\n",
    "\n",
    "Vamos em frente e ver como podemos construir listas!\n",
    "\n",
    "Documentação https://docs.python.org/3/tutorial/introduction.html#lists"
   ]
  },
  {
   "attachments": {},
   "cell_type": "markdown",
   "metadata": {},
   "source": [
    "## 2.1 - Criando Listas"
   ]
  },
  {
   "cell_type": "code",
   "execution_count": 50,
   "metadata": {},
   "outputs": [],
   "source": [
    "# Atribua uma lista a uma variável chamada lista_1\n",
    "lista_1 = [0,1,2,3,4,5,6]"
   ]
  },
  {
   "cell_type": "code",
   "execution_count": 51,
   "metadata": {},
   "outputs": [
    {
     "name": "stdout",
     "output_type": "stream",
     "text": [
      "[0, 1, 2, 3, 4, 5, 6]\n"
     ]
    }
   ],
   "source": [
    "# Exibir a lista\n",
    "print(lista_1)"
   ]
  },
  {
   "cell_type": "code",
   "execution_count": 52,
   "metadata": {},
   "outputs": [
    {
     "data": {
      "text/plain": [
       "0"
      ]
     },
     "execution_count": 52,
     "metadata": {},
     "output_type": "execute_result"
    }
   ],
   "source": [
    "# Exibir o item na posição 0 da lista\n",
    "lista_1[0]"
   ]
  },
  {
   "cell_type": "code",
   "execution_count": 53,
   "metadata": {},
   "outputs": [
    {
     "data": {
      "text/plain": [
       "[1, 2, 3, 4]"
      ]
     },
     "execution_count": 53,
     "metadata": {},
     "output_type": "execute_result"
    }
   ],
   "source": [
    "# Exibir os itens das posições 1 até a 5\n",
    "lista_1[1:5]"
   ]
  },
  {
   "cell_type": "code",
   "execution_count": 54,
   "metadata": {},
   "outputs": [
    {
     "data": {
      "text/plain": [
       "7"
      ]
     },
     "execution_count": 54,
     "metadata": {},
     "output_type": "execute_result"
    }
   ],
   "source": [
    "len(lista_1)"
   ]
  },
  {
   "attachments": {},
   "cell_type": "markdown",
   "metadata": {},
   "source": [
    "As listas podem conter elementos de diferentes tipos de dados"
   ]
  },
  {
   "cell_type": "code",
   "execution_count": 55,
   "metadata": {},
   "outputs": [
    {
     "name": "stdout",
     "output_type": "stream",
     "text": [
      "['a', 10, 'casa', 'carro', 22.6]\n"
     ]
    }
   ],
   "source": [
    "lista_2 = ['a', 10, 'casa', 'carro', 22.6]\n",
    "print(lista_2)"
   ]
  },
  {
   "cell_type": "code",
   "execution_count": 56,
   "metadata": {},
   "outputs": [
    {
     "name": "stdout",
     "output_type": "stream",
     "text": [
      "a\n",
      "10\n",
      "casa\n"
     ]
    }
   ],
   "source": [
    "print(lista_2[0])\n",
    "print(lista_2[1])\n",
    "print(lista_2[2])"
   ]
  },
  {
   "attachments": {},
   "cell_type": "markdown",
   "metadata": {},
   "source": [
    "Inclusive, listas podem conter outras listas, quando isto ocorre, é possível navegar entre os elementos das listas dentro das listas"
   ]
  },
  {
   "cell_type": "code",
   "execution_count": 57,
   "metadata": {},
   "outputs": [
    {
     "name": "stdout",
     "output_type": "stream",
     "text": [
      "['roda', [0, 1, 2, 3, 4, 5, 6], 27]\n"
     ]
    }
   ],
   "source": [
    "lista_3 = ['roda', lista_1, 27]\n",
    "print(lista_3)"
   ]
  },
  {
   "cell_type": "code",
   "execution_count": 58,
   "metadata": {},
   "outputs": [
    {
     "name": "stdout",
     "output_type": "stream",
     "text": [
      "roda\n",
      "[0, 1, 2, 3, 4, 5, 6]\n",
      "27\n"
     ]
    }
   ],
   "source": [
    "# Exibe o primeiro elemento da lista_3\n",
    "print(lista_3[0])\n",
    "# Exibe o segundo elemento da lista_3\n",
    "print(lista_3[1])\n",
    "# Exibe o terceiro elemento da lista_3\n",
    "print(lista_3[2])"
   ]
  },
  {
   "cell_type": "code",
   "execution_count": 59,
   "metadata": {},
   "outputs": [
    {
     "data": {
      "text/plain": [
       "[0, 1, 2, 3, 4, 5, 6]"
      ]
     },
     "execution_count": 59,
     "metadata": {},
     "output_type": "execute_result"
    }
   ],
   "source": [
    "# Exibe o segundo elemento da lista_3\n",
    "lista_3[1]"
   ]
  },
  {
   "cell_type": "code",
   "execution_count": 62,
   "metadata": {},
   "outputs": [
    {
     "data": {
      "text/plain": [
       "3"
      ]
     },
     "execution_count": 62,
     "metadata": {},
     "output_type": "execute_result"
    }
   ],
   "source": [
    "# Exibe o primeiro elemento dentro do segundo elemento da lista_3\n",
    "lista_3[1][3]"
   ]
  },
  {
   "cell_type": "code",
   "execution_count": 63,
   "metadata": {},
   "outputs": [
    {
     "data": {
      "text/plain": [
       "1"
      ]
     },
     "execution_count": 63,
     "metadata": {},
     "output_type": "execute_result"
    }
   ],
   "source": [
    "# Exibe o segundo elemento dentro do segundo elemento da lista_3\n",
    "lista_3[1][1]"
   ]
  },
  {
   "cell_type": "code",
   "execution_count": 64,
   "metadata": {},
   "outputs": [
    {
     "data": {
      "text/plain": [
       "[0, 1, 2, 3, 4, 5, 6]"
      ]
     },
     "execution_count": 64,
     "metadata": {},
     "output_type": "execute_result"
    }
   ],
   "source": [
    "lista_3[1]"
   ]
  },
  {
   "cell_type": "code",
   "execution_count": 65,
   "metadata": {},
   "outputs": [
    {
     "data": {
      "text/plain": [
       "[2, 3, 4, 5]"
      ]
     },
     "execution_count": 65,
     "metadata": {},
     "output_type": "execute_result"
    }
   ],
   "source": [
    "# Exibe os elementos das posições 2 à 6 dentro do segundo elemento da lista_3\n",
    "lista_3[1][2:6]"
   ]
  },
  {
   "attachments": {},
   "cell_type": "markdown",
   "metadata": {},
   "source": [
    "Também podemos utilizar o + para concatenar listas"
   ]
  },
  {
   "cell_type": "code",
   "execution_count": 67,
   "metadata": {},
   "outputs": [
    {
     "data": {
      "text/plain": [
       "[0, 1, 2, 3, 4, 5, 6, 'a', 10, 'casa', 'carro', 22.6, 'novo item']"
      ]
     },
     "execution_count": 67,
     "metadata": {},
     "output_type": "execute_result"
    }
   ],
   "source": [
    "lista_1 + lista_2 + ['novo item']"
   ]
  },
  {
   "attachments": {},
   "cell_type": "markdown",
   "metadata": {},
   "source": [
    "Na verdade isto não altera a lista, assim como nas variáveis numéricas e textuais, é necessária a reatribuição para alterar o valor da lista"
   ]
  },
  {
   "cell_type": "code",
   "execution_count": 68,
   "metadata": {},
   "outputs": [
    {
     "data": {
      "text/plain": [
       "[0, 1, 2, 3, 4, 5, 6]"
      ]
     },
     "execution_count": 68,
     "metadata": {},
     "output_type": "execute_result"
    }
   ],
   "source": [
    "lista_1"
   ]
  },
  {
   "cell_type": "code",
   "execution_count": 69,
   "metadata": {},
   "outputs": [
    {
     "name": "stdout",
     "output_type": "stream",
     "text": [
      "[0, 1, 2, 3, 4, 5, 6, 'novo item']\n"
     ]
    }
   ],
   "source": [
    "# Reatribui um novo valor para a variável lista_1\n",
    "lista_1 = lista_1 + ['novo item']\n",
    "\n",
    "print(lista_1)"
   ]
  },
  {
   "attachments": {},
   "cell_type": "markdown",
   "metadata": {},
   "source": [
    "Também podemos utilizar o * para duplicar, triplicar, quadriplicar... uma lista"
   ]
  },
  {
   "cell_type": "code",
   "execution_count": 70,
   "metadata": {},
   "outputs": [
    {
     "data": {
      "text/plain": [
       "[0, 1, 2, 3, 4, 5, 6, 'novo item', 0, 1, 2, 3, 4, 5, 6, 'novo item']"
      ]
     },
     "execution_count": 70,
     "metadata": {},
     "output_type": "execute_result"
    }
   ],
   "source": [
    "# Duplicando a lista_1\n",
    "lista_1 * 2"
   ]
  },
  {
   "cell_type": "code",
   "execution_count": 71,
   "metadata": {},
   "outputs": [
    {
     "data": {
      "text/plain": [
       "[0,\n",
       " 1,\n",
       " 2,\n",
       " 3,\n",
       " 4,\n",
       " 5,\n",
       " 6,\n",
       " 'novo item',\n",
       " 0,\n",
       " 1,\n",
       " 2,\n",
       " 3,\n",
       " 4,\n",
       " 5,\n",
       " 6,\n",
       " 'novo item',\n",
       " 0,\n",
       " 1,\n",
       " 2,\n",
       " 3,\n",
       " 4,\n",
       " 5,\n",
       " 6,\n",
       " 'novo item']"
      ]
     },
     "execution_count": 71,
     "metadata": {},
     "output_type": "execute_result"
    }
   ],
   "source": [
    "# Ao exibir listas muito grandes, geralmente o python exibe em colunas verticais\n",
    "# Triplicando a lista_1\n",
    "lista_1 * 3"
   ]
  },
  {
   "cell_type": "code",
   "execution_count": 72,
   "metadata": {},
   "outputs": [
    {
     "data": {
      "text/plain": [
       "[0, 1, 2, 3, 4, 5, 6, 'novo item']"
      ]
     },
     "execution_count": 72,
     "metadata": {},
     "output_type": "execute_result"
    }
   ],
   "source": [
    "# A lista_1 não foi alterada \n",
    "lista_1"
   ]
  },
  {
   "cell_type": "code",
   "execution_count": 73,
   "metadata": {},
   "outputs": [
    {
     "name": "stdout",
     "output_type": "stream",
     "text": [
      "[0, 1, 2, 3, 4, 5, 6, 'novo item', 0, 1, 2, 3, 4, 5, 6, 'novo item']\n"
     ]
    }
   ],
   "source": [
    "# A lista_1 foi duplicada \n",
    "lista_1 = lista_1 *2\n",
    "\n",
    "print(lista_1)"
   ]
  },
  {
   "attachments": {},
   "cell_type": "markdown",
   "metadata": {},
   "source": [
    "## 2.2 - Alterando elementos da lista"
   ]
  },
  {
   "cell_type": "code",
   "execution_count": 74,
   "metadata": {},
   "outputs": [
    {
     "data": {
      "text/plain": [
       "['a', 10, 'casa', 'carro', 22.6]"
      ]
     },
     "execution_count": 74,
     "metadata": {},
     "output_type": "execute_result"
    }
   ],
   "source": [
    "# Exibe a lista_2\n",
    "lista_2"
   ]
  },
  {
   "cell_type": "code",
   "execution_count": 75,
   "metadata": {},
   "outputs": [
    {
     "data": {
      "text/plain": [
       "'a'"
      ]
     },
     "execution_count": 75,
     "metadata": {},
     "output_type": "execute_result"
    }
   ],
   "source": [
    "lista_2[0]"
   ]
  },
  {
   "cell_type": "code",
   "execution_count": 76,
   "metadata": {},
   "outputs": [
    {
     "data": {
      "text/plain": [
       "['novo ítem', 10, 'casa', 'carro', 22.6]"
      ]
     },
     "execution_count": 76,
     "metadata": {},
     "output_type": "execute_result"
    }
   ],
   "source": [
    "# Altera o valor do ítem na posição 0 da lista_2\n",
    "lista_2[0] = 'novo ítem'\n",
    "\n",
    "# Exibe a lista_2 com o valor alterado\n",
    "lista_2"
   ]
  },
  {
   "cell_type": "code",
   "execution_count": 78,
   "metadata": {},
   "outputs": [
    {
     "data": {
      "text/plain": [
       "20"
      ]
     },
     "execution_count": 78,
     "metadata": {},
     "output_type": "execute_result"
    }
   ],
   "source": [
    "lista_2[1]* 2"
   ]
  },
  {
   "cell_type": "code",
   "execution_count": 79,
   "metadata": {},
   "outputs": [
    {
     "data": {
      "text/plain": [
       "['novo ítem', 20, 'casa', 'carro', 22.6]"
      ]
     },
     "execution_count": 79,
     "metadata": {},
     "output_type": "execute_result"
    }
   ],
   "source": [
    "# multiplica por 2 o valor do ítem na posição 1 da lista_2\n",
    "lista_2[1] = lista_2[1] * 2\n",
    "\n",
    "# Exibe a lista_2 com o valor alterado\n",
    "lista_2"
   ]
  },
  {
   "attachments": {},
   "cell_type": "markdown",
   "metadata": {},
   "source": [
    "## 2.3 - Métodos Básicos para Lista\n",
    "\n",
    "    Acrescentar elementos no final da lista - Função append()\n",
    "    Concatenar listas - Função extend()\n",
    "    Excluir elementos da lista pelo índice -  Função pop()\n",
    "    Excluir elementos da lista pelo valor -  Função remove()\n",
    "    Ordenar (ordem alfabética ou numérica) a lista - Função sort()\n",
    "    Reverter a lista - Função reverse()\n",
    "    Retornar a quantidade de aparições de um determinado elemento na lista - Função count()\n",
    "\n"
   ]
  },
  {
   "attachments": {},
   "cell_type": "markdown",
   "metadata": {},
   "source": [
    "### 2.3.1 - append()\n",
    "Acrescentar elementos no final da lista"
   ]
  },
  {
   "cell_type": "code",
   "execution_count": 80,
   "metadata": {},
   "outputs": [
    {
     "name": "stdout",
     "output_type": "stream",
     "text": [
      "[1, 2, 3, 4, 5]\n"
     ]
    }
   ],
   "source": [
    "lista_1 = [1,2,3,4]\n",
    "\n",
    "# Acrescenta o valor 5 na última posição da lista_1\n",
    "lista_1.append(5)\n",
    "\n",
    "print(lista_1)"
   ]
  },
  {
   "cell_type": "code",
   "execution_count": 81,
   "metadata": {},
   "outputs": [
    {
     "name": "stdout",
     "output_type": "stream",
     "text": [
      "[1, 2, 3, 4, 5, [6, 7, 8]]\n"
     ]
    }
   ],
   "source": [
    "lista_2 = [6,7,8] \n",
    "\n",
    "# Acrescebta a lista_2 na última posição da lista_1\n",
    "\n",
    "lista_1.append(lista_2)\n",
    "\n",
    "# Observe que toda a lista_2 foi adicionada à última posição da lista_1 \n",
    "print(lista_1)"
   ]
  },
  {
   "attachments": {},
   "cell_type": "markdown",
   "metadata": {},
   "source": [
    "### 2.3.2 - extend()\n",
    "Concatenar listas - Diferente do método a cima, este métopo só pode ser usado para concatenar listas com listas e não valores em listas"
   ]
  },
  {
   "cell_type": "code",
   "execution_count": 82,
   "metadata": {},
   "outputs": [
    {
     "name": "stdout",
     "output_type": "stream",
     "text": [
      "[1, 2, 3, 4, 5, 6, 7, 8]\n"
     ]
    }
   ],
   "source": [
    "lista_1 = [1,2,3,4]\n",
    "lista_2 = [5,6,7,8] \n",
    "\n",
    "#A lista_1 vai receber o valor da lista 1 concatenada com a lista_2 \n",
    "lista_1.extend(lista_2)\n",
    "\n",
    "print(lista_1)"
   ]
  },
  {
   "attachments": {},
   "cell_type": "markdown",
   "metadata": {},
   "source": [
    "### 2.3.3 - pop()\n",
    "Excluir elementos da lista pelo índice"
   ]
  },
  {
   "cell_type": "code",
   "execution_count": 84,
   "metadata": {},
   "outputs": [
    {
     "name": "stdout",
     "output_type": "stream",
     "text": [
      "[1, 2, 3, 4, 5, 6, 7, 8]\n"
     ]
    }
   ],
   "source": [
    "print(lista_1)"
   ]
  },
  {
   "cell_type": "code",
   "execution_count": 85,
   "metadata": {},
   "outputs": [
    {
     "name": "stdout",
     "output_type": "stream",
     "text": [
      "[1, 2, 3, 4, 5, 6, 7]\n"
     ]
    }
   ],
   "source": [
    "# Sem passar o index desejado, a função irá remover o último elemento da lista\n",
    "lista_1.pop()\n",
    "\n",
    "print(lista_1)"
   ]
  },
  {
   "cell_type": "code",
   "execution_count": 86,
   "metadata": {},
   "outputs": [
    {
     "name": "stdout",
     "output_type": "stream",
     "text": [
      "[1, 2, 3, 5, 6, 7]\n"
     ]
    }
   ],
   "source": [
    "# Remover o ítem no índice 3 (Correspondente à quarta posição pois a contagem começa em 0)\n",
    "lista_1.pop(3)\n",
    "\n",
    "print(lista_1)"
   ]
  },
  {
   "attachments": {},
   "cell_type": "markdown",
   "metadata": {},
   "source": [
    "### 2.3.4 - remove()\n",
    "Excluir elementos da lista pelo valor - Irá remover somente a primeira ocorrência do determinado valor"
   ]
  },
  {
   "cell_type": "code",
   "execution_count": 87,
   "metadata": {},
   "outputs": [
    {
     "name": "stdout",
     "output_type": "stream",
     "text": [
      "[1, 2, 3, 3, 4, 5, 3]\n"
     ]
    }
   ],
   "source": [
    "lista_1 = [1,2,3,3,4,5,3]\n",
    "\n",
    "print(lista_1)"
   ]
  },
  {
   "cell_type": "code",
   "execution_count": 88,
   "metadata": {},
   "outputs": [
    {
     "name": "stdout",
     "output_type": "stream",
     "text": [
      "[1, 2, 3, 4, 5, 3]\n"
     ]
    }
   ],
   "source": [
    "lista_1.remove(3)\n",
    "\n",
    "print(lista_1)"
   ]
  },
  {
   "cell_type": "code",
   "execution_count": 89,
   "metadata": {},
   "outputs": [
    {
     "name": "stdout",
     "output_type": "stream",
     "text": [
      "[1, 2, 4, 5, 3]\n"
     ]
    }
   ],
   "source": [
    "lista_1.remove(3)\n",
    "\n",
    "print(lista_1)"
   ]
  },
  {
   "cell_type": "code",
   "execution_count": 90,
   "metadata": {},
   "outputs": [
    {
     "name": "stdout",
     "output_type": "stream",
     "text": [
      "[1, 2, 4, 5]\n"
     ]
    }
   ],
   "source": [
    "lista_1.remove(3)\n",
    "\n",
    "print(lista_1)"
   ]
  },
  {
   "cell_type": "code",
   "execution_count": 92,
   "metadata": {},
   "outputs": [],
   "source": [
    "# Irá retornar um erro pois nã existem mais elementos de valor 3 na lista_1\n",
    "lista_1.remove(1)"
   ]
  },
  {
   "cell_type": "code",
   "execution_count": 93,
   "metadata": {},
   "outputs": [
    {
     "name": "stdout",
     "output_type": "stream",
     "text": [
      "[2, 4, 5]\n"
     ]
    }
   ],
   "source": [
    "print(lista_1)"
   ]
  },
  {
   "attachments": {},
   "cell_type": "markdown",
   "metadata": {},
   "source": [
    "### 2.3.5 - sort()\n",
    "Ordenar (ordem alfabética ou numérica) a lista"
   ]
  },
  {
   "attachments": {},
   "cell_type": "markdown",
   "metadata": {},
   "source": [
    "#### Ordenar lista com valores numéricos"
   ]
  },
  {
   "cell_type": "code",
   "execution_count": 94,
   "metadata": {},
   "outputs": [
    {
     "name": "stdout",
     "output_type": "stream",
     "text": [
      "[5, 2, 7, 1, 4, 3, 6]\n"
     ]
    }
   ],
   "source": [
    "lista_1 = [5,2,7,1,4,3,6]\n",
    "\n",
    "print(lista_1)"
   ]
  },
  {
   "cell_type": "code",
   "execution_count": 95,
   "metadata": {},
   "outputs": [
    {
     "name": "stdout",
     "output_type": "stream",
     "text": [
      "[1, 2, 3, 4, 5, 6, 7]\n"
     ]
    }
   ],
   "source": [
    "# Ordena a lista 1\n",
    "lista_1.sort()\n",
    "\n",
    "print(lista_1)"
   ]
  },
  {
   "attachments": {},
   "cell_type": "markdown",
   "metadata": {},
   "source": [
    "#### Ordenar lista com valores de texto"
   ]
  },
  {
   "cell_type": "code",
   "execution_count": 96,
   "metadata": {},
   "outputs": [
    {
     "name": "stdout",
     "output_type": "stream",
     "text": [
      "['c', 'e', 'a', 'd', 'b']\n"
     ]
    }
   ],
   "source": [
    "lista_2 = ['c','e','a','d','b']\n",
    "\n",
    "print(lista_2)"
   ]
  },
  {
   "cell_type": "code",
   "execution_count": 97,
   "metadata": {},
   "outputs": [
    {
     "name": "stdout",
     "output_type": "stream",
     "text": [
      "['a', 'b', 'c', 'd', 'e']\n"
     ]
    }
   ],
   "source": [
    "# Ordena a lista_2\n",
    "lista_2.sort()\n",
    "\n",
    "print(lista_2)"
   ]
  },
  {
   "cell_type": "code",
   "execution_count": 98,
   "metadata": {},
   "outputs": [
    {
     "name": "stdout",
     "output_type": "stream",
     "text": [
      "['Aline', 'Caio', 'Eduarda', 'Fellipe', 'Vitória']\n"
     ]
    }
   ],
   "source": [
    "lista_3 = ['Vitória','Fellipe','Aline', 'Eduarda','Caio']\n",
    "\n",
    "# Ordena a lista 3\n",
    "lista_3.sort()\n",
    "\n",
    "print(lista_3)"
   ]
  },
  {
   "attachments": {},
   "cell_type": "markdown",
   "metadata": {},
   "source": [
    "####  Ordenar lista com números e textos não é possível"
   ]
  },
  {
   "cell_type": "code",
   "execution_count": 99,
   "metadata": {},
   "outputs": [
    {
     "ename": "TypeError",
     "evalue": "'<' not supported between instances of 'int' and 'str'",
     "output_type": "error",
     "traceback": [
      "\u001b[1;31m---------------------------------------------------------------------------\u001b[0m",
      "\u001b[1;31mTypeError\u001b[0m                                 Traceback (most recent call last)",
      "\u001b[1;32m~\\AppData\\Local\\Temp/ipykernel_4764/3452933320.py\u001b[0m in \u001b[0;36m<module>\u001b[1;34m\u001b[0m\n\u001b[0;32m      2\u001b[0m \u001b[1;33m\u001b[0m\u001b[0m\n\u001b[0;32m      3\u001b[0m \u001b[1;31m# Ordena a lista 1\u001b[0m\u001b[1;33m\u001b[0m\u001b[1;33m\u001b[0m\u001b[0m\n\u001b[1;32m----> 4\u001b[1;33m \u001b[0mlista_4\u001b[0m\u001b[1;33m.\u001b[0m\u001b[0msort\u001b[0m\u001b[1;33m(\u001b[0m\u001b[1;33m)\u001b[0m\u001b[1;33m\u001b[0m\u001b[1;33m\u001b[0m\u001b[0m\n\u001b[0m",
      "\u001b[1;31mTypeError\u001b[0m: '<' not supported between instances of 'int' and 'str'"
     ]
    }
   ],
   "source": [
    "lista_4 = ['Zebra',5,'Aline', 'cavalo', 1, 3]\n",
    "\n",
    "# Ordena a lista 1\n",
    "lista_4.sort()\n"
   ]
  },
  {
   "attachments": {},
   "cell_type": "markdown",
   "metadata": {},
   "source": [
    "### 2.3.6 - reverse()\n",
    "Reverter a lista - Esta função é interessante de ser utilizada com a função sort() antes, para, primeiro ordenar em ordem crescente ou alfabética, em seguida revertere a ordem da lista, a tornando em ordem decrescente ou alfabéticamente inversa"
   ]
  },
  {
   "cell_type": "code",
   "execution_count": 100,
   "metadata": {},
   "outputs": [
    {
     "name": "stdout",
     "output_type": "stream",
     "text": [
      "[6, 3, 4, 1, 7, 2, 5]\n"
     ]
    }
   ],
   "source": [
    "lista_1 = [5,2,7,1,4,3,6]\n",
    "\n",
    "# Reverte a ordem da lista_1\n",
    "lista_1.reverse()\n",
    "\n",
    "print(lista_1)"
   ]
  },
  {
   "cell_type": "code",
   "execution_count": 101,
   "metadata": {},
   "outputs": [
    {
     "name": "stdout",
     "output_type": "stream",
     "text": [
      "[7, 6, 5, 4, 3, 2, 1]\n"
     ]
    }
   ],
   "source": [
    "# Colocar lista em ordem decrescente\n",
    "lista_1 = [5,2,7,1,4,3,6]\n",
    "\n",
    "# Ordena a lista 1\n",
    "lista_1.sort()\n",
    "\n",
    "# Reverte a ordem da lista_1\n",
    "lista_1.reverse()\n",
    "\n",
    "print(lista_1)"
   ]
  },
  {
   "attachments": {},
   "cell_type": "markdown",
   "metadata": {},
   "source": [
    "### 2.3.7 - count()\n",
    "Retornar a quantidade de aparições de um determinado elemento na lista - Diferente da função remove, caso na lista não haja o elemento especificado na função, não retorna erro e sim 0 que é a quantidade de vezes que o elemento aparece na lista"
   ]
  },
  {
   "cell_type": "code",
   "execution_count": 102,
   "metadata": {},
   "outputs": [],
   "source": [
    "lista_1 = [1,2,3,3,4,5,3]"
   ]
  },
  {
   "cell_type": "code",
   "execution_count": 103,
   "metadata": {},
   "outputs": [
    {
     "data": {
      "text/plain": [
       "3"
      ]
     },
     "execution_count": 103,
     "metadata": {},
     "output_type": "execute_result"
    }
   ],
   "source": [
    "lista_1.count(3)"
   ]
  },
  {
   "cell_type": "code",
   "execution_count": 104,
   "metadata": {},
   "outputs": [
    {
     "data": {
      "text/plain": [
       "1"
      ]
     },
     "execution_count": 104,
     "metadata": {},
     "output_type": "execute_result"
    }
   ],
   "source": [
    "lista_1.count(1)"
   ]
  },
  {
   "cell_type": "code",
   "execution_count": 105,
   "metadata": {},
   "outputs": [
    {
     "data": {
      "text/plain": [
       "1"
      ]
     },
     "execution_count": 105,
     "metadata": {},
     "output_type": "execute_result"
    }
   ],
   "source": [
    "lista_1.count(2)"
   ]
  },
  {
   "cell_type": "code",
   "execution_count": 106,
   "metadata": {},
   "outputs": [
    {
     "data": {
      "text/plain": [
       "1"
      ]
     },
     "execution_count": 106,
     "metadata": {},
     "output_type": "execute_result"
    }
   ],
   "source": [
    "lista_1.count(5)"
   ]
  },
  {
   "cell_type": "code",
   "execution_count": 108,
   "metadata": {},
   "outputs": [
    {
     "data": {
      "text/plain": [
       "0"
      ]
     },
     "execution_count": 108,
     "metadata": {},
     "output_type": "execute_result"
    }
   ],
   "source": [
    "lista_1.count(0)"
   ]
  },
  {
   "cell_type": "code",
   "execution_count": 113,
   "metadata": {},
   "outputs": [
    {
     "data": {
      "text/plain": [
       "1"
      ]
     },
     "execution_count": 113,
     "metadata": {},
     "output_type": "execute_result"
    }
   ],
   "source": [
    "llista = ['casa', 'casa', 'carro', 1]\n",
    "\n",
    "llista.count(1)\n"
   ]
  },
  {
   "cell_type": "code",
   "execution_count": 110,
   "metadata": {},
   "outputs": [
    {
     "data": {
      "text/plain": [
       "0"
      ]
     },
     "execution_count": 110,
     "metadata": {},
     "output_type": "execute_result"
    }
   ],
   "source": [
    "lista_1.count('fdg')"
   ]
  },
  {
   "attachments": {},
   "cell_type": "markdown",
   "metadata": {},
   "source": [
    "# 3 - Exercícios"
   ]
  },
  {
   "attachments": {},
   "cell_type": "markdown",
   "metadata": {},
   "source": [
    "### 3.1 - Use reatribuição de valor e multiplique o valor da primeira posição da lista pelo valor da última da lista abaixo, em seguida exiba a lista\n",
    "\n",
    "resultado esperado lista_numeros = [27, 7, 5, 8, 7, 9]"
   ]
  },
  {
   "cell_type": "code",
   "execution_count": 114,
   "metadata": {},
   "outputs": [
    {
     "data": {
      "text/plain": [
       "[27, 7, 5, 8, 7, 9]"
      ]
     },
     "execution_count": 114,
     "metadata": {},
     "output_type": "execute_result"
    }
   ],
   "source": [
    "lista_numeros = [3, 7, 5, 8, 7, 9]\n",
    "# Desenvolva seu código aqui embaixo\n",
    "lista_numeros[0] *= lista_numeros[5]\n",
    "\n",
    "#------------------------------------\n",
    "\n",
    "lista_numeros = [3, 7, 5, 8, 7, 9]\n",
    "# Outra forma de fazer\n",
    "lista_numeros[0] = lista_numeros[0] * lista_numeros[5]\n",
    "\n",
    "lista_numeros"
   ]
  },
  {
   "attachments": {},
   "cell_type": "markdown",
   "metadata": {},
   "source": [
    "### 3.2 - Contar números na lista\n",
    "Utilize alguma função de listas para contar quantas vezes o número 15 aparece na lista abaixo, em seguida exiba o resultado\n",
    "#\n",
    "Resultado esperado = 8"
   ]
  },
  {
   "cell_type": "code",
   "execution_count": 1,
   "metadata": {},
   "outputs": [
    {
     "name": "stdout",
     "output_type": "stream",
     "text": [
      "8\n"
     ]
    }
   ],
   "source": [
    "lista_varios_numeros = [11,15,67,34,87,3345,68,654,5489,15,15,158,231,87,6,54,121,\n",
    "                       981,3284981,548,45,56,85,0,1874,1,64,8,1,515,15,15,12,30,330,\n",
    "                       87841,520,1,8,53,1,5,4,78,95610,20,68,76,15,18,15,34,72,15]\n",
    "\n",
    "# Desenvolva seu código aqui embaixo\n",
    "quantidade = lista_varios_numeros.count(15)\n",
    "\n",
    "print(quantidade)"
   ]
  },
  {
   "attachments": {},
   "cell_type": "markdown",
   "metadata": {},
   "source": [
    "### 3.3 Com base na lista_varios_numeros, utilize formatação de strings para exibir o texto 'O maior valor da lista é 3284981 e o menor é 0'\n",
    "#\n",
    "Dicas:\n",
    "\n",
    "    - Crie uma variável que irá receber o menor valor da lista (ordene a lista e pegue o primeiro valor da lista)\n",
    "    - Crie uma variável que irá receber o maior valor da lista"
   ]
  },
  {
   "cell_type": "code",
   "execution_count": 2,
   "metadata": {},
   "outputs": [
    {
     "name": "stdout",
     "output_type": "stream",
     "text": [
      "O maior valor da lista é 3284981 e o menor é 0\n"
     ]
    }
   ],
   "source": [
    "# Desenvolva seu código aqui embaixo\n",
    "#Ordena A lista em ordem crescente\n",
    "lista_varios_numeros.sort()\n",
    "\n",
    "# a variável menor_numero recebe o primeiro\n",
    "# elemento da lista ordenada\n",
    "menor_numero = lista_varios_numeros[0]\n",
    "\n",
    "# Altera a ordem da lista que estava ordenada\n",
    "# O maior elemento, que era o último, se torna o primeiro\n",
    "lista_varios_numeros.reverse()\n",
    "\n",
    "# a variável maior_numero recebe o primeiro\n",
    "# elemento da lista ordenada com a ordem reversa\n",
    "maior_numero = lista_varios_numeros[0]\n",
    "\n",
    "print(f'O maior valor da lista é {maior_numero} e o menor é {menor_numero}')\n"
   ]
  },
  {
   "attachments": {},
   "cell_type": "markdown",
   "metadata": {},
   "source": [
    "### 3.4 - Retorne a palavra 'Caixa' da lista de palavras"
   ]
  },
  {
   "cell_type": "code",
   "execution_count": 1,
   "metadata": {},
   "outputs": [
    {
     "data": {
      "text/plain": [
       "'Caixa'"
      ]
     },
     "execution_count": 1,
     "metadata": {},
     "output_type": "execute_result"
    }
   ],
   "source": [
    "lista_de_palavras = [1,'cinco', 72, ' Celular', 'Caixa']\n",
    "# Desenvolva seu código aqui embaixo\n",
    "\n",
    "\n",
    "lista_de_palavras[-1]"
   ]
  },
  {
   "attachments": {},
   "cell_type": "markdown",
   "metadata": {},
   "source": [
    "### 3.5 - Texto da lista\n",
    "\n",
    "    Crie uma variável que receberá a palavra ``Eu`` da lista_de_palavras\n",
    "    Crie uma variável que receberá a palavra ``estou`` da lista_de_palavras\n",
    "    Crie uma variável que receberá a palavra ``aprendendo`` da lista_de_palavras\n",
    "    Crie uma variável que receberá a palavra ``Python`` da lista_de_palavras\n",
    "    Crie uma variável que receberá a palavra ``' '`` da lista_de_palavras\n",
    "\n",
    "Apenas com as variáveis criadas, exiba a frase 'Eu estou aprendendo Python' "
   ]
  },
  {
   "cell_type": "code",
   "execution_count": 4,
   "metadata": {},
   "outputs": [
    {
     "name": "stdout",
     "output_type": "stream",
     "text": [
      "Eu estou aprendendo Python\n"
     ]
    }
   ],
   "source": [
    "lista_de_palavras = ['Python', 'aprendendo', 'estou', 'Eu', ' ']\n",
    "# Desenvolva seu código aqui embaixo\n",
    "\n",
    "# Cria  variável eu que irá receber o ítem na posição 3 da lista 'Eu'\n",
    "eu = lista_de_palavras[3]\n",
    "\n",
    "# Cria  variável eu que irá receber o ítem na posição 2 da lista 'estou'\n",
    "estou = lista_de_palavras[2]\n",
    "\n",
    "# Cria  variável eu que irá receber o ítem na posição 1 da lista 'aprendendo'\n",
    "ap = lista_de_palavras[1]\n",
    "\n",
    "# Cria  variável eu que irá receber o ítem na posição 0 da lista 'Python'\n",
    "py = lista_de_palavras[0]\n",
    "\n",
    "# Cria  variável eu que irá receber o ítem na posição 4 da lista ' ' (espaço)\n",
    "es = lista_de_palavras[4]\n",
    "\n",
    "# Concatena as variáveis \n",
    "print(eu + es + estou + es + ap + es + py)"
   ]
  },
  {
   "attachments": {},
   "cell_type": "markdown",
   "metadata": {},
   "source": [
    "### 3.6 - Dia internacional da mulher\n",
    "Com a lista_palavras, exiba a frase 'Parabéns pelo dia internacional da mulher!' utilizando indexação de lista \n",
    "#\n",
    "Dica: \n",
    "\n",
    "    lista_palavras[0] = 'da'\n",
    "    lista_palavras[1] = ' '\n",
    "    lista_palavras[2] = 'mulher'\n",
    "    lista_palavras[0] + lista_palavras[1] + lista_palavras[2] = 'da mulher'"
   ]
  },
  {
   "cell_type": "code",
   "execution_count": 8,
   "metadata": {},
   "outputs": [
    {
     "name": "stdout",
     "output_type": "stream",
     "text": [
      "Parabéns pelo dia internacional da mulher!\n"
     ]
    }
   ],
   "source": [
    "lista_palavras = ['da', ' ', 'mulher', 'internacional', '!', 'dia', 'pelo', 'Parabéns']\n",
    "\n",
    "# Desenvolva seu código aqui embaixo\n",
    "\n",
    "da = lista_palavras[0] \n",
    "esp = lista_palavras[1] \n",
    "mulher = lista_palavras[2] \n",
    "internacional = lista_palavras[3] \n",
    "esc = lista_palavras[4] \n",
    "dia = lista_palavras[5] \n",
    "pelo = lista_palavras[6] \n",
    "parabens = lista_palavras[7] \n",
    "\n",
    "\n",
    "print(parabens + esp + pelo+ esp + dia + esp + internacional + esp + da+ esp + mulher + esc)"
   ]
  },
  {
   "attachments": {},
   "cell_type": "markdown",
   "metadata": {},
   "source": [
    "### 3.7 - Com a lista_de_listas, exiba a frase 'O carro tem 4 rodas' utilizando indexação de lista "
   ]
  },
  {
   "cell_type": "code",
   "execution_count": 2,
   "metadata": {},
   "outputs": [
    {
     "name": "stdout",
     "output_type": "stream",
     "text": [
      "O carro tem 4 rodas\n"
     ]
    }
   ],
   "source": [
    "lista_de_listas = [1,'O','garrafa', 'e',['rodas','4', 'cinco', 'tem',['sapato', ' ','bancos',17]],'carro']\n",
    "\n",
    "# Desenvolva seu código aqui embaixo\n",
    "\n",
    "palavra_1 = lista_de_listas[1]\n",
    "palavra_2 = lista_de_listas[-1]\n",
    "palavra_3 = lista_de_listas[4][3]\n",
    "palavra_4 = lista_de_listas[4][1]\n",
    "palavra_5 = lista_de_listas[4][0]\n",
    "esp = lista_de_listas[4][4][1]\n",
    "\n",
    "frase = palavra_1 + esp + palavra_2 + esp + palavra_3 + esp + palavra_4 + esp + palavra_5\n",
    "\n",
    "print(frase) "
   ]
  },
  {
   "attachments": {},
   "cell_type": "markdown",
   "metadata": {},
   "source": [
    "### 3.8 - Com a lista_de_listas, exiba a frase 'O carro tem cinco bancos' utilizando indexação de lista "
   ]
  },
  {
   "cell_type": "code",
   "execution_count": 3,
   "metadata": {},
   "outputs": [
    {
     "name": "stdout",
     "output_type": "stream",
     "text": [
      "O carro tem cinco bancos\n"
     ]
    }
   ],
   "source": [
    "lista_de_listas = [1,'O','garrafa', 'e',['rodas','4', 'cinco', 'tem',['sapato', ' ','bancos',17]],'carro']\n",
    "\n",
    "# Desenvolva seu código aqui embaixo\n",
    "palavra_1 = lista_de_listas[1]\n",
    "palavra_2 = lista_de_listas[-1]\n",
    "palavra_3 = lista_de_listas[4][3]\n",
    "palavra_4 = lista_de_listas[4][2]\n",
    "palavra_5 = lista_de_listas[4][4][2]\n",
    "esp = lista_de_listas[4][4][1]\n",
    "\n",
    "frase = palavra_1 + esp + palavra_2 + esp + palavra_3 + esp + palavra_4 + esp + palavra_5\n",
    "\n",
    "print(frase) "
   ]
  },
  {
   "attachments": {},
   "cell_type": "markdown",
   "metadata": {},
   "source": [
    "### 3.9 - Com a lista_de_listas, exiba a frase 'O carro tem 4 rodas e cinco bancos' utilizando indexação de lista "
   ]
  },
  {
   "cell_type": "code",
   "execution_count": 5,
   "metadata": {},
   "outputs": [
    {
     "name": "stdout",
     "output_type": "stream",
     "text": [
      "O carro tem 4 rodas e cinco bancos\n"
     ]
    }
   ],
   "source": [
    "lista_de_listas = [1,'O','garrafa', 'e',['rodas','4', 'cinco', 'tem',['sapato', ' ','bancos',17]],'carro']\n",
    "\n",
    "# Desenvolva seu código aqui embaixo\n",
    "palavra_1 = lista_de_listas[1]\n",
    "palavra_2 = lista_de_listas[-1]\n",
    "palavra_3 = lista_de_listas[4][3]\n",
    "palavra_4 = lista_de_listas[4][1]\n",
    "palavra_5 = lista_de_listas[4][0]\n",
    "palavra_6 = lista_de_listas[3]\n",
    "palavra_7 = lista_de_listas[4][2]\n",
    "palavra_8 = lista_de_listas[4][4][2]\n",
    "esp = lista_de_listas[4][4][1]\n",
    "\n",
    "frase = palavra_1 + esp + palavra_2 + esp + palavra_3 + esp + palavra_4 + esp + palavra_5 + esp + palavra_6 + esp + palavra_7 + esp + palavra_8\n",
    "\n",
    "print(frase) "
   ]
  }
 ],
 "metadata": {
  "kernelspec": {
   "display_name": "Python 3.9.7 ('base')",
   "language": "python",
   "name": "python3"
  },
  "language_info": {
   "codemirror_mode": {
    "name": "ipython",
    "version": 3
   },
   "file_extension": ".py",
   "mimetype": "text/x-python",
   "name": "python",
   "nbconvert_exporter": "python",
   "pygments_lexer": "ipython3",
   "version": "3.11.4"
  },
  "orig_nbformat": 4,
  "vscode": {
   "interpreter": {
    "hash": "067f175f07fc265aa8d145419b6335739ee65af91da4abf8cfbfc48bca5c9b8b"
   }
  }
 },
 "nbformat": 4,
 "nbformat_minor": 2
}
