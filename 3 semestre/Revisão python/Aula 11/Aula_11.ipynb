{
 "cells": [
  {
   "cell_type": "markdown",
   "metadata": {},
   "source": [
    "Até agora, já vimos os seguintes pontos:\n",
    "# Primeira coisa a se fazer ao receber uma base de dados:\n",
    "* Verificar a tabela\n",
    "* Verificar a quantidade/porcentagem de dados nulos por coluna\n",
    "* Verificar o tipo de dados das colunas\n",
    "* Verificar informações descritivas a respeito das colunas numéricas e textuais\n",
    "\n",
    "# Após estas verificações, devemos realizar o tratamento da base de dados:\n",
    "* Tratar os dados nulos:\n",
    "    * Excluir linhas;\n",
    "    * Excluir colunas;\n",
    "    * Substituir valores nulos por média, mediana ou moda;\n",
    "* v (Iremos ver hoje);\n",
    "* Normalizar a base de dados (Iremos ver hoje).\n",
    "\n",
    "#### Então, o que veremos hoje é a parte final do tratamento da base de dados antes de aplicar um modelo de aprendizado de máquina\n",
    "\n",
    "# 1 - Converter os valores textuais para valores numéricos\n",
    "Não sei se todos se lembram, mas ao vermos o conceito de rede neural artificial, vimos que os valores são multiplicados por pesos e, desta forma, não teria como multiplcar um texto pelo peso.\n",
    "\n",
    "Para resolver isto, nós iremos converter todos os valores textuais para números, por exemplo, todos os valores 'Sim' para 1 e os valores 'Não' para 0.\n",
    "\n",
    "Então, neste caso, já vamos utilizar a base de dados tratada, sem valores nulos"
   ]
  },
  {
   "cell_type": "code",
   "execution_count": null,
   "metadata": {},
   "outputs": [],
   "source": [
    "# Realizamos a importação da biblioteca\n",
    "# que nos permite ler e manipular tabelas\n",
    "import pandas as pd"
   ]
  },
  {
   "cell_type": "code",
   "execution_count": null,
   "metadata": {},
   "outputs": [],
   "source": [
    "# Atribuimos a base de dados à variável df\n",
    "df = pd.read_csv('banco_aula_11.csv')\n",
    "\n",
    "# Apenas para verificar quantos valores núlos cada coluna possui\n",
    "df.isnull().sum()"
   ]
  },
  {
   "cell_type": "markdown",
   "metadata": {},
   "source": [
    "O foco aqui é converter os valores das colunas object (Colunas com valores textuais) para valores numéricos.\n",
    "Para verificar quais as colunas são do tipo object, podemos usar a função info()"
   ]
  },
  {
   "cell_type": "code",
   "execution_count": null,
   "metadata": {},
   "outputs": [],
   "source": [
    "df.info()"
   ]
  },
  {
   "cell_type": "markdown",
   "metadata": {},
   "source": [
    "Com isto, podemos verificar que as colunas emprego, estado_civil, educacao, possui_casa, emprestimo, mes e deposito são colunas que possuem valores textuais"
   ]
  },
  {
   "cell_type": "code",
   "execution_count": null,
   "metadata": {},
   "outputs": [],
   "source": [
    "# Exibe as colunas com valores textuais\n",
    "df[['emprego', 'estado_civil', 'educacao', 'possui_casa', 'emprestimo', 'mes', 'deposito']]"
   ]
  },
  {
   "cell_type": "markdown",
   "metadata": {},
   "source": [
    "## 1.1 - Como realizar a conversão de valores textuais para numéricos?\n",
    "\n",
    "Aqui existem duas abordagens principais.\n",
    "\n",
    "## A primeira é usar a função loc para selecionar o valor desejado e alterar para um número específico\n",
    "Nesta função, após realizar a substituição para os valores numéricos, é necessário que especifique que a coluna se tornou numérica\n",
    "\n",
    "Esta abordagem é boa para substituir 'yes' para 1, 'no' para 0, os mese pelos respectivos números...\n",
    "\n",
    "Pensando nesta primeira abordagem, podemos utilinar nas colunas educacao, possui_casa, emprestimo, mes e deposito.\n",
    "\n",
    "## A segunda abordagem é utilizada quando existem muitos valores textuais diferentes\n",
    "Esta abordagem exige uma outra biblioteca além do pandas, chamada `LabelEncoder`\n",
    "\n",
    "Pensando nesta segunda abordagem, podemos utilinar nas colunas emprego e estado_civil\n"
   ]
  },
  {
   "cell_type": "code",
   "execution_count": null,
   "metadata": {},
   "outputs": [],
   "source": [
    "# Quais os valores da coluna educacao\n",
    "df.educacao.value_counts()"
   ]
  },
  {
   "cell_type": "code",
   "execution_count": null,
   "metadata": {},
   "outputs": [],
   "source": [
    "df.loc[df['educacao'] == 'unknown', 'educacao'] = 0\n",
    "df.loc[df['educacao'] == 'primary', 'educacao'] = 1 \n",
    "df.loc[df['educacao'] == 'secondary', 'educacao'] = 2\n",
    "df.loc[df['educacao'] == 'tertiary', 'educacao'] = 3\n",
    "\n",
    "# Converte a coluna para o tipo de dados numérico\n",
    "df['educacao'] = pd.to_numeric(df['educacao'])"
   ]
  },
  {
   "cell_type": "markdown",
   "metadata": {},
   "source": [
    "Perceba que colocamos valores intuitivos para substituir\n",
    "\n",
    "unknown para 0\n",
    "\n",
    "primary para 1\n",
    "\n",
    "secondary para 2\n",
    "\n",
    "tertiary para 3"
   ]
  },
  {
   "cell_type": "code",
   "execution_count": null,
   "metadata": {},
   "outputs": [],
   "source": [
    "# Estas 3 colunas abaixo possuem somente os valores\n",
    "# yes e no, então podemos substituir estes valores\n",
    "# por 1 e 0, respectivamente\n",
    "df.loc[df['possui_casa'] == 'no', 'possui_casa'] = 0\n",
    "df.loc[df['possui_casa'] == 'yes', 'possui_casa'] = 1\n",
    "\n",
    "df.loc[df['emprestimo'] == 'no', 'emprestimo'] = 0\n",
    "df.loc[df['emprestimo'] == 'yes', 'emprestimo'] = 1\n",
    "\n",
    "df.loc[df['deposito'] == 'no', 'deposito'] = 0\n",
    "df.loc[df['deposito'] == 'yes', 'deposito'] = 1"
   ]
  },
  {
   "cell_type": "code",
   "execution_count": null,
   "metadata": {},
   "outputs": [],
   "source": [
    "# Repare que, mesmo após a substituição por valores numéricos,\n",
    "# As colunas continuam classificadas como object. \n",
    "df[['possui_casa', 'emprestimo', 'deposito']].info()"
   ]
  },
  {
   "cell_type": "code",
   "execution_count": null,
   "metadata": {},
   "outputs": [],
   "source": [
    "# Para solucionar este problema, usamos a função pd.to_numeric() \n",
    "df['possui_casa'] = pd.to_numeric(df['possui_casa'])\n",
    "df['emprestimo'] = pd.to_numeric(df['emprestimo'])\n",
    "df['deposito'] = pd.to_numeric(df['deposito'])"
   ]
  },
  {
   "cell_type": "code",
   "execution_count": null,
   "metadata": {},
   "outputs": [],
   "source": [
    "# Agora as colunas são do tipo numérico int. \n",
    "df[['possui_casa', 'emprestimo', 'deposito']].info()"
   ]
  },
  {
   "cell_type": "code",
   "execution_count": null,
   "metadata": {},
   "outputs": [],
   "source": [
    "# Verifica os valores da coluna mes\n",
    "df.mes.unique()"
   ]
  },
  {
   "cell_type": "code",
   "execution_count": null,
   "metadata": {},
   "outputs": [],
   "source": [
    "# Irá converter cada mês para o respectivo valor numérico\n",
    "df.loc[df['mes'] == 'jan', 'mes'] = 1\n",
    "df.loc[df['mes'] == 'feb', 'mes'] = 2\n",
    "df.loc[df['mes'] == 'mar', 'mes'] = 3\n",
    "df.loc[df['mes'] == 'apr', 'mes'] = 4\n",
    "df.loc[df['mes'] == 'may', 'mes'] = 5\n",
    "df.loc[df['mes'] == 'jun', 'mes'] = 6\n",
    "df.loc[df['mes'] == 'jul', 'mes'] = 7\n",
    "df.loc[df['mes'] == 'aug', 'mes'] = 8\n",
    "df.loc[df['mes'] == 'sep', 'mes'] = 9\n",
    "df.loc[df['mes'] == 'oct', 'mes'] = 10\n",
    "df.loc[df['mes'] == 'nov', 'mes'] = 11\n",
    "df.loc[df['mes'] == 'dec', 'mes'] = 12\n",
    "\n",
    "# Define a coluna como valor numérico\n",
    "df['mes'] = pd.to_numeric(df['mes'])\n",
    "\n",
    "# Exibe o tipo de dados da coluna\n",
    "df[['mes']].info()"
   ]
  },
  {
   "cell_type": "markdown",
   "metadata": {},
   "source": [
    "#### Ao verificar o tipo de dados de todas as colunas, encontramos que apenas as colunas emprego e estado_civil não são do tipo numérico."
   ]
  },
  {
   "cell_type": "code",
   "execution_count": null,
   "metadata": {},
   "outputs": [],
   "source": [
    "df.info()"
   ]
  },
  {
   "cell_type": "code",
   "execution_count": null,
   "metadata": {},
   "outputs": [],
   "source": [
    "# Exibe as colunas com valores textuais\n",
    "df[['emprego', 'estado_civil', 'educacao', 'possui_casa', 'emprestimo', 'mes', 'deposito']]"
   ]
  },
  {
   "cell_type": "markdown",
   "metadata": {},
   "source": [
    "## 1.2 - Substituição dos valores textuais por numéricos com o LabelEncoder"
   ]
  },
  {
   "cell_type": "code",
   "execution_count": null,
   "metadata": {},
   "outputs": [],
   "source": [
    "# Primeiro passo, importar a biblioteca necessária\n",
    "from sklearn.preprocessing import LabelEncoder\n",
    "\n",
    "# Chamamos a função LabelEncoder e atribuimos à variável le \n",
    "le = LabelEncoder()"
   ]
  },
  {
   "cell_type": "code",
   "execution_count": null,
   "metadata": {},
   "outputs": [],
   "source": [
    "# Apenas no caso do bloco de código a cima der erro, \n",
    "# execute este bloco para instalar a biblioteca\n",
    "!pip install sklearn"
   ]
  },
  {
   "cell_type": "code",
   "execution_count": null,
   "metadata": {},
   "outputs": [],
   "source": [
    "# Converte todos os valores textuais para numéricos\n",
    "# Nas colunas emprego e estado_civil\n",
    "df['emprego'] = le.fit_transform(df['emprego'])\n",
    "df['estado_civil'] = le.fit_transform(df['estado_civil'])"
   ]
  },
  {
   "cell_type": "code",
   "execution_count": null,
   "metadata": {},
   "outputs": [],
   "source": [
    "# Exibe as colunas com valores textuais\n",
    "df[['emprego', 'estado_civil', 'educacao', 'possui_casa', 'emprestimo', 'mes', 'deposito']]"
   ]
  },
  {
   "cell_type": "markdown",
   "metadata": {},
   "source": [
    "## Importante\n",
    "Este método é mais simples, entretanto, ele não usa um critério para atribuir os valores numéricos, por isto, em alguns casos, é preferível utilizar o outro método"
   ]
  },
  {
   "cell_type": "code",
   "execution_count": null,
   "metadata": {},
   "outputs": [],
   "source": [
    "# Verificando o tipo de dados das colunas\n",
    "df.info()"
   ]
  },
  {
   "cell_type": "markdown",
   "metadata": {},
   "source": [
    "# 2 - Normalização dos Dados\n",
    "Agora que estamos sem dados nulos e sem valores textuais, podemos realizar a normalização dos dados.\n",
    "\n",
    "## O que é normalização dos dados?\n",
    "É remodelar os dados das colunas para uma escala padrão, por exemplo, colocar todos os valores das colunas entre 0 e 1 ou -1 e 1 \n",
    "\n",
    "## Para que serve a normalização dos dados?\n",
    "Serve para não distorcer as diferenças nos intervalos de valores nem perder informações.\n",
    "\n",
    "## Exemplo?\n",
    "Por exemplo, considere um conjunto de dados contendo duas variáveis explicativas: idade e renda. A faixa etária varia de 18 a 100 anos, enquanto a renda varia de R$ 0,00 a R$ 100.000,00. A renda é cerca de 1.000 vezes maior que a idade, ou seja, os intervalos são muito diferentes.\n",
    "\n",
    "Para um algoritmo de machine learning, a variável renda seria muito mais relevante que a idade, mas, com as duas variáveis normalizadas, o algoritmo irá considerar igualmente as duas.\n",
    "\n",
    "## Como Fazer?\n",
    "Para isto, podemos utilizar cálculos matemáticos ou também outras biblioteca, chamadas StandardScaler ou MinMaxScaler (A priori, iremos ver apenas os métodos matemáticos).\n",
    "\n",
    "Com o método matemático, particularmente acho mais fácil pois não exige importar nenhuma biblioteca e o cálculo já está pronto, podendo ser utilizado em qualquer tabela.\n",
    "\n",
    "## Devo fazer a normalização em todas as colunas?\n",
    "Quase todas, menos nossa classe alvo... Lá dos conceitos de Ciência de Dados, temos as variáveis independentes (atributos) e a variável dependente (classe).\n",
    "\n",
    "Devemos realizar a normalização em todos os nossos atributos, mas nunca em nossa classe. \n",
    "\n",
    "## Qual a normalização iremos utilizar?\n",
    "A normalização que realizamos é conhecida por normalização min max, onde o menor valor de cada coluna será convertido para 0 e o o maior para 1."
   ]
  },
  {
   "cell_type": "code",
   "execution_count": null,
   "metadata": {},
   "outputs": [],
   "source": [
    "# Realiza a normalização de toda a base de dados e atribui à variável df_norm\n",
    "df_norm = (df - df.min()) / (df.max() - df.min())\n",
    "\n",
    "# Exibe as 5 primeiras linhas do df_norm\n",
    "df_norm.head(5)"
   ]
  },
  {
   "cell_type": "code",
   "execution_count": null,
   "metadata": {},
   "outputs": [],
   "source": [
    "# Entretanto, nossa base de dados em df não foi alterada\n",
    "df.head(5)"
   ]
  },
  {
   "cell_type": "code",
   "execution_count": null,
   "metadata": {},
   "outputs": [],
   "source": [
    "# Repare que desta forma, toda a base de dados foi normalizada\n",
    "# Inclusive a nossa classe alvo, que é a coluna deposito\n",
    "# Para solucionar isto, atribuimos a coluna deposito do df\n",
    "# à coluna depósito do df_norm\n",
    "df_norm[['deposito']] = df[['deposito']]"
   ]
  },
  {
   "cell_type": "markdown",
   "metadata": {},
   "source": [
    "# Com isto, nossa base de dados está pronta para treinar um modelo de machine learning"
   ]
  },
  {
   "cell_type": "markdown",
   "metadata": {},
   "source": [
    "Este código abaixo não é importante e não realiza nenhuma alteração, mas ele mostra o nome da coluna, o maior valor e o menor valor da coluna, da base normalizada e em seguida da base normal."
   ]
  },
  {
   "cell_type": "code",
   "execution_count": null,
   "metadata": {},
   "outputs": [],
   "source": [
    "for x in df_norm.columns:\n",
    "    print(f'{x} {df_norm[x].max()}, {df_norm[x].min()}')"
   ]
  },
  {
   "cell_type": "code",
   "execution_count": null,
   "metadata": {},
   "outputs": [],
   "source": [
    "for x in df.columns:\n",
    "    print(f'{x} {df[x].max()}, {df[x].min()}')"
   ]
  },
  {
   "cell_type": "markdown",
   "metadata": {},
   "source": [
    "# Exercício\n",
    "Importe a biblioteca  pandas\n",
    "\n",
    "Realize a leitura da base de dados 'campanha_marketing.csv'\n",
    "\n",
    "Verifique o tipo de dados das colunas\n",
    "\n",
    "Verifique os valores das colunas object (Textuais)\n",
    "\n",
    "Utilize os métodos de conversão de textos para números adequados para cada coluna textual (Caso necessaŕio, importe a biblioteca LabelEncoder)\n",
    "\n",
    "Realize a normalização da base de dados (Não se esqueça de tirar a normalização da coluna classe)\n"
   ]
  }
 ],
 "metadata": {
  "kernelspec": {
   "display_name": "Python 3.9.12 ('base')",
   "language": "python",
   "name": "python3"
  },
  "language_info": {
   "codemirror_mode": {
    "name": "ipython",
    "version": 3
   },
   "file_extension": ".py",
   "mimetype": "text/x-python",
   "name": "python",
   "nbconvert_exporter": "python",
   "pygments_lexer": "ipython3",
   "version": "3.9.12"
  },
  "orig_nbformat": 4,
  "vscode": {
   "interpreter": {
    "hash": "f43ba6cefd8f24580ff42e8af3aabb69fa421e7aad4e479f4a62a25e10b01fe1"
   }
  }
 },
 "nbformat": 4,
 "nbformat_minor": 2
}
