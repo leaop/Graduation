{
 "cells": [
  {
   "cell_type": "code",
   "execution_count": null,
   "metadata": {},
   "outputs": [],
   "source": [
    "# Importa a biblioteca pandas com o apelido de pd\n",
    "import pandas as pd"
   ]
  },
  {
   "cell_type": "code",
   "execution_count": null,
   "metadata": {},
   "outputs": [],
   "source": [
    "# Leitura da base de dados\n",
    "\n",
    "# Repare que chamamos o pandas por meio do pd\n",
    "# em seguida utilizamos a função read_csv para especificar qual o arquivo desejamos que seja lido pelo pandas\n",
    "df = pd.read_csv('banco.csv')"
   ]
  },
  {
   "cell_type": "markdown",
   "metadata": {},
   "source": [
    "# Relembrando\n",
    "Vizualizar os dados"
   ]
  },
  {
   "cell_type": "code",
   "execution_count": null,
   "metadata": {},
   "outputs": [],
   "source": [
    "# Exibir as 5 primeiras e 5 últimas linhas\n",
    "df"
   ]
  },
  {
   "cell_type": "code",
   "execution_count": null,
   "metadata": {},
   "outputs": [],
   "source": [
    "# Exibir as primeiras 5 linhas\n",
    "df.head()"
   ]
  },
  {
   "cell_type": "code",
   "execution_count": null,
   "metadata": {},
   "outputs": [],
   "source": [
    "# Exibir as primeiras 2 linhas\n",
    "df.head(2)"
   ]
  },
  {
   "cell_type": "code",
   "execution_count": null,
   "metadata": {},
   "outputs": [],
   "source": [
    "# Exibir as últimas 5 linhas\n",
    "df.tail()"
   ]
  },
  {
   "cell_type": "code",
   "execution_count": null,
   "metadata": {},
   "outputs": [],
   "source": [
    "# Exibir as 2 últimas Linhas\n",
    "df.tail(2)"
   ]
  },
  {
   "cell_type": "markdown",
   "metadata": {},
   "source": [
    "### Primeiras Informações da base de dados"
   ]
  },
  {
   "cell_type": "code",
   "execution_count": null,
   "metadata": {},
   "outputs": [],
   "source": [
    "df.info()"
   ]
  },
  {
   "cell_type": "code",
   "execution_count": null,
   "metadata": {},
   "outputs": [],
   "source": [
    "# Exibe informações das colunas numéricas\n",
    "df.describe()"
   ]
  },
  {
   "cell_type": "code",
   "execution_count": null,
   "metadata": {},
   "outputs": [],
   "source": [
    "# Exibe uma descrição das colunas do tipo object\n",
    "df.describe(include = \"O\")\n",
    "# A primeira descrição 'count' é a quantidade de valores não nulos\n",
    "# A segunda descrição 'unique' informa quantos valores únicos existem nas colunas\n",
    "# A terceira descrição 'top' informa qual o valor que mais aparece na coluna\n",
    "# A quarta descrição 'freq' é em relação à frequência (quantidade de vezes) que o valor top aparece na coluna"
   ]
  },
  {
   "cell_type": "markdown",
   "metadata": {},
   "source": [
    "## Valores únicos\n",
    "\n",
    "Os valores únicos fazem referência à quantidade de valores que apresentam em uma mesma coluna e existem algumas funções para avaliar estes valores "
   ]
  },
  {
   "cell_type": "code",
   "execution_count": null,
   "metadata": {},
   "outputs": [],
   "source": [
    "# Para verificar a quantidade de valores únicos na coluna emprego\n",
    "df.emprego.nunique()"
   ]
  },
  {
   "cell_type": "code",
   "execution_count": null,
   "metadata": {},
   "outputs": [],
   "source": [
    "# Para verificar a os valores únicos na coluna emprego\n",
    "df.emprego.unique()"
   ]
  },
  {
   "cell_type": "code",
   "execution_count": null,
   "metadata": {},
   "outputs": [],
   "source": [
    "# Para verificar a os valores únicos na coluna emprego e a quantidade de aparições de cada valor\n",
    "df.emprego.value_counts()"
   ]
  },
  {
   "cell_type": "markdown",
   "metadata": {},
   "source": [
    "Importante ressaltar que os 3 métodos acima só podem ser utilizados com apenas uma coluna"
   ]
  },
  {
   "cell_type": "code",
   "execution_count": null,
   "metadata": {},
   "outputs": [],
   "source": [
    "# Verificar o tamanho do dataframe (Tabela)\n",
    "df.shape"
   ]
  },
  {
   "cell_type": "code",
   "execution_count": null,
   "metadata": {},
   "outputs": [],
   "source": [
    "# quantidade de colunas\n",
    "df.shape[1]"
   ]
  },
  {
   "cell_type": "code",
   "execution_count": null,
   "metadata": {},
   "outputs": [],
   "source": [
    "# quantidade de linhas\n",
    "df.shape[0]"
   ]
  },
  {
   "cell_type": "code",
   "execution_count": null,
   "metadata": {},
   "outputs": [],
   "source": [
    "# Existe outro método de verificar a quantidade de linhas do dataframe\n",
    "# é o mesmo método para verificar o tamanho de uma lista\n",
    "len(df)"
   ]
  },
  {
   "cell_type": "code",
   "execution_count": null,
   "metadata": {},
   "outputs": [],
   "source": [
    "# Quantidade de células na tabela\n",
    "df.size"
   ]
  },
  {
   "cell_type": "code",
   "execution_count": null,
   "metadata": {},
   "outputs": [],
   "source": [
    "# A tabela nada mais é do que uma matriz com altura e largura.\n",
    "# Para verificar a quantidade de células também podemos verificar \n",
    "# Multiplicando a quantidade de linhas pela quantidade de colunas\n",
    "df.shape[0] * df.shape[1]"
   ]
  },
  {
   "cell_type": "code",
   "execution_count": null,
   "metadata": {},
   "outputs": [],
   "source": [
    "# Listar as colunas do dataframe\n",
    "df.columns"
   ]
  },
  {
   "cell_type": "markdown",
   "metadata": {},
   "source": [
    "# Selecionar Colunas"
   ]
  },
  {
   "cell_type": "code",
   "execution_count": null,
   "metadata": {},
   "outputs": [],
   "source": [
    "# Para selecionar apenas uma coluna\n",
    "df.idade"
   ]
  },
  {
   "cell_type": "code",
   "execution_count": null,
   "metadata": {},
   "outputs": [],
   "source": [
    "# para selecionar uma ou mais colunas\n",
    "df[['idade','emprego']]"
   ]
  },
  {
   "cell_type": "markdown",
   "metadata": {},
   "source": [
    "# Index\n",
    "Cada linha da tabela possuí um index único (identificador único), ou seja, não existem index repetidos\n",
    "\n",
    "O index não chega a ser uma coluna, mas se comporta como uma, sendo ele a primeira \"coluna à esquerda da tabela\"\n",
    "\n",
    "Com o index nós podemos selecionar linhas específicas, ou conjunto de linha, semelhante ao que aprendemos em listas"
   ]
  },
  {
   "cell_type": "code",
   "execution_count": null,
   "metadata": {},
   "outputs": [],
   "source": [
    "# Exibe informações a respeito do index da tabela\n",
    "# Semelhante ao que aprendemos no loop for, temos o valor de início, fim e o passo do index\n",
    "df.index"
   ]
  },
  {
   "cell_type": "code",
   "execution_count": null,
   "metadata": {},
   "outputs": [],
   "source": [
    "# Para exibir o index podemos utilizar a função que o transforma em lista\n",
    "list(df.index)"
   ]
  },
  {
   "cell_type": "markdown",
   "metadata": {},
   "source": [
    "# Função iloc\n",
    "com esta função, define-se qual index deseja exibir, ou qual faixa de index deseja"
   ]
  },
  {
   "cell_type": "code",
   "execution_count": null,
   "metadata": {},
   "outputs": [],
   "source": [
    "# Exibir as 5 primeiras linhas da tabela\n",
    "df.head()"
   ]
  },
  {
   "cell_type": "code",
   "execution_count": null,
   "metadata": {},
   "outputs": [],
   "source": [
    "# Selecionando apenas um index, as informações serão exibidas em formato de lista\n",
    "\n",
    "# Seleciona as informações da tabela onde o index é 0\n",
    "df.iloc[0]"
   ]
  },
  {
   "cell_type": "code",
   "execution_count": null,
   "metadata": {},
   "outputs": [],
   "source": [
    "# Selecionando apenas um index, as informações serão exibidas em formato de lista\n",
    "\n",
    "# Seleciona as informações da dabela onde o index é 1\n",
    "df.iloc[1]"
   ]
  },
  {
   "cell_type": "code",
   "execution_count": null,
   "metadata": {},
   "outputs": [],
   "source": [
    "# Para selecionar mais de um index, utiliza-se a notação [index_inicial:index_final]\n",
    "# O index final não será exibido (semelhante com o que aprendemos em listas)\n",
    "df.iloc[0:1]"
   ]
  },
  {
   "cell_type": "code",
   "execution_count": null,
   "metadata": {},
   "outputs": [],
   "source": [
    "# Selecionando os valores de 0 até 5, serão exibidos os index de 0 até 4\n",
    "df.iloc[0:5]"
   ]
  },
  {
   "cell_type": "code",
   "execution_count": null,
   "metadata": {},
   "outputs": [],
   "source": [
    "# Selecionar o último registro\n",
    "df.iloc[-1]"
   ]
  },
  {
   "cell_type": "code",
   "execution_count": null,
   "metadata": {},
   "outputs": [],
   "source": [
    "# Exibe o último registro da lista\n",
    "df.tail(1)"
   ]
  },
  {
   "cell_type": "code",
   "execution_count": null,
   "metadata": {},
   "outputs": [],
   "source": [
    "# Para selecionar do primeiro index, não precisamos definir o 0\n",
    "\n",
    "df.iloc[:5]"
   ]
  },
  {
   "cell_type": "code",
   "execution_count": null,
   "metadata": {},
   "outputs": [],
   "source": [
    "# Para selecionar todos os index,não precimos definir o início nem o fim, apenas colocar os :\n",
    "df.iloc[:]"
   ]
  },
  {
   "cell_type": "code",
   "execution_count": null,
   "metadata": {},
   "outputs": [],
   "source": [
    "# Outra forma de selecionar index é passando uma lista de index para a função iloc\n",
    "df.iloc[[0,2,4]]"
   ]
  },
  {
   "cell_type": "code",
   "execution_count": null,
   "metadata": {},
   "outputs": [],
   "source": [
    "# Aprendemos a criar objetos listas\n",
    "lista = [0,2,4]\n",
    "\n",
    "# Podemos passar o objeto lista no iloc\n",
    "df.iloc[lista]"
   ]
  },
  {
   "cell_type": "markdown",
   "metadata": {},
   "source": [
    "### O iloc permite selecionar as linhas e as colunas\n",
    "Após definir as linhas, utilizamos uma vírgula para em seguida definir as colunas"
   ]
  },
  {
   "cell_type": "code",
   "execution_count": null,
   "metadata": {},
   "outputs": [],
   "source": [
    "# Selecionar a primeira linha, as duas primeiras colunas \n",
    "df.iloc[0, 0:2]"
   ]
  },
  {
   "cell_type": "code",
   "execution_count": null,
   "metadata": {},
   "outputs": [],
   "source": [
    "# Selecionar as duas primeiras linhas, as duas primeiras colunas \n",
    "df.iloc[0:2, 0:2]"
   ]
  },
  {
   "cell_type": "code",
   "execution_count": null,
   "metadata": {},
   "outputs": [],
   "source": [
    "# Aprendemos a criar objetos listas\n",
    "lista = [0,2,4]\n",
    "\n",
    "# Selecionamos as linhas 0,2,4 e as colunas 0,2,4 \n",
    "df.iloc[lista,lista]"
   ]
  },
  {
   "cell_type": "code",
   "execution_count": null,
   "metadata": {},
   "outputs": [],
   "source": [
    "# Importante - Caso seja selecionado um valor fora do index retornará\n",
    "# o erro 'single positional indexer is out-of-bounds' o index está fora dos limites\n",
    "df.iloc[30000]"
   ]
  },
  {
   "cell_type": "code",
   "execution_count": null,
   "metadata": {},
   "outputs": [],
   "source": [
    "# Mesma coisa para selecionar a coluna\n",
    "# Informa que o index 20 para coluna está fora dos limites\n",
    "df.iloc[5,20]"
   ]
  },
  {
   "cell_type": "markdown",
   "metadata": {},
   "source": [
    "Isto que estamos fazendo é conhecido como slice (fatiar), pois estamos selecionando somente uma fatia dos dados\n",
    "\n",
    "Em muitos casos não é necessaŕio utilizar toda a base de dados, para isto, podemos criar uma nova variável para receber este slice (fatia)"
   ]
  },
  {
   "cell_type": "code",
   "execution_count": null,
   "metadata": {},
   "outputs": [],
   "source": [
    "# Cria a variável fatia que irá receber os valores com índice de 2 à 4\n",
    "fatia = df.iloc[2:5]\n",
    "\n",
    "# Exibe a variável fatia\n",
    "fatia "
   ]
  },
  {
   "cell_type": "code",
   "execution_count": null,
   "metadata": {},
   "outputs": [],
   "source": [
    "# Cria a variável fatia_2 que irá receber os valores com índice de 241 à 246\n",
    "fatia_2 = df.iloc[241:247]\n",
    "\n",
    "# Exibe a variável fatia_2\n",
    "fatia_2 "
   ]
  },
  {
   "cell_type": "markdown",
   "metadata": {},
   "source": [
    "# Selecionar linhas com o loc\n",
    "\n",
    "Assim como o iloc, nós podemos selecionar linhas com o loc, mas seu funcionamento não se da pelo index. No Loc, nós definimos para selecionar todos os registros que estejam de acordo com um determinado valor, em uma determinada coluna, ou seja, por exemplo, podemos selecionar todos os registros que possuemque possuem idade igual a 37\n",
    "\n",
    "Para usar o loc, utilizamos a seguinte sintaxe:\n",
    "* `df.loc[df['nome_da_coluna'] == valor_desejado]` "
   ]
  },
  {
   "cell_type": "code",
   "execution_count": null,
   "metadata": {},
   "outputs": [],
   "source": [
    "# Selecionar todos os registros com iade igual a 37\n",
    "df.loc[df['idade'] == 37]"
   ]
  },
  {
   "cell_type": "markdown",
   "metadata": {},
   "source": [
    "Assim como vimos anteriormente, podemos usar a função .shape[0] para receber quantos registros existem para o determinado filtro"
   ]
  },
  {
   "cell_type": "code",
   "execution_count": null,
   "metadata": {},
   "outputs": [],
   "source": [
    "# Selecionar a quantidade de registros com iade igual a 37\n",
    "df.loc[df['idade'] == 37].shape[0]"
   ]
  },
  {
   "cell_type": "markdown",
   "metadata": {},
   "source": [
    "Também podemos usar a função loc com os valores textuais"
   ]
  },
  {
   "cell_type": "code",
   "execution_count": null,
   "metadata": {},
   "outputs": [],
   "source": [
    "# Selecionar todos os registros com o estado civil divorciado\n",
    "df.loc[df['estado_civil'] == 'divorced']"
   ]
  },
  {
   "cell_type": "code",
   "execution_count": null,
   "metadata": {},
   "outputs": [],
   "source": [
    "# Selecionar a quantidade de registros com o estado civil divorciado\n",
    "df.loc[df['estado_civil'] == 'divorced'].shape[0]"
   ]
  },
  {
   "cell_type": "code",
   "execution_count": null,
   "metadata": {},
   "outputs": [],
   "source": [
    "# Para tirar a prova real, usamos a função value_counts \n",
    "# para contar a quantidade de vezes que cada\n",
    "#  valor aparece na coluna estado_civil\n",
    "df.estado_civil.value_counts()"
   ]
  },
  {
   "cell_type": "markdown",
   "metadata": {},
   "source": [
    "Caso queira fazer mais de um filtro com o loc, podemos utilizar outra função loc logo após o primeiro filtro, seguindo a seguinte sintaxe:\n",
    "* df.loc[df['nome_da_coluna'] == valor_desejado]`.loc[df['nome_da_outra_coluna'] == outro_valor]` "
   ]
  },
  {
   "cell_type": "code",
   "execution_count": null,
   "metadata": {},
   "outputs": [],
   "source": [
    "# Selecionar todos os registros com o estado civil divorciado e idade menor que 27\n",
    "df.loc[df['estado_civil'] == 'divorced'].loc[df['idade'] < 27]"
   ]
  },
  {
   "cell_type": "code",
   "execution_count": null,
   "metadata": {},
   "outputs": [],
   "source": [
    "# Selecionar a quantidade de registros com o estado civil divorciado e idade menor que 27\n",
    "divorciados_novos = df.loc[df['estado_civil'] == 'divorced'].loc[df['idade'] < 27].shape[0]\n",
    "\n",
    "print(f'Existem {divorciados_novos} pessoas divorciadas com menos de 27 anos de idade')"
   ]
  },
  {
   "cell_type": "code",
   "execution_count": null,
   "metadata": {},
   "outputs": [],
   "source": [
    "# Selecionar todos os registros com o saldo bancário acima de 15000 e idade menor que 27\n",
    "df.loc[df['saldo_bancario'] > 15000].loc[df['idade'] < 27]"
   ]
  },
  {
   "cell_type": "code",
   "execution_count": null,
   "metadata": {},
   "outputs": [],
   "source": [
    "# Selecionar a quantidade de registros com osaldo bancário acima de 15000 e idade menor que 27\n",
    "jovens_de_sucesso = df.loc[df['saldo_bancario'] > 15000].loc[df['idade'] < 27].shape[0]\n",
    "\n",
    "print(f'Existem {jovens_de_sucesso} pessoas com saldo acima de 15000 com menos de 27 anos de idade')"
   ]
  },
  {
   "cell_type": "markdown",
   "metadata": {},
   "source": [
    "# Outra funcionalidade da função loc\n",
    "\n",
    "Com o loc, podemos passar mais alguns parâmetros, permitindo mudar valores nas linhas em que o filtro selecionou. Veja o exemplo para ficar mais claro para `Alterar os valores da coluna estado_civil`"
   ]
  },
  {
   "cell_type": "code",
   "execution_count": null,
   "metadata": {},
   "outputs": [],
   "source": [
    "# Primeiro, vamos verificar quais são os valores únicos da coluna estado civil \n",
    "df.estado_civil.unique()"
   ]
  },
  {
   "cell_type": "code",
   "execution_count": null,
   "metadata": {},
   "outputs": [],
   "source": [
    "# após realizar o filtro selecionando os registros que possuem o valor 'married'\n",
    "# Colocamos uma vírgula e selecionamos qual coluna desejamos realizar a alteração\n",
    "# Neste caso selecionamos a própria coluna estado_civil, mas poderia ser qualquer \n",
    "# outra coluna.\n",
    "# Após definir a coluna, fechamos o colchetes e, com o sinal de igual, definimos\n",
    "# Qual será o novo valor para a coluna estado_civil onde os registros eram 'married'\n",
    "df.loc[df['estado_civil'] == 'married','estado_civil'] = 'Casado'"
   ]
  },
  {
   "cell_type": "code",
   "execution_count": null,
   "metadata": {},
   "outputs": [],
   "source": [
    "# Verificando novamente os valores presentes na coluna estado_civil\n",
    "# Repare que não existe mais o valor married, pois todos os registros \n",
    "# Que possuiam este valor foram alterados para 'Casado'\n",
    "df.estado_civil.unique()"
   ]
  },
  {
   "cell_type": "code",
   "execution_count": null,
   "metadata": {},
   "outputs": [],
   "source": [
    "# Podemos fazer a mesma coisa para os outros valores\n",
    "df.loc[df['estado_civil'] == 'single','estado_civil'] = 'Solteiro'\n",
    "df.loc[df['estado_civil'] == 'divorced','estado_civil'] = 'Divorciado'"
   ]
  },
  {
   "cell_type": "code",
   "execution_count": null,
   "metadata": {},
   "outputs": [],
   "source": [
    "# Verificando novamente os valores presentes na coluna estado_civil\n",
    "# Repare que não existem mais o valor em inglês\n",
    "# Só existem os valores que traduzimos\n",
    "df.estado_civil.unique()"
   ]
  },
  {
   "cell_type": "markdown",
   "metadata": {},
   "source": [
    "## Observação importante\n",
    "\n",
    "Tanto o iloc como o loc, após selecionar o filtro, seja pelo index no caso do iloc ou por um filtro de valor no loc, podemos selecionar quais colunas desejamos exibir"
   ]
  },
  {
   "cell_type": "code",
   "execution_count": null,
   "metadata": {},
   "outputs": [],
   "source": [
    "# Seleciona todos os registros com o estado civil Solteiro\n",
    "df.loc[df['estado_civil'] == 'Solteiro']"
   ]
  },
  {
   "cell_type": "code",
   "execution_count": null,
   "metadata": {},
   "outputs": [],
   "source": [
    "# Seleciona todos os registros com o estado civil Solteiro, mas somente as colunas idade e emprego\n",
    "df.loc[df['estado_civil'] == 'Solteiro'][['idade','emprego']]"
   ]
  },
  {
   "cell_type": "code",
   "execution_count": null,
   "metadata": {},
   "outputs": [],
   "source": [
    "# Seleciona todos os registros com o estado civil Solteiro, mas somente a coluna emprestimo\n",
    "df.loc[df['estado_civil'] == 'Solteiro'].emprestimo"
   ]
  },
  {
   "cell_type": "code",
   "execution_count": null,
   "metadata": {},
   "outputs": [],
   "source": [
    "# Seleciona o regisro com index 91\n",
    "df.iloc[91]"
   ]
  },
  {
   "cell_type": "code",
   "execution_count": null,
   "metadata": {},
   "outputs": [],
   "source": [
    "# Seleciona o regisro com index 91, mas somente a coluna dia\n",
    "df.iloc[91].dia"
   ]
  },
  {
   "cell_type": "code",
   "execution_count": null,
   "metadata": {},
   "outputs": [],
   "source": [
    "# Conforme o código acima, poderíamos criar uma variável para receber o valor exibido\n",
    "dia_index_91 = df.iloc[91].dia\n",
    "\n",
    "print(f'O dia do index 91 é {dia_index_91}')"
   ]
  },
  {
   "cell_type": "markdown",
   "metadata": {},
   "source": [
    "# Salvar alterações\n",
    "\n",
    "Diferente de uma planilha excel que nós abrimos o arquivo, editamos e salvamos o mesmo arquivo, no python toda alteração realizada na tabela não será salva até que utilize o comando para salvar as alterações.\n",
    "\n",
    "Para o comando que salva as alterações, é necessário definir um nome para o arquivo. Podemos definir o nome igual ao do arquivo original, o que acarretaria em substituir o arquivo original pelo arquivo alterado, então, por padrão, definimos um nome diferente do original e intuitivo.\n",
    "\n",
    "Outro ponto importante, por padrão, ao salvar a DataFrame alterado, será criada uma coluna com o index dos registros. Para evitar que isto aconteça, é necessário que chame o parâmetro `index e selecione False`."
   ]
  },
  {
   "cell_type": "code",
   "execution_count": null,
   "metadata": {},
   "outputs": [],
   "source": [
    "df.to_csv('banco_alterado.csv', index = False)"
   ]
  },
  {
   "cell_type": "code",
   "execution_count": null,
   "metadata": {},
   "outputs": [],
   "source": [
    "# Exclui a variável que recebeu o pandas e o dataframe\n",
    "del pd, df"
   ]
  },
  {
   "cell_type": "markdown",
   "metadata": {},
   "source": [
    "# Exercícios"
   ]
  },
  {
   "cell_type": "markdown",
   "metadata": {},
   "source": [
    "1 - No bloco de código abaixo, realize o import da biblioteca pandas com o apelido pd"
   ]
  },
  {
   "cell_type": "code",
   "execution_count": null,
   "metadata": {},
   "outputs": [],
   "source": [
    "# Desenvolva seu código aqui\n"
   ]
  },
  {
   "cell_type": "markdown",
   "metadata": {},
   "source": [
    "2 - No bloco de código abaixo, crie uma variável df para receber o nosso banco de dados __banco.csv__"
   ]
  },
  {
   "cell_type": "code",
   "execution_count": null,
   "metadata": {},
   "outputs": [],
   "source": [
    "# Desenvolva seu código aqui\n"
   ]
  },
  {
   "cell_type": "markdown",
   "metadata": {},
   "source": [
    "3 - No bloco abaixo, exiba as 3 primeiras linhas do dataframe"
   ]
  },
  {
   "cell_type": "code",
   "execution_count": null,
   "metadata": {},
   "outputs": [],
   "source": [
    "# Desenvolva seu código aqui\n"
   ]
  },
  {
   "cell_type": "markdown",
   "metadata": {},
   "source": [
    "4 - No bloco abaixo, exiba as 4 últimas linhas do DataFrame"
   ]
  },
  {
   "cell_type": "code",
   "execution_count": null,
   "metadata": {},
   "outputs": [],
   "source": [
    "# Desenvolva seu código aqui\n"
   ]
  },
  {
   "cell_type": "markdown",
   "metadata": {},
   "source": [
    "5 - No bloco abaixo, faça um código para exibir quantos valores nulos existem em cada coluna"
   ]
  },
  {
   "cell_type": "code",
   "execution_count": null,
   "metadata": {},
   "outputs": [],
   "source": [
    "# Desenvolva seu código aqui\n"
   ]
  },
  {
   "cell_type": "markdown",
   "metadata": {},
   "source": [
    "6 - No bloco abaixo, exiba informações como o tipo de dados presente em cada coluna "
   ]
  },
  {
   "cell_type": "code",
   "execution_count": null,
   "metadata": {},
   "outputs": [],
   "source": [
    "# Desenvolva seu código aqui\n"
   ]
  },
  {
   "cell_type": "markdown",
   "metadata": {},
   "source": [
    "7 - Exiba informações estatísticas das colunas numéricas da base de dados"
   ]
  },
  {
   "cell_type": "code",
   "execution_count": null,
   "metadata": {},
   "outputs": [],
   "source": [
    "# Desenvolva seu código aqui\n"
   ]
  },
  {
   "cell_type": "markdown",
   "metadata": {},
   "source": [
    "8 - Exiba informações estatísticas das colunas textuais da base de dados"
   ]
  },
  {
   "cell_type": "code",
   "execution_count": null,
   "metadata": {},
   "outputs": [],
   "source": [
    "# Desenvolva seu código aqui\n"
   ]
  },
  {
   "cell_type": "markdown",
   "metadata": {},
   "source": [
    "9 - Exiba um texto informando qual a idade da pessoa presente no index 393\n",
    "\n",
    "Dica: Use o comando `iloc`"
   ]
  },
  {
   "cell_type": "code",
   "execution_count": null,
   "metadata": {},
   "outputs": [],
   "source": [
    "# Desenvolva seu código aqui\n"
   ]
  },
  {
   "cell_type": "markdown",
   "metadata": {},
   "source": [
    "10 - Exiba um texto informando qual o emprego da pessoa presente no index 4115\n",
    "\n",
    "Dica: Use o comando `iloc`"
   ]
  },
  {
   "cell_type": "code",
   "execution_count": null,
   "metadata": {},
   "outputs": [],
   "source": [
    "# Desenvolva seu código aqui\n"
   ]
  },
  {
   "cell_type": "markdown",
   "metadata": {},
   "source": [
    "11 - Na coluna 'possui_casa', altere todos os valores que possuem valor 'yes' para 1"
   ]
  },
  {
   "cell_type": "code",
   "execution_count": null,
   "metadata": {},
   "outputs": [],
   "source": [
    "# Desenvolva seu código aqui\n"
   ]
  },
  {
   "cell_type": "markdown",
   "metadata": {},
   "source": [
    "12 - Na coluna 'possui_casa', altere todos os valores que possuem valor 'no' para 0"
   ]
  },
  {
   "cell_type": "code",
   "execution_count": null,
   "metadata": {},
   "outputs": [],
   "source": [
    "# Desenvolva seu código aqui\n"
   ]
  },
  {
   "cell_type": "markdown",
   "metadata": {},
   "source": [
    "11 - Na coluna 'emprestimo', altere todos os valores que possuem valor 'yes' para 1"
   ]
  },
  {
   "cell_type": "code",
   "execution_count": null,
   "metadata": {},
   "outputs": [],
   "source": [
    "# Desenvolva seu código aqui\n"
   ]
  },
  {
   "cell_type": "markdown",
   "metadata": {},
   "source": [
    "14 - Na coluna 'emprestimo', altere todos os valores que possuem valor 'no' para 0"
   ]
  },
  {
   "cell_type": "code",
   "execution_count": null,
   "metadata": {},
   "outputs": [],
   "source": [
    "# Desenvolva seu código aqui\n"
   ]
  },
  {
   "cell_type": "markdown",
   "metadata": {},
   "source": [
    "15 - Na coluna 'deposito', altere todos os valores que possuem valor 'yes' para 1"
   ]
  },
  {
   "cell_type": "code",
   "execution_count": null,
   "metadata": {},
   "outputs": [],
   "source": [
    "# Desenvolva seu código aqui\n"
   ]
  },
  {
   "cell_type": "markdown",
   "metadata": {},
   "source": [
    "16 - Na coluna 'deposito', altere todos os valores que possuem valor 'no' para 0"
   ]
  },
  {
   "cell_type": "code",
   "execution_count": null,
   "metadata": {},
   "outputs": [],
   "source": [
    "# Desenvolva seu código aqui\n"
   ]
  },
  {
   "cell_type": "markdown",
   "metadata": {},
   "source": [
    "15 - Exiba todos os valores presentes na coluna mes"
   ]
  },
  {
   "cell_type": "code",
   "execution_count": 76,
   "metadata": {},
   "outputs": [
    {
     "data": {
      "text/plain": [
       "array(['may', 'jun', 'jul', 'aug', 'oct', 'nov', 'dec', 'jan', 'feb',\n",
       "       'mar', 'apr', 'sep'], dtype=object)"
      ]
     },
     "execution_count": 76,
     "metadata": {},
     "output_type": "execute_result"
    }
   ],
   "source": [
    "df.mes.unique()"
   ]
  },
  {
   "cell_type": "markdown",
   "metadata": {},
   "source": [
    "16 - Use a função loc para alterar os nomes dos meses na coluna mes para os respectivos valores numéricos \n",
    "\n",
    "'jan' para 1\n",
    "\n",
    "'feb' para 2\n",
    "\n",
    "'mar' para 3\n",
    "\n",
    "'apr' para 4\n",
    "\n",
    "'may' para 5\n",
    "\n",
    "'jun' para 6\n",
    "\n",
    "'jul' para 7\n",
    "\n",
    "'aug' para 8\n",
    "\n",
    "'sep' para 9\n",
    "\n",
    "'oct' para 10\n",
    "\n",
    "'nov' para 11\n",
    "\n",
    "'dec' para 12\n",
    "\n",
    "Dica: não tente fazer tudo em uma linha, faca um filtro e alteração para cada mês"
   ]
  },
  {
   "cell_type": "code",
   "execution_count": null,
   "metadata": {},
   "outputs": [],
   "source": [
    "# Desenvolva seu código aqui\n",
    "\n"
   ]
  },
  {
   "cell_type": "markdown",
   "metadata": {},
   "source": [
    "17 - Salve o arquivo alterado com o nome 'banco_modificado.csv' e sem o index"
   ]
  },
  {
   "cell_type": "code",
   "execution_count": null,
   "metadata": {},
   "outputs": [],
   "source": [
    "# Desenvolva seu código aqui\n",
    "\n"
   ]
  }
 ],
 "metadata": {
  "kernelspec": {
   "display_name": "Python 3.9.12 ('base')",
   "language": "python",
   "name": "python3"
  },
  "language_info": {
   "codemirror_mode": {
    "name": "ipython",
    "version": 3
   },
   "file_extension": ".py",
   "mimetype": "text/x-python",
   "name": "python",
   "nbconvert_exporter": "python",
   "pygments_lexer": "ipython3",
   "version": "3.9.12"
  },
  "orig_nbformat": 4,
  "vscode": {
   "interpreter": {
    "hash": "f43ba6cefd8f24580ff42e8af3aabb69fa421e7aad4e479f4a62a25e10b01fe1"
   }
  }
 },
 "nbformat": 4,
 "nbformat_minor": 2
}
