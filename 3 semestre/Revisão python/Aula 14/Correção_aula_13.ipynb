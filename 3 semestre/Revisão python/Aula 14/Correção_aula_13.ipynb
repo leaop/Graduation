{
 "cells": [
  {
   "cell_type": "markdown",
   "metadata": {},
   "source": [
    "# Correção exercícios Aula 13"
   ]
  },
  {
   "cell_type": "markdown",
   "metadata": {},
   "source": [
    "### Leitura dos dados"
   ]
  },
  {
   "cell_type": "code",
   "execution_count": 27,
   "metadata": {},
   "outputs": [
    {
     "name": "stderr",
     "output_type": "stream",
     "text": [
      "c:\\Users\\apcs1\\anaconda3\\lib\\site-packages\\IPython\\core\\interactiveshell.py:3444: DtypeWarning: Columns (7,12) have mixed types.Specify dtype option on import or set low_memory=False.\n",
      "  exec(code_obj, self.user_global_ns, self.user_ns)\n"
     ]
    }
   ],
   "source": [
    "# Importar a biblioteca necessária para leitura e manipulação de tabelas com o apelido pd\n",
    "import pandas as pd\n",
    "\n",
    "# Criação da variável df e leitura da base de dados\n",
    "df = pd.read_csv('preco_carros.csv')"
   ]
  },
  {
   "cell_type": "markdown",
   "metadata": {},
   "source": [
    "### Análise da base de Dados"
   ]
  },
  {
   "cell_type": "code",
   "execution_count": 28,
   "metadata": {},
   "outputs": [
    {
     "data": {
      "text/html": [
       "<div>\n",
       "<style scoped>\n",
       "    .dataframe tbody tr th:only-of-type {\n",
       "        vertical-align: middle;\n",
       "    }\n",
       "\n",
       "    .dataframe tbody tr th {\n",
       "        vertical-align: top;\n",
       "    }\n",
       "\n",
       "    .dataframe thead th {\n",
       "        text-align: right;\n",
       "    }\n",
       "</style>\n",
       "<table border=\"1\" class=\"dataframe\">\n",
       "  <thead>\n",
       "    <tr style=\"text-align: right;\">\n",
       "      <th></th>\n",
       "      <th>maker</th>\n",
       "      <th>model</th>\n",
       "      <th>mileage</th>\n",
       "      <th>manufacture_year</th>\n",
       "      <th>engine_displacement</th>\n",
       "      <th>engine_power</th>\n",
       "      <th>body_type</th>\n",
       "      <th>color_slug</th>\n",
       "      <th>stk_year</th>\n",
       "      <th>transmission</th>\n",
       "      <th>door_count</th>\n",
       "      <th>seat_count</th>\n",
       "      <th>fuel_type</th>\n",
       "      <th>price_eur</th>\n",
       "    </tr>\n",
       "  </thead>\n",
       "  <tbody>\n",
       "    <tr>\n",
       "      <th>0</th>\n",
       "      <td>ford</td>\n",
       "      <td>galaxy</td>\n",
       "      <td>151000.0</td>\n",
       "      <td>2011.0</td>\n",
       "      <td>2000.0</td>\n",
       "      <td>103.0</td>\n",
       "      <td>NaN</td>\n",
       "      <td>NaN</td>\n",
       "      <td>NaN</td>\n",
       "      <td>man</td>\n",
       "      <td>5.0</td>\n",
       "      <td>7.0</td>\n",
       "      <td>diesel</td>\n",
       "      <td>10584.75</td>\n",
       "    </tr>\n",
       "    <tr>\n",
       "      <th>1</th>\n",
       "      <td>skoda</td>\n",
       "      <td>octavia</td>\n",
       "      <td>143476.0</td>\n",
       "      <td>2012.0</td>\n",
       "      <td>2000.0</td>\n",
       "      <td>81.0</td>\n",
       "      <td>NaN</td>\n",
       "      <td>NaN</td>\n",
       "      <td>NaN</td>\n",
       "      <td>man</td>\n",
       "      <td>5.0</td>\n",
       "      <td>5.0</td>\n",
       "      <td>diesel</td>\n",
       "      <td>8882.31</td>\n",
       "    </tr>\n",
       "    <tr>\n",
       "      <th>2</th>\n",
       "      <td>bmw</td>\n",
       "      <td>NaN</td>\n",
       "      <td>97676.0</td>\n",
       "      <td>2010.0</td>\n",
       "      <td>1995.0</td>\n",
       "      <td>85.0</td>\n",
       "      <td>NaN</td>\n",
       "      <td>NaN</td>\n",
       "      <td>NaN</td>\n",
       "      <td>man</td>\n",
       "      <td>5.0</td>\n",
       "      <td>5.0</td>\n",
       "      <td>diesel</td>\n",
       "      <td>12065.06</td>\n",
       "    </tr>\n",
       "  </tbody>\n",
       "</table>\n",
       "</div>"
      ],
      "text/plain": [
       "   maker    model   mileage  manufacture_year  engine_displacement  \\\n",
       "0   ford   galaxy  151000.0            2011.0               2000.0   \n",
       "1  skoda  octavia  143476.0            2012.0               2000.0   \n",
       "2    bmw      NaN   97676.0            2010.0               1995.0   \n",
       "\n",
       "   engine_power body_type color_slug  stk_year transmission  door_count  \\\n",
       "0         103.0       NaN        NaN       NaN          man         5.0   \n",
       "1          81.0       NaN        NaN       NaN          man         5.0   \n",
       "2          85.0       NaN        NaN       NaN          man         5.0   \n",
       "\n",
       "   seat_count fuel_type  price_eur  \n",
       "0         7.0    diesel   10584.75  \n",
       "1         5.0    diesel    8882.31  \n",
       "2         5.0    diesel   12065.06  "
      ]
     },
     "execution_count": 28,
     "metadata": {},
     "output_type": "execute_result"
    }
   ],
   "source": [
    "# Exibe as 3 linhas iniciais da tabela\n",
    "df.head(3)"
   ]
  },
  {
   "cell_type": "code",
   "execution_count": 29,
   "metadata": {},
   "outputs": [
    {
     "data": {
      "text/html": [
       "<div>\n",
       "<style scoped>\n",
       "    .dataframe tbody tr th:only-of-type {\n",
       "        vertical-align: middle;\n",
       "    }\n",
       "\n",
       "    .dataframe tbody tr th {\n",
       "        vertical-align: top;\n",
       "    }\n",
       "\n",
       "    .dataframe thead th {\n",
       "        text-align: right;\n",
       "    }\n",
       "</style>\n",
       "<table border=\"1\" class=\"dataframe\">\n",
       "  <thead>\n",
       "    <tr style=\"text-align: right;\">\n",
       "      <th></th>\n",
       "      <th>count</th>\n",
       "      <th>mean</th>\n",
       "      <th>std</th>\n",
       "      <th>min</th>\n",
       "      <th>25%</th>\n",
       "      <th>50%</th>\n",
       "      <th>75%</th>\n",
       "      <th>max</th>\n",
       "    </tr>\n",
       "  </thead>\n",
       "  <tbody>\n",
       "    <tr>\n",
       "      <th>mileage</th>\n",
       "      <td>3190328.0</td>\n",
       "      <td>1.158140e+05</td>\n",
       "      <td>3.422508e+05</td>\n",
       "      <td>0.00</td>\n",
       "      <td>18800.00</td>\n",
       "      <td>86415.00</td>\n",
       "      <td>158025.00</td>\n",
       "      <td>9.999999e+06</td>\n",
       "    </tr>\n",
       "    <tr>\n",
       "      <th>manufacture_year</th>\n",
       "      <td>3182334.0</td>\n",
       "      <td>2.000871e+03</td>\n",
       "      <td>8.172588e+01</td>\n",
       "      <td>0.00</td>\n",
       "      <td>2004.00</td>\n",
       "      <td>2009.00</td>\n",
       "      <td>2013.00</td>\n",
       "      <td>2.017000e+03</td>\n",
       "    </tr>\n",
       "    <tr>\n",
       "      <th>engine_displacement</th>\n",
       "      <td>2809498.0</td>\n",
       "      <td>2.043958e+03</td>\n",
       "      <td>1.973958e+03</td>\n",
       "      <td>0.00</td>\n",
       "      <td>1400.00</td>\n",
       "      <td>1798.00</td>\n",
       "      <td>1997.00</td>\n",
       "      <td>3.276700e+04</td>\n",
       "    </tr>\n",
       "    <tr>\n",
       "      <th>engine_power</th>\n",
       "      <td>2998035.0</td>\n",
       "      <td>9.846796e+01</td>\n",
       "      <td>4.907309e+01</td>\n",
       "      <td>1.00</td>\n",
       "      <td>68.00</td>\n",
       "      <td>86.00</td>\n",
       "      <td>110.00</td>\n",
       "      <td>2.237000e+03</td>\n",
       "    </tr>\n",
       "    <tr>\n",
       "      <th>stk_year</th>\n",
       "      <td>536105.0</td>\n",
       "      <td>2.021473e+03</td>\n",
       "      <td>1.404767e+02</td>\n",
       "      <td>2015.00</td>\n",
       "      <td>2017.00</td>\n",
       "      <td>2017.00</td>\n",
       "      <td>2018.00</td>\n",
       "      <td>9.990000e+03</td>\n",
       "    </tr>\n",
       "    <tr>\n",
       "      <th>door_count</th>\n",
       "      <td>2462846.0</td>\n",
       "      <td>4.052180e+00</td>\n",
       "      <td>9.911850e-01</td>\n",
       "      <td>0.00</td>\n",
       "      <td>4.00</td>\n",
       "      <td>4.00</td>\n",
       "      <td>5.00</td>\n",
       "      <td>7.700000e+01</td>\n",
       "    </tr>\n",
       "    <tr>\n",
       "      <th>seat_count</th>\n",
       "      <td>2265813.0</td>\n",
       "      <td>4.869694e+00</td>\n",
       "      <td>1.212611e+00</td>\n",
       "      <td>0.00</td>\n",
       "      <td>5.00</td>\n",
       "      <td>5.00</td>\n",
       "      <td>5.00</td>\n",
       "      <td>5.170000e+02</td>\n",
       "    </tr>\n",
       "    <tr>\n",
       "      <th>price_eur</th>\n",
       "      <td>3552912.0</td>\n",
       "      <td>1.625812e+06</td>\n",
       "      <td>2.025622e+09</td>\n",
       "      <td>0.04</td>\n",
       "      <td>1295.34</td>\n",
       "      <td>7364.91</td>\n",
       "      <td>16284.23</td>\n",
       "      <td>2.706149e+12</td>\n",
       "    </tr>\n",
       "  </tbody>\n",
       "</table>\n",
       "</div>"
      ],
      "text/plain": [
       "                         count          mean           std      min       25%  \\\n",
       "mileage              3190328.0  1.158140e+05  3.422508e+05     0.00  18800.00   \n",
       "manufacture_year     3182334.0  2.000871e+03  8.172588e+01     0.00   2004.00   \n",
       "engine_displacement  2809498.0  2.043958e+03  1.973958e+03     0.00   1400.00   \n",
       "engine_power         2998035.0  9.846796e+01  4.907309e+01     1.00     68.00   \n",
       "stk_year              536105.0  2.021473e+03  1.404767e+02  2015.00   2017.00   \n",
       "door_count           2462846.0  4.052180e+00  9.911850e-01     0.00      4.00   \n",
       "seat_count           2265813.0  4.869694e+00  1.212611e+00     0.00      5.00   \n",
       "price_eur            3552912.0  1.625812e+06  2.025622e+09     0.04   1295.34   \n",
       "\n",
       "                          50%        75%           max  \n",
       "mileage              86415.00  158025.00  9.999999e+06  \n",
       "manufacture_year      2009.00    2013.00  2.017000e+03  \n",
       "engine_displacement   1798.00    1997.00  3.276700e+04  \n",
       "engine_power            86.00     110.00  2.237000e+03  \n",
       "stk_year              2017.00    2018.00  9.990000e+03  \n",
       "door_count               4.00       5.00  7.700000e+01  \n",
       "seat_count               5.00       5.00  5.170000e+02  \n",
       "price_eur             7364.91   16284.23  2.706149e+12  "
      ]
     },
     "execution_count": 29,
     "metadata": {},
     "output_type": "execute_result"
    }
   ],
   "source": [
    "# Descrição das colunas numéricas\n",
    "df.describe().T"
   ]
  },
  {
   "cell_type": "code",
   "execution_count": 30,
   "metadata": {},
   "outputs": [
    {
     "data": {
      "text/html": [
       "<div>\n",
       "<style scoped>\n",
       "    .dataframe tbody tr th:only-of-type {\n",
       "        vertical-align: middle;\n",
       "    }\n",
       "\n",
       "    .dataframe tbody tr th {\n",
       "        vertical-align: top;\n",
       "    }\n",
       "\n",
       "    .dataframe thead th {\n",
       "        text-align: right;\n",
       "    }\n",
       "</style>\n",
       "<table border=\"1\" class=\"dataframe\">\n",
       "  <thead>\n",
       "    <tr style=\"text-align: right;\">\n",
       "      <th></th>\n",
       "      <th>count</th>\n",
       "      <th>unique</th>\n",
       "      <th>top</th>\n",
       "      <th>freq</th>\n",
       "    </tr>\n",
       "  </thead>\n",
       "  <tbody>\n",
       "    <tr>\n",
       "      <th>maker</th>\n",
       "      <td>3033997</td>\n",
       "      <td>46</td>\n",
       "      <td>skoda</td>\n",
       "      <td>313830</td>\n",
       "    </tr>\n",
       "    <tr>\n",
       "      <th>model</th>\n",
       "      <td>2419551</td>\n",
       "      <td>1012</td>\n",
       "      <td>octavia</td>\n",
       "      <td>129563</td>\n",
       "    </tr>\n",
       "    <tr>\n",
       "      <th>body_type</th>\n",
       "      <td>2429998</td>\n",
       "      <td>9</td>\n",
       "      <td>other</td>\n",
       "      <td>1964289</td>\n",
       "    </tr>\n",
       "    <tr>\n",
       "      <th>color_slug</th>\n",
       "      <td>209501</td>\n",
       "      <td>14</td>\n",
       "      <td>black</td>\n",
       "      <td>42931</td>\n",
       "    </tr>\n",
       "    <tr>\n",
       "      <th>transmission</th>\n",
       "      <td>2811282</td>\n",
       "      <td>2</td>\n",
       "      <td>man</td>\n",
       "      <td>2021990</td>\n",
       "    </tr>\n",
       "    <tr>\n",
       "      <th>fuel_type</th>\n",
       "      <td>1705306</td>\n",
       "      <td>5</td>\n",
       "      <td>gasoline</td>\n",
       "      <td>902222</td>\n",
       "    </tr>\n",
       "  </tbody>\n",
       "</table>\n",
       "</div>"
      ],
      "text/plain": [
       "                count unique       top     freq\n",
       "maker         3033997     46     skoda   313830\n",
       "model         2419551   1012   octavia   129563\n",
       "body_type     2429998      9     other  1964289\n",
       "color_slug     209501     14     black    42931\n",
       "transmission  2811282      2       man  2021990\n",
       "fuel_type     1705306      5  gasoline   902222"
      ]
     },
     "execution_count": 30,
     "metadata": {},
     "output_type": "execute_result"
    }
   ],
   "source": [
    "# Descrição das colunas Textuais\n",
    "df.describe(include = 'O').T"
   ]
  },
  {
   "cell_type": "code",
   "execution_count": 31,
   "metadata": {},
   "outputs": [
    {
     "data": {
      "text/plain": [
       "maker                   object\n",
       "model                   object\n",
       "mileage                float64\n",
       "manufacture_year       float64\n",
       "engine_displacement    float64\n",
       "engine_power           float64\n",
       "body_type               object\n",
       "color_slug              object\n",
       "stk_year               float64\n",
       "transmission            object\n",
       "door_count             float64\n",
       "seat_count             float64\n",
       "fuel_type               object\n",
       "price_eur              float64\n",
       "dtype: object"
      ]
     },
     "execution_count": 31,
     "metadata": {},
     "output_type": "execute_result"
    }
   ],
   "source": [
    "# Tipo de dados das colunas\n",
    "df.dtypes"
   ]
  },
  {
   "cell_type": "code",
   "execution_count": 32,
   "metadata": {},
   "outputs": [
    {
     "data": {
      "text/plain": [
       "maker                   518915\n",
       "model                  1133361\n",
       "mileage                 362584\n",
       "manufacture_year        370578\n",
       "engine_displacement     743414\n",
       "engine_power            554877\n",
       "body_type              1122914\n",
       "color_slug             3343411\n",
       "stk_year               3016807\n",
       "transmission            741630\n",
       "door_count             1090066\n",
       "seat_count             1287099\n",
       "fuel_type              1847606\n",
       "price_eur                    0\n",
       "dtype: int64"
      ]
     },
     "execution_count": 32,
     "metadata": {},
     "output_type": "execute_result"
    }
   ],
   "source": [
    "# Quantidade de Valalores nulos por colunas\n",
    "df.isnull().sum()"
   ]
  },
  {
   "cell_type": "code",
   "execution_count": 33,
   "metadata": {},
   "outputs": [
    {
     "data": {
      "text/plain": [
       "maker                  15.0\n",
       "model                  32.0\n",
       "mileage                10.0\n",
       "manufacture_year       10.0\n",
       "engine_displacement    21.0\n",
       "engine_power           16.0\n",
       "body_type              32.0\n",
       "color_slug             94.0\n",
       "stk_year               85.0\n",
       "transmission           21.0\n",
       "door_count             31.0\n",
       "seat_count             36.0\n",
       "fuel_type              52.0\n",
       "price_eur               0.0\n",
       "dtype: float64"
      ]
     },
     "execution_count": 33,
     "metadata": {},
     "output_type": "execute_result"
    }
   ],
   "source": [
    "# Porcentagem de Valalores nulos por colunas\n",
    "round(df.isnull().sum() * 100 / len(df))"
   ]
  },
  {
   "cell_type": "markdown",
   "metadata": {},
   "source": [
    "# Tratamento de Valores Nulos\n",
    "Todas as colunas de atributos possuem valores nulos.\n",
    "\n",
    "Para tratar valores nulos temos que verificar 2 pontos importantes:\n",
    "* Porcentagem de valores nulos;\n",
    "* Tipo dos dados. \n",
    "\n",
    "### Porcentagem de valores nulos:\n",
    "* Com porcentagens acima de 50% é aceitável que se exclua a coluna, mas com valores acima de 80% é super recomendável que se exclua;\n",
    "* Com porcentagens entre 1% e 80% podemos substituir os valores nulos pela (Média, Mediana ou Moda - Verficar o tipo de dados;\n",
    "* Com valores abaixo de 1% podemos excluir as linhas com valores nulos ou substituir os valores nulos pela (Média, Mediana ou Moda - Verficar o tipo de dados).\n",
    "\n",
    "### Tipo de Dados\n",
    "* Dados numéricos (int ou float) podemos substituir por:\n",
    "    * Média - Soma de todos os valores dividido pela quantidade de valores;\n",
    "    * Mediana - Todos Valores \"listados\" em ordem crescente, a mediana é o valor que aparece na metade da lista;\n",
    "    * Moda - O valor que mais aparece\n",
    "\n",
    "* Dados Textuais, podemos substituir pela moda"
   ]
  },
  {
   "cell_type": "markdown",
   "metadata": {},
   "source": [
    "# 1 Excluir colunas com porcentagens altas de valores nulos\n",
    "color_slug             94%\n",
    "\n",
    "stk_year               85%\n",
    "\n",
    "fuel_type              52%\n"
   ]
  },
  {
   "cell_type": "code",
   "execution_count": 34,
   "metadata": {},
   "outputs": [],
   "source": [
    "# Apaga as colunas 'color_slug', 'stk_year' e 'fuel_type'\n",
    "df.drop(['color_slug', 'stk_year', 'fuel_type'], axis=1, inplace = True)"
   ]
  },
  {
   "cell_type": "markdown",
   "metadata": {},
   "source": [
    "# 2 - Tratar valores nulos das colunas numéricas\n",
    "\n",
    "Quilometragem - Interessante substituir pela média (neste caso não vejo tanta necessidade de remover as casas decimais mas irei remover)\n",
    "* mileage ------------- float64\n",
    "\n",
    "Ano de Fabricação - Interessante substituir pela moda (Sempre é interessante verificar com o `valeu_counts()` quantas vezes a moda aparece e quantos valores únicos existem na coluna)\n",
    "* manufacture_year ----- float64\n",
    "\n",
    "Cilindradas do Motor - Usar moda (neste caso não teve muito critério...)\n",
    "* engine_displacement -- float64\n",
    "\n",
    "Quantos cavalos o carro possui - Usar média (neste caso não teve muito critério...), importante lembrar de remover as casas decimais, pois neste caso, não existe carro com, por exemplo, 100.7 cavalos...\n",
    "* engine_power --------- float64\n",
    "\n",
    "Quantidade de Portas - Usar moda (Sempre é interessante verificar com o `valeu_counts()` quantas vezes a moda aparece e quantos valores únicos existem na coluna)\n",
    "* door_count ----------- float64\n",
    "\n",
    "Quantidade de assentos - Tanto a moda, quanto mediana e média arredondada retornam o mesmo valor\n",
    "* seat_count ----------- float64\n"
   ]
  },
  {
   "cell_type": "code",
   "execution_count": 35,
   "metadata": {},
   "outputs": [],
   "source": [
    "# Substitui valores nulos de kilometragem pela média arredondada\n",
    "df.loc[df['mileage'].isnull(), 'mileage'] = round(df.mileage.median())\n",
    "\n",
    "# Substitui valores nulos de ano de fabricação pela moda\n",
    "df.loc[df['manufacture_year'].isnull(), 'manufacture_year'] = df.manufacture_year.mode()[0]\n",
    "\n",
    "# Substitui valores nulos de cilindradas pela moda\n",
    "df.loc[df['engine_displacement'].isnull(), 'engine_displacement'] = df.engine_displacement.mode()[0]\n",
    "\n",
    "# Substitui valores nulos de quantidade de cavalos pela média arredondada\n",
    "df.loc[df['engine_power'].isnull(), 'engine_power'] = round(df.engine_power.median())\n",
    "\n",
    "# Substitui valores nulos de quantidade de portas pela moda\n",
    "df.loc[df['door_count'].isnull(), 'door_count'] = df.door_count.mode()[0]\n",
    "\n",
    "# Substitui valores nulos de assentos pela moda\n",
    "df.loc[df['seat_count'].isnull(), 'seat_count'] = df.seat_count.mode()[0]"
   ]
  },
  {
   "cell_type": "markdown",
   "metadata": {},
   "source": [
    "# 3 - Tratar valores nulos das colunas textuais\n",
    "maker ------- object\n",
    "\n",
    "model ------- object\n",
    "\n",
    "body_type ------- object\n",
    "\n",
    "transmission ------- object\n",
    "\n",
    "No caso das colunas textuais, não conswguimos usar a média nem a mediana (pois são cálculos matemáticos que só podem ser aplicados a valores numéricos), então iremos substituir os valores nulos pela moda (valor que mais aparece)"
   ]
  },
  {
   "cell_type": "code",
   "execution_count": 36,
   "metadata": {},
   "outputs": [],
   "source": [
    "# Substitui valores nulos de fabricante pela moda\n",
    "df.loc[df['maker'].isnull(), 'maker'] = df.maker.mode()[0]\n",
    "\n",
    "# Substitui valores nulos de modelo pela moda\n",
    "df.loc[df['model'].isnull(), 'model'] = df.model.mode()[0]\n",
    "\n",
    "# Substitui valores nulos de tipo de carro pela moda\n",
    "df.loc[df['body_type'].isnull(), 'body_type'] = df.body_type.mode()[0]\n",
    "\n",
    "# Substitui valores nulos de trnsmissão pela moda\n",
    "df.loc[df['transmission'].isnull(), 'transmission'] = df.transmission.mode()[0]"
   ]
  },
  {
   "cell_type": "code",
   "execution_count": 37,
   "metadata": {},
   "outputs": [
    {
     "data": {
      "text/plain": [
       "other           86.892189\n",
       "compact          6.809851\n",
       "coupe            1.986427\n",
       "stationwagon     1.967260\n",
       "van              0.880967\n",
       "offroad          0.634662\n",
       "sedan            0.553602\n",
       "convertible      0.150074\n",
       "transporter      0.124968\n",
       "Name: body_type, dtype: float64"
      ]
     },
     "execution_count": 37,
     "metadata": {},
     "output_type": "execute_result"
    }
   ],
   "source": [
    "df.body_type.value_counts() * 100 / len(df)"
   ]
  },
  {
   "cell_type": "code",
   "execution_count": 38,
   "metadata": {},
   "outputs": [
    {
     "data": {
      "text/plain": [
       "maker                  0\n",
       "model                  0\n",
       "mileage                0\n",
       "manufacture_year       0\n",
       "engine_displacement    0\n",
       "engine_power           0\n",
       "body_type              0\n",
       "transmission           0\n",
       "door_count             0\n",
       "seat_count             0\n",
       "price_eur              0\n",
       "dtype: int64"
      ]
     },
     "execution_count": 38,
     "metadata": {},
     "output_type": "execute_result"
    }
   ],
   "source": [
    "# Quantidade de Valalores nulos por colunas\n",
    "df.isnull().sum()"
   ]
  },
  {
   "cell_type": "markdown",
   "metadata": {},
   "source": [
    "# 4 - Converter dados textuais para numéricos.\n",
    "\n",
    "maker ------- object\n",
    "\n",
    "model ------- object\n",
    "\n",
    "body_type ------- object\n",
    "\n",
    "transmission ------- object\n",
    "\n",
    "Para facilitar, iremos usar a biblioteca label encoder do sklearn."
   ]
  },
  {
   "cell_type": "code",
   "execution_count": 39,
   "metadata": {},
   "outputs": [],
   "source": [
    "from sklearn.preprocessing import LabelEncoder\n",
    "le = LabelEncoder()\n",
    "\n",
    "df['maker'] = le.fit_transform(df['maker'])\n",
    "df['model'] = le.fit_transform(df['model'])\n",
    "df['body_type'] = le.fit_transform(df['body_type'])\n",
    "df['transmission'] = le.fit_transform(df['transmission'])"
   ]
  },
  {
   "cell_type": "code",
   "execution_count": 40,
   "metadata": {},
   "outputs": [
    {
     "data": {
      "text/plain": [
       "maker                    int32\n",
       "model                    int32\n",
       "mileage                float64\n",
       "manufacture_year       float64\n",
       "engine_displacement    float64\n",
       "engine_power           float64\n",
       "body_type                int32\n",
       "transmission             int32\n",
       "door_count             float64\n",
       "seat_count             float64\n",
       "price_eur              float64\n",
       "dtype: object"
      ]
     },
     "execution_count": 40,
     "metadata": {},
     "output_type": "execute_result"
    }
   ],
   "source": [
    "# Verifica o tipo de dados das colunas (recebemos apenas tipos numéricos)\n",
    "df.dtypes"
   ]
  },
  {
   "cell_type": "markdown",
   "metadata": {},
   "source": [
    "# 5 - Classe Alvo (o que queremos prever)\n",
    "\n",
    "Geralmente não existem muistos valores únicos na nossa classe alvo. Como vimos em toso os outros exemplos até aqui, todas as bases tinham apenas 2 valores, sim e não, 1 e 0...\n",
    "\n",
    "Não existe problema e existir mais de 2 valores únicos, entretanto, muitos valores únicos pode acabar gerando uma acurácia muito baixa, visto que o modelo terá que prever valores em uma faixa muito grande de valores.\n",
    "\n",
    "Geralmente estes casos são quando a classe alvo é idade, valor fnanceiro... Nestes casos, é recomendado que sejam criadas faixas de valores, como por exemplo, substituir os valores de idade (de 0 a 100) por faixas de idade como:\n",
    "\n",
    "1 = de 0 a 10 anos\n",
    "\n",
    "2 = de 11 a 20 anos\n",
    "\n",
    "3 = de 21 a 30 anos\n",
    "\n",
    "4 = de 31 a 40 anos\n",
    "\n",
    "5 = de 41 a 50 anos\n",
    "\n",
    "6 = de 51 a 60 anos\n",
    "\n",
    "7 = de 61 a 70 anos\n",
    "\n",
    "8 = de 71 a 80 anos\n",
    "\n",
    "9 = de 81 a 90 anos\n",
    "\n",
    "10 = acima de 90 anos\n",
    "\n",
    "Desta forma, conseguimos reduzir a 1 décimo a quatidade de valores únicos na classe alvo (ao invés de valores de 0 a 100, valores de 1 a 10).\n",
    "\n",
    "Nesta base e dados, temos realizar este tipo de coreção também (são 227305 valores únicos)\n",
    "\n",
    "# 6 - Tratamento de valores errados\n",
    "As vezes a base de dados pode ter valores errados, por erro de digitação humana ou algum outro motivo.\n",
    "\n",
    "Outro ponto imporane, é verificar quais os valros máximos e mínimos da coluna.\n"
   ]
  },
  {
   "cell_type": "code",
   "execution_count": 41,
   "metadata": {},
   "outputs": [
    {
     "data": {
      "text/plain": [
       "227305"
      ]
     },
     "execution_count": 41,
     "metadata": {},
     "output_type": "execute_result"
    }
   ],
   "source": [
    "# Quantidade de valores únicos na classe alvo\n",
    "df.price_eur.nunique()"
   ]
  },
  {
   "cell_type": "code",
   "execution_count": 42,
   "metadata": {},
   "outputs": [
    {
     "data": {
      "text/plain": [
       "2706149053064.4"
      ]
     },
     "execution_count": 42,
     "metadata": {},
     "output_type": "execute_result"
    }
   ],
   "source": [
    "# Valor máximo da coluna price_eur\n",
    "max(df.price_eur)"
   ]
  },
  {
   "cell_type": "code",
   "execution_count": 43,
   "metadata": {},
   "outputs": [
    {
     "data": {
      "text/plain": [
       "0.04"
      ]
     },
     "execution_count": 43,
     "metadata": {},
     "output_type": "execute_result"
    }
   ],
   "source": [
    "# Valor mínimo da coluna price_eur\n",
    "min(df.price_eur)"
   ]
  },
  {
   "cell_type": "markdown",
   "metadata": {},
   "source": [
    "Repare que o na teoria, o carro mais barato é de 0.04 centavos e o mais caro 2706149053064.4 euros...\n",
    "\n",
    "Certamente existem erros nestes valores. Assim como valores nulos, temos 2 opções aqui:\n",
    "* Apagar os registros (linhas onde os valores estão errado)\n",
    "* Substituir os valores errados pela média, mediana ou moda da coluna.\n",
    "\n",
    "Eu particularmente prefiro excluir as linhas onde existem erros na classe alvo.\n",
    "\n",
    "Para isto, vamos definir um valor máximo que um carro pode custar e um valor mínimo que o carro pode custar.\n",
    "\n",
    "Valor máximo = 400.000 euros\n",
    "Valor mínimo= 400 euros\n",
    "\n",
    "Com estes valores definidos, podemos usar o loc para selecionar somente os carros dentro desta faixa de valores"
   ]
  },
  {
   "cell_type": "code",
   "execution_count": 44,
   "metadata": {},
   "outputs": [
    {
     "data": {
      "text/plain": [
       "3552912"
      ]
     },
     "execution_count": 44,
     "metadata": {},
     "output_type": "execute_result"
    }
   ],
   "source": [
    "# Mostra o total de carros na base de dados\n",
    "df.shape[0]"
   ]
  },
  {
   "cell_type": "code",
   "execution_count": 45,
   "metadata": {},
   "outputs": [
    {
     "data": {
      "text/plain": [
       "3496821"
      ]
     },
     "execution_count": 45,
     "metadata": {},
     "output_type": "execute_result"
    }
   ],
   "source": [
    "# Mostra o total de carros na base de dados com nosso filtro aplicado\n",
    "df.loc[(df['price_eur']>=400) & (df['price_eur']<=400000)].shape[0]"
   ]
  },
  {
   "cell_type": "code",
   "execution_count": 46,
   "metadata": {},
   "outputs": [
    {
     "data": {
      "text/plain": [
       "56091"
      ]
     },
     "execution_count": 46,
     "metadata": {},
     "output_type": "execute_result"
    }
   ],
   "source": [
    "# Mostra o total de carros na base de dados que estão fora do nosso filtro - quantidade de carros que serão removidos\n",
    "df.shape[0] - df.loc[(df['price_eur']>=400) & (df['price_eur']<=400000)].shape[0]"
   ]
  },
  {
   "cell_type": "code",
   "execution_count": 47,
   "metadata": {},
   "outputs": [],
   "source": [
    "# Atribuímos à variável df o df com filtro aplicado\n",
    "df = df.loc[(df['price_eur']>=400) & (df['price_eur']<=400000)]"
   ]
  },
  {
   "cell_type": "markdown",
   "metadata": {},
   "source": [
    "Ainda assim, existem muitos valores únicos nesta classe, vamos usar um loop for com a função loc dentro para solucionar este problema"
   ]
  },
  {
   "cell_type": "code",
   "execution_count": 48,
   "metadata": {},
   "outputs": [],
   "source": [
    "#cria um contador\n",
    "cont = 1\n",
    "\n",
    "# Criamos um loop que começa em 2000, vai até 400001 e and e 2000 em 2000\n",
    "for var in range(4000, 400001, 4000):\n",
    "    # Faz um filtro que filtra os valores de 4000 em 4000 e altera o valor para o valor do contador\n",
    "    df.loc[(df['price_eur']<=var)& (df['price_eur']>var-4000), 'price_eur'] = cont\n",
    "    cont +=1"
   ]
  },
  {
   "cell_type": "markdown",
   "metadata": {},
   "source": [
    "desta forma, os valores foram substituidos por:\n",
    "\n",
    "1 = valores entre 400 e 4000\n",
    "\n",
    "2 = valores entre 4000,01 e 8000\n",
    "\n",
    "3 = valores entre 8000,01 e 12000\n",
    "\n",
    "4 = valores entre 12000,01 e 16000\n",
    "\n",
    "5 = valores entre 16000,01 e 20000\n",
    "\n",
    "\n",
    "\n",
    ".\n",
    "\n",
    ".\n",
    "\n",
    ".\n",
    "\n",
    "Ou seja, em cálculo matemáticos, os valores estão:\n",
    "\n",
    "(novo valor * 4000) -4000 a (novo valor * 4000)\n",
    "\n",
    "(2 * 4000) -4000 a (2 * 4000)\n",
    "\n",
    "4000 a 8000\n",
    "\n",
    "------------------------------------------------\n",
    "\n",
    "(novo valor * 4000) -4000 a (novo valor * 4000)\n",
    "\n",
    "(5 * 4000) -4000 a (5 * 4000)\n",
    "\n",
    "16000 a 20000"
   ]
  },
  {
   "cell_type": "code",
   "execution_count": 49,
   "metadata": {},
   "outputs": [
    {
     "data": {
      "text/plain": [
       "100"
      ]
     },
     "execution_count": 49,
     "metadata": {},
     "output_type": "execute_result"
    }
   ],
   "source": [
    "# Quantidade de valores únicos na classe alvo\n",
    "df.price_eur.nunique()"
   ]
  },
  {
   "cell_type": "code",
   "execution_count": 50,
   "metadata": {},
   "outputs": [
    {
     "data": {
      "text/html": [
       "<div>\n",
       "<style scoped>\n",
       "    .dataframe tbody tr th:only-of-type {\n",
       "        vertical-align: middle;\n",
       "    }\n",
       "\n",
       "    .dataframe tbody tr th {\n",
       "        vertical-align: top;\n",
       "    }\n",
       "\n",
       "    .dataframe thead th {\n",
       "        text-align: right;\n",
       "    }\n",
       "</style>\n",
       "<table border=\"1\" class=\"dataframe\">\n",
       "  <thead>\n",
       "    <tr style=\"text-align: right;\">\n",
       "      <th></th>\n",
       "      <th>maker</th>\n",
       "      <th>model</th>\n",
       "      <th>mileage</th>\n",
       "      <th>manufacture_year</th>\n",
       "      <th>engine_displacement</th>\n",
       "      <th>engine_power</th>\n",
       "      <th>body_type</th>\n",
       "      <th>transmission</th>\n",
       "      <th>door_count</th>\n",
       "      <th>seat_count</th>\n",
       "      <th>price_eur</th>\n",
       "    </tr>\n",
       "  </thead>\n",
       "  <tbody>\n",
       "    <tr>\n",
       "      <th>0</th>\n",
       "      <td>11</td>\n",
       "      <td>484</td>\n",
       "      <td>151000.0</td>\n",
       "      <td>2011.0</td>\n",
       "      <td>2000.0</td>\n",
       "      <td>103.0</td>\n",
       "      <td>4</td>\n",
       "      <td>1</td>\n",
       "      <td>5.0</td>\n",
       "      <td>7.0</td>\n",
       "      <td>3.0</td>\n",
       "    </tr>\n",
       "    <tr>\n",
       "      <th>1</th>\n",
       "      <td>38</td>\n",
       "      <td>679</td>\n",
       "      <td>143476.0</td>\n",
       "      <td>2012.0</td>\n",
       "      <td>2000.0</td>\n",
       "      <td>81.0</td>\n",
       "      <td>4</td>\n",
       "      <td>1</td>\n",
       "      <td>5.0</td>\n",
       "      <td>5.0</td>\n",
       "      <td>3.0</td>\n",
       "    </tr>\n",
       "    <tr>\n",
       "      <th>2</th>\n",
       "      <td>4</td>\n",
       "      <td>679</td>\n",
       "      <td>97676.0</td>\n",
       "      <td>2010.0</td>\n",
       "      <td>1995.0</td>\n",
       "      <td>85.0</td>\n",
       "      <td>4</td>\n",
       "      <td>1</td>\n",
       "      <td>5.0</td>\n",
       "      <td>5.0</td>\n",
       "      <td>4.0</td>\n",
       "    </tr>\n",
       "    <tr>\n",
       "      <th>3</th>\n",
       "      <td>38</td>\n",
       "      <td>450</td>\n",
       "      <td>111970.0</td>\n",
       "      <td>2004.0</td>\n",
       "      <td>1200.0</td>\n",
       "      <td>47.0</td>\n",
       "      <td>4</td>\n",
       "      <td>1</td>\n",
       "      <td>5.0</td>\n",
       "      <td>5.0</td>\n",
       "      <td>1.0</td>\n",
       "    </tr>\n",
       "    <tr>\n",
       "      <th>4</th>\n",
       "      <td>38</td>\n",
       "      <td>450</td>\n",
       "      <td>128886.0</td>\n",
       "      <td>2004.0</td>\n",
       "      <td>1200.0</td>\n",
       "      <td>47.0</td>\n",
       "      <td>4</td>\n",
       "      <td>1</td>\n",
       "      <td>5.0</td>\n",
       "      <td>5.0</td>\n",
       "      <td>1.0</td>\n",
       "    </tr>\n",
       "    <tr>\n",
       "      <th>...</th>\n",
       "      <td>...</td>\n",
       "      <td>...</td>\n",
       "      <td>...</td>\n",
       "      <td>...</td>\n",
       "      <td>...</td>\n",
       "      <td>...</td>\n",
       "      <td>...</td>\n",
       "      <td>...</td>\n",
       "      <td>...</td>\n",
       "      <td>...</td>\n",
       "      <td>...</td>\n",
       "    </tr>\n",
       "    <tr>\n",
       "      <th>3552907</th>\n",
       "      <td>38</td>\n",
       "      <td>774</td>\n",
       "      <td>54000.0</td>\n",
       "      <td>2013.0</td>\n",
       "      <td>1200.0</td>\n",
       "      <td>63.0</td>\n",
       "      <td>4</td>\n",
       "      <td>1</td>\n",
       "      <td>4.0</td>\n",
       "      <td>5.0</td>\n",
       "      <td>1.0</td>\n",
       "    </tr>\n",
       "    <tr>\n",
       "      <th>3552908</th>\n",
       "      <td>38</td>\n",
       "      <td>452</td>\n",
       "      <td>86415.0</td>\n",
       "      <td>2000.0</td>\n",
       "      <td>1968.0</td>\n",
       "      <td>50.0</td>\n",
       "      <td>4</td>\n",
       "      <td>1</td>\n",
       "      <td>4.0</td>\n",
       "      <td>5.0</td>\n",
       "      <td>1.0</td>\n",
       "    </tr>\n",
       "    <tr>\n",
       "      <th>3552909</th>\n",
       "      <td>38</td>\n",
       "      <td>679</td>\n",
       "      <td>230000.0</td>\n",
       "      <td>2006.0</td>\n",
       "      <td>1900.0</td>\n",
       "      <td>100.0</td>\n",
       "      <td>4</td>\n",
       "      <td>1</td>\n",
       "      <td>4.0</td>\n",
       "      <td>5.0</td>\n",
       "      <td>1.0</td>\n",
       "    </tr>\n",
       "    <tr>\n",
       "      <th>3552910</th>\n",
       "      <td>38</td>\n",
       "      <td>450</td>\n",
       "      <td>86415.0</td>\n",
       "      <td>2001.0</td>\n",
       "      <td>1968.0</td>\n",
       "      <td>86.0</td>\n",
       "      <td>4</td>\n",
       "      <td>1</td>\n",
       "      <td>4.0</td>\n",
       "      <td>5.0</td>\n",
       "      <td>1.0</td>\n",
       "    </tr>\n",
       "    <tr>\n",
       "      <th>3552911</th>\n",
       "      <td>27</td>\n",
       "      <td>679</td>\n",
       "      <td>86415.0</td>\n",
       "      <td>2015.0</td>\n",
       "      <td>1968.0</td>\n",
       "      <td>86.0</td>\n",
       "      <td>4</td>\n",
       "      <td>1</td>\n",
       "      <td>4.0</td>\n",
       "      <td>5.0</td>\n",
       "      <td>1.0</td>\n",
       "    </tr>\n",
       "  </tbody>\n",
       "</table>\n",
       "<p>3496821 rows × 11 columns</p>\n",
       "</div>"
      ],
      "text/plain": [
       "         maker  model   mileage  manufacture_year  engine_displacement  \\\n",
       "0           11    484  151000.0            2011.0               2000.0   \n",
       "1           38    679  143476.0            2012.0               2000.0   \n",
       "2            4    679   97676.0            2010.0               1995.0   \n",
       "3           38    450  111970.0            2004.0               1200.0   \n",
       "4           38    450  128886.0            2004.0               1200.0   \n",
       "...        ...    ...       ...               ...                  ...   \n",
       "3552907     38    774   54000.0            2013.0               1200.0   \n",
       "3552908     38    452   86415.0            2000.0               1968.0   \n",
       "3552909     38    679  230000.0            2006.0               1900.0   \n",
       "3552910     38    450   86415.0            2001.0               1968.0   \n",
       "3552911     27    679   86415.0            2015.0               1968.0   \n",
       "\n",
       "         engine_power  body_type  transmission  door_count  seat_count  \\\n",
       "0               103.0          4             1         5.0         7.0   \n",
       "1                81.0          4             1         5.0         5.0   \n",
       "2                85.0          4             1         5.0         5.0   \n",
       "3                47.0          4             1         5.0         5.0   \n",
       "4                47.0          4             1         5.0         5.0   \n",
       "...               ...        ...           ...         ...         ...   \n",
       "3552907          63.0          4             1         4.0         5.0   \n",
       "3552908          50.0          4             1         4.0         5.0   \n",
       "3552909         100.0          4             1         4.0         5.0   \n",
       "3552910          86.0          4             1         4.0         5.0   \n",
       "3552911          86.0          4             1         4.0         5.0   \n",
       "\n",
       "         price_eur  \n",
       "0              3.0  \n",
       "1              3.0  \n",
       "2              4.0  \n",
       "3              1.0  \n",
       "4              1.0  \n",
       "...            ...  \n",
       "3552907        1.0  \n",
       "3552908        1.0  \n",
       "3552909        1.0  \n",
       "3552910        1.0  \n",
       "3552911        1.0  \n",
       "\n",
       "[3496821 rows x 11 columns]"
      ]
     },
     "execution_count": 50,
     "metadata": {},
     "output_type": "execute_result"
    }
   ],
   "source": [
    "df"
   ]
  },
  {
   "cell_type": "code",
   "execution_count": 51,
   "metadata": {},
   "outputs": [
    {
     "data": {
      "text/plain": [
       "100.0"
      ]
     },
     "execution_count": 51,
     "metadata": {},
     "output_type": "execute_result"
    }
   ],
   "source": [
    "# Valor máximo da coluna price_eur\n",
    "max(df.price_eur)"
   ]
  },
  {
   "cell_type": "code",
   "execution_count": 52,
   "metadata": {},
   "outputs": [
    {
     "data": {
      "text/plain": [
       "1.0"
      ]
     },
     "execution_count": 52,
     "metadata": {},
     "output_type": "execute_result"
    }
   ],
   "source": [
    "# Valor máximo da coluna price_eur\n",
    "min(df.price_eur)"
   ]
  },
  {
   "cell_type": "markdown",
   "metadata": {},
   "source": [
    "Desta forma, temos valores de 0 a 100 (Ainda é uma quantidade relativamente alta de valores únicos para a classe alvo), mas já é bem menos do que havia."
   ]
  },
  {
   "cell_type": "markdown",
   "metadata": {},
   "source": [
    "# 7 - Normalizar os dados\n",
    "A normalização mais utilizada conhecida é a min max, onde o maior valor se tornará 1 e o menor 0 e a sua fórmula é dada por:\n",
    "\n",
    "``x' = (x - min(x)) / (max(x) - min(x))``\n",
    "\n",
    "Um exemplo prático pode ser a normalização da seguinte lista:\n",
    "\n",
    "[-8, 5, 12, -1, 15]\n",
    "\n",
    "Para cada valor da lista iremos aplpicar a fórmula, com os menores (min) e maiores (max) valores da lista\n",
    "\n",
    "min = -8\n",
    "\n",
    "max = 15\n",
    "\n",
    "(-8 - (-8)) / (15 - (-8)) = 0\n",
    "\n",
    "(5 - (-8)) / (15 - (-8)) = 0.5652173913043478\n",
    "\n",
    "(12 - (-8)) / (15 - (-8)) = 0.8695652173913043\n",
    "\n",
    "(-1 - (-8)) / (15 - (-8)) = 0.30434782608695654\n",
    "\n",
    "(15 - (-8)) / (15 - (-8)) = 1\n",
    "\n",
    "nova lista = [0, 0.5652173913043478, 0.8695652173913043, 0.30434782608695654, 1]"
   ]
  },
  {
   "cell_type": "code",
   "execution_count": null,
   "metadata": {},
   "outputs": [],
   "source": [
    "# Aplicação da mesma fórmula para a lista, na prática\n",
    "[(x - min([-8, 5, 12, -1, 15])) / (max([-8, 5, 12, -1, 15]) - min([-8, 5, 12, -1, 15])) for x in [-8, 5, 12, -1, 15]]"
   ]
  },
  {
   "cell_type": "code",
   "execution_count": 53,
   "metadata": {},
   "outputs": [],
   "source": [
    "# Normaliza os dados no df_norm\n",
    "df_norm = (df - df.min()) / (df.max() - df.min())"
   ]
  },
  {
   "cell_type": "markdown",
   "metadata": {},
   "source": [
    "Após normalizar, geralmente removemos a normalização da nossa classe alvo, entretanto, ao invés de fazermos isto, também podemos definir o nosso y referente ao nosso dataframe original sem normalização.\n",
    "\n",
    "OBS: Devido a conceitos matemáticos, por padrão o X é maiúsculo e o y minúsculo, mas note, isto são apenas variáveis, então na prática, podemos usar o nome de variáveis que desejarmos..."
   ]
  },
  {
   "cell_type": "code",
   "execution_count": 54,
   "metadata": {},
   "outputs": [],
   "source": [
    "# X (X Maiúsculo) recebe todas as colunas normalizadas até a penúltima (visto que a última é nossa classe alvo)\n",
    "X = df_norm[list(df_norm.columns[0:-1])]\n",
    "\n",
    "# y (y minúsculo) recebe a nossa classe alvo da tabela que não foi normalizada\n",
    "y = df['price_eur']"
   ]
  },
  {
   "cell_type": "markdown",
   "metadata": {},
   "source": [
    "# 6 - Separar os dados em treinamento e teste\n",
    "\n",
    "Para isto, iremos usar, também do sklearn, a biblioteca \"train_test_split\""
   ]
  },
  {
   "cell_type": "code",
   "execution_count": 55,
   "metadata": {},
   "outputs": [],
   "source": [
    "# Biblioteca de calcar acurácia\n",
    "from sklearn.metrics import accuracy_score\n",
    "\n",
    "from sklearn.model_selection import train_test_split\n",
    "train_X, test_X, train_y, test_y = train_test_split(X, y, test_size=0.40)"
   ]
  },
  {
   "cell_type": "code",
   "execution_count": 56,
   "metadata": {},
   "outputs": [],
   "source": [
    "from sklearn import svm\n",
    "# Biblioteca de calcar acurácia\n",
    "from sklearn.metrics import accuracy_score\n",
    "\n",
    "clf = svm.SVC()\n",
    "clf.fit(train_X, train_y)\n",
    "\n",
    "pred_y = clf.predict(test_X)\n",
    "\n",
    "accuracy_score(test_y, pred_y)"
   ]
  },
  {
   "cell_type": "markdown",
   "metadata": {},
   "source": [
    "Após longos tempos treinando modelos, é interessante salvar o modelo treinado para aplicar posteriormente."
   ]
  },
  {
   "cell_type": "code",
   "execution_count": null,
   "metadata": {},
   "outputs": [],
   "source": [
    "# Salvar o modelo\n",
    "# Se preciso, execute !pip install pickle\n",
    "import pickle\n",
    "\n",
    "arquivo = 'modelo_treinado.sav'\n",
    "pickle.dump(clf, open(arquivo, 'wb'))\n",
    " \n",
    "# Algum tempo depois...\n",
    " \n",
    "# Carrega o modelo\n",
    "modelo = pickle.load(open(arquivo, 'rb'))\n",
    "\n",
    "pred_y = clf.predict(test_X)\n",
    "\n",
    "accuracy_score(test_y, pred_y)"
   ]
  }
 ],
 "metadata": {
  "kernelspec": {
   "display_name": "Python 3.9.7 ('base')",
   "language": "python",
   "name": "python3"
  },
  "language_info": {
   "codemirror_mode": {
    "name": "ipython",
    "version": 3
   },
   "file_extension": ".py",
   "mimetype": "text/x-python",
   "name": "python",
   "nbconvert_exporter": "python",
   "pygments_lexer": "ipython3",
   "version": "3.9.7"
  },
  "orig_nbformat": 4,
  "vscode": {
   "interpreter": {
    "hash": "067f175f07fc265aa8d145419b6335739ee65af91da4abf8cfbfc48bca5c9b8b"
   }
  }
 },
 "nbformat": 4,
 "nbformat_minor": 2
}
