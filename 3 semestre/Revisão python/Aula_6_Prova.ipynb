{
 "cells": [
  {
   "cell_type": "markdown",
   "metadata": {},
   "source": [
    "# Nome: \n",
    "# RA: \n",
    "\n",
    "\n",
    "OBS_1: ``Todas as questões devem ter um texto formatado com a resposta, respostas somente os números perderão pontos``\n",
    "\n",
    "OBS_2: Para salvar este arquivo, basta pressionar as teclas `Ctrl` + `s`\n",
    "\n",
    "OBS_3: Ao finaizar a prova, salve o arquivo e me encaminhe por e_mail em `arthur.siqueira@ceub.edu.br`"
   ]
  },
  {
   "cell_type": "markdown",
   "metadata": {},
   "source": [
    "# Questão 1 - Cálculo do Imposto de Renda anual\n",
    "Fabiana é a responsável pelo marketing digital do NUBANK e recebe R$23000/Mês e o imposto de renda que incide sobre o salário dela é  de 27,8%. \n",
    "#\n",
    "``Determine quanto Fabiana paga anualmente de imposto de renda.``"
   ]
  },
  {
   "cell_type": "code",
   "execution_count": null,
   "metadata": {},
   "outputs": [],
   "source": [
    "# Desenvolva seucódigo aqui\n",
    "\n",
    "\n",
    "\n"
   ]
  },
  {
   "cell_type": "markdown",
   "metadata": {},
   "source": [
    "# Questão 2 - Distância máxima\n",
    "O carro de um viajante faz 14Km/Litro. Sabendo que o tanque do carro possui capacidade para 70 litros de combustível, calcule qual a distância máxima que este viajante consegue percorrer até acabar o combustível do carro.\n"
   ]
  },
  {
   "cell_type": "code",
   "execution_count": 30,
   "metadata": {},
   "outputs": [],
   "source": [
    "# Desenvolva seucódigo aqui\n",
    "\n",
    "\n",
    "\n"
   ]
  },
  {
   "cell_type": "markdown",
   "metadata": {},
   "source": [
    "# Questão 3 - Velocidade média\n",
    "Com base na distância máxima calculada na questão anterior, determine qual foi a velocidade média do carro do viajante, considerando que ele levou 9 horas para percorrer a distância calculada.\n",
    "\n",
    "OBS: Utilize a função round() para remover as casas decimais da velocidade média, se houver.\n",
    "\n"
   ]
  },
  {
   "cell_type": "code",
   "execution_count": null,
   "metadata": {},
   "outputs": [],
   "source": [
    "# Desenvolva seucódigo aqui\n",
    "\n",
    "\n",
    "\n"
   ]
  },
  {
   "cell_type": "markdown",
   "metadata": {},
   "source": [
    "# Questão 4 - Maior e menor número da lista_numeros\n",
    "\n",
    "Utilize os conhecimentos aprendidos em sala de aula a cerca de listas em python para determinar o maior número e o menor número presente na lista"
   ]
  },
  {
   "cell_type": "code",
   "execution_count": null,
   "metadata": {},
   "outputs": [],
   "source": [
    "lista_numeros = [11,15,67,34,87,3345,68,654,5489,15,15,158,231,87,6,-54,121,\n",
    "                981,981,548,45,56,85,0,1874,1,64,8,1,515,15,15,12,30,-330,2,\n",
    "                8781,520,1,8,-53,1,5,4,78,9560,20,68,76,15,18,15,34,72,15,7]\n",
    "# Desenvolva seucódigo aqui\n",
    "\n",
    "\n",
    "\n"
   ]
  },
  {
   "cell_type": "markdown",
   "metadata": {},
   "source": [
    "# Questão 5 - Texto de lista\n",
    "\n",
    "Utilize a lista_de_listas para exibir a frase: `Vou gabaritar minha primeira prova de Python!`"
   ]
  },
  {
   "cell_type": "code",
   "execution_count": null,
   "metadata": {},
   "outputs": [],
   "source": [
    "lista_de_listas = ['k', 5, ' ', ['Vou', 'Python', [2, 5, 7, ['!', 'minha']], 'prova', 'gabaritar', ['primeira'], 'de']]\n",
    "# Desenvolva seucódigo aqui\n",
    "\n",
    "\n",
    "\n",
    "\n"
   ]
  },
  {
   "cell_type": "markdown",
   "metadata": {},
   "source": [
    "# Questão 6 - Acrescentar valor no dicionário\n",
    "\n",
    "* Acrescente a chave ``local`` com o valor ``Brasília``, no dicionário que é o valor da chave cargo no dicionário pessoa;\n",
    "* Acrescente a chave `nacionalidade` com o valor `Brasileira`, no dicionário pessoa.\n"
   ]
  },
  {
   "cell_type": "code",
   "execution_count": null,
   "metadata": {},
   "outputs": [],
   "source": [
    "pessoa = {  'nome' : 'Gizele',\n",
    "            'idade' : 23,\n",
    "            'cargo' : { 'empresa' : 'Gazeta',\n",
    "                        'especificação' : 'Gerente de Marketing',\n",
    "                        'departamento' : 'Marketing Digital',\n",
    "                        'remuneração' : 18000\n",
    "                        }\n",
    "        }\n",
    "# Desenvolva seucódigo aqui\n",
    "\n",
    "\n",
    "\n",
    "\n"
   ]
  },
  {
   "cell_type": "markdown",
   "metadata": {},
   "source": [
    "# Questão 7 - Texto de dicionários e listas\n",
    "\n",
    "Utilize o meu_dicionario para exibir a frase: `Segunda questão de textos na prova!`"
   ]
  },
  {
   "cell_type": "code",
   "execution_count": null,
   "metadata": {},
   "outputs": [],
   "source": [
    "meu_dicionario = {  'chave1':{'outra_chave':['k', 'de', {'alguma_chave':[1,'textos']}, 'na']},\n",
    "                    'chave2':[12,'!','Segunda'],\n",
    "                    'chave3':['e', 'listas', 'questão',{'chave4':{'chave5':['dicionarios', ' ']}}, 'prova']}\n",
    "# Desenvolva seucódigo aqui\n",
    "\n",
    "\n",
    "\n",
    "\n"
   ]
  },
  {
   "cell_type": "markdown",
   "metadata": {},
   "source": [
    "# Questão 8  - Ano bisexto?\n",
    "\n",
    "* Crie uma variável ano e atribua o valor de algum ano à ela;\n",
    "* Use as estruturas condicionais if, elif e/ou else para exibir se o ano é ou não bisexto.\n",
    "#\n",
    "OBS: Ano bisexto é todo aquele perfeitamente divisível por 4\n",
    "\n",
    "Dica: Use a função MOD `%`"
   ]
  },
  {
   "cell_type": "code",
   "execution_count": null,
   "metadata": {},
   "outputs": [],
   "source": [
    "# Desenvolva seucódigo aqui\n",
    "\n",
    "\n",
    "\n",
    "\n"
   ]
  },
  {
   "cell_type": "markdown",
   "metadata": {},
   "source": [
    "# Questão 9 - Números divisíveis\n",
    "Escreva um programa que exiba todos os números entre 12516 e 17791 que são divisíveis por 14, por 8 e por 120."
   ]
  },
  {
   "cell_type": "code",
   "execution_count": null,
   "metadata": {},
   "outputs": [],
   "source": [
    "# Desenvolva seucódigo aqui\n",
    "\n",
    "\n",
    "\n",
    "\n"
   ]
  },
  {
   "cell_type": "markdown",
   "metadata": {},
   "source": [
    "# Questão 10 - Quantidade de valores\n",
    "\n",
    "Exiba um texto informando a quantidade de valores divisíveis por 3 e a quantidade de valores divisíveis por 12 presentes na lista_numeros\n"
   ]
  },
  {
   "cell_type": "code",
   "execution_count": null,
   "metadata": {},
   "outputs": [],
   "source": [
    "lista_numeros = [11,15,67,34,87,3345,68,654,5489,15,15,158,231,87,6,-54,121,\n",
    "                981,981,548,45,56,85,0,1874,1,64,8,1,515,15,15,12,30,-330,2,\n",
    "                8781,520,1,8,-53,1,5,4,78,9560,20,68,76,15,18,15,34,72,15,7]\n",
    "# Desenvolva seucódigo aqui\n",
    "\n",
    "\n",
    "\n",
    "\n"
   ]
  }
 ],
 "metadata": {
  "kernelspec": {
   "display_name": "Python 3.9.7 ('base')",
   "language": "python",
   "name": "python3"
  },
  "language_info": {
   "codemirror_mode": {
    "name": "ipython",
    "version": 3
   },
   "file_extension": ".py",
   "mimetype": "text/x-python",
   "name": "python",
   "nbconvert_exporter": "python",
   "pygments_lexer": "ipython3",
   "version": "3.9.7"
  },
  "orig_nbformat": 4,
  "vscode": {
   "interpreter": {
    "hash": "067f175f07fc265aa8d145419b6335739ee65af91da4abf8cfbfc48bca5c9b8b"
   }
  }
 },
 "nbformat": 4,
 "nbformat_minor": 2
}
