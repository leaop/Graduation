{
 "cells": [
  {
   "attachments": {},
   "cell_type": "markdown",
   "metadata": {},
   "source": [
    "## Relatório de dados\n",
    "\n",
    "\n",
    "**Análise exploratória de dados como molde de avaliação para a matéria de Gestão de dados do Uniceub**\n",
    "\n",
    "Relatório de EDA sobre dados da transparência do Governo Brasileiro\n",
    "\n",
    "**R.A**: 22200115\n",
    "**Nome**: Leão Pereira Neto\n",
    "\n"
   ]
  },
  {
   "cell_type": "code",
   "execution_count": 1,
   "metadata": {},
   "outputs": [],
   "source": [
    "#importação das bibliotecas necessários para todo o trabalho\n",
    "import requests\n",
    "import pandas as pd\n",
    "import json\n",
    "import seaborn as sns\n"
   ]
  }
 ],
 "metadata": {
  "kernelspec": {
   "display_name": "Python 3",
   "language": "python",
   "name": "python3"
  },
  "language_info": {
   "codemirror_mode": {
    "name": "ipython",
    "version": 3
   },
   "file_extension": ".py",
   "mimetype": "text/x-python",
   "name": "python",
   "nbconvert_exporter": "python",
   "pygments_lexer": "ipython3",
   "version": "3.11.3"
  },
  "orig_nbformat": 4
 },
 "nbformat": 4,
 "nbformat_minor": 2
}
