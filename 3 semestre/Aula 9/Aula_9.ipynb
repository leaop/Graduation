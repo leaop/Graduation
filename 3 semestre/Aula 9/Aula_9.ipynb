{
 "cells": [
  {
   "cell_type": "code",
   "execution_count": null,
   "metadata": {},
   "outputs": [],
   "source": [
    "# Importa a biblioteca pandas com o apelido de pd\n",
    "import pandas as pd"
   ]
  },
  {
   "cell_type": "code",
   "execution_count": null,
   "metadata": {},
   "outputs": [],
   "source": [
    "# Caso não tenha o pandas instalado na máquina, execute esta célula para instalar\n",
    "!pip install pandas\n",
    "\n",
    "# Geralmente o numpy já vem instalado, mas caso não esteja instalado,\n",
    "# basta realizar o mesmo comando com o numpy no lugar do pandas"
   ]
  },
  {
   "cell_type": "markdown",
   "metadata": {},
   "source": [
    "# Relembrando\n",
    "Vizualizar os dados"
   ]
  },
  {
   "cell_type": "code",
   "execution_count": null,
   "metadata": {},
   "outputs": [],
   "source": [
    "# Leitura da base de dados\n",
    "\n",
    "# Repare que chamamos o pandas por meio do pd\n",
    "# em seguida utilizamos a função read_csv para \n",
    "# especificar qual o arquivo desejamos que seja lido pelo pandas\n",
    "df = pd.read_csv('banco.csv')"
   ]
  },
  {
   "cell_type": "code",
   "execution_count": null,
   "metadata": {},
   "outputs": [],
   "source": [
    "# Exibir as 5 primeiras e 5 últimas linhas\n",
    "df"
   ]
  },
  {
   "cell_type": "code",
   "execution_count": null,
   "metadata": {},
   "outputs": [],
   "source": [
    "# Exibir as primeiras 5 linhas\n",
    "df.head()"
   ]
  },
  {
   "cell_type": "code",
   "execution_count": null,
   "metadata": {},
   "outputs": [],
   "source": [
    "# Exibir as primeiras 2 linhas\n",
    "df.head(2)"
   ]
  },
  {
   "cell_type": "code",
   "execution_count": null,
   "metadata": {},
   "outputs": [],
   "source": [
    "# Exibir as últimas 5 linhas\n",
    "df.tail()"
   ]
  },
  {
   "cell_type": "code",
   "execution_count": null,
   "metadata": {},
   "outputs": [],
   "source": [
    "# Exibir as 2 últimas Linhas\n",
    "df.tail(2)"
   ]
  },
  {
   "cell_type": "markdown",
   "metadata": {},
   "source": [
    "### Primeiras Informações da base de dados"
   ]
  },
  {
   "cell_type": "code",
   "execution_count": null,
   "metadata": {},
   "outputs": [],
   "source": [
    "# Exibe informações das colunas numéricas\n",
    "df.describe()"
   ]
  },
  {
   "cell_type": "code",
   "execution_count": null,
   "metadata": {},
   "outputs": [],
   "source": [
    "# Exibe uma descrição das colunas do tipo object\n",
    "df.describe(include = \"O\")\n",
    "# A primeira descrição 'count' é a quantidade de valores não nulos\n",
    "# A segunda descrição 'unique' informa quantos valores únicos existem nas colunas\n",
    "# A terceira descrição 'top' informa qual o valor que mais aparece na coluna\n",
    "# A quarta descrição 'freq' é em relação à frequência (quantidade de vezes) que o valor top aparece na coluna"
   ]
  },
  {
   "cell_type": "code",
   "execution_count": null,
   "metadata": {},
   "outputs": [],
   "source": [
    "df.info()\n",
    "# Repare que existem algumas linhas com valores nulos"
   ]
  },
  {
   "cell_type": "code",
   "execution_count": null,
   "metadata": {},
   "outputs": [],
   "source": [
    "# Quantidade de valores nulos por coluna\n",
    "df.isnull().sum() "
   ]
  },
  {
   "cell_type": "markdown",
   "metadata": {},
   "source": [
    "Verificar quantos valores nulos cada coluna possui é interessante, mas talvez verificar a porcentagem de valores nulos por coluna seja melhor para entender os valores nulos"
   ]
  },
  {
   "cell_type": "code",
   "execution_count": null,
   "metadata": {},
   "outputs": [],
   "source": [
    "# Porcentagem de valores nulos por coluna\n",
    "# Abaixo é realizada uma regra de 3 onde \n",
    "# a quantidade de valores nulos é dividida pela\n",
    "# quantidade de linhas do dataframe e multiplicado por 100\n",
    "# Resultando na porcentagem de valores nulos por coluna\n",
    "# Após a regra de 3, é utilizado a função round para exibir\n",
    "# 4 casas decimais\n",
    "round(df.isnull().sum() / len(df) * 100, 4)"
   ]
  },
  {
   "cell_type": "markdown",
   "metadata": {},
   "source": [
    "## Valores únicos\n",
    "\n",
    "Os valores únicos fazem referência à quantidade de valores que apresentam em uma mesma coluna e existem algumas funções para avaliar estes valores "
   ]
  },
  {
   "cell_type": "code",
   "execution_count": null,
   "metadata": {},
   "outputs": [],
   "source": [
    "# Para verificar a quantidade de valores únicos na coluna emprego\n",
    "df.emprego.nunique()"
   ]
  },
  {
   "cell_type": "code",
   "execution_count": null,
   "metadata": {},
   "outputs": [],
   "source": [
    "# Para verificar a os valores únicos na coluna emprego\n",
    "df.estado_civil.unique()\n",
    "# No python, quando um valor é nulo é representado por \n",
    "# NaN (Abreviação de Not a Number)"
   ]
  },
  {
   "cell_type": "code",
   "execution_count": null,
   "metadata": {},
   "outputs": [],
   "source": [
    "# Para verificar a os valores únicos na coluna emprego e a quantidade de aparições de cada valor\n",
    "df.estado_civil.value_counts()"
   ]
  },
  {
   "cell_type": "markdown",
   "metadata": {},
   "source": [
    "Importante ressaltar que os 3 métodos acima só podem ser utilizados com apenas uma coluna"
   ]
  },
  {
   "cell_type": "code",
   "execution_count": null,
   "metadata": {},
   "outputs": [],
   "source": [
    "# Verificar o tamanho do dataframe (Tabela)\n",
    "df.shape"
   ]
  },
  {
   "cell_type": "code",
   "execution_count": null,
   "metadata": {},
   "outputs": [],
   "source": [
    "# quantidade de colunas\n",
    "df.shape[1]"
   ]
  },
  {
   "cell_type": "code",
   "execution_count": null,
   "metadata": {},
   "outputs": [],
   "source": [
    "# quantidade de linhas\n",
    "df.shape[0]"
   ]
  },
  {
   "cell_type": "code",
   "execution_count": null,
   "metadata": {},
   "outputs": [],
   "source": [
    "# Existe outro método de verificar a quantidade de linhas do dataframe\n",
    "# é o mesmo método para verificar o tamanho de uma lista\n",
    "len(df)"
   ]
  },
  {
   "cell_type": "code",
   "execution_count": null,
   "metadata": {},
   "outputs": [],
   "source": [
    "# Listar as colunas do dataframe\n",
    "df.columns"
   ]
  },
  {
   "cell_type": "markdown",
   "metadata": {},
   "source": [
    "# Selecionar Colunas"
   ]
  },
  {
   "cell_type": "code",
   "execution_count": null,
   "metadata": {},
   "outputs": [],
   "source": [
    "# Para selecionar apenas uma coluna\n",
    "df.idade"
   ]
  },
  {
   "cell_type": "code",
   "execution_count": null,
   "metadata": {},
   "outputs": [],
   "source": [
    "# para selecionar uma ou mais colunas\n",
    "df[['idade','emprego','estado_civil']]"
   ]
  },
  {
   "cell_type": "markdown",
   "metadata": {},
   "source": [
    "# Index\n",
    "Cada linha da tabela possuí um index único (identificador único), ou seja, não existem index repetidos\n",
    "\n",
    "O index não chega a ser uma coluna, mas se comporta como uma, sendo ele a primeira \"coluna à esquerda da tabela\"\n",
    "\n",
    "Com o index nós podemos selecionar linhas específicas, ou conjunto de linha, semelhante ao que aprendemos em listas"
   ]
  },
  {
   "cell_type": "code",
   "execution_count": null,
   "metadata": {},
   "outputs": [],
   "source": [
    "# Exibe informações a respeito do index da tabela\n",
    "# Semelhante ao que aprendemos no loop for, temos o valor de início, fim e o passo do index\n",
    "df.index"
   ]
  },
  {
   "cell_type": "code",
   "execution_count": null,
   "metadata": {},
   "outputs": [],
   "source": [
    "# Para exibir o index podemos utilizar a função que o transforma em lista\n",
    "list(df.index)"
   ]
  },
  {
   "cell_type": "markdown",
   "metadata": {},
   "source": [
    "# Função iloc\n",
    "com esta função, define-se qual index deseja exibir, ou qual faixa de index deseja"
   ]
  },
  {
   "cell_type": "code",
   "execution_count": null,
   "metadata": {},
   "outputs": [],
   "source": [
    "# Exibir as 5 primeiras linhas da tabela\n",
    "df.head()"
   ]
  },
  {
   "cell_type": "code",
   "execution_count": null,
   "metadata": {},
   "outputs": [],
   "source": [
    "# Selecionando apenas um index, as informações serão exibidas em formato de lista\n",
    "\n",
    "# Seleciona as informações da tabela onde o index é 0\n",
    "df.iloc[0]"
   ]
  },
  {
   "cell_type": "code",
   "execution_count": null,
   "metadata": {},
   "outputs": [],
   "source": [
    "# Selecionando apenas um index, as informações serão exibidas em formato de lista\n",
    "\n",
    "# Seleciona as informações da dabela onde o index é 1\n",
    "df.iloc[1]"
   ]
  },
  {
   "cell_type": "code",
   "execution_count": null,
   "metadata": {},
   "outputs": [],
   "source": [
    "# Para selecionar mais de um index, utiliza-se a notação [index_inicial:index_final]\n",
    "# O index final não será exibido (semelhante com o que aprendemos em listas)\n",
    "df.iloc[0:1]"
   ]
  },
  {
   "cell_type": "code",
   "execution_count": null,
   "metadata": {},
   "outputs": [],
   "source": [
    "# Selecionando os valores de 0 até 5, serão exibidos os index de 0 até 4\n",
    "df.iloc[0:5]"
   ]
  },
  {
   "cell_type": "code",
   "execution_count": null,
   "metadata": {},
   "outputs": [],
   "source": [
    "# Outra forma de selecionar index é passando uma lista de index para a função iloc\n",
    "df.iloc[[0,2,4]]"
   ]
  },
  {
   "cell_type": "markdown",
   "metadata": {},
   "source": [
    "Isto que estamos fazendo é conhecido como slice (fatiar), pois estamos selecionando somente uma fatia dos dados\n",
    "\n",
    "Em muitos casos não é necessaŕio utilizar toda a base de dados, para isto, podemos criar uma nova variável para receber este slice (fatia)"
   ]
  },
  {
   "cell_type": "code",
   "execution_count": null,
   "metadata": {},
   "outputs": [],
   "source": [
    "# Cria a variável fatia que irá receber os valores com índice de 2 à 4\n",
    "fatia = df.iloc[2:5]\n",
    "\n",
    "# Exibe a variável fatia\n",
    "fatia "
   ]
  },
  {
   "cell_type": "code",
   "execution_count": null,
   "metadata": {},
   "outputs": [],
   "source": [
    "# Cria a variável fatia_2 que irá receber os valores com índice de 241 à 246\n",
    "fatia_2 = df.iloc[241:247]\n",
    "\n",
    "# Exibe a variável fatia_2\n",
    "fatia_2 "
   ]
  },
  {
   "cell_type": "markdown",
   "metadata": {},
   "source": [
    "# Selecionar linhas com o loc\n",
    "\n",
    "Assim como o iloc, nós podemos selecionar linhas com o loc, mas seu funcionamento não se da pelo index. No Loc, nós definimos para selecionar todos os registros que estejam de acordo com um determinado valor, em uma determinada coluna, ou seja, por exemplo, podemos selecionar todos os registros que possuemque possuem idade igual a 37\n",
    "\n",
    "Para usar o loc, utilizamos a seguinte sintaxe:\n",
    "* `df.loc[df['nome_da_coluna'] == valor_desejado]` "
   ]
  },
  {
   "cell_type": "code",
   "execution_count": null,
   "metadata": {},
   "outputs": [],
   "source": [
    "# Selecionar todos os registros com iade igual a 37\n",
    "df.loc[df['idade'] == 38]"
   ]
  },
  {
   "cell_type": "markdown",
   "metadata": {},
   "source": [
    "Assim como vimos anteriormente, podemos usar a função .shape[0] para receber quantos registros existem para o determinado filtro"
   ]
  },
  {
   "cell_type": "code",
   "execution_count": null,
   "metadata": {},
   "outputs": [],
   "source": [
    "# Selecionar a quantidade de registros com iade igual a 37\n",
    "df.loc[df['idade'] == 37].shape[0]"
   ]
  },
  {
   "cell_type": "markdown",
   "metadata": {},
   "source": [
    "Também podemos usar a função loc com os valores textuais"
   ]
  },
  {
   "cell_type": "code",
   "execution_count": null,
   "metadata": {},
   "outputs": [],
   "source": [
    "# Selecionar todos os registros com o estado civil divorciado\n",
    "df.loc[df['estado_civil'] == 'divorced']"
   ]
  },
  {
   "cell_type": "code",
   "execution_count": null,
   "metadata": {},
   "outputs": [],
   "source": [
    "# Selecionar a quantidade de registros com o estado civil divorciado\n",
    "df.loc[df['estado_civil'] == 'divorced'].shape[0]"
   ]
  },
  {
   "cell_type": "code",
   "execution_count": null,
   "metadata": {},
   "outputs": [],
   "source": [
    "# Para tirar a prova real, usamos a função value_counts \n",
    "# para contar a quantidade de vezes que cada\n",
    "# valor aparece na coluna estado_civil\n",
    "df.estado_civil.value_counts()"
   ]
  },
  {
   "cell_type": "markdown",
   "metadata": {},
   "source": [
    "# Outra funcionalidade da função loc\n",
    "\n",
    "Com o loc, podemos passar mais alguns parâmetros, permitindo mudar valores nas linhas em que o filtro selecionou. Veja o exemplo para ficar mais claro para `Alterar os valores da coluna estado_civil`"
   ]
  },
  {
   "cell_type": "code",
   "execution_count": null,
   "metadata": {},
   "outputs": [],
   "source": [
    "# Primeiro, vamos verificar quais são os valores únicos da coluna emprego\n",
    "df.emprego.unique()"
   ]
  },
  {
   "cell_type": "code",
   "execution_count": null,
   "metadata": {},
   "outputs": [],
   "source": [
    "# Seleciona todos os registros com o valor retired em emprego\n",
    "df.loc[df['emprego'] == 'retired']"
   ]
  },
  {
   "cell_type": "code",
   "execution_count": null,
   "metadata": {},
   "outputs": [],
   "source": [
    "# após realizar o filtro selecionando os registros que possuem o valor 'married'\n",
    "# Colocamos uma vírgula e selecionamos qual coluna desejamos realizar a alteração\n",
    "# Neste caso selecionamos a própria coluna estado_civil, mas poderia ser qualquer \n",
    "# outra coluna.\n",
    "# Após definir a coluna, fechamos o colchetes e, com o sinal de igual, definimos\n",
    "# Qual será o novo valor para a coluna estado_civil onde os registros eram 'married'\n",
    "df.loc[df['emprego'] == 'retired','emprego'] = 'Aposentado'"
   ]
  },
  {
   "cell_type": "code",
   "execution_count": null,
   "metadata": {},
   "outputs": [],
   "source": [
    "# Verificando novamente os valores presentes na coluna estado_civil\n",
    "# Repare que não existe mais o valor married, pois todos os registros \n",
    "# Que possuiam este valor foram alterados para 'Casado'\n",
    "df.emprego.unique()"
   ]
  },
  {
   "cell_type": "markdown",
   "metadata": {},
   "source": [
    "# Valores nulos\n",
    "Voltando a falar de valores nulos, nas colunas em que existem valores nulos, existem algumas observações a serem feitas:\n",
    "* Qual o tipo de dados da coluna\n",
    "* O que a coluna representa\n",
    "* Qual a porcentagem de dados nulos"
   ]
  },
  {
   "cell_type": "code",
   "execution_count": null,
   "metadata": {},
   "outputs": [],
   "source": [
    "# Porcentagem de valores nulos por coluna\n",
    "round(df.isnull().sum() / len(df) * 100, 4)"
   ]
  },
  {
   "cell_type": "markdown",
   "metadata": {},
   "source": [
    "Na base de dados, existem 4 colunas com alguns valores nulos.\n",
    "Destas, as colunas com valores numéricos são:\n",
    "* idade;\n",
    "* duracão;\n",
    "* qtd_contato.\n",
    "\n",
    "E a coluna estado_civil é do tipo textual\n",
    "\n",
    "Nas colunas com tipo de dados numéricos, podemos utilizar 3 abordagens:\n",
    "* 1 - Se forem poucos dados nulos, apagar os registros com estes dados;\n",
    "* 2 - Se for uma quantidade considerável de dados podemos:\n",
    "    * 2.1 - Substituir os valores nulos pela média da coluna;\n",
    "    * 2.1 - Substituir os valores nulos pela mediana da coluna;\n",
    "    * 2.1 - Substituir os valores nulos pela moda da coluna.\n",
    "* 3 - Se forem muitos dados nulos, apagar a coluna.\n",
    "\n",
    "Nas colunas com tipo de dados textual, podemos utilizar 3 abordagens:\n",
    "* 1 - Se forem poucos dados nulos, apagar os registros com estes dados;\n",
    "* 2 - Se for uma quantidade considerável de dados podemos substituir os valores nulos pela moda da coluna;\n",
    "* 3 - Se forem muitos dados nulos, apagar a coluna.\n",
    "\n",
    "O que é média, mediana e moda:\n",
    "* Média - é a soma de todos os valores, dividido pela quantidade de valores somados\n",
    "* Mediana - considerando a lista de valores em ordem crescente, é o valor central da lista\n",
    "* Moda - é o valor que mais aparece na coluna\n",
    "\n",
    "Para fazer as alterações nos valores nulos podemos usar a função loc, se for alterar os valores, ou drop se for apagar a coluna.\n",
    "No caso da função loc, não utilizamos um sinal de igualdade para verificar os valores nulos e sim, usamos o .isnull()\n"
   ]
  },
  {
   "cell_type": "markdown",
   "metadata": {},
   "source": [
    "### Coluna numérica abordagem 1 - Apagar as linhas.\n",
    "Como na coluna idade não temos nem 0,2% de registros nulos, é aceitável que se exclua tais registros (Poderíamos utilizar os outros métodos também)"
   ]
  },
  {
   "cell_type": "code",
   "execution_count": null,
   "metadata": {},
   "outputs": [],
   "source": [
    "# Exibe todos os registros com valores nulos na coluna idade\n",
    "df.loc[df['idade'].isnull()]"
   ]
  },
  {
   "cell_type": "code",
   "execution_count": null,
   "metadata": {},
   "outputs": [],
   "source": [
    "# Retornamos uma lista com o index de todos os\n",
    "# registros onde a idade é nula \n",
    "df.loc[df['idade'].isnull()].index"
   ]
  },
  {
   "cell_type": "code",
   "execution_count": null,
   "metadata": {},
   "outputs": [],
   "source": [
    "# Ao executar o código abaixo foram removidos todos os registros \n",
    "# Que possuiam a idade nula\n",
    "df.drop(df.loc[df['idade'].isnull()].index, inplace=True)"
   ]
  },
  {
   "cell_type": "code",
   "execution_count": null,
   "metadata": {},
   "outputs": [],
   "source": [
    "# Exibe todos os registros com valores nulos na coluna idade\n",
    "df.loc[df['idade'].isnull()]"
   ]
  },
  {
   "cell_type": "code",
   "execution_count": null,
   "metadata": {},
   "outputs": [],
   "source": [
    "# Porcentagem de valores nulos por coluna\n",
    "round(df.isnull().sum() / len(df) * 100, 4)"
   ]
  },
  {
   "cell_type": "markdown",
   "metadata": {},
   "source": [
    "### Coluna numérica abordagem 2 - substituir valores nulos por média, mediana ou moda"
   ]
  },
  {
   "cell_type": "code",
   "execution_count": null,
   "metadata": {},
   "outputs": [],
   "source": [
    "df.duracao.mean()"
   ]
  },
  {
   "cell_type": "markdown",
   "metadata": {},
   "source": [
    "Importante notar que, a média, geralmente será um valor com casas decimais e, a depender da coluna, devemos remover as casas decimais com a função round.\n",
    "\n",
    "Por exemplo, a coluna duracao representa quantos dias o cliente tem conta no banco, então não podemos ter que o cliente possui conta há 400.64843 dias..."
   ]
  },
  {
   "cell_type": "code",
   "execution_count": null,
   "metadata": {},
   "outputs": [],
   "source": [
    "df.duracao.median()"
   ]
  },
  {
   "cell_type": "code",
   "execution_count": null,
   "metadata": {},
   "outputs": [],
   "source": [
    "# Ao exibir a moda, talvez sejam exibidos alguns valores \n",
    "# com a mesma quantidade de ocorrência\n",
    "df.duracao.mode()"
   ]
  },
  {
   "cell_type": "markdown",
   "metadata": {},
   "source": [
    "Analisando o resultado a cima, averiguamos que os valores 119, 158 e 161 aparecem na base de dados a exata mesma quantidade de vezes, mara verificar isto podemos utilizar a função value_counts(), que retorna em ordem decrescente, os valores que mais aparecem"
   ]
  },
  {
   "cell_type": "code",
   "execution_count": null,
   "metadata": {},
   "outputs": [],
   "source": [
    "df.duracao.value_counts()\n",
    "# Aqui verificamos que os 3 valores aparecem 37 vezes."
   ]
  },
  {
   "cell_type": "markdown",
   "metadata": {},
   "source": [
    "Fica a critério do desenvolvedor, caso vá usar a moda, selecionar qual dos 3 valores irá utilizar para substituir os valores nulos"
   ]
  },
  {
   "cell_type": "markdown",
   "metadata": {},
   "source": [
    "### Coluna numérica abordagem 2.1 - substituir valores nulos por média"
   ]
  },
  {
   "cell_type": "code",
   "execution_count": null,
   "metadata": {},
   "outputs": [],
   "source": [
    "# Retorna a média da coluna\n",
    "df['duracao'].mean()"
   ]
  },
  {
   "cell_type": "code",
   "execution_count": null,
   "metadata": {},
   "outputs": [],
   "source": [
    "# Retorna a média arredondada sem casas decimais da coluna\n",
    "round(df['duracao'].mean())"
   ]
  },
  {
   "cell_type": "code",
   "execution_count": null,
   "metadata": {},
   "outputs": [],
   "source": [
    "# Exibe todos os registros com valores nulos na coluna duracao\n",
    "df.loc[df['duracao'].isnull()]"
   ]
  },
  {
   "cell_type": "code",
   "execution_count": null,
   "metadata": {},
   "outputs": [],
   "source": [
    "# Altera todos os registros com valores núlos da coluna duração para a média arredondada da coluna\n",
    "df.loc[df['duracao'].isnull(), 'duracao'] = round(df['duracao'].mean())"
   ]
  },
  {
   "cell_type": "code",
   "execution_count": null,
   "metadata": {},
   "outputs": [],
   "source": [
    "# Exibe todos os registros com valores nulos na coluna duracao\n",
    "df.loc[df['duracao'].isnull()]"
   ]
  },
  {
   "cell_type": "code",
   "execution_count": null,
   "metadata": {},
   "outputs": [],
   "source": [
    "# Porcentagem de valores nulos por coluna\n",
    "round(df.isnull().sum() / len(df) * 100, 4)"
   ]
  },
  {
   "cell_type": "markdown",
   "metadata": {},
   "source": [
    "### Coluna numérica abordagem 2.3 - substituir valores nulos pela moda\n",
    "Analisando a porcentagem de valores núlos por coluna, ainda temos a coluna numérica qtd_contato"
   ]
  },
  {
   "cell_type": "code",
   "execution_count": null,
   "metadata": {},
   "outputs": [],
   "source": [
    "# Neste caso só existe uma moda, que é o valor 1\n",
    "df.qtd_contato.mode()"
   ]
  },
  {
   "cell_type": "markdown",
   "metadata": {},
   "source": [
    "para retornar o valor propriamente dito com a função mode, usamos algum método para selecionar o valor, como, por exemplo, pegar o index do valor (sempre será zero), pegar o maior valor com a função max() ou o menor com a função min() "
   ]
  },
  {
   "cell_type": "code",
   "execution_count": null,
   "metadata": {},
   "outputs": [],
   "source": [
    "df.qtd_contato.mode()[0]"
   ]
  },
  {
   "cell_type": "code",
   "execution_count": null,
   "metadata": {},
   "outputs": [],
   "source": [
    "df.qtd_contato.mode().max()"
   ]
  },
  {
   "cell_type": "code",
   "execution_count": null,
   "metadata": {},
   "outputs": [],
   "source": [
    "df.qtd_contato.mode().min()"
   ]
  },
  {
   "cell_type": "code",
   "execution_count": null,
   "metadata": {},
   "outputs": [],
   "source": [
    "# Exibe todos os registros com valores nulos na coluna qtd_contato\n",
    "df.loc[df['qtd_contato'].isnull()]"
   ]
  },
  {
   "cell_type": "code",
   "execution_count": null,
   "metadata": {},
   "outputs": [],
   "source": [
    "# Altera todos os registros com valores núlos da coluna duração para a moda da coluna\n",
    "df.loc[df['qtd_contato'].isnull(), 'qtd_contato'] = df.qtd_contato.mode()[0]"
   ]
  },
  {
   "cell_type": "code",
   "execution_count": null,
   "metadata": {},
   "outputs": [],
   "source": [
    "# Exibe todos os registros com valores nulos na coluna qtd_contato\n",
    "df.loc[df['qtd_contato'].isnull()]"
   ]
  },
  {
   "cell_type": "code",
   "execution_count": null,
   "metadata": {},
   "outputs": [],
   "source": [
    "# Porcentagem de valores nulos por coluna\n",
    "round(df.isnull().sum() / len(df) * 100, 4)"
   ]
  },
  {
   "cell_type": "markdown",
   "metadata": {},
   "source": [
    "### Coluna de valores textuais \n",
    "Na coluna estado_civil temos quase 90% de dados nulos, o melhor que podemos fazer é apagar a coluna, mas, se fossem poucos dados núlos, poderíamos excluir somente as linhas com valores nulos nesta coluna e, ou usar a moda para atribuir o valor que mais aparece na coluna aos valores nulos"
   ]
  },
  {
   "cell_type": "code",
   "execution_count": null,
   "metadata": {},
   "outputs": [],
   "source": [
    "# Apenas para exibir a moda da coluna textual, \n",
    "# mas não iremos utilizá-la\n",
    "df.estado_civil.mode()"
   ]
  },
  {
   "cell_type": "code",
   "execution_count": null,
   "metadata": {},
   "outputs": [],
   "source": [
    "df.estado_civil.mode()[0]"
   ]
  },
  {
   "cell_type": "code",
   "execution_count": null,
   "metadata": {},
   "outputs": [],
   "source": [
    "# Desta forma apenas exibimos a tabela sem a coluna estado_civil\n",
    "# Devido ao parâmetro inplace ser False\n",
    "df.drop('estado_civil', inplace=False, axis=1)"
   ]
  },
  {
   "cell_type": "code",
   "execution_count": null,
   "metadata": {},
   "outputs": [],
   "source": [
    "# Desta forma apagamos definitivamente a coluna estado_civil\n",
    "df.drop('estado_civil', inplace=True, axis=1)"
   ]
  },
  {
   "cell_type": "code",
   "execution_count": null,
   "metadata": {},
   "outputs": [],
   "source": [
    "# Porcentagem de valores nulos por coluna\n",
    "# Repare que não temos mais a coluna estado_civil\n",
    "# E também temos todas as colunas sem valores nulos\n",
    "round(df.isnull().sum() / len(df) * 100, 4)"
   ]
  },
  {
   "cell_type": "markdown",
   "metadata": {},
   "source": [
    "# Salvar alterações\n",
    "\n",
    "Diferente de uma planilha excel que nós abrimos o arquivo, editamos e salvamos o mesmo arquivo, no python toda alteração realizada na tabela não será salva até que utilize o comando para salvar as alterações.\n",
    "\n",
    "Para o comando que salva as alterações, é necessário definir um nome para o arquivo. Podemos definir o nome igual ao do arquivo original, o que acarretaria em substituir o arquivo original pelo arquivo alterado, então, por padrão, definimos um nome diferente do original e intuitivo.\n",
    "\n",
    "Outro ponto importante, por padrão, ao salvar a DataFrame alterado, será criada uma coluna com o index dos registros. Para evitar que isto aconteça, é necessário que chame o parâmetro `index e selecione False`."
   ]
  },
  {
   "cell_type": "code",
   "execution_count": null,
   "metadata": {},
   "outputs": [],
   "source": [
    "df.to_csv('banco_alterado_sem_dados_nulos.csv', index = False)"
   ]
  },
  {
   "cell_type": "markdown",
   "metadata": {},
   "source": [
    "# Exercício\n",
    "\n",
    "Quem finalizar o exercício e me explicar o que foi feito em cada coluna ganhará ponto extra"
   ]
  },
  {
   "cell_type": "markdown",
   "metadata": {},
   "source": [
    "1 - importe a biblioteca pandas com apelido pd\n",
    "\n",
    "2 - Crie uma variável para receber o banco de dados 'banco_exercicio.csv'\n",
    "\n",
    "3 - Faça uma análise inicial a respeito da base de dados\n",
    "\n",
    "4 - Analise o tipo de dados das colunas que possuem valores nulos\n",
    "\n",
    "5 - Realize o tratamento da base de dados para que nenhuma coluna possua valores nulos\n",
    "\n",
    "6 - Salve a base de dados com o nome 'banco_exercicios_tratado.csv' e sem o index\n",
    "\n",
    "\n",
    "Obs: utilize os blocos de código abaixo para realizar isto. Caso necessário, pode criar mais blocos de código"
   ]
  },
  {
   "cell_type": "code",
   "execution_count": null,
   "metadata": {},
   "outputs": [],
   "source": []
  },
  {
   "cell_type": "code",
   "execution_count": null,
   "metadata": {},
   "outputs": [],
   "source": []
  },
  {
   "cell_type": "code",
   "execution_count": null,
   "metadata": {},
   "outputs": [],
   "source": []
  },
  {
   "cell_type": "code",
   "execution_count": null,
   "metadata": {},
   "outputs": [],
   "source": []
  },
  {
   "cell_type": "code",
   "execution_count": null,
   "metadata": {},
   "outputs": [],
   "source": []
  },
  {
   "cell_type": "code",
   "execution_count": null,
   "metadata": {},
   "outputs": [],
   "source": []
  },
  {
   "cell_type": "code",
   "execution_count": null,
   "metadata": {},
   "outputs": [],
   "source": []
  },
  {
   "cell_type": "code",
   "execution_count": null,
   "metadata": {},
   "outputs": [],
   "source": []
  },
  {
   "cell_type": "code",
   "execution_count": null,
   "metadata": {},
   "outputs": [],
   "source": []
  },
  {
   "cell_type": "code",
   "execution_count": null,
   "metadata": {},
   "outputs": [],
   "source": []
  },
  {
   "cell_type": "code",
   "execution_count": null,
   "metadata": {},
   "outputs": [],
   "source": []
  },
  {
   "cell_type": "code",
   "execution_count": null,
   "metadata": {},
   "outputs": [],
   "source": []
  },
  {
   "cell_type": "code",
   "execution_count": null,
   "metadata": {},
   "outputs": [],
   "source": []
  },
  {
   "cell_type": "code",
   "execution_count": null,
   "metadata": {},
   "outputs": [],
   "source": []
  },
  {
   "cell_type": "code",
   "execution_count": null,
   "metadata": {},
   "outputs": [],
   "source": []
  },
  {
   "cell_type": "code",
   "execution_count": null,
   "metadata": {},
   "outputs": [],
   "source": []
  },
  {
   "cell_type": "code",
   "execution_count": null,
   "metadata": {},
   "outputs": [],
   "source": []
  },
  {
   "cell_type": "code",
   "execution_count": null,
   "metadata": {},
   "outputs": [],
   "source": []
  },
  {
   "cell_type": "code",
   "execution_count": null,
   "metadata": {},
   "outputs": [],
   "source": []
  },
  {
   "cell_type": "code",
   "execution_count": null,
   "metadata": {},
   "outputs": [],
   "source": []
  },
  {
   "cell_type": "code",
   "execution_count": null,
   "metadata": {},
   "outputs": [],
   "source": []
  },
  {
   "cell_type": "code",
   "execution_count": null,
   "metadata": {},
   "outputs": [],
   "source": []
  },
  {
   "cell_type": "code",
   "execution_count": null,
   "metadata": {},
   "outputs": [],
   "source": []
  },
  {
   "cell_type": "code",
   "execution_count": null,
   "metadata": {},
   "outputs": [],
   "source": []
  },
  {
   "cell_type": "code",
   "execution_count": null,
   "metadata": {},
   "outputs": [],
   "source": []
  },
  {
   "cell_type": "code",
   "execution_count": null,
   "metadata": {},
   "outputs": [],
   "source": []
  },
  {
   "cell_type": "code",
   "execution_count": null,
   "metadata": {},
   "outputs": [],
   "source": []
  },
  {
   "cell_type": "code",
   "execution_count": null,
   "metadata": {},
   "outputs": [],
   "source": []
  }
 ],
 "metadata": {
  "kernelspec": {
   "display_name": "Python 3.9.7 ('base')",
   "language": "python",
   "name": "python3"
  },
  "language_info": {
   "codemirror_mode": {
    "name": "ipython",
    "version": 3
   },
   "file_extension": ".py",
   "mimetype": "text/x-python",
   "name": "python",
   "nbconvert_exporter": "python",
   "pygments_lexer": "ipython3",
   "version": "3.9.7"
  },
  "orig_nbformat": 4,
  "vscode": {
   "interpreter": {
    "hash": "067f175f07fc265aa8d145419b6335739ee65af91da4abf8cfbfc48bca5c9b8b"
   }
  }
 },
 "nbformat": 4,
 "nbformat_minor": 2
}
